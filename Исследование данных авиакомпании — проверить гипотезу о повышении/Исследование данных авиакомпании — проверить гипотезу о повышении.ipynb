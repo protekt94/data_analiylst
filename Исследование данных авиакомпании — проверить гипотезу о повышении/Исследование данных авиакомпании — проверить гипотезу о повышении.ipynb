{
 "cells": [
  {
   "cell_type": "markdown",
   "metadata": {
    "toc": true
   },
   "source": [
    "<h1>Содержание<span class=\"tocSkip\"></span></h1>\n",
    "<div class=\"toc\"><ul class=\"toc-item\"><li><span><a href=\"#Изучение-данных\" data-toc-modified-id=\"Изучение-данных-1\"><span class=\"toc-item-num\">1&nbsp;&nbsp;</span>Изучение данных</a></span><ul class=\"toc-item\"><li><span><a href=\"#Вывел-данные\" data-toc-modified-id=\"Вывел-данные-1.1\"><span class=\"toc-item-num\">1.1&nbsp;&nbsp;</span>Вывел данные</a></span></li></ul></li><li><span><a href=\"#Исследовательский-анализ-данных\" data-toc-modified-id=\"Исследовательский-анализ-данных-2\"><span class=\"toc-item-num\">2&nbsp;&nbsp;</span>Исследовательский анализ данных</a></span><ul class=\"toc-item\"><li><span><a href=\"#Топ-10-городов\" data-toc-modified-id=\"Топ-10-городов-2.1\"><span class=\"toc-item-num\">2.1&nbsp;&nbsp;</span>Топ 10 городов</a></span></li><li><span><a href=\"#Графики\" data-toc-modified-id=\"Графики-2.2\"><span class=\"toc-item-num\">2.2&nbsp;&nbsp;</span>Графики</a></span><ul class=\"toc-item\"><li><span><a href=\"#График-отношения-модели-самолетов-к-количеству-рейсов\" data-toc-modified-id=\"График-отношения-модели-самолетов-к-количеству-рейсов-2.2.1\"><span class=\"toc-item-num\">2.2.1&nbsp;&nbsp;</span>График отношения модели самолетов к количеству рейсов</a></span></li><li><span><a href=\"#График-отношения-городов-к-количеству-рейсов\" data-toc-modified-id=\"График-отношения-городов-к-количеству-рейсов-2.2.2\"><span class=\"toc-item-num\">2.2.2&nbsp;&nbsp;</span>График отношения городов к количеству рейсов</a></span></li><li><span><a href=\"#График-отношения-топ-10-городов-к-количеству-рейсов\" data-toc-modified-id=\"График-отношения-топ-10-городов-к-количеству-рейсов-2.2.3\"><span class=\"toc-item-num\">2.2.3&nbsp;&nbsp;</span>График отношения топ 10 городов к количеству рейсов</a></span></li></ul></li></ul></li><li><span><a href=\"#Вывод\" data-toc-modified-id=\"Вывод-3\"><span class=\"toc-item-num\">3&nbsp;&nbsp;</span>Вывод</a></span></li></ul></div>"
   ]
  },
  {
   "cell_type": "markdown",
   "metadata": {},
   "source": [
    "# Аналитика в авиакомпании\n"
   ]
  },
  {
   "cell_type": "markdown",
   "metadata": {},
   "source": [
    "## Изучение данных"
   ]
  },
  {
   "cell_type": "code",
   "execution_count": 1,
   "metadata": {},
   "outputs": [],
   "source": [
    "import pandas as pd\n",
    "import math as mt\n",
    "import matplotlib.pyplot as plt\n",
    "import numpy as np\n",
    "from scipy import stats as st\n",
    "import seaborn as sns\n",
    "df_m=pd.read_csv('/datasets/query_1.csv')\n",
    "df_c = pd.read_csv('/datasets/query_3.csv')"
   ]
  },
  {
   "cell_type": "markdown",
   "metadata": {},
   "source": [
    "### Вывел данные "
   ]
  },
  {
   "cell_type": "code",
   "execution_count": 2,
   "metadata": {},
   "outputs": [
    {
     "data": {
      "text/html": [
       "<div>\n",
       "<style scoped>\n",
       "    .dataframe tbody tr th:only-of-type {\n",
       "        vertical-align: middle;\n",
       "    }\n",
       "\n",
       "    .dataframe tbody tr th {\n",
       "        vertical-align: top;\n",
       "    }\n",
       "\n",
       "    .dataframe thead th {\n",
       "        text-align: right;\n",
       "    }\n",
       "</style>\n",
       "<table border=\"1\" class=\"dataframe\">\n",
       "  <thead>\n",
       "    <tr style=\"text-align: right;\">\n",
       "      <th></th>\n",
       "      <th>model</th>\n",
       "      <th>flights_amount</th>\n",
       "    </tr>\n",
       "  </thead>\n",
       "  <tbody>\n",
       "    <tr>\n",
       "      <td>0</td>\n",
       "      <td>Airbus A319-100</td>\n",
       "      <td>607</td>\n",
       "    </tr>\n",
       "    <tr>\n",
       "      <td>1</td>\n",
       "      <td>Airbus A321-200</td>\n",
       "      <td>960</td>\n",
       "    </tr>\n",
       "    <tr>\n",
       "      <td>2</td>\n",
       "      <td>Boeing 737-300</td>\n",
       "      <td>630</td>\n",
       "    </tr>\n",
       "    <tr>\n",
       "      <td>3</td>\n",
       "      <td>Boeing 767-300</td>\n",
       "      <td>600</td>\n",
       "    </tr>\n",
       "    <tr>\n",
       "      <td>4</td>\n",
       "      <td>Boeing 777-300</td>\n",
       "      <td>300</td>\n",
       "    </tr>\n",
       "    <tr>\n",
       "      <td>5</td>\n",
       "      <td>Bombardier CRJ-200</td>\n",
       "      <td>4446</td>\n",
       "    </tr>\n",
       "    <tr>\n",
       "      <td>6</td>\n",
       "      <td>Cessna 208 Caravan</td>\n",
       "      <td>4557</td>\n",
       "    </tr>\n",
       "    <tr>\n",
       "      <td>7</td>\n",
       "      <td>Sukhoi SuperJet-100</td>\n",
       "      <td>4185</td>\n",
       "    </tr>\n",
       "  </tbody>\n",
       "</table>\n",
       "</div>"
      ],
      "text/plain": [
       "                 model  flights_amount\n",
       "0      Airbus A319-100             607\n",
       "1      Airbus A321-200             960\n",
       "2       Boeing 737-300             630\n",
       "3       Boeing 767-300             600\n",
       "4       Boeing 777-300             300\n",
       "5   Bombardier CRJ-200            4446\n",
       "6   Cessna 208 Caravan            4557\n",
       "7  Sukhoi SuperJet-100            4185"
      ]
     },
     "metadata": {},
     "output_type": "display_data"
    },
    {
     "name": "stdout",
     "output_type": "stream",
     "text": [
      "<class 'pandas.core.frame.DataFrame'>\n",
      "RangeIndex: 8 entries, 0 to 7\n",
      "Data columns (total 2 columns):\n",
      "model             8 non-null object\n",
      "flights_amount    8 non-null int64\n",
      "dtypes: int64(1), object(1)\n",
      "memory usage: 256.0+ bytes\n"
     ]
    },
    {
     "data": {
      "text/html": [
       "<div>\n",
       "<style scoped>\n",
       "    .dataframe tbody tr th:only-of-type {\n",
       "        vertical-align: middle;\n",
       "    }\n",
       "\n",
       "    .dataframe tbody tr th {\n",
       "        vertical-align: top;\n",
       "    }\n",
       "\n",
       "    .dataframe thead th {\n",
       "        text-align: right;\n",
       "    }\n",
       "</style>\n",
       "<table border=\"1\" class=\"dataframe\">\n",
       "  <thead>\n",
       "    <tr style=\"text-align: right;\">\n",
       "      <th></th>\n",
       "      <th>count</th>\n",
       "      <th>mean</th>\n",
       "      <th>std</th>\n",
       "      <th>min</th>\n",
       "      <th>25%</th>\n",
       "      <th>50%</th>\n",
       "      <th>75%</th>\n",
       "      <th>max</th>\n",
       "    </tr>\n",
       "  </thead>\n",
       "  <tbody>\n",
       "    <tr>\n",
       "      <td>flights_amount</td>\n",
       "      <td>8.0</td>\n",
       "      <td>2035.625</td>\n",
       "      <td>1965.203947</td>\n",
       "      <td>300.0</td>\n",
       "      <td>605.25</td>\n",
       "      <td>795.0</td>\n",
       "      <td>4250.25</td>\n",
       "      <td>4557.0</td>\n",
       "    </tr>\n",
       "  </tbody>\n",
       "</table>\n",
       "</div>"
      ],
      "text/plain": [
       "                count      mean          std    min     25%    50%      75%  \\\n",
       "flights_amount    8.0  2035.625  1965.203947  300.0  605.25  795.0  4250.25   \n",
       "\n",
       "                   max  \n",
       "flights_amount  4557.0  "
      ]
     },
     "metadata": {},
     "output_type": "display_data"
    }
   ],
   "source": [
    "display(df_m)\n",
    "df_m.info()\n",
    "display(df_m.describe().T)"
   ]
  },
  {
   "cell_type": "code",
   "execution_count": 3,
   "metadata": {},
   "outputs": [
    {
     "data": {
      "text/html": [
       "<div>\n",
       "<style scoped>\n",
       "    .dataframe tbody tr th:only-of-type {\n",
       "        vertical-align: middle;\n",
       "    }\n",
       "\n",
       "    .dataframe tbody tr th {\n",
       "        vertical-align: top;\n",
       "    }\n",
       "\n",
       "    .dataframe thead th {\n",
       "        text-align: right;\n",
       "    }\n",
       "</style>\n",
       "<table border=\"1\" class=\"dataframe\">\n",
       "  <thead>\n",
       "    <tr style=\"text-align: right;\">\n",
       "      <th></th>\n",
       "      <th>city</th>\n",
       "      <th>average_flights</th>\n",
       "    </tr>\n",
       "  </thead>\n",
       "  <tbody>\n",
       "    <tr>\n",
       "      <td>0</td>\n",
       "      <td>Абакан</td>\n",
       "      <td>3.870968</td>\n",
       "    </tr>\n",
       "    <tr>\n",
       "      <td>1</td>\n",
       "      <td>Анадырь</td>\n",
       "      <td>1.000000</td>\n",
       "    </tr>\n",
       "    <tr>\n",
       "      <td>2</td>\n",
       "      <td>Анапа</td>\n",
       "      <td>2.161290</td>\n",
       "    </tr>\n",
       "    <tr>\n",
       "      <td>3</td>\n",
       "      <td>Архангельск</td>\n",
       "      <td>5.354839</td>\n",
       "    </tr>\n",
       "    <tr>\n",
       "      <td>4</td>\n",
       "      <td>Астрахань</td>\n",
       "      <td>2.451613</td>\n",
       "    </tr>\n",
       "    <tr>\n",
       "      <td>...</td>\n",
       "      <td>...</td>\n",
       "      <td>...</td>\n",
       "    </tr>\n",
       "    <tr>\n",
       "      <td>96</td>\n",
       "      <td>Чита</td>\n",
       "      <td>1.580645</td>\n",
       "    </tr>\n",
       "    <tr>\n",
       "      <td>97</td>\n",
       "      <td>Элиста</td>\n",
       "      <td>4.870968</td>\n",
       "    </tr>\n",
       "    <tr>\n",
       "      <td>98</td>\n",
       "      <td>Южно-Сахалинск</td>\n",
       "      <td>4.290323</td>\n",
       "    </tr>\n",
       "    <tr>\n",
       "      <td>99</td>\n",
       "      <td>Якутск</td>\n",
       "      <td>2.741935</td>\n",
       "    </tr>\n",
       "    <tr>\n",
       "      <td>100</td>\n",
       "      <td>Ярославль</td>\n",
       "      <td>1.322581</td>\n",
       "    </tr>\n",
       "  </tbody>\n",
       "</table>\n",
       "<p>101 rows × 2 columns</p>\n",
       "</div>"
      ],
      "text/plain": [
       "               city  average_flights\n",
       "0            Абакан         3.870968\n",
       "1           Анадырь         1.000000\n",
       "2             Анапа         2.161290\n",
       "3       Архангельск         5.354839\n",
       "4         Астрахань         2.451613\n",
       "..              ...              ...\n",
       "96             Чита         1.580645\n",
       "97           Элиста         4.870968\n",
       "98   Южно-Сахалинск         4.290323\n",
       "99           Якутск         2.741935\n",
       "100       Ярославль         1.322581\n",
       "\n",
       "[101 rows x 2 columns]"
      ]
     },
     "metadata": {},
     "output_type": "display_data"
    },
    {
     "name": "stdout",
     "output_type": "stream",
     "text": [
      "<class 'pandas.core.frame.DataFrame'>\n",
      "RangeIndex: 101 entries, 0 to 100\n",
      "Data columns (total 2 columns):\n",
      "city               101 non-null object\n",
      "average_flights    101 non-null float64\n",
      "dtypes: float64(1), object(1)\n",
      "memory usage: 1.7+ KB\n"
     ]
    },
    {
     "data": {
      "text/html": [
       "<div>\n",
       "<style scoped>\n",
       "    .dataframe tbody tr th:only-of-type {\n",
       "        vertical-align: middle;\n",
       "    }\n",
       "\n",
       "    .dataframe tbody tr th {\n",
       "        vertical-align: top;\n",
       "    }\n",
       "\n",
       "    .dataframe thead th {\n",
       "        text-align: right;\n",
       "    }\n",
       "</style>\n",
       "<table border=\"1\" class=\"dataframe\">\n",
       "  <thead>\n",
       "    <tr style=\"text-align: right;\">\n",
       "      <th></th>\n",
       "      <th>city</th>\n",
       "      <th>average_flights</th>\n",
       "    </tr>\n",
       "  </thead>\n",
       "  <tbody>\n",
       "    <tr>\n",
       "      <td>0</td>\n",
       "      <td>Абакан</td>\n",
       "      <td>3.870968</td>\n",
       "    </tr>\n",
       "    <tr>\n",
       "      <td>1</td>\n",
       "      <td>Анадырь</td>\n",
       "      <td>1.000000</td>\n",
       "    </tr>\n",
       "    <tr>\n",
       "      <td>2</td>\n",
       "      <td>Анапа</td>\n",
       "      <td>2.161290</td>\n",
       "    </tr>\n",
       "    <tr>\n",
       "      <td>3</td>\n",
       "      <td>Архангельск</td>\n",
       "      <td>5.354839</td>\n",
       "    </tr>\n",
       "    <tr>\n",
       "      <td>4</td>\n",
       "      <td>Астрахань</td>\n",
       "      <td>2.451613</td>\n",
       "    </tr>\n",
       "  </tbody>\n",
       "</table>\n",
       "</div>"
      ],
      "text/plain": [
       "          city  average_flights\n",
       "0       Абакан         3.870968\n",
       "1      Анадырь         1.000000\n",
       "2        Анапа         2.161290\n",
       "3  Архангельск         5.354839\n",
       "4    Астрахань         2.451613"
      ]
     },
     "metadata": {},
     "output_type": "display_data"
    },
    {
     "data": {
      "text/html": [
       "<div>\n",
       "<style scoped>\n",
       "    .dataframe tbody tr th:only-of-type {\n",
       "        vertical-align: middle;\n",
       "    }\n",
       "\n",
       "    .dataframe tbody tr th {\n",
       "        vertical-align: top;\n",
       "    }\n",
       "\n",
       "    .dataframe thead th {\n",
       "        text-align: right;\n",
       "    }\n",
       "</style>\n",
       "<table border=\"1\" class=\"dataframe\">\n",
       "  <thead>\n",
       "    <tr style=\"text-align: right;\">\n",
       "      <th></th>\n",
       "      <th>city</th>\n",
       "      <th>average_flights</th>\n",
       "    </tr>\n",
       "  </thead>\n",
       "  <tbody>\n",
       "    <tr>\n",
       "      <td>96</td>\n",
       "      <td>Чита</td>\n",
       "      <td>1.580645</td>\n",
       "    </tr>\n",
       "    <tr>\n",
       "      <td>97</td>\n",
       "      <td>Элиста</td>\n",
       "      <td>4.870968</td>\n",
       "    </tr>\n",
       "    <tr>\n",
       "      <td>98</td>\n",
       "      <td>Южно-Сахалинск</td>\n",
       "      <td>4.290323</td>\n",
       "    </tr>\n",
       "    <tr>\n",
       "      <td>99</td>\n",
       "      <td>Якутск</td>\n",
       "      <td>2.741935</td>\n",
       "    </tr>\n",
       "    <tr>\n",
       "      <td>100</td>\n",
       "      <td>Ярославль</td>\n",
       "      <td>1.322581</td>\n",
       "    </tr>\n",
       "  </tbody>\n",
       "</table>\n",
       "</div>"
      ],
      "text/plain": [
       "               city  average_flights\n",
       "96             Чита         1.580645\n",
       "97           Элиста         4.870968\n",
       "98   Южно-Сахалинск         4.290323\n",
       "99           Якутск         2.741935\n",
       "100       Ярославль         1.322581"
      ]
     },
     "metadata": {},
     "output_type": "display_data"
    },
    {
     "data": {
      "text/html": [
       "<div>\n",
       "<style scoped>\n",
       "    .dataframe tbody tr th:only-of-type {\n",
       "        vertical-align: middle;\n",
       "    }\n",
       "\n",
       "    .dataframe tbody tr th {\n",
       "        vertical-align: top;\n",
       "    }\n",
       "\n",
       "    .dataframe thead th {\n",
       "        text-align: right;\n",
       "    }\n",
       "</style>\n",
       "<table border=\"1\" class=\"dataframe\">\n",
       "  <thead>\n",
       "    <tr style=\"text-align: right;\">\n",
       "      <th></th>\n",
       "      <th>count</th>\n",
       "      <th>mean</th>\n",
       "      <th>std</th>\n",
       "      <th>min</th>\n",
       "      <th>25%</th>\n",
       "      <th>50%</th>\n",
       "      <th>75%</th>\n",
       "      <th>max</th>\n",
       "    </tr>\n",
       "  </thead>\n",
       "  <tbody>\n",
       "    <tr>\n",
       "      <td>average_flights</td>\n",
       "      <td>101.0</td>\n",
       "      <td>5.494189</td>\n",
       "      <td>13.11979</td>\n",
       "      <td>1.0</td>\n",
       "      <td>2.0</td>\n",
       "      <td>3.0</td>\n",
       "      <td>5.870968</td>\n",
       "      <td>129.774194</td>\n",
       "    </tr>\n",
       "  </tbody>\n",
       "</table>\n",
       "</div>"
      ],
      "text/plain": [
       "                 count      mean       std  min  25%  50%       75%  \\\n",
       "average_flights  101.0  5.494189  13.11979  1.0  2.0  3.0  5.870968   \n",
       "\n",
       "                        max  \n",
       "average_flights  129.774194  "
      ]
     },
     "metadata": {},
     "output_type": "display_data"
    }
   ],
   "source": [
    "display(df_c)\n",
    "df_c.info()\n",
    "display(df_c.head())\n",
    "display(df_c.tail())\n",
    "display(df_c.describe().T)"
   ]
  },
  {
   "cell_type": "markdown",
   "metadata": {},
   "source": [
    "Получилось 2 датафрейма. В одном данные о моделях самолетов и количестве рейсов, а во втором города и количество рейсов.\n",
    "Пропущенных значений нет."
   ]
  },
  {
   "cell_type": "code",
   "execution_count": 4,
   "metadata": {},
   "outputs": [
    {
     "data": {
      "text/plain": [
       "city               0\n",
       "average_flights    0\n",
       "dtype: int64"
      ]
     },
     "execution_count": 4,
     "metadata": {},
     "output_type": "execute_result"
    }
   ],
   "source": [
    "df_c.isna().sum()"
   ]
  },
  {
   "cell_type": "code",
   "execution_count": 5,
   "metadata": {},
   "outputs": [
    {
     "data": {
      "text/plain": [
       "model             0\n",
       "flights_amount    0\n",
       "dtype: int64"
      ]
     },
     "execution_count": 5,
     "metadata": {},
     "output_type": "execute_result"
    }
   ],
   "source": [
    "df_m.isna().sum()"
   ]
  },
  {
   "cell_type": "markdown",
   "metadata": {},
   "source": [
    "Пропусках в двух датафреймах не нашел. \n",
    "Типы данных корректны, где название моделей и городов - object, в остальных либо float, либо int"
   ]
  },
  {
   "cell_type": "markdown",
   "metadata": {},
   "source": [
    "## Исследовательский анализ данных"
   ]
  },
  {
   "cell_type": "markdown",
   "metadata": {},
   "source": [
    "### Топ 10 городов"
   ]
  },
  {
   "cell_type": "code",
   "execution_count": 6,
   "metadata": {},
   "outputs": [
    {
     "data": {
      "text/html": [
       "<div>\n",
       "<style scoped>\n",
       "    .dataframe tbody tr th:only-of-type {\n",
       "        vertical-align: middle;\n",
       "    }\n",
       "\n",
       "    .dataframe tbody tr th {\n",
       "        vertical-align: top;\n",
       "    }\n",
       "\n",
       "    .dataframe thead th {\n",
       "        text-align: right;\n",
       "    }\n",
       "</style>\n",
       "<table border=\"1\" class=\"dataframe\">\n",
       "  <thead>\n",
       "    <tr style=\"text-align: right;\">\n",
       "      <th></th>\n",
       "      <th>city</th>\n",
       "      <th>average_flights</th>\n",
       "    </tr>\n",
       "  </thead>\n",
       "  <tbody>\n",
       "    <tr>\n",
       "      <td>43</td>\n",
       "      <td>Москва</td>\n",
       "      <td>129.774194</td>\n",
       "    </tr>\n",
       "    <tr>\n",
       "      <td>70</td>\n",
       "      <td>Санкт-Петербург</td>\n",
       "      <td>31.161290</td>\n",
       "    </tr>\n",
       "    <tr>\n",
       "      <td>54</td>\n",
       "      <td>Новосибирск</td>\n",
       "      <td>17.322581</td>\n",
       "    </tr>\n",
       "    <tr>\n",
       "      <td>33</td>\n",
       "      <td>Красноярск</td>\n",
       "      <td>11.580645</td>\n",
       "    </tr>\n",
       "    <tr>\n",
       "      <td>20</td>\n",
       "      <td>Екатеринбург</td>\n",
       "      <td>11.322581</td>\n",
       "    </tr>\n",
       "    <tr>\n",
       "      <td>67</td>\n",
       "      <td>Ростов-на-Дону</td>\n",
       "      <td>10.193548</td>\n",
       "    </tr>\n",
       "    <tr>\n",
       "      <td>63</td>\n",
       "      <td>Пермь</td>\n",
       "      <td>10.129032</td>\n",
       "    </tr>\n",
       "    <tr>\n",
       "      <td>10</td>\n",
       "      <td>Брянск</td>\n",
       "      <td>10.000000</td>\n",
       "    </tr>\n",
       "    <tr>\n",
       "      <td>74</td>\n",
       "      <td>Сочи</td>\n",
       "      <td>9.612903</td>\n",
       "    </tr>\n",
       "    <tr>\n",
       "      <td>84</td>\n",
       "      <td>Ульяновск</td>\n",
       "      <td>9.580645</td>\n",
       "    </tr>\n",
       "  </tbody>\n",
       "</table>\n",
       "</div>"
      ],
      "text/plain": [
       "               city  average_flights\n",
       "43           Москва       129.774194\n",
       "70  Санкт-Петербург        31.161290\n",
       "54      Новосибирск        17.322581\n",
       "33       Красноярск        11.580645\n",
       "20     Екатеринбург        11.322581\n",
       "67   Ростов-на-Дону        10.193548\n",
       "63            Пермь        10.129032\n",
       "10           Брянск        10.000000\n",
       "74             Сочи         9.612903\n",
       "84        Ульяновск         9.580645"
      ]
     },
     "execution_count": 6,
     "metadata": {},
     "output_type": "execute_result"
    }
   ],
   "source": [
    "df_c_top10 = df_c.sort_values('average_flights',ascending =False).head(10)\n",
    "df_c_top10"
   ]
  },
  {
   "cell_type": "markdown",
   "metadata": {},
   "source": [
    "Создал таблицу, в которую записал данные топ 10 городов по количество рейсов"
   ]
  },
  {
   "cell_type": "markdown",
   "metadata": {},
   "source": [
    "### Графики"
   ]
  },
  {
   "cell_type": "markdown",
   "metadata": {},
   "source": [
    "#### График отношения модели самолетов к количеству рейсов"
   ]
  },
  {
   "cell_type": "code",
   "execution_count": 7,
   "metadata": {},
   "outputs": [
    {
     "data": {
      "image/png": "[encoded data removed]",
      "text/plain": [
       "<Figure size 648x648 with 1 Axes>"
      ]
     },
     "metadata": {
      "needs_background": "light"
     },
     "output_type": "display_data"
    }
   ],
   "source": [
    "(\n",
    "    df_m.pivot_table(index='model',values='flights_amount')\n",
    "    .sort_values('flights_amount')\n",
    "    .plot(kind='barh',grid=True,figsize=(9,9)))\n",
    "plt.title('Flights mount')\n",
    "plt.ylabel('Model')\n",
    "plt.xlabel('Count')\n",
    "plt.show()\n"
   ]
  },
  {
   "cell_type": "markdown",
   "metadata": {},
   "source": [
    "\n",
    "Как видно из графика, что в первой"
   ]
  },
  {
   "cell_type": "markdown",
   "metadata": {},
   "source": [
    "Первые три строчки занимают самолеты разных моделей. Так же Есть резки скачок после 4к рейсов. Вохможно количество рейсов зависит от пассажировместимости самолета"
   ]
  },
  {
   "cell_type": "markdown",
   "metadata": {},
   "source": [
    "#### График отношения городов к количеству рейсов"
   ]
  },
  {
   "cell_type": "code",
   "execution_count": 8,
   "metadata": {},
   "outputs": [
    {
     "data": {
      "image/png": "[encoded data removed]",
      "text/plain": [
       "<Figure size 1080x1080 with 1 Axes>"
      ]
     },
     "metadata": {
      "needs_background": "light"
     },
     "output_type": "display_data"
    }
   ],
   "source": [
    "(\n",
    "    df_c.pivot_table(index='city',values='average_flights')\n",
    "    .sort_values('average_flights')\n",
    "    .plot(kind='barh',grid=True,figsize=(15,15))\n",
    ")\n",
    "plt.title('Average flights')\n",
    "plt.ylabel('City')\n",
    "plt.xlabel('Count')\n",
    "plt.show()"
   ]
  },
  {
   "cell_type": "markdown",
   "metadata": {},
   "source": [
    "Из гарфика видно, что самое большое количество рейсов приходится на Москву. Далее за Москвой идет резкий скачок вниз, после Санкт-Петербурга начинается плавный спад.\n",
    "Может быть связано с количество аэропортов в городе и в наличии международных аэропротов."
   ]
  },
  {
   "cell_type": "markdown",
   "metadata": {},
   "source": [
    "#### График отношения топ 10 городов к количеству рейсов"
   ]
  },
  {
   "cell_type": "code",
   "execution_count": 9,
   "metadata": {},
   "outputs": [
    {
     "data": {
      "image/png": "[encoded data removed]",
      "text/plain": [
       "<Figure size 648x648 with 1 Axes>"
      ]
     },
     "metadata": {
      "needs_background": "light"
     },
     "output_type": "display_data"
    }
   ],
   "source": [
    "\n",
    "(df_c_top10.pivot_table(index='city',values='average_flights')\n",
    "     .sort_values('average_flights')\n",
    "     .plot(kind='barh',grid=True,figsize=(9,9))\n",
    ")\n",
    "plt.title('Top 10 average flights')\n",
    "plt.ylabel('City')\n",
    "plt.xlabel('Count')\n",
    "plt.show()"
   ]
  },
  {
   "cell_type": "markdown",
   "metadata": {},
   "source": [
    "Из графика видно, что Москва лидирует по количеству рейсов почти в 3 раза по сравнению с предыдущих городом."
   ]
  },
  {
   "cell_type": "markdown",
   "metadata": {},
   "source": [
    "## Вывод"
   ]
  },
  {
   "cell_type": "markdown",
   "metadata": {},
   "source": [
    "На входе мы получили 2 датасета: в одном были модели и коилчество рейсов, в другом - города и рейсы.\n",
    "При проверке на пропуски не нашел пропуски и типы данных оказались корректными.\n",
    "Создал таблицу, в которую записал топ 10 городов по количеству рейсов.\n",
    "Построил графики по отношению модели к количеству рейсов. В лидерах оказались модели с маленькой пассажировместимостью, что позволило им совершать более частые перелеты.\n",
    "Следующий график был отношения городов к количеству рейсов. Тут в лидерах была Москва, так как в Москве много аэропортов, плюс там происходят международные сообщения и часто Москва является пересадочным пунктом между городами.\n",
    "В графике топ 10 городов к рейсам можно заметить как сильно Москва выбивается из общего вида."
   ]
  },
  {
   "cell_type": "code",
   "execution_count": null,
   "metadata": {},
   "outputs": [],
   "source": []
  }
 ],
 "metadata": {
  "ExecuteTimeLog": [
   {
    "duration": 1169,
    "start_time": "2021-10-03T07:56:52.396Z"
   },
   {
    "duration": 34,
    "start_time": "2021-10-03T07:57:35.298Z"
   },
   {
    "duration": 31,
    "start_time": "2021-10-03T07:57:35.686Z"
   },
   {
    "duration": 25,
    "start_time": "2021-10-03T07:58:02.667Z"
   },
   {
    "duration": 22,
    "start_time": "2021-10-03T07:58:18.369Z"
   },
   {
    "duration": 7,
    "start_time": "2021-10-03T07:59:30.398Z"
   },
   {
    "duration": 83,
    "start_time": "2021-10-03T08:01:02.662Z"
   },
   {
    "duration": 88,
    "start_time": "2021-10-03T08:01:08.549Z"
   },
   {
    "duration": 9,
    "start_time": "2021-10-03T08:01:12.950Z"
   },
   {
    "duration": 8,
    "start_time": "2021-10-03T08:01:23.175Z"
   },
   {
    "duration": 9,
    "start_time": "2021-10-03T08:02:37.876Z"
   },
   {
    "duration": 11,
    "start_time": "2021-10-03T08:03:01.281Z"
   },
   {
    "duration": 338,
    "start_time": "2021-10-03T08:04:06.613Z"
   },
   {
    "duration": 185,
    "start_time": "2021-10-03T08:04:12.661Z"
   },
   {
    "duration": 261,
    "start_time": "2021-10-03T08:04:29.901Z"
   },
   {
    "duration": 165,
    "start_time": "2021-10-03T08:04:34.204Z"
   },
   {
    "duration": 345,
    "start_time": "2021-10-03T08:05:16.372Z"
   },
   {
    "duration": 303,
    "start_time": "2021-10-03T08:05:28.138Z"
   },
   {
    "duration": 351,
    "start_time": "2021-10-03T08:05:37.558Z"
   },
   {
    "duration": 198,
    "start_time": "2021-10-03T08:05:46.837Z"
   },
   {
    "duration": 263,
    "start_time": "2021-10-03T08:08:06.639Z"
   },
   {
    "duration": 291,
    "start_time": "2021-10-03T08:08:13.378Z"
   },
   {
    "duration": 183,
    "start_time": "2021-10-03T08:08:33.266Z"
   },
   {
    "duration": 243,
    "start_time": "2021-10-03T08:09:43.355Z"
   },
   {
    "duration": 305,
    "start_time": "2021-10-03T08:10:38.982Z"
   },
   {
    "duration": 553,
    "start_time": "2021-10-03T08:11:19.483Z"
   },
   {
    "duration": 417,
    "start_time": "2021-10-03T08:11:27.661Z"
   },
   {
    "duration": 433,
    "start_time": "2021-10-03T08:12:02.286Z"
   },
   {
    "duration": 6736,
    "start_time": "2021-10-03T08:12:20.547Z"
   },
   {
    "duration": 427,
    "start_time": "2021-10-03T08:12:39.918Z"
   },
   {
    "duration": 432,
    "start_time": "2021-10-03T08:12:57.452Z"
   },
   {
    "duration": 456,
    "start_time": "2021-10-03T08:13:14.112Z"
   },
   {
    "duration": 948,
    "start_time": "2021-10-03T08:15:22.307Z"
   },
   {
    "duration": 247,
    "start_time": "2021-10-03T08:15:34.925Z"
   },
   {
    "duration": 76,
    "start_time": "2021-10-03T08:16:52.646Z"
   },
   {
    "duration": 466,
    "start_time": "2021-10-03T08:17:53.914Z"
   },
   {
    "duration": 469,
    "start_time": "2021-10-03T08:19:01.368Z"
   },
   {
    "duration": 483,
    "start_time": "2021-10-03T08:19:16.200Z"
   },
   {
    "duration": 79,
    "start_time": "2021-10-03T08:19:23.706Z"
   },
   {
    "duration": 585,
    "start_time": "2021-10-03T08:19:37.264Z"
   },
   {
    "duration": 408,
    "start_time": "2021-10-03T08:22:58.520Z"
   },
   {
    "duration": 426,
    "start_time": "2021-10-03T08:23:28.310Z"
   },
   {
    "duration": 265,
    "start_time": "2021-10-03T08:23:40.158Z"
   },
   {
    "duration": 436,
    "start_time": "2021-10-03T08:23:54.230Z"
   },
   {
    "duration": 524,
    "start_time": "2021-10-03T08:24:02.502Z"
   },
   {
    "duration": 428,
    "start_time": "2021-10-03T08:24:16.988Z"
   },
   {
    "duration": 429,
    "start_time": "2021-10-03T08:24:21.795Z"
   },
   {
    "duration": 463,
    "start_time": "2021-10-03T08:24:39.251Z"
   },
   {
    "duration": 298,
    "start_time": "2021-10-03T08:25:04.403Z"
   },
   {
    "duration": 298,
    "start_time": "2021-10-03T08:25:22.677Z"
   },
   {
    "duration": 443,
    "start_time": "2021-10-03T08:25:35.964Z"
   },
   {
    "duration": 217,
    "start_time": "2021-10-03T08:25:48.621Z"
   },
   {
    "duration": 447,
    "start_time": "2021-10-03T08:26:07.875Z"
   },
   {
    "duration": 182,
    "start_time": "2021-10-03T08:27:37.423Z"
   },
   {
    "duration": 174,
    "start_time": "2021-10-03T08:28:10.413Z"
   },
   {
    "duration": 416,
    "start_time": "2021-10-03T08:28:35.435Z"
   },
   {
    "duration": 175,
    "start_time": "2021-10-03T08:28:47.956Z"
   },
   {
    "duration": 173,
    "start_time": "2021-10-03T08:28:59.224Z"
   },
   {
    "duration": 170,
    "start_time": "2021-10-03T08:29:09.674Z"
   },
   {
    "duration": 365,
    "start_time": "2021-10-03T08:29:40.526Z"
   },
   {
    "duration": 315,
    "start_time": "2021-10-03T08:29:46.652Z"
   },
   {
    "duration": 242,
    "start_time": "2021-10-03T08:29:58.315Z"
   },
   {
    "duration": 299,
    "start_time": "2021-10-03T08:30:08.782Z"
   },
   {
    "duration": 58,
    "start_time": "2021-10-03T08:30:41.552Z"
   },
   {
    "duration": 283,
    "start_time": "2021-10-03T08:30:56.288Z"
   },
   {
    "duration": 401,
    "start_time": "2021-10-03T08:31:18.938Z"
   },
   {
    "duration": 170,
    "start_time": "2021-10-03T08:31:30.136Z"
   },
   {
    "duration": 427,
    "start_time": "2021-10-03T08:33:41.753Z"
   },
   {
    "duration": 191,
    "start_time": "2021-10-03T08:33:54.149Z"
   },
   {
    "duration": 181,
    "start_time": "2021-10-03T08:34:52.835Z"
   },
   {
    "duration": 185,
    "start_time": "2021-10-03T08:36:13.724Z"
   },
   {
    "duration": 208,
    "start_time": "2021-10-03T08:36:29.550Z"
   },
   {
    "duration": 209,
    "start_time": "2021-10-03T08:37:01.925Z"
   },
   {
    "duration": 433,
    "start_time": "2021-10-03T08:37:12.172Z"
   },
   {
    "duration": 215,
    "start_time": "2021-10-03T08:38:25.061Z"
   },
   {
    "duration": 183,
    "start_time": "2021-10-03T08:38:37.104Z"
   },
   {
    "duration": 6125,
    "start_time": "2021-10-03T08:39:09.986Z"
   },
   {
    "duration": 6948,
    "start_time": "2021-10-03T08:39:26.848Z"
   },
   {
    "duration": -354,
    "start_time": "2021-10-03T08:39:43.459Z"
   },
   {
    "duration": 6328,
    "start_time": "2021-10-03T08:40:01.372Z"
   },
   {
    "duration": 4,
    "start_time": "2021-10-03T08:40:15.162Z"
   },
   {
    "duration": 1231,
    "start_time": "2021-10-03T08:40:26.661Z"
   },
   {
    "duration": 1300,
    "start_time": "2021-10-03T08:40:41.162Z"
   },
   {
    "duration": 1157,
    "start_time": "2021-10-03T08:42:21.117Z"
   },
   {
    "duration": 240,
    "start_time": "2021-10-03T08:42:52.458Z"
   },
   {
    "duration": 251,
    "start_time": "2021-10-03T08:43:19.906Z"
   },
   {
    "duration": 261,
    "start_time": "2021-10-03T08:43:31.729Z"
   },
   {
    "duration": 1113,
    "start_time": "2021-10-03T08:43:40.990Z"
   },
   {
    "duration": 262,
    "start_time": "2021-10-03T08:44:03.179Z"
   },
   {
    "duration": 2761,
    "start_time": "2021-10-03T08:44:10.747Z"
   },
   {
    "duration": 1597,
    "start_time": "2021-10-03T08:44:42.610Z"
   },
   {
    "duration": 240,
    "start_time": "2021-10-03T08:45:27.550Z"
   },
   {
    "duration": 372,
    "start_time": "2021-10-03T08:45:41.422Z"
   },
   {
    "duration": 1500,
    "start_time": "2021-10-03T08:45:41.796Z"
   },
   {
    "duration": 234,
    "start_time": "2021-10-03T08:45:53.066Z"
   },
   {
    "duration": 526,
    "start_time": "2021-10-03T08:46:19.640Z"
   },
   {
    "duration": 253,
    "start_time": "2021-10-03T08:46:35.374Z"
   },
   {
    "duration": 32,
    "start_time": "2021-10-03T08:48:07.798Z"
   },
   {
    "duration": 9,
    "start_time": "2021-10-03T08:51:25.376Z"
   },
   {
    "duration": 1165,
    "start_time": "2021-10-03T08:53:30.293Z"
   },
   {
    "duration": 25,
    "start_time": "2021-10-03T08:53:31.460Z"
   },
   {
    "duration": 30,
    "start_time": "2021-10-03T08:53:31.487Z"
   },
   {
    "duration": 7,
    "start_time": "2021-10-03T08:53:31.519Z"
   },
   {
    "duration": 249,
    "start_time": "2021-10-03T08:53:31.550Z"
   },
   {
    "duration": 1514,
    "start_time": "2021-10-03T08:53:31.800Z"
   },
   {
    "duration": 256,
    "start_time": "2021-10-03T08:53:33.315Z"
   },
   {
    "duration": 1171,
    "start_time": "2021-10-03T14:52:15.110Z"
   },
   {
    "duration": 24,
    "start_time": "2021-10-03T14:52:16.283Z"
   },
   {
    "duration": 32,
    "start_time": "2021-10-03T14:52:16.309Z"
   },
   {
    "duration": 7,
    "start_time": "2021-10-03T14:52:16.343Z"
   },
   {
    "duration": 269,
    "start_time": "2021-10-03T14:52:16.377Z"
   },
   {
    "duration": 1590,
    "start_time": "2021-10-03T14:52:16.648Z"
   },
   {
    "duration": 271,
    "start_time": "2021-10-03T14:52:18.240Z"
   },
   {
    "duration": 1183,
    "start_time": "2021-10-03T15:06:06.989Z"
   },
   {
    "duration": 23,
    "start_time": "2021-10-03T15:06:08.174Z"
   },
   {
    "duration": 31,
    "start_time": "2021-10-03T15:06:08.199Z"
   },
   {
    "duration": 8,
    "start_time": "2021-10-03T15:06:08.232Z"
   },
   {
    "duration": 256,
    "start_time": "2021-10-03T15:06:08.277Z"
   },
   {
    "duration": 1568,
    "start_time": "2021-10-03T15:06:08.535Z"
   },
   {
    "duration": 274,
    "start_time": "2021-10-03T15:06:10.105Z"
   },
   {
    "duration": 570,
    "start_time": "2021-10-04T11:15:06.161Z"
   },
   {
    "duration": 359,
    "start_time": "2021-10-04T11:15:27.237Z"
   },
   {
    "duration": 1482,
    "start_time": "2021-10-04T11:15:36.953Z"
   },
   {
    "duration": 36,
    "start_time": "2021-10-04T11:15:38.438Z"
   },
   {
    "duration": 68,
    "start_time": "2021-10-04T11:15:38.477Z"
   },
   {
    "duration": 9,
    "start_time": "2021-10-04T11:15:38.548Z"
   },
   {
    "duration": 21,
    "start_time": "2021-10-04T11:15:38.560Z"
   },
   {
    "duration": 428,
    "start_time": "2021-10-04T11:15:38.584Z"
   },
   {
    "duration": 2752,
    "start_time": "2021-10-04T11:15:39.022Z"
   },
   {
    "duration": 433,
    "start_time": "2021-10-04T11:15:41.777Z"
   },
   {
    "duration": 8,
    "start_time": "2021-10-04T11:16:04.381Z"
   },
   {
    "duration": 90,
    "start_time": "2021-10-04T11:25:39.619Z"
   },
   {
    "duration": 1469,
    "start_time": "2021-10-04T11:26:04.441Z"
   },
   {
    "duration": 36,
    "start_time": "2021-10-04T11:26:05.912Z"
   },
   {
    "duration": 78,
    "start_time": "2021-10-04T11:26:05.951Z"
   },
   {
    "duration": 7,
    "start_time": "2021-10-04T11:26:06.032Z"
   },
   {
    "duration": 18,
    "start_time": "2021-10-04T11:26:06.041Z"
   },
   {
    "duration": 26,
    "start_time": "2021-10-04T11:26:06.061Z"
   },
   {
    "duration": 114,
    "start_time": "2021-10-04T11:26:06.090Z"
   },
   {
    "duration": 350,
    "start_time": "2021-10-04T11:26:05.856Z"
   },
   {
    "duration": 340,
    "start_time": "2021-10-04T11:26:05.868Z"
   },
   {
    "duration": 103,
    "start_time": "2021-10-04T11:26:56.371Z"
   },
   {
    "duration": 410,
    "start_time": "2021-10-04T11:27:06.493Z"
   },
   {
    "duration": 399,
    "start_time": "2021-10-04T11:27:14.357Z"
   },
   {
    "duration": 1451,
    "start_time": "2021-10-04T11:29:06.758Z"
   },
   {
    "duration": 37,
    "start_time": "2021-10-04T11:29:08.212Z"
   },
   {
    "duration": 71,
    "start_time": "2021-10-04T11:29:08.253Z"
   },
   {
    "duration": 10,
    "start_time": "2021-10-04T11:29:08.327Z"
   },
   {
    "duration": 11,
    "start_time": "2021-10-04T11:29:08.339Z"
   },
   {
    "duration": 18,
    "start_time": "2021-10-04T11:29:08.353Z"
   },
   {
    "duration": 459,
    "start_time": "2021-10-04T11:29:08.374Z"
   },
   {
    "duration": 2506,
    "start_time": "2021-10-04T11:29:08.838Z"
   },
   {
    "duration": 442,
    "start_time": "2021-10-04T11:29:11.348Z"
   },
   {
    "duration": 530,
    "start_time": "2021-10-04T11:29:44.912Z"
   },
   {
    "duration": 1518,
    "start_time": "2021-10-04T11:30:43.903Z"
   },
   {
    "duration": 36,
    "start_time": "2021-10-04T11:30:45.424Z"
   },
   {
    "duration": 77,
    "start_time": "2021-10-04T11:30:45.462Z"
   },
   {
    "duration": 7,
    "start_time": "2021-10-04T11:30:45.541Z"
   },
   {
    "duration": 27,
    "start_time": "2021-10-04T11:30:45.551Z"
   },
   {
    "duration": 20,
    "start_time": "2021-10-04T11:30:45.580Z"
   },
   {
    "duration": 431,
    "start_time": "2021-10-04T11:30:45.602Z"
   },
   {
    "duration": 2621,
    "start_time": "2021-10-04T11:30:46.038Z"
   },
   {
    "duration": 464,
    "start_time": "2021-10-04T11:30:48.662Z"
   },
   {
    "duration": 1508,
    "start_time": "2021-10-04T11:46:44.618Z"
   },
   {
    "duration": 37,
    "start_time": "2021-10-04T11:46:46.128Z"
   },
   {
    "duration": 74,
    "start_time": "2021-10-04T11:46:46.168Z"
   },
   {
    "duration": 8,
    "start_time": "2021-10-04T11:46:46.245Z"
   },
   {
    "duration": 22,
    "start_time": "2021-10-04T11:46:46.255Z"
   },
   {
    "duration": 16,
    "start_time": "2021-10-04T11:46:48.597Z"
   },
   {
    "duration": 1427,
    "start_time": "2021-10-05T14:26:48.286Z"
   },
   {
    "duration": 40,
    "start_time": "2021-10-05T14:26:49.716Z"
   },
   {
    "duration": 80,
    "start_time": "2021-10-05T14:26:49.760Z"
   },
   {
    "duration": 8,
    "start_time": "2021-10-05T14:26:49.843Z"
   },
   {
    "duration": 10,
    "start_time": "2021-10-05T14:26:49.854Z"
   },
   {
    "duration": 17,
    "start_time": "2021-10-05T14:26:49.867Z"
   },
   {
    "duration": 522,
    "start_time": "2021-10-05T14:26:49.923Z"
   },
   {
    "duration": 2537,
    "start_time": "2021-10-05T14:26:50.448Z"
   },
   {
    "duration": 448,
    "start_time": "2021-10-05T14:26:52.988Z"
   }
  ],
  "kernelspec": {
   "display_name": "Python 3 (ipykernel)",
   "language": "python",
   "name": "python3"
  },
  "language_info": {
   "codemirror_mode": {
    "name": "ipython",
    "version": 3
   },
   "file_extension": ".py",
   "mimetype": "text/x-python",
   "name": "python",
   "nbconvert_exporter": "python",
   "pygments_lexer": "ipython3",
   "version": "3.9.5"
  },
  "toc": {
   "base_numbering": 1,
   "nav_menu": {},
   "number_sections": true,
   "sideBar": true,
   "skip_h1_title": true,
   "title_cell": "Содержание",
   "title_sidebar": "Contents",
   "toc_cell": true,
   "toc_position": {},
   "toc_section_display": true,
   "toc_window_display": false
  }
 },
 "nbformat": 4,
 "nbformat_minor": 2
}
