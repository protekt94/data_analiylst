{
 "cells": [
  {
   "cell_type": "markdown",
   "metadata": {
    "toc": true
   },
   "source": [
    "<h1>Содержание<span class=\"tocSkip\"></span></h1>\n",
    "<div class=\"toc\"><ul class=\"toc-item\"><li><span><a href=\"#Изучение-данных-из-файла\" data-toc-modified-id=\"Изучение-данных-из-файла-1\"><span class=\"toc-item-num\">1&nbsp;&nbsp;</span>Изучение данных из файла</a></span><ul class=\"toc-item\"><li><span><a href=\"#Вывел-данные-calls\" data-toc-modified-id=\"Вывел-данные-calls-1.1\"><span class=\"toc-item-num\">1.1&nbsp;&nbsp;</span>Вывел данные calls</a></span></li><li><span><a href=\"#Вывел-данные-internet\" data-toc-modified-id=\"Вывел-данные-internet-1.2\"><span class=\"toc-item-num\">1.2&nbsp;&nbsp;</span>Вывел данные internet</a></span></li><li><span><a href=\"#Вывел-данные-message\" data-toc-modified-id=\"Вывел-данные-message-1.3\"><span class=\"toc-item-num\">1.3&nbsp;&nbsp;</span>Вывел данные message</a></span></li><li><span><a href=\"#Вывел-данные-tariffs\" data-toc-modified-id=\"Вывел-данные-tariffs-1.4\"><span class=\"toc-item-num\">1.4&nbsp;&nbsp;</span>Вывел данные tariffs</a></span></li><li><span><a href=\"#Вывел-данные-user\" data-toc-modified-id=\"Вывел-данные-user-1.5\"><span class=\"toc-item-num\">1.5&nbsp;&nbsp;</span>Вывел данные user</a></span></li></ul></li><li><span><a href=\"#Предобработка-данных\" data-toc-modified-id=\"Предобработка-данных-2\"><span class=\"toc-item-num\">2&nbsp;&nbsp;</span>Предобработка данных</a></span><ul class=\"toc-item\"><li><span><a href=\"#Замена-типов-данных\" data-toc-modified-id=\"Замена-типов-данных-2.1\"><span class=\"toc-item-num\">2.1&nbsp;&nbsp;</span>Замена типов данных</a></span></li></ul></li><li><span><a href=\"#Расчёты-и-добавления-результатов-в-таблицу\" data-toc-modified-id=\"Расчёты-и-добавления-результатов-в-таблицу-3\"><span class=\"toc-item-num\">3&nbsp;&nbsp;</span>Расчёты и добавления результатов в таблицу</a></span><ul class=\"toc-item\"><li><span><a href=\"#Создание-таблицы-calls_tariff\" data-toc-modified-id=\"Создание-таблицы-calls_tariff-3.1\"><span class=\"toc-item-num\">3.1&nbsp;&nbsp;</span>Создание таблицы calls_tariff</a></span></li><li><span><a href=\"#Создание-таблицы-internet_tariff\" data-toc-modified-id=\"Создание-таблицы-internet_tariff-3.2\"><span class=\"toc-item-num\">3.2&nbsp;&nbsp;</span>Создание таблицы internet_tariff</a></span></li><li><span><a href=\"#Создание-таблицы-message_tariff\" data-toc-modified-id=\"Создание-таблицы-message_tariff-3.3\"><span class=\"toc-item-num\">3.3&nbsp;&nbsp;</span>Создание таблицы message_tariff</a></span></li><li><span><a href=\"#Создание-функций-подсчитывающих-выручку\" data-toc-modified-id=\"Создание-функций-подсчитывающих-выручку-3.4\"><span class=\"toc-item-num\">3.4&nbsp;&nbsp;</span>Создание функций подсчитывающих выручку</a></span></li><li><span><a href=\"#Создание-сводной-таблицы-со-всеми-данными\" data-toc-modified-id=\"Создание-сводной-таблицы-со-всеми-данными-3.5\"><span class=\"toc-item-num\">3.5&nbsp;&nbsp;</span>Создание сводной таблицы со всеми данными</a></span></li></ul></li><li><span><a href=\"#Анализ-данных\" data-toc-modified-id=\"Анализ-данных-4\"><span class=\"toc-item-num\">4&nbsp;&nbsp;</span>Анализ данных</a></span><ul class=\"toc-item\"><li><span><a href=\"#Общая-выручка-по-пользователям-за-весь-период-наблюдения\" data-toc-modified-id=\"Общая-выручка-по-пользователям-за-весь-период-наблюдения-4.1\"><span class=\"toc-item-num\">4.1&nbsp;&nbsp;</span>Общая выручка по пользователям за весь период наблюдения</a></span></li><li><span><a href=\"#Сводная-таблица-со-средними-значениями-по-тарифам-и-месяцам\" data-toc-modified-id=\"Сводная-таблица-со-средними-значениями-по-тарифам-и-месяцам-4.2\"><span class=\"toc-item-num\">4.2&nbsp;&nbsp;</span>Сводная таблица со средними значениями по тарифам и месяцам</a></span></li><li><span><a href=\"#Сводная-таблица-с-сумарными-значениями-по-тарифам-и-месяцам\" data-toc-modified-id=\"Сводная-таблица-с-сумарными-значениями-по-тарифам-и-месяцам-4.3\"><span class=\"toc-item-num\">4.3&nbsp;&nbsp;</span>Сводная таблица с сумарными значениями по тарифам и месяцам</a></span></li><li><span><a href=\"#Дисперсия-по-общим-звонкам,-смскам-и-использованным-Мб\" data-toc-modified-id=\"Дисперсия-по-общим-звонкам,-смскам-и-использованным-Мб-4.4\"><span class=\"toc-item-num\">4.4&nbsp;&nbsp;</span>Дисперсия по общим звонкам, смскам и использованным Мб</a></span></li><li><span><a href=\"#Стандартное-отклоение-по-звонкам,-смскам-и-использованным-Мб\" data-toc-modified-id=\"Стандартное-отклоение-по-звонкам,-смскам-и-использованным-Мб-4.5\"><span class=\"toc-item-num\">4.5&nbsp;&nbsp;</span>Стандартное отклоение по звонкам, смскам и использованным Мб</a></span></li><li><span><a href=\"#Создание-графиков-и-гистаграмм-для-звонков,-смсок-и-использованных-Мб\" data-toc-modified-id=\"Создание-графиков-и-гистаграмм-для-звонков,-смсок-и-использованных-Мб-4.6\"><span class=\"toc-item-num\">4.6&nbsp;&nbsp;</span>Создание графиков и гистаграмм для звонков, смсок и использованных Мб</a></span></li></ul></li><li><span><a href=\"#Проверка-гипотиз\" data-toc-modified-id=\"Проверка-гипотиз-5\"><span class=\"toc-item-num\">5&nbsp;&nbsp;</span>Проверка гипотиз</a></span></li><li><span><a href=\"#Общий-вывод\" data-toc-modified-id=\"Общий-вывод-6\"><span class=\"toc-item-num\">6&nbsp;&nbsp;</span>Общий вывод</a></span></li></ul></div>"
   ]
  },
  {
   "cell_type": "markdown",
   "metadata": {},
   "source": [
    "# Определение перспективного тарифа для телеком компании\n",
    "Вы аналитик компании «Мегалайн» — федерального оператора сотовой связи. Клиентам предлагают два тарифных плана: «Смарт» и «Ультра». Чтобы скорректировать рекламный бюджет, коммерческий департамент хочет понять, какой тариф приносит больше денег.\n",
    "Вам предстоит сделать предварительный анализ тарифов на небольшой выборке клиентов. В вашем распоряжении данные 500 пользователей «Мегалайна»: кто они, откуда, каким тарифом пользуются, сколько звонков и сообщений каждый отправил за 2018 год. Нужно проанализировать поведение клиентов и сделать вывод — какой тариф лучше."
   ]
  },
  {
   "cell_type": "markdown",
   "metadata": {},
   "source": [
    "## Изучение данных из файла"
   ]
  },
  {
   "cell_type": "code",
   "execution_count": 1,
   "metadata": {},
   "outputs": [],
   "source": [
    "import pandas as pd\n",
    "import math as mt\n",
    "import matplotlib.pyplot as plt\n",
    "import numpy as np\n",
    "from scipy import stats as st\n",
    "import seaborn as sns\n",
    "calls = pd.read_csv('/datasets/calls.csv')\n",
    "internet = pd.read_csv('/datasets/internet.csv')\n",
    "message = pd.read_csv('/datasets/messages.csv')\n",
    "tariffs = pd.read_csv('/datasets/tariffs.csv')\n",
    "user = pd.read_csv('/datasets/users.csv')"
   ]
  },
  {
   "cell_type": "markdown",
   "metadata": {},
   "source": [
    "### Вывел данные calls"
   ]
  },
  {
   "cell_type": "code",
   "execution_count": 2,
   "metadata": {},
   "outputs": [
    {
     "data": {
      "text/html": [
       "<div>\n",
       "<style scoped>\n",
       "    .dataframe tbody tr th:only-of-type {\n",
       "        vertical-align: middle;\n",
       "    }\n",
       "\n",
       "    .dataframe tbody tr th {\n",
       "        vertical-align: top;\n",
       "    }\n",
       "\n",
       "    .dataframe thead th {\n",
       "        text-align: right;\n",
       "    }\n",
       "</style>\n",
       "<table border=\"1\" class=\"dataframe\">\n",
       "  <thead>\n",
       "    <tr style=\"text-align: right;\">\n",
       "      <th></th>\n",
       "      <th>id</th>\n",
       "      <th>call_date</th>\n",
       "      <th>duration</th>\n",
       "      <th>user_id</th>\n",
       "    </tr>\n",
       "  </thead>\n",
       "  <tbody>\n",
       "    <tr>\n",
       "      <td>0</td>\n",
       "      <td>1000_0</td>\n",
       "      <td>2018-07-25</td>\n",
       "      <td>0.00</td>\n",
       "      <td>1000</td>\n",
       "    </tr>\n",
       "    <tr>\n",
       "      <td>1</td>\n",
       "      <td>1000_1</td>\n",
       "      <td>2018-08-17</td>\n",
       "      <td>0.00</td>\n",
       "      <td>1000</td>\n",
       "    </tr>\n",
       "    <tr>\n",
       "      <td>2</td>\n",
       "      <td>1000_2</td>\n",
       "      <td>2018-06-11</td>\n",
       "      <td>2.85</td>\n",
       "      <td>1000</td>\n",
       "    </tr>\n",
       "    <tr>\n",
       "      <td>3</td>\n",
       "      <td>1000_3</td>\n",
       "      <td>2018-09-21</td>\n",
       "      <td>13.80</td>\n",
       "      <td>1000</td>\n",
       "    </tr>\n",
       "    <tr>\n",
       "      <td>4</td>\n",
       "      <td>1000_4</td>\n",
       "      <td>2018-12-15</td>\n",
       "      <td>5.18</td>\n",
       "      <td>1000</td>\n",
       "    </tr>\n",
       "    <tr>\n",
       "      <td>...</td>\n",
       "      <td>...</td>\n",
       "      <td>...</td>\n",
       "      <td>...</td>\n",
       "      <td>...</td>\n",
       "    </tr>\n",
       "    <tr>\n",
       "      <td>202602</td>\n",
       "      <td>1499_215</td>\n",
       "      <td>2018-12-26</td>\n",
       "      <td>0.76</td>\n",
       "      <td>1499</td>\n",
       "    </tr>\n",
       "    <tr>\n",
       "      <td>202603</td>\n",
       "      <td>1499_216</td>\n",
       "      <td>2018-10-18</td>\n",
       "      <td>18.83</td>\n",
       "      <td>1499</td>\n",
       "    </tr>\n",
       "    <tr>\n",
       "      <td>202604</td>\n",
       "      <td>1499_217</td>\n",
       "      <td>2018-11-10</td>\n",
       "      <td>10.81</td>\n",
       "      <td>1499</td>\n",
       "    </tr>\n",
       "    <tr>\n",
       "      <td>202605</td>\n",
       "      <td>1499_218</td>\n",
       "      <td>2018-10-06</td>\n",
       "      <td>4.27</td>\n",
       "      <td>1499</td>\n",
       "    </tr>\n",
       "    <tr>\n",
       "      <td>202606</td>\n",
       "      <td>1499_219</td>\n",
       "      <td>2018-12-14</td>\n",
       "      <td>19.62</td>\n",
       "      <td>1499</td>\n",
       "    </tr>\n",
       "  </tbody>\n",
       "</table>\n",
       "<p>202607 rows × 4 columns</p>\n",
       "</div>"
      ],
      "text/plain": [
       "              id   call_date  duration  user_id\n",
       "0         1000_0  2018-07-25      0.00     1000\n",
       "1         1000_1  2018-08-17      0.00     1000\n",
       "2         1000_2  2018-06-11      2.85     1000\n",
       "3         1000_3  2018-09-21     13.80     1000\n",
       "4         1000_4  2018-12-15      5.18     1000\n",
       "...          ...         ...       ...      ...\n",
       "202602  1499_215  2018-12-26      0.76     1499\n",
       "202603  1499_216  2018-10-18     18.83     1499\n",
       "202604  1499_217  2018-11-10     10.81     1499\n",
       "202605  1499_218  2018-10-06      4.27     1499\n",
       "202606  1499_219  2018-12-14     19.62     1499\n",
       "\n",
       "[202607 rows x 4 columns]"
      ]
     },
     "metadata": {},
     "output_type": "display_data"
    },
    {
     "name": "stdout",
     "output_type": "stream",
     "text": [
      "<class 'pandas.core.frame.DataFrame'>\n",
      "RangeIndex: 202607 entries, 0 to 202606\n",
      "Data columns (total 4 columns):\n",
      "id           202607 non-null object\n",
      "call_date    202607 non-null object\n",
      "duration     202607 non-null float64\n",
      "user_id      202607 non-null int64\n",
      "dtypes: float64(1), int64(1), object(2)\n",
      "memory usage: 6.2+ MB\n"
     ]
    },
    {
     "data": {
      "text/html": [
       "<div>\n",
       "<style scoped>\n",
       "    .dataframe tbody tr th:only-of-type {\n",
       "        vertical-align: middle;\n",
       "    }\n",
       "\n",
       "    .dataframe tbody tr th {\n",
       "        vertical-align: top;\n",
       "    }\n",
       "\n",
       "    .dataframe thead th {\n",
       "        text-align: right;\n",
       "    }\n",
       "</style>\n",
       "<table border=\"1\" class=\"dataframe\">\n",
       "  <thead>\n",
       "    <tr style=\"text-align: right;\">\n",
       "      <th></th>\n",
       "      <th>id</th>\n",
       "      <th>call_date</th>\n",
       "      <th>duration</th>\n",
       "      <th>user_id</th>\n",
       "    </tr>\n",
       "  </thead>\n",
       "  <tbody>\n",
       "    <tr>\n",
       "      <td>0</td>\n",
       "      <td>1000_0</td>\n",
       "      <td>2018-07-25</td>\n",
       "      <td>0.00</td>\n",
       "      <td>1000</td>\n",
       "    </tr>\n",
       "    <tr>\n",
       "      <td>1</td>\n",
       "      <td>1000_1</td>\n",
       "      <td>2018-08-17</td>\n",
       "      <td>0.00</td>\n",
       "      <td>1000</td>\n",
       "    </tr>\n",
       "    <tr>\n",
       "      <td>2</td>\n",
       "      <td>1000_2</td>\n",
       "      <td>2018-06-11</td>\n",
       "      <td>2.85</td>\n",
       "      <td>1000</td>\n",
       "    </tr>\n",
       "    <tr>\n",
       "      <td>3</td>\n",
       "      <td>1000_3</td>\n",
       "      <td>2018-09-21</td>\n",
       "      <td>13.80</td>\n",
       "      <td>1000</td>\n",
       "    </tr>\n",
       "    <tr>\n",
       "      <td>4</td>\n",
       "      <td>1000_4</td>\n",
       "      <td>2018-12-15</td>\n",
       "      <td>5.18</td>\n",
       "      <td>1000</td>\n",
       "    </tr>\n",
       "  </tbody>\n",
       "</table>\n",
       "</div>"
      ],
      "text/plain": [
       "       id   call_date  duration  user_id\n",
       "0  1000_0  2018-07-25      0.00     1000\n",
       "1  1000_1  2018-08-17      0.00     1000\n",
       "2  1000_2  2018-06-11      2.85     1000\n",
       "3  1000_3  2018-09-21     13.80     1000\n",
       "4  1000_4  2018-12-15      5.18     1000"
      ]
     },
     "metadata": {},
     "output_type": "display_data"
    },
    {
     "data": {
      "text/html": [
       "<div>\n",
       "<style scoped>\n",
       "    .dataframe tbody tr th:only-of-type {\n",
       "        vertical-align: middle;\n",
       "    }\n",
       "\n",
       "    .dataframe tbody tr th {\n",
       "        vertical-align: top;\n",
       "    }\n",
       "\n",
       "    .dataframe thead th {\n",
       "        text-align: right;\n",
       "    }\n",
       "</style>\n",
       "<table border=\"1\" class=\"dataframe\">\n",
       "  <thead>\n",
       "    <tr style=\"text-align: right;\">\n",
       "      <th></th>\n",
       "      <th>id</th>\n",
       "      <th>call_date</th>\n",
       "      <th>duration</th>\n",
       "      <th>user_id</th>\n",
       "    </tr>\n",
       "  </thead>\n",
       "  <tbody>\n",
       "    <tr>\n",
       "      <td>202602</td>\n",
       "      <td>1499_215</td>\n",
       "      <td>2018-12-26</td>\n",
       "      <td>0.76</td>\n",
       "      <td>1499</td>\n",
       "    </tr>\n",
       "    <tr>\n",
       "      <td>202603</td>\n",
       "      <td>1499_216</td>\n",
       "      <td>2018-10-18</td>\n",
       "      <td>18.83</td>\n",
       "      <td>1499</td>\n",
       "    </tr>\n",
       "    <tr>\n",
       "      <td>202604</td>\n",
       "      <td>1499_217</td>\n",
       "      <td>2018-11-10</td>\n",
       "      <td>10.81</td>\n",
       "      <td>1499</td>\n",
       "    </tr>\n",
       "    <tr>\n",
       "      <td>202605</td>\n",
       "      <td>1499_218</td>\n",
       "      <td>2018-10-06</td>\n",
       "      <td>4.27</td>\n",
       "      <td>1499</td>\n",
       "    </tr>\n",
       "    <tr>\n",
       "      <td>202606</td>\n",
       "      <td>1499_219</td>\n",
       "      <td>2018-12-14</td>\n",
       "      <td>19.62</td>\n",
       "      <td>1499</td>\n",
       "    </tr>\n",
       "  </tbody>\n",
       "</table>\n",
       "</div>"
      ],
      "text/plain": [
       "              id   call_date  duration  user_id\n",
       "202602  1499_215  2018-12-26      0.76     1499\n",
       "202603  1499_216  2018-10-18     18.83     1499\n",
       "202604  1499_217  2018-11-10     10.81     1499\n",
       "202605  1499_218  2018-10-06      4.27     1499\n",
       "202606  1499_219  2018-12-14     19.62     1499"
      ]
     },
     "metadata": {},
     "output_type": "display_data"
    },
    {
     "data": {
      "text/html": [
       "<div>\n",
       "<style scoped>\n",
       "    .dataframe tbody tr th:only-of-type {\n",
       "        vertical-align: middle;\n",
       "    }\n",
       "\n",
       "    .dataframe tbody tr th {\n",
       "        vertical-align: top;\n",
       "    }\n",
       "\n",
       "    .dataframe thead th {\n",
       "        text-align: right;\n",
       "    }\n",
       "</style>\n",
       "<table border=\"1\" class=\"dataframe\">\n",
       "  <thead>\n",
       "    <tr style=\"text-align: right;\">\n",
       "      <th></th>\n",
       "      <th>count</th>\n",
       "      <th>mean</th>\n",
       "      <th>std</th>\n",
       "      <th>min</th>\n",
       "      <th>25%</th>\n",
       "      <th>50%</th>\n",
       "      <th>75%</th>\n",
       "      <th>max</th>\n",
       "    </tr>\n",
       "  </thead>\n",
       "  <tbody>\n",
       "    <tr>\n",
       "      <td>duration</td>\n",
       "      <td>202607.0</td>\n",
       "      <td>6.755887</td>\n",
       "      <td>5.843365</td>\n",
       "      <td>0.0</td>\n",
       "      <td>1.3</td>\n",
       "      <td>6.0</td>\n",
       "      <td>10.7</td>\n",
       "      <td>38.0</td>\n",
       "    </tr>\n",
       "    <tr>\n",
       "      <td>user_id</td>\n",
       "      <td>202607.0</td>\n",
       "      <td>1253.940619</td>\n",
       "      <td>144.722751</td>\n",
       "      <td>1000.0</td>\n",
       "      <td>1126.0</td>\n",
       "      <td>1260.0</td>\n",
       "      <td>1379.0</td>\n",
       "      <td>1499.0</td>\n",
       "    </tr>\n",
       "  </tbody>\n",
       "</table>\n",
       "</div>"
      ],
      "text/plain": [
       "             count         mean         std     min     25%     50%     75%  \\\n",
       "duration  202607.0     6.755887    5.843365     0.0     1.3     6.0    10.7   \n",
       "user_id   202607.0  1253.940619  144.722751  1000.0  1126.0  1260.0  1379.0   \n",
       "\n",
       "             max  \n",
       "duration    38.0  \n",
       "user_id   1499.0  "
      ]
     },
     "metadata": {},
     "output_type": "display_data"
    }
   ],
   "source": [
    "display(calls)\n",
    "calls.info()\n",
    "display(calls.head())\n",
    "display(calls.tail())\n",
    "display(calls.describe().T)"
   ]
  },
  {
   "cell_type": "markdown",
   "metadata": {},
   "source": [
    "### Вывел данные internet"
   ]
  },
  {
   "cell_type": "code",
   "execution_count": 3,
   "metadata": {},
   "outputs": [
    {
     "data": {
      "text/html": [
       "<div>\n",
       "<style scoped>\n",
       "    .dataframe tbody tr th:only-of-type {\n",
       "        vertical-align: middle;\n",
       "    }\n",
       "\n",
       "    .dataframe tbody tr th {\n",
       "        vertical-align: top;\n",
       "    }\n",
       "\n",
       "    .dataframe thead th {\n",
       "        text-align: right;\n",
       "    }\n",
       "</style>\n",
       "<table border=\"1\" class=\"dataframe\">\n",
       "  <thead>\n",
       "    <tr style=\"text-align: right;\">\n",
       "      <th></th>\n",
       "      <th>Unnamed: 0</th>\n",
       "      <th>id</th>\n",
       "      <th>mb_used</th>\n",
       "      <th>session_date</th>\n",
       "      <th>user_id</th>\n",
       "    </tr>\n",
       "  </thead>\n",
       "  <tbody>\n",
       "    <tr>\n",
       "      <td>0</td>\n",
       "      <td>0</td>\n",
       "      <td>1000_0</td>\n",
       "      <td>112.95</td>\n",
       "      <td>2018-11-25</td>\n",
       "      <td>1000</td>\n",
       "    </tr>\n",
       "    <tr>\n",
       "      <td>1</td>\n",
       "      <td>1</td>\n",
       "      <td>1000_1</td>\n",
       "      <td>1052.81</td>\n",
       "      <td>2018-09-07</td>\n",
       "      <td>1000</td>\n",
       "    </tr>\n",
       "    <tr>\n",
       "      <td>2</td>\n",
       "      <td>2</td>\n",
       "      <td>1000_2</td>\n",
       "      <td>1197.26</td>\n",
       "      <td>2018-06-25</td>\n",
       "      <td>1000</td>\n",
       "    </tr>\n",
       "    <tr>\n",
       "      <td>3</td>\n",
       "      <td>3</td>\n",
       "      <td>1000_3</td>\n",
       "      <td>550.27</td>\n",
       "      <td>2018-08-22</td>\n",
       "      <td>1000</td>\n",
       "    </tr>\n",
       "    <tr>\n",
       "      <td>4</td>\n",
       "      <td>4</td>\n",
       "      <td>1000_4</td>\n",
       "      <td>302.56</td>\n",
       "      <td>2018-09-24</td>\n",
       "      <td>1000</td>\n",
       "    </tr>\n",
       "    <tr>\n",
       "      <td>...</td>\n",
       "      <td>...</td>\n",
       "      <td>...</td>\n",
       "      <td>...</td>\n",
       "      <td>...</td>\n",
       "      <td>...</td>\n",
       "    </tr>\n",
       "    <tr>\n",
       "      <td>149391</td>\n",
       "      <td>149391</td>\n",
       "      <td>1499_152</td>\n",
       "      <td>318.90</td>\n",
       "      <td>2018-10-03</td>\n",
       "      <td>1499</td>\n",
       "    </tr>\n",
       "    <tr>\n",
       "      <td>149392</td>\n",
       "      <td>149392</td>\n",
       "      <td>1499_153</td>\n",
       "      <td>490.13</td>\n",
       "      <td>2018-12-14</td>\n",
       "      <td>1499</td>\n",
       "    </tr>\n",
       "    <tr>\n",
       "      <td>149393</td>\n",
       "      <td>149393</td>\n",
       "      <td>1499_154</td>\n",
       "      <td>0.00</td>\n",
       "      <td>2018-10-27</td>\n",
       "      <td>1499</td>\n",
       "    </tr>\n",
       "    <tr>\n",
       "      <td>149394</td>\n",
       "      <td>149394</td>\n",
       "      <td>1499_155</td>\n",
       "      <td>1246.32</td>\n",
       "      <td>2018-11-26</td>\n",
       "      <td>1499</td>\n",
       "    </tr>\n",
       "    <tr>\n",
       "      <td>149395</td>\n",
       "      <td>149395</td>\n",
       "      <td>1499_156</td>\n",
       "      <td>544.37</td>\n",
       "      <td>2018-10-26</td>\n",
       "      <td>1499</td>\n",
       "    </tr>\n",
       "  </tbody>\n",
       "</table>\n",
       "<p>149396 rows × 5 columns</p>\n",
       "</div>"
      ],
      "text/plain": [
       "        Unnamed: 0        id  mb_used session_date  user_id\n",
       "0                0    1000_0   112.95   2018-11-25     1000\n",
       "1                1    1000_1  1052.81   2018-09-07     1000\n",
       "2                2    1000_2  1197.26   2018-06-25     1000\n",
       "3                3    1000_3   550.27   2018-08-22     1000\n",
       "4                4    1000_4   302.56   2018-09-24     1000\n",
       "...            ...       ...      ...          ...      ...\n",
       "149391      149391  1499_152   318.90   2018-10-03     1499\n",
       "149392      149392  1499_153   490.13   2018-12-14     1499\n",
       "149393      149393  1499_154     0.00   2018-10-27     1499\n",
       "149394      149394  1499_155  1246.32   2018-11-26     1499\n",
       "149395      149395  1499_156   544.37   2018-10-26     1499\n",
       "\n",
       "[149396 rows x 5 columns]"
      ]
     },
     "metadata": {},
     "output_type": "display_data"
    },
    {
     "name": "stdout",
     "output_type": "stream",
     "text": [
      "<class 'pandas.core.frame.DataFrame'>\n",
      "RangeIndex: 149396 entries, 0 to 149395\n",
      "Data columns (total 5 columns):\n",
      "Unnamed: 0      149396 non-null int64\n",
      "id              149396 non-null object\n",
      "mb_used         149396 non-null float64\n",
      "session_date    149396 non-null object\n",
      "user_id         149396 non-null int64\n",
      "dtypes: float64(1), int64(2), object(2)\n",
      "memory usage: 5.7+ MB\n"
     ]
    },
    {
     "data": {
      "text/html": [
       "<div>\n",
       "<style scoped>\n",
       "    .dataframe tbody tr th:only-of-type {\n",
       "        vertical-align: middle;\n",
       "    }\n",
       "\n",
       "    .dataframe tbody tr th {\n",
       "        vertical-align: top;\n",
       "    }\n",
       "\n",
       "    .dataframe thead th {\n",
       "        text-align: right;\n",
       "    }\n",
       "</style>\n",
       "<table border=\"1\" class=\"dataframe\">\n",
       "  <thead>\n",
       "    <tr style=\"text-align: right;\">\n",
       "      <th></th>\n",
       "      <th>Unnamed: 0</th>\n",
       "      <th>id</th>\n",
       "      <th>mb_used</th>\n",
       "      <th>session_date</th>\n",
       "      <th>user_id</th>\n",
       "    </tr>\n",
       "  </thead>\n",
       "  <tbody>\n",
       "    <tr>\n",
       "      <td>0</td>\n",
       "      <td>0</td>\n",
       "      <td>1000_0</td>\n",
       "      <td>112.95</td>\n",
       "      <td>2018-11-25</td>\n",
       "      <td>1000</td>\n",
       "    </tr>\n",
       "    <tr>\n",
       "      <td>1</td>\n",
       "      <td>1</td>\n",
       "      <td>1000_1</td>\n",
       "      <td>1052.81</td>\n",
       "      <td>2018-09-07</td>\n",
       "      <td>1000</td>\n",
       "    </tr>\n",
       "    <tr>\n",
       "      <td>2</td>\n",
       "      <td>2</td>\n",
       "      <td>1000_2</td>\n",
       "      <td>1197.26</td>\n",
       "      <td>2018-06-25</td>\n",
       "      <td>1000</td>\n",
       "    </tr>\n",
       "    <tr>\n",
       "      <td>3</td>\n",
       "      <td>3</td>\n",
       "      <td>1000_3</td>\n",
       "      <td>550.27</td>\n",
       "      <td>2018-08-22</td>\n",
       "      <td>1000</td>\n",
       "    </tr>\n",
       "    <tr>\n",
       "      <td>4</td>\n",
       "      <td>4</td>\n",
       "      <td>1000_4</td>\n",
       "      <td>302.56</td>\n",
       "      <td>2018-09-24</td>\n",
       "      <td>1000</td>\n",
       "    </tr>\n",
       "  </tbody>\n",
       "</table>\n",
       "</div>"
      ],
      "text/plain": [
       "   Unnamed: 0      id  mb_used session_date  user_id\n",
       "0           0  1000_0   112.95   2018-11-25     1000\n",
       "1           1  1000_1  1052.81   2018-09-07     1000\n",
       "2           2  1000_2  1197.26   2018-06-25     1000\n",
       "3           3  1000_3   550.27   2018-08-22     1000\n",
       "4           4  1000_4   302.56   2018-09-24     1000"
      ]
     },
     "metadata": {},
     "output_type": "display_data"
    },
    {
     "data": {
      "text/html": [
       "<div>\n",
       "<style scoped>\n",
       "    .dataframe tbody tr th:only-of-type {\n",
       "        vertical-align: middle;\n",
       "    }\n",
       "\n",
       "    .dataframe tbody tr th {\n",
       "        vertical-align: top;\n",
       "    }\n",
       "\n",
       "    .dataframe thead th {\n",
       "        text-align: right;\n",
       "    }\n",
       "</style>\n",
       "<table border=\"1\" class=\"dataframe\">\n",
       "  <thead>\n",
       "    <tr style=\"text-align: right;\">\n",
       "      <th></th>\n",
       "      <th>Unnamed: 0</th>\n",
       "      <th>id</th>\n",
       "      <th>mb_used</th>\n",
       "      <th>session_date</th>\n",
       "      <th>user_id</th>\n",
       "    </tr>\n",
       "  </thead>\n",
       "  <tbody>\n",
       "    <tr>\n",
       "      <td>149391</td>\n",
       "      <td>149391</td>\n",
       "      <td>1499_152</td>\n",
       "      <td>318.90</td>\n",
       "      <td>2018-10-03</td>\n",
       "      <td>1499</td>\n",
       "    </tr>\n",
       "    <tr>\n",
       "      <td>149392</td>\n",
       "      <td>149392</td>\n",
       "      <td>1499_153</td>\n",
       "      <td>490.13</td>\n",
       "      <td>2018-12-14</td>\n",
       "      <td>1499</td>\n",
       "    </tr>\n",
       "    <tr>\n",
       "      <td>149393</td>\n",
       "      <td>149393</td>\n",
       "      <td>1499_154</td>\n",
       "      <td>0.00</td>\n",
       "      <td>2018-10-27</td>\n",
       "      <td>1499</td>\n",
       "    </tr>\n",
       "    <tr>\n",
       "      <td>149394</td>\n",
       "      <td>149394</td>\n",
       "      <td>1499_155</td>\n",
       "      <td>1246.32</td>\n",
       "      <td>2018-11-26</td>\n",
       "      <td>1499</td>\n",
       "    </tr>\n",
       "    <tr>\n",
       "      <td>149395</td>\n",
       "      <td>149395</td>\n",
       "      <td>1499_156</td>\n",
       "      <td>544.37</td>\n",
       "      <td>2018-10-26</td>\n",
       "      <td>1499</td>\n",
       "    </tr>\n",
       "  </tbody>\n",
       "</table>\n",
       "</div>"
      ],
      "text/plain": [
       "        Unnamed: 0        id  mb_used session_date  user_id\n",
       "149391      149391  1499_152   318.90   2018-10-03     1499\n",
       "149392      149392  1499_153   490.13   2018-12-14     1499\n",
       "149393      149393  1499_154     0.00   2018-10-27     1499\n",
       "149394      149394  1499_155  1246.32   2018-11-26     1499\n",
       "149395      149395  1499_156   544.37   2018-10-26     1499"
      ]
     },
     "metadata": {},
     "output_type": "display_data"
    },
    {
     "data": {
      "text/html": [
       "<div>\n",
       "<style scoped>\n",
       "    .dataframe tbody tr th:only-of-type {\n",
       "        vertical-align: middle;\n",
       "    }\n",
       "\n",
       "    .dataframe tbody tr th {\n",
       "        vertical-align: top;\n",
       "    }\n",
       "\n",
       "    .dataframe thead th {\n",
       "        text-align: right;\n",
       "    }\n",
       "</style>\n",
       "<table border=\"1\" class=\"dataframe\">\n",
       "  <thead>\n",
       "    <tr style=\"text-align: right;\">\n",
       "      <th></th>\n",
       "      <th>count</th>\n",
       "      <th>mean</th>\n",
       "      <th>std</th>\n",
       "      <th>min</th>\n",
       "      <th>25%</th>\n",
       "      <th>50%</th>\n",
       "      <th>75%</th>\n",
       "      <th>max</th>\n",
       "    </tr>\n",
       "  </thead>\n",
       "  <tbody>\n",
       "    <tr>\n",
       "      <td>Unnamed: 0</td>\n",
       "      <td>149396.0</td>\n",
       "      <td>74697.500000</td>\n",
       "      <td>43127.054745</td>\n",
       "      <td>0.0</td>\n",
       "      <td>37348.7500</td>\n",
       "      <td>74697.500</td>\n",
       "      <td>112046.2500</td>\n",
       "      <td>149395.00</td>\n",
       "    </tr>\n",
       "    <tr>\n",
       "      <td>mb_used</td>\n",
       "      <td>149396.0</td>\n",
       "      <td>370.192426</td>\n",
       "      <td>278.300951</td>\n",
       "      <td>0.0</td>\n",
       "      <td>138.1875</td>\n",
       "      <td>348.015</td>\n",
       "      <td>559.5525</td>\n",
       "      <td>1724.83</td>\n",
       "    </tr>\n",
       "    <tr>\n",
       "      <td>user_id</td>\n",
       "      <td>149396.0</td>\n",
       "      <td>1252.099842</td>\n",
       "      <td>144.050823</td>\n",
       "      <td>1000.0</td>\n",
       "      <td>1130.0000</td>\n",
       "      <td>1251.000</td>\n",
       "      <td>1380.0000</td>\n",
       "      <td>1499.00</td>\n",
       "    </tr>\n",
       "  </tbody>\n",
       "</table>\n",
       "</div>"
      ],
      "text/plain": [
       "               count          mean           std     min         25%  \\\n",
       "Unnamed: 0  149396.0  74697.500000  43127.054745     0.0  37348.7500   \n",
       "mb_used     149396.0    370.192426    278.300951     0.0    138.1875   \n",
       "user_id     149396.0   1252.099842    144.050823  1000.0   1130.0000   \n",
       "\n",
       "                  50%          75%        max  \n",
       "Unnamed: 0  74697.500  112046.2500  149395.00  \n",
       "mb_used       348.015     559.5525    1724.83  \n",
       "user_id      1251.000    1380.0000    1499.00  "
      ]
     },
     "metadata": {},
     "output_type": "display_data"
    }
   ],
   "source": [
    "display(internet)\n",
    "internet.info()\n",
    "display(internet.head())\n",
    "display(internet.tail())\n",
    "display(internet.describe().T)"
   ]
  },
  {
   "cell_type": "markdown",
   "metadata": {},
   "source": [
    "### Вывел данные message"
   ]
  },
  {
   "cell_type": "code",
   "execution_count": 4,
   "metadata": {},
   "outputs": [
    {
     "data": {
      "text/html": [
       "<div>\n",
       "<style scoped>\n",
       "    .dataframe tbody tr th:only-of-type {\n",
       "        vertical-align: middle;\n",
       "    }\n",
       "\n",
       "    .dataframe tbody tr th {\n",
       "        vertical-align: top;\n",
       "    }\n",
       "\n",
       "    .dataframe thead th {\n",
       "        text-align: right;\n",
       "    }\n",
       "</style>\n",
       "<table border=\"1\" class=\"dataframe\">\n",
       "  <thead>\n",
       "    <tr style=\"text-align: right;\">\n",
       "      <th></th>\n",
       "      <th>id</th>\n",
       "      <th>message_date</th>\n",
       "      <th>user_id</th>\n",
       "    </tr>\n",
       "  </thead>\n",
       "  <tbody>\n",
       "    <tr>\n",
       "      <td>0</td>\n",
       "      <td>1000_0</td>\n",
       "      <td>2018-06-27</td>\n",
       "      <td>1000</td>\n",
       "    </tr>\n",
       "    <tr>\n",
       "      <td>1</td>\n",
       "      <td>1000_1</td>\n",
       "      <td>2018-10-08</td>\n",
       "      <td>1000</td>\n",
       "    </tr>\n",
       "    <tr>\n",
       "      <td>2</td>\n",
       "      <td>1000_2</td>\n",
       "      <td>2018-08-04</td>\n",
       "      <td>1000</td>\n",
       "    </tr>\n",
       "    <tr>\n",
       "      <td>3</td>\n",
       "      <td>1000_3</td>\n",
       "      <td>2018-06-16</td>\n",
       "      <td>1000</td>\n",
       "    </tr>\n",
       "    <tr>\n",
       "      <td>4</td>\n",
       "      <td>1000_4</td>\n",
       "      <td>2018-12-05</td>\n",
       "      <td>1000</td>\n",
       "    </tr>\n",
       "    <tr>\n",
       "      <td>...</td>\n",
       "      <td>...</td>\n",
       "      <td>...</td>\n",
       "      <td>...</td>\n",
       "    </tr>\n",
       "    <tr>\n",
       "      <td>123031</td>\n",
       "      <td>1499_179</td>\n",
       "      <td>2018-12-12</td>\n",
       "      <td>1499</td>\n",
       "    </tr>\n",
       "    <tr>\n",
       "      <td>123032</td>\n",
       "      <td>1499_180</td>\n",
       "      <td>2018-09-28</td>\n",
       "      <td>1499</td>\n",
       "    </tr>\n",
       "    <tr>\n",
       "      <td>123033</td>\n",
       "      <td>1499_181</td>\n",
       "      <td>2018-09-27</td>\n",
       "      <td>1499</td>\n",
       "    </tr>\n",
       "    <tr>\n",
       "      <td>123034</td>\n",
       "      <td>1499_182</td>\n",
       "      <td>2018-11-15</td>\n",
       "      <td>1499</td>\n",
       "    </tr>\n",
       "    <tr>\n",
       "      <td>123035</td>\n",
       "      <td>1499_183</td>\n",
       "      <td>2018-11-16</td>\n",
       "      <td>1499</td>\n",
       "    </tr>\n",
       "  </tbody>\n",
       "</table>\n",
       "<p>123036 rows × 3 columns</p>\n",
       "</div>"
      ],
      "text/plain": [
       "              id message_date  user_id\n",
       "0         1000_0   2018-06-27     1000\n",
       "1         1000_1   2018-10-08     1000\n",
       "2         1000_2   2018-08-04     1000\n",
       "3         1000_3   2018-06-16     1000\n",
       "4         1000_4   2018-12-05     1000\n",
       "...          ...          ...      ...\n",
       "123031  1499_179   2018-12-12     1499\n",
       "123032  1499_180   2018-09-28     1499\n",
       "123033  1499_181   2018-09-27     1499\n",
       "123034  1499_182   2018-11-15     1499\n",
       "123035  1499_183   2018-11-16     1499\n",
       "\n",
       "[123036 rows x 3 columns]"
      ]
     },
     "metadata": {},
     "output_type": "display_data"
    },
    {
     "name": "stdout",
     "output_type": "stream",
     "text": [
      "<class 'pandas.core.frame.DataFrame'>\n",
      "RangeIndex: 123036 entries, 0 to 123035\n",
      "Data columns (total 3 columns):\n",
      "id              123036 non-null object\n",
      "message_date    123036 non-null object\n",
      "user_id         123036 non-null int64\n",
      "dtypes: int64(1), object(2)\n",
      "memory usage: 2.8+ MB\n"
     ]
    },
    {
     "data": {
      "text/html": [
       "<div>\n",
       "<style scoped>\n",
       "    .dataframe tbody tr th:only-of-type {\n",
       "        vertical-align: middle;\n",
       "    }\n",
       "\n",
       "    .dataframe tbody tr th {\n",
       "        vertical-align: top;\n",
       "    }\n",
       "\n",
       "    .dataframe thead th {\n",
       "        text-align: right;\n",
       "    }\n",
       "</style>\n",
       "<table border=\"1\" class=\"dataframe\">\n",
       "  <thead>\n",
       "    <tr style=\"text-align: right;\">\n",
       "      <th></th>\n",
       "      <th>id</th>\n",
       "      <th>message_date</th>\n",
       "      <th>user_id</th>\n",
       "    </tr>\n",
       "  </thead>\n",
       "  <tbody>\n",
       "    <tr>\n",
       "      <td>0</td>\n",
       "      <td>1000_0</td>\n",
       "      <td>2018-06-27</td>\n",
       "      <td>1000</td>\n",
       "    </tr>\n",
       "    <tr>\n",
       "      <td>1</td>\n",
       "      <td>1000_1</td>\n",
       "      <td>2018-10-08</td>\n",
       "      <td>1000</td>\n",
       "    </tr>\n",
       "    <tr>\n",
       "      <td>2</td>\n",
       "      <td>1000_2</td>\n",
       "      <td>2018-08-04</td>\n",
       "      <td>1000</td>\n",
       "    </tr>\n",
       "    <tr>\n",
       "      <td>3</td>\n",
       "      <td>1000_3</td>\n",
       "      <td>2018-06-16</td>\n",
       "      <td>1000</td>\n",
       "    </tr>\n",
       "    <tr>\n",
       "      <td>4</td>\n",
       "      <td>1000_4</td>\n",
       "      <td>2018-12-05</td>\n",
       "      <td>1000</td>\n",
       "    </tr>\n",
       "  </tbody>\n",
       "</table>\n",
       "</div>"
      ],
      "text/plain": [
       "       id message_date  user_id\n",
       "0  1000_0   2018-06-27     1000\n",
       "1  1000_1   2018-10-08     1000\n",
       "2  1000_2   2018-08-04     1000\n",
       "3  1000_3   2018-06-16     1000\n",
       "4  1000_4   2018-12-05     1000"
      ]
     },
     "metadata": {},
     "output_type": "display_data"
    },
    {
     "data": {
      "text/html": [
       "<div>\n",
       "<style scoped>\n",
       "    .dataframe tbody tr th:only-of-type {\n",
       "        vertical-align: middle;\n",
       "    }\n",
       "\n",
       "    .dataframe tbody tr th {\n",
       "        vertical-align: top;\n",
       "    }\n",
       "\n",
       "    .dataframe thead th {\n",
       "        text-align: right;\n",
       "    }\n",
       "</style>\n",
       "<table border=\"1\" class=\"dataframe\">\n",
       "  <thead>\n",
       "    <tr style=\"text-align: right;\">\n",
       "      <th></th>\n",
       "      <th>id</th>\n",
       "      <th>message_date</th>\n",
       "      <th>user_id</th>\n",
       "    </tr>\n",
       "  </thead>\n",
       "  <tbody>\n",
       "    <tr>\n",
       "      <td>123031</td>\n",
       "      <td>1499_179</td>\n",
       "      <td>2018-12-12</td>\n",
       "      <td>1499</td>\n",
       "    </tr>\n",
       "    <tr>\n",
       "      <td>123032</td>\n",
       "      <td>1499_180</td>\n",
       "      <td>2018-09-28</td>\n",
       "      <td>1499</td>\n",
       "    </tr>\n",
       "    <tr>\n",
       "      <td>123033</td>\n",
       "      <td>1499_181</td>\n",
       "      <td>2018-09-27</td>\n",
       "      <td>1499</td>\n",
       "    </tr>\n",
       "    <tr>\n",
       "      <td>123034</td>\n",
       "      <td>1499_182</td>\n",
       "      <td>2018-11-15</td>\n",
       "      <td>1499</td>\n",
       "    </tr>\n",
       "    <tr>\n",
       "      <td>123035</td>\n",
       "      <td>1499_183</td>\n",
       "      <td>2018-11-16</td>\n",
       "      <td>1499</td>\n",
       "    </tr>\n",
       "  </tbody>\n",
       "</table>\n",
       "</div>"
      ],
      "text/plain": [
       "              id message_date  user_id\n",
       "123031  1499_179   2018-12-12     1499\n",
       "123032  1499_180   2018-09-28     1499\n",
       "123033  1499_181   2018-09-27     1499\n",
       "123034  1499_182   2018-11-15     1499\n",
       "123035  1499_183   2018-11-16     1499"
      ]
     },
     "metadata": {},
     "output_type": "display_data"
    },
    {
     "data": {
      "text/html": [
       "<div>\n",
       "<style scoped>\n",
       "    .dataframe tbody tr th:only-of-type {\n",
       "        vertical-align: middle;\n",
       "    }\n",
       "\n",
       "    .dataframe tbody tr th {\n",
       "        vertical-align: top;\n",
       "    }\n",
       "\n",
       "    .dataframe thead th {\n",
       "        text-align: right;\n",
       "    }\n",
       "</style>\n",
       "<table border=\"1\" class=\"dataframe\">\n",
       "  <thead>\n",
       "    <tr style=\"text-align: right;\">\n",
       "      <th></th>\n",
       "      <th>count</th>\n",
       "      <th>mean</th>\n",
       "      <th>std</th>\n",
       "      <th>min</th>\n",
       "      <th>25%</th>\n",
       "      <th>50%</th>\n",
       "      <th>75%</th>\n",
       "      <th>max</th>\n",
       "    </tr>\n",
       "  </thead>\n",
       "  <tbody>\n",
       "    <tr>\n",
       "      <td>user_id</td>\n",
       "      <td>123036.0</td>\n",
       "      <td>1256.98941</td>\n",
       "      <td>143.523967</td>\n",
       "      <td>1000.0</td>\n",
       "      <td>1134.0</td>\n",
       "      <td>1271.0</td>\n",
       "      <td>1381.0</td>\n",
       "      <td>1499.0</td>\n",
       "    </tr>\n",
       "  </tbody>\n",
       "</table>\n",
       "</div>"
      ],
      "text/plain": [
       "            count        mean         std     min     25%     50%     75%  \\\n",
       "user_id  123036.0  1256.98941  143.523967  1000.0  1134.0  1271.0  1381.0   \n",
       "\n",
       "            max  \n",
       "user_id  1499.0  "
      ]
     },
     "metadata": {},
     "output_type": "display_data"
    }
   ],
   "source": [
    "display(message)\n",
    "message.info()\n",
    "display(message.head())\n",
    "display(message.tail())\n",
    "display(message.describe().T)"
   ]
  },
  {
   "cell_type": "markdown",
   "metadata": {},
   "source": [
    "### Вывел данные tariffs"
   ]
  },
  {
   "cell_type": "code",
   "execution_count": 5,
   "metadata": {},
   "outputs": [
    {
     "data": {
      "text/html": [
       "<div>\n",
       "<style scoped>\n",
       "    .dataframe tbody tr th:only-of-type {\n",
       "        vertical-align: middle;\n",
       "    }\n",
       "\n",
       "    .dataframe tbody tr th {\n",
       "        vertical-align: top;\n",
       "    }\n",
       "\n",
       "    .dataframe thead th {\n",
       "        text-align: right;\n",
       "    }\n",
       "</style>\n",
       "<table border=\"1\" class=\"dataframe\">\n",
       "  <thead>\n",
       "    <tr style=\"text-align: right;\">\n",
       "      <th></th>\n",
       "      <th>messages_included</th>\n",
       "      <th>mb_per_month_included</th>\n",
       "      <th>minutes_included</th>\n",
       "      <th>rub_monthly_fee</th>\n",
       "      <th>rub_per_gb</th>\n",
       "      <th>rub_per_message</th>\n",
       "      <th>rub_per_minute</th>\n",
       "      <th>tariff_name</th>\n",
       "    </tr>\n",
       "  </thead>\n",
       "  <tbody>\n",
       "    <tr>\n",
       "      <td>0</td>\n",
       "      <td>50</td>\n",
       "      <td>15360</td>\n",
       "      <td>500</td>\n",
       "      <td>550</td>\n",
       "      <td>200</td>\n",
       "      <td>3</td>\n",
       "      <td>3</td>\n",
       "      <td>smart</td>\n",
       "    </tr>\n",
       "    <tr>\n",
       "      <td>1</td>\n",
       "      <td>1000</td>\n",
       "      <td>30720</td>\n",
       "      <td>3000</td>\n",
       "      <td>1950</td>\n",
       "      <td>150</td>\n",
       "      <td>1</td>\n",
       "      <td>1</td>\n",
       "      <td>ultra</td>\n",
       "    </tr>\n",
       "  </tbody>\n",
       "</table>\n",
       "</div>"
      ],
      "text/plain": [
       "   messages_included  mb_per_month_included  minutes_included  \\\n",
       "0                 50                  15360               500   \n",
       "1               1000                  30720              3000   \n",
       "\n",
       "   rub_monthly_fee  rub_per_gb  rub_per_message  rub_per_minute tariff_name  \n",
       "0              550         200                3               3       smart  \n",
       "1             1950         150                1               1       ultra  "
      ]
     },
     "metadata": {},
     "output_type": "display_data"
    },
    {
     "name": "stdout",
     "output_type": "stream",
     "text": [
      "<class 'pandas.core.frame.DataFrame'>\n",
      "RangeIndex: 2 entries, 0 to 1\n",
      "Data columns (total 8 columns):\n",
      "messages_included        2 non-null int64\n",
      "mb_per_month_included    2 non-null int64\n",
      "minutes_included         2 non-null int64\n",
      "rub_monthly_fee          2 non-null int64\n",
      "rub_per_gb               2 non-null int64\n",
      "rub_per_message          2 non-null int64\n",
      "rub_per_minute           2 non-null int64\n",
      "tariff_name              2 non-null object\n",
      "dtypes: int64(7), object(1)\n",
      "memory usage: 256.0+ bytes\n"
     ]
    }
   ],
   "source": [
    "display(tariffs)\n",
    "tariffs.info()\n"
   ]
  },
  {
   "cell_type": "markdown",
   "metadata": {},
   "source": [
    "### Вывел данные user"
   ]
  },
  {
   "cell_type": "code",
   "execution_count": 6,
   "metadata": {},
   "outputs": [
    {
     "data": {
      "text/html": [
       "<div>\n",
       "<style scoped>\n",
       "    .dataframe tbody tr th:only-of-type {\n",
       "        vertical-align: middle;\n",
       "    }\n",
       "\n",
       "    .dataframe tbody tr th {\n",
       "        vertical-align: top;\n",
       "    }\n",
       "\n",
       "    .dataframe thead th {\n",
       "        text-align: right;\n",
       "    }\n",
       "</style>\n",
       "<table border=\"1\" class=\"dataframe\">\n",
       "  <thead>\n",
       "    <tr style=\"text-align: right;\">\n",
       "      <th></th>\n",
       "      <th>user_id</th>\n",
       "      <th>age</th>\n",
       "      <th>churn_date</th>\n",
       "      <th>city</th>\n",
       "      <th>first_name</th>\n",
       "      <th>last_name</th>\n",
       "      <th>reg_date</th>\n",
       "      <th>tariff</th>\n",
       "    </tr>\n",
       "  </thead>\n",
       "  <tbody>\n",
       "    <tr>\n",
       "      <td>0</td>\n",
       "      <td>1000</td>\n",
       "      <td>52</td>\n",
       "      <td>NaN</td>\n",
       "      <td>Краснодар</td>\n",
       "      <td>Рафаил</td>\n",
       "      <td>Верещагин</td>\n",
       "      <td>2018-05-25</td>\n",
       "      <td>ultra</td>\n",
       "    </tr>\n",
       "    <tr>\n",
       "      <td>1</td>\n",
       "      <td>1001</td>\n",
       "      <td>41</td>\n",
       "      <td>NaN</td>\n",
       "      <td>Москва</td>\n",
       "      <td>Иван</td>\n",
       "      <td>Ежов</td>\n",
       "      <td>2018-11-01</td>\n",
       "      <td>smart</td>\n",
       "    </tr>\n",
       "    <tr>\n",
       "      <td>2</td>\n",
       "      <td>1002</td>\n",
       "      <td>59</td>\n",
       "      <td>NaN</td>\n",
       "      <td>Стерлитамак</td>\n",
       "      <td>Евгений</td>\n",
       "      <td>Абрамович</td>\n",
       "      <td>2018-06-17</td>\n",
       "      <td>smart</td>\n",
       "    </tr>\n",
       "    <tr>\n",
       "      <td>3</td>\n",
       "      <td>1003</td>\n",
       "      <td>23</td>\n",
       "      <td>NaN</td>\n",
       "      <td>Москва</td>\n",
       "      <td>Белла</td>\n",
       "      <td>Белякова</td>\n",
       "      <td>2018-08-17</td>\n",
       "      <td>ultra</td>\n",
       "    </tr>\n",
       "    <tr>\n",
       "      <td>4</td>\n",
       "      <td>1004</td>\n",
       "      <td>68</td>\n",
       "      <td>NaN</td>\n",
       "      <td>Новокузнецк</td>\n",
       "      <td>Татьяна</td>\n",
       "      <td>Авдеенко</td>\n",
       "      <td>2018-05-14</td>\n",
       "      <td>ultra</td>\n",
       "    </tr>\n",
       "    <tr>\n",
       "      <td>...</td>\n",
       "      <td>...</td>\n",
       "      <td>...</td>\n",
       "      <td>...</td>\n",
       "      <td>...</td>\n",
       "      <td>...</td>\n",
       "      <td>...</td>\n",
       "      <td>...</td>\n",
       "      <td>...</td>\n",
       "    </tr>\n",
       "    <tr>\n",
       "      <td>495</td>\n",
       "      <td>1495</td>\n",
       "      <td>65</td>\n",
       "      <td>NaN</td>\n",
       "      <td>Иркутск</td>\n",
       "      <td>Авксентий</td>\n",
       "      <td>Фокин</td>\n",
       "      <td>2018-08-28</td>\n",
       "      <td>ultra</td>\n",
       "    </tr>\n",
       "    <tr>\n",
       "      <td>496</td>\n",
       "      <td>1496</td>\n",
       "      <td>36</td>\n",
       "      <td>NaN</td>\n",
       "      <td>Вологда</td>\n",
       "      <td>Трифон</td>\n",
       "      <td>Блохин</td>\n",
       "      <td>2018-01-27</td>\n",
       "      <td>smart</td>\n",
       "    </tr>\n",
       "    <tr>\n",
       "      <td>497</td>\n",
       "      <td>1497</td>\n",
       "      <td>32</td>\n",
       "      <td>NaN</td>\n",
       "      <td>Челябинск</td>\n",
       "      <td>Каролина</td>\n",
       "      <td>Агеева</td>\n",
       "      <td>2018-10-09</td>\n",
       "      <td>smart</td>\n",
       "    </tr>\n",
       "    <tr>\n",
       "      <td>498</td>\n",
       "      <td>1498</td>\n",
       "      <td>68</td>\n",
       "      <td>2018-10-25</td>\n",
       "      <td>Владикавказ</td>\n",
       "      <td>Всеволод</td>\n",
       "      <td>Акимчин</td>\n",
       "      <td>2018-07-19</td>\n",
       "      <td>smart</td>\n",
       "    </tr>\n",
       "    <tr>\n",
       "      <td>499</td>\n",
       "      <td>1499</td>\n",
       "      <td>35</td>\n",
       "      <td>NaN</td>\n",
       "      <td>Пермь</td>\n",
       "      <td>Гектор</td>\n",
       "      <td>Корнилов</td>\n",
       "      <td>2018-09-27</td>\n",
       "      <td>smart</td>\n",
       "    </tr>\n",
       "  </tbody>\n",
       "</table>\n",
       "<p>500 rows × 8 columns</p>\n",
       "</div>"
      ],
      "text/plain": [
       "     user_id  age  churn_date         city first_name  last_name    reg_date  \\\n",
       "0       1000   52         NaN    Краснодар     Рафаил  Верещагин  2018-05-25   \n",
       "1       1001   41         NaN       Москва       Иван       Ежов  2018-11-01   \n",
       "2       1002   59         NaN  Стерлитамак    Евгений  Абрамович  2018-06-17   \n",
       "3       1003   23         NaN       Москва      Белла   Белякова  2018-08-17   \n",
       "4       1004   68         NaN  Новокузнецк    Татьяна   Авдеенко  2018-05-14   \n",
       "..       ...  ...         ...          ...        ...        ...         ...   \n",
       "495     1495   65         NaN      Иркутск  Авксентий      Фокин  2018-08-28   \n",
       "496     1496   36         NaN      Вологда     Трифон     Блохин  2018-01-27   \n",
       "497     1497   32         NaN    Челябинск   Каролина     Агеева  2018-10-09   \n",
       "498     1498   68  2018-10-25  Владикавказ   Всеволод    Акимчин  2018-07-19   \n",
       "499     1499   35         NaN        Пермь     Гектор   Корнилов  2018-09-27   \n",
       "\n",
       "    tariff  \n",
       "0    ultra  \n",
       "1    smart  \n",
       "2    smart  \n",
       "3    ultra  \n",
       "4    ultra  \n",
       "..     ...  \n",
       "495  ultra  \n",
       "496  smart  \n",
       "497  smart  \n",
       "498  smart  \n",
       "499  smart  \n",
       "\n",
       "[500 rows x 8 columns]"
      ]
     },
     "metadata": {},
     "output_type": "display_data"
    },
    {
     "name": "stdout",
     "output_type": "stream",
     "text": [
      "<class 'pandas.core.frame.DataFrame'>\n",
      "RangeIndex: 500 entries, 0 to 499\n",
      "Data columns (total 8 columns):\n",
      "user_id       500 non-null int64\n",
      "age           500 non-null int64\n",
      "churn_date    38 non-null object\n",
      "city          500 non-null object\n",
      "first_name    500 non-null object\n",
      "last_name     500 non-null object\n",
      "reg_date      500 non-null object\n",
      "tariff        500 non-null object\n",
      "dtypes: int64(2), object(6)\n",
      "memory usage: 31.4+ KB\n"
     ]
    },
    {
     "data": {
      "text/html": [
       "<div>\n",
       "<style scoped>\n",
       "    .dataframe tbody tr th:only-of-type {\n",
       "        vertical-align: middle;\n",
       "    }\n",
       "\n",
       "    .dataframe tbody tr th {\n",
       "        vertical-align: top;\n",
       "    }\n",
       "\n",
       "    .dataframe thead th {\n",
       "        text-align: right;\n",
       "    }\n",
       "</style>\n",
       "<table border=\"1\" class=\"dataframe\">\n",
       "  <thead>\n",
       "    <tr style=\"text-align: right;\">\n",
       "      <th></th>\n",
       "      <th>user_id</th>\n",
       "      <th>age</th>\n",
       "      <th>churn_date</th>\n",
       "      <th>city</th>\n",
       "      <th>first_name</th>\n",
       "      <th>last_name</th>\n",
       "      <th>reg_date</th>\n",
       "      <th>tariff</th>\n",
       "    </tr>\n",
       "  </thead>\n",
       "  <tbody>\n",
       "    <tr>\n",
       "      <td>0</td>\n",
       "      <td>1000</td>\n",
       "      <td>52</td>\n",
       "      <td>NaN</td>\n",
       "      <td>Краснодар</td>\n",
       "      <td>Рафаил</td>\n",
       "      <td>Верещагин</td>\n",
       "      <td>2018-05-25</td>\n",
       "      <td>ultra</td>\n",
       "    </tr>\n",
       "    <tr>\n",
       "      <td>1</td>\n",
       "      <td>1001</td>\n",
       "      <td>41</td>\n",
       "      <td>NaN</td>\n",
       "      <td>Москва</td>\n",
       "      <td>Иван</td>\n",
       "      <td>Ежов</td>\n",
       "      <td>2018-11-01</td>\n",
       "      <td>smart</td>\n",
       "    </tr>\n",
       "    <tr>\n",
       "      <td>2</td>\n",
       "      <td>1002</td>\n",
       "      <td>59</td>\n",
       "      <td>NaN</td>\n",
       "      <td>Стерлитамак</td>\n",
       "      <td>Евгений</td>\n",
       "      <td>Абрамович</td>\n",
       "      <td>2018-06-17</td>\n",
       "      <td>smart</td>\n",
       "    </tr>\n",
       "    <tr>\n",
       "      <td>3</td>\n",
       "      <td>1003</td>\n",
       "      <td>23</td>\n",
       "      <td>NaN</td>\n",
       "      <td>Москва</td>\n",
       "      <td>Белла</td>\n",
       "      <td>Белякова</td>\n",
       "      <td>2018-08-17</td>\n",
       "      <td>ultra</td>\n",
       "    </tr>\n",
       "    <tr>\n",
       "      <td>4</td>\n",
       "      <td>1004</td>\n",
       "      <td>68</td>\n",
       "      <td>NaN</td>\n",
       "      <td>Новокузнецк</td>\n",
       "      <td>Татьяна</td>\n",
       "      <td>Авдеенко</td>\n",
       "      <td>2018-05-14</td>\n",
       "      <td>ultra</td>\n",
       "    </tr>\n",
       "  </tbody>\n",
       "</table>\n",
       "</div>"
      ],
      "text/plain": [
       "   user_id  age churn_date         city first_name  last_name    reg_date  \\\n",
       "0     1000   52        NaN    Краснодар     Рафаил  Верещагин  2018-05-25   \n",
       "1     1001   41        NaN       Москва       Иван       Ежов  2018-11-01   \n",
       "2     1002   59        NaN  Стерлитамак    Евгений  Абрамович  2018-06-17   \n",
       "3     1003   23        NaN       Москва      Белла   Белякова  2018-08-17   \n",
       "4     1004   68        NaN  Новокузнецк    Татьяна   Авдеенко  2018-05-14   \n",
       "\n",
       "  tariff  \n",
       "0  ultra  \n",
       "1  smart  \n",
       "2  smart  \n",
       "3  ultra  \n",
       "4  ultra  "
      ]
     },
     "metadata": {},
     "output_type": "display_data"
    },
    {
     "data": {
      "text/html": [
       "<div>\n",
       "<style scoped>\n",
       "    .dataframe tbody tr th:only-of-type {\n",
       "        vertical-align: middle;\n",
       "    }\n",
       "\n",
       "    .dataframe tbody tr th {\n",
       "        vertical-align: top;\n",
       "    }\n",
       "\n",
       "    .dataframe thead th {\n",
       "        text-align: right;\n",
       "    }\n",
       "</style>\n",
       "<table border=\"1\" class=\"dataframe\">\n",
       "  <thead>\n",
       "    <tr style=\"text-align: right;\">\n",
       "      <th></th>\n",
       "      <th>user_id</th>\n",
       "      <th>age</th>\n",
       "      <th>churn_date</th>\n",
       "      <th>city</th>\n",
       "      <th>first_name</th>\n",
       "      <th>last_name</th>\n",
       "      <th>reg_date</th>\n",
       "      <th>tariff</th>\n",
       "    </tr>\n",
       "  </thead>\n",
       "  <tbody>\n",
       "    <tr>\n",
       "      <td>495</td>\n",
       "      <td>1495</td>\n",
       "      <td>65</td>\n",
       "      <td>NaN</td>\n",
       "      <td>Иркутск</td>\n",
       "      <td>Авксентий</td>\n",
       "      <td>Фокин</td>\n",
       "      <td>2018-08-28</td>\n",
       "      <td>ultra</td>\n",
       "    </tr>\n",
       "    <tr>\n",
       "      <td>496</td>\n",
       "      <td>1496</td>\n",
       "      <td>36</td>\n",
       "      <td>NaN</td>\n",
       "      <td>Вологда</td>\n",
       "      <td>Трифон</td>\n",
       "      <td>Блохин</td>\n",
       "      <td>2018-01-27</td>\n",
       "      <td>smart</td>\n",
       "    </tr>\n",
       "    <tr>\n",
       "      <td>497</td>\n",
       "      <td>1497</td>\n",
       "      <td>32</td>\n",
       "      <td>NaN</td>\n",
       "      <td>Челябинск</td>\n",
       "      <td>Каролина</td>\n",
       "      <td>Агеева</td>\n",
       "      <td>2018-10-09</td>\n",
       "      <td>smart</td>\n",
       "    </tr>\n",
       "    <tr>\n",
       "      <td>498</td>\n",
       "      <td>1498</td>\n",
       "      <td>68</td>\n",
       "      <td>2018-10-25</td>\n",
       "      <td>Владикавказ</td>\n",
       "      <td>Всеволод</td>\n",
       "      <td>Акимчин</td>\n",
       "      <td>2018-07-19</td>\n",
       "      <td>smart</td>\n",
       "    </tr>\n",
       "    <tr>\n",
       "      <td>499</td>\n",
       "      <td>1499</td>\n",
       "      <td>35</td>\n",
       "      <td>NaN</td>\n",
       "      <td>Пермь</td>\n",
       "      <td>Гектор</td>\n",
       "      <td>Корнилов</td>\n",
       "      <td>2018-09-27</td>\n",
       "      <td>smart</td>\n",
       "    </tr>\n",
       "  </tbody>\n",
       "</table>\n",
       "</div>"
      ],
      "text/plain": [
       "     user_id  age  churn_date         city first_name last_name    reg_date  \\\n",
       "495     1495   65         NaN      Иркутск  Авксентий     Фокин  2018-08-28   \n",
       "496     1496   36         NaN      Вологда     Трифон    Блохин  2018-01-27   \n",
       "497     1497   32         NaN    Челябинск   Каролина    Агеева  2018-10-09   \n",
       "498     1498   68  2018-10-25  Владикавказ   Всеволод   Акимчин  2018-07-19   \n",
       "499     1499   35         NaN        Пермь     Гектор  Корнилов  2018-09-27   \n",
       "\n",
       "    tariff  \n",
       "495  ultra  \n",
       "496  smart  \n",
       "497  smart  \n",
       "498  smart  \n",
       "499  smart  "
      ]
     },
     "metadata": {},
     "output_type": "display_data"
    },
    {
     "data": {
      "text/html": [
       "<div>\n",
       "<style scoped>\n",
       "    .dataframe tbody tr th:only-of-type {\n",
       "        vertical-align: middle;\n",
       "    }\n",
       "\n",
       "    .dataframe tbody tr th {\n",
       "        vertical-align: top;\n",
       "    }\n",
       "\n",
       "    .dataframe thead th {\n",
       "        text-align: right;\n",
       "    }\n",
       "</style>\n",
       "<table border=\"1\" class=\"dataframe\">\n",
       "  <thead>\n",
       "    <tr style=\"text-align: right;\">\n",
       "      <th></th>\n",
       "      <th>count</th>\n",
       "      <th>mean</th>\n",
       "      <th>std</th>\n",
       "      <th>min</th>\n",
       "      <th>25%</th>\n",
       "      <th>50%</th>\n",
       "      <th>75%</th>\n",
       "      <th>max</th>\n",
       "    </tr>\n",
       "  </thead>\n",
       "  <tbody>\n",
       "    <tr>\n",
       "      <td>user_id</td>\n",
       "      <td>500.0</td>\n",
       "      <td>1249.500</td>\n",
       "      <td>144.481833</td>\n",
       "      <td>1000.0</td>\n",
       "      <td>1124.75</td>\n",
       "      <td>1249.5</td>\n",
       "      <td>1374.25</td>\n",
       "      <td>1499.0</td>\n",
       "    </tr>\n",
       "    <tr>\n",
       "      <td>age</td>\n",
       "      <td>500.0</td>\n",
       "      <td>46.588</td>\n",
       "      <td>16.667630</td>\n",
       "      <td>18.0</td>\n",
       "      <td>32.00</td>\n",
       "      <td>46.0</td>\n",
       "      <td>62.00</td>\n",
       "      <td>75.0</td>\n",
       "    </tr>\n",
       "  </tbody>\n",
       "</table>\n",
       "</div>"
      ],
      "text/plain": [
       "         count      mean         std     min      25%     50%      75%     max\n",
       "user_id  500.0  1249.500  144.481833  1000.0  1124.75  1249.5  1374.25  1499.0\n",
       "age      500.0    46.588   16.667630    18.0    32.00    46.0    62.00    75.0"
      ]
     },
     "metadata": {},
     "output_type": "display_data"
    }
   ],
   "source": [
    "display(user)\n",
    "user.info()\n",
    "display(user.head())\n",
    "display(user.tail())\n",
    "display(user.describe().T)"
   ]
  },
  {
   "cell_type": "markdown",
   "metadata": {},
   "source": [
    "На первый взгляд нет данных выбивающихся из общего числа"
   ]
  },
  {
   "cell_type": "markdown",
   "metadata": {},
   "source": [
    "## Предобработка данных"
   ]
  },
  {
   "cell_type": "markdown",
   "metadata": {},
   "source": [
    "### Замена типов данных"
   ]
  },
  {
   "cell_type": "code",
   "execution_count": 7,
   "metadata": {
    "scrolled": false
   },
   "outputs": [
    {
     "name": "stdout",
     "output_type": "stream",
     "text": [
      "<class 'pandas.core.frame.DataFrame'>\n",
      "RangeIndex: 202607 entries, 0 to 202606\n",
      "Data columns (total 4 columns):\n",
      "id           202607 non-null object\n",
      "call_date    202607 non-null datetime64[ns]\n",
      "duration     202607 non-null float16\n",
      "user_id      202607 non-null int16\n",
      "dtypes: datetime64[ns](1), float16(1), int16(1), object(1)\n",
      "memory usage: 3.9+ MB\n"
     ]
    }
   ],
   "source": [
    "calls['duration'] = calls['duration'].astype('float16')\n",
    "calls['user_id'] = calls['user_id'].astype('int16')\n",
    "calls['call_date'] = pd.to_datetime(calls['call_date'],format='%Y-%m-%d')\n",
    "calls.info()"
   ]
  },
  {
   "cell_type": "code",
   "execution_count": 8,
   "metadata": {
    "scrolled": false
   },
   "outputs": [
    {
     "name": "stdout",
     "output_type": "stream",
     "text": [
      "<class 'pandas.core.frame.DataFrame'>\n",
      "RangeIndex: 149396 entries, 0 to 149395\n",
      "Data columns (total 5 columns):\n",
      "Unnamed: 0      149396 non-null int8\n",
      "id              149396 non-null object\n",
      "mb_used         149396 non-null float32\n",
      "session_date    149396 non-null datetime64[ns]\n",
      "user_id         149396 non-null int16\n",
      "dtypes: datetime64[ns](1), float32(1), int16(1), int8(1), object(1)\n",
      "memory usage: 3.3+ MB\n"
     ]
    }
   ],
   "source": [
    "internet['Unnamed: 0'] = internet['Unnamed: 0'].astype('int8')\n",
    "internet['mb_used'] = internet['mb_used'].astype('float32')\n",
    "internet['user_id'] = internet['user_id'].astype('int16')\n",
    "internet['session_date'] = pd.to_datetime(internet['session_date'],format='%Y-%m-%d')\n",
    "internet.info()"
   ]
  },
  {
   "cell_type": "code",
   "execution_count": 9,
   "metadata": {
    "scrolled": false
   },
   "outputs": [
    {
     "name": "stdout",
     "output_type": "stream",
     "text": [
      "<class 'pandas.core.frame.DataFrame'>\n",
      "RangeIndex: 123036 entries, 0 to 123035\n",
      "Data columns (total 3 columns):\n",
      "id              123036 non-null object\n",
      "message_date    123036 non-null datetime64[ns]\n",
      "user_id         123036 non-null int16\n",
      "dtypes: datetime64[ns](1), int16(1), object(1)\n",
      "memory usage: 2.1+ MB\n"
     ]
    }
   ],
   "source": [
    "message['user_id'] = message['user_id'].astype('int16')\n",
    "message['message_date'] = pd.to_datetime(message['message_date'],format='%Y-%m-%d')\n",
    "message.info()"
   ]
  },
  {
   "cell_type": "code",
   "execution_count": 10,
   "metadata": {
    "scrolled": false
   },
   "outputs": [
    {
     "name": "stdout",
     "output_type": "stream",
     "text": [
      "<class 'pandas.core.frame.DataFrame'>\n",
      "RangeIndex: 2 entries, 0 to 1\n",
      "Data columns (total 8 columns):\n",
      "messages_included        2 non-null int16\n",
      "mb_per_month_included    2 non-null int16\n",
      "minutes_included         2 non-null int16\n",
      "rub_monthly_fee          2 non-null int16\n",
      "rub_per_gb               2 non-null int16\n",
      "rub_per_message          2 non-null int16\n",
      "rub_per_minute           2 non-null int16\n",
      "tariff_name              2 non-null object\n",
      "dtypes: int16(7), object(1)\n",
      "memory usage: 172.0+ bytes\n"
     ]
    }
   ],
   "source": [
    "tariffs['messages_included'] = tariffs['messages_included'].astype('int16')\n",
    "tariffs['mb_per_month_included'] = tariffs['mb_per_month_included'].astype('int16')\n",
    "tariffs['minutes_included'] = tariffs['minutes_included'].astype('int16')\n",
    "tariffs['rub_monthly_fee'] = tariffs['rub_monthly_fee'].astype('int16')\n",
    "tariffs['rub_per_gb'] = tariffs['rub_per_gb'].astype('int16')\n",
    "tariffs['rub_per_message'] = tariffs['rub_per_message'].astype('int16')\n",
    "tariffs['rub_per_minute'] = tariffs['rub_per_minute'].astype('int16')\n",
    "tariffs.info()"
   ]
  },
  {
   "cell_type": "code",
   "execution_count": 11,
   "metadata": {
    "scrolled": false
   },
   "outputs": [
    {
     "name": "stdout",
     "output_type": "stream",
     "text": [
      "<class 'pandas.core.frame.DataFrame'>\n",
      "RangeIndex: 500 entries, 0 to 499\n",
      "Data columns (total 8 columns):\n",
      "user_id       500 non-null int16\n",
      "age           500 non-null int8\n",
      "churn_date    38 non-null object\n",
      "city          500 non-null object\n",
      "first_name    500 non-null object\n",
      "last_name     500 non-null object\n",
      "reg_date      500 non-null datetime64[ns]\n",
      "tariff        500 non-null object\n",
      "dtypes: datetime64[ns](1), int16(1), int8(1), object(5)\n",
      "memory usage: 25.0+ KB\n"
     ]
    }
   ],
   "source": [
    "user['age'] = user['age'].astype('int8')\n",
    "user['user_id'] = user['user_id'].astype('int16')\n",
    "user['reg_date'] = pd.to_datetime(user['reg_date'],format='%Y-%m-%d')\n",
    "user.info()"
   ]
  },
  {
   "cell_type": "code",
   "execution_count": 12,
   "metadata": {},
   "outputs": [],
   "source": [
    "calls['duration']=calls['duration'].apply(mt.ceil)\n",
    "calls['month'] = calls['call_date'].dt.month\n",
    "internet['month'] = internet['session_date'].dt.month\n",
    "message['month']=message['message_date'].dt.month\n",
    "calls=calls.query('duration>0')\n",
    "internet=internet.query('mb_used>0')\n",
    "tariffs.columns=[ 'messages_included', 'mb_per_month_included', 'minutes_included', 'rub_monthly_fee', 'rub_per_gb', 'rub_per_message', 'rub_per_minute', 'tariff']"
   ]
  },
  {
   "cell_type": "markdown",
   "metadata": {},
   "source": [
    "##  Расчёты и добавления результатов в таблицу"
   ]
  },
  {
   "cell_type": "markdown",
   "metadata": {},
   "source": [
    "### Создание таблицы calls_tariff"
   ]
  },
  {
   "cell_type": "code",
   "execution_count": 13,
   "metadata": {},
   "outputs": [
    {
     "data": {
      "text/html": [
       "<div>\n",
       "<style scoped>\n",
       "    .dataframe tbody tr th:only-of-type {\n",
       "        vertical-align: middle;\n",
       "    }\n",
       "\n",
       "    .dataframe tbody tr th {\n",
       "        vertical-align: top;\n",
       "    }\n",
       "\n",
       "    .dataframe thead th {\n",
       "        text-align: right;\n",
       "    }\n",
       "</style>\n",
       "<table border=\"1\" class=\"dataframe\">\n",
       "  <thead>\n",
       "    <tr style=\"text-align: right;\">\n",
       "      <th></th>\n",
       "      <th>user_id</th>\n",
       "      <th>month</th>\n",
       "      <th>duration</th>\n",
       "      <th>id</th>\n",
       "      <th>tariff</th>\n",
       "      <th>minutes_included</th>\n",
       "      <th>rub_per_minute</th>\n",
       "      <th>remains_min</th>\n",
       "    </tr>\n",
       "  </thead>\n",
       "  <tbody>\n",
       "    <tr>\n",
       "      <td>0</td>\n",
       "      <td>1000</td>\n",
       "      <td>5</td>\n",
       "      <td>159</td>\n",
       "      <td>17</td>\n",
       "      <td>ultra</td>\n",
       "      <td>3000</td>\n",
       "      <td>1</td>\n",
       "      <td>2841</td>\n",
       "    </tr>\n",
       "    <tr>\n",
       "      <td>1</td>\n",
       "      <td>1000</td>\n",
       "      <td>6</td>\n",
       "      <td>172</td>\n",
       "      <td>28</td>\n",
       "      <td>ultra</td>\n",
       "      <td>3000</td>\n",
       "      <td>1</td>\n",
       "      <td>2828</td>\n",
       "    </tr>\n",
       "    <tr>\n",
       "      <td>2</td>\n",
       "      <td>1000</td>\n",
       "      <td>7</td>\n",
       "      <td>340</td>\n",
       "      <td>41</td>\n",
       "      <td>ultra</td>\n",
       "      <td>3000</td>\n",
       "      <td>1</td>\n",
       "      <td>2660</td>\n",
       "    </tr>\n",
       "    <tr>\n",
       "      <td>3</td>\n",
       "      <td>1000</td>\n",
       "      <td>8</td>\n",
       "      <td>408</td>\n",
       "      <td>42</td>\n",
       "      <td>ultra</td>\n",
       "      <td>3000</td>\n",
       "      <td>1</td>\n",
       "      <td>2592</td>\n",
       "    </tr>\n",
       "    <tr>\n",
       "      <td>4</td>\n",
       "      <td>1000</td>\n",
       "      <td>9</td>\n",
       "      <td>466</td>\n",
       "      <td>46</td>\n",
       "      <td>ultra</td>\n",
       "      <td>3000</td>\n",
       "      <td>1</td>\n",
       "      <td>2534</td>\n",
       "    </tr>\n",
       "    <tr>\n",
       "      <td>...</td>\n",
       "      <td>...</td>\n",
       "      <td>...</td>\n",
       "      <td>...</td>\n",
       "      <td>...</td>\n",
       "      <td>...</td>\n",
       "      <td>...</td>\n",
       "      <td>...</td>\n",
       "      <td>...</td>\n",
       "    </tr>\n",
       "    <tr>\n",
       "      <td>3163</td>\n",
       "      <td>1498</td>\n",
       "      <td>10</td>\n",
       "      <td>247</td>\n",
       "      <td>30</td>\n",
       "      <td>smart</td>\n",
       "      <td>500</td>\n",
       "      <td>3</td>\n",
       "      <td>253</td>\n",
       "    </tr>\n",
       "    <tr>\n",
       "      <td>3164</td>\n",
       "      <td>1499</td>\n",
       "      <td>9</td>\n",
       "      <td>70</td>\n",
       "      <td>8</td>\n",
       "      <td>smart</td>\n",
       "      <td>500</td>\n",
       "      <td>3</td>\n",
       "      <td>430</td>\n",
       "    </tr>\n",
       "    <tr>\n",
       "      <td>3165</td>\n",
       "      <td>1499</td>\n",
       "      <td>10</td>\n",
       "      <td>449</td>\n",
       "      <td>44</td>\n",
       "      <td>smart</td>\n",
       "      <td>500</td>\n",
       "      <td>3</td>\n",
       "      <td>51</td>\n",
       "    </tr>\n",
       "    <tr>\n",
       "      <td>3166</td>\n",
       "      <td>1499</td>\n",
       "      <td>11</td>\n",
       "      <td>612</td>\n",
       "      <td>62</td>\n",
       "      <td>smart</td>\n",
       "      <td>500</td>\n",
       "      <td>3</td>\n",
       "      <td>-112</td>\n",
       "    </tr>\n",
       "    <tr>\n",
       "      <td>3167</td>\n",
       "      <td>1499</td>\n",
       "      <td>12</td>\n",
       "      <td>492</td>\n",
       "      <td>56</td>\n",
       "      <td>smart</td>\n",
       "      <td>500</td>\n",
       "      <td>3</td>\n",
       "      <td>8</td>\n",
       "    </tr>\n",
       "  </tbody>\n",
       "</table>\n",
       "<p>3168 rows × 8 columns</p>\n",
       "</div>"
      ],
      "text/plain": [
       "      user_id  month  duration  id tariff  minutes_included  rub_per_minute  \\\n",
       "0        1000      5       159  17  ultra              3000               1   \n",
       "1        1000      6       172  28  ultra              3000               1   \n",
       "2        1000      7       340  41  ultra              3000               1   \n",
       "3        1000      8       408  42  ultra              3000               1   \n",
       "4        1000      9       466  46  ultra              3000               1   \n",
       "...       ...    ...       ...  ..    ...               ...             ...   \n",
       "3163     1498     10       247  30  smart               500               3   \n",
       "3164     1499      9        70   8  smart               500               3   \n",
       "3165     1499     10       449  44  smart               500               3   \n",
       "3166     1499     11       612  62  smart               500               3   \n",
       "3167     1499     12       492  56  smart               500               3   \n",
       "\n",
       "      remains_min  \n",
       "0            2841  \n",
       "1            2828  \n",
       "2            2660  \n",
       "3            2592  \n",
       "4            2534  \n",
       "...           ...  \n",
       "3163          253  \n",
       "3164          430  \n",
       "3165           51  \n",
       "3166         -112  \n",
       "3167            8  \n",
       "\n",
       "[3168 rows x 8 columns]"
      ]
     },
     "metadata": {},
     "output_type": "display_data"
    }
   ],
   "source": [
    "calls_tariff = (\n",
    "    calls.groupby(['user_id', 'month']).agg({'duration' : 'sum','id': 'count'}).reset_index() #id - количество звонков по месяцам\n",
    " .merge(user[['tariff','user_id']], on =['user_id'], how = 'left').merge(tariffs[['minutes_included','tariff','rub_per_minute']],\n",
    "                                                   on=['tariff'],how='left')\n",
    ")\n",
    "calls_tariff['remains_min'] = calls_tariff['minutes_included'] - calls_tariff['duration'] # остаток по минутам\n",
    "display(calls_tariff)"
   ]
  },
  {
   "cell_type": "markdown",
   "metadata": {},
   "source": [
    "### Создание таблицы internet_tariff"
   ]
  },
  {
   "cell_type": "code",
   "execution_count": 14,
   "metadata": {},
   "outputs": [
    {
     "data": {
      "text/html": [
       "<div>\n",
       "<style scoped>\n",
       "    .dataframe tbody tr th:only-of-type {\n",
       "        vertical-align: middle;\n",
       "    }\n",
       "\n",
       "    .dataframe tbody tr th {\n",
       "        vertical-align: top;\n",
       "    }\n",
       "\n",
       "    .dataframe thead th {\n",
       "        text-align: right;\n",
       "    }\n",
       "</style>\n",
       "<table border=\"1\" class=\"dataframe\">\n",
       "  <thead>\n",
       "    <tr style=\"text-align: right;\">\n",
       "      <th></th>\n",
       "      <th>user_id</th>\n",
       "      <th>month</th>\n",
       "      <th>mb_used</th>\n",
       "      <th>tariff</th>\n",
       "      <th>mb_per_month_included</th>\n",
       "      <th>rub_per_gb</th>\n",
       "      <th>remains_mb</th>\n",
       "    </tr>\n",
       "  </thead>\n",
       "  <tbody>\n",
       "    <tr>\n",
       "      <td>0</td>\n",
       "      <td>1000</td>\n",
       "      <td>5</td>\n",
       "      <td>3</td>\n",
       "      <td>ultra</td>\n",
       "      <td>30720</td>\n",
       "      <td>150</td>\n",
       "      <td>27.0</td>\n",
       "    </tr>\n",
       "    <tr>\n",
       "      <td>1</td>\n",
       "      <td>1000</td>\n",
       "      <td>6</td>\n",
       "      <td>23</td>\n",
       "      <td>ultra</td>\n",
       "      <td>30720</td>\n",
       "      <td>150</td>\n",
       "      <td>7.0</td>\n",
       "    </tr>\n",
       "    <tr>\n",
       "      <td>2</td>\n",
       "      <td>1000</td>\n",
       "      <td>7</td>\n",
       "      <td>14</td>\n",
       "      <td>ultra</td>\n",
       "      <td>30720</td>\n",
       "      <td>150</td>\n",
       "      <td>16.0</td>\n",
       "    </tr>\n",
       "    <tr>\n",
       "      <td>3</td>\n",
       "      <td>1000</td>\n",
       "      <td>8</td>\n",
       "      <td>14</td>\n",
       "      <td>ultra</td>\n",
       "      <td>30720</td>\n",
       "      <td>150</td>\n",
       "      <td>16.0</td>\n",
       "    </tr>\n",
       "    <tr>\n",
       "      <td>4</td>\n",
       "      <td>1000</td>\n",
       "      <td>9</td>\n",
       "      <td>15</td>\n",
       "      <td>ultra</td>\n",
       "      <td>30720</td>\n",
       "      <td>150</td>\n",
       "      <td>15.0</td>\n",
       "    </tr>\n",
       "    <tr>\n",
       "      <td>...</td>\n",
       "      <td>...</td>\n",
       "      <td>...</td>\n",
       "      <td>...</td>\n",
       "      <td>...</td>\n",
       "      <td>...</td>\n",
       "      <td>...</td>\n",
       "      <td>...</td>\n",
       "    </tr>\n",
       "    <tr>\n",
       "      <td>3196</td>\n",
       "      <td>1498</td>\n",
       "      <td>10</td>\n",
       "      <td>21</td>\n",
       "      <td>smart</td>\n",
       "      <td>15360</td>\n",
       "      <td>200</td>\n",
       "      <td>-6.0</td>\n",
       "    </tr>\n",
       "    <tr>\n",
       "      <td>3197</td>\n",
       "      <td>1499</td>\n",
       "      <td>9</td>\n",
       "      <td>2</td>\n",
       "      <td>smart</td>\n",
       "      <td>15360</td>\n",
       "      <td>200</td>\n",
       "      <td>13.0</td>\n",
       "    </tr>\n",
       "    <tr>\n",
       "      <td>3198</td>\n",
       "      <td>1499</td>\n",
       "      <td>10</td>\n",
       "      <td>18</td>\n",
       "      <td>smart</td>\n",
       "      <td>15360</td>\n",
       "      <td>200</td>\n",
       "      <td>-3.0</td>\n",
       "    </tr>\n",
       "    <tr>\n",
       "      <td>3199</td>\n",
       "      <td>1499</td>\n",
       "      <td>11</td>\n",
       "      <td>18</td>\n",
       "      <td>smart</td>\n",
       "      <td>15360</td>\n",
       "      <td>200</td>\n",
       "      <td>-3.0</td>\n",
       "    </tr>\n",
       "    <tr>\n",
       "      <td>3200</td>\n",
       "      <td>1499</td>\n",
       "      <td>12</td>\n",
       "      <td>13</td>\n",
       "      <td>smart</td>\n",
       "      <td>15360</td>\n",
       "      <td>200</td>\n",
       "      <td>2.0</td>\n",
       "    </tr>\n",
       "  </tbody>\n",
       "</table>\n",
       "<p>3201 rows × 7 columns</p>\n",
       "</div>"
      ],
      "text/plain": [
       "      user_id  month  mb_used tariff  mb_per_month_included  rub_per_gb  \\\n",
       "0        1000      5        3  ultra                  30720         150   \n",
       "1        1000      6       23  ultra                  30720         150   \n",
       "2        1000      7       14  ultra                  30720         150   \n",
       "3        1000      8       14  ultra                  30720         150   \n",
       "4        1000      9       15  ultra                  30720         150   \n",
       "...       ...    ...      ...    ...                    ...         ...   \n",
       "3196     1498     10       21  smart                  15360         200   \n",
       "3197     1499      9        2  smart                  15360         200   \n",
       "3198     1499     10       18  smart                  15360         200   \n",
       "3199     1499     11       18  smart                  15360         200   \n",
       "3200     1499     12       13  smart                  15360         200   \n",
       "\n",
       "      remains_mb  \n",
       "0           27.0  \n",
       "1            7.0  \n",
       "2           16.0  \n",
       "3           16.0  \n",
       "4           15.0  \n",
       "...          ...  \n",
       "3196        -6.0  \n",
       "3197        13.0  \n",
       "3198        -3.0  \n",
       "3199        -3.0  \n",
       "3200         2.0  \n",
       "\n",
       "[3201 rows x 7 columns]"
      ]
     },
     "metadata": {},
     "output_type": "display_data"
    }
   ],
   "source": [
    "internet_tariff = (\n",
    "    internet.groupby(['user_id','month']).agg({'mb_used' : 'sum'}).reset_index()\n",
    "    .merge(user[['tariff','user_id']], on =['user_id'], how = 'left').merge(tariffs[['mb_per_month_included','tariff','rub_per_gb']],\n",
    "                                                   on=['tariff'],how='left')\n",
    ")\n",
    "internet_tariff['mb_used']=(internet_tariff['mb_used']/1024).apply(mt.ceil)\n",
    "internet_tariff['remains_mb'] = internet_tariff['mb_per_month_included']/1024 - internet_tariff['mb_used'] # остаток по мегабайтам\n",
    "display(internet_tariff)\n"
   ]
  },
  {
   "cell_type": "markdown",
   "metadata": {},
   "source": [
    "### Создание таблицы message_tariff"
   ]
  },
  {
   "cell_type": "code",
   "execution_count": 15,
   "metadata": {
    "scrolled": true
   },
   "outputs": [
    {
     "data": {
      "text/html": [
       "<div>\n",
       "<style scoped>\n",
       "    .dataframe tbody tr th:only-of-type {\n",
       "        vertical-align: middle;\n",
       "    }\n",
       "\n",
       "    .dataframe tbody tr th {\n",
       "        vertical-align: top;\n",
       "    }\n",
       "\n",
       "    .dataframe thead th {\n",
       "        text-align: right;\n",
       "    }\n",
       "</style>\n",
       "<table border=\"1\" class=\"dataframe\">\n",
       "  <thead>\n",
       "    <tr style=\"text-align: right;\">\n",
       "      <th></th>\n",
       "      <th>user_id</th>\n",
       "      <th>month</th>\n",
       "      <th>id</th>\n",
       "      <th>message_date</th>\n",
       "      <th>tariff</th>\n",
       "      <th>city</th>\n",
       "      <th>messages_included</th>\n",
       "      <th>rub_per_message</th>\n",
       "      <th>remains_mes</th>\n",
       "    </tr>\n",
       "  </thead>\n",
       "  <tbody>\n",
       "    <tr>\n",
       "      <td>0</td>\n",
       "      <td>1000</td>\n",
       "      <td>5</td>\n",
       "      <td>22</td>\n",
       "      <td>22</td>\n",
       "      <td>ultra</td>\n",
       "      <td>Краснодар</td>\n",
       "      <td>1000</td>\n",
       "      <td>1</td>\n",
       "      <td>978</td>\n",
       "    </tr>\n",
       "    <tr>\n",
       "      <td>1</td>\n",
       "      <td>1000</td>\n",
       "      <td>6</td>\n",
       "      <td>60</td>\n",
       "      <td>60</td>\n",
       "      <td>ultra</td>\n",
       "      <td>Краснодар</td>\n",
       "      <td>1000</td>\n",
       "      <td>1</td>\n",
       "      <td>940</td>\n",
       "    </tr>\n",
       "    <tr>\n",
       "      <td>2</td>\n",
       "      <td>1000</td>\n",
       "      <td>7</td>\n",
       "      <td>75</td>\n",
       "      <td>75</td>\n",
       "      <td>ultra</td>\n",
       "      <td>Краснодар</td>\n",
       "      <td>1000</td>\n",
       "      <td>1</td>\n",
       "      <td>925</td>\n",
       "    </tr>\n",
       "    <tr>\n",
       "      <td>3</td>\n",
       "      <td>1000</td>\n",
       "      <td>8</td>\n",
       "      <td>81</td>\n",
       "      <td>81</td>\n",
       "      <td>ultra</td>\n",
       "      <td>Краснодар</td>\n",
       "      <td>1000</td>\n",
       "      <td>1</td>\n",
       "      <td>919</td>\n",
       "    </tr>\n",
       "    <tr>\n",
       "      <td>4</td>\n",
       "      <td>1000</td>\n",
       "      <td>9</td>\n",
       "      <td>57</td>\n",
       "      <td>57</td>\n",
       "      <td>ultra</td>\n",
       "      <td>Краснодар</td>\n",
       "      <td>1000</td>\n",
       "      <td>1</td>\n",
       "      <td>943</td>\n",
       "    </tr>\n",
       "    <tr>\n",
       "      <td>...</td>\n",
       "      <td>...</td>\n",
       "      <td>...</td>\n",
       "      <td>...</td>\n",
       "      <td>...</td>\n",
       "      <td>...</td>\n",
       "      <td>...</td>\n",
       "      <td>...</td>\n",
       "      <td>...</td>\n",
       "      <td>...</td>\n",
       "    </tr>\n",
       "    <tr>\n",
       "      <td>2712</td>\n",
       "      <td>1498</td>\n",
       "      <td>10</td>\n",
       "      <td>42</td>\n",
       "      <td>42</td>\n",
       "      <td>smart</td>\n",
       "      <td>Владикавказ</td>\n",
       "      <td>50</td>\n",
       "      <td>3</td>\n",
       "      <td>8</td>\n",
       "    </tr>\n",
       "    <tr>\n",
       "      <td>2713</td>\n",
       "      <td>1499</td>\n",
       "      <td>9</td>\n",
       "      <td>11</td>\n",
       "      <td>11</td>\n",
       "      <td>smart</td>\n",
       "      <td>Пермь</td>\n",
       "      <td>50</td>\n",
       "      <td>3</td>\n",
       "      <td>39</td>\n",
       "    </tr>\n",
       "    <tr>\n",
       "      <td>2714</td>\n",
       "      <td>1499</td>\n",
       "      <td>10</td>\n",
       "      <td>48</td>\n",
       "      <td>48</td>\n",
       "      <td>smart</td>\n",
       "      <td>Пермь</td>\n",
       "      <td>50</td>\n",
       "      <td>3</td>\n",
       "      <td>2</td>\n",
       "    </tr>\n",
       "    <tr>\n",
       "      <td>2715</td>\n",
       "      <td>1499</td>\n",
       "      <td>11</td>\n",
       "      <td>59</td>\n",
       "      <td>59</td>\n",
       "      <td>smart</td>\n",
       "      <td>Пермь</td>\n",
       "      <td>50</td>\n",
       "      <td>3</td>\n",
       "      <td>-9</td>\n",
       "    </tr>\n",
       "    <tr>\n",
       "      <td>2716</td>\n",
       "      <td>1499</td>\n",
       "      <td>12</td>\n",
       "      <td>66</td>\n",
       "      <td>66</td>\n",
       "      <td>smart</td>\n",
       "      <td>Пермь</td>\n",
       "      <td>50</td>\n",
       "      <td>3</td>\n",
       "      <td>-16</td>\n",
       "    </tr>\n",
       "  </tbody>\n",
       "</table>\n",
       "<p>2717 rows × 9 columns</p>\n",
       "</div>"
      ],
      "text/plain": [
       "      user_id  month  id  message_date tariff         city  messages_included  \\\n",
       "0        1000      5  22            22  ultra    Краснодар               1000   \n",
       "1        1000      6  60            60  ultra    Краснодар               1000   \n",
       "2        1000      7  75            75  ultra    Краснодар               1000   \n",
       "3        1000      8  81            81  ultra    Краснодар               1000   \n",
       "4        1000      9  57            57  ultra    Краснодар               1000   \n",
       "...       ...    ...  ..           ...    ...          ...                ...   \n",
       "2712     1498     10  42            42  smart  Владикавказ                 50   \n",
       "2713     1499      9  11            11  smart        Пермь                 50   \n",
       "2714     1499     10  48            48  smart        Пермь                 50   \n",
       "2715     1499     11  59            59  smart        Пермь                 50   \n",
       "2716     1499     12  66            66  smart        Пермь                 50   \n",
       "\n",
       "      rub_per_message  remains_mes  \n",
       "0                   1          978  \n",
       "1                   1          940  \n",
       "2                   1          925  \n",
       "3                   1          919  \n",
       "4                   1          943  \n",
       "...               ...          ...  \n",
       "2712                3            8  \n",
       "2713                3           39  \n",
       "2714                3            2  \n",
       "2715                3           -9  \n",
       "2716                3          -16  \n",
       "\n",
       "[2717 rows x 9 columns]"
      ]
     },
     "metadata": {},
     "output_type": "display_data"
    }
   ],
   "source": [
    "message_tariff = (\n",
    "    message.groupby(['user_id','month']).agg('count').reset_index()\n",
    "    .merge(user[['tariff','user_id','city']], on =['user_id'], how = 'left').merge(tariffs[['messages_included','tariff','rub_per_message']],\n",
    "                                                   on=['tariff'],how='left')\n",
    ")\n",
    "message_tariff['remains_mes'] = message_tariff['messages_included'] - message_tariff['id'] # остаток по смс\n",
    "display(message_tariff)"
   ]
  },
  {
   "cell_type": "markdown",
   "metadata": {},
   "source": [
    "Создал 3 таблицы для расчёта остатка по тарифному плану"
   ]
  },
  {
   "cell_type": "markdown",
   "metadata": {},
   "source": [
    "### Создание функций подсчитывающих выручку"
   ]
  },
  {
   "cell_type": "code",
   "execution_count": 16,
   "metadata": {},
   "outputs": [
    {
     "data": {
      "text/html": [
       "<div>\n",
       "<style scoped>\n",
       "    .dataframe tbody tr th:only-of-type {\n",
       "        vertical-align: middle;\n",
       "    }\n",
       "\n",
       "    .dataframe tbody tr th {\n",
       "        vertical-align: top;\n",
       "    }\n",
       "\n",
       "    .dataframe thead th {\n",
       "        text-align: right;\n",
       "    }\n",
       "</style>\n",
       "<table border=\"1\" class=\"dataframe\">\n",
       "  <thead>\n",
       "    <tr style=\"text-align: right;\">\n",
       "      <th></th>\n",
       "      <th>user_id</th>\n",
       "      <th>month</th>\n",
       "      <th>id</th>\n",
       "      <th>message_date</th>\n",
       "      <th>tariff</th>\n",
       "      <th>city</th>\n",
       "      <th>messages_included</th>\n",
       "      <th>rub_per_message</th>\n",
       "      <th>remains_mes</th>\n",
       "      <th>mes_rev</th>\n",
       "    </tr>\n",
       "  </thead>\n",
       "  <tbody>\n",
       "    <tr>\n",
       "      <td>0</td>\n",
       "      <td>1000</td>\n",
       "      <td>5</td>\n",
       "      <td>22</td>\n",
       "      <td>22</td>\n",
       "      <td>ultra</td>\n",
       "      <td>Краснодар</td>\n",
       "      <td>1000</td>\n",
       "      <td>1</td>\n",
       "      <td>978</td>\n",
       "      <td>0</td>\n",
       "    </tr>\n",
       "    <tr>\n",
       "      <td>1</td>\n",
       "      <td>1000</td>\n",
       "      <td>6</td>\n",
       "      <td>60</td>\n",
       "      <td>60</td>\n",
       "      <td>ultra</td>\n",
       "      <td>Краснодар</td>\n",
       "      <td>1000</td>\n",
       "      <td>1</td>\n",
       "      <td>940</td>\n",
       "      <td>0</td>\n",
       "    </tr>\n",
       "    <tr>\n",
       "      <td>2</td>\n",
       "      <td>1000</td>\n",
       "      <td>7</td>\n",
       "      <td>75</td>\n",
       "      <td>75</td>\n",
       "      <td>ultra</td>\n",
       "      <td>Краснодар</td>\n",
       "      <td>1000</td>\n",
       "      <td>1</td>\n",
       "      <td>925</td>\n",
       "      <td>0</td>\n",
       "    </tr>\n",
       "    <tr>\n",
       "      <td>3</td>\n",
       "      <td>1000</td>\n",
       "      <td>8</td>\n",
       "      <td>81</td>\n",
       "      <td>81</td>\n",
       "      <td>ultra</td>\n",
       "      <td>Краснодар</td>\n",
       "      <td>1000</td>\n",
       "      <td>1</td>\n",
       "      <td>919</td>\n",
       "      <td>0</td>\n",
       "    </tr>\n",
       "    <tr>\n",
       "      <td>4</td>\n",
       "      <td>1000</td>\n",
       "      <td>9</td>\n",
       "      <td>57</td>\n",
       "      <td>57</td>\n",
       "      <td>ultra</td>\n",
       "      <td>Краснодар</td>\n",
       "      <td>1000</td>\n",
       "      <td>1</td>\n",
       "      <td>943</td>\n",
       "      <td>0</td>\n",
       "    </tr>\n",
       "    <tr>\n",
       "      <td>...</td>\n",
       "      <td>...</td>\n",
       "      <td>...</td>\n",
       "      <td>...</td>\n",
       "      <td>...</td>\n",
       "      <td>...</td>\n",
       "      <td>...</td>\n",
       "      <td>...</td>\n",
       "      <td>...</td>\n",
       "      <td>...</td>\n",
       "      <td>...</td>\n",
       "    </tr>\n",
       "    <tr>\n",
       "      <td>2712</td>\n",
       "      <td>1498</td>\n",
       "      <td>10</td>\n",
       "      <td>42</td>\n",
       "      <td>42</td>\n",
       "      <td>smart</td>\n",
       "      <td>Владикавказ</td>\n",
       "      <td>50</td>\n",
       "      <td>3</td>\n",
       "      <td>8</td>\n",
       "      <td>0</td>\n",
       "    </tr>\n",
       "    <tr>\n",
       "      <td>2713</td>\n",
       "      <td>1499</td>\n",
       "      <td>9</td>\n",
       "      <td>11</td>\n",
       "      <td>11</td>\n",
       "      <td>smart</td>\n",
       "      <td>Пермь</td>\n",
       "      <td>50</td>\n",
       "      <td>3</td>\n",
       "      <td>39</td>\n",
       "      <td>0</td>\n",
       "    </tr>\n",
       "    <tr>\n",
       "      <td>2714</td>\n",
       "      <td>1499</td>\n",
       "      <td>10</td>\n",
       "      <td>48</td>\n",
       "      <td>48</td>\n",
       "      <td>smart</td>\n",
       "      <td>Пермь</td>\n",
       "      <td>50</td>\n",
       "      <td>3</td>\n",
       "      <td>2</td>\n",
       "      <td>0</td>\n",
       "    </tr>\n",
       "    <tr>\n",
       "      <td>2715</td>\n",
       "      <td>1499</td>\n",
       "      <td>11</td>\n",
       "      <td>59</td>\n",
       "      <td>59</td>\n",
       "      <td>smart</td>\n",
       "      <td>Пермь</td>\n",
       "      <td>50</td>\n",
       "      <td>3</td>\n",
       "      <td>-9</td>\n",
       "      <td>27</td>\n",
       "    </tr>\n",
       "    <tr>\n",
       "      <td>2716</td>\n",
       "      <td>1499</td>\n",
       "      <td>12</td>\n",
       "      <td>66</td>\n",
       "      <td>66</td>\n",
       "      <td>smart</td>\n",
       "      <td>Пермь</td>\n",
       "      <td>50</td>\n",
       "      <td>3</td>\n",
       "      <td>-16</td>\n",
       "      <td>48</td>\n",
       "    </tr>\n",
       "  </tbody>\n",
       "</table>\n",
       "<p>2717 rows × 10 columns</p>\n",
       "</div>"
      ],
      "text/plain": [
       "      user_id  month  id  message_date tariff         city  messages_included  \\\n",
       "0        1000      5  22            22  ultra    Краснодар               1000   \n",
       "1        1000      6  60            60  ultra    Краснодар               1000   \n",
       "2        1000      7  75            75  ultra    Краснодар               1000   \n",
       "3        1000      8  81            81  ultra    Краснодар               1000   \n",
       "4        1000      9  57            57  ultra    Краснодар               1000   \n",
       "...       ...    ...  ..           ...    ...          ...                ...   \n",
       "2712     1498     10  42            42  smart  Владикавказ                 50   \n",
       "2713     1499      9  11            11  smart        Пермь                 50   \n",
       "2714     1499     10  48            48  smart        Пермь                 50   \n",
       "2715     1499     11  59            59  smart        Пермь                 50   \n",
       "2716     1499     12  66            66  smart        Пермь                 50   \n",
       "\n",
       "      rub_per_message  remains_mes  mes_rev  \n",
       "0                   1          978        0  \n",
       "1                   1          940        0  \n",
       "2                   1          925        0  \n",
       "3                   1          919        0  \n",
       "4                   1          943        0  \n",
       "...               ...          ...      ...  \n",
       "2712                3            8        0  \n",
       "2713                3           39        0  \n",
       "2714                3            2        0  \n",
       "2715                3           -9       27  \n",
       "2716                3          -16       48  \n",
       "\n",
       "[2717 rows x 10 columns]"
      ]
     },
     "metadata": {},
     "output_type": "display_data"
    },
    {
     "name": "stdout",
     "output_type": "stream",
     "text": [
      "<class 'pandas.core.frame.DataFrame'>\n",
      "Int64Index: 2717 entries, 0 to 2716\n",
      "Data columns (total 10 columns):\n",
      "user_id              2717 non-null int64\n",
      "month                2717 non-null int64\n",
      "id                   2717 non-null int64\n",
      "message_date         2717 non-null int64\n",
      "tariff               2717 non-null object\n",
      "city                 2717 non-null object\n",
      "messages_included    2717 non-null int16\n",
      "rub_per_message      2717 non-null int16\n",
      "remains_mes          2717 non-null int64\n",
      "mes_rev              2717 non-null int64\n",
      "dtypes: int16(2), int64(6), object(2)\n",
      "memory usage: 201.7+ KB\n"
     ]
    }
   ],
   "source": [
    "def df_ms(row):\n",
    "    if row['id'] > row['messages_included']:\n",
    "        return(row['id'] - row['messages_included']) * row['rub_per_message']\n",
    "    return 0\n",
    "message_tariff['mes_rev']=message_tariff.apply(df_ms,axis=1)\n",
    "display(message_tariff)\n",
    "message_tariff.info()"
   ]
  },
  {
   "cell_type": "code",
   "execution_count": 17,
   "metadata": {},
   "outputs": [
    {
     "data": {
      "text/html": [
       "<div>\n",
       "<style scoped>\n",
       "    .dataframe tbody tr th:only-of-type {\n",
       "        vertical-align: middle;\n",
       "    }\n",
       "\n",
       "    .dataframe tbody tr th {\n",
       "        vertical-align: top;\n",
       "    }\n",
       "\n",
       "    .dataframe thead th {\n",
       "        text-align: right;\n",
       "    }\n",
       "</style>\n",
       "<table border=\"1\" class=\"dataframe\">\n",
       "  <thead>\n",
       "    <tr style=\"text-align: right;\">\n",
       "      <th></th>\n",
       "      <th>user_id</th>\n",
       "      <th>month</th>\n",
       "      <th>duration</th>\n",
       "      <th>id</th>\n",
       "      <th>tariff</th>\n",
       "      <th>minutes_included</th>\n",
       "      <th>rub_per_minute</th>\n",
       "      <th>remains_min</th>\n",
       "      <th>min_rev</th>\n",
       "    </tr>\n",
       "  </thead>\n",
       "  <tbody>\n",
       "    <tr>\n",
       "      <td>0</td>\n",
       "      <td>1000</td>\n",
       "      <td>5</td>\n",
       "      <td>159</td>\n",
       "      <td>17</td>\n",
       "      <td>ultra</td>\n",
       "      <td>3000</td>\n",
       "      <td>1</td>\n",
       "      <td>2841</td>\n",
       "      <td>0</td>\n",
       "    </tr>\n",
       "    <tr>\n",
       "      <td>1</td>\n",
       "      <td>1000</td>\n",
       "      <td>6</td>\n",
       "      <td>172</td>\n",
       "      <td>28</td>\n",
       "      <td>ultra</td>\n",
       "      <td>3000</td>\n",
       "      <td>1</td>\n",
       "      <td>2828</td>\n",
       "      <td>0</td>\n",
       "    </tr>\n",
       "    <tr>\n",
       "      <td>2</td>\n",
       "      <td>1000</td>\n",
       "      <td>7</td>\n",
       "      <td>340</td>\n",
       "      <td>41</td>\n",
       "      <td>ultra</td>\n",
       "      <td>3000</td>\n",
       "      <td>1</td>\n",
       "      <td>2660</td>\n",
       "      <td>0</td>\n",
       "    </tr>\n",
       "    <tr>\n",
       "      <td>3</td>\n",
       "      <td>1000</td>\n",
       "      <td>8</td>\n",
       "      <td>408</td>\n",
       "      <td>42</td>\n",
       "      <td>ultra</td>\n",
       "      <td>3000</td>\n",
       "      <td>1</td>\n",
       "      <td>2592</td>\n",
       "      <td>0</td>\n",
       "    </tr>\n",
       "    <tr>\n",
       "      <td>4</td>\n",
       "      <td>1000</td>\n",
       "      <td>9</td>\n",
       "      <td>466</td>\n",
       "      <td>46</td>\n",
       "      <td>ultra</td>\n",
       "      <td>3000</td>\n",
       "      <td>1</td>\n",
       "      <td>2534</td>\n",
       "      <td>0</td>\n",
       "    </tr>\n",
       "    <tr>\n",
       "      <td>...</td>\n",
       "      <td>...</td>\n",
       "      <td>...</td>\n",
       "      <td>...</td>\n",
       "      <td>...</td>\n",
       "      <td>...</td>\n",
       "      <td>...</td>\n",
       "      <td>...</td>\n",
       "      <td>...</td>\n",
       "      <td>...</td>\n",
       "    </tr>\n",
       "    <tr>\n",
       "      <td>3163</td>\n",
       "      <td>1498</td>\n",
       "      <td>10</td>\n",
       "      <td>247</td>\n",
       "      <td>30</td>\n",
       "      <td>smart</td>\n",
       "      <td>500</td>\n",
       "      <td>3</td>\n",
       "      <td>253</td>\n",
       "      <td>0</td>\n",
       "    </tr>\n",
       "    <tr>\n",
       "      <td>3164</td>\n",
       "      <td>1499</td>\n",
       "      <td>9</td>\n",
       "      <td>70</td>\n",
       "      <td>8</td>\n",
       "      <td>smart</td>\n",
       "      <td>500</td>\n",
       "      <td>3</td>\n",
       "      <td>430</td>\n",
       "      <td>0</td>\n",
       "    </tr>\n",
       "    <tr>\n",
       "      <td>3165</td>\n",
       "      <td>1499</td>\n",
       "      <td>10</td>\n",
       "      <td>449</td>\n",
       "      <td>44</td>\n",
       "      <td>smart</td>\n",
       "      <td>500</td>\n",
       "      <td>3</td>\n",
       "      <td>51</td>\n",
       "      <td>0</td>\n",
       "    </tr>\n",
       "    <tr>\n",
       "      <td>3166</td>\n",
       "      <td>1499</td>\n",
       "      <td>11</td>\n",
       "      <td>612</td>\n",
       "      <td>62</td>\n",
       "      <td>smart</td>\n",
       "      <td>500</td>\n",
       "      <td>3</td>\n",
       "      <td>-112</td>\n",
       "      <td>336</td>\n",
       "    </tr>\n",
       "    <tr>\n",
       "      <td>3167</td>\n",
       "      <td>1499</td>\n",
       "      <td>12</td>\n",
       "      <td>492</td>\n",
       "      <td>56</td>\n",
       "      <td>smart</td>\n",
       "      <td>500</td>\n",
       "      <td>3</td>\n",
       "      <td>8</td>\n",
       "      <td>0</td>\n",
       "    </tr>\n",
       "  </tbody>\n",
       "</table>\n",
       "<p>3168 rows × 9 columns</p>\n",
       "</div>"
      ],
      "text/plain": [
       "      user_id  month  duration  id tariff  minutes_included  rub_per_minute  \\\n",
       "0        1000      5       159  17  ultra              3000               1   \n",
       "1        1000      6       172  28  ultra              3000               1   \n",
       "2        1000      7       340  41  ultra              3000               1   \n",
       "3        1000      8       408  42  ultra              3000               1   \n",
       "4        1000      9       466  46  ultra              3000               1   \n",
       "...       ...    ...       ...  ..    ...               ...             ...   \n",
       "3163     1498     10       247  30  smart               500               3   \n",
       "3164     1499      9        70   8  smart               500               3   \n",
       "3165     1499     10       449  44  smart               500               3   \n",
       "3166     1499     11       612  62  smart               500               3   \n",
       "3167     1499     12       492  56  smart               500               3   \n",
       "\n",
       "      remains_min  min_rev  \n",
       "0            2841        0  \n",
       "1            2828        0  \n",
       "2            2660        0  \n",
       "3            2592        0  \n",
       "4            2534        0  \n",
       "...           ...      ...  \n",
       "3163          253        0  \n",
       "3164          430        0  \n",
       "3165           51        0  \n",
       "3166         -112      336  \n",
       "3167            8        0  \n",
       "\n",
       "[3168 rows x 9 columns]"
      ]
     },
     "metadata": {},
     "output_type": "display_data"
    },
    {
     "name": "stdout",
     "output_type": "stream",
     "text": [
      "<class 'pandas.core.frame.DataFrame'>\n",
      "Int64Index: 3168 entries, 0 to 3167\n",
      "Data columns (total 9 columns):\n",
      "user_id             3168 non-null int64\n",
      "month               3168 non-null int64\n",
      "duration            3168 non-null int64\n",
      "id                  3168 non-null int64\n",
      "tariff              3168 non-null object\n",
      "minutes_included    3168 non-null int16\n",
      "rub_per_minute      3168 non-null int16\n",
      "remains_min         3168 non-null int64\n",
      "min_rev             3168 non-null int64\n",
      "dtypes: int16(2), int64(6), object(1)\n",
      "memory usage: 210.4+ KB\n"
     ]
    }
   ],
   "source": [
    "def df_min(row):\n",
    "    if row['duration'] > row['minutes_included']:\n",
    "        return(row['duration'] - row['minutes_included']) * row['rub_per_minute']\n",
    "    return 0\n",
    "calls_tariff['min_rev']=calls_tariff.apply(df_min,axis=1)\n",
    "display(calls_tariff)\n",
    "calls_tariff.info()"
   ]
  },
  {
   "cell_type": "code",
   "execution_count": 18,
   "metadata": {},
   "outputs": [
    {
     "data": {
      "text/html": [
       "<div>\n",
       "<style scoped>\n",
       "    .dataframe tbody tr th:only-of-type {\n",
       "        vertical-align: middle;\n",
       "    }\n",
       "\n",
       "    .dataframe tbody tr th {\n",
       "        vertical-align: top;\n",
       "    }\n",
       "\n",
       "    .dataframe thead th {\n",
       "        text-align: right;\n",
       "    }\n",
       "</style>\n",
       "<table border=\"1\" class=\"dataframe\">\n",
       "  <thead>\n",
       "    <tr style=\"text-align: right;\">\n",
       "      <th></th>\n",
       "      <th>user_id</th>\n",
       "      <th>month</th>\n",
       "      <th>mb_used</th>\n",
       "      <th>tariff</th>\n",
       "      <th>mb_per_month_included</th>\n",
       "      <th>rub_per_gb</th>\n",
       "      <th>remains_mb</th>\n",
       "      <th>mb_rev</th>\n",
       "    </tr>\n",
       "  </thead>\n",
       "  <tbody>\n",
       "    <tr>\n",
       "      <td>0</td>\n",
       "      <td>1000</td>\n",
       "      <td>5</td>\n",
       "      <td>3</td>\n",
       "      <td>ultra</td>\n",
       "      <td>30720</td>\n",
       "      <td>150</td>\n",
       "      <td>27.0</td>\n",
       "      <td>0</td>\n",
       "    </tr>\n",
       "    <tr>\n",
       "      <td>1</td>\n",
       "      <td>1000</td>\n",
       "      <td>6</td>\n",
       "      <td>23</td>\n",
       "      <td>ultra</td>\n",
       "      <td>30720</td>\n",
       "      <td>150</td>\n",
       "      <td>7.0</td>\n",
       "      <td>0</td>\n",
       "    </tr>\n",
       "    <tr>\n",
       "      <td>2</td>\n",
       "      <td>1000</td>\n",
       "      <td>7</td>\n",
       "      <td>14</td>\n",
       "      <td>ultra</td>\n",
       "      <td>30720</td>\n",
       "      <td>150</td>\n",
       "      <td>16.0</td>\n",
       "      <td>0</td>\n",
       "    </tr>\n",
       "    <tr>\n",
       "      <td>3</td>\n",
       "      <td>1000</td>\n",
       "      <td>8</td>\n",
       "      <td>14</td>\n",
       "      <td>ultra</td>\n",
       "      <td>30720</td>\n",
       "      <td>150</td>\n",
       "      <td>16.0</td>\n",
       "      <td>0</td>\n",
       "    </tr>\n",
       "    <tr>\n",
       "      <td>4</td>\n",
       "      <td>1000</td>\n",
       "      <td>9</td>\n",
       "      <td>15</td>\n",
       "      <td>ultra</td>\n",
       "      <td>30720</td>\n",
       "      <td>150</td>\n",
       "      <td>15.0</td>\n",
       "      <td>0</td>\n",
       "    </tr>\n",
       "    <tr>\n",
       "      <td>...</td>\n",
       "      <td>...</td>\n",
       "      <td>...</td>\n",
       "      <td>...</td>\n",
       "      <td>...</td>\n",
       "      <td>...</td>\n",
       "      <td>...</td>\n",
       "      <td>...</td>\n",
       "      <td>...</td>\n",
       "    </tr>\n",
       "    <tr>\n",
       "      <td>3196</td>\n",
       "      <td>1498</td>\n",
       "      <td>10</td>\n",
       "      <td>21</td>\n",
       "      <td>smart</td>\n",
       "      <td>15360</td>\n",
       "      <td>200</td>\n",
       "      <td>-6.0</td>\n",
       "      <td>1200</td>\n",
       "    </tr>\n",
       "    <tr>\n",
       "      <td>3197</td>\n",
       "      <td>1499</td>\n",
       "      <td>9</td>\n",
       "      <td>2</td>\n",
       "      <td>smart</td>\n",
       "      <td>15360</td>\n",
       "      <td>200</td>\n",
       "      <td>13.0</td>\n",
       "      <td>0</td>\n",
       "    </tr>\n",
       "    <tr>\n",
       "      <td>3198</td>\n",
       "      <td>1499</td>\n",
       "      <td>10</td>\n",
       "      <td>18</td>\n",
       "      <td>smart</td>\n",
       "      <td>15360</td>\n",
       "      <td>200</td>\n",
       "      <td>-3.0</td>\n",
       "      <td>600</td>\n",
       "    </tr>\n",
       "    <tr>\n",
       "      <td>3199</td>\n",
       "      <td>1499</td>\n",
       "      <td>11</td>\n",
       "      <td>18</td>\n",
       "      <td>smart</td>\n",
       "      <td>15360</td>\n",
       "      <td>200</td>\n",
       "      <td>-3.0</td>\n",
       "      <td>600</td>\n",
       "    </tr>\n",
       "    <tr>\n",
       "      <td>3200</td>\n",
       "      <td>1499</td>\n",
       "      <td>12</td>\n",
       "      <td>13</td>\n",
       "      <td>smart</td>\n",
       "      <td>15360</td>\n",
       "      <td>200</td>\n",
       "      <td>2.0</td>\n",
       "      <td>0</td>\n",
       "    </tr>\n",
       "  </tbody>\n",
       "</table>\n",
       "<p>3201 rows × 8 columns</p>\n",
       "</div>"
      ],
      "text/plain": [
       "      user_id  month  mb_used tariff  mb_per_month_included  rub_per_gb  \\\n",
       "0        1000      5        3  ultra                  30720         150   \n",
       "1        1000      6       23  ultra                  30720         150   \n",
       "2        1000      7       14  ultra                  30720         150   \n",
       "3        1000      8       14  ultra                  30720         150   \n",
       "4        1000      9       15  ultra                  30720         150   \n",
       "...       ...    ...      ...    ...                    ...         ...   \n",
       "3196     1498     10       21  smart                  15360         200   \n",
       "3197     1499      9        2  smart                  15360         200   \n",
       "3198     1499     10       18  smart                  15360         200   \n",
       "3199     1499     11       18  smart                  15360         200   \n",
       "3200     1499     12       13  smart                  15360         200   \n",
       "\n",
       "      remains_mb  mb_rev  \n",
       "0           27.0       0  \n",
       "1            7.0       0  \n",
       "2           16.0       0  \n",
       "3           16.0       0  \n",
       "4           15.0       0  \n",
       "...          ...     ...  \n",
       "3196        -6.0    1200  \n",
       "3197        13.0       0  \n",
       "3198        -3.0     600  \n",
       "3199        -3.0     600  \n",
       "3200         2.0       0  \n",
       "\n",
       "[3201 rows x 8 columns]"
      ]
     },
     "metadata": {},
     "output_type": "display_data"
    },
    {
     "name": "stdout",
     "output_type": "stream",
     "text": [
      "<class 'pandas.core.frame.DataFrame'>\n",
      "Int64Index: 3201 entries, 0 to 3200\n",
      "Data columns (total 8 columns):\n",
      "user_id                  3201 non-null int64\n",
      "month                    3201 non-null int64\n",
      "mb_used                  3201 non-null int64\n",
      "tariff                   3201 non-null object\n",
      "mb_per_month_included    3201 non-null int16\n",
      "rub_per_gb               3201 non-null int16\n",
      "remains_mb               3201 non-null float64\n",
      "mb_rev                   3201 non-null int64\n",
      "dtypes: float64(1), int16(2), int64(4), object(1)\n",
      "memory usage: 187.6+ KB\n"
     ]
    }
   ],
   "source": [
    "def df_mb(row):\n",
    "    if row['mb_used'] > row['mb_per_month_included']/1024:\n",
    "        return(int((row['mb_used'] - row['mb_per_month_included']/1024) * row['rub_per_gb']))\n",
    "    return 0\n",
    "internet_tariff['mb_rev']=internet_tariff.apply(df_mb,axis=1)\n",
    "display(internet_tariff)\n",
    "internet_tariff.info()"
   ]
  },
  {
   "cell_type": "markdown",
   "metadata": {},
   "source": [
    "### Создание сводной таблицы со всеми данными"
   ]
  },
  {
   "cell_type": "code",
   "execution_count": 19,
   "metadata": {},
   "outputs": [
    {
     "data": {
      "text/html": [
       "<div>\n",
       "<style scoped>\n",
       "    .dataframe tbody tr th:only-of-type {\n",
       "        vertical-align: middle;\n",
       "    }\n",
       "\n",
       "    .dataframe tbody tr th {\n",
       "        vertical-align: top;\n",
       "    }\n",
       "\n",
       "    .dataframe thead th {\n",
       "        text-align: right;\n",
       "    }\n",
       "</style>\n",
       "<table border=\"1\" class=\"dataframe\">\n",
       "  <thead>\n",
       "    <tr style=\"text-align: right;\">\n",
       "      <th></th>\n",
       "      <th>user_id</th>\n",
       "      <th>month</th>\n",
       "      <th>duration</th>\n",
       "      <th>id_x</th>\n",
       "      <th>tariff</th>\n",
       "      <th>minutes_included</th>\n",
       "      <th>rub_per_minute</th>\n",
       "      <th>remains_min</th>\n",
       "      <th>min_rev</th>\n",
       "      <th>mb_used</th>\n",
       "      <th>...</th>\n",
       "      <th>mb_rev</th>\n",
       "      <th>id_y</th>\n",
       "      <th>message_date</th>\n",
       "      <th>city</th>\n",
       "      <th>messages_included</th>\n",
       "      <th>rub_per_message</th>\n",
       "      <th>remains_mes</th>\n",
       "      <th>mes_rev</th>\n",
       "      <th>rub_monthly_fee</th>\n",
       "      <th>price</th>\n",
       "    </tr>\n",
       "  </thead>\n",
       "  <tbody>\n",
       "    <tr>\n",
       "      <td>0</td>\n",
       "      <td>1000</td>\n",
       "      <td>5</td>\n",
       "      <td>159</td>\n",
       "      <td>17</td>\n",
       "      <td>ultra</td>\n",
       "      <td>3000</td>\n",
       "      <td>1</td>\n",
       "      <td>2841</td>\n",
       "      <td>0</td>\n",
       "      <td>3.0</td>\n",
       "      <td>...</td>\n",
       "      <td>0.0</td>\n",
       "      <td>22.0</td>\n",
       "      <td>22.0</td>\n",
       "      <td>Краснодар</td>\n",
       "      <td>1000.0</td>\n",
       "      <td>1.0</td>\n",
       "      <td>978.0</td>\n",
       "      <td>0.0</td>\n",
       "      <td>1950</td>\n",
       "      <td>1950</td>\n",
       "    </tr>\n",
       "    <tr>\n",
       "      <td>1</td>\n",
       "      <td>1000</td>\n",
       "      <td>6</td>\n",
       "      <td>172</td>\n",
       "      <td>28</td>\n",
       "      <td>ultra</td>\n",
       "      <td>3000</td>\n",
       "      <td>1</td>\n",
       "      <td>2828</td>\n",
       "      <td>0</td>\n",
       "      <td>23.0</td>\n",
       "      <td>...</td>\n",
       "      <td>0.0</td>\n",
       "      <td>60.0</td>\n",
       "      <td>60.0</td>\n",
       "      <td>Краснодар</td>\n",
       "      <td>1000.0</td>\n",
       "      <td>1.0</td>\n",
       "      <td>940.0</td>\n",
       "      <td>0.0</td>\n",
       "      <td>1950</td>\n",
       "      <td>1950</td>\n",
       "    </tr>\n",
       "    <tr>\n",
       "      <td>2</td>\n",
       "      <td>1000</td>\n",
       "      <td>7</td>\n",
       "      <td>340</td>\n",
       "      <td>41</td>\n",
       "      <td>ultra</td>\n",
       "      <td>3000</td>\n",
       "      <td>1</td>\n",
       "      <td>2660</td>\n",
       "      <td>0</td>\n",
       "      <td>14.0</td>\n",
       "      <td>...</td>\n",
       "      <td>0.0</td>\n",
       "      <td>75.0</td>\n",
       "      <td>75.0</td>\n",
       "      <td>Краснодар</td>\n",
       "      <td>1000.0</td>\n",
       "      <td>1.0</td>\n",
       "      <td>925.0</td>\n",
       "      <td>0.0</td>\n",
       "      <td>1950</td>\n",
       "      <td>1950</td>\n",
       "    </tr>\n",
       "    <tr>\n",
       "      <td>3</td>\n",
       "      <td>1000</td>\n",
       "      <td>8</td>\n",
       "      <td>408</td>\n",
       "      <td>42</td>\n",
       "      <td>ultra</td>\n",
       "      <td>3000</td>\n",
       "      <td>1</td>\n",
       "      <td>2592</td>\n",
       "      <td>0</td>\n",
       "      <td>14.0</td>\n",
       "      <td>...</td>\n",
       "      <td>0.0</td>\n",
       "      <td>81.0</td>\n",
       "      <td>81.0</td>\n",
       "      <td>Краснодар</td>\n",
       "      <td>1000.0</td>\n",
       "      <td>1.0</td>\n",
       "      <td>919.0</td>\n",
       "      <td>0.0</td>\n",
       "      <td>1950</td>\n",
       "      <td>1950</td>\n",
       "    </tr>\n",
       "    <tr>\n",
       "      <td>4</td>\n",
       "      <td>1000</td>\n",
       "      <td>9</td>\n",
       "      <td>466</td>\n",
       "      <td>46</td>\n",
       "      <td>ultra</td>\n",
       "      <td>3000</td>\n",
       "      <td>1</td>\n",
       "      <td>2534</td>\n",
       "      <td>0</td>\n",
       "      <td>15.0</td>\n",
       "      <td>...</td>\n",
       "      <td>0.0</td>\n",
       "      <td>57.0</td>\n",
       "      <td>57.0</td>\n",
       "      <td>Краснодар</td>\n",
       "      <td>1000.0</td>\n",
       "      <td>1.0</td>\n",
       "      <td>943.0</td>\n",
       "      <td>0.0</td>\n",
       "      <td>1950</td>\n",
       "      <td>1950</td>\n",
       "    </tr>\n",
       "    <tr>\n",
       "      <td>...</td>\n",
       "      <td>...</td>\n",
       "      <td>...</td>\n",
       "      <td>...</td>\n",
       "      <td>...</td>\n",
       "      <td>...</td>\n",
       "      <td>...</td>\n",
       "      <td>...</td>\n",
       "      <td>...</td>\n",
       "      <td>...</td>\n",
       "      <td>...</td>\n",
       "      <td>...</td>\n",
       "      <td>...</td>\n",
       "      <td>...</td>\n",
       "      <td>...</td>\n",
       "      <td>...</td>\n",
       "      <td>...</td>\n",
       "      <td>...</td>\n",
       "      <td>...</td>\n",
       "      <td>...</td>\n",
       "      <td>...</td>\n",
       "      <td>...</td>\n",
       "    </tr>\n",
       "    <tr>\n",
       "      <td>3163</td>\n",
       "      <td>1498</td>\n",
       "      <td>10</td>\n",
       "      <td>247</td>\n",
       "      <td>30</td>\n",
       "      <td>smart</td>\n",
       "      <td>500</td>\n",
       "      <td>3</td>\n",
       "      <td>253</td>\n",
       "      <td>0</td>\n",
       "      <td>21.0</td>\n",
       "      <td>...</td>\n",
       "      <td>1200.0</td>\n",
       "      <td>42.0</td>\n",
       "      <td>42.0</td>\n",
       "      <td>Владикавказ</td>\n",
       "      <td>50.0</td>\n",
       "      <td>3.0</td>\n",
       "      <td>8.0</td>\n",
       "      <td>0.0</td>\n",
       "      <td>550</td>\n",
       "      <td>1750</td>\n",
       "    </tr>\n",
       "    <tr>\n",
       "      <td>3164</td>\n",
       "      <td>1499</td>\n",
       "      <td>9</td>\n",
       "      <td>70</td>\n",
       "      <td>8</td>\n",
       "      <td>smart</td>\n",
       "      <td>500</td>\n",
       "      <td>3</td>\n",
       "      <td>430</td>\n",
       "      <td>0</td>\n",
       "      <td>2.0</td>\n",
       "      <td>...</td>\n",
       "      <td>0.0</td>\n",
       "      <td>11.0</td>\n",
       "      <td>11.0</td>\n",
       "      <td>Пермь</td>\n",
       "      <td>50.0</td>\n",
       "      <td>3.0</td>\n",
       "      <td>39.0</td>\n",
       "      <td>0.0</td>\n",
       "      <td>550</td>\n",
       "      <td>550</td>\n",
       "    </tr>\n",
       "    <tr>\n",
       "      <td>3165</td>\n",
       "      <td>1499</td>\n",
       "      <td>10</td>\n",
       "      <td>449</td>\n",
       "      <td>44</td>\n",
       "      <td>smart</td>\n",
       "      <td>500</td>\n",
       "      <td>3</td>\n",
       "      <td>51</td>\n",
       "      <td>0</td>\n",
       "      <td>18.0</td>\n",
       "      <td>...</td>\n",
       "      <td>600.0</td>\n",
       "      <td>48.0</td>\n",
       "      <td>48.0</td>\n",
       "      <td>Пермь</td>\n",
       "      <td>50.0</td>\n",
       "      <td>3.0</td>\n",
       "      <td>2.0</td>\n",
       "      <td>0.0</td>\n",
       "      <td>550</td>\n",
       "      <td>1150</td>\n",
       "    </tr>\n",
       "    <tr>\n",
       "      <td>3166</td>\n",
       "      <td>1499</td>\n",
       "      <td>11</td>\n",
       "      <td>612</td>\n",
       "      <td>62</td>\n",
       "      <td>smart</td>\n",
       "      <td>500</td>\n",
       "      <td>3</td>\n",
       "      <td>-112</td>\n",
       "      <td>336</td>\n",
       "      <td>18.0</td>\n",
       "      <td>...</td>\n",
       "      <td>600.0</td>\n",
       "      <td>59.0</td>\n",
       "      <td>59.0</td>\n",
       "      <td>Пермь</td>\n",
       "      <td>50.0</td>\n",
       "      <td>3.0</td>\n",
       "      <td>-9.0</td>\n",
       "      <td>27.0</td>\n",
       "      <td>550</td>\n",
       "      <td>1513</td>\n",
       "    </tr>\n",
       "    <tr>\n",
       "      <td>3167</td>\n",
       "      <td>1499</td>\n",
       "      <td>12</td>\n",
       "      <td>492</td>\n",
       "      <td>56</td>\n",
       "      <td>smart</td>\n",
       "      <td>500</td>\n",
       "      <td>3</td>\n",
       "      <td>8</td>\n",
       "      <td>0</td>\n",
       "      <td>13.0</td>\n",
       "      <td>...</td>\n",
       "      <td>0.0</td>\n",
       "      <td>66.0</td>\n",
       "      <td>66.0</td>\n",
       "      <td>Пермь</td>\n",
       "      <td>50.0</td>\n",
       "      <td>3.0</td>\n",
       "      <td>-16.0</td>\n",
       "      <td>48.0</td>\n",
       "      <td>550</td>\n",
       "      <td>598</td>\n",
       "    </tr>\n",
       "  </tbody>\n",
       "</table>\n",
       "<p>3168 rows × 23 columns</p>\n",
       "</div>"
      ],
      "text/plain": [
       "      user_id  month  duration  id_x tariff  minutes_included  rub_per_minute  \\\n",
       "0        1000      5       159    17  ultra              3000               1   \n",
       "1        1000      6       172    28  ultra              3000               1   \n",
       "2        1000      7       340    41  ultra              3000               1   \n",
       "3        1000      8       408    42  ultra              3000               1   \n",
       "4        1000      9       466    46  ultra              3000               1   \n",
       "...       ...    ...       ...   ...    ...               ...             ...   \n",
       "3163     1498     10       247    30  smart               500               3   \n",
       "3164     1499      9        70     8  smart               500               3   \n",
       "3165     1499     10       449    44  smart               500               3   \n",
       "3166     1499     11       612    62  smart               500               3   \n",
       "3167     1499     12       492    56  smart               500               3   \n",
       "\n",
       "      remains_min  min_rev  mb_used  ...  mb_rev  id_y  message_date  \\\n",
       "0            2841        0      3.0  ...     0.0  22.0          22.0   \n",
       "1            2828        0     23.0  ...     0.0  60.0          60.0   \n",
       "2            2660        0     14.0  ...     0.0  75.0          75.0   \n",
       "3            2592        0     14.0  ...     0.0  81.0          81.0   \n",
       "4            2534        0     15.0  ...     0.0  57.0          57.0   \n",
       "...           ...      ...      ...  ...     ...   ...           ...   \n",
       "3163          253        0     21.0  ...  1200.0  42.0          42.0   \n",
       "3164          430        0      2.0  ...     0.0  11.0          11.0   \n",
       "3165           51        0     18.0  ...   600.0  48.0          48.0   \n",
       "3166         -112      336     18.0  ...   600.0  59.0          59.0   \n",
       "3167            8        0     13.0  ...     0.0  66.0          66.0   \n",
       "\n",
       "             city  messages_included  rub_per_message remains_mes  mes_rev  \\\n",
       "0       Краснодар             1000.0              1.0       978.0      0.0   \n",
       "1       Краснодар             1000.0              1.0       940.0      0.0   \n",
       "2       Краснодар             1000.0              1.0       925.0      0.0   \n",
       "3       Краснодар             1000.0              1.0       919.0      0.0   \n",
       "4       Краснодар             1000.0              1.0       943.0      0.0   \n",
       "...           ...                ...              ...         ...      ...   \n",
       "3163  Владикавказ               50.0              3.0         8.0      0.0   \n",
       "3164        Пермь               50.0              3.0        39.0      0.0   \n",
       "3165        Пермь               50.0              3.0         2.0      0.0   \n",
       "3166        Пермь               50.0              3.0        -9.0     27.0   \n",
       "3167        Пермь               50.0              3.0       -16.0     48.0   \n",
       "\n",
       "      rub_monthly_fee  price  \n",
       "0                1950   1950  \n",
       "1                1950   1950  \n",
       "2                1950   1950  \n",
       "3                1950   1950  \n",
       "4                1950   1950  \n",
       "...               ...    ...  \n",
       "3163              550   1750  \n",
       "3164              550    550  \n",
       "3165              550   1150  \n",
       "3166              550   1513  \n",
       "3167              550    598  \n",
       "\n",
       "[3168 rows x 23 columns]"
      ]
     },
     "metadata": {},
     "output_type": "display_data"
    }
   ],
   "source": [
    "total = (\n",
    "    calls_tariff.merge(internet_tariff, on =['user_id','month','tariff'], how ='left')\n",
    "    .merge(message_tariff, on =['user_id','month','tariff'],how = 'left').fillna(0)\n",
    "    .merge(tariffs[['rub_monthly_fee','tariff']], on =['tariff'], how ='left')\n",
    ")\n",
    "total['price']= total['min_rev']+total['mb_rev']+total['mes_rev']+total['rub_monthly_fee']\n",
    "total['price']= total['price'].astype('int16')\n",
    "display(total)"
   ]
  },
  {
   "cell_type": "markdown",
   "metadata": {},
   "source": [
    "Создал таблицу, в которой отразил все необходимые данные для статистического анализа данных"
   ]
  },
  {
   "cell_type": "code",
   "execution_count": 20,
   "metadata": {},
   "outputs": [
    {
     "name": "stdout",
     "output_type": "stream",
     "text": [
      "<class 'pandas.core.frame.DataFrame'>\n",
      "Int64Index: 3168 entries, 0 to 3167\n",
      "Data columns (total 23 columns):\n",
      "user_id                  3168 non-null int64\n",
      "month                    3168 non-null int64\n",
      "duration                 3168 non-null int64\n",
      "id_x                     3168 non-null int64\n",
      "tariff                   3168 non-null object\n",
      "minutes_included         3168 non-null int16\n",
      "rub_per_minute           3168 non-null int16\n",
      "remains_min              3168 non-null int64\n",
      "min_rev                  3168 non-null int64\n",
      "mb_used                  3168 non-null float64\n",
      "mb_per_month_included    3168 non-null float64\n",
      "rub_per_gb               3168 non-null float64\n",
      "remains_mb               3168 non-null float64\n",
      "mb_rev                   3168 non-null float64\n",
      "id_y                     3168 non-null float64\n",
      "message_date             3168 non-null float64\n",
      "city                     3168 non-null object\n",
      "messages_included        3168 non-null float64\n",
      "rub_per_message          3168 non-null float64\n",
      "remains_mes              3168 non-null float64\n",
      "mes_rev                  3168 non-null float64\n",
      "rub_monthly_fee          3168 non-null int16\n",
      "price                    3168 non-null int16\n",
      "dtypes: float64(11), int16(4), int64(6), object(2)\n",
      "memory usage: 519.8+ KB\n"
     ]
    }
   ],
   "source": [
    "total.info()"
   ]
  },
  {
   "cell_type": "markdown",
   "metadata": {},
   "source": [
    "Сделал слияние с tariff, чтобы взять оттуда стоимость пакета."
   ]
  },
  {
   "cell_type": "markdown",
   "metadata": {},
   "source": [
    "## Анализ данных"
   ]
  },
  {
   "cell_type": "markdown",
   "metadata": {},
   "source": [
    "### Общая выручка по пользователям за весь период наблюдения"
   ]
  },
  {
   "cell_type": "code",
   "execution_count": 21,
   "metadata": {},
   "outputs": [
    {
     "data": {
      "text/html": [
       "<div>\n",
       "<style scoped>\n",
       "    .dataframe tbody tr th:only-of-type {\n",
       "        vertical-align: middle;\n",
       "    }\n",
       "\n",
       "    .dataframe tbody tr th {\n",
       "        vertical-align: top;\n",
       "    }\n",
       "\n",
       "    .dataframe thead th {\n",
       "        text-align: right;\n",
       "    }\n",
       "</style>\n",
       "<table border=\"1\" class=\"dataframe\">\n",
       "  <thead>\n",
       "    <tr style=\"text-align: right;\">\n",
       "      <th></th>\n",
       "      <th>price</th>\n",
       "    </tr>\n",
       "    <tr>\n",
       "      <th>user_id</th>\n",
       "      <th></th>\n",
       "    </tr>\n",
       "  </thead>\n",
       "  <tbody>\n",
       "    <tr>\n",
       "      <td>1000</td>\n",
       "      <td>15600</td>\n",
       "    </tr>\n",
       "    <tr>\n",
       "      <td>1001</td>\n",
       "      <td>1700</td>\n",
       "    </tr>\n",
       "    <tr>\n",
       "      <td>1002</td>\n",
       "      <td>7250</td>\n",
       "    </tr>\n",
       "    <tr>\n",
       "      <td>1003</td>\n",
       "      <td>9750</td>\n",
       "    </tr>\n",
       "    <tr>\n",
       "      <td>1004</td>\n",
       "      <td>15600</td>\n",
       "    </tr>\n",
       "    <tr>\n",
       "      <td>...</td>\n",
       "      <td>...</td>\n",
       "    </tr>\n",
       "    <tr>\n",
       "      <td>1495</td>\n",
       "      <td>11550</td>\n",
       "    </tr>\n",
       "    <tr>\n",
       "      <td>1496</td>\n",
       "      <td>28351</td>\n",
       "    </tr>\n",
       "    <tr>\n",
       "      <td>1497</td>\n",
       "      <td>2785</td>\n",
       "    </tr>\n",
       "    <tr>\n",
       "      <td>1498</td>\n",
       "      <td>6636</td>\n",
       "    </tr>\n",
       "    <tr>\n",
       "      <td>1499</td>\n",
       "      <td>3811</td>\n",
       "    </tr>\n",
       "  </tbody>\n",
       "</table>\n",
       "<p>492 rows × 1 columns</p>\n",
       "</div>"
      ],
      "text/plain": [
       "         price\n",
       "user_id       \n",
       "1000     15600\n",
       "1001      1700\n",
       "1002      7250\n",
       "1003      9750\n",
       "1004     15600\n",
       "...        ...\n",
       "1495     11550\n",
       "1496     28351\n",
       "1497      2785\n",
       "1498      6636\n",
       "1499      3811\n",
       "\n",
       "[492 rows x 1 columns]"
      ]
     },
     "metadata": {},
     "output_type": "display_data"
    }
   ],
   "source": [
    "display(total.pivot_table(index=['user_id'],values='price',aggfunc = 'sum'))"
   ]
  },
  {
   "cell_type": "markdown",
   "metadata": {},
   "source": [
    "### Сводная таблица со средними значениями по тарифам и месяцам"
   ]
  },
  {
   "cell_type": "code",
   "execution_count": 22,
   "metadata": {},
   "outputs": [
    {
     "data": {
      "text/html": [
       "<div>\n",
       "<style scoped>\n",
       "    .dataframe tbody tr th:only-of-type {\n",
       "        vertical-align: middle;\n",
       "    }\n",
       "\n",
       "    .dataframe tbody tr th {\n",
       "        vertical-align: top;\n",
       "    }\n",
       "\n",
       "    .dataframe thead th {\n",
       "        text-align: right;\n",
       "    }\n",
       "</style>\n",
       "<table border=\"1\" class=\"dataframe\">\n",
       "  <thead>\n",
       "    <tr style=\"text-align: right;\">\n",
       "      <th></th>\n",
       "      <th></th>\n",
       "      <th>duration</th>\n",
       "      <th>id_y</th>\n",
       "      <th>mb_used</th>\n",
       "    </tr>\n",
       "    <tr>\n",
       "      <th>tariff</th>\n",
       "      <th>month</th>\n",
       "      <th></th>\n",
       "      <th></th>\n",
       "      <th></th>\n",
       "    </tr>\n",
       "  </thead>\n",
       "  <tbody>\n",
       "    <tr>\n",
       "      <td rowspan=\"12\" valign=\"top\">smart</td>\n",
       "      <td>1</td>\n",
       "      <td>210.030303</td>\n",
       "      <td>17.939394</td>\n",
       "      <td>8.727273</td>\n",
       "    </tr>\n",
       "    <tr>\n",
       "      <td>2</td>\n",
       "      <td>298.689655</td>\n",
       "      <td>24.086207</td>\n",
       "      <td>11.844828</td>\n",
       "    </tr>\n",
       "    <tr>\n",
       "      <td>3</td>\n",
       "      <td>390.051948</td>\n",
       "      <td>31.857143</td>\n",
       "      <td>15.233766</td>\n",
       "    </tr>\n",
       "    <tr>\n",
       "      <td>4</td>\n",
       "      <td>370.441441</td>\n",
       "      <td>30.585586</td>\n",
       "      <td>13.567568</td>\n",
       "    </tr>\n",
       "    <tr>\n",
       "      <td>5</td>\n",
       "      <td>387.361702</td>\n",
       "      <td>33.773050</td>\n",
       "      <td>15.907801</td>\n",
       "    </tr>\n",
       "    <tr>\n",
       "      <td>6</td>\n",
       "      <td>398.067485</td>\n",
       "      <td>33.312883</td>\n",
       "      <td>15.969325</td>\n",
       "    </tr>\n",
       "    <tr>\n",
       "      <td>7</td>\n",
       "      <td>408.353234</td>\n",
       "      <td>33.751244</td>\n",
       "      <td>15.875622</td>\n",
       "    </tr>\n",
       "    <tr>\n",
       "      <td>8</td>\n",
       "      <td>423.269231</td>\n",
       "      <td>33.709402</td>\n",
       "      <td>16.760684</td>\n",
       "    </tr>\n",
       "    <tr>\n",
       "      <td>9</td>\n",
       "      <td>430.266409</td>\n",
       "      <td>33.644788</td>\n",
       "      <td>16.389961</td>\n",
       "    </tr>\n",
       "    <tr>\n",
       "      <td>10</td>\n",
       "      <td>427.590444</td>\n",
       "      <td>33.808874</td>\n",
       "      <td>16.870307</td>\n",
       "    </tr>\n",
       "    <tr>\n",
       "      <td>11</td>\n",
       "      <td>436.647619</td>\n",
       "      <td>34.120635</td>\n",
       "      <td>16.996825</td>\n",
       "    </tr>\n",
       "    <tr>\n",
       "      <td>12</td>\n",
       "      <td>479.985119</td>\n",
       "      <td>35.997024</td>\n",
       "      <td>18.205357</td>\n",
       "    </tr>\n",
       "    <tr>\n",
       "      <td rowspan=\"12\" valign=\"top\">ultra</td>\n",
       "      <td>1</td>\n",
       "      <td>428.111111</td>\n",
       "      <td>33.777778</td>\n",
       "      <td>13.222222</td>\n",
       "    </tr>\n",
       "    <tr>\n",
       "      <td>2</td>\n",
       "      <td>310.043478</td>\n",
       "      <td>22.913043</td>\n",
       "      <td>12.478261</td>\n",
       "    </tr>\n",
       "    <tr>\n",
       "      <td>3</td>\n",
       "      <td>489.648649</td>\n",
       "      <td>32.297297</td>\n",
       "      <td>17.648649</td>\n",
       "    </tr>\n",
       "    <tr>\n",
       "      <td>4</td>\n",
       "      <td>475.301887</td>\n",
       "      <td>32.584906</td>\n",
       "      <td>17.528302</td>\n",
       "    </tr>\n",
       "    <tr>\n",
       "      <td>5</td>\n",
       "      <td>534.250000</td>\n",
       "      <td>37.859375</td>\n",
       "      <td>19.671875</td>\n",
       "    </tr>\n",
       "    <tr>\n",
       "      <td>6</td>\n",
       "      <td>497.469136</td>\n",
       "      <td>40.049383</td>\n",
       "      <td>18.925926</td>\n",
       "    </tr>\n",
       "    <tr>\n",
       "      <td>7</td>\n",
       "      <td>570.885057</td>\n",
       "      <td>47.356322</td>\n",
       "      <td>20.448276</td>\n",
       "    </tr>\n",
       "    <tr>\n",
       "      <td>8</td>\n",
       "      <td>535.813725</td>\n",
       "      <td>46.794118</td>\n",
       "      <td>19.558824</td>\n",
       "    </tr>\n",
       "    <tr>\n",
       "      <td>9</td>\n",
       "      <td>563.963636</td>\n",
       "      <td>50.890909</td>\n",
       "      <td>19.100000</td>\n",
       "    </tr>\n",
       "    <tr>\n",
       "      <td>10</td>\n",
       "      <td>581.728814</td>\n",
       "      <td>58.466102</td>\n",
       "      <td>20.093220</td>\n",
       "    </tr>\n",
       "    <tr>\n",
       "      <td>11</td>\n",
       "      <td>562.364341</td>\n",
       "      <td>56.000000</td>\n",
       "      <td>19.666667</td>\n",
       "    </tr>\n",
       "    <tr>\n",
       "      <td>12</td>\n",
       "      <td>614.925373</td>\n",
       "      <td>60.753731</td>\n",
       "      <td>21.649254</td>\n",
       "    </tr>\n",
       "  </tbody>\n",
       "</table>\n",
       "</div>"
      ],
      "text/plain": [
       "                duration       id_y    mb_used\n",
       "tariff month                                  \n",
       "smart  1      210.030303  17.939394   8.727273\n",
       "       2      298.689655  24.086207  11.844828\n",
       "       3      390.051948  31.857143  15.233766\n",
       "       4      370.441441  30.585586  13.567568\n",
       "       5      387.361702  33.773050  15.907801\n",
       "       6      398.067485  33.312883  15.969325\n",
       "       7      408.353234  33.751244  15.875622\n",
       "       8      423.269231  33.709402  16.760684\n",
       "       9      430.266409  33.644788  16.389961\n",
       "       10     427.590444  33.808874  16.870307\n",
       "       11     436.647619  34.120635  16.996825\n",
       "       12     479.985119  35.997024  18.205357\n",
       "ultra  1      428.111111  33.777778  13.222222\n",
       "       2      310.043478  22.913043  12.478261\n",
       "       3      489.648649  32.297297  17.648649\n",
       "       4      475.301887  32.584906  17.528302\n",
       "       5      534.250000  37.859375  19.671875\n",
       "       6      497.469136  40.049383  18.925926\n",
       "       7      570.885057  47.356322  20.448276\n",
       "       8      535.813725  46.794118  19.558824\n",
       "       9      563.963636  50.890909  19.100000\n",
       "       10     581.728814  58.466102  20.093220\n",
       "       11     562.364341  56.000000  19.666667\n",
       "       12     614.925373  60.753731  21.649254"
      ]
     },
     "execution_count": 22,
     "metadata": {},
     "output_type": "execute_result"
    }
   ],
   "source": [
    "total.pivot_table(index=['tariff','month'], values=['duration','mb_used','id_y'], aggfunc='mean')"
   ]
  },
  {
   "cell_type": "markdown",
   "metadata": {},
   "source": [
    "### Сводная таблица с сумарными значениями по тарифам и месяцам"
   ]
  },
  {
   "cell_type": "code",
   "execution_count": 23,
   "metadata": {},
   "outputs": [
    {
     "data": {
      "text/html": [
       "<div>\n",
       "<style scoped>\n",
       "    .dataframe tbody tr th:only-of-type {\n",
       "        vertical-align: middle;\n",
       "    }\n",
       "\n",
       "    .dataframe tbody tr th {\n",
       "        vertical-align: top;\n",
       "    }\n",
       "\n",
       "    .dataframe thead th {\n",
       "        text-align: right;\n",
       "    }\n",
       "</style>\n",
       "<table border=\"1\" class=\"dataframe\">\n",
       "  <thead>\n",
       "    <tr style=\"text-align: right;\">\n",
       "      <th></th>\n",
       "      <th></th>\n",
       "      <th>duration</th>\n",
       "      <th>id_y</th>\n",
       "      <th>mb_used</th>\n",
       "    </tr>\n",
       "    <tr>\n",
       "      <th>tariff</th>\n",
       "      <th>month</th>\n",
       "      <th></th>\n",
       "      <th></th>\n",
       "      <th></th>\n",
       "    </tr>\n",
       "  </thead>\n",
       "  <tbody>\n",
       "    <tr>\n",
       "      <td rowspan=\"12\" valign=\"top\">smart</td>\n",
       "      <td>1</td>\n",
       "      <td>6931</td>\n",
       "      <td>592.0</td>\n",
       "      <td>288.0</td>\n",
       "    </tr>\n",
       "    <tr>\n",
       "      <td>2</td>\n",
       "      <td>17324</td>\n",
       "      <td>1397.0</td>\n",
       "      <td>687.0</td>\n",
       "    </tr>\n",
       "    <tr>\n",
       "      <td>3</td>\n",
       "      <td>30034</td>\n",
       "      <td>2453.0</td>\n",
       "      <td>1173.0</td>\n",
       "    </tr>\n",
       "    <tr>\n",
       "      <td>4</td>\n",
       "      <td>41119</td>\n",
       "      <td>3395.0</td>\n",
       "      <td>1506.0</td>\n",
       "    </tr>\n",
       "    <tr>\n",
       "      <td>5</td>\n",
       "      <td>54618</td>\n",
       "      <td>4762.0</td>\n",
       "      <td>2243.0</td>\n",
       "    </tr>\n",
       "    <tr>\n",
       "      <td>6</td>\n",
       "      <td>64885</td>\n",
       "      <td>5430.0</td>\n",
       "      <td>2603.0</td>\n",
       "    </tr>\n",
       "    <tr>\n",
       "      <td>7</td>\n",
       "      <td>82079</td>\n",
       "      <td>6784.0</td>\n",
       "      <td>3191.0</td>\n",
       "    </tr>\n",
       "    <tr>\n",
       "      <td>8</td>\n",
       "      <td>99045</td>\n",
       "      <td>7888.0</td>\n",
       "      <td>3922.0</td>\n",
       "    </tr>\n",
       "    <tr>\n",
       "      <td>9</td>\n",
       "      <td>111439</td>\n",
       "      <td>8714.0</td>\n",
       "      <td>4245.0</td>\n",
       "    </tr>\n",
       "    <tr>\n",
       "      <td>10</td>\n",
       "      <td>125284</td>\n",
       "      <td>9906.0</td>\n",
       "      <td>4943.0</td>\n",
       "    </tr>\n",
       "    <tr>\n",
       "      <td>11</td>\n",
       "      <td>137544</td>\n",
       "      <td>10748.0</td>\n",
       "      <td>5354.0</td>\n",
       "    </tr>\n",
       "    <tr>\n",
       "      <td>12</td>\n",
       "      <td>161275</td>\n",
       "      <td>12095.0</td>\n",
       "      <td>6117.0</td>\n",
       "    </tr>\n",
       "    <tr>\n",
       "      <td rowspan=\"12\" valign=\"top\">ultra</td>\n",
       "      <td>1</td>\n",
       "      <td>3853</td>\n",
       "      <td>304.0</td>\n",
       "      <td>119.0</td>\n",
       "    </tr>\n",
       "    <tr>\n",
       "      <td>2</td>\n",
       "      <td>7131</td>\n",
       "      <td>527.0</td>\n",
       "      <td>287.0</td>\n",
       "    </tr>\n",
       "    <tr>\n",
       "      <td>3</td>\n",
       "      <td>18117</td>\n",
       "      <td>1195.0</td>\n",
       "      <td>653.0</td>\n",
       "    </tr>\n",
       "    <tr>\n",
       "      <td>4</td>\n",
       "      <td>25191</td>\n",
       "      <td>1727.0</td>\n",
       "      <td>929.0</td>\n",
       "    </tr>\n",
       "    <tr>\n",
       "      <td>5</td>\n",
       "      <td>34192</td>\n",
       "      <td>2423.0</td>\n",
       "      <td>1259.0</td>\n",
       "    </tr>\n",
       "    <tr>\n",
       "      <td>6</td>\n",
       "      <td>40295</td>\n",
       "      <td>3244.0</td>\n",
       "      <td>1533.0</td>\n",
       "    </tr>\n",
       "    <tr>\n",
       "      <td>7</td>\n",
       "      <td>49667</td>\n",
       "      <td>4120.0</td>\n",
       "      <td>1779.0</td>\n",
       "    </tr>\n",
       "    <tr>\n",
       "      <td>8</td>\n",
       "      <td>54653</td>\n",
       "      <td>4773.0</td>\n",
       "      <td>1995.0</td>\n",
       "    </tr>\n",
       "    <tr>\n",
       "      <td>9</td>\n",
       "      <td>62036</td>\n",
       "      <td>5598.0</td>\n",
       "      <td>2101.0</td>\n",
       "    </tr>\n",
       "    <tr>\n",
       "      <td>10</td>\n",
       "      <td>68644</td>\n",
       "      <td>6899.0</td>\n",
       "      <td>2371.0</td>\n",
       "    </tr>\n",
       "    <tr>\n",
       "      <td>11</td>\n",
       "      <td>72545</td>\n",
       "      <td>7224.0</td>\n",
       "      <td>2537.0</td>\n",
       "    </tr>\n",
       "    <tr>\n",
       "      <td>12</td>\n",
       "      <td>82400</td>\n",
       "      <td>8141.0</td>\n",
       "      <td>2901.0</td>\n",
       "    </tr>\n",
       "  </tbody>\n",
       "</table>\n",
       "</div>"
      ],
      "text/plain": [
       "              duration     id_y  mb_used\n",
       "tariff month                            \n",
       "smart  1          6931    592.0    288.0\n",
       "       2         17324   1397.0    687.0\n",
       "       3         30034   2453.0   1173.0\n",
       "       4         41119   3395.0   1506.0\n",
       "       5         54618   4762.0   2243.0\n",
       "       6         64885   5430.0   2603.0\n",
       "       7         82079   6784.0   3191.0\n",
       "       8         99045   7888.0   3922.0\n",
       "       9        111439   8714.0   4245.0\n",
       "       10       125284   9906.0   4943.0\n",
       "       11       137544  10748.0   5354.0\n",
       "       12       161275  12095.0   6117.0\n",
       "ultra  1          3853    304.0    119.0\n",
       "       2          7131    527.0    287.0\n",
       "       3         18117   1195.0    653.0\n",
       "       4         25191   1727.0    929.0\n",
       "       5         34192   2423.0   1259.0\n",
       "       6         40295   3244.0   1533.0\n",
       "       7         49667   4120.0   1779.0\n",
       "       8         54653   4773.0   1995.0\n",
       "       9         62036   5598.0   2101.0\n",
       "       10        68644   6899.0   2371.0\n",
       "       11        72545   7224.0   2537.0\n",
       "       12        82400   8141.0   2901.0"
      ]
     },
     "execution_count": 23,
     "metadata": {},
     "output_type": "execute_result"
    }
   ],
   "source": [
    "total.pivot_table(index=['tariff','month'], values=['duration','mb_used','id_y'], aggfunc='sum')"
   ]
  },
  {
   "cell_type": "markdown",
   "metadata": {},
   "source": [
    "### Дисперсия по общим звонкам, смскам и использованным Мб"
   ]
  },
  {
   "cell_type": "code",
   "execution_count": 45,
   "metadata": {},
   "outputs": [
    {
     "data": {
      "text/plain": [
       "35702.04653099502"
      ]
     },
     "metadata": {},
     "output_type": "display_data"
    }
   ],
   "source": [
    "display(np.var(total.query('tariff == \"smart\"')['duration'])) \n"
   ]
  },
  {
   "cell_type": "markdown",
   "metadata": {},
   "source": [
    "Дисперсия по звонкам пользователей тарифа \"Смарт\""
   ]
  },
  {
   "cell_type": "code",
   "execution_count": 46,
   "metadata": {},
   "outputs": [
    {
     "data": {
      "text/plain": [
       "798.8462060707005"
      ]
     },
     "metadata": {},
     "output_type": "display_data"
    }
   ],
   "source": [
    "display(np.var(total.query('tariff == \"smart\"')['id_y']))"
   ]
  },
  {
   "cell_type": "markdown",
   "metadata": {},
   "source": [
    "Дисперсия смс пользователей тарифа \"Смарт\""
   ]
  },
  {
   "cell_type": "code",
   "execution_count": 47,
   "metadata": {},
   "outputs": [
    {
     "data": {
      "text/plain": [
       "33.07703856661912"
      ]
     },
     "metadata": {},
     "output_type": "display_data"
    }
   ],
   "source": [
    "display(np.var(total.query('tariff == \"smart\"')['mb_used']))"
   ]
  },
  {
   "cell_type": "markdown",
   "metadata": {},
   "source": [
    "Дисперсия использованным Мб интернета пользователей тарифа \"Смарт\""
   ]
  },
  {
   "cell_type": "code",
   "execution_count": 48,
   "metadata": {},
   "outputs": [
    {
     "data": {
      "text/plain": [
       "93239.86606512647"
      ]
     },
     "metadata": {},
     "output_type": "display_data"
    }
   ],
   "source": [
    "display(np.var(total.query('tariff == \"ultra\"')['duration'])) \n"
   ]
  },
  {
   "cell_type": "markdown",
   "metadata": {},
   "source": [
    "Дисперсия по звонкам пользователей тарифа \"Ультра\""
   ]
  },
  {
   "cell_type": "code",
   "execution_count": 49,
   "metadata": {},
   "outputs": [
    {
     "data": {
      "text/plain": [
       "2169.4330587672516"
      ]
     },
     "metadata": {},
     "output_type": "display_data"
    }
   ],
   "source": [
    "display(np.var(total.query('tariff == \"ultra\"')['id_y']))\n"
   ]
  },
  {
   "cell_type": "markdown",
   "metadata": {},
   "source": [
    "Дисперсия смс пользователей тарифа \"Ультра\""
   ]
  },
  {
   "cell_type": "code",
   "execution_count": 50,
   "metadata": {},
   "outputs": [
    {
     "data": {
      "text/plain": [
       "97.72412185872354"
      ]
     },
     "metadata": {},
     "output_type": "display_data"
    }
   ],
   "source": [
    "display(np.var(total.query('tariff == \"ultra\"')['mb_used']))"
   ]
  },
  {
   "cell_type": "markdown",
   "metadata": {},
   "source": [
    "Дисперсия использованным Мб интернета пользователей тарифа \"Ультра\""
   ]
  },
  {
   "cell_type": "markdown",
   "metadata": {},
   "source": [
    "### Стандартное отклоение по звонкам, смскам и использованным Мб"
   ]
  },
  {
   "cell_type": "code",
   "execution_count": 26,
   "metadata": {},
   "outputs": [
    {
     "data": {
      "text/html": [
       "<div>\n",
       "<style scoped>\n",
       "    .dataframe tbody tr th:only-of-type {\n",
       "        vertical-align: middle;\n",
       "    }\n",
       "\n",
       "    .dataframe tbody tr th {\n",
       "        vertical-align: top;\n",
       "    }\n",
       "\n",
       "    .dataframe thead th {\n",
       "        text-align: right;\n",
       "    }\n",
       "</style>\n",
       "<table border=\"1\" class=\"dataframe\">\n",
       "  <thead>\n",
       "    <tr style=\"text-align: right;\">\n",
       "      <th></th>\n",
       "      <th>duration</th>\n",
       "      <th>id_y</th>\n",
       "      <th>mb_used</th>\n",
       "    </tr>\n",
       "  </thead>\n",
       "  <tbody>\n",
       "    <tr>\n",
       "      <td>count</td>\n",
       "      <td>2221.000000</td>\n",
       "      <td>2221.000000</td>\n",
       "      <td>2221.000000</td>\n",
       "    </tr>\n",
       "    <tr>\n",
       "      <td>mean</td>\n",
       "      <td>419.440342</td>\n",
       "      <td>33.392166</td>\n",
       "      <td>16.331382</td>\n",
       "    </tr>\n",
       "    <tr>\n",
       "      <td>std</td>\n",
       "      <td>188.992403</td>\n",
       "      <td>28.270233</td>\n",
       "      <td>5.752559</td>\n",
       "    </tr>\n",
       "    <tr>\n",
       "      <td>min</td>\n",
       "      <td>2.000000</td>\n",
       "      <td>0.000000</td>\n",
       "      <td>0.000000</td>\n",
       "    </tr>\n",
       "    <tr>\n",
       "      <td>25%</td>\n",
       "      <td>285.000000</td>\n",
       "      <td>10.000000</td>\n",
       "      <td>13.000000</td>\n",
       "    </tr>\n",
       "    <tr>\n",
       "      <td>50%</td>\n",
       "      <td>423.000000</td>\n",
       "      <td>28.000000</td>\n",
       "      <td>17.000000</td>\n",
       "    </tr>\n",
       "    <tr>\n",
       "      <td>75%</td>\n",
       "      <td>546.000000</td>\n",
       "      <td>51.000000</td>\n",
       "      <td>20.000000</td>\n",
       "    </tr>\n",
       "    <tr>\n",
       "      <td>max</td>\n",
       "      <td>1435.000000</td>\n",
       "      <td>143.000000</td>\n",
       "      <td>38.000000</td>\n",
       "    </tr>\n",
       "  </tbody>\n",
       "</table>\n",
       "</div>"
      ],
      "text/plain": [
       "          duration         id_y      mb_used\n",
       "count  2221.000000  2221.000000  2221.000000\n",
       "mean    419.440342    33.392166    16.331382\n",
       "std     188.992403    28.270233     5.752559\n",
       "min       2.000000     0.000000     0.000000\n",
       "25%     285.000000    10.000000    13.000000\n",
       "50%     423.000000    28.000000    17.000000\n",
       "75%     546.000000    51.000000    20.000000\n",
       "max    1435.000000   143.000000    38.000000"
      ]
     },
     "metadata": {},
     "output_type": "display_data"
    },
    {
     "data": {
      "text/html": [
       "<div>\n",
       "<style scoped>\n",
       "    .dataframe tbody tr th:only-of-type {\n",
       "        vertical-align: middle;\n",
       "    }\n",
       "\n",
       "    .dataframe tbody tr th {\n",
       "        vertical-align: top;\n",
       "    }\n",
       "\n",
       "    .dataframe thead th {\n",
       "        text-align: right;\n",
       "    }\n",
       "</style>\n",
       "<table border=\"1\" class=\"dataframe\">\n",
       "  <thead>\n",
       "    <tr style=\"text-align: right;\">\n",
       "      <th></th>\n",
       "      <th>duration</th>\n",
       "      <th>id_y</th>\n",
       "      <th>mb_used</th>\n",
       "    </tr>\n",
       "  </thead>\n",
       "  <tbody>\n",
       "    <tr>\n",
       "      <td>count</td>\n",
       "      <td>947.000000</td>\n",
       "      <td>947.000000</td>\n",
       "      <td>947.000000</td>\n",
       "    </tr>\n",
       "    <tr>\n",
       "      <td>mean</td>\n",
       "      <td>547.755016</td>\n",
       "      <td>48.759240</td>\n",
       "      <td>19.497360</td>\n",
       "    </tr>\n",
       "    <tr>\n",
       "      <td>std</td>\n",
       "      <td>305.513385</td>\n",
       "      <td>46.601785</td>\n",
       "      <td>9.890775</td>\n",
       "    </tr>\n",
       "    <tr>\n",
       "      <td>min</td>\n",
       "      <td>1.000000</td>\n",
       "      <td>0.000000</td>\n",
       "      <td>0.000000</td>\n",
       "    </tr>\n",
       "    <tr>\n",
       "      <td>25%</td>\n",
       "      <td>311.000000</td>\n",
       "      <td>5.000000</td>\n",
       "      <td>12.000000</td>\n",
       "    </tr>\n",
       "    <tr>\n",
       "      <td>50%</td>\n",
       "      <td>529.000000</td>\n",
       "      <td>39.000000</td>\n",
       "      <td>19.000000</td>\n",
       "    </tr>\n",
       "    <tr>\n",
       "      <td>75%</td>\n",
       "      <td>758.000000</td>\n",
       "      <td>78.500000</td>\n",
       "      <td>27.000000</td>\n",
       "    </tr>\n",
       "    <tr>\n",
       "      <td>max</td>\n",
       "      <td>1673.000000</td>\n",
       "      <td>224.000000</td>\n",
       "      <td>49.000000</td>\n",
       "    </tr>\n",
       "  </tbody>\n",
       "</table>\n",
       "</div>"
      ],
      "text/plain": [
       "          duration        id_y     mb_used\n",
       "count   947.000000  947.000000  947.000000\n",
       "mean    547.755016   48.759240   19.497360\n",
       "std     305.513385   46.601785    9.890775\n",
       "min       1.000000    0.000000    0.000000\n",
       "25%     311.000000    5.000000   12.000000\n",
       "50%     529.000000   39.000000   19.000000\n",
       "75%     758.000000   78.500000   27.000000\n",
       "max    1673.000000  224.000000   49.000000"
      ]
     },
     "metadata": {},
     "output_type": "display_data"
    }
   ],
   "source": [
    "display(total.query('tariff == \"smart\"')[['duration','id_y','mb_used']].describe())\n",
    "display(total.query('tariff == \"ultra\"')[['duration','id_y','mb_used']].describe())"
   ]
  },
  {
   "cell_type": "markdown",
   "metadata": {},
   "source": [
    "### Создание графиков и гистаграмм для звонков, смсок и использованных Мб"
   ]
  },
  {
   "cell_type": "code",
   "execution_count": 27,
   "metadata": {},
   "outputs": [
    {
     "data": {
      "image/png": "[encoded data removed]",
      "text/plain": [
       "<Figure size 432x288 with 1 Axes>"
      ]
     },
     "metadata": {
      "needs_background": "light"
     },
     "output_type": "display_data"
    },
    {
     "data": {
      "image/png": "[encoded data removed]",
      "text/plain": [
       "<Figure size 432x288 with 2 Axes>"
      ]
     },
     "metadata": {
      "needs_background": "light"
     },
     "output_type": "display_data"
    }
   ],
   "source": [
    "total.query('tariff == \"smart\"')['duration'].hist(bins=50)\n",
    "total.query('tariff == \"ultra\"')['duration'].hist(bins=50)\n",
    "plt.title('duration')\n",
    "plt.ylabel('Count,pc')\n",
    "plt.show()\n",
    "total.groupby('tariff').boxplot(column=['duration'])\n",
    "plt.show()"
   ]
  },
  {
   "cell_type": "code",
   "execution_count": 28,
   "metadata": {},
   "outputs": [
    {
     "data": {
      "image/png": "[encoded data removed]",
      "text/plain": [
       "<Figure size 432x288 with 1 Axes>"
      ]
     },
     "metadata": {
      "needs_background": "light"
     },
     "output_type": "display_data"
    },
    {
     "data": {
      "image/png": "[encoded data removed]",
      "text/plain": [
       "<Figure size 432x288 with 2 Axes>"
      ]
     },
     "metadata": {
      "needs_background": "light"
     },
     "output_type": "display_data"
    }
   ],
   "source": [
    "total.query('tariff == \"smart\"')['id_y'].hist(bins=50)\n",
    "total.query('tariff == \"ultra\"')['id_y'].hist(bins=50)\n",
    "plt.title('message')\n",
    "plt.ylabel('Count,pc')\n",
    "plt.show()\n",
    "total.groupby('tariff').boxplot(column=['id_y'])\n",
    "plt.show()"
   ]
  },
  {
   "cell_type": "code",
   "execution_count": 29,
   "metadata": {},
   "outputs": [
    {
     "data": {
      "image/png": "[encoded data removed]",
      "text/plain": [
       "<Figure size 432x288 with 1 Axes>"
      ]
     },
     "metadata": {
      "needs_background": "light"
     },
     "output_type": "display_data"
    },
    {
     "data": {
      "image/png": "[encoded data removed]",
      "text/plain": [
       "<Figure size 432x288 with 2 Axes>"
      ]
     },
     "metadata": {
      "needs_background": "light"
     },
     "output_type": "display_data"
    }
   ],
   "source": [
    "total.query('tariff == \"smart\"')['mb_used'].hist(bins=50)\n",
    "total.query('tariff == \"ultra\"')['mb_used'].hist(bins=50)\n",
    "plt.title('mb_used')\n",
    "plt.ylabel('Count,pc')\n",
    "plt.show()\n",
    "total.groupby('tariff').boxplot(column=['mb_used'])\n",
    "plt.show()"
   ]
  },
  {
   "cell_type": "markdown",
   "metadata": {},
   "source": [
    "## Проверка гипотиз"
   ]
  },
  {
   "cell_type": "code",
   "execution_count": 30,
   "metadata": {},
   "outputs": [],
   "source": [
    "# sum_price_smart = total.query('tariff==\"smart\"')['price']\n",
    "# sum_price_ultra = total.query('tariff==\"ultra\"')['price']"
   ]
  },
  {
   "cell_type": "code",
   "execution_count": 40,
   "metadata": {},
   "outputs": [
    {
     "name": "stdout",
     "output_type": "stream",
     "text": [
      "p-значение:  8.145017201938894e-155\n",
      "Отвергаем нулевую гипотезу\n"
     ]
    }
   ],
   "source": [
    "alpha = 0.05\n",
    "\n",
    "results = st.ttest_ind(total.query('tariff==\"smart\"')['price'],total.query('tariff==\"ultra\"')['price']) \n",
    "\n",
    "print('p-значение: ', results.pvalue)\n",
    "\n",
    "if results.pvalue < alpha :\n",
    "    print(\"Отвергаем нулевую гипотезу\")\n",
    "else:\n",
    "    print(\"Не получилось отвергнуть нулевую гипотезу\")"
   ]
  },
  {
   "cell_type": "markdown",
   "metadata": {},
   "source": [
    "Нулевая гипотиза гласит, что выручка по тарифам одинаковая, а альтернативная - что разная"
   ]
  },
  {
   "cell_type": "markdown",
   "metadata": {},
   "source": [
    "Исходя из теста, можно сделать вывод, что выручка по тарифам разная."
   ]
  },
  {
   "cell_type": "code",
   "execution_count": 41,
   "metadata": {},
   "outputs": [
    {
     "name": "stdout",
     "output_type": "stream",
     "text": [
      "p-значение:  0.3614429579087247\n",
      "Не получилось отвергнуть нулевую гипотезу\n"
     ]
    }
   ],
   "source": [
    "alpha = 0.05\n",
    "\n",
    "results = st.ttest_ind(total.query('city==\"Москва\"')['price'],total.query('city !=\"Москва\"')['price']) \n",
    "\n",
    "print('p-значение: ', results.pvalue)\n",
    "\n",
    "if results.pvalue < alpha :\n",
    "    print(\"Отвергаем нулевую гипотезу\")\n",
    "else:\n",
    "    print(\"Не получилось отвергнуть нулевую гипотезу\")\n"
   ]
  },
  {
   "cell_type": "markdown",
   "metadata": {},
   "source": [
    "Нулевая гипотиза гласит, что выручка по товарам для пользователей из Москвы равна  выручке пользователей из других регионов"
   ]
  },
  {
   "cell_type": "markdown",
   "metadata": {},
   "source": [
    "По результатам исследования, выручка не отличается"
   ]
  },
  {
   "cell_type": "markdown",
   "metadata": {},
   "source": [
    "## Общий вывод"
   ]
  },
  {
   "cell_type": "markdown",
   "metadata": {},
   "source": [
    "На входе я плучил 5 датасетов с данными о разговорах, смсках,трафика интернета, пользователей и тарифах.\n",
    "Как видно из первом приближении не все пользователи одновременно использовали и интернет, и смс, и звонки.\n",
    "Первое, что сделал это перевел все типы данных к более удобным, для оптимизации работы с ними.\n",
    "Далее удалил нулевые значение из таблиц calls и internet т.к. они влияют на среднее значение, но не расчёт остатка по тарифу.\n",
    "Создал таблицы, в которых присоединил таблицы calls,internet,message к таблице tariff для расчёта остатка по тарифу.\n",
    "Следом, с помощью функции расчитал выручку по каждому пользователю за месяц.\n",
    "Привел графики для сравнительного анализа. Далее, провел проверку гипотиз.\n",
    "Исходя из полученных данных при проверке гипотез можно сделать вывод, что средняя выручка между тарифами отличается. Но средняя выручка жителей Москвы и остальных регионов не отличается.\n"
   ]
  }
 ],
 "metadata": {
  "ExecuteTimeLog": [
   {
    "duration": 964,
    "start_time": "2021-09-03T18:49:03.509Z"
   },
   {
    "duration": 213,
    "start_time": "2021-09-03T18:49:32.620Z"
   },
   {
    "duration": 1048,
    "start_time": "2021-09-03T18:53:24.588Z"
   },
   {
    "duration": 568,
    "start_time": "2021-09-03T18:53:58.360Z"
   },
   {
    "duration": 630,
    "start_time": "2021-09-03T19:10:04.084Z"
   },
   {
    "duration": 14,
    "start_time": "2021-09-03T19:11:07.272Z"
   },
   {
    "duration": 435,
    "start_time": "2021-09-03T19:11:25.106Z"
   },
   {
    "duration": 374,
    "start_time": "2021-09-03T19:11:29.910Z"
   },
   {
    "duration": 350,
    "start_time": "2021-09-03T19:11:36.021Z"
   },
   {
    "duration": 26,
    "start_time": "2021-09-03T19:13:04.701Z"
   },
   {
    "duration": 606,
    "start_time": "2021-09-03T19:16:19.677Z"
   },
   {
    "duration": 403,
    "start_time": "2021-09-03T19:16:21.309Z"
   },
   {
    "duration": 92,
    "start_time": "2021-09-03T19:16:29.378Z"
   },
   {
    "duration": 835,
    "start_time": "2021-09-03T19:17:44.743Z"
   },
   {
    "duration": 406,
    "start_time": "2021-09-03T19:18:36.685Z"
   },
   {
    "duration": 2530,
    "start_time": "2021-09-03T19:18:53.137Z"
   },
   {
    "duration": 218,
    "start_time": "2021-09-03T19:18:55.670Z"
   },
   {
    "duration": 460,
    "start_time": "2021-09-03T19:18:55.892Z"
   },
   {
    "duration": 974,
    "start_time": "2021-09-04T09:20:47.730Z"
   },
   {
    "duration": 126,
    "start_time": "2021-09-04T09:20:48.705Z"
   },
   {
    "duration": 227,
    "start_time": "2021-09-04T09:20:48.835Z"
   },
   {
    "duration": 17,
    "start_time": "2021-09-04T09:20:55.980Z"
   },
   {
    "duration": 177,
    "start_time": "2021-09-04T09:21:29.239Z"
   },
   {
    "duration": 89,
    "start_time": "2021-09-04T09:21:36.840Z"
   },
   {
    "duration": 261,
    "start_time": "2021-09-04T09:23:53.603Z"
   },
   {
    "duration": 274,
    "start_time": "2021-09-04T09:24:05.125Z"
   },
   {
    "duration": 425,
    "start_time": "2021-09-04T09:24:25.493Z"
   },
   {
    "duration": 944,
    "start_time": "2021-09-07T16:41:18.021Z"
   },
   {
    "duration": 46,
    "start_time": "2021-09-07T16:41:18.967Z"
   },
   {
    "duration": 229,
    "start_time": "2021-09-07T16:41:19.015Z"
   },
   {
    "duration": 32,
    "start_time": "2021-09-07T16:43:03.918Z"
   },
   {
    "duration": 40,
    "start_time": "2021-09-07T16:43:23.287Z"
   },
   {
    "duration": 876,
    "start_time": "2021-09-07T16:44:12.313Z"
   },
   {
    "duration": 39,
    "start_time": "2021-09-07T16:44:13.191Z"
   },
   {
    "duration": 31,
    "start_time": "2021-09-07T16:44:13.232Z"
   },
   {
    "duration": 41,
    "start_time": "2021-09-07T16:44:13.264Z"
   },
   {
    "duration": 15,
    "start_time": "2021-09-07T16:44:13.306Z"
   },
   {
    "duration": 20,
    "start_time": "2021-09-07T16:44:13.322Z"
   },
   {
    "duration": 316,
    "start_time": "2021-09-07T16:44:13.343Z"
   },
   {
    "duration": 39,
    "start_time": "2021-09-07T16:44:44.516Z"
   },
   {
    "duration": 892,
    "start_time": "2021-09-07T16:45:13.304Z"
   },
   {
    "duration": 43,
    "start_time": "2021-09-07T16:45:14.197Z"
   },
   {
    "duration": 44,
    "start_time": "2021-09-07T16:45:14.241Z"
   },
   {
    "duration": 26,
    "start_time": "2021-09-07T16:45:14.287Z"
   },
   {
    "duration": 18,
    "start_time": "2021-09-07T16:45:14.315Z"
   },
   {
    "duration": 59,
    "start_time": "2021-09-07T16:45:14.334Z"
   },
   {
    "duration": 234,
    "start_time": "2021-09-07T16:45:14.394Z"
   },
   {
    "duration": 27,
    "start_time": "2021-09-07T16:46:45.329Z"
   },
   {
    "duration": 30,
    "start_time": "2021-09-07T16:47:18.718Z"
   },
   {
    "duration": 26,
    "start_time": "2021-09-07T16:47:26.034Z"
   },
   {
    "duration": 1146,
    "start_time": "2021-09-08T14:13:42.784Z"
   },
   {
    "duration": 58,
    "start_time": "2021-09-08T14:13:43.933Z"
   },
   {
    "duration": 52,
    "start_time": "2021-09-08T14:13:43.994Z"
   },
   {
    "duration": 48,
    "start_time": "2021-09-08T14:13:44.048Z"
   },
   {
    "duration": 30,
    "start_time": "2021-09-08T14:13:44.098Z"
   },
   {
    "duration": 54,
    "start_time": "2021-09-08T14:13:44.130Z"
   },
   {
    "duration": 35,
    "start_time": "2021-09-08T14:13:44.186Z"
   },
   {
    "duration": 5,
    "start_time": "2021-09-08T14:13:44.223Z"
   },
   {
    "duration": 6,
    "start_time": "2021-09-08T14:14:32.881Z"
   },
   {
    "duration": 26,
    "start_time": "2021-09-08T14:14:42.686Z"
   },
   {
    "duration": 90,
    "start_time": "2021-09-08T14:17:10.336Z"
   },
   {
    "duration": 39,
    "start_time": "2021-09-08T14:17:20.441Z"
   },
   {
    "duration": 17,
    "start_time": "2021-09-08T14:17:22.857Z"
   },
   {
    "duration": 22,
    "start_time": "2021-09-08T14:18:43.458Z"
   },
   {
    "duration": 34,
    "start_time": "2021-09-08T14:18:58.472Z"
   },
   {
    "duration": 45,
    "start_time": "2021-09-08T14:19:50.867Z"
   },
   {
    "duration": 30,
    "start_time": "2021-09-08T14:20:24.699Z"
   },
   {
    "duration": 30,
    "start_time": "2021-09-08T14:20:49.401Z"
   },
   {
    "duration": 39,
    "start_time": "2021-09-08T14:20:50.076Z"
   },
   {
    "duration": 15,
    "start_time": "2021-09-08T14:21:13.821Z"
   },
   {
    "duration": 20,
    "start_time": "2021-09-08T14:22:38.734Z"
   },
   {
    "duration": 15,
    "start_time": "2021-09-08T14:22:46.022Z"
   },
   {
    "duration": 24,
    "start_time": "2021-09-08T14:23:11.843Z"
   },
   {
    "duration": 20,
    "start_time": "2021-09-08T14:24:13.998Z"
   },
   {
    "duration": 12,
    "start_time": "2021-09-08T14:24:20.479Z"
   },
   {
    "duration": 25,
    "start_time": "2021-09-08T14:27:07.089Z"
   },
   {
    "duration": 1113,
    "start_time": "2021-09-08T14:27:15.813Z"
   },
   {
    "duration": 60,
    "start_time": "2021-09-08T14:27:16.929Z"
   },
   {
    "duration": 55,
    "start_time": "2021-09-08T14:27:16.992Z"
   },
   {
    "duration": 71,
    "start_time": "2021-09-08T14:27:17.051Z"
   },
   {
    "duration": 69,
    "start_time": "2021-09-08T14:27:17.125Z"
   },
   {
    "duration": 45,
    "start_time": "2021-09-08T14:27:17.197Z"
   },
   {
    "duration": 96,
    "start_time": "2021-09-08T14:27:17.244Z"
   },
   {
    "duration": 66,
    "start_time": "2021-09-08T14:27:17.345Z"
   },
   {
    "duration": 34,
    "start_time": "2021-09-08T14:27:17.414Z"
   },
   {
    "duration": 33,
    "start_time": "2021-09-08T14:27:17.450Z"
   },
   {
    "duration": 21,
    "start_time": "2021-09-08T14:27:17.485Z"
   },
   {
    "duration": 19,
    "start_time": "2021-09-08T14:27:31.738Z"
   },
   {
    "duration": 341,
    "start_time": "2021-09-08T14:48:16.026Z"
   },
   {
    "duration": 54,
    "start_time": "2021-09-08T14:48:32.699Z"
   },
   {
    "duration": 113,
    "start_time": "2021-09-08T14:48:49.172Z"
   },
   {
    "duration": 50,
    "start_time": "2021-09-08T14:49:06.404Z"
   },
   {
    "duration": 55,
    "start_time": "2021-09-08T14:49:06.595Z"
   },
   {
    "duration": 17,
    "start_time": "2021-09-08T14:49:06.844Z"
   },
   {
    "duration": 20,
    "start_time": "2021-09-08T14:49:07.148Z"
   },
   {
    "duration": 51,
    "start_time": "2021-09-08T14:49:49.397Z"
   },
   {
    "duration": 64,
    "start_time": "2021-09-08T14:49:50.001Z"
   },
   {
    "duration": 22,
    "start_time": "2021-09-08T14:49:50.573Z"
   },
   {
    "duration": 26,
    "start_time": "2021-09-08T14:49:51.110Z"
   },
   {
    "duration": 68,
    "start_time": "2021-09-08T14:56:10.434Z"
   },
   {
    "duration": 69,
    "start_time": "2021-09-08T14:56:27.538Z"
   },
   {
    "duration": 271,
    "start_time": "2021-09-08T14:56:56.386Z"
   },
   {
    "duration": 50,
    "start_time": "2021-09-08T14:57:34.435Z"
   },
   {
    "duration": 950,
    "start_time": "2021-09-08T14:57:58.291Z"
   },
   {
    "duration": 64,
    "start_time": "2021-09-08T14:58:05.142Z"
   },
   {
    "duration": 1244,
    "start_time": "2021-09-11T14:53:18.777Z"
   },
   {
    "duration": 67,
    "start_time": "2021-09-11T14:53:20.024Z"
   },
   {
    "duration": 86,
    "start_time": "2021-09-11T14:53:20.095Z"
   },
   {
    "duration": 72,
    "start_time": "2021-09-11T14:53:20.185Z"
   },
   {
    "duration": 32,
    "start_time": "2021-09-11T14:53:20.259Z"
   },
   {
    "duration": 77,
    "start_time": "2021-09-11T14:53:20.293Z"
   },
   {
    "duration": 86,
    "start_time": "2021-09-11T14:53:20.373Z"
   },
   {
    "duration": 49,
    "start_time": "2021-09-11T14:53:20.464Z"
   },
   {
    "duration": 59,
    "start_time": "2021-09-11T14:53:20.517Z"
   },
   {
    "duration": 16,
    "start_time": "2021-09-11T14:53:20.579Z"
   },
   {
    "duration": 20,
    "start_time": "2021-09-11T14:53:20.597Z"
   },
   {
    "duration": 103,
    "start_time": "2021-09-11T14:53:20.620Z"
   },
   {
    "duration": 70,
    "start_time": "2021-09-11T14:53:20.726Z"
   },
   {
    "duration": 24,
    "start_time": "2021-09-11T14:53:20.798Z"
   },
   {
    "duration": 46,
    "start_time": "2021-09-11T14:53:20.824Z"
   },
   {
    "duration": 98,
    "start_time": "2021-09-11T14:53:20.873Z"
   },
   {
    "duration": 513,
    "start_time": "2021-09-11T14:53:25.959Z"
   },
   {
    "duration": 292,
    "start_time": "2021-09-11T14:53:58.570Z"
   },
   {
    "duration": 29,
    "start_time": "2021-09-11T14:54:40.917Z"
   },
   {
    "duration": 18,
    "start_time": "2021-09-11T14:56:25.185Z"
   },
   {
    "duration": 8,
    "start_time": "2021-09-11T14:56:41.343Z"
   },
   {
    "duration": 15,
    "start_time": "2021-09-11T14:56:58.069Z"
   },
   {
    "duration": 24,
    "start_time": "2021-09-11T14:57:03.815Z"
   },
   {
    "duration": 26,
    "start_time": "2021-09-11T14:57:23.046Z"
   },
   {
    "duration": 1346,
    "start_time": "2021-09-11T14:58:58.413Z"
   },
   {
    "duration": 66,
    "start_time": "2021-09-11T14:58:59.762Z"
   },
   {
    "duration": 77,
    "start_time": "2021-09-11T14:58:59.831Z"
   },
   {
    "duration": 72,
    "start_time": "2021-09-11T14:58:59.911Z"
   },
   {
    "duration": 34,
    "start_time": "2021-09-11T14:58:59.986Z"
   },
   {
    "duration": 50,
    "start_time": "2021-09-11T14:59:00.054Z"
   },
   {
    "duration": 95,
    "start_time": "2021-09-11T14:59:00.106Z"
   },
   {
    "duration": 64,
    "start_time": "2021-09-11T14:59:00.204Z"
   },
   {
    "duration": 38,
    "start_time": "2021-09-11T14:59:00.271Z"
   },
   {
    "duration": 18,
    "start_time": "2021-09-11T14:59:00.311Z"
   },
   {
    "duration": 15,
    "start_time": "2021-09-11T14:59:00.355Z"
   },
   {
    "duration": 89,
    "start_time": "2021-09-11T14:59:00.372Z"
   },
   {
    "duration": 62,
    "start_time": "2021-09-11T14:59:00.464Z"
   },
   {
    "duration": 41,
    "start_time": "2021-09-11T14:59:00.529Z"
   },
   {
    "duration": 56,
    "start_time": "2021-09-11T14:59:00.573Z"
   },
   {
    "duration": 39,
    "start_time": "2021-09-11T14:59:00.631Z"
   },
   {
    "duration": 33,
    "start_time": "2021-09-11T15:00:24.339Z"
   },
   {
    "duration": 427,
    "start_time": "2021-09-11T15:00:42.499Z"
   },
   {
    "duration": 288,
    "start_time": "2021-09-11T15:00:52.395Z"
   },
   {
    "duration": 317,
    "start_time": "2021-09-11T15:01:01.269Z"
   },
   {
    "duration": 98,
    "start_time": "2021-09-11T15:01:12.911Z"
   },
   {
    "duration": 33,
    "start_time": "2021-09-11T15:01:23.431Z"
   },
   {
    "duration": 27,
    "start_time": "2021-09-11T15:02:42.833Z"
   },
   {
    "duration": 27,
    "start_time": "2021-09-11T15:02:47.897Z"
   },
   {
    "duration": 35,
    "start_time": "2021-09-11T15:03:55.666Z"
   },
   {
    "duration": 356,
    "start_time": "2021-09-11T15:04:06.753Z"
   },
   {
    "duration": 284,
    "start_time": "2021-09-11T15:04:20.074Z"
   },
   {
    "duration": 297,
    "start_time": "2021-09-11T15:04:27.353Z"
   },
   {
    "duration": 70,
    "start_time": "2021-09-11T15:04:33.642Z"
   },
   {
    "duration": 59,
    "start_time": "2021-09-11T15:04:46.224Z"
   },
   {
    "duration": 65,
    "start_time": "2021-09-11T15:08:48.041Z"
   },
   {
    "duration": 57,
    "start_time": "2021-09-11T15:08:58.139Z"
   },
   {
    "duration": 45,
    "start_time": "2021-09-11T15:10:01.252Z"
   },
   {
    "duration": 43,
    "start_time": "2021-09-11T15:10:11.147Z"
   },
   {
    "duration": 25,
    "start_time": "2021-09-11T15:10:23.991Z"
   },
   {
    "duration": 44,
    "start_time": "2021-09-11T15:10:28.276Z"
   },
   {
    "duration": 1298,
    "start_time": "2021-09-11T15:10:40.736Z"
   },
   {
    "duration": 112,
    "start_time": "2021-09-11T15:10:51.540Z"
   },
   {
    "duration": 51,
    "start_time": "2021-09-11T15:11:08.057Z"
   },
   {
    "duration": 75,
    "start_time": "2021-09-11T15:11:12.745Z"
   },
   {
    "duration": 43,
    "start_time": "2021-09-11T15:11:24.024Z"
   },
   {
    "duration": 1271,
    "start_time": "2021-09-11T15:11:55.233Z"
   },
   {
    "duration": 62,
    "start_time": "2021-09-11T15:11:56.507Z"
   },
   {
    "duration": 53,
    "start_time": "2021-09-11T15:11:56.572Z"
   },
   {
    "duration": 42,
    "start_time": "2021-09-11T15:11:56.654Z"
   },
   {
    "duration": 62,
    "start_time": "2021-09-11T15:11:56.698Z"
   },
   {
    "duration": 50,
    "start_time": "2021-09-11T15:11:56.762Z"
   },
   {
    "duration": 103,
    "start_time": "2021-09-11T15:11:56.815Z"
   },
   {
    "duration": 73,
    "start_time": "2021-09-11T15:11:56.924Z"
   },
   {
    "duration": 37,
    "start_time": "2021-09-11T15:11:57.000Z"
   },
   {
    "duration": 30,
    "start_time": "2021-09-11T15:11:57.040Z"
   },
   {
    "duration": 36,
    "start_time": "2021-09-11T15:11:57.073Z"
   },
   {
    "duration": 78,
    "start_time": "2021-09-11T15:11:57.112Z"
   },
   {
    "duration": 42,
    "start_time": "2021-09-11T15:11:57.193Z"
   },
   {
    "duration": 37,
    "start_time": "2021-09-11T15:11:57.238Z"
   },
   {
    "duration": 27,
    "start_time": "2021-09-11T15:11:57.278Z"
   },
   {
    "duration": 99,
    "start_time": "2021-09-11T15:11:57.307Z"
   },
   {
    "duration": 72,
    "start_time": "2021-09-11T15:12:29.493Z"
   },
   {
    "duration": 480,
    "start_time": "2021-09-11T15:15:14.566Z"
   },
   {
    "duration": 507,
    "start_time": "2021-09-11T15:15:55.886Z"
   },
   {
    "duration": 365,
    "start_time": "2021-09-11T15:16:02.502Z"
   },
   {
    "duration": 84,
    "start_time": "2021-09-11T15:16:56.893Z"
   },
   {
    "duration": 21,
    "start_time": "2021-09-11T15:17:04.389Z"
   },
   {
    "duration": 17,
    "start_time": "2021-09-11T15:17:15.035Z"
   },
   {
    "duration": 1298,
    "start_time": "2021-09-11T15:17:20.031Z"
   },
   {
    "duration": 67,
    "start_time": "2021-09-11T15:17:21.335Z"
   },
   {
    "duration": 74,
    "start_time": "2021-09-11T15:17:21.405Z"
   },
   {
    "duration": 41,
    "start_time": "2021-09-11T15:17:21.482Z"
   },
   {
    "duration": 31,
    "start_time": "2021-09-11T15:17:21.554Z"
   },
   {
    "duration": 76,
    "start_time": "2021-09-11T15:17:21.587Z"
   },
   {
    "duration": 60,
    "start_time": "2021-09-11T15:17:21.666Z"
   },
   {
    "duration": 70,
    "start_time": "2021-09-11T15:17:21.729Z"
   },
   {
    "duration": 54,
    "start_time": "2021-09-11T15:17:21.802Z"
   },
   {
    "duration": 18,
    "start_time": "2021-09-11T15:17:21.858Z"
   },
   {
    "duration": 42,
    "start_time": "2021-09-11T15:17:21.878Z"
   },
   {
    "duration": 80,
    "start_time": "2021-09-11T15:17:21.923Z"
   },
   {
    "duration": 50,
    "start_time": "2021-09-11T15:17:22.006Z"
   },
   {
    "duration": 23,
    "start_time": "2021-09-11T15:17:22.059Z"
   },
   {
    "duration": 29,
    "start_time": "2021-09-11T15:17:22.085Z"
   },
   {
    "duration": 105,
    "start_time": "2021-09-11T15:17:22.117Z"
   },
   {
    "duration": 17,
    "start_time": "2021-09-11T15:17:22.224Z"
   },
   {
    "duration": 113,
    "start_time": "2021-09-11T15:17:22.255Z"
   },
   {
    "duration": 16,
    "start_time": "2021-09-11T15:17:22.370Z"
   },
   {
    "duration": 75,
    "start_time": "2021-09-11T15:18:15.868Z"
   },
   {
    "duration": 17,
    "start_time": "2021-09-11T15:18:23.623Z"
   },
   {
    "duration": 17,
    "start_time": "2021-09-11T15:24:37.286Z"
   },
   {
    "duration": 368,
    "start_time": "2021-09-11T15:27:08.865Z"
   },
   {
    "duration": 33,
    "start_time": "2021-09-11T15:30:59.650Z"
   },
   {
    "duration": 16,
    "start_time": "2021-09-11T15:31:07.065Z"
   },
   {
    "duration": 316,
    "start_time": "2021-09-11T15:32:55.304Z"
   },
   {
    "duration": 52,
    "start_time": "2021-09-11T15:33:11.670Z"
   },
   {
    "duration": 16,
    "start_time": "2021-09-11T15:34:19.339Z"
   },
   {
    "duration": 17,
    "start_time": "2021-09-11T15:35:12.024Z"
   },
   {
    "duration": 16,
    "start_time": "2021-09-11T15:35:15.393Z"
   },
   {
    "duration": 1252,
    "start_time": "2021-09-11T15:35:22.730Z"
   },
   {
    "duration": 66,
    "start_time": "2021-09-11T15:35:23.984Z"
   },
   {
    "duration": 54,
    "start_time": "2021-09-11T15:35:24.055Z"
   },
   {
    "duration": 74,
    "start_time": "2021-09-11T15:35:24.112Z"
   },
   {
    "duration": 18,
    "start_time": "2021-09-11T15:35:24.189Z"
   },
   {
    "duration": 79,
    "start_time": "2021-09-11T15:35:24.210Z"
   },
   {
    "duration": 83,
    "start_time": "2021-09-11T15:35:24.292Z"
   },
   {
    "duration": 47,
    "start_time": "2021-09-11T15:35:24.377Z"
   },
   {
    "duration": 61,
    "start_time": "2021-09-11T15:35:24.427Z"
   },
   {
    "duration": 16,
    "start_time": "2021-09-11T15:35:24.491Z"
   },
   {
    "duration": 42,
    "start_time": "2021-09-11T15:35:24.509Z"
   },
   {
    "duration": 73,
    "start_time": "2021-09-11T15:35:24.553Z"
   },
   {
    "duration": 43,
    "start_time": "2021-09-11T15:35:24.629Z"
   },
   {
    "duration": 24,
    "start_time": "2021-09-11T15:35:24.674Z"
   },
   {
    "duration": 27,
    "start_time": "2021-09-11T15:35:24.700Z"
   },
   {
    "duration": 65,
    "start_time": "2021-09-11T15:35:24.755Z"
   },
   {
    "duration": 88,
    "start_time": "2021-09-11T15:35:24.822Z"
   },
   {
    "duration": 114,
    "start_time": "2021-09-11T15:35:24.913Z"
   },
   {
    "duration": 44,
    "start_time": "2021-09-11T15:35:25.030Z"
   },
   {
    "duration": 48,
    "start_time": "2021-09-11T15:35:25.077Z"
   },
   {
    "duration": 17,
    "start_time": "2021-09-11T15:35:30.788Z"
   },
   {
    "duration": 34,
    "start_time": "2021-09-11T15:39:33.564Z"
   },
   {
    "duration": 44,
    "start_time": "2021-09-11T15:41:12.585Z"
   },
   {
    "duration": 416,
    "start_time": "2021-09-11T15:43:14.584Z"
   },
   {
    "duration": 336,
    "start_time": "2021-09-11T15:43:31.262Z"
   },
   {
    "duration": 448,
    "start_time": "2021-09-11T16:52:29.222Z"
   },
   {
    "duration": 1237,
    "start_time": "2021-09-11T16:52:46.291Z"
   },
   {
    "duration": 63,
    "start_time": "2021-09-11T16:52:47.531Z"
   },
   {
    "duration": 75,
    "start_time": "2021-09-11T16:52:47.597Z"
   },
   {
    "duration": 42,
    "start_time": "2021-09-11T16:52:47.674Z"
   },
   {
    "duration": 44,
    "start_time": "2021-09-11T16:52:47.718Z"
   },
   {
    "duration": 54,
    "start_time": "2021-09-11T16:52:47.764Z"
   },
   {
    "duration": 89,
    "start_time": "2021-09-11T16:52:47.822Z"
   },
   {
    "duration": 64,
    "start_time": "2021-09-11T16:52:47.914Z"
   },
   {
    "duration": 39,
    "start_time": "2021-09-11T16:52:47.981Z"
   },
   {
    "duration": 35,
    "start_time": "2021-09-11T16:52:48.022Z"
   },
   {
    "duration": 27,
    "start_time": "2021-09-11T16:52:48.059Z"
   },
   {
    "duration": 77,
    "start_time": "2021-09-11T16:52:48.088Z"
   },
   {
    "duration": 44,
    "start_time": "2021-09-11T16:52:48.167Z"
   },
   {
    "duration": 42,
    "start_time": "2021-09-11T16:52:48.214Z"
   },
   {
    "duration": 28,
    "start_time": "2021-09-11T16:52:48.258Z"
   },
   {
    "duration": 92,
    "start_time": "2021-09-11T16:52:48.289Z"
   },
   {
    "duration": 204,
    "start_time": "2021-09-11T16:52:48.384Z"
   },
   {
    "duration": 50,
    "start_time": "2021-09-11T16:52:48.591Z"
   },
   {
    "duration": 58,
    "start_time": "2021-09-11T16:52:48.655Z"
   },
   {
    "duration": 411,
    "start_time": "2021-09-11T16:56:41.006Z"
   },
   {
    "duration": 351,
    "start_time": "2021-09-11T16:56:58.501Z"
   },
   {
    "duration": 7498,
    "start_time": "2021-09-11T16:57:13.515Z"
   },
   {
    "duration": 53,
    "start_time": "2021-09-11T16:57:43.437Z"
   },
   {
    "duration": 304,
    "start_time": "2021-09-11T16:58:18.031Z"
   },
   {
    "duration": 80,
    "start_time": "2021-09-11T17:00:14.503Z"
   },
   {
    "duration": 1697,
    "start_time": "2021-09-11T17:02:15.858Z"
   },
   {
    "duration": 59,
    "start_time": "2021-09-11T17:04:01.918Z"
   },
   {
    "duration": 54,
    "start_time": "2021-09-11T17:06:22.957Z"
   },
   {
    "duration": 58,
    "start_time": "2021-09-11T17:08:29.654Z"
   },
   {
    "duration": 473,
    "start_time": "2021-09-11T17:10:28.887Z"
   },
   {
    "duration": 425,
    "start_time": "2021-09-11T17:10:41.136Z"
   },
   {
    "duration": 1262,
    "start_time": "2021-09-11T17:11:22.336Z"
   },
   {
    "duration": 64,
    "start_time": "2021-09-11T17:11:23.601Z"
   },
   {
    "duration": 52,
    "start_time": "2021-09-11T17:11:23.668Z"
   },
   {
    "duration": 70,
    "start_time": "2021-09-11T17:11:23.723Z"
   },
   {
    "duration": 16,
    "start_time": "2021-09-11T17:11:23.796Z"
   },
   {
    "duration": 85,
    "start_time": "2021-09-11T17:11:23.815Z"
   },
   {
    "duration": 88,
    "start_time": "2021-09-11T17:11:23.902Z"
   },
   {
    "duration": 61,
    "start_time": "2021-09-11T17:11:23.993Z"
   },
   {
    "duration": 37,
    "start_time": "2021-09-11T17:11:24.057Z"
   },
   {
    "duration": 17,
    "start_time": "2021-09-11T17:11:24.097Z"
   },
   {
    "duration": 45,
    "start_time": "2021-09-11T17:11:24.116Z"
   },
   {
    "duration": 89,
    "start_time": "2021-09-11T17:11:24.164Z"
   },
   {
    "duration": 44,
    "start_time": "2021-09-11T17:11:24.255Z"
   },
   {
    "duration": 24,
    "start_time": "2021-09-11T17:11:24.302Z"
   },
   {
    "duration": 47,
    "start_time": "2021-09-11T17:11:24.328Z"
   },
   {
    "duration": 81,
    "start_time": "2021-09-11T17:11:24.378Z"
   },
   {
    "duration": 275,
    "start_time": "2021-09-11T17:11:24.462Z"
   },
   {
    "duration": 55,
    "start_time": "2021-09-11T17:11:24.740Z"
   },
   {
    "duration": 82,
    "start_time": "2021-09-11T17:11:24.798Z"
   },
   {
    "duration": 6,
    "start_time": "2021-09-11T17:11:24.883Z"
   },
   {
    "duration": 107,
    "start_time": "2021-09-11T17:13:40.897Z"
   },
   {
    "duration": 94,
    "start_time": "2021-09-11T17:13:48.361Z"
   },
   {
    "duration": 52,
    "start_time": "2021-09-11T17:13:53.520Z"
   },
   {
    "duration": 56,
    "start_time": "2021-09-11T17:14:30.203Z"
   },
   {
    "duration": 56,
    "start_time": "2021-09-11T17:14:32.786Z"
   },
   {
    "duration": 674,
    "start_time": "2021-09-11T17:15:31.274Z"
   },
   {
    "duration": 1249,
    "start_time": "2021-09-11T17:15:37.445Z"
   },
   {
    "duration": 64,
    "start_time": "2021-09-11T17:15:38.698Z"
   },
   {
    "duration": 53,
    "start_time": "2021-09-11T17:15:38.765Z"
   },
   {
    "duration": 63,
    "start_time": "2021-09-11T17:15:38.821Z"
   },
   {
    "duration": 15,
    "start_time": "2021-09-11T17:15:38.888Z"
   },
   {
    "duration": 77,
    "start_time": "2021-09-11T17:15:38.906Z"
   },
   {
    "duration": 83,
    "start_time": "2021-09-11T17:15:38.985Z"
   },
   {
    "duration": 46,
    "start_time": "2021-09-11T17:15:39.072Z"
   },
   {
    "duration": 66,
    "start_time": "2021-09-11T17:15:39.121Z"
   },
   {
    "duration": 22,
    "start_time": "2021-09-11T17:15:39.191Z"
   },
   {
    "duration": 39,
    "start_time": "2021-09-11T17:15:39.216Z"
   },
   {
    "duration": 70,
    "start_time": "2021-09-11T17:15:39.258Z"
   },
   {
    "duration": 50,
    "start_time": "2021-09-11T17:15:39.330Z"
   },
   {
    "duration": 25,
    "start_time": "2021-09-11T17:15:39.382Z"
   },
   {
    "duration": 47,
    "start_time": "2021-09-11T17:15:39.410Z"
   },
   {
    "duration": 82,
    "start_time": "2021-09-11T17:15:39.460Z"
   },
   {
    "duration": 240,
    "start_time": "2021-09-11T17:15:39.545Z"
   },
   {
    "duration": 50,
    "start_time": "2021-09-11T17:15:39.788Z"
   },
   {
    "duration": 63,
    "start_time": "2021-09-11T17:15:39.854Z"
   },
   {
    "duration": 75,
    "start_time": "2021-09-11T17:15:39.920Z"
   },
   {
    "duration": 372,
    "start_time": "2021-09-11T17:15:39.997Z"
   },
   {
    "duration": 373,
    "start_time": "2021-09-11T17:18:23.952Z"
   },
   {
    "duration": 73,
    "start_time": "2021-09-11T17:18:39.152Z"
   },
   {
    "duration": 58,
    "start_time": "2021-09-11T17:19:09.881Z"
   },
   {
    "duration": 341,
    "start_time": "2021-09-11T17:20:38.055Z"
   },
   {
    "duration": 347,
    "start_time": "2021-09-11T17:20:59.169Z"
   },
   {
    "duration": 1225,
    "start_time": "2021-09-11T17:21:06.967Z"
   },
   {
    "duration": 62,
    "start_time": "2021-09-11T17:21:08.195Z"
   },
   {
    "duration": 54,
    "start_time": "2021-09-11T17:21:08.260Z"
   },
   {
    "duration": 444,
    "start_time": "2021-09-11T17:21:08.317Z"
   },
   {
    "duration": -227,
    "start_time": "2021-09-11T17:21:08.992Z"
   },
   {
    "duration": -241,
    "start_time": "2021-09-11T17:21:09.007Z"
   },
   {
    "duration": -245,
    "start_time": "2021-09-11T17:21:09.013Z"
   },
   {
    "duration": -246,
    "start_time": "2021-09-11T17:21:09.016Z"
   },
   {
    "duration": -248,
    "start_time": "2021-09-11T17:21:09.019Z"
   },
   {
    "duration": -248,
    "start_time": "2021-09-11T17:21:09.021Z"
   },
   {
    "duration": -251,
    "start_time": "2021-09-11T17:21:09.026Z"
   },
   {
    "duration": -252,
    "start_time": "2021-09-11T17:21:09.029Z"
   },
   {
    "duration": -255,
    "start_time": "2021-09-11T17:21:09.033Z"
   },
   {
    "duration": -257,
    "start_time": "2021-09-11T17:21:09.037Z"
   },
   {
    "duration": -260,
    "start_time": "2021-09-11T17:21:09.041Z"
   },
   {
    "duration": -261,
    "start_time": "2021-09-11T17:21:09.044Z"
   },
   {
    "duration": -262,
    "start_time": "2021-09-11T17:21:09.046Z"
   },
   {
    "duration": -412,
    "start_time": "2021-09-11T17:21:09.198Z"
   },
   {
    "duration": -419,
    "start_time": "2021-09-11T17:21:09.207Z"
   },
   {
    "duration": -422,
    "start_time": "2021-09-11T17:21:09.211Z"
   },
   {
    "duration": -423,
    "start_time": "2021-09-11T17:21:09.214Z"
   },
   {
    "duration": 55,
    "start_time": "2021-09-11T17:21:56.030Z"
   },
   {
    "duration": 57,
    "start_time": "2021-09-11T17:22:16.393Z"
   },
   {
    "duration": 1436,
    "start_time": "2021-09-11T17:22:22.470Z"
   },
   {
    "duration": 70,
    "start_time": "2021-09-11T17:22:23.909Z"
   },
   {
    "duration": 74,
    "start_time": "2021-09-11T17:22:23.981Z"
   },
   {
    "duration": 43,
    "start_time": "2021-09-11T17:22:24.058Z"
   },
   {
    "duration": 51,
    "start_time": "2021-09-11T17:22:24.103Z"
   },
   {
    "duration": 51,
    "start_time": "2021-09-11T17:22:24.157Z"
   },
   {
    "duration": 111,
    "start_time": "2021-09-11T17:22:24.211Z"
   },
   {
    "duration": 86,
    "start_time": "2021-09-11T17:22:24.327Z"
   },
   {
    "duration": 71,
    "start_time": "2021-09-11T17:22:24.417Z"
   },
   {
    "duration": 19,
    "start_time": "2021-09-11T17:22:24.492Z"
   },
   {
    "duration": 41,
    "start_time": "2021-09-11T17:22:24.513Z"
   },
   {
    "duration": 93,
    "start_time": "2021-09-11T17:22:24.558Z"
   },
   {
    "duration": 44,
    "start_time": "2021-09-11T17:22:24.653Z"
   },
   {
    "duration": 32,
    "start_time": "2021-09-11T17:22:24.700Z"
   },
   {
    "duration": 28,
    "start_time": "2021-09-11T17:22:24.755Z"
   },
   {
    "duration": 95,
    "start_time": "2021-09-11T17:22:24.786Z"
   },
   {
    "duration": 256,
    "start_time": "2021-09-11T17:22:24.883Z"
   },
   {
    "duration": 71,
    "start_time": "2021-09-11T17:22:25.142Z"
   },
   {
    "duration": 98,
    "start_time": "2021-09-11T17:22:25.216Z"
   },
   {
    "duration": 74,
    "start_time": "2021-09-11T17:22:25.316Z"
   },
   {
    "duration": 70,
    "start_time": "2021-09-11T17:22:25.392Z"
   },
   {
    "duration": 59,
    "start_time": "2021-09-11T17:23:06.664Z"
   },
   {
    "duration": 70,
    "start_time": "2021-09-11T17:24:35.214Z"
   },
   {
    "duration": 56,
    "start_time": "2021-09-11T17:25:31.530Z"
   },
   {
    "duration": 68,
    "start_time": "2021-09-11T17:25:44.881Z"
   },
   {
    "duration": 72,
    "start_time": "2021-09-11T17:26:10.112Z"
   },
   {
    "duration": 1075,
    "start_time": "2021-09-11T17:30:05.227Z"
   },
   {
    "duration": 61,
    "start_time": "2021-09-11T17:30:18.026Z"
   },
   {
    "duration": 804,
    "start_time": "2021-09-11T17:30:27.517Z"
   },
   {
    "duration": 71,
    "start_time": "2021-09-11T17:30:41.109Z"
   },
   {
    "duration": 8438,
    "start_time": "2021-09-11T17:35:01.933Z"
   },
   {
    "duration": 7571,
    "start_time": "2021-09-11T17:35:25.820Z"
   },
   {
    "duration": 73,
    "start_time": "2021-09-11T17:35:46.165Z"
   },
   {
    "duration": 62,
    "start_time": "2021-09-11T17:35:51.703Z"
   },
   {
    "duration": 144,
    "start_time": "2021-09-11T17:35:52.190Z"
   },
   {
    "duration": 61,
    "start_time": "2021-09-11T17:36:16.585Z"
   },
   {
    "duration": 217,
    "start_time": "2021-09-11T17:36:17.526Z"
   },
   {
    "duration": 167,
    "start_time": "2021-09-11T17:37:20.063Z"
   },
   {
    "duration": 143,
    "start_time": "2021-09-11T17:37:40.541Z"
   },
   {
    "duration": 123,
    "start_time": "2021-09-11T17:38:01.473Z"
   },
   {
    "duration": 140,
    "start_time": "2021-09-11T17:38:15.203Z"
   },
   {
    "duration": 314,
    "start_time": "2021-09-11T17:40:56.736Z"
   },
   {
    "duration": 657,
    "start_time": "2021-09-11T17:41:08.850Z"
   },
   {
    "duration": 296,
    "start_time": "2021-09-11T17:41:21.474Z"
   },
   {
    "duration": 379,
    "start_time": "2021-09-11T17:42:10.507Z"
   },
   {
    "duration": 1375,
    "start_time": "2021-09-11T17:42:22.990Z"
   },
   {
    "duration": 72,
    "start_time": "2021-09-11T17:42:24.368Z"
   },
   {
    "duration": 62,
    "start_time": "2021-09-11T17:42:24.455Z"
   },
   {
    "duration": 73,
    "start_time": "2021-09-11T17:42:24.520Z"
   },
   {
    "duration": 18,
    "start_time": "2021-09-11T17:42:24.595Z"
   },
   {
    "duration": 60,
    "start_time": "2021-09-11T17:42:24.655Z"
   },
   {
    "duration": 97,
    "start_time": "2021-09-11T17:42:24.718Z"
   },
   {
    "duration": 67,
    "start_time": "2021-09-11T17:42:24.819Z"
   },
   {
    "duration": 41,
    "start_time": "2021-09-11T17:42:24.889Z"
   },
   {
    "duration": 33,
    "start_time": "2021-09-11T17:42:24.932Z"
   },
   {
    "duration": 32,
    "start_time": "2021-09-11T17:42:24.968Z"
   },
   {
    "duration": 88,
    "start_time": "2021-09-11T17:42:25.003Z"
   },
   {
    "duration": 44,
    "start_time": "2021-09-11T17:42:25.093Z"
   },
   {
    "duration": 39,
    "start_time": "2021-09-11T17:42:25.140Z"
   },
   {
    "duration": 28,
    "start_time": "2021-09-11T17:42:25.182Z"
   },
   {
    "duration": 141,
    "start_time": "2021-09-11T17:42:25.213Z"
   },
   {
    "duration": 275,
    "start_time": "2021-09-11T17:42:25.357Z"
   },
   {
    "duration": 127,
    "start_time": "2021-09-11T17:42:25.635Z"
   },
   {
    "duration": 162,
    "start_time": "2021-09-11T17:42:25.765Z"
   },
   {
    "duration": 133,
    "start_time": "2021-09-11T17:42:25.930Z"
   },
   {
    "duration": 124,
    "start_time": "2021-09-11T17:42:26.065Z"
   },
   {
    "duration": 2296,
    "start_time": "2021-09-11T17:42:26.192Z"
   },
   {
    "duration": 346,
    "start_time": "2021-09-11T17:42:40.067Z"
   },
   {
    "duration": 290,
    "start_time": "2021-09-11T17:43:10.502Z"
   },
   {
    "duration": 427,
    "start_time": "2021-09-11T17:44:05.898Z"
   },
   {
    "duration": 305,
    "start_time": "2021-09-11T17:44:15.567Z"
   },
   {
    "duration": 1326,
    "start_time": "2021-09-11T17:44:48.407Z"
   },
   {
    "duration": 64,
    "start_time": "2021-09-11T17:44:49.736Z"
   },
   {
    "duration": 93,
    "start_time": "2021-09-11T17:44:49.802Z"
   },
   {
    "duration": 73,
    "start_time": "2021-09-11T17:44:49.898Z"
   },
   {
    "duration": 20,
    "start_time": "2021-09-11T17:44:49.975Z"
   },
   {
    "duration": 97,
    "start_time": "2021-09-11T17:44:49.998Z"
   },
   {
    "duration": 87,
    "start_time": "2021-09-11T17:44:50.098Z"
   },
   {
    "duration": 47,
    "start_time": "2021-09-11T17:44:50.188Z"
   },
   {
    "duration": 43,
    "start_time": "2021-09-11T17:44:50.254Z"
   },
   {
    "duration": 20,
    "start_time": "2021-09-11T17:44:50.300Z"
   },
   {
    "duration": 44,
    "start_time": "2021-09-11T17:44:50.322Z"
   },
   {
    "duration": 88,
    "start_time": "2021-09-11T17:44:50.368Z"
   },
   {
    "duration": 43,
    "start_time": "2021-09-11T17:44:50.459Z"
   },
   {
    "duration": 54,
    "start_time": "2021-09-11T17:44:50.505Z"
   },
   {
    "duration": 32,
    "start_time": "2021-09-11T17:44:50.562Z"
   },
   {
    "duration": 98,
    "start_time": "2021-09-11T17:44:50.597Z"
   },
   {
    "duration": 257,
    "start_time": "2021-09-11T17:44:50.698Z"
   },
   {
    "duration": 2785,
    "start_time": "2021-09-11T17:44:50.958Z"
   },
   {
    "duration": -232,
    "start_time": "2021-09-11T17:44:53.978Z"
   },
   {
    "duration": -996,
    "start_time": "2021-09-11T17:44:54.743Z"
   },
   {
    "duration": -1015,
    "start_time": "2021-09-11T17:44:54.763Z"
   },
   {
    "duration": -1017,
    "start_time": "2021-09-11T17:44:54.767Z"
   },
   {
    "duration": -1020,
    "start_time": "2021-09-11T17:44:54.771Z"
   },
   {
    "duration": -1021,
    "start_time": "2021-09-11T17:44:54.774Z"
   },
   {
    "duration": 2387,
    "start_time": "2021-09-11T17:45:40.186Z"
   },
   {
    "duration": 377,
    "start_time": "2021-09-11T17:46:12.147Z"
   },
   {
    "duration": 1427,
    "start_time": "2021-09-11T17:46:17.913Z"
   },
   {
    "duration": 65,
    "start_time": "2021-09-11T17:46:19.343Z"
   },
   {
    "duration": 84,
    "start_time": "2021-09-11T17:46:19.412Z"
   },
   {
    "duration": 83,
    "start_time": "2021-09-11T17:46:19.499Z"
   },
   {
    "duration": 17,
    "start_time": "2021-09-11T17:46:19.584Z"
   },
   {
    "duration": 88,
    "start_time": "2021-09-11T17:46:19.604Z"
   },
   {
    "duration": 89,
    "start_time": "2021-09-11T17:46:19.694Z"
   },
   {
    "duration": 79,
    "start_time": "2021-09-11T17:46:19.788Z"
   },
   {
    "duration": 58,
    "start_time": "2021-09-11T17:46:19.871Z"
   },
   {
    "duration": 38,
    "start_time": "2021-09-11T17:46:19.931Z"
   },
   {
    "duration": 15,
    "start_time": "2021-09-11T17:46:19.972Z"
   },
   {
    "duration": 96,
    "start_time": "2021-09-11T17:46:19.989Z"
   },
   {
    "duration": 45,
    "start_time": "2021-09-11T17:46:20.087Z"
   },
   {
    "duration": 39,
    "start_time": "2021-09-11T17:46:20.135Z"
   },
   {
    "duration": 27,
    "start_time": "2021-09-11T17:46:20.177Z"
   },
   {
    "duration": 114,
    "start_time": "2021-09-11T17:46:20.206Z"
   },
   {
    "duration": 282,
    "start_time": "2021-09-11T17:46:20.323Z"
   },
   {
    "duration": 1328,
    "start_time": "2021-09-11T17:46:44.988Z"
   },
   {
    "duration": 74,
    "start_time": "2021-09-11T17:46:46.319Z"
   },
   {
    "duration": 78,
    "start_time": "2021-09-11T17:46:46.396Z"
   },
   {
    "duration": 44,
    "start_time": "2021-09-11T17:46:47.231Z"
   },
   {
    "duration": 16,
    "start_time": "2021-09-11T17:46:47.278Z"
   },
   {
    "duration": 73,
    "start_time": "2021-09-11T17:46:47.297Z"
   },
   {
    "duration": 85,
    "start_time": "2021-09-11T17:46:47.373Z"
   },
   {
    "duration": 47,
    "start_time": "2021-09-11T17:46:47.460Z"
   },
   {
    "duration": 67,
    "start_time": "2021-09-11T17:46:47.509Z"
   },
   {
    "duration": 16,
    "start_time": "2021-09-11T17:46:47.578Z"
   },
   {
    "duration": 34,
    "start_time": "2021-09-11T17:46:47.597Z"
   },
   {
    "duration": 96,
    "start_time": "2021-09-11T17:46:47.635Z"
   },
   {
    "duration": 42,
    "start_time": "2021-09-11T17:46:47.734Z"
   },
   {
    "duration": 34,
    "start_time": "2021-09-11T17:46:47.779Z"
   },
   {
    "duration": 65,
    "start_time": "2021-09-11T17:46:47.816Z"
   },
   {
    "duration": 110,
    "start_time": "2021-09-11T17:46:47.884Z"
   },
   {
    "duration": 275,
    "start_time": "2021-09-11T17:46:48.182Z"
   },
   {
    "duration": 77,
    "start_time": "2021-09-11T17:46:48.460Z"
   },
   {
    "duration": 183,
    "start_time": "2021-09-11T17:46:48.557Z"
   },
   {
    "duration": 130,
    "start_time": "2021-09-11T17:46:48.742Z"
   },
   {
    "duration": 121,
    "start_time": "2021-09-11T17:46:48.875Z"
   },
   {
    "duration": 2249,
    "start_time": "2021-09-11T17:46:48.998Z"
   },
   {
    "duration": -327,
    "start_time": "2021-09-11T17:48:17.998Z"
   },
   {
    "duration": 13095,
    "start_time": "2021-09-11T17:48:21.326Z"
   },
   {
    "duration": 151,
    "start_time": "2021-09-11T17:49:08.211Z"
   },
   {
    "duration": 160,
    "start_time": "2021-09-11T17:49:10.945Z"
   },
   {
    "duration": 3268,
    "start_time": "2021-09-11T17:49:14.891Z"
   },
   {
    "duration": 1360,
    "start_time": "2021-09-11T17:50:02.446Z"
   },
   {
    "duration": 67,
    "start_time": "2021-09-11T17:50:03.809Z"
   },
   {
    "duration": 54,
    "start_time": "2021-09-11T17:50:03.879Z"
   },
   {
    "duration": 43,
    "start_time": "2021-09-11T17:50:03.954Z"
   },
   {
    "duration": 16,
    "start_time": "2021-09-11T17:50:03.999Z"
   },
   {
    "duration": 46,
    "start_time": "2021-09-11T17:50:04.054Z"
   },
   {
    "duration": 107,
    "start_time": "2021-09-11T17:50:04.103Z"
   },
   {
    "duration": 59,
    "start_time": "2021-09-11T17:50:04.214Z"
   },
   {
    "duration": 38,
    "start_time": "2021-09-11T17:50:04.276Z"
   },
   {
    "duration": 38,
    "start_time": "2021-09-11T17:50:04.317Z"
   },
   {
    "duration": 27,
    "start_time": "2021-09-11T17:50:04.358Z"
   },
   {
    "duration": 76,
    "start_time": "2021-09-11T17:50:04.387Z"
   },
   {
    "duration": 59,
    "start_time": "2021-09-11T17:50:04.467Z"
   },
   {
    "duration": 45,
    "start_time": "2021-09-11T17:50:04.528Z"
   },
   {
    "duration": 34,
    "start_time": "2021-09-11T17:50:04.575Z"
   },
   {
    "duration": 134,
    "start_time": "2021-09-11T17:50:04.612Z"
   },
   {
    "duration": 266,
    "start_time": "2021-09-11T17:50:04.748Z"
   },
   {
    "duration": 86,
    "start_time": "2021-09-11T17:50:05.017Z"
   },
   {
    "duration": 92,
    "start_time": "2021-09-11T17:50:05.106Z"
   },
   {
    "duration": 99,
    "start_time": "2021-09-11T17:50:05.201Z"
   },
   {
    "duration": 73,
    "start_time": "2021-09-11T17:50:05.303Z"
   },
   {
    "duration": 147,
    "start_time": "2021-09-11T17:50:05.379Z"
   },
   {
    "duration": 173,
    "start_time": "2021-09-11T17:50:05.530Z"
   },
   {
    "duration": 145,
    "start_time": "2021-09-11T17:50:05.705Z"
   },
   {
    "duration": 146,
    "start_time": "2021-09-11T17:50:38.451Z"
   },
   {
    "duration": 235,
    "start_time": "2021-09-11T17:51:10.388Z"
   },
   {
    "duration": 166,
    "start_time": "2021-09-11T17:51:35.219Z"
   },
   {
    "duration": 172,
    "start_time": "2021-09-11T17:51:48.876Z"
   },
   {
    "duration": 392,
    "start_time": "2021-09-11T17:54:25.463Z"
   },
   {
    "duration": 34,
    "start_time": "2021-09-11T17:54:32.389Z"
   },
   {
    "duration": 100,
    "start_time": "2021-09-11T17:54:40.954Z"
   },
   {
    "duration": 84,
    "start_time": "2021-09-11T17:55:07.053Z"
   },
   {
    "duration": 82,
    "start_time": "2021-09-11T18:00:24.876Z"
   },
   {
    "duration": 1309,
    "start_time": "2021-09-11T18:00:52.828Z"
   },
   {
    "duration": 87,
    "start_time": "2021-09-11T18:00:54.140Z"
   },
   {
    "duration": 125,
    "start_time": "2021-09-11T18:00:54.231Z"
   },
   {
    "duration": 43,
    "start_time": "2021-09-11T18:00:54.359Z"
   },
   {
    "duration": 55,
    "start_time": "2021-09-11T18:00:54.405Z"
   },
   {
    "duration": 58,
    "start_time": "2021-09-11T18:00:54.463Z"
   },
   {
    "duration": 64,
    "start_time": "2021-09-11T18:00:54.555Z"
   },
   {
    "duration": 97,
    "start_time": "2021-09-11T18:00:54.622Z"
   },
   {
    "duration": 71,
    "start_time": "2021-09-11T18:00:54.726Z"
   },
   {
    "duration": 25,
    "start_time": "2021-09-11T18:00:54.801Z"
   },
   {
    "duration": 46,
    "start_time": "2021-09-11T18:00:54.829Z"
   },
   {
    "duration": 93,
    "start_time": "2021-09-11T18:00:54.878Z"
   },
   {
    "duration": 51,
    "start_time": "2021-09-11T18:00:54.974Z"
   },
   {
    "duration": 42,
    "start_time": "2021-09-11T18:00:55.029Z"
   },
   {
    "duration": 29,
    "start_time": "2021-09-11T18:00:55.073Z"
   },
   {
    "duration": 107,
    "start_time": "2021-09-11T18:00:55.104Z"
   },
   {
    "duration": 270,
    "start_time": "2021-09-11T18:00:55.214Z"
   },
   {
    "duration": 115,
    "start_time": "2021-09-11T18:00:55.486Z"
   },
   {
    "duration": 112,
    "start_time": "2021-09-11T18:00:55.605Z"
   },
   {
    "duration": 87,
    "start_time": "2021-09-11T18:00:55.720Z"
   },
   {
    "duration": 79,
    "start_time": "2021-09-11T18:00:55.810Z"
   },
   {
    "duration": 133,
    "start_time": "2021-09-11T18:00:55.892Z"
   },
   {
    "duration": 159,
    "start_time": "2021-09-11T18:00:56.028Z"
   },
   {
    "duration": 217,
    "start_time": "2021-09-11T18:00:56.190Z"
   },
   {
    "duration": 53,
    "start_time": "2021-09-11T18:00:56.410Z"
   },
   {
    "duration": 49,
    "start_time": "2021-09-11T18:01:09.176Z"
   },
   {
    "duration": 98,
    "start_time": "2021-09-11T18:02:16.187Z"
   },
   {
    "duration": 53,
    "start_time": "2021-09-11T18:02:28.195Z"
   },
   {
    "duration": 9348,
    "start_time": "2021-09-11T18:02:53.092Z"
   },
   {
    "duration": 62,
    "start_time": "2021-09-11T18:03:12.177Z"
   },
   {
    "duration": 104,
    "start_time": "2021-09-11T18:04:10.977Z"
   },
   {
    "duration": 49,
    "start_time": "2021-09-11T18:04:17.456Z"
   },
   {
    "duration": 2017,
    "start_time": "2021-09-11T18:04:41.263Z"
   },
   {
    "duration": 67,
    "start_time": "2021-09-11T18:04:43.283Z"
   },
   {
    "duration": 58,
    "start_time": "2021-09-11T18:04:43.356Z"
   },
   {
    "duration": 76,
    "start_time": "2021-09-11T18:04:43.417Z"
   },
   {
    "duration": 16,
    "start_time": "2021-09-11T18:04:43.496Z"
   },
   {
    "duration": 98,
    "start_time": "2021-09-11T18:04:43.514Z"
   },
   {
    "duration": 90,
    "start_time": "2021-09-11T18:04:43.615Z"
   },
   {
    "duration": 61,
    "start_time": "2021-09-11T18:04:43.711Z"
   },
   {
    "duration": 38,
    "start_time": "2021-09-11T18:04:43.775Z"
   },
   {
    "duration": 41,
    "start_time": "2021-09-11T18:04:43.815Z"
   },
   {
    "duration": 17,
    "start_time": "2021-09-11T18:04:43.859Z"
   },
   {
    "duration": 98,
    "start_time": "2021-09-11T18:04:43.878Z"
   },
   {
    "duration": 42,
    "start_time": "2021-09-11T18:04:43.979Z"
   },
   {
    "duration": 44,
    "start_time": "2021-09-11T18:04:44.023Z"
   },
   {
    "duration": 27,
    "start_time": "2021-09-11T18:04:44.070Z"
   },
   {
    "duration": 110,
    "start_time": "2021-09-11T18:04:44.100Z"
   },
   {
    "duration": 271,
    "start_time": "2021-09-11T18:04:44.213Z"
   },
   {
    "duration": 125,
    "start_time": "2021-09-11T18:04:44.487Z"
   },
   {
    "duration": 74,
    "start_time": "2021-09-11T18:04:44.615Z"
   },
   {
    "duration": 48,
    "start_time": "2021-09-11T18:04:44.693Z"
   },
   {
    "duration": 43,
    "start_time": "2021-09-11T18:04:44.755Z"
   },
   {
    "duration": 8666,
    "start_time": "2021-09-11T18:04:44.801Z"
   },
   {
    "duration": -659,
    "start_time": "2021-09-11T18:04:54.130Z"
   },
   {
    "duration": -662,
    "start_time": "2021-09-11T18:04:54.135Z"
   },
   {
    "duration": -664,
    "start_time": "2021-09-11T18:04:54.139Z"
   },
   {
    "duration": 1243,
    "start_time": "2021-09-11T18:05:55.296Z"
   },
   {
    "duration": 74,
    "start_time": "2021-09-11T18:05:56.542Z"
   },
   {
    "duration": 76,
    "start_time": "2021-09-11T18:05:56.620Z"
   },
   {
    "duration": 73,
    "start_time": "2021-09-11T18:05:56.699Z"
   },
   {
    "duration": 17,
    "start_time": "2021-09-11T18:05:56.774Z"
   },
   {
    "duration": 83,
    "start_time": "2021-09-11T18:05:56.794Z"
   },
   {
    "duration": 87,
    "start_time": "2021-09-11T18:05:56.881Z"
   },
   {
    "duration": 47,
    "start_time": "2021-09-11T18:05:56.974Z"
   },
   {
    "duration": 59,
    "start_time": "2021-09-11T18:05:57.024Z"
   },
   {
    "duration": 18,
    "start_time": "2021-09-11T18:05:57.086Z"
   },
   {
    "duration": 52,
    "start_time": "2021-09-11T18:05:57.106Z"
   },
   {
    "duration": 73,
    "start_time": "2021-09-11T18:05:57.160Z"
   },
   {
    "duration": 57,
    "start_time": "2021-09-11T18:05:57.236Z"
   },
   {
    "duration": 25,
    "start_time": "2021-09-11T18:05:57.295Z"
   },
   {
    "duration": 47,
    "start_time": "2021-09-11T18:05:57.323Z"
   },
   {
    "duration": 89,
    "start_time": "2021-09-11T18:05:57.373Z"
   },
   {
    "duration": 328,
    "start_time": "2021-09-11T18:05:57.465Z"
   },
   {
    "duration": 89,
    "start_time": "2021-09-11T18:05:57.796Z"
   },
   {
    "duration": 77,
    "start_time": "2021-09-11T18:05:57.887Z"
   },
   {
    "duration": 49,
    "start_time": "2021-09-11T18:05:57.966Z"
   },
   {
    "duration": 99,
    "start_time": "2021-09-11T18:05:58.018Z"
   },
   {
    "duration": 136,
    "start_time": "2021-09-11T18:05:58.120Z"
   },
   {
    "duration": 208,
    "start_time": "2021-09-11T18:05:58.261Z"
   },
   {
    "duration": 172,
    "start_time": "2021-09-11T18:05:58.472Z"
   },
   {
    "duration": 58,
    "start_time": "2021-09-11T18:05:58.646Z"
   },
   {
    "duration": 75,
    "start_time": "2021-09-11T18:06:50.657Z"
   },
   {
    "duration": 72,
    "start_time": "2021-09-11T18:06:58.008Z"
   },
   {
    "duration": 149,
    "start_time": "2021-09-11T18:07:42.291Z"
   },
   {
    "duration": 380,
    "start_time": "2021-09-11T18:07:47.302Z"
   },
   {
    "duration": 85,
    "start_time": "2021-09-11T18:08:24.024Z"
   },
   {
    "duration": 94,
    "start_time": "2021-09-11T18:08:53.746Z"
   },
   {
    "duration": 10,
    "start_time": "2021-09-11T18:09:59.414Z"
   },
   {
    "duration": 387,
    "start_time": "2021-09-11T18:10:36.289Z"
   },
   {
    "duration": 46,
    "start_time": "2021-09-11T18:10:45.843Z"
   },
   {
    "duration": 12,
    "start_time": "2021-09-11T18:11:28.337Z"
   },
   {
    "duration": 288,
    "start_time": "2021-09-11T18:11:38.683Z"
   },
   {
    "duration": 288,
    "start_time": "2021-09-11T18:11:46.341Z"
   },
   {
    "duration": 299,
    "start_time": "2021-09-11T18:11:58.720Z"
   },
   {
    "duration": 14,
    "start_time": "2021-09-11T18:12:07.400Z"
   },
   {
    "duration": 462,
    "start_time": "2021-09-11T18:12:28.204Z"
   },
   {
    "duration": 34,
    "start_time": "2021-09-11T18:13:12.697Z"
   },
   {
    "duration": 35,
    "start_time": "2021-09-11T18:13:58.356Z"
   },
   {
    "duration": 27,
    "start_time": "2021-09-11T18:21:46.705Z"
   },
   {
    "duration": 21,
    "start_time": "2021-09-11T18:22:45.336Z"
   },
   {
    "duration": 9066,
    "start_time": "2021-09-11T18:23:26.957Z"
   },
   {
    "duration": 35,
    "start_time": "2021-09-11T18:24:40.804Z"
   },
   {
    "duration": 357,
    "start_time": "2021-09-11T18:25:48.000Z"
   },
   {
    "duration": 59,
    "start_time": "2021-09-11T18:25:59.866Z"
   },
   {
    "duration": 71,
    "start_time": "2021-09-11T18:26:15.148Z"
   },
   {
    "duration": 310,
    "start_time": "2021-09-11T18:26:28.766Z"
   },
   {
    "duration": 403,
    "start_time": "2021-09-11T18:26:36.535Z"
   },
   {
    "duration": 79,
    "start_time": "2021-09-11T18:26:53.656Z"
   },
   {
    "duration": 63,
    "start_time": "2021-09-11T18:27:13.213Z"
   },
   {
    "duration": 111,
    "start_time": "2021-09-11T18:27:35.249Z"
   },
   {
    "duration": 66,
    "start_time": "2021-09-11T18:28:02.708Z"
   },
   {
    "duration": 99,
    "start_time": "2021-09-11T18:28:41.025Z"
   },
   {
    "duration": 28,
    "start_time": "2021-09-11T18:28:47.145Z"
   },
   {
    "duration": 53,
    "start_time": "2021-09-11T18:33:52.974Z"
   },
   {
    "duration": 365,
    "start_time": "2021-09-11T18:34:26.068Z"
   },
   {
    "duration": 716,
    "start_time": "2021-09-11T18:34:42.423Z"
   },
   {
    "duration": 325,
    "start_time": "2021-09-11T18:34:45.444Z"
   },
   {
    "duration": 395,
    "start_time": "2021-09-11T18:34:56.751Z"
   },
   {
    "duration": 566,
    "start_time": "2021-09-11T18:36:23.879Z"
   },
   {
    "duration": 469,
    "start_time": "2021-09-11T18:36:52.916Z"
   },
   {
    "duration": 8,
    "start_time": "2021-09-11T18:37:08.421Z"
   },
   {
    "duration": 8,
    "start_time": "2021-09-11T18:38:27.907Z"
   },
   {
    "duration": 282,
    "start_time": "2021-09-11T18:39:34.245Z"
   },
   {
    "duration": 13,
    "start_time": "2021-09-11T18:39:43.622Z"
   },
   {
    "duration": 4,
    "start_time": "2021-09-11T18:39:54.407Z"
   },
   {
    "duration": 43,
    "start_time": "2021-09-11T18:41:02.651Z"
   },
   {
    "duration": 32,
    "start_time": "2021-09-11T18:41:17.784Z"
   },
   {
    "duration": 290,
    "start_time": "2021-09-11T18:42:08.112Z"
   },
   {
    "duration": 300,
    "start_time": "2021-09-11T18:42:17.625Z"
   },
   {
    "duration": 300,
    "start_time": "2021-09-11T18:42:24.516Z"
   },
   {
    "duration": 350,
    "start_time": "2021-09-11T18:42:29.462Z"
   },
   {
    "duration": 37,
    "start_time": "2021-09-11T18:42:56.686Z"
   },
   {
    "duration": 38,
    "start_time": "2021-09-11T18:43:08.987Z"
   },
   {
    "duration": 1416,
    "start_time": "2021-09-11T18:43:25.854Z"
   },
   {
    "duration": 68,
    "start_time": "2021-09-11T18:43:27.273Z"
   },
   {
    "duration": 63,
    "start_time": "2021-09-11T18:43:27.344Z"
   },
   {
    "duration": 85,
    "start_time": "2021-09-11T18:43:27.410Z"
   },
   {
    "duration": 20,
    "start_time": "2021-09-11T18:43:27.498Z"
   },
   {
    "duration": 73,
    "start_time": "2021-09-11T18:43:27.521Z"
   },
   {
    "duration": 105,
    "start_time": "2021-09-11T18:43:27.598Z"
   },
   {
    "duration": 70,
    "start_time": "2021-09-11T18:43:27.707Z"
   },
   {
    "duration": 55,
    "start_time": "2021-09-11T18:43:27.781Z"
   },
   {
    "duration": 38,
    "start_time": "2021-09-11T18:43:27.839Z"
   },
   {
    "duration": 43,
    "start_time": "2021-09-11T18:43:27.880Z"
   },
   {
    "duration": 78,
    "start_time": "2021-09-11T18:43:27.926Z"
   },
   {
    "duration": 52,
    "start_time": "2021-09-11T18:43:28.007Z"
   },
   {
    "duration": 27,
    "start_time": "2021-09-11T18:43:28.062Z"
   },
   {
    "duration": 64,
    "start_time": "2021-09-11T18:43:28.092Z"
   },
   {
    "duration": 114,
    "start_time": "2021-09-11T18:43:28.159Z"
   },
   {
    "duration": 249,
    "start_time": "2021-09-11T18:43:28.276Z"
   },
   {
    "duration": 121,
    "start_time": "2021-09-11T18:43:28.528Z"
   },
   {
    "duration": 81,
    "start_time": "2021-09-11T18:43:28.654Z"
   },
   {
    "duration": 64,
    "start_time": "2021-09-11T18:43:28.738Z"
   },
   {
    "duration": 79,
    "start_time": "2021-09-11T18:43:28.805Z"
   },
   {
    "duration": 129,
    "start_time": "2021-09-11T18:43:28.886Z"
   },
   {
    "duration": 143,
    "start_time": "2021-09-11T18:43:29.022Z"
   },
   {
    "duration": 163,
    "start_time": "2021-09-11T18:43:29.168Z"
   },
   {
    "duration": 91,
    "start_time": "2021-09-11T18:43:29.334Z"
   },
   {
    "duration": 51,
    "start_time": "2021-09-11T18:43:29.428Z"
   },
   {
    "duration": 38,
    "start_time": "2021-09-11T18:43:29.482Z"
   },
   {
    "duration": 38,
    "start_time": "2021-09-11T18:43:29.522Z"
   },
   {
    "duration": 38,
    "start_time": "2021-09-11T18:43:29.563Z"
   },
   {
    "duration": 325,
    "start_time": "2021-09-11T18:44:48.850Z"
   },
   {
    "duration": 307,
    "start_time": "2021-09-11T18:45:00.450Z"
   },
   {
    "duration": 279,
    "start_time": "2021-09-11T18:45:27.622Z"
   },
   {
    "duration": 523,
    "start_time": "2021-09-11T18:45:33.994Z"
   },
   {
    "duration": 689,
    "start_time": "2021-09-11T18:46:28.979Z"
   },
   {
    "duration": 804,
    "start_time": "2021-09-11T18:47:40.797Z"
   },
   {
    "duration": 3559,
    "start_time": "2021-09-11T18:47:47.219Z"
   },
   {
    "duration": 511,
    "start_time": "2021-09-11T18:47:59.264Z"
   },
   {
    "duration": 861,
    "start_time": "2021-09-11T18:48:10.654Z"
   },
   {
    "duration": 609,
    "start_time": "2021-09-11T18:48:16.296Z"
   },
   {
    "duration": 699,
    "start_time": "2021-09-11T18:48:23.622Z"
   },
   {
    "duration": 4358,
    "start_time": "2021-09-11T18:49:57.598Z"
   },
   {
    "duration": 388,
    "start_time": "2021-09-11T18:50:29.014Z"
   },
   {
    "duration": 29,
    "start_time": "2021-09-11T18:51:21.439Z"
   },
   {
    "duration": 31,
    "start_time": "2021-09-11T18:51:41.001Z"
   },
   {
    "duration": 31,
    "start_time": "2021-09-11T18:55:08.642Z"
   },
   {
    "duration": 774,
    "start_time": "2021-09-11T18:55:54.825Z"
   },
   {
    "duration": 26,
    "start_time": "2021-09-11T18:57:31.183Z"
   },
   {
    "duration": 33,
    "start_time": "2021-09-11T18:57:42.206Z"
   },
   {
    "duration": 335,
    "start_time": "2021-09-11T19:03:44.035Z"
   },
   {
    "duration": 207,
    "start_time": "2021-09-11T19:04:17.718Z"
   },
   {
    "duration": 280,
    "start_time": "2021-09-11T19:04:48.143Z"
   },
   {
    "duration": 30,
    "start_time": "2021-09-11T19:04:56.412Z"
   },
   {
    "duration": 193,
    "start_time": "2021-09-11T19:05:46.485Z"
   },
   {
    "duration": 201,
    "start_time": "2021-09-11T19:05:58.207Z"
   },
   {
    "duration": 193,
    "start_time": "2021-09-11T19:06:11.327Z"
   },
   {
    "duration": 205,
    "start_time": "2021-09-11T19:07:31.002Z"
   },
   {
    "duration": 199,
    "start_time": "2021-09-11T19:07:39.713Z"
   },
   {
    "duration": 208,
    "start_time": "2021-09-11T19:07:40.375Z"
   },
   {
    "duration": 337,
    "start_time": "2021-09-11T19:07:53.999Z"
   },
   {
    "duration": 206,
    "start_time": "2021-09-11T19:07:56.471Z"
   },
   {
    "duration": 1342,
    "start_time": "2021-09-11T19:08:00.689Z"
   },
   {
    "duration": 58,
    "start_time": "2021-09-11T19:08:02.034Z"
   },
   {
    "duration": 76,
    "start_time": "2021-09-11T19:08:02.095Z"
   },
   {
    "duration": 41,
    "start_time": "2021-09-11T19:08:02.174Z"
   },
   {
    "duration": 16,
    "start_time": "2021-09-11T19:08:03.282Z"
   },
   {
    "duration": 60,
    "start_time": "2021-09-11T19:08:03.300Z"
   },
   {
    "duration": 63,
    "start_time": "2021-09-11T19:08:03.363Z"
   },
   {
    "duration": 64,
    "start_time": "2021-09-11T19:08:03.428Z"
   },
   {
    "duration": 38,
    "start_time": "2021-09-11T19:08:03.494Z"
   },
   {
    "duration": 17,
    "start_time": "2021-09-11T19:08:03.555Z"
   },
   {
    "duration": 32,
    "start_time": "2021-09-11T19:08:03.574Z"
   },
   {
    "duration": 76,
    "start_time": "2021-09-11T19:08:03.608Z"
   },
   {
    "duration": 41,
    "start_time": "2021-09-11T19:08:03.688Z"
   },
   {
    "duration": 39,
    "start_time": "2021-09-11T19:08:03.733Z"
   },
   {
    "duration": 28,
    "start_time": "2021-09-11T19:08:03.774Z"
   },
   {
    "duration": 98,
    "start_time": "2021-09-11T19:08:03.805Z"
   },
   {
    "duration": 244,
    "start_time": "2021-09-11T19:08:03.906Z"
   },
   {
    "duration": 75,
    "start_time": "2021-09-11T19:08:04.153Z"
   },
   {
    "duration": 84,
    "start_time": "2021-09-11T19:08:04.232Z"
   },
   {
    "duration": 57,
    "start_time": "2021-09-11T19:08:04.318Z"
   },
   {
    "duration": 52,
    "start_time": "2021-09-11T19:08:04.378Z"
   },
   {
    "duration": 139,
    "start_time": "2021-09-11T19:08:04.433Z"
   },
   {
    "duration": 142,
    "start_time": "2021-09-11T19:08:04.574Z"
   },
   {
    "duration": 162,
    "start_time": "2021-09-11T19:08:04.719Z"
   },
   {
    "duration": 79,
    "start_time": "2021-09-11T19:08:04.883Z"
   },
   {
    "duration": 26,
    "start_time": "2021-09-11T19:08:04.965Z"
   },
   {
    "duration": 30,
    "start_time": "2021-09-11T19:08:04.993Z"
   },
   {
    "duration": 31,
    "start_time": "2021-09-11T19:08:05.055Z"
   },
   {
    "duration": 15,
    "start_time": "2021-09-11T19:08:05.089Z"
   },
   {
    "duration": 67,
    "start_time": "2021-09-11T19:08:05.106Z"
   },
   {
    "duration": 237,
    "start_time": "2021-09-11T19:08:05.180Z"
   },
   {
    "duration": 219,
    "start_time": "2021-09-11T19:08:05.419Z"
   },
   {
    "duration": 37,
    "start_time": "2021-09-11T19:08:05.641Z"
   },
   {
    "duration": 535,
    "start_time": "2021-09-11T19:08:54.431Z"
   },
   {
    "duration": 356,
    "start_time": "2021-09-11T19:09:06.433Z"
   },
   {
    "duration": 297,
    "start_time": "2021-09-11T19:12:34.386Z"
   },
   {
    "duration": 211,
    "start_time": "2021-09-11T19:12:43.984Z"
   },
   {
    "duration": 310,
    "start_time": "2021-09-11T19:12:55.175Z"
   },
   {
    "duration": 296,
    "start_time": "2021-09-11T19:13:43.225Z"
   },
   {
    "duration": 3,
    "start_time": "2021-09-11T19:13:54.517Z"
   },
   {
    "duration": 202,
    "start_time": "2021-09-11T19:14:10.538Z"
   },
   {
    "duration": 188,
    "start_time": "2021-09-11T19:14:25.474Z"
   },
   {
    "duration": 197,
    "start_time": "2021-09-11T19:14:44.977Z"
   },
   {
    "duration": 305,
    "start_time": "2021-09-11T19:14:49.642Z"
   },
   {
    "duration": 203,
    "start_time": "2021-09-11T19:15:06.594Z"
   },
   {
    "duration": 205,
    "start_time": "2021-09-11T19:15:18.858Z"
   },
   {
    "duration": 263,
    "start_time": "2021-09-11T19:15:21.442Z"
   },
   {
    "duration": 203,
    "start_time": "2021-09-11T19:15:26.530Z"
   },
   {
    "duration": 1547,
    "start_time": "2021-09-11T19:15:36.332Z"
   },
   {
    "duration": 66,
    "start_time": "2021-09-11T19:15:37.882Z"
   },
   {
    "duration": 56,
    "start_time": "2021-09-11T19:15:37.951Z"
   },
   {
    "duration": 70,
    "start_time": "2021-09-11T19:15:38.010Z"
   },
   {
    "duration": 16,
    "start_time": "2021-09-11T19:15:38.082Z"
   },
   {
    "duration": 79,
    "start_time": "2021-09-11T19:15:38.100Z"
   },
   {
    "duration": 83,
    "start_time": "2021-09-11T19:15:38.182Z"
   },
   {
    "duration": 47,
    "start_time": "2021-09-11T19:15:38.268Z"
   },
   {
    "duration": 60,
    "start_time": "2021-09-11T19:15:38.319Z"
   },
   {
    "duration": 17,
    "start_time": "2021-09-11T19:15:38.382Z"
   },
   {
    "duration": 22,
    "start_time": "2021-09-11T19:15:38.401Z"
   },
   {
    "duration": 86,
    "start_time": "2021-09-11T19:15:38.426Z"
   },
   {
    "duration": 56,
    "start_time": "2021-09-11T19:15:38.515Z"
   },
   {
    "duration": 26,
    "start_time": "2021-09-11T19:15:38.573Z"
   },
   {
    "duration": 53,
    "start_time": "2021-09-11T19:15:38.602Z"
   },
   {
    "duration": 69,
    "start_time": "2021-09-11T19:15:38.658Z"
   },
   {
    "duration": 253,
    "start_time": "2021-09-11T19:15:38.730Z"
   },
   {
    "duration": 89,
    "start_time": "2021-09-11T19:15:38.985Z"
   },
   {
    "duration": 63,
    "start_time": "2021-09-11T19:15:39.077Z"
   },
   {
    "duration": 52,
    "start_time": "2021-09-11T19:15:39.155Z"
   },
   {
    "duration": 103,
    "start_time": "2021-09-11T19:15:39.209Z"
   },
   {
    "duration": 129,
    "start_time": "2021-09-11T19:15:39.315Z"
   },
   {
    "duration": 145,
    "start_time": "2021-09-11T19:15:39.447Z"
   },
   {
    "duration": 178,
    "start_time": "2021-09-11T19:15:39.595Z"
   },
   {
    "duration": 87,
    "start_time": "2021-09-11T19:15:39.776Z"
   },
   {
    "duration": 26,
    "start_time": "2021-09-11T19:15:39.867Z"
   },
   {
    "duration": 55,
    "start_time": "2021-09-11T19:15:39.900Z"
   },
   {
    "duration": 34,
    "start_time": "2021-09-11T19:15:39.959Z"
   },
   {
    "duration": 16,
    "start_time": "2021-09-11T19:15:39.997Z"
   },
   {
    "duration": 56,
    "start_time": "2021-09-11T19:15:40.016Z"
   },
   {
    "duration": 250,
    "start_time": "2021-09-11T19:15:40.076Z"
   },
   {
    "duration": 205,
    "start_time": "2021-09-11T19:15:40.328Z"
   },
   {
    "duration": 218,
    "start_time": "2021-09-11T19:15:40.536Z"
   },
   {
    "duration": 344,
    "start_time": "2021-09-11T19:15:40.756Z"
   },
   {
    "duration": 3,
    "start_time": "2021-09-11T19:15:41.102Z"
   },
   {
    "duration": 224,
    "start_time": "2021-09-11T19:15:51.352Z"
   },
   {
    "duration": 205,
    "start_time": "2021-09-11T19:15:56.261Z"
   },
   {
    "duration": 210,
    "start_time": "2021-09-11T19:16:01.863Z"
   },
   {
    "duration": 1357,
    "start_time": "2021-09-11T19:16:07.462Z"
   },
   {
    "duration": 60,
    "start_time": "2021-09-11T19:16:08.821Z"
   },
   {
    "duration": 72,
    "start_time": "2021-09-11T19:16:08.884Z"
   },
   {
    "duration": 42,
    "start_time": "2021-09-11T19:16:08.959Z"
   },
   {
    "duration": 16,
    "start_time": "2021-09-11T19:16:09.003Z"
   },
   {
    "duration": 46,
    "start_time": "2021-09-11T19:16:09.056Z"
   },
   {
    "duration": 108,
    "start_time": "2021-09-11T19:16:09.105Z"
   },
   {
    "duration": 68,
    "start_time": "2021-09-11T19:16:09.217Z"
   },
   {
    "duration": 36,
    "start_time": "2021-09-11T19:16:09.288Z"
   },
   {
    "duration": 33,
    "start_time": "2021-09-11T19:16:09.327Z"
   },
   {
    "duration": 19,
    "start_time": "2021-09-11T19:16:09.363Z"
   },
   {
    "duration": 84,
    "start_time": "2021-09-11T19:16:09.385Z"
   },
   {
    "duration": 42,
    "start_time": "2021-09-11T19:16:09.471Z"
   },
   {
    "duration": 42,
    "start_time": "2021-09-11T19:16:09.515Z"
   },
   {
    "duration": 36,
    "start_time": "2021-09-11T19:16:09.559Z"
   },
   {
    "duration": 95,
    "start_time": "2021-09-11T19:16:09.599Z"
   },
   {
    "duration": 253,
    "start_time": "2021-09-11T19:16:09.697Z"
   },
   {
    "duration": 81,
    "start_time": "2021-09-11T19:16:09.952Z"
   },
   {
    "duration": 81,
    "start_time": "2021-09-11T19:16:10.036Z"
   },
   {
    "duration": 71,
    "start_time": "2021-09-11T19:16:10.120Z"
   },
   {
    "duration": 69,
    "start_time": "2021-09-11T19:16:10.194Z"
   },
   {
    "duration": 133,
    "start_time": "2021-09-11T19:16:10.266Z"
   },
   {
    "duration": 140,
    "start_time": "2021-09-11T19:16:10.406Z"
   },
   {
    "duration": 154,
    "start_time": "2021-09-11T19:16:10.550Z"
   },
   {
    "duration": 78,
    "start_time": "2021-09-11T19:16:10.707Z"
   },
   {
    "duration": 23,
    "start_time": "2021-09-11T19:16:10.788Z"
   },
   {
    "duration": 53,
    "start_time": "2021-09-11T19:16:10.814Z"
   },
   {
    "duration": 28,
    "start_time": "2021-09-11T19:16:10.870Z"
   },
   {
    "duration": 11,
    "start_time": "2021-09-11T19:16:10.901Z"
   },
   {
    "duration": 59,
    "start_time": "2021-09-11T19:16:10.915Z"
   },
   {
    "duration": 236,
    "start_time": "2021-09-11T19:16:10.976Z"
   },
   {
    "duration": 214,
    "start_time": "2021-09-11T19:16:11.215Z"
   },
   {
    "duration": 206,
    "start_time": "2021-09-11T19:16:11.431Z"
   },
   {
    "duration": 345,
    "start_time": "2021-09-11T19:16:11.640Z"
   },
   {
    "duration": 4,
    "start_time": "2021-09-11T19:16:11.988Z"
   },
   {
    "duration": 205,
    "start_time": "2021-09-11T19:16:24.713Z"
   },
   {
    "duration": 194,
    "start_time": "2021-09-11T19:16:45.953Z"
   },
   {
    "duration": 265,
    "start_time": "2021-09-11T19:17:47.658Z"
   },
   {
    "duration": 202,
    "start_time": "2021-09-11T19:17:50.961Z"
   },
   {
    "duration": 285,
    "start_time": "2021-09-11T19:17:56.384Z"
   },
   {
    "duration": 43,
    "start_time": "2021-09-11T19:18:07.368Z"
   },
   {
    "duration": 1344,
    "start_time": "2021-09-11T19:22:01.667Z"
   },
   {
    "duration": 59,
    "start_time": "2021-09-11T19:22:03.013Z"
   },
   {
    "duration": 54,
    "start_time": "2021-09-11T19:22:03.075Z"
   },
   {
    "duration": 52,
    "start_time": "2021-09-11T19:22:03.154Z"
   },
   {
    "duration": 16,
    "start_time": "2021-09-11T19:22:03.208Z"
   },
   {
    "duration": 45,
    "start_time": "2021-09-11T19:22:03.256Z"
   },
   {
    "duration": 99,
    "start_time": "2021-09-11T19:22:03.303Z"
   },
   {
    "duration": 61,
    "start_time": "2021-09-11T19:22:03.405Z"
   },
   {
    "duration": 39,
    "start_time": "2021-09-11T19:22:03.470Z"
   },
   {
    "duration": 17,
    "start_time": "2021-09-11T19:22:03.513Z"
   },
   {
    "duration": 14,
    "start_time": "2021-09-11T19:22:03.556Z"
   },
   {
    "duration": 70,
    "start_time": "2021-09-11T19:22:03.572Z"
   },
   {
    "duration": 49,
    "start_time": "2021-09-11T19:22:03.644Z"
   },
   {
    "duration": 24,
    "start_time": "2021-09-11T19:22:03.696Z"
   },
   {
    "duration": 52,
    "start_time": "2021-09-11T19:22:03.723Z"
   },
   {
    "duration": 87,
    "start_time": "2021-09-11T19:22:03.778Z"
   },
   {
    "duration": 232,
    "start_time": "2021-09-11T19:22:03.867Z"
   },
   {
    "duration": 90,
    "start_time": "2021-09-11T19:22:04.101Z"
   },
   {
    "duration": 69,
    "start_time": "2021-09-11T19:22:04.193Z"
   },
   {
    "duration": 45,
    "start_time": "2021-09-11T19:22:04.265Z"
   },
   {
    "duration": 76,
    "start_time": "2021-09-11T19:22:04.312Z"
   },
   {
    "duration": 122,
    "start_time": "2021-09-11T19:22:04.391Z"
   },
   {
    "duration": 142,
    "start_time": "2021-09-11T19:22:04.516Z"
   },
   {
    "duration": 160,
    "start_time": "2021-09-11T19:22:04.662Z"
   },
   {
    "duration": 78,
    "start_time": "2021-09-11T19:22:04.825Z"
   },
   {
    "duration": 26,
    "start_time": "2021-09-11T19:22:04.906Z"
   },
   {
    "duration": 48,
    "start_time": "2021-09-11T19:22:04.937Z"
   },
   {
    "duration": 29,
    "start_time": "2021-09-11T19:22:04.988Z"
   },
   {
    "duration": 46,
    "start_time": "2021-09-11T19:22:05.020Z"
   },
   {
    "duration": 29,
    "start_time": "2021-09-11T19:22:05.069Z"
   },
   {
    "duration": 254,
    "start_time": "2021-09-11T19:22:05.100Z"
   },
   {
    "duration": 204,
    "start_time": "2021-09-11T19:22:05.357Z"
   },
   {
    "duration": 220,
    "start_time": "2021-09-11T19:22:05.564Z"
   },
   {
    "duration": 354,
    "start_time": "2021-09-11T19:22:05.787Z"
   },
   {
    "duration": 11,
    "start_time": "2021-09-11T19:22:06.144Z"
   },
   {
    "duration": 51,
    "start_time": "2021-09-11T19:22:06.158Z"
   },
   {
    "duration": 32,
    "start_time": "2021-09-11T19:24:23.714Z"
   },
   {
    "duration": 382,
    "start_time": "2021-09-11T19:28:44.267Z"
   },
   {
    "duration": 513,
    "start_time": "2021-09-11T19:28:45.890Z"
   },
   {
    "duration": -184,
    "start_time": "2021-09-11T19:28:46.589Z"
   },
   {
    "duration": 8,
    "start_time": "2021-09-11T19:28:52.504Z"
   },
   {
    "duration": 7,
    "start_time": "2021-09-11T19:28:54.353Z"
   },
   {
    "duration": 21,
    "start_time": "2021-09-11T19:29:38.705Z"
   },
   {
    "duration": 11,
    "start_time": "2021-09-11T19:29:39.306Z"
   },
   {
    "duration": 16,
    "start_time": "2021-09-11T19:30:01.794Z"
   },
   {
    "duration": 9,
    "start_time": "2021-09-11T19:30:03.419Z"
   },
   {
    "duration": 19,
    "start_time": "2021-09-11T19:30:16.365Z"
   },
   {
    "duration": 12,
    "start_time": "2021-09-11T19:30:17.805Z"
   },
   {
    "duration": 98,
    "start_time": "2021-09-11T19:31:03.267Z"
   },
   {
    "duration": 11,
    "start_time": "2021-09-11T19:31:04.123Z"
   },
   {
    "duration": 324,
    "start_time": "2021-09-11T19:31:09.874Z"
   },
   {
    "duration": 11,
    "start_time": "2021-09-11T19:31:20.875Z"
   },
   {
    "duration": 33,
    "start_time": "2021-09-11T19:31:22.140Z"
   },
   {
    "duration": 292,
    "start_time": "2021-09-11T19:32:04.548Z"
   },
   {
    "duration": 10,
    "start_time": "2021-09-11T19:32:12.635Z"
   },
   {
    "duration": 13,
    "start_time": "2021-09-11T19:32:36.329Z"
   },
   {
    "duration": 32,
    "start_time": "2021-09-11T19:32:37.991Z"
   },
   {
    "duration": 13,
    "start_time": "2021-09-11T19:32:47.192Z"
   },
   {
    "duration": 7,
    "start_time": "2021-09-11T19:32:47.877Z"
   },
   {
    "duration": 21,
    "start_time": "2021-09-11T19:33:19.612Z"
   },
   {
    "duration": 10,
    "start_time": "2021-09-11T19:33:28.248Z"
   },
   {
    "duration": 1109,
    "start_time": "2021-09-11T19:33:50.134Z"
   },
   {
    "duration": 301,
    "start_time": "2021-09-11T19:34:22.923Z"
   },
   {
    "duration": 284,
    "start_time": "2021-09-11T19:34:33.087Z"
   },
   {
    "duration": 280,
    "start_time": "2021-09-11T19:35:13.876Z"
   },
   {
    "duration": 383,
    "start_time": "2021-09-11T19:35:19.403Z"
   },
   {
    "duration": 7,
    "start_time": "2021-09-11T19:35:39.435Z"
   },
   {
    "duration": 276,
    "start_time": "2021-09-11T19:36:39.015Z"
   },
   {
    "duration": 285,
    "start_time": "2021-09-11T19:37:06.881Z"
   },
   {
    "duration": 289,
    "start_time": "2021-09-11T19:37:43.997Z"
   },
   {
    "duration": 6,
    "start_time": "2021-09-11T19:38:07.036Z"
   },
   {
    "duration": 7,
    "start_time": "2021-09-11T19:39:46.251Z"
   },
   {
    "duration": 51,
    "start_time": "2021-09-11T19:43:21.698Z"
   },
   {
    "duration": 8182,
    "start_time": "2021-09-11T19:43:59.097Z"
   },
   {
    "duration": 293,
    "start_time": "2021-09-11T19:44:50.953Z"
   },
   {
    "duration": 2010,
    "start_time": "2021-09-11T19:45:05.080Z"
   },
   {
    "duration": 61,
    "start_time": "2021-09-11T19:45:07.092Z"
   },
   {
    "duration": 57,
    "start_time": "2021-09-11T19:45:07.155Z"
   },
   {
    "duration": 70,
    "start_time": "2021-09-11T19:45:07.216Z"
   },
   {
    "duration": 19,
    "start_time": "2021-09-11T19:45:07.289Z"
   },
   {
    "duration": 96,
    "start_time": "2021-09-11T19:45:07.312Z"
   },
   {
    "duration": 118,
    "start_time": "2021-09-11T19:45:07.411Z"
   },
   {
    "duration": 74,
    "start_time": "2021-09-11T19:45:07.532Z"
   },
   {
    "duration": 53,
    "start_time": "2021-09-11T19:45:07.610Z"
   },
   {
    "duration": 16,
    "start_time": "2021-09-11T19:45:07.666Z"
   },
   {
    "duration": 62,
    "start_time": "2021-09-11T19:45:07.684Z"
   },
   {
    "duration": 87,
    "start_time": "2021-09-11T19:45:07.748Z"
   },
   {
    "duration": 42,
    "start_time": "2021-09-11T19:45:07.837Z"
   },
   {
    "duration": 25,
    "start_time": "2021-09-11T19:45:07.882Z"
   },
   {
    "duration": 49,
    "start_time": "2021-09-11T19:45:07.909Z"
   },
   {
    "duration": 89,
    "start_time": "2021-09-11T19:45:07.961Z"
   },
   {
    "duration": 231,
    "start_time": "2021-09-11T19:45:08.053Z"
   },
   {
    "duration": 86,
    "start_time": "2021-09-11T19:45:08.286Z"
   },
   {
    "duration": 82,
    "start_time": "2021-09-11T19:45:08.374Z"
   },
   {
    "duration": 55,
    "start_time": "2021-09-11T19:45:08.458Z"
   },
   {
    "duration": 81,
    "start_time": "2021-09-11T19:45:08.516Z"
   },
   {
    "duration": 133,
    "start_time": "2021-09-11T19:45:08.600Z"
   },
   {
    "duration": 138,
    "start_time": "2021-09-11T19:45:08.735Z"
   },
   {
    "duration": 163,
    "start_time": "2021-09-11T19:45:08.876Z"
   },
   {
    "duration": 81,
    "start_time": "2021-09-11T19:45:09.041Z"
   },
   {
    "duration": 147,
    "start_time": "2021-09-11T19:45:09.125Z"
   },
   {
    "duration": 38,
    "start_time": "2021-09-11T19:45:09.279Z"
   },
   {
    "duration": 53,
    "start_time": "2021-09-11T19:45:09.321Z"
   },
   {
    "duration": 11,
    "start_time": "2021-09-11T19:45:09.376Z"
   },
   {
    "duration": 37,
    "start_time": "2021-09-11T19:45:09.389Z"
   },
   {
    "duration": 322,
    "start_time": "2021-09-11T19:45:09.428Z"
   },
   {
    "duration": 325,
    "start_time": "2021-09-11T19:45:09.755Z"
   },
   {
    "duration": 229,
    "start_time": "2021-09-11T19:45:10.082Z"
   },
   {
    "duration": 3,
    "start_time": "2021-09-11T19:45:10.313Z"
   },
   {
    "duration": 48,
    "start_time": "2021-09-11T19:45:10.319Z"
   },
   {
    "duration": 24,
    "start_time": "2021-09-11T19:45:10.369Z"
   },
   {
    "duration": 7,
    "start_time": "2021-09-11T19:45:10.396Z"
   },
   {
    "duration": 51,
    "start_time": "2021-09-11T19:45:10.405Z"
   },
   {
    "duration": 8,
    "start_time": "2021-09-11T19:45:44.156Z"
   },
   {
    "duration": 22,
    "start_time": "2021-09-11T19:46:36.065Z"
   },
   {
    "duration": 7,
    "start_time": "2021-09-11T19:46:46.380Z"
   },
   {
    "duration": 1729,
    "start_time": "2021-09-12T17:51:44.981Z"
   },
   {
    "duration": 444,
    "start_time": "2021-09-12T17:53:50.519Z"
   },
   {
    "duration": 44,
    "start_time": "2021-09-12T17:56:50.986Z"
   },
   {
    "duration": 41,
    "start_time": "2021-09-12T17:57:17.695Z"
   },
   {
    "duration": 72,
    "start_time": "2021-09-12T17:59:22.721Z"
   },
   {
    "duration": 447,
    "start_time": "2021-09-12T18:08:13.381Z"
   },
   {
    "duration": 1716,
    "start_time": "2021-09-12T18:09:16.720Z"
   },
   {
    "duration": 92,
    "start_time": "2021-09-12T18:09:18.438Z"
   },
   {
    "duration": 111,
    "start_time": "2021-09-12T18:09:18.534Z"
   },
   {
    "duration": 79,
    "start_time": "2021-09-12T18:09:18.648Z"
   },
   {
    "duration": 15,
    "start_time": "2021-09-12T18:09:18.729Z"
   },
   {
    "duration": 90,
    "start_time": "2021-09-12T18:09:18.746Z"
   },
   {
    "duration": 81,
    "start_time": "2021-09-12T18:09:18.838Z"
   },
   {
    "duration": 43,
    "start_time": "2021-09-12T18:09:18.923Z"
   },
   {
    "duration": 41,
    "start_time": "2021-09-12T18:09:18.983Z"
   },
   {
    "duration": 15,
    "start_time": "2021-09-12T18:09:19.026Z"
   },
   {
    "duration": 40,
    "start_time": "2021-09-12T18:09:19.043Z"
   },
   {
    "duration": 210,
    "start_time": "2021-09-12T18:09:19.086Z"
   },
   {
    "duration": 66,
    "start_time": "2021-09-12T18:09:19.298Z"
   },
   {
    "duration": 57,
    "start_time": "2021-09-12T18:09:19.367Z"
   },
   {
    "duration": 68,
    "start_time": "2021-09-12T18:09:19.427Z"
   },
   {
    "duration": 117,
    "start_time": "2021-09-12T18:09:19.497Z"
   },
   {
    "duration": 130,
    "start_time": "2021-09-12T18:09:19.617Z"
   },
   {
    "duration": 153,
    "start_time": "2021-09-12T18:09:19.750Z"
   },
   {
    "duration": 86,
    "start_time": "2021-09-12T18:09:19.906Z"
   },
   {
    "duration": 25,
    "start_time": "2021-09-12T18:09:19.995Z"
   },
   {
    "duration": 61,
    "start_time": "2021-09-12T18:09:20.023Z"
   },
   {
    "duration": 30,
    "start_time": "2021-09-12T18:09:20.087Z"
   },
   {
    "duration": 9,
    "start_time": "2021-09-12T18:09:20.122Z"
   },
   {
    "duration": 59,
    "start_time": "2021-09-12T18:09:20.134Z"
   },
   {
    "duration": 217,
    "start_time": "2021-09-12T18:09:20.195Z"
   },
   {
    "duration": 195,
    "start_time": "2021-09-12T18:09:20.414Z"
   },
   {
    "duration": 203,
    "start_time": "2021-09-12T18:09:20.611Z"
   },
   {
    "duration": 3,
    "start_time": "2021-09-12T18:09:20.816Z"
   },
   {
    "duration": 32,
    "start_time": "2021-09-12T18:09:20.821Z"
   },
   {
    "duration": 40,
    "start_time": "2021-09-12T18:09:20.855Z"
   },
   {
    "duration": 6,
    "start_time": "2021-09-12T18:09:20.898Z"
   },
   {
    "duration": 22,
    "start_time": "2021-09-12T18:09:20.906Z"
   },
   {
    "duration": 6,
    "start_time": "2021-09-12T18:09:20.930Z"
   },
   {
    "duration": 11,
    "start_time": "2021-09-12T18:10:27.340Z"
   },
   {
    "duration": 32,
    "start_time": "2021-09-12T18:11:07.370Z"
   },
   {
    "duration": 339,
    "start_time": "2021-09-12T18:12:24.082Z"
   },
   {
    "duration": 1788,
    "start_time": "2021-09-12T18:13:00.390Z"
   },
   {
    "duration": 109,
    "start_time": "2021-09-12T18:13:02.181Z"
   },
   {
    "duration": 104,
    "start_time": "2021-09-12T18:13:02.293Z"
   },
   {
    "duration": 56,
    "start_time": "2021-09-12T18:13:02.400Z"
   },
   {
    "duration": 36,
    "start_time": "2021-09-12T18:13:02.458Z"
   },
   {
    "duration": 95,
    "start_time": "2021-09-12T18:13:02.497Z"
   },
   {
    "duration": 59,
    "start_time": "2021-09-12T18:13:02.594Z"
   },
   {
    "duration": 60,
    "start_time": "2021-09-12T18:13:02.657Z"
   },
   {
    "duration": 39,
    "start_time": "2021-09-12T18:13:02.720Z"
   },
   {
    "duration": 17,
    "start_time": "2021-09-12T18:13:02.782Z"
   },
   {
    "duration": 19,
    "start_time": "2021-09-12T18:13:02.802Z"
   },
   {
    "duration": 237,
    "start_time": "2021-09-12T18:13:02.823Z"
   },
   {
    "duration": 69,
    "start_time": "2021-09-12T18:13:03.062Z"
   },
   {
    "duration": 51,
    "start_time": "2021-09-12T18:13:03.133Z"
   },
   {
    "duration": 50,
    "start_time": "2021-09-12T18:13:03.186Z"
   },
   {
    "duration": 127,
    "start_time": "2021-09-12T18:13:03.238Z"
   },
   {
    "duration": 132,
    "start_time": "2021-09-12T18:13:03.368Z"
   },
   {
    "duration": 144,
    "start_time": "2021-09-12T18:13:03.502Z"
   },
   {
    "duration": 80,
    "start_time": "2021-09-12T18:13:03.648Z"
   },
   {
    "duration": 20,
    "start_time": "2021-09-12T18:13:03.730Z"
   },
   {
    "duration": 43,
    "start_time": "2021-09-12T18:13:03.752Z"
   },
   {
    "duration": 27,
    "start_time": "2021-09-12T18:13:03.798Z"
   },
   {
    "duration": 23,
    "start_time": "2021-09-12T18:13:03.830Z"
   },
   {
    "duration": 67,
    "start_time": "2021-09-12T18:13:03.857Z"
   },
   {
    "duration": 571,
    "start_time": "2021-09-12T18:13:03.926Z"
   },
   {
    "duration": 198,
    "start_time": "2021-09-12T18:13:04.499Z"
   },
   {
    "duration": 210,
    "start_time": "2021-09-12T18:13:04.700Z"
   },
   {
    "duration": 30,
    "start_time": "2021-09-12T18:13:04.913Z"
   },
   {
    "duration": 42,
    "start_time": "2021-09-12T18:13:04.946Z"
   },
   {
    "duration": 6,
    "start_time": "2021-09-12T18:13:04.990Z"
   },
   {
    "duration": 23,
    "start_time": "2021-09-12T18:13:04.999Z"
   },
   {
    "duration": 6,
    "start_time": "2021-09-12T18:13:05.025Z"
   },
   {
    "duration": 621,
    "start_time": "2021-09-12T18:13:58.213Z"
   },
   {
    "duration": 631,
    "start_time": "2021-09-12T18:14:00.193Z"
   },
   {
    "duration": 19,
    "start_time": "2021-09-12T18:18:08.447Z"
   },
   {
    "duration": 7,
    "start_time": "2021-09-12T18:18:14.395Z"
   },
   {
    "duration": 20,
    "start_time": "2021-09-12T18:18:16.885Z"
   },
   {
    "duration": 7,
    "start_time": "2021-09-12T18:18:17.672Z"
   },
   {
    "duration": 21,
    "start_time": "2021-09-12T18:18:35.350Z"
   },
   {
    "duration": 6,
    "start_time": "2021-09-12T18:18:36.633Z"
   },
   {
    "duration": 379,
    "start_time": "2021-09-12T18:19:34.760Z"
   },
   {
    "duration": 23,
    "start_time": "2021-09-12T18:19:38.352Z"
   },
   {
    "duration": 9,
    "start_time": "2021-09-12T18:19:39.031Z"
   },
   {
    "duration": 20,
    "start_time": "2021-09-12T18:20:12.810Z"
   },
   {
    "duration": 7,
    "start_time": "2021-09-12T18:20:16.174Z"
   },
   {
    "duration": 20,
    "start_time": "2021-09-12T18:20:17.998Z"
   },
   {
    "duration": 6,
    "start_time": "2021-09-12T18:20:19.422Z"
   },
   {
    "duration": 6,
    "start_time": "2021-09-12T18:28:08.521Z"
   },
   {
    "duration": 6,
    "start_time": "2021-09-12T18:28:14.029Z"
   },
   {
    "duration": 1381,
    "start_time": "2021-09-13T05:02:26.552Z"
   },
   {
    "duration": 66,
    "start_time": "2021-09-13T05:02:27.934Z"
   },
   {
    "duration": 62,
    "start_time": "2021-09-13T05:02:28.002Z"
   },
   {
    "duration": 55,
    "start_time": "2021-09-13T05:02:28.066Z"
   },
   {
    "duration": 9,
    "start_time": "2021-09-13T05:02:28.122Z"
   },
   {
    "duration": 68,
    "start_time": "2021-09-13T05:02:28.132Z"
   },
   {
    "duration": 44,
    "start_time": "2021-09-13T05:02:28.202Z"
   },
   {
    "duration": 52,
    "start_time": "2021-09-13T05:02:28.248Z"
   },
   {
    "duration": 25,
    "start_time": "2021-09-13T05:02:28.302Z"
   },
   {
    "duration": 10,
    "start_time": "2021-09-13T05:02:28.328Z"
   },
   {
    "duration": 12,
    "start_time": "2021-09-13T05:02:28.340Z"
   },
   {
    "duration": 181,
    "start_time": "2021-09-13T05:02:28.353Z"
   },
   {
    "duration": 56,
    "start_time": "2021-09-13T05:02:28.536Z"
   },
   {
    "duration": 29,
    "start_time": "2021-09-13T05:02:28.594Z"
   },
   {
    "duration": 35,
    "start_time": "2021-09-13T05:02:28.624Z"
   },
   {
    "duration": 83,
    "start_time": "2021-09-13T05:02:28.661Z"
   },
   {
    "duration": 82,
    "start_time": "2021-09-13T05:02:28.746Z"
   },
   {
    "duration": 93,
    "start_time": "2021-09-13T05:02:28.829Z"
   },
   {
    "duration": 45,
    "start_time": "2021-09-13T05:02:28.923Z"
   },
   {
    "duration": 27,
    "start_time": "2021-09-13T05:02:28.969Z"
   },
   {
    "duration": 18,
    "start_time": "2021-09-13T05:02:28.998Z"
   },
   {
    "duration": 18,
    "start_time": "2021-09-13T05:02:29.017Z"
   },
   {
    "duration": 6,
    "start_time": "2021-09-13T05:02:29.038Z"
   },
   {
    "duration": 51,
    "start_time": "2021-09-13T05:02:29.046Z"
   },
   {
    "duration": 381,
    "start_time": "2021-09-13T05:02:29.098Z"
   },
   {
    "duration": 369,
    "start_time": "2021-09-13T05:02:29.480Z"
   },
   {
    "duration": 370,
    "start_time": "2021-09-13T05:02:29.851Z"
   },
   {
    "duration": 15,
    "start_time": "2021-09-13T05:02:30.222Z"
   },
   {
    "duration": 4,
    "start_time": "2021-09-13T05:02:30.239Z"
   },
   {
    "duration": 22,
    "start_time": "2021-09-13T05:02:30.244Z"
   },
   {
    "duration": 17,
    "start_time": "2021-09-13T05:02:30.268Z"
   },
   {
    "duration": 8,
    "start_time": "2021-09-13T05:10:48.845Z"
   },
   {
    "duration": 328,
    "start_time": "2021-09-13T13:14:33.791Z"
   },
   {
    "duration": 1520,
    "start_time": "2021-09-13T13:14:38.553Z"
   },
   {
    "duration": 76,
    "start_time": "2021-09-13T13:14:40.075Z"
   },
   {
    "duration": 68,
    "start_time": "2021-09-13T13:14:40.153Z"
   },
   {
    "duration": 64,
    "start_time": "2021-09-13T13:14:40.223Z"
   },
   {
    "duration": 12,
    "start_time": "2021-09-13T13:14:40.289Z"
   },
   {
    "duration": 77,
    "start_time": "2021-09-13T13:14:40.303Z"
   },
   {
    "duration": 68,
    "start_time": "2021-09-13T13:14:40.382Z"
   },
   {
    "duration": 35,
    "start_time": "2021-09-13T13:14:40.453Z"
   },
   {
    "duration": 28,
    "start_time": "2021-09-13T13:14:40.490Z"
   },
   {
    "duration": 29,
    "start_time": "2021-09-13T13:14:40.520Z"
   },
   {
    "duration": 15,
    "start_time": "2021-09-13T13:14:40.551Z"
   },
   {
    "duration": 147,
    "start_time": "2021-09-13T13:14:40.568Z"
   },
   {
    "duration": 65,
    "start_time": "2021-09-13T13:14:40.716Z"
   },
   {
    "duration": 32,
    "start_time": "2021-09-13T13:14:40.783Z"
   },
   {
    "duration": 52,
    "start_time": "2021-09-13T13:14:40.817Z"
   },
   {
    "duration": 82,
    "start_time": "2021-09-13T13:14:40.871Z"
   },
   {
    "duration": 91,
    "start_time": "2021-09-13T13:14:40.955Z"
   },
   {
    "duration": 109,
    "start_time": "2021-09-13T13:14:41.048Z"
   },
   {
    "duration": 6883,
    "start_time": "2021-09-13T13:14:41.159Z"
   },
   {
    "duration": -110232,
    "start_time": "2021-09-13T13:16:38.277Z"
   },
   {
    "duration": -110236,
    "start_time": "2021-09-13T13:16:38.282Z"
   },
   {
    "duration": -110238,
    "start_time": "2021-09-13T13:16:38.285Z"
   },
   {
    "duration": -110240,
    "start_time": "2021-09-13T13:16:38.289Z"
   },
   {
    "duration": -110242,
    "start_time": "2021-09-13T13:16:38.292Z"
   },
   {
    "duration": -110246,
    "start_time": "2021-09-13T13:16:38.298Z"
   },
   {
    "duration": -110249,
    "start_time": "2021-09-13T13:16:38.302Z"
   },
   {
    "duration": -110250,
    "start_time": "2021-09-13T13:16:38.304Z"
   },
   {
    "duration": -110251,
    "start_time": "2021-09-13T13:16:38.307Z"
   },
   {
    "duration": -110254,
    "start_time": "2021-09-13T13:16:38.311Z"
   },
   {
    "duration": -110256,
    "start_time": "2021-09-13T13:16:38.315Z"
   },
   {
    "duration": -110257,
    "start_time": "2021-09-13T13:16:38.318Z"
   },
   {
    "duration": -110260,
    "start_time": "2021-09-13T13:16:38.322Z"
   },
   {
    "duration": 300,
    "start_time": "2021-09-13T13:15:46.013Z"
   },
   {
    "duration": 52,
    "start_time": "2021-09-13T13:16:16.198Z"
   },
   {
    "duration": 37,
    "start_time": "2021-09-13T13:16:37.428Z"
   },
   {
    "duration": 10,
    "start_time": "2021-09-13T13:16:43.357Z"
   },
   {
    "duration": 301,
    "start_time": "2021-09-13T13:16:52.157Z"
   },
   {
    "duration": 92,
    "start_time": "2021-09-13T13:17:01.798Z"
   },
   {
    "duration": 323,
    "start_time": "2021-09-13T13:17:10.565Z"
   },
   {
    "duration": 316,
    "start_time": "2021-09-13T13:17:16.624Z"
   },
   {
    "duration": 115,
    "start_time": "2021-09-13T13:17:23.087Z"
   },
   {
    "duration": 92,
    "start_time": "2021-09-13T13:17:58.207Z"
   },
   {
    "duration": 26,
    "start_time": "2021-09-13T13:18:02.877Z"
   },
   {
    "duration": 51,
    "start_time": "2021-09-13T13:18:13.294Z"
   },
   {
    "duration": 9,
    "start_time": "2021-09-13T13:18:26.662Z"
   },
   {
    "duration": 87,
    "start_time": "2021-09-13T13:18:47.096Z"
   },
   {
    "duration": 103,
    "start_time": "2021-09-13T13:18:54.887Z"
   },
   {
    "duration": 103,
    "start_time": "2021-09-13T13:19:05.511Z"
   },
   {
    "duration": 74,
    "start_time": "2021-09-13T13:19:36.208Z"
   },
   {
    "duration": 38,
    "start_time": "2021-09-13T13:23:29.707Z"
   },
   {
    "duration": 27,
    "start_time": "2021-09-13T13:23:35.866Z"
   },
   {
    "duration": 10,
    "start_time": "2021-09-13T13:23:38.298Z"
   },
   {
    "duration": 313,
    "start_time": "2021-09-13T13:23:50.788Z"
   },
   {
    "duration": 54,
    "start_time": "2021-09-13T13:23:56.642Z"
   },
   {
    "duration": 56,
    "start_time": "2021-09-13T13:25:31.190Z"
   },
   {
    "duration": 11,
    "start_time": "2021-09-13T13:25:34.100Z"
   },
   {
    "duration": 336,
    "start_time": "2021-09-13T13:26:29.895Z"
   },
   {
    "duration": 53,
    "start_time": "2021-09-13T13:26:37.693Z"
   },
   {
    "duration": 1794,
    "start_time": "2021-09-13T13:26:55.966Z"
   },
   {
    "duration": 78,
    "start_time": "2021-09-13T13:26:57.762Z"
   },
   {
    "duration": 72,
    "start_time": "2021-09-13T13:26:57.845Z"
   },
   {
    "duration": 48,
    "start_time": "2021-09-13T13:26:57.941Z"
   },
   {
    "duration": 11,
    "start_time": "2021-09-13T13:26:57.990Z"
   },
   {
    "duration": 82,
    "start_time": "2021-09-13T13:26:58.003Z"
   },
   {
    "duration": 74,
    "start_time": "2021-09-13T13:26:58.089Z"
   },
   {
    "duration": 35,
    "start_time": "2021-09-13T13:26:58.165Z"
   },
   {
    "duration": 44,
    "start_time": "2021-09-13T13:26:58.202Z"
   },
   {
    "duration": 11,
    "start_time": "2021-09-13T13:26:58.248Z"
   },
   {
    "duration": 13,
    "start_time": "2021-09-13T13:26:58.261Z"
   },
   {
    "duration": 143,
    "start_time": "2021-09-13T13:26:58.276Z"
   },
   {
    "duration": 63,
    "start_time": "2021-09-13T13:26:58.421Z"
   },
   {
    "duration": 32,
    "start_time": "2021-09-13T13:26:58.486Z"
   },
   {
    "duration": 51,
    "start_time": "2021-09-13T13:26:58.519Z"
   },
   {
    "duration": 86,
    "start_time": "2021-09-13T13:26:58.572Z"
   },
   {
    "duration": 103,
    "start_time": "2021-09-13T13:26:58.660Z"
   },
   {
    "duration": 114,
    "start_time": "2021-09-13T13:26:58.764Z"
   },
   {
    "duration": 65,
    "start_time": "2021-09-13T13:26:58.880Z"
   },
   {
    "duration": 10,
    "start_time": "2021-09-13T13:26:58.946Z"
   },
   {
    "duration": 19,
    "start_time": "2021-09-13T13:26:58.958Z"
   },
   {
    "duration": 26,
    "start_time": "2021-09-13T13:26:58.981Z"
   },
   {
    "duration": 37,
    "start_time": "2021-09-13T13:26:59.009Z"
   },
   {
    "duration": 7,
    "start_time": "2021-09-13T13:26:59.048Z"
   },
   {
    "duration": 25,
    "start_time": "2021-09-13T13:26:59.057Z"
   },
   {
    "duration": 428,
    "start_time": "2021-09-13T13:26:59.084Z"
   },
   {
    "duration": 372,
    "start_time": "2021-09-13T13:26:59.514Z"
   },
   {
    "duration": 398,
    "start_time": "2021-09-13T13:26:59.887Z"
   },
   {
    "duration": 16,
    "start_time": "2021-09-13T13:27:00.287Z"
   },
   {
    "duration": 17,
    "start_time": "2021-09-13T13:27:00.305Z"
   },
   {
    "duration": 54,
    "start_time": "2021-09-13T13:27:00.323Z"
   },
   {
    "duration": 10,
    "start_time": "2021-09-13T13:27:00.379Z"
   },
   {
    "duration": 388,
    "start_time": "2021-09-13T13:28:08.495Z"
   },
   {
    "duration": 301,
    "start_time": "2021-09-13T13:28:16.185Z"
   },
   {
    "duration": 319,
    "start_time": "2021-09-13T13:28:39.722Z"
   },
   {
    "duration": 21,
    "start_time": "2021-09-13T13:28:45.217Z"
   },
   {
    "duration": 33,
    "start_time": "2021-09-13T13:28:58.506Z"
   },
   {
    "duration": 32,
    "start_time": "2021-09-13T13:29:02.992Z"
   },
   {
    "duration": 38,
    "start_time": "2021-09-13T13:29:16.032Z"
   },
   {
    "duration": 18,
    "start_time": "2021-09-13T13:29:58.280Z"
   },
   {
    "duration": 17,
    "start_time": "2021-09-13T13:29:58.824Z"
   },
   {
    "duration": 18,
    "start_time": "2021-09-13T13:30:31.392Z"
   },
   {
    "duration": 478,
    "start_time": "2021-09-13T13:31:30.962Z"
   },
   {
    "duration": 401,
    "start_time": "2021-09-13T13:31:33.081Z"
   },
   {
    "duration": 410,
    "start_time": "2021-09-13T13:31:33.979Z"
   },
   {
    "duration": 491,
    "start_time": "2021-09-13T13:31:47.714Z"
   },
   {
    "duration": 577,
    "start_time": "2021-09-13T13:31:58.257Z"
   },
   {
    "duration": 571,
    "start_time": "2021-09-13T13:32:30.219Z"
   },
   {
    "duration": 511,
    "start_time": "2021-09-13T13:32:30.792Z"
   },
   {
    "duration": 501,
    "start_time": "2021-09-13T13:32:31.403Z"
   },
   {
    "duration": 690,
    "start_time": "2021-09-13T13:32:44.323Z"
   },
   {
    "duration": 523,
    "start_time": "2021-09-13T13:33:39.440Z"
   },
   {
    "duration": 594,
    "start_time": "2021-09-13T13:34:08.116Z"
   },
   {
    "duration": 711,
    "start_time": "2021-09-13T13:34:14.566Z"
   },
   {
    "duration": 516,
    "start_time": "2021-09-13T13:34:17.819Z"
   },
   {
    "duration": 506,
    "start_time": "2021-09-13T13:35:09.101Z"
   },
   {
    "duration": 7065,
    "start_time": "2021-09-13T13:36:03.407Z"
   },
   {
    "duration": 6964,
    "start_time": "2021-09-13T13:36:18.615Z"
   },
   {
    "duration": 819,
    "start_time": "2021-09-13T13:38:44.673Z"
   },
   {
    "duration": 486,
    "start_time": "2021-09-13T13:38:57.347Z"
   },
   {
    "duration": 612,
    "start_time": "2021-09-13T13:39:03.568Z"
   },
   {
    "duration": 104,
    "start_time": "2021-09-13T13:39:12.960Z"
   },
   {
    "duration": 733,
    "start_time": "2021-09-13T13:39:17.504Z"
   },
   {
    "duration": 489,
    "start_time": "2021-09-13T13:39:23.922Z"
   },
   {
    "duration": 6133,
    "start_time": "2021-09-13T13:39:34.448Z"
   },
   {
    "duration": 853,
    "start_time": "2021-09-13T13:41:20.598Z"
   },
   {
    "duration": 580,
    "start_time": "2021-09-13T13:41:43.987Z"
   },
   {
    "duration": 94,
    "start_time": "2021-09-13T13:42:09.122Z"
   },
   {
    "duration": 928,
    "start_time": "2021-09-13T13:42:16.302Z"
   },
   {
    "duration": 504,
    "start_time": "2021-09-13T13:42:29.092Z"
   },
   {
    "duration": 92,
    "start_time": "2021-09-13T13:43:30.750Z"
   },
   {
    "duration": 4390,
    "start_time": "2021-09-13T13:43:41.452Z"
   },
   {
    "duration": 800,
    "start_time": "2021-09-13T13:44:18.471Z"
   },
   {
    "duration": 3992,
    "start_time": "2021-09-13T13:44:24.822Z"
   },
   {
    "duration": 515,
    "start_time": "2021-09-13T13:46:38.014Z"
   },
   {
    "duration": 870,
    "start_time": "2021-09-13T13:46:51.782Z"
   },
   {
    "duration": 524,
    "start_time": "2021-09-13T13:47:10.232Z"
   },
   {
    "duration": 495,
    "start_time": "2021-09-13T13:49:35.378Z"
   },
   {
    "duration": 479,
    "start_time": "2021-09-13T13:49:39.865Z"
   },
   {
    "duration": 578,
    "start_time": "2021-09-13T13:49:59.665Z"
   },
   {
    "duration": 535,
    "start_time": "2021-09-13T13:50:13.417Z"
   },
   {
    "duration": 454,
    "start_time": "2021-09-13T13:50:22.209Z"
   },
   {
    "duration": 580,
    "start_time": "2021-09-13T13:50:29.105Z"
   },
   {
    "duration": 650,
    "start_time": "2021-09-13T13:51:03.402Z"
   },
   {
    "duration": 632,
    "start_time": "2021-09-13T13:52:07.051Z"
   },
   {
    "duration": 611,
    "start_time": "2021-09-13T13:52:38.916Z"
   },
   {
    "duration": 720,
    "start_time": "2021-09-13T13:52:41.028Z"
   },
   {
    "duration": 16,
    "start_time": "2021-09-13T13:53:32.844Z"
   },
   {
    "duration": 5,
    "start_time": "2021-09-13T13:53:33.075Z"
   },
   {
    "duration": 17,
    "start_time": "2021-09-13T13:53:34.451Z"
   },
   {
    "duration": 5,
    "start_time": "2021-09-13T13:53:34.980Z"
   },
   {
    "duration": 16,
    "start_time": "2021-09-13T13:54:57.910Z"
   },
   {
    "duration": 5,
    "start_time": "2021-09-13T13:54:58.245Z"
   },
   {
    "duration": 18,
    "start_time": "2021-09-13T13:54:59.309Z"
   },
   {
    "duration": 5,
    "start_time": "2021-09-13T13:54:59.860Z"
   },
   {
    "duration": 19,
    "start_time": "2021-09-13T13:58:36.312Z"
   },
   {
    "duration": 5,
    "start_time": "2021-09-13T13:58:39.016Z"
   },
   {
    "duration": 17,
    "start_time": "2021-09-13T14:01:39.299Z"
   },
   {
    "duration": 20,
    "start_time": "2021-09-13T14:02:20.549Z"
   },
   {
    "duration": 18,
    "start_time": "2021-09-13T14:03:17.947Z"
   },
   {
    "duration": 17,
    "start_time": "2021-09-13T14:03:51.076Z"
   },
   {
    "duration": 18,
    "start_time": "2021-09-13T14:03:51.556Z"
   },
   {
    "duration": 18,
    "start_time": "2021-09-13T14:03:58.092Z"
   },
   {
    "duration": 58,
    "start_time": "2021-09-13T14:10:24.269Z"
   },
   {
    "duration": 89,
    "start_time": "2021-09-13T14:18:30.186Z"
   },
   {
    "duration": 517,
    "start_time": "2021-09-13T14:19:49.658Z"
   },
   {
    "duration": 103,
    "start_time": "2021-09-13T14:24:55.462Z"
   },
   {
    "duration": 288,
    "start_time": "2021-09-13T14:26:12.182Z"
   },
   {
    "duration": 1720,
    "start_time": "2021-09-13T14:26:21.723Z"
   },
   {
    "duration": 78,
    "start_time": "2021-09-13T14:26:23.445Z"
   },
   {
    "duration": 71,
    "start_time": "2021-09-13T14:26:23.542Z"
   },
   {
    "duration": 70,
    "start_time": "2021-09-13T14:26:23.615Z"
   },
   {
    "duration": 10,
    "start_time": "2021-09-13T14:26:23.687Z"
   },
   {
    "duration": 78,
    "start_time": "2021-09-13T14:26:23.699Z"
   },
   {
    "duration": 66,
    "start_time": "2021-09-13T14:26:23.778Z"
   },
   {
    "duration": 42,
    "start_time": "2021-09-13T14:26:23.847Z"
   },
   {
    "duration": 28,
    "start_time": "2021-09-13T14:26:23.891Z"
   },
   {
    "duration": 28,
    "start_time": "2021-09-13T14:26:23.921Z"
   },
   {
    "duration": 13,
    "start_time": "2021-09-13T14:26:23.951Z"
   },
   {
    "duration": 150,
    "start_time": "2021-09-13T14:26:23.966Z"
   },
   {
    "duration": 67,
    "start_time": "2021-09-13T14:26:24.117Z"
   },
   {
    "duration": 34,
    "start_time": "2021-09-13T14:26:24.185Z"
   },
   {
    "duration": 47,
    "start_time": "2021-09-13T14:26:24.221Z"
   },
   {
    "duration": 90,
    "start_time": "2021-09-13T14:26:24.270Z"
   },
   {
    "duration": 97,
    "start_time": "2021-09-13T14:26:24.362Z"
   },
   {
    "duration": 115,
    "start_time": "2021-09-13T14:26:24.460Z"
   },
   {
    "duration": 63,
    "start_time": "2021-09-13T14:26:24.577Z"
   },
   {
    "duration": 9,
    "start_time": "2021-09-13T14:26:24.643Z"
   },
   {
    "duration": 15,
    "start_time": "2021-09-13T14:26:24.654Z"
   },
   {
    "duration": 20,
    "start_time": "2021-09-13T14:26:24.670Z"
   },
   {
    "duration": 53,
    "start_time": "2021-09-13T14:26:24.693Z"
   },
   {
    "duration": 15,
    "start_time": "2021-09-13T14:26:24.748Z"
   },
   {
    "duration": 16,
    "start_time": "2021-09-13T14:26:24.765Z"
   },
   {
    "duration": 70,
    "start_time": "2021-09-13T14:26:24.782Z"
   },
   {
    "duration": 634,
    "start_time": "2021-09-13T14:26:24.854Z"
   },
   {
    "duration": 616,
    "start_time": "2021-09-13T14:26:25.489Z"
   },
   {
    "duration": 676,
    "start_time": "2021-09-13T14:26:26.107Z"
   },
   {
    "duration": 16,
    "start_time": "2021-09-13T14:26:26.785Z"
   },
   {
    "duration": 33,
    "start_time": "2021-09-13T14:26:26.803Z"
   },
   {
    "duration": 19,
    "start_time": "2021-09-13T14:26:26.838Z"
   },
   {
    "duration": 65,
    "start_time": "2021-09-13T14:26:26.859Z"
   },
   {
    "duration": 39,
    "start_time": "2021-09-13T14:27:57.576Z"
   },
   {
    "duration": 89,
    "start_time": "2021-09-13T14:28:06.294Z"
   },
   {
    "duration": 91,
    "start_time": "2021-09-13T14:28:09.822Z"
   },
   {
    "duration": 41,
    "start_time": "2021-09-13T14:28:16.528Z"
   },
   {
    "duration": 42,
    "start_time": "2021-09-13T14:28:33.368Z"
   },
   {
    "duration": 80,
    "start_time": "2021-09-13T14:28:45.791Z"
   },
   {
    "duration": 84,
    "start_time": "2021-09-13T14:29:13.574Z"
   },
   {
    "duration": 139,
    "start_time": "2021-09-13T14:29:46.504Z"
   },
   {
    "duration": 1681,
    "start_time": "2021-09-13T14:29:54.512Z"
   },
   {
    "duration": 100,
    "start_time": "2021-09-13T14:29:56.196Z"
   },
   {
    "duration": 97,
    "start_time": "2021-09-13T14:29:56.299Z"
   },
   {
    "duration": 65,
    "start_time": "2021-09-13T14:29:56.398Z"
   },
   {
    "duration": 10,
    "start_time": "2021-09-13T14:29:56.465Z"
   },
   {
    "duration": 80,
    "start_time": "2021-09-13T14:29:56.477Z"
   },
   {
    "duration": 50,
    "start_time": "2021-09-13T14:29:56.559Z"
   },
   {
    "duration": 61,
    "start_time": "2021-09-13T14:29:56.612Z"
   },
   {
    "duration": 30,
    "start_time": "2021-09-13T14:29:56.675Z"
   },
   {
    "duration": 34,
    "start_time": "2021-09-13T14:29:56.708Z"
   },
   {
    "duration": 10,
    "start_time": "2021-09-13T14:29:56.744Z"
   },
   {
    "duration": 143,
    "start_time": "2021-09-13T14:29:56.755Z"
   },
   {
    "duration": 66,
    "start_time": "2021-09-13T14:29:56.900Z"
   },
   {
    "duration": 35,
    "start_time": "2021-09-13T14:29:56.968Z"
   },
   {
    "duration": 54,
    "start_time": "2021-09-13T14:29:57.005Z"
   },
   {
    "duration": 94,
    "start_time": "2021-09-13T14:29:57.061Z"
   },
   {
    "duration": 98,
    "start_time": "2021-09-13T14:29:57.157Z"
   },
   {
    "duration": 120,
    "start_time": "2021-09-13T14:29:57.257Z"
   },
   {
    "duration": 64,
    "start_time": "2021-09-13T14:29:57.379Z"
   },
   {
    "duration": 10,
    "start_time": "2021-09-13T14:29:57.444Z"
   },
   {
    "duration": 25,
    "start_time": "2021-09-13T14:29:57.455Z"
   },
   {
    "duration": 41,
    "start_time": "2021-09-13T14:29:57.482Z"
   },
   {
    "duration": 25,
    "start_time": "2021-09-13T14:29:57.526Z"
   },
   {
    "duration": 16,
    "start_time": "2021-09-13T14:29:57.553Z"
   },
   {
    "duration": 19,
    "start_time": "2021-09-13T14:29:57.571Z"
   },
   {
    "duration": 62,
    "start_time": "2021-09-13T14:29:57.592Z"
   },
   {
    "duration": 764,
    "start_time": "2021-09-13T14:29:57.656Z"
   },
   {
    "duration": 632,
    "start_time": "2021-09-13T14:29:58.422Z"
   },
   {
    "duration": 706,
    "start_time": "2021-09-13T14:29:59.055Z"
   },
   {
    "duration": 22,
    "start_time": "2021-09-13T14:29:59.763Z"
   },
   {
    "duration": 16,
    "start_time": "2021-09-13T14:29:59.787Z"
   },
   {
    "duration": 44,
    "start_time": "2021-09-13T14:29:59.804Z"
   },
   {
    "duration": 65,
    "start_time": "2021-09-13T14:29:59.850Z"
   },
   {
    "duration": 116,
    "start_time": "2021-09-13T14:36:57.777Z"
   },
   {
    "duration": 111,
    "start_time": "2021-09-13T14:37:10.442Z"
   },
   {
    "duration": 119,
    "start_time": "2021-09-13T14:37:17.643Z"
   },
   {
    "duration": 1549,
    "start_time": "2021-09-13T14:37:24.490Z"
   },
   {
    "duration": 101,
    "start_time": "2021-09-13T14:37:26.041Z"
   },
   {
    "duration": 96,
    "start_time": "2021-09-13T14:37:26.145Z"
   },
   {
    "duration": 47,
    "start_time": "2021-09-13T14:37:26.243Z"
   },
   {
    "duration": 10,
    "start_time": "2021-09-13T14:37:26.292Z"
   },
   {
    "duration": 79,
    "start_time": "2021-09-13T14:37:26.304Z"
   },
   {
    "duration": 63,
    "start_time": "2021-09-13T14:37:26.385Z"
   },
   {
    "duration": 36,
    "start_time": "2021-09-13T14:37:26.450Z"
   },
   {
    "duration": 28,
    "start_time": "2021-09-13T14:37:26.489Z"
   },
   {
    "duration": 12,
    "start_time": "2021-09-13T14:37:26.541Z"
   },
   {
    "duration": 13,
    "start_time": "2021-09-13T14:37:26.555Z"
   },
   {
    "duration": 173,
    "start_time": "2021-09-13T14:37:26.570Z"
   },
   {
    "duration": 42,
    "start_time": "2021-09-13T14:37:26.745Z"
   },
   {
    "duration": 32,
    "start_time": "2021-09-13T14:37:26.789Z"
   },
   {
    "duration": 55,
    "start_time": "2021-09-13T14:37:26.822Z"
   },
   {
    "duration": 91,
    "start_time": "2021-09-13T14:37:26.879Z"
   },
   {
    "duration": 98,
    "start_time": "2021-09-13T14:37:26.972Z"
   },
   {
    "duration": 107,
    "start_time": "2021-09-13T14:37:27.072Z"
   },
   {
    "duration": 63,
    "start_time": "2021-09-13T14:37:27.181Z"
   },
   {
    "duration": 9,
    "start_time": "2021-09-13T14:37:27.246Z"
   },
   {
    "duration": 15,
    "start_time": "2021-09-13T14:37:27.257Z"
   },
   {
    "duration": 19,
    "start_time": "2021-09-13T14:37:27.274Z"
   },
   {
    "duration": 49,
    "start_time": "2021-09-13T14:37:27.297Z"
   },
   {
    "duration": 17,
    "start_time": "2021-09-13T14:37:27.348Z"
   },
   {
    "duration": 15,
    "start_time": "2021-09-13T14:37:27.366Z"
   },
   {
    "duration": 68,
    "start_time": "2021-09-13T14:37:27.383Z"
   },
   {
    "duration": 625,
    "start_time": "2021-09-13T14:37:27.453Z"
   },
   {
    "duration": 596,
    "start_time": "2021-09-13T14:37:28.080Z"
   },
   {
    "duration": 694,
    "start_time": "2021-09-13T14:37:28.678Z"
   },
   {
    "duration": 17,
    "start_time": "2021-09-13T14:37:29.375Z"
   },
   {
    "duration": 19,
    "start_time": "2021-09-13T14:37:29.394Z"
   },
   {
    "duration": 42,
    "start_time": "2021-09-13T14:37:29.415Z"
   },
   {
    "duration": 57,
    "start_time": "2021-09-13T14:37:29.459Z"
   },
   {
    "duration": 1978,
    "start_time": "2021-09-14T05:03:16.842Z"
   },
   {
    "duration": 97,
    "start_time": "2021-09-14T05:03:18.823Z"
   },
   {
    "duration": 115,
    "start_time": "2021-09-14T05:03:18.923Z"
   },
   {
    "duration": 65,
    "start_time": "2021-09-14T05:03:19.061Z"
   },
   {
    "duration": 47,
    "start_time": "2021-09-14T05:03:19.130Z"
   },
   {
    "duration": 108,
    "start_time": "2021-09-14T05:03:19.180Z"
   },
   {
    "duration": 83,
    "start_time": "2021-09-14T05:03:19.291Z"
   },
   {
    "duration": 46,
    "start_time": "2021-09-14T05:03:19.380Z"
   },
   {
    "duration": 60,
    "start_time": "2021-09-14T05:03:19.430Z"
   },
   {
    "duration": 16,
    "start_time": "2021-09-14T05:03:19.493Z"
   },
   {
    "duration": 21,
    "start_time": "2021-09-14T05:03:19.511Z"
   },
   {
    "duration": 221,
    "start_time": "2021-09-14T05:03:19.535Z"
   },
   {
    "duration": 57,
    "start_time": "2021-09-14T05:03:19.759Z"
   },
   {
    "duration": 65,
    "start_time": "2021-09-14T05:03:19.819Z"
   },
   {
    "duration": 54,
    "start_time": "2021-09-14T05:03:19.887Z"
   },
   {
    "duration": 141,
    "start_time": "2021-09-14T05:03:19.943Z"
   },
   {
    "duration": 146,
    "start_time": "2021-09-14T05:03:20.086Z"
   },
   {
    "duration": 168,
    "start_time": "2021-09-14T05:03:20.234Z"
   },
   {
    "duration": 88,
    "start_time": "2021-09-14T05:03:20.404Z"
   },
   {
    "duration": 13,
    "start_time": "2021-09-14T05:03:20.494Z"
   },
   {
    "duration": 20,
    "start_time": "2021-09-14T05:03:20.509Z"
   },
   {
    "duration": 52,
    "start_time": "2021-09-14T05:03:20.531Z"
   },
   {
    "duration": 28,
    "start_time": "2021-09-14T05:03:20.588Z"
   },
   {
    "duration": 51,
    "start_time": "2021-09-14T05:03:20.619Z"
   },
   {
    "duration": 19,
    "start_time": "2021-09-14T05:03:20.672Z"
   },
   {
    "duration": 87,
    "start_time": "2021-09-14T05:03:20.693Z"
   },
   {
    "duration": 995,
    "start_time": "2021-09-14T05:03:20.782Z"
   },
   {
    "duration": 909,
    "start_time": "2021-09-14T05:03:21.780Z"
   },
   {
    "duration": 1031,
    "start_time": "2021-09-14T05:03:22.692Z"
   },
   {
    "duration": 21,
    "start_time": "2021-09-14T05:03:23.725Z"
   },
   {
    "duration": 23,
    "start_time": "2021-09-14T05:03:23.761Z"
   },
   {
    "duration": 44,
    "start_time": "2021-09-14T05:03:23.786Z"
   },
   {
    "duration": 91,
    "start_time": "2021-09-14T05:03:23.832Z"
   },
   {
    "duration": 469,
    "start_time": "2021-09-15T08:42:16.141Z"
   },
   {
    "duration": 1967,
    "start_time": "2021-09-15T08:42:20.678Z"
   },
   {
    "duration": 117,
    "start_time": "2021-09-15T08:42:22.647Z"
   },
   {
    "duration": 121,
    "start_time": "2021-09-15T08:42:22.767Z"
   },
   {
    "duration": 86,
    "start_time": "2021-09-15T08:42:22.891Z"
   },
   {
    "duration": 17,
    "start_time": "2021-09-15T08:42:22.979Z"
   },
   {
    "duration": 104,
    "start_time": "2021-09-15T08:42:22.999Z"
   },
   {
    "duration": 87,
    "start_time": "2021-09-15T08:42:23.106Z"
   },
   {
    "duration": 61,
    "start_time": "2021-09-15T08:42:23.196Z"
   },
   {
    "duration": 38,
    "start_time": "2021-09-15T08:42:23.260Z"
   },
   {
    "duration": 17,
    "start_time": "2021-09-15T08:42:23.301Z"
   },
   {
    "duration": 42,
    "start_time": "2021-09-15T08:42:23.320Z"
   },
   {
    "duration": 221,
    "start_time": "2021-09-15T08:42:23.364Z"
   },
   {
    "duration": 57,
    "start_time": "2021-09-15T08:42:23.587Z"
   },
   {
    "duration": 45,
    "start_time": "2021-09-15T08:42:23.655Z"
   },
   {
    "duration": 73,
    "start_time": "2021-09-15T08:42:23.703Z"
   },
   {
    "duration": 129,
    "start_time": "2021-09-15T08:42:23.779Z"
   },
   {
    "duration": 152,
    "start_time": "2021-09-15T08:42:23.911Z"
   },
   {
    "duration": 182,
    "start_time": "2021-09-15T08:42:24.065Z"
   },
   {
    "duration": 80,
    "start_time": "2021-09-15T08:42:24.254Z"
   },
   {
    "duration": 28,
    "start_time": "2021-09-15T08:42:24.336Z"
   },
   {
    "duration": 45,
    "start_time": "2021-09-15T08:42:24.367Z"
   },
   {
    "duration": 40,
    "start_time": "2021-09-15T08:42:24.415Z"
   },
   {
    "duration": 31,
    "start_time": "2021-09-15T08:42:24.459Z"
   },
   {
    "duration": 28,
    "start_time": "2021-09-15T08:42:24.493Z"
   },
   {
    "duration": 52,
    "start_time": "2021-09-15T08:42:24.524Z"
   },
   {
    "duration": 79,
    "start_time": "2021-09-15T08:42:24.578Z"
   },
   {
    "duration": 1013,
    "start_time": "2021-09-15T08:42:24.660Z"
   },
   {
    "duration": 986,
    "start_time": "2021-09-15T08:42:25.675Z"
   },
   {
    "duration": 1197,
    "start_time": "2021-09-15T08:42:26.664Z"
   },
   {
    "duration": 11,
    "start_time": "2021-09-15T08:42:27.864Z"
   },
   {
    "duration": 38,
    "start_time": "2021-09-15T08:42:27.878Z"
   },
   {
    "duration": 41,
    "start_time": "2021-09-15T08:42:27.918Z"
   },
   {
    "duration": 99,
    "start_time": "2021-09-15T08:42:27.962Z"
   },
   {
    "duration": 30,
    "start_time": "2021-09-15T08:43:12.085Z"
   },
   {
    "duration": 3,
    "start_time": "2021-09-15T08:45:35.782Z"
   },
   {
    "duration": 594,
    "start_time": "2021-09-15T08:45:36.036Z"
   },
   {
    "duration": 542,
    "start_time": "2021-09-15T08:45:56.751Z"
   },
   {
    "duration": 946,
    "start_time": "2021-09-15T08:46:22.704Z"
   },
   {
    "duration": 16,
    "start_time": "2021-09-15T08:46:53.959Z"
   },
   {
    "duration": 20,
    "start_time": "2021-09-15T08:47:53.783Z"
   },
   {
    "duration": 16,
    "start_time": "2021-09-15T08:48:00.091Z"
   },
   {
    "duration": 10,
    "start_time": "2021-09-15T08:50:02.816Z"
   },
   {
    "duration": 10,
    "start_time": "2021-09-15T08:50:03.990Z"
   },
   {
    "duration": 10,
    "start_time": "2021-09-15T08:50:05.251Z"
   },
   {
    "duration": 10,
    "start_time": "2021-09-15T08:51:34.076Z"
   },
   {
    "duration": 10,
    "start_time": "2021-09-15T08:51:35.041Z"
   },
   {
    "duration": 11,
    "start_time": "2021-09-15T08:51:37.042Z"
   },
   {
    "duration": 10,
    "start_time": "2021-09-15T08:51:37.939Z"
   },
   {
    "duration": 10,
    "start_time": "2021-09-15T08:51:38.613Z"
   },
   {
    "duration": 12,
    "start_time": "2021-09-15T08:51:39.302Z"
   }
  ],
  "kernelspec": {
   "display_name": "Python 3 (ipykernel)",
   "language": "python",
   "name": "python3"
  },
  "language_info": {
   "codemirror_mode": {
    "name": "ipython",
    "version": 3
   },
   "file_extension": ".py",
   "mimetype": "text/x-python",
   "name": "python",
   "nbconvert_exporter": "python",
   "pygments_lexer": "ipython3",
   "version": "3.9.5"
  },
  "toc": {
   "base_numbering": 1,
   "nav_menu": {
    "height": "103px",
    "width": "276px"
   },
   "number_sections": true,
   "sideBar": true,
   "skip_h1_title": true,
   "title_cell": "Содержание",
   "title_sidebar": "Contents",
   "toc_cell": true,
   "toc_position": {
    "height": "calc(100% - 180px)",
    "left": "10px",
    "top": "150px",
    "width": "366.391px"
   },
   "toc_section_display": true,
   "toc_window_display": false
  }
 },
 "nbformat": 4,
 "nbformat_minor": 2
}
