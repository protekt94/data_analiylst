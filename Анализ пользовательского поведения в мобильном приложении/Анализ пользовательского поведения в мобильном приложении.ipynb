{
 "cells": [
  {
   "cell_type": "markdown",
   "id": "08dc4161",
   "metadata": {
    "toc": true
   },
   "source": [
    "<h1>Содержание<span class=\"tocSkip\"></span></h1>\n",
    "<div class=\"toc\"><ul class=\"toc-item\"><li><span><a href=\"#Сборный-проект\" data-toc-modified-id=\"Сборный-проект-1\"><span class=\"toc-item-num\">1&nbsp;&nbsp;</span>Сборный проект</a></span></li><li><span><a href=\"#Знакомство-с-данными\" data-toc-modified-id=\"Знакомство-с-данными-2\"><span class=\"toc-item-num\">2&nbsp;&nbsp;</span>Знакомство с данными</a></span><ul class=\"toc-item\"><li><span><a href=\"#Импорт-библиотек\" data-toc-modified-id=\"Импорт-библиотек-2.1\"><span class=\"toc-item-num\">2.1&nbsp;&nbsp;</span>Импорт библиотек</a></span></li><li><span><a href=\"#Извлечение-данных\" data-toc-modified-id=\"Извлечение-данных-2.2\"><span class=\"toc-item-num\">2.2&nbsp;&nbsp;</span>Извлечение данных</a></span></li></ul></li><li><span><a href=\"#Исследовательский-анализ-данных-(EDA)\" data-toc-modified-id=\"Исследовательский-анализ-данных-(EDA)-3\"><span class=\"toc-item-num\">3&nbsp;&nbsp;</span>Исследовательский анализ данных (EDA)</a></span><ul class=\"toc-item\"><li><span><a href=\"#столбчатые-гистограммы-и-распределения-признаков-для-тех,-кто-ушёл-(отток)-и-тех,-кто-остался-(не-попали-в-отток)\" data-toc-modified-id=\"столбчатые-гистограммы-и-распределения-признаков-для-тех,-кто-ушёл-(отток)-и-тех,-кто-остался-(не-попали-в-отток)-3.1\"><span class=\"toc-item-num\">3.1&nbsp;&nbsp;</span>столбчатые гистограммы и распределения признаков для тех, кто ушёл (отток) и тех, кто остался (не попали в отток)</a></span></li><li><span><a href=\"#Матрица-корреляции\" data-toc-modified-id=\"Матрица-корреляции-3.2\"><span class=\"toc-item-num\">3.2&nbsp;&nbsp;</span>Матрица корреляции</a></span></li></ul></li><li><span><a href=\"#Модель-прогнозирования-оттока-клиентов\" data-toc-modified-id=\"Модель-прогнозирования-оттока-клиентов-4\"><span class=\"toc-item-num\">4&nbsp;&nbsp;</span>Модель прогнозирования оттока клиентов</a></span></li><li><span><a href=\"#Кластеризация-клиентов\" data-toc-modified-id=\"Кластеризация-клиентов-5\"><span class=\"toc-item-num\">5&nbsp;&nbsp;</span>Кластеризация клиентов</a></span><ul class=\"toc-item\"><li><span><a href=\"#Обучении-модели-кластеризации-на-основании-алгоритма-K-Means\" data-toc-modified-id=\"Обучении-модели-кластеризации-на-основании-алгоритма-K-Means-5.1\"><span class=\"toc-item-num\">5.1&nbsp;&nbsp;</span>Обучении модели кластеризации на основании алгоритма K-Means</a></span></li><li><span><a href=\"#Среднее-значение-признаков-для-кластеров\" data-toc-modified-id=\"Среднее-значение-признаков-для-кластеров-5.2\"><span class=\"toc-item-num\">5.2&nbsp;&nbsp;</span>Среднее значение признаков для кластеров</a></span></li></ul></li><li><span><a href=\"#Выводы-и-базовые-рекомендации-по-работе-с-клиентами\" data-toc-modified-id=\"Выводы-и-базовые-рекомендации-по-работе-с-клиентами-6\"><span class=\"toc-item-num\">6&nbsp;&nbsp;</span>Выводы и базовые рекомендации по работе с клиентами</a></span></li></ul></div>"
   ]
  },
  {
   "cell_type": "markdown",
   "id": "042017a3",
   "metadata": {},
   "source": [
    "# Сборный проект"
   ]
  },
  {
   "cell_type": "markdown",
   "id": "359b735b",
   "metadata": {},
   "source": [
    "Сеть фитнес-центров «Культурист-датасаентист» разрабатывает стратегию взаимодействия с клиентами на основе аналитических данных.\n",
    "\n",
    "Распространённая проблема фитнес-клубов и других сервисов — отток клиентов. Как понять, что клиент больше не с вами? Можно записать в отток тех, кто попросил закрыть договор или удалил аккаунт. Однако клиенты не всегда уходят демонстративно: чаще перестают пользоваться сервисом тихо.\n",
    "\n",
    "Индикаторы оттока зависят от специфики отрасли. Когда пользователь редко, но стабильно закупается в интернет-магазине — не похоже, что он «отвалился». А вот если две недели не заходит на канал с ежедневно обновляемым контентом, дела плохи: подписчик заскучал и, кажется, оставил вас.\n",
    "\n",
    "Для фитнес-центра можно считать, что клиент попал в отток, если за последний месяц ни разу не посетил спортзал. Конечно, не исключено, что он уехал на Бали и по приезде обязательно продолжит ходить на фитнес. Однако чаще бывает наоборот. Если клиент начал новую жизнь с понедельника, немного походил в спортзал, а потом пропал — скорее всего, он не вернётся.\n",
    "\n",
    "Чтобы бороться с оттоком, отдел по работе с клиентами «Культуриста-датасаентиста» перевёл в электронный вид множество клиентских анкет. Ваша задача — провести анализ и подготовить план действий по удержанию клиентов"
   ]
  },
  {
   "cell_type": "markdown",
   "id": "ffc7f19a",
   "metadata": {},
   "source": [
    "# Знакомство с данными"
   ]
  },
  {
   "cell_type": "markdown",
   "id": "ff60e6f6",
   "metadata": {},
   "source": [
    "## Импорт библиотек"
   ]
  },
  {
   "cell_type": "code",
   "execution_count": 1,
   "id": "6943a764",
   "metadata": {},
   "outputs": [],
   "source": [
    "import pandas as pd\n",
    "import math as mth\n",
    "import matplotlib.pyplot as plt\n",
    "from sklearn.linear_model import LogisticRegression\n",
    "from sklearn.model_selection import train_test_split\n",
    "from sklearn.ensemble import RandomForestRegressor\n",
    "from sklearn.metrics import accuracy_score, precision_score, recall_score\n",
    "from sklearn.metrics import mean_absolute_error\n",
    "from sklearn.tree import DecisionTreeClassifier\n",
    "from sklearn.preprocessing import StandardScaler\n",
    "from scipy.cluster.hierarchy import dendrogram, linkage\n",
    "from sklearn.cluster import KMeans\n",
    "import numpy as np\n",
    "from scipy import stats as st\n",
    "import seaborn as sns\n",
    "import matplotlib.dates as mdates\n",
    "import datetime as dt\n",
    "import scipy.stats as stats\n",
    "pd.set_option(\"max_colwidth\", 1)\n",
    "from pandas.plotting import register_matplotlib_converters\n",
    "import plotly.express as px"
   ]
  },
  {
   "cell_type": "markdown",
   "id": "42b92fe6",
   "metadata": {},
   "source": [
    "## Извлечение данных"
   ]
  },
  {
   "cell_type": "code",
   "execution_count": 2,
   "id": "21559061",
   "metadata": {},
   "outputs": [
    {
     "data": {
      "text/html": [
       "<div>\n",
       "<style scoped>\n",
       "    .dataframe tbody tr th:only-of-type {\n",
       "        vertical-align: middle;\n",
       "    }\n",
       "\n",
       "    .dataframe tbody tr th {\n",
       "        vertical-align: top;\n",
       "    }\n",
       "\n",
       "    .dataframe thead th {\n",
       "        text-align: right;\n",
       "    }\n",
       "</style>\n",
       "<table border=\"1\" class=\"dataframe\">\n",
       "  <thead>\n",
       "    <tr style=\"text-align: right;\">\n",
       "      <th></th>\n",
       "      <th>gender</th>\n",
       "      <th>Near_Location</th>\n",
       "      <th>Partner</th>\n",
       "      <th>Promo_friends</th>\n",
       "      <th>Phone</th>\n",
       "      <th>Contract_period</th>\n",
       "      <th>Group_visits</th>\n",
       "      <th>Age</th>\n",
       "      <th>Avg_additional_charges_total</th>\n",
       "      <th>Month_to_end_contract</th>\n",
       "      <th>Lifetime</th>\n",
       "      <th>Avg_class_frequency_total</th>\n",
       "      <th>Avg_class_frequency_current_month</th>\n",
       "      <th>Churn</th>\n",
       "    </tr>\n",
       "  </thead>\n",
       "  <tbody>\n",
       "    <tr>\n",
       "      <td>0</td>\n",
       "      <td>1</td>\n",
       "      <td>1</td>\n",
       "      <td>1</td>\n",
       "      <td>1</td>\n",
       "      <td>0</td>\n",
       "      <td>6</td>\n",
       "      <td>1</td>\n",
       "      <td>29</td>\n",
       "      <td>14.227470</td>\n",
       "      <td>5.0</td>\n",
       "      <td>3</td>\n",
       "      <td>0.020398</td>\n",
       "      <td>0.000000</td>\n",
       "      <td>0</td>\n",
       "    </tr>\n",
       "    <tr>\n",
       "      <td>1</td>\n",
       "      <td>0</td>\n",
       "      <td>1</td>\n",
       "      <td>0</td>\n",
       "      <td>0</td>\n",
       "      <td>1</td>\n",
       "      <td>12</td>\n",
       "      <td>1</td>\n",
       "      <td>31</td>\n",
       "      <td>113.202938</td>\n",
       "      <td>12.0</td>\n",
       "      <td>7</td>\n",
       "      <td>1.922936</td>\n",
       "      <td>1.910244</td>\n",
       "      <td>0</td>\n",
       "    </tr>\n",
       "    <tr>\n",
       "      <td>2</td>\n",
       "      <td>0</td>\n",
       "      <td>1</td>\n",
       "      <td>1</td>\n",
       "      <td>0</td>\n",
       "      <td>1</td>\n",
       "      <td>1</td>\n",
       "      <td>0</td>\n",
       "      <td>28</td>\n",
       "      <td>129.448479</td>\n",
       "      <td>1.0</td>\n",
       "      <td>2</td>\n",
       "      <td>1.859098</td>\n",
       "      <td>1.736502</td>\n",
       "      <td>0</td>\n",
       "    </tr>\n",
       "    <tr>\n",
       "      <td>3</td>\n",
       "      <td>0</td>\n",
       "      <td>1</td>\n",
       "      <td>1</td>\n",
       "      <td>1</td>\n",
       "      <td>1</td>\n",
       "      <td>12</td>\n",
       "      <td>1</td>\n",
       "      <td>33</td>\n",
       "      <td>62.669863</td>\n",
       "      <td>12.0</td>\n",
       "      <td>2</td>\n",
       "      <td>3.205633</td>\n",
       "      <td>3.357215</td>\n",
       "      <td>0</td>\n",
       "    </tr>\n",
       "    <tr>\n",
       "      <td>4</td>\n",
       "      <td>1</td>\n",
       "      <td>1</td>\n",
       "      <td>1</td>\n",
       "      <td>1</td>\n",
       "      <td>1</td>\n",
       "      <td>1</td>\n",
       "      <td>0</td>\n",
       "      <td>26</td>\n",
       "      <td>198.362265</td>\n",
       "      <td>1.0</td>\n",
       "      <td>3</td>\n",
       "      <td>1.113884</td>\n",
       "      <td>1.120078</td>\n",
       "      <td>0</td>\n",
       "    </tr>\n",
       "    <tr>\n",
       "      <td>...</td>\n",
       "      <td>...</td>\n",
       "      <td>...</td>\n",
       "      <td>...</td>\n",
       "      <td>...</td>\n",
       "      <td>...</td>\n",
       "      <td>...</td>\n",
       "      <td>...</td>\n",
       "      <td>...</td>\n",
       "      <td>...</td>\n",
       "      <td>...</td>\n",
       "      <td>...</td>\n",
       "      <td>...</td>\n",
       "      <td>...</td>\n",
       "      <td>...</td>\n",
       "    </tr>\n",
       "    <tr>\n",
       "      <td>3995</td>\n",
       "      <td>1</td>\n",
       "      <td>1</td>\n",
       "      <td>1</td>\n",
       "      <td>0</td>\n",
       "      <td>1</td>\n",
       "      <td>12</td>\n",
       "      <td>0</td>\n",
       "      <td>33</td>\n",
       "      <td>2.406023</td>\n",
       "      <td>12.0</td>\n",
       "      <td>8</td>\n",
       "      <td>2.284497</td>\n",
       "      <td>2.349070</td>\n",
       "      <td>0</td>\n",
       "    </tr>\n",
       "    <tr>\n",
       "      <td>3996</td>\n",
       "      <td>0</td>\n",
       "      <td>1</td>\n",
       "      <td>0</td>\n",
       "      <td>0</td>\n",
       "      <td>1</td>\n",
       "      <td>1</td>\n",
       "      <td>1</td>\n",
       "      <td>29</td>\n",
       "      <td>68.883764</td>\n",
       "      <td>1.0</td>\n",
       "      <td>1</td>\n",
       "      <td>1.277168</td>\n",
       "      <td>0.292859</td>\n",
       "      <td>1</td>\n",
       "    </tr>\n",
       "    <tr>\n",
       "      <td>3997</td>\n",
       "      <td>1</td>\n",
       "      <td>1</td>\n",
       "      <td>1</td>\n",
       "      <td>1</td>\n",
       "      <td>1</td>\n",
       "      <td>12</td>\n",
       "      <td>0</td>\n",
       "      <td>28</td>\n",
       "      <td>78.250542</td>\n",
       "      <td>11.0</td>\n",
       "      <td>2</td>\n",
       "      <td>2.786146</td>\n",
       "      <td>2.831439</td>\n",
       "      <td>0</td>\n",
       "    </tr>\n",
       "    <tr>\n",
       "      <td>3998</td>\n",
       "      <td>0</td>\n",
       "      <td>1</td>\n",
       "      <td>1</td>\n",
       "      <td>1</td>\n",
       "      <td>1</td>\n",
       "      <td>6</td>\n",
       "      <td>0</td>\n",
       "      <td>32</td>\n",
       "      <td>61.912657</td>\n",
       "      <td>5.0</td>\n",
       "      <td>3</td>\n",
       "      <td>1.630108</td>\n",
       "      <td>1.596237</td>\n",
       "      <td>0</td>\n",
       "    </tr>\n",
       "    <tr>\n",
       "      <td>3999</td>\n",
       "      <td>1</td>\n",
       "      <td>0</td>\n",
       "      <td>1</td>\n",
       "      <td>0</td>\n",
       "      <td>0</td>\n",
       "      <td>12</td>\n",
       "      <td>1</td>\n",
       "      <td>30</td>\n",
       "      <td>178.861814</td>\n",
       "      <td>12.0</td>\n",
       "      <td>1</td>\n",
       "      <td>1.101832</td>\n",
       "      <td>1.035270</td>\n",
       "      <td>0</td>\n",
       "    </tr>\n",
       "  </tbody>\n",
       "</table>\n",
       "<p>4000 rows × 14 columns</p>\n",
       "</div>"
      ],
      "text/plain": [
       "      gender  Near_Location  Partner  Promo_friends  Phone  Contract_period  \\\n",
       "0     1       1              1        1              0      6                 \n",
       "1     0       1              0        0              1      12                \n",
       "2     0       1              1        0              1      1                 \n",
       "3     0       1              1        1              1      12                \n",
       "4     1       1              1        1              1      1                 \n",
       "...  ..      ..             ..       ..             ..     ..                 \n",
       "3995  1       1              1        0              1      12                \n",
       "3996  0       1              0        0              1      1                 \n",
       "3997  1       1              1        1              1      12                \n",
       "3998  0       1              1        1              1      6                 \n",
       "3999  1       0              1        0              0      12                \n",
       "\n",
       "      Group_visits  Age  Avg_additional_charges_total  Month_to_end_contract  \\\n",
       "0     1             29   14.227470                     5.0                     \n",
       "1     1             31   113.202938                    12.0                    \n",
       "2     0             28   129.448479                    1.0                     \n",
       "3     1             33   62.669863                     12.0                    \n",
       "4     0             26   198.362265                    1.0                     \n",
       "...  ..             ..          ...                    ...                     \n",
       "3995  0             33   2.406023                      12.0                    \n",
       "3996  1             29   68.883764                     1.0                     \n",
       "3997  0             28   78.250542                     11.0                    \n",
       "3998  0             32   61.912657                     5.0                     \n",
       "3999  1             30   178.861814                    12.0                    \n",
       "\n",
       "      Lifetime  Avg_class_frequency_total  Avg_class_frequency_current_month  \\\n",
       "0     3         0.020398                   0.000000                            \n",
       "1     7         1.922936                   1.910244                            \n",
       "2     2         1.859098                   1.736502                            \n",
       "3     2         3.205633                   3.357215                            \n",
       "4     3         1.113884                   1.120078                            \n",
       "...  ..              ...                        ...                            \n",
       "3995  8         2.284497                   2.349070                            \n",
       "3996  1         1.277168                   0.292859                            \n",
       "3997  2         2.786146                   2.831439                            \n",
       "3998  3         1.630108                   1.596237                            \n",
       "3999  1         1.101832                   1.035270                            \n",
       "\n",
       "      Churn  \n",
       "0     0      \n",
       "1     0      \n",
       "2     0      \n",
       "3     0      \n",
       "4     0      \n",
       "...  ..      \n",
       "3995  0      \n",
       "3996  1      \n",
       "3997  0      \n",
       "3998  0      \n",
       "3999  0      \n",
       "\n",
       "[4000 rows x 14 columns]"
      ]
     },
     "execution_count": 2,
     "metadata": {},
     "output_type": "execute_result"
    }
   ],
   "source": [
    "df = pd.read_csv('/datasets/gym_churn.csv')\n",
    "df"
   ]
  },
  {
   "cell_type": "code",
   "execution_count": 3,
   "id": "a6d6b14d",
   "metadata": {},
   "outputs": [
    {
     "name": "stdout",
     "output_type": "stream",
     "text": [
      "<class 'pandas.core.frame.DataFrame'>\n",
      "RangeIndex: 4000 entries, 0 to 3999\n",
      "Data columns (total 14 columns):\n",
      "gender                               4000 non-null int64\n",
      "Near_Location                        4000 non-null int64\n",
      "Partner                              4000 non-null int64\n",
      "Promo_friends                        4000 non-null int64\n",
      "Phone                                4000 non-null int64\n",
      "Contract_period                      4000 non-null int64\n",
      "Group_visits                         4000 non-null int64\n",
      "Age                                  4000 non-null int64\n",
      "Avg_additional_charges_total         4000 non-null float64\n",
      "Month_to_end_contract                4000 non-null float64\n",
      "Lifetime                             4000 non-null int64\n",
      "Avg_class_frequency_total            4000 non-null float64\n",
      "Avg_class_frequency_current_month    4000 non-null float64\n",
      "Churn                                4000 non-null int64\n",
      "dtypes: float64(4), int64(10)\n",
      "memory usage: 437.6 KB\n"
     ]
    }
   ],
   "source": [
    "df.info()"
   ]
  },
  {
   "cell_type": "code",
   "execution_count": 4,
   "id": "db633971",
   "metadata": {},
   "outputs": [
    {
     "data": {
      "text/html": [
       "<div>\n",
       "<style scoped>\n",
       "    .dataframe tbody tr th:only-of-type {\n",
       "        vertical-align: middle;\n",
       "    }\n",
       "\n",
       "    .dataframe tbody tr th {\n",
       "        vertical-align: top;\n",
       "    }\n",
       "\n",
       "    .dataframe thead th {\n",
       "        text-align: right;\n",
       "    }\n",
       "</style>\n",
       "<table border=\"1\" class=\"dataframe\">\n",
       "  <thead>\n",
       "    <tr style=\"text-align: right;\">\n",
       "      <th></th>\n",
       "      <th>gender</th>\n",
       "      <th>Near_Location</th>\n",
       "      <th>Partner</th>\n",
       "      <th>Promo_friends</th>\n",
       "      <th>Phone</th>\n",
       "      <th>Contract_period</th>\n",
       "      <th>Group_visits</th>\n",
       "      <th>Age</th>\n",
       "      <th>Avg_additional_charges_total</th>\n",
       "      <th>Month_to_end_contract</th>\n",
       "      <th>Lifetime</th>\n",
       "      <th>Avg_class_frequency_total</th>\n",
       "      <th>Avg_class_frequency_current_month</th>\n",
       "      <th>Churn</th>\n",
       "    </tr>\n",
       "  </thead>\n",
       "  <tbody>\n",
       "    <tr>\n",
       "      <td>count</td>\n",
       "      <td>4000.000000</td>\n",
       "      <td>4000.000000</td>\n",
       "      <td>4000.000000</td>\n",
       "      <td>4000.000000</td>\n",
       "      <td>4000.000000</td>\n",
       "      <td>4000.000000</td>\n",
       "      <td>4000.000000</td>\n",
       "      <td>4000.000000</td>\n",
       "      <td>4000.000000</td>\n",
       "      <td>4000.000000</td>\n",
       "      <td>4000.000000</td>\n",
       "      <td>4000.000000</td>\n",
       "      <td>4000.000000</td>\n",
       "      <td>4000.000000</td>\n",
       "    </tr>\n",
       "    <tr>\n",
       "      <td>mean</td>\n",
       "      <td>0.510250</td>\n",
       "      <td>0.845250</td>\n",
       "      <td>0.486750</td>\n",
       "      <td>0.308500</td>\n",
       "      <td>0.903500</td>\n",
       "      <td>4.681250</td>\n",
       "      <td>0.412250</td>\n",
       "      <td>29.184250</td>\n",
       "      <td>146.943728</td>\n",
       "      <td>4.322750</td>\n",
       "      <td>3.724750</td>\n",
       "      <td>1.879020</td>\n",
       "      <td>1.767052</td>\n",
       "      <td>0.265250</td>\n",
       "    </tr>\n",
       "    <tr>\n",
       "      <td>std</td>\n",
       "      <td>0.499957</td>\n",
       "      <td>0.361711</td>\n",
       "      <td>0.499887</td>\n",
       "      <td>0.461932</td>\n",
       "      <td>0.295313</td>\n",
       "      <td>4.549706</td>\n",
       "      <td>0.492301</td>\n",
       "      <td>3.258367</td>\n",
       "      <td>96.355602</td>\n",
       "      <td>4.191297</td>\n",
       "      <td>3.749267</td>\n",
       "      <td>0.972245</td>\n",
       "      <td>1.052906</td>\n",
       "      <td>0.441521</td>\n",
       "    </tr>\n",
       "    <tr>\n",
       "      <td>min</td>\n",
       "      <td>0.000000</td>\n",
       "      <td>0.000000</td>\n",
       "      <td>0.000000</td>\n",
       "      <td>0.000000</td>\n",
       "      <td>0.000000</td>\n",
       "      <td>1.000000</td>\n",
       "      <td>0.000000</td>\n",
       "      <td>18.000000</td>\n",
       "      <td>0.148205</td>\n",
       "      <td>1.000000</td>\n",
       "      <td>0.000000</td>\n",
       "      <td>0.000000</td>\n",
       "      <td>0.000000</td>\n",
       "      <td>0.000000</td>\n",
       "    </tr>\n",
       "    <tr>\n",
       "      <td>25%</td>\n",
       "      <td>0.000000</td>\n",
       "      <td>1.000000</td>\n",
       "      <td>0.000000</td>\n",
       "      <td>0.000000</td>\n",
       "      <td>1.000000</td>\n",
       "      <td>1.000000</td>\n",
       "      <td>0.000000</td>\n",
       "      <td>27.000000</td>\n",
       "      <td>68.868830</td>\n",
       "      <td>1.000000</td>\n",
       "      <td>1.000000</td>\n",
       "      <td>1.180875</td>\n",
       "      <td>0.963003</td>\n",
       "      <td>0.000000</td>\n",
       "    </tr>\n",
       "    <tr>\n",
       "      <td>50%</td>\n",
       "      <td>1.000000</td>\n",
       "      <td>1.000000</td>\n",
       "      <td>0.000000</td>\n",
       "      <td>0.000000</td>\n",
       "      <td>1.000000</td>\n",
       "      <td>1.000000</td>\n",
       "      <td>0.000000</td>\n",
       "      <td>29.000000</td>\n",
       "      <td>136.220159</td>\n",
       "      <td>1.000000</td>\n",
       "      <td>3.000000</td>\n",
       "      <td>1.832768</td>\n",
       "      <td>1.719574</td>\n",
       "      <td>0.000000</td>\n",
       "    </tr>\n",
       "    <tr>\n",
       "      <td>75%</td>\n",
       "      <td>1.000000</td>\n",
       "      <td>1.000000</td>\n",
       "      <td>1.000000</td>\n",
       "      <td>1.000000</td>\n",
       "      <td>1.000000</td>\n",
       "      <td>6.000000</td>\n",
       "      <td>1.000000</td>\n",
       "      <td>31.000000</td>\n",
       "      <td>210.949625</td>\n",
       "      <td>6.000000</td>\n",
       "      <td>5.000000</td>\n",
       "      <td>2.536078</td>\n",
       "      <td>2.510336</td>\n",
       "      <td>1.000000</td>\n",
       "    </tr>\n",
       "    <tr>\n",
       "      <td>max</td>\n",
       "      <td>1.000000</td>\n",
       "      <td>1.000000</td>\n",
       "      <td>1.000000</td>\n",
       "      <td>1.000000</td>\n",
       "      <td>1.000000</td>\n",
       "      <td>12.000000</td>\n",
       "      <td>1.000000</td>\n",
       "      <td>41.000000</td>\n",
       "      <td>552.590740</td>\n",
       "      <td>12.000000</td>\n",
       "      <td>31.000000</td>\n",
       "      <td>6.023668</td>\n",
       "      <td>6.146783</td>\n",
       "      <td>1.000000</td>\n",
       "    </tr>\n",
       "  </tbody>\n",
       "</table>\n",
       "</div>"
      ],
      "text/plain": [
       "            gender  Near_Location      Partner  Promo_friends        Phone  \\\n",
       "count  4000.000000  4000.000000    4000.000000  4000.000000    4000.000000   \n",
       "mean   0.510250     0.845250       0.486750     0.308500       0.903500      \n",
       "std    0.499957     0.361711       0.499887     0.461932       0.295313      \n",
       "min    0.000000     0.000000       0.000000     0.000000       0.000000      \n",
       "25%    0.000000     1.000000       0.000000     0.000000       1.000000      \n",
       "50%    1.000000     1.000000       0.000000     0.000000       1.000000      \n",
       "75%    1.000000     1.000000       1.000000     1.000000       1.000000      \n",
       "max    1.000000     1.000000       1.000000     1.000000       1.000000      \n",
       "\n",
       "       Contract_period  Group_visits          Age  \\\n",
       "count  4000.000000      4000.000000   4000.000000   \n",
       "mean   4.681250         0.412250      29.184250     \n",
       "std    4.549706         0.492301      3.258367      \n",
       "min    1.000000         0.000000      18.000000     \n",
       "25%    1.000000         0.000000      27.000000     \n",
       "50%    1.000000         0.000000      29.000000     \n",
       "75%    6.000000         1.000000      31.000000     \n",
       "max    12.000000        1.000000      41.000000     \n",
       "\n",
       "       Avg_additional_charges_total  Month_to_end_contract     Lifetime  \\\n",
       "count  4000.000000                   4000.000000            4000.000000   \n",
       "mean   146.943728                    4.322750               3.724750      \n",
       "std    96.355602                     4.191297               3.749267      \n",
       "min    0.148205                      1.000000               0.000000      \n",
       "25%    68.868830                     1.000000               1.000000      \n",
       "50%    136.220159                    1.000000               3.000000      \n",
       "75%    210.949625                    6.000000               5.000000      \n",
       "max    552.590740                    12.000000              31.000000     \n",
       "\n",
       "       Avg_class_frequency_total  Avg_class_frequency_current_month  \\\n",
       "count  4000.000000                4000.000000                         \n",
       "mean   1.879020                   1.767052                            \n",
       "std    0.972245                   1.052906                            \n",
       "min    0.000000                   0.000000                            \n",
       "25%    1.180875                   0.963003                            \n",
       "50%    1.832768                   1.719574                            \n",
       "75%    2.536078                   2.510336                            \n",
       "max    6.023668                   6.146783                            \n",
       "\n",
       "             Churn  \n",
       "count  4000.000000  \n",
       "mean   0.265250     \n",
       "std    0.441521     \n",
       "min    0.000000     \n",
       "25%    0.000000     \n",
       "50%    0.000000     \n",
       "75%    1.000000     \n",
       "max    1.000000     "
      ]
     },
     "execution_count": 4,
     "metadata": {},
     "output_type": "execute_result"
    }
   ],
   "source": [
    "df.describe()"
   ]
  },
  {
   "cell_type": "code",
   "execution_count": 5,
   "id": "b3e88715",
   "metadata": {},
   "outputs": [
    {
     "data": {
      "text/plain": [
       "0"
      ]
     },
     "execution_count": 5,
     "metadata": {},
     "output_type": "execute_result"
    }
   ],
   "source": [
    "df.duplicated().sum()"
   ]
  },
  {
   "cell_type": "markdown",
   "id": "18db5c76",
   "metadata": {},
   "source": [
    "Пропущенных значений не наблюдается.\n",
    "\n",
    "Всего 4000 строк данных.\n",
    "\n",
    "14 колонок\n",
    "\n",
    "Дубликатов нет"
   ]
  },
  {
   "cell_type": "markdown",
   "id": "448f8435",
   "metadata": {},
   "source": [
    "# Исследовательский анализ данных (EDA)"
   ]
  },
  {
   "cell_type": "code",
   "execution_count": 6,
   "id": "ee8c6ad6",
   "metadata": {},
   "outputs": [
    {
     "data": {
      "text/html": [
       "<div>\n",
       "<style scoped>\n",
       "    .dataframe tbody tr th:only-of-type {\n",
       "        vertical-align: middle;\n",
       "    }\n",
       "\n",
       "    .dataframe tbody tr th {\n",
       "        vertical-align: top;\n",
       "    }\n",
       "\n",
       "    .dataframe thead th {\n",
       "        text-align: right;\n",
       "    }\n",
       "</style>\n",
       "<table border=\"1\" class=\"dataframe\">\n",
       "  <thead>\n",
       "    <tr style=\"text-align: right;\">\n",
       "      <th></th>\n",
       "      <th>gender</th>\n",
       "      <th>Near_Location</th>\n",
       "      <th>Partner</th>\n",
       "      <th>Promo_friends</th>\n",
       "      <th>Phone</th>\n",
       "      <th>Contract_period</th>\n",
       "      <th>Group_visits</th>\n",
       "      <th>Age</th>\n",
       "      <th>Avg_additional_charges_total</th>\n",
       "      <th>Month_to_end_contract</th>\n",
       "      <th>Lifetime</th>\n",
       "      <th>Avg_class_frequency_total</th>\n",
       "      <th>Avg_class_frequency_current_month</th>\n",
       "    </tr>\n",
       "    <tr>\n",
       "      <th>Churn</th>\n",
       "      <th></th>\n",
       "      <th></th>\n",
       "      <th></th>\n",
       "      <th></th>\n",
       "      <th></th>\n",
       "      <th></th>\n",
       "      <th></th>\n",
       "      <th></th>\n",
       "      <th></th>\n",
       "      <th></th>\n",
       "      <th></th>\n",
       "      <th></th>\n",
       "      <th></th>\n",
       "    </tr>\n",
       "  </thead>\n",
       "  <tbody>\n",
       "    <tr>\n",
       "      <td>0</td>\n",
       "      <td>0.510037</td>\n",
       "      <td>0.873086</td>\n",
       "      <td>0.534195</td>\n",
       "      <td>0.353522</td>\n",
       "      <td>0.903709</td>\n",
       "      <td>5.747193</td>\n",
       "      <td>0.464103</td>\n",
       "      <td>29.976523</td>\n",
       "      <td>158.445715</td>\n",
       "      <td>5.283089</td>\n",
       "      <td>4.711807</td>\n",
       "      <td>2.024876</td>\n",
       "      <td>2.027882</td>\n",
       "    </tr>\n",
       "    <tr>\n",
       "      <td>1</td>\n",
       "      <td>0.510839</td>\n",
       "      <td>0.768143</td>\n",
       "      <td>0.355325</td>\n",
       "      <td>0.183789</td>\n",
       "      <td>0.902922</td>\n",
       "      <td>1.728558</td>\n",
       "      <td>0.268615</td>\n",
       "      <td>26.989632</td>\n",
       "      <td>115.082899</td>\n",
       "      <td>1.662582</td>\n",
       "      <td>0.990575</td>\n",
       "      <td>1.474995</td>\n",
       "      <td>1.044546</td>\n",
       "    </tr>\n",
       "  </tbody>\n",
       "</table>\n",
       "</div>"
      ],
      "text/plain": [
       "         gender  Near_Location   Partner  Promo_friends     Phone  \\\n",
       "Churn                                                               \n",
       "0      0.510037  0.873086       0.534195  0.353522       0.903709   \n",
       "1      0.510839  0.768143       0.355325  0.183789       0.902922   \n",
       "\n",
       "       Contract_period  Group_visits        Age  Avg_additional_charges_total  \\\n",
       "Churn                                                                           \n",
       "0      5.747193         0.464103      29.976523  158.445715                     \n",
       "1      1.728558         0.268615      26.989632  115.082899                     \n",
       "\n",
       "       Month_to_end_contract  Lifetime  Avg_class_frequency_total  \\\n",
       "Churn                                                               \n",
       "0      5.283089               4.711807  2.024876                    \n",
       "1      1.662582               0.990575  1.474995                    \n",
       "\n",
       "       Avg_class_frequency_current_month  \n",
       "Churn                                     \n",
       "0      2.027882                           \n",
       "1      1.044546                           "
      ]
     },
     "execution_count": 6,
     "metadata": {},
     "output_type": "execute_result"
    }
   ],
   "source": [
    "df.groupby('Churn').mean()"
   ]
  },
  {
   "cell_type": "markdown",
   "id": "04c8c7bf",
   "metadata": {},
   "source": [
    "Только два показателя равны для средних значений для тех, кто остался и тех, кто ушел.\n",
    "Это пол и наличие контактного телефона.\n",
    "В остальных случаях все показатели выше для тех, кто остался."
   ]
  },
  {
   "cell_type": "markdown",
   "id": "6c046e46",
   "metadata": {},
   "source": [
    "## столбчатые гистограммы и распределения признаков для тех, кто ушёл (отток) и тех, кто остался (не попали в отток)"
   ]
  },
  {
   "cell_type": "code",
   "execution_count": 7,
   "id": "b4ae2d34",
   "metadata": {
    "scrolled": false
   },
   "outputs": [
    {
     "data": {
      "image/png": "[encoded data removed]",
      "text/plain": [
       "<Figure size 576x576 with 1 Axes>"
      ]
     },
     "metadata": {
      "needs_background": "light"
     },
     "output_type": "display_data"
    },
    {
     "data": {
      "image/png": "[encoded data removed]",
      "text/plain": [
       "<Figure size 576x576 with 1 Axes>"
      ]
     },
     "metadata": {
      "needs_background": "light"
     },
     "output_type": "display_data"
    },
    {
     "data": {
      "image/png": "[encoded data removed]",
      "text/plain": [
       "<Figure size 576x576 with 1 Axes>"
      ]
     },
     "metadata": {
      "needs_background": "light"
     },
     "output_type": "display_data"
    },
    {
     "data": {
      "image/png": "[encoded data removed]",
      "text/plain": [
       "<Figure size 576x576 with 1 Axes>"
      ]
     },
     "metadata": {
      "needs_background": "light"
     },
     "output_type": "display_data"
    },
    {
     "data": {
      "image/png": "[encoded data removed]",
      "text/plain": [
       "<Figure size 576x576 with 1 Axes>"
      ]
     },
     "metadata": {
      "needs_background": "light"
     },
     "output_type": "display_data"
    },
    {
     "data": {
      "image/png": "[encoded data removed]",
      "text/plain": [
       "<Figure size 576x576 with 1 Axes>"
      ]
     },
     "metadata": {
      "needs_background": "light"
     },
     "output_type": "display_data"
    },
    {
     "data": {
      "image/png": "[encoded data removed]",
      "text/plain": [
       "<Figure size 576x576 with 1 Axes>"
      ]
     },
     "metadata": {
      "needs_background": "light"
     },
     "output_type": "display_data"
    },
    {
     "data": {
      "image/png": "[encoded data removed]",
      "text/plain": [
       "<Figure size 576x576 with 1 Axes>"
      ]
     },
     "metadata": {
      "needs_background": "light"
     },
     "output_type": "display_data"
    },
    {
     "data": {
      "image/png": "[encoded data removed]",
      "text/plain": [
       "<Figure size 576x576 with 1 Axes>"
      ]
     },
     "metadata": {
      "needs_background": "light"
     },
     "output_type": "display_data"
    },
    {
     "data": {
      "image/png": "[encoded data removed]",
      "text/plain": [
       "<Figure size 576x576 with 1 Axes>"
      ]
     },
     "metadata": {
      "needs_background": "light"
     },
     "output_type": "display_data"
    },
    {
     "data": {
      "image/png": "[encoded data removed]",
      "text/plain": [
       "<Figure size 576x576 with 1 Axes>"
      ]
     },
     "metadata": {
      "needs_background": "light"
     },
     "output_type": "display_data"
    },
    {
     "data": {
      "image/png": "[encoded data removed]",
      "text/plain": [
       "<Figure size 576x576 with 1 Axes>"
      ]
     },
     "metadata": {
      "needs_background": "light"
     },
     "output_type": "display_data"
    },
    {
     "data": {
      "image/png": "[encoded data removed]",
      "text/plain": [
       "<Figure size 576x576 with 1 Axes>"
      ]
     },
     "metadata": {
      "needs_background": "light"
     },
     "output_type": "display_data"
    },
    {
     "data": {
      "image/png": "[encoded data removed]",
      "text/plain": [
       "<Figure size 576x576 with 1 Axes>"
      ]
     },
     "metadata": {
      "needs_background": "light"
     },
     "output_type": "display_data"
    }
   ],
   "source": [
    "list = ['Contract_period','Age','Avg_additional_charges_total','Month_to_end_contract','Avg_class_frequency_total','Avg_class_frequency_current_month','Lifetime']\n",
    "for i in df.columns:\n",
    "    \n",
    "        if i in list:\n",
    "            plt.figure(figsize=(8,8))\n",
    "            df.query('Churn==1')[i].plot(kind='hist', bins=50,grid=True, density=True)\n",
    "            df.query('Churn==0')[i].plot(kind='hist', bins=50,grid=True, density=True)\n",
    "            plt.title('{} - Churn'.format(i))\n",
    "            plt.xlabel('Churn')\n",
    "            plt.ylabel(i)\n",
    "            plt.show()\n",
    "        else:\n",
    "            plt.figure(figsize=(8,8))\n",
    "            df.groupby('Churn')[i].sum().plot.bar(grid=True)\n",
    "            plt.title('{} - Churn'.format(i))\n",
    "            plt.xlabel('Churn')\n",
    "            plt.ylabel(i)\n",
    "            plt.show()"
   ]
  },
  {
   "cell_type": "code",
   "execution_count": null,
   "id": "fadd3a3c",
   "metadata": {},
   "outputs": [],
   "source": [
    "x = df.query('Churn==1')['Age'].sum()\n",
    "y = df.query('Churn==0')['Age'].sum()\n",
    "# Create just a figure and only one subplot\n",
    "\n",
    "fig, ax = plt.subplots(grid=True)\n",
    "ax.plot(x,y)\n",
    "ax.set_title('Simple plot')"
   ]
  },
  {
   "cell_type": "code",
   "execution_count": 17,
   "id": "f2b2d035",
   "metadata": {},
   "outputs": [
    {
     "data": {
      "text/plain": [
       "26.989632422243165"
      ]
     },
     "execution_count": 17,
     "metadata": {},
     "output_type": "execute_result"
    }
   ],
   "source": [
    "x.mean()"
   ]
  },
  {
   "cell_type": "code",
   "execution_count": 18,
   "id": "c2e33dd6",
   "metadata": {},
   "outputs": [
    {
     "data": {
      "text/plain": [
       "29.97652262674379"
      ]
     },
     "execution_count": 18,
     "metadata": {},
     "output_type": "execute_result"
    }
   ],
   "source": [
    "y.mean()"
   ]
  },
  {
   "cell_type": "markdown",
   "id": "c00c7141",
   "metadata": {},
   "source": [
    "## Матрица корреляции"
   ]
  },
  {
   "cell_type": "code",
   "execution_count": null,
   "id": "d46266ba",
   "metadata": {},
   "outputs": [],
   "source": [
    "cm = df.corr()\n",
    "plt.figure(figsize=(15,15))\n",
    "sns.heatmap(cm, annot = True, square = True)\n",
    "plt.show()"
   ]
  },
  {
   "cell_type": "markdown",
   "id": "c3abe695",
   "metadata": {},
   "source": [
    "# Модель прогнозирования оттока клиентов"
   ]
  },
  {
   "cell_type": "markdown",
   "id": "04456bd8",
   "metadata": {},
   "source": []
  },
  {
   "cell_type": "code",
   "execution_count": null,
   "id": "a3f21be0",
   "metadata": {},
   "outputs": [],
   "source": [
    "X = df.drop('Group_visits', axis=1)\n",
    "y = df['Group_visits']\n",
    "X_train, X_test, y_train, y_test = train_test_split(X, y, test_size=0.2, random_state=0)\n",
    "\n",
    "models = [\n",
    "    LogisticRegression(), \n",
    "    DecisionTreeClassifier()\n",
    "    ]\n",
    "def prediction(a, X_train, y_train, X_test, y_test):\n",
    "    model = a\n",
    "    model.fit(X_train,y_train)\n",
    "    y_pred = model.predict(X_test)\n",
    "    display(\n",
    "        'Accuracy:{:.2f}\\\n",
    "         Precision:{:.2f}\\\n",
    "         Recall:{:.2f}'.format(\n",
    "            accuracy_score(y_test, y_pred),\n",
    "            precision_score(y_test, y_pred),\n",
    "            recall_score(y_test, y_pred),\n",
    "            \n",
    "        )\n",
    "    )\n",
    "for i in models:\n",
    "    display(i)\n",
    "    prediction(i,X_train,y_train,X_test,y_test)\n"
   ]
  },
  {
   "cell_type": "markdown",
   "id": "4f810273",
   "metadata": {},
   "source": [
    "После обучения оказалось, что все метрики кроме, recall оказались выше при обучении выборки методом логической регресии"
   ]
  },
  {
   "cell_type": "markdown",
   "id": "03ad3523",
   "metadata": {},
   "source": [
    "# Кластеризация клиентов"
   ]
  },
  {
   "cell_type": "code",
   "execution_count": null,
   "id": "002db9fe",
   "metadata": {},
   "outputs": [],
   "source": [
    "scaler = StandardScaler()\n",
    "scaler.fit(X)\n",
    "X_sc = scaler.transform(X)\n",
    "linked = linkage(X_sc,method = 'ward')\n",
    "plt.figure(figsize=(15, 10))\n",
    "dendrogram(linked, orientation='top')\n",
    "plt.title('Hierarchial clustering for GYM')\n",
    "plt.show()"
   ]
  },
  {
   "cell_type": "markdown",
   "id": "572ac0be",
   "metadata": {},
   "source": [
    "Явны выделены 5 кластеров"
   ]
  },
  {
   "cell_type": "markdown",
   "id": "590bbb3e",
   "metadata": {},
   "source": [
    "## Обучении модели кластеризации на основании алгоритма K-Means"
   ]
  },
  {
   "cell_type": "code",
   "execution_count": null,
   "id": "21af38e7",
   "metadata": {},
   "outputs": [],
   "source": [
    "km = KMeans(n_clusters = 5)\n",
    "labels = km.fit_predict(X_sc, random_state=0)"
   ]
  },
  {
   "cell_type": "code",
   "execution_count": null,
   "id": "5d6708d8",
   "metadata": {},
   "outputs": [],
   "source": [
    "df['cluster'] = labels"
   ]
  },
  {
   "cell_type": "markdown",
   "id": "8bb10f9d",
   "metadata": {},
   "source": [
    "## Среднее значение признаков для кластеров"
   ]
  },
  {
   "cell_type": "code",
   "execution_count": null,
   "id": "b2ea256d",
   "metadata": {},
   "outputs": [],
   "source": [
    "df.groupby('cluster').mean()"
   ]
  },
  {
   "cell_type": "code",
   "execution_count": null,
   "id": "1764397a",
   "metadata": {
    "scrolled": true
   },
   "outputs": [],
   "source": [
    "for i in df.columns:\n",
    "        if i in list:\n",
    "            plt.figure(figsize=(8,8))\n",
    "            df.query('cluster==0')[i].plot(kind='hist', bins=50,grid=True, density=True)\n",
    "            df.query('cluster==1')[i].plot(kind='hist', bins=50,grid=True, density=True)\n",
    "            df.query('cluster==2')[i].plot(kind='hist', bins=50,grid=True, density=True)\n",
    "            df.query('cluster==3')[i].plot(kind='hist', bins=50,grid=True, density=True)\n",
    "            df.query('cluster==4')[i].plot(kind='hist', bins=50,grid=True, density=True)\n",
    "            plt.title('{} - cluster'.format(i))\n",
    "            plt.xlabel('cluster')\n",
    "            plt.ylabel(i)\n",
    "            plt.show()\n",
    "        else:\n",
    "            plt.figure(figsize=(8,8))\n",
    "            df.groupby('cluster')[i].sum().plot.bar(grid=True)\n",
    "            plt.title('{} - cluster'.format(i))\n",
    "            plt.xlabel('cluster')\n",
    "            plt.ylabel(i)\n",
    "            plt.show()"
   ]
  },
  {
   "cell_type": "markdown",
   "id": "8d1846ce",
   "metadata": {},
   "source": [
    "# Выводы и базовые рекомендации по работе с клиентами"
   ]
  },
  {
   "cell_type": "markdown",
   "id": "05792bcf",
   "metadata": {},
   "source": [
    "Видим, что клиенты из втрого кластера это большая часть людей, которые входят в группу \"оттока\"\n",
    "\n",
    "В кластер 0 входят только клиенты, которые продолжили посещять фитнес - центр"
   ]
  },
  {
   "cell_type": "markdown",
   "id": "d02bc7c2",
   "metadata": {},
   "source": [
    "Лучше продавать абонементы на посещние больше чем 2 месяцев\n",
    "Средний возраст тех, кто посещял выше на 3 года. Продавать лучше тем, кто старше 27\n",
    "Групповые занятия так же посещяют чаще те, кто остался\n",
    "Так же лучше предлогать доп услуги, так как выручка по доп услугам выше для тех, кто остался"
   ]
  },
  {
   "cell_type": "code",
   "execution_count": null,
   "id": "c23dd359",
   "metadata": {},
   "outputs": [],
   "source": []
  }
 ],
 "metadata": {
  "ExecuteTimeLog": [
   {
    "duration": 420,
    "start_time": "2021-12-29T15:06:48.540Z"
   },
   {
    "duration": 2066,
    "start_time": "2021-12-29T15:06:54.441Z"
   },
   {
    "duration": -716,
    "start_time": "2021-12-29T15:06:57.226Z"
   },
   {
    "duration": -723,
    "start_time": "2021-12-29T15:06:57.234Z"
   },
   {
    "duration": -728,
    "start_time": "2021-12-29T15:06:57.240Z"
   },
   {
    "duration": -744,
    "start_time": "2021-12-29T15:06:57.257Z"
   },
   {
    "duration": -749,
    "start_time": "2021-12-29T15:06:57.263Z"
   },
   {
    "duration": -755,
    "start_time": "2021-12-29T15:06:57.270Z"
   },
   {
    "duration": -761,
    "start_time": "2021-12-29T15:06:57.276Z"
   },
   {
    "duration": -766,
    "start_time": "2021-12-29T15:06:57.282Z"
   },
   {
    "duration": -770,
    "start_time": "2021-12-29T15:06:57.287Z"
   },
   {
    "duration": -776,
    "start_time": "2021-12-29T15:06:57.294Z"
   },
   {
    "duration": -780,
    "start_time": "2021-12-29T15:06:57.299Z"
   },
   {
    "duration": -785,
    "start_time": "2021-12-29T15:06:57.305Z"
   },
   {
    "duration": -789,
    "start_time": "2021-12-29T15:06:57.310Z"
   },
   {
    "duration": -793,
    "start_time": "2021-12-29T15:06:57.314Z"
   },
   {
    "duration": 5,
    "start_time": "2021-12-29T15:07:29.372Z"
   },
   {
    "duration": 1483,
    "start_time": "2021-12-29T15:07:35.141Z"
   },
   {
    "duration": 3315,
    "start_time": "2021-12-29T15:07:36.626Z"
   },
   {
    "duration": -733,
    "start_time": "2021-12-29T15:07:40.676Z"
   },
   {
    "duration": -758,
    "start_time": "2021-12-29T15:07:40.702Z"
   },
   {
    "duration": -775,
    "start_time": "2021-12-29T15:07:40.722Z"
   },
   {
    "duration": -778,
    "start_time": "2021-12-29T15:07:40.728Z"
   },
   {
    "duration": -789,
    "start_time": "2021-12-29T15:07:40.740Z"
   },
   {
    "duration": -800,
    "start_time": "2021-12-29T15:07:40.752Z"
   },
   {
    "duration": -812,
    "start_time": "2021-12-29T15:07:40.765Z"
   },
   {
    "duration": -817,
    "start_time": "2021-12-29T15:07:40.770Z"
   },
   {
    "duration": -828,
    "start_time": "2021-12-29T15:07:40.783Z"
   },
   {
    "duration": -847,
    "start_time": "2021-12-29T15:07:40.802Z"
   },
   {
    "duration": -851,
    "start_time": "2021-12-29T15:07:40.807Z"
   },
   {
    "duration": -854,
    "start_time": "2021-12-29T15:07:40.811Z"
   },
   {
    "duration": -858,
    "start_time": "2021-12-29T15:07:40.816Z"
   },
   {
    "duration": 1519,
    "start_time": "2021-12-29T15:08:06.416Z"
   },
   {
    "duration": 36,
    "start_time": "2021-12-29T15:08:07.938Z"
   },
   {
    "duration": 7,
    "start_time": "2021-12-29T15:08:07.975Z"
   },
   {
    "duration": 40,
    "start_time": "2021-12-29T15:08:07.984Z"
   },
   {
    "duration": 8,
    "start_time": "2021-12-29T15:08:08.036Z"
   },
   {
    "duration": 13,
    "start_time": "2021-12-29T15:08:08.046Z"
   },
   {
    "duration": 4028,
    "start_time": "2021-12-29T15:08:08.061Z"
   },
   {
    "duration": 273,
    "start_time": "2021-12-29T15:08:12.091Z"
   },
   {
    "duration": 1176,
    "start_time": "2021-12-29T15:08:12.366Z"
   },
   {
    "duration": 203,
    "start_time": "2021-12-29T15:08:13.544Z"
   },
   {
    "duration": 80728,
    "start_time": "2021-12-29T15:08:13.749Z"
   },
   {
    "duration": 467,
    "start_time": "2021-12-29T15:09:34.478Z"
   },
   {
    "duration": -667,
    "start_time": "2021-12-29T15:09:35.613Z"
   },
   {
    "duration": -672,
    "start_time": "2021-12-29T15:09:35.619Z"
   },
   {
    "duration": -679,
    "start_time": "2021-12-29T15:09:35.627Z"
   },
   {
    "duration": -683,
    "start_time": "2021-12-29T15:09:35.632Z"
   },
   {
    "duration": 294,
    "start_time": "2021-12-29T15:09:38.156Z"
   },
   {
    "duration": 321,
    "start_time": "2021-12-29T15:09:50.141Z"
   },
   {
    "duration": 486,
    "start_time": "2021-12-29T15:10:41.902Z"
   },
   {
    "duration": 473,
    "start_time": "2021-12-29T15:10:54.694Z"
   },
   {
    "duration": 174,
    "start_time": "2021-12-29T15:11:04.110Z"
   },
   {
    "duration": 408,
    "start_time": "2021-12-29T15:11:30.998Z"
   },
   {
    "duration": 162,
    "start_time": "2021-12-29T15:11:43.050Z"
   },
   {
    "duration": 782,
    "start_time": "2021-12-29T15:11:46.960Z"
   },
   {
    "duration": 155,
    "start_time": "2021-12-29T15:12:21.895Z"
   },
   {
    "duration": 217,
    "start_time": "2021-12-29T15:12:34.080Z"
   },
   {
    "duration": 477,
    "start_time": "2021-12-29T15:12:55.099Z"
   },
   {
    "duration": 545,
    "start_time": "2021-12-29T18:33:20.539Z"
   },
   {
    "duration": 1881,
    "start_time": "2021-12-29T18:33:26.814Z"
   },
   {
    "duration": 42,
    "start_time": "2021-12-29T18:33:28.697Z"
   },
   {
    "duration": 7,
    "start_time": "2021-12-29T18:33:28.742Z"
   },
   {
    "duration": 43,
    "start_time": "2021-12-29T18:33:28.750Z"
   },
   {
    "duration": 7,
    "start_time": "2021-12-29T18:33:28.794Z"
   },
   {
    "duration": 45,
    "start_time": "2021-12-29T18:33:28.802Z"
   },
   {
    "duration": 3903,
    "start_time": "2021-12-29T18:33:28.848Z"
   },
   {
    "duration": 720,
    "start_time": "2021-12-29T18:33:32.754Z"
   },
   {
    "duration": -1997,
    "start_time": "2021-12-29T18:33:35.473Z"
   },
   {
    "duration": -2005,
    "start_time": "2021-12-29T18:33:35.482Z"
   },
   {
    "duration": -2010,
    "start_time": "2021-12-29T18:33:35.488Z"
   },
   {
    "duration": -2012,
    "start_time": "2021-12-29T18:33:35.491Z"
   },
   {
    "duration": -2017,
    "start_time": "2021-12-29T18:33:35.496Z"
   },
   {
    "duration": -2019,
    "start_time": "2021-12-29T18:33:35.499Z"
   },
   {
    "duration": -2021,
    "start_time": "2021-12-29T18:33:35.502Z"
   },
   {
    "duration": 811,
    "start_time": "2021-12-29T18:33:59.148Z"
   },
   {
    "duration": 565,
    "start_time": "2021-12-29T18:36:25.928Z"
   },
   {
    "duration": 543,
    "start_time": "2021-12-29T18:38:28.542Z"
   },
   {
    "duration": 488,
    "start_time": "2021-12-29T18:38:35.595Z"
   },
   {
    "duration": 6,
    "start_time": "2021-12-29T18:39:27.525Z"
   },
   {
    "duration": 5,
    "start_time": "2021-12-29T18:39:37.114Z"
   },
   {
    "duration": 153,
    "start_time": "2021-12-29T18:39:52.622Z"
   },
   {
    "duration": 242,
    "start_time": "2021-12-29T18:40:07.914Z"
   },
   {
    "duration": 4,
    "start_time": "2021-12-29T18:40:23.552Z"
   },
   {
    "duration": 4,
    "start_time": "2021-12-29T18:40:26.980Z"
   },
   {
    "duration": 145,
    "start_time": "2021-12-29T18:40:43.502Z"
   }
  ],
  "kernelspec": {
   "display_name": "Python 3 (ipykernel)",
   "language": "python",
   "name": "python3"
  },
  "language_info": {
   "codemirror_mode": {
    "name": "ipython",
    "version": 3
   },
   "file_extension": ".py",
   "mimetype": "text/x-python",
   "name": "python",
   "nbconvert_exporter": "python",
   "pygments_lexer": "ipython3",
   "version": "3.9.5"
  },
  "toc": {
   "base_numbering": 1,
   "nav_menu": {},
   "number_sections": true,
   "sideBar": true,
   "skip_h1_title": false,
   "title_cell": "Содержание",
   "title_sidebar": "Contents",
   "toc_cell": true,
   "toc_position": {},
   "toc_section_display": true,
   "toc_window_display": false
  }
 },
 "nbformat": 4,
 "nbformat_minor": 5
}
