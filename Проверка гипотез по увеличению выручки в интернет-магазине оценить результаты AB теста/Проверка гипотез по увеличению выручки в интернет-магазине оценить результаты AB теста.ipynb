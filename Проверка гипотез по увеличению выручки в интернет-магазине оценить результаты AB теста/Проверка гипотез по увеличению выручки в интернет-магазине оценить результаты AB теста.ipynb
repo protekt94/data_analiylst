{
 "cells": [
  {
   "cell_type": "markdown",
   "metadata": {
    "toc": true
   },
   "source": [
    "<h1>Содержание<span class=\"tocSkip\"></span></h1>\n",
    "<div class=\"toc\"><ul class=\"toc-item\"><li><span><a href=\"#Изучение-данных-из-файлов\" data-toc-modified-id=\"Изучение-данных-из-файлов-1\"><span class=\"toc-item-num\">1&nbsp;&nbsp;</span>Изучение данных из файлов</a></span><ul class=\"toc-item\"><li><span><a href=\"#Отдельно-вывел-все-import\" data-toc-modified-id=\"Отдельно-вывел-все-import-1.1\"><span class=\"toc-item-num\">1.1&nbsp;&nbsp;</span>Отдельно вывел все import</a></span></li><li><span><a href=\"#Записал-данные-в-df'ы\" data-toc-modified-id=\"Записал-данные-в-df'ы-1.2\"><span class=\"toc-item-num\">1.2&nbsp;&nbsp;</span>Записал данные в df'ы</a></span></li><li><span><a href=\"#Данные-hypothesis\" data-toc-modified-id=\"Данные-hypothesis-1.3\"><span class=\"toc-item-num\">1.3&nbsp;&nbsp;</span>Данные hypothesis</a></span><ul class=\"toc-item\"><li><span><a href=\"#Вывел-данные-hypothesis\" data-toc-modified-id=\"Вывел-данные-hypothesis-1.3.1\"><span class=\"toc-item-num\">1.3.1&nbsp;&nbsp;</span>Вывел данные hypothesis</a></span></li><li><span><a href=\"#Поменял-названия-столбцов-в-соответствии-со-стандартом-языка\" data-toc-modified-id=\"Поменял-названия-столбцов-в-соответствии-со-стандартом-языка-1.3.2\"><span class=\"toc-item-num\">1.3.2&nbsp;&nbsp;</span>Поменял названия столбцов в соответствии со стандартом языка</a></span></li></ul></li><li><span><a href=\"#Данные-orders\" data-toc-modified-id=\"Данные-orders-1.4\"><span class=\"toc-item-num\">1.4&nbsp;&nbsp;</span>Данные orders</a></span><ul class=\"toc-item\"><li><span><a href=\"#Вывел-данные-orders\" data-toc-modified-id=\"Вывел-данные-orders-1.4.1\"><span class=\"toc-item-num\">1.4.1&nbsp;&nbsp;</span>Вывел данные orders</a></span></li><li><span><a href=\"#Изменение-типов-данных\" data-toc-modified-id=\"Изменение-типов-данных-1.4.2\"><span class=\"toc-item-num\">1.4.2&nbsp;&nbsp;</span>Изменение типов данных</a></span></li></ul></li><li><span><a href=\"#Данные-visitors\" data-toc-modified-id=\"Данные-visitors-1.5\"><span class=\"toc-item-num\">1.5&nbsp;&nbsp;</span>Данные visitors</a></span><ul class=\"toc-item\"><li><span><a href=\"#Вывел-данные-visitors\" data-toc-modified-id=\"Вывел-данные-visitors-1.5.1\"><span class=\"toc-item-num\">1.5.1&nbsp;&nbsp;</span>Вывел данные visitors</a></span></li><li><span><a href=\"#Изменение-типов-данных\" data-toc-modified-id=\"Изменение-типов-данных-1.5.2\"><span class=\"toc-item-num\">1.5.2&nbsp;&nbsp;</span>Изменение типов данных</a></span></li></ul></li></ul></li><li><span><a href=\"#Приоритизация-гипотез\" data-toc-modified-id=\"Приоритизация-гипотез-2\"><span class=\"toc-item-num\">2&nbsp;&nbsp;</span>Приоритизация гипотез</a></span><ul class=\"toc-item\"><li><span><a href=\"#Применение-фреймворка-ICE-для-приоритизации-гипотез\" data-toc-modified-id=\"Применение-фреймворка-ICE-для-приоритизации-гипотез-2.1\"><span class=\"toc-item-num\">2.1&nbsp;&nbsp;</span>Применение фреймворка ICE для приоритизации гипотез</a></span></li><li><span><a href=\"#Применение-фреймворка-RICE-для-приоритизации-гипотез\" data-toc-modified-id=\"Применение-фреймворка-RICE-для-приоритизации-гипотез-2.2\"><span class=\"toc-item-num\">2.2&nbsp;&nbsp;</span>Применение фреймворка RICE для приоритизации гипотез</a></span></li></ul></li><li><span><a href=\"#Анализ-A/B-теста\" data-toc-modified-id=\"Анализ-A/B-теста-3\"><span class=\"toc-item-num\">3&nbsp;&nbsp;</span>Анализ A/B-теста</a></span><ul class=\"toc-item\"><li><span><a href=\"#График-кумулятивной-выручки-по-группам\" data-toc-modified-id=\"График-кумулятивной-выручки-по-группам-3.1\"><span class=\"toc-item-num\">3.1&nbsp;&nbsp;</span>График кумулятивной выручки по группам</a></span></li><li><span><a href=\"#График-кумулятивного-среднего-чека-по-группам\" data-toc-modified-id=\"График-кумулятивного-среднего-чека-по-группам-3.2\"><span class=\"toc-item-num\">3.2&nbsp;&nbsp;</span>График кумулятивного среднего чека по группам</a></span></li><li><span><a href=\"#График-относительного-изменения-кумулятивного-среднего-чека-группы-B-к-группе-A\" data-toc-modified-id=\"График-относительного-изменения-кумулятивного-среднего-чека-группы-B-к-группе-A-3.3\"><span class=\"toc-item-num\">3.3&nbsp;&nbsp;</span>График относительного изменения кумулятивного среднего чека группы B к группе A</a></span></li><li><span><a href=\"#График-кумулятивной-конверсии-по-группам\" data-toc-modified-id=\"График-кумулятивной-конверсии-по-группам-3.4\"><span class=\"toc-item-num\">3.4&nbsp;&nbsp;</span>График кумулятивной конверсии по группам</a></span></li><li><span><a href=\"#График-относительного-изменения-кумулятивной-конверсии-группы-B-к-группе-A\" data-toc-modified-id=\"График-относительного-изменения-кумулятивной-конверсии-группы-B-к-группе-A-3.5\"><span class=\"toc-item-num\">3.5&nbsp;&nbsp;</span>График относительного изменения кумулятивной конверсии группы B к группе A</a></span></li><li><span><a href=\"#Точечный-график-количества-заказов-по-пользователям\" data-toc-modified-id=\"Точечный-график-количества-заказов-по-пользователям-3.6\"><span class=\"toc-item-num\">3.6&nbsp;&nbsp;</span>Точечный график количества заказов по пользователям</a></span></li><li><span><a href=\"#95-й-и-99-й-перцентили-количества-заказов-на-пользователя\" data-toc-modified-id=\"95-й-и-99-й-перцентили-количества-заказов-на-пользователя-3.7\"><span class=\"toc-item-num\">3.7&nbsp;&nbsp;</span>95-й и 99-й перцентили количества заказов на пользователя</a></span></li><li><span><a href=\"#Точечный-график-стоимостей-заказов\" data-toc-modified-id=\"Точечный-график-стоимостей-заказов-3.8\"><span class=\"toc-item-num\">3.8&nbsp;&nbsp;</span>Точечный график стоимостей заказов</a></span></li><li><span><a href=\"#95-й-и-99-й-перцентили-стоимости-заказов\" data-toc-modified-id=\"95-й-и-99-й-перцентили-стоимости-заказов-3.9\"><span class=\"toc-item-num\">3.9&nbsp;&nbsp;</span>95-й и 99-й перцентили стоимости заказов</a></span></li><li><span><a href=\"#Статистическая-значимость-различий-в-конверсии-между-группами-по-«сырым»-данным\" data-toc-modified-id=\"Статистическая-значимость-различий-в-конверсии-между-группами-по-«сырым»-данным-3.10\"><span class=\"toc-item-num\">3.10&nbsp;&nbsp;</span>Статистическая значимость различий в конверсии между группами по «сырым» данным</a></span></li><li><span><a href=\"#Cтатистическая-значимость-различий-в-среднем-чеке-заказа-между-группами-по-«сырым»-данным\" data-toc-modified-id=\"Cтатистическая-значимость-различий-в-среднем-чеке-заказа-между-группами-по-«сырым»-данным-3.11\"><span class=\"toc-item-num\">3.11&nbsp;&nbsp;</span>Cтатистическая значимость различий в среднем чеке заказа между группами по «сырым» данным</a></span></li><li><span><a href=\"#Статистическая-значимость-различий-в-конверсии-между-группами-по-«очищенным»-данным\" data-toc-modified-id=\"Статистическая-значимость-различий-в-конверсии-между-группами-по-«очищенным»-данным-3.12\"><span class=\"toc-item-num\">3.12&nbsp;&nbsp;</span>Статистическая значимость различий в конверсии между группами по «очищенным» данным</a></span><ul class=\"toc-item\"><li><span><a href=\"#Посчитаем-аномальное-количество-пользователей\" data-toc-modified-id=\"Посчитаем-аномальное-количество-пользователей-3.12.1\"><span class=\"toc-item-num\">3.12.1&nbsp;&nbsp;</span>Посчитаем аномальное количество пользователей</a></span></li></ul></li><li><span><a href=\"#Cтатистическая-значимость-различий-в-среднем-чеке-заказа-между-группами-по-«очищенным»-данным\" data-toc-modified-id=\"Cтатистическая-значимость-различий-в-среднем-чеке-заказа-между-группами-по-«очищенным»-данным-3.13\"><span class=\"toc-item-num\">3.13&nbsp;&nbsp;</span>Cтатистическая значимость различий в среднем чеке заказа между группами по «очищенным» данным</a></span></li><li><span><a href=\"#Решение-по-результатам-теста\" data-toc-modified-id=\"Решение-по-результатам-теста-3.14\"><span class=\"toc-item-num\">3.14&nbsp;&nbsp;</span>Решение по результатам теста</a></span></li></ul></li></ul></div>"
   ]
  },
  {
   "cell_type": "markdown",
   "metadata": {},
   "source": [
    "# Приоритизация гипотез и A/B-тестирование"
   ]
  },
  {
   "cell_type": "markdown",
   "metadata": {},
   "source": [
    "Вы — аналитик крупного интернет-магазина. Вместе с отделом маркетинга вы подготовили список гипотез для увеличения выручки.\n",
    "Приоритизируйте гипотезы, запустите A/B-тест и проанализируйте результаты."
   ]
  },
  {
   "cell_type": "markdown",
   "metadata": {},
   "source": [
    "## Изучение данных из файлов"
   ]
  },
  {
   "cell_type": "markdown",
   "metadata": {},
   "source": [
    "### Отдельно вывел все import"
   ]
  },
  {
   "cell_type": "code",
   "execution_count": 1,
   "metadata": {},
   "outputs": [],
   "source": [
    "import pandas as pd\n",
    "import math as mt\n",
    "import matplotlib.pyplot as plt\n",
    "import numpy as np\n",
    "from scipy import stats as st\n",
    "import seaborn as sns\n",
    "import matplotlib.dates as mdates\n",
    "import datetime as dt\n",
    "import scipy.stats as stats\n",
    "pd.set_option(\"max_colwidth\", 1)\n",
    "from pandas.plotting import register_matplotlib_converters"
   ]
  },
  {
   "cell_type": "markdown",
   "metadata": {},
   "source": [
    "### Записал данные в df'ы"
   ]
  },
  {
   "cell_type": "code",
   "execution_count": 2,
   "metadata": {},
   "outputs": [],
   "source": [
    "hypothesis = pd.read_csv('/datasets/hypothesis.csv')\n",
    "orders = pd.read_csv('/datasets/orders.csv')\n",
    "visitors = pd.read_csv('/datasets/visitors.csv')"
   ]
  },
  {
   "cell_type": "markdown",
   "metadata": {},
   "source": [
    "### Данные hypothesis"
   ]
  },
  {
   "cell_type": "markdown",
   "metadata": {},
   "source": [
    "#### Вывел данные hypothesis"
   ]
  },
  {
   "cell_type": "code",
   "execution_count": 3,
   "metadata": {},
   "outputs": [
    {
     "data": {
      "text/html": [
       "<div>\n",
       "<style scoped>\n",
       "    .dataframe tbody tr th:only-of-type {\n",
       "        vertical-align: middle;\n",
       "    }\n",
       "\n",
       "    .dataframe tbody tr th {\n",
       "        vertical-align: top;\n",
       "    }\n",
       "\n",
       "    .dataframe thead th {\n",
       "        text-align: right;\n",
       "    }\n",
       "</style>\n",
       "<table border=\"1\" class=\"dataframe\">\n",
       "  <thead>\n",
       "    <tr style=\"text-align: right;\">\n",
       "      <th></th>\n",
       "      <th>Hypothesis</th>\n",
       "      <th>Reach</th>\n",
       "      <th>Impact</th>\n",
       "      <th>Confidence</th>\n",
       "      <th>Efforts</th>\n",
       "    </tr>\n",
       "  </thead>\n",
       "  <tbody>\n",
       "    <tr>\n",
       "      <td>0</td>\n",
       "      <td>Добавить два новых канала привлечения трафика, что позволит привлекать на 30% больше пользователей</td>\n",
       "      <td>3</td>\n",
       "      <td>10</td>\n",
       "      <td>8</td>\n",
       "      <td>6</td>\n",
       "    </tr>\n",
       "    <tr>\n",
       "      <td>1</td>\n",
       "      <td>Запустить собственную службу доставки, что сократит срок доставки заказов</td>\n",
       "      <td>2</td>\n",
       "      <td>5</td>\n",
       "      <td>4</td>\n",
       "      <td>10</td>\n",
       "    </tr>\n",
       "    <tr>\n",
       "      <td>2</td>\n",
       "      <td>Добавить блоки рекомендаций товаров на сайт интернет магазина, чтобы повысить конверсию и средний чек заказа</td>\n",
       "      <td>8</td>\n",
       "      <td>3</td>\n",
       "      <td>7</td>\n",
       "      <td>3</td>\n",
       "    </tr>\n",
       "    <tr>\n",
       "      <td>3</td>\n",
       "      <td>Изменить структура категорий, что увеличит конверсию, т.к. пользователи быстрее найдут нужный товар</td>\n",
       "      <td>8</td>\n",
       "      <td>3</td>\n",
       "      <td>3</td>\n",
       "      <td>8</td>\n",
       "    </tr>\n",
       "    <tr>\n",
       "      <td>4</td>\n",
       "      <td>Изменить цвет фона главной страницы, чтобы увеличить вовлеченность пользователей</td>\n",
       "      <td>3</td>\n",
       "      <td>1</td>\n",
       "      <td>1</td>\n",
       "      <td>1</td>\n",
       "    </tr>\n",
       "    <tr>\n",
       "      <td>5</td>\n",
       "      <td>Добавить страницу отзывов клиентов о магазине, что позволит увеличить количество заказов</td>\n",
       "      <td>3</td>\n",
       "      <td>2</td>\n",
       "      <td>2</td>\n",
       "      <td>3</td>\n",
       "    </tr>\n",
       "    <tr>\n",
       "      <td>6</td>\n",
       "      <td>Показать на главной странице баннеры с актуальными акциями и распродажами, чтобы увеличить конверсию</td>\n",
       "      <td>5</td>\n",
       "      <td>3</td>\n",
       "      <td>8</td>\n",
       "      <td>3</td>\n",
       "    </tr>\n",
       "    <tr>\n",
       "      <td>7</td>\n",
       "      <td>Добавить форму подписки на все основные страницы, чтобы собрать базу клиентов для email-рассылок</td>\n",
       "      <td>10</td>\n",
       "      <td>7</td>\n",
       "      <td>8</td>\n",
       "      <td>5</td>\n",
       "    </tr>\n",
       "    <tr>\n",
       "      <td>8</td>\n",
       "      <td>Запустить акцию, дающую скидку на товар в день рождения</td>\n",
       "      <td>1</td>\n",
       "      <td>9</td>\n",
       "      <td>9</td>\n",
       "      <td>5</td>\n",
       "    </tr>\n",
       "  </tbody>\n",
       "</table>\n",
       "</div>"
      ],
      "text/plain": [
       "                                                                                                     Hypothesis  \\\n",
       "0  Добавить два новых канала привлечения трафика, что позволит привлекать на 30% больше пользователей             \n",
       "1  Запустить собственную службу доставки, что сократит срок доставки заказов                                      \n",
       "2  Добавить блоки рекомендаций товаров на сайт интернет магазина, чтобы повысить конверсию и средний чек заказа   \n",
       "3  Изменить структура категорий, что увеличит конверсию, т.к. пользователи быстрее найдут нужный товар            \n",
       "4  Изменить цвет фона главной страницы, чтобы увеличить вовлеченность пользователей                               \n",
       "5  Добавить страницу отзывов клиентов о магазине, что позволит увеличить количество заказов                       \n",
       "6  Показать на главной странице баннеры с актуальными акциями и распродажами, чтобы увеличить конверсию           \n",
       "7  Добавить форму подписки на все основные страницы, чтобы собрать базу клиентов для email-рассылок               \n",
       "8  Запустить акцию, дающую скидку на товар в день рождения                                                        \n",
       "\n",
       "   Reach  Impact  Confidence  Efforts  \n",
       "0  3      10      8           6        \n",
       "1  2      5       4           10       \n",
       "2  8      3       7           3        \n",
       "3  8      3       3           8        \n",
       "4  3      1       1           1        \n",
       "5  3      2       2           3        \n",
       "6  5      3       8           3        \n",
       "7  10     7       8           5        \n",
       "8  1      9       9           5        "
      ]
     },
     "metadata": {},
     "output_type": "display_data"
    },
    {
     "name": "stdout",
     "output_type": "stream",
     "text": [
      "<class 'pandas.core.frame.DataFrame'>\n",
      "RangeIndex: 9 entries, 0 to 8\n",
      "Data columns (total 5 columns):\n",
      "Hypothesis    9 non-null object\n",
      "Reach         9 non-null int64\n",
      "Impact        9 non-null int64\n",
      "Confidence    9 non-null int64\n",
      "Efforts       9 non-null int64\n",
      "dtypes: int64(4), object(1)\n",
      "memory usage: 488.0+ bytes\n"
     ]
    },
    {
     "data": {
      "text/plain": [
       "None"
      ]
     },
     "metadata": {},
     "output_type": "display_data"
    }
   ],
   "source": [
    "display(hypothesis)\n",
    "display(hypothesis.info())"
   ]
  },
  {
   "cell_type": "markdown",
   "metadata": {},
   "source": [
    "#### Поменял названия столбцов в соответствии со стандартом языка"
   ]
  },
  {
   "cell_type": "code",
   "execution_count": 4,
   "metadata": {},
   "outputs": [],
   "source": [
    "hypothesis=hypothesis.rename(columns={'Hypothesis':'hypothesis','Reach':'reach',\n",
    "                           'Impact':'impact','Confidence':'confidence','Efforts':'efforts'})"
   ]
  },
  {
   "cell_type": "markdown",
   "metadata": {},
   "source": [
    "Пропусков в данных не оказалось"
   ]
  },
  {
   "cell_type": "markdown",
   "metadata": {},
   "source": [
    "### Данные orders"
   ]
  },
  {
   "cell_type": "markdown",
   "metadata": {},
   "source": [
    "#### Вывел данные orders"
   ]
  },
  {
   "cell_type": "code",
   "execution_count": 5,
   "metadata": {},
   "outputs": [
    {
     "data": {
      "text/html": [
       "<div>\n",
       "<style scoped>\n",
       "    .dataframe tbody tr th:only-of-type {\n",
       "        vertical-align: middle;\n",
       "    }\n",
       "\n",
       "    .dataframe tbody tr th {\n",
       "        vertical-align: top;\n",
       "    }\n",
       "\n",
       "    .dataframe thead th {\n",
       "        text-align: right;\n",
       "    }\n",
       "</style>\n",
       "<table border=\"1\" class=\"dataframe\">\n",
       "  <thead>\n",
       "    <tr style=\"text-align: right;\">\n",
       "      <th></th>\n",
       "      <th>transactionId</th>\n",
       "      <th>visitorId</th>\n",
       "      <th>date</th>\n",
       "      <th>revenue</th>\n",
       "      <th>group</th>\n",
       "    </tr>\n",
       "  </thead>\n",
       "  <tbody>\n",
       "    <tr>\n",
       "      <td>0</td>\n",
       "      <td>3667963787</td>\n",
       "      <td>3312258926</td>\n",
       "      <td>2019-08-15</td>\n",
       "      <td>1650</td>\n",
       "      <td>B</td>\n",
       "    </tr>\n",
       "    <tr>\n",
       "      <td>1</td>\n",
       "      <td>2804400009</td>\n",
       "      <td>3642806036</td>\n",
       "      <td>2019-08-15</td>\n",
       "      <td>730</td>\n",
       "      <td>B</td>\n",
       "    </tr>\n",
       "    <tr>\n",
       "      <td>2</td>\n",
       "      <td>2961555356</td>\n",
       "      <td>4069496402</td>\n",
       "      <td>2019-08-15</td>\n",
       "      <td>400</td>\n",
       "      <td>A</td>\n",
       "    </tr>\n",
       "    <tr>\n",
       "      <td>3</td>\n",
       "      <td>3797467345</td>\n",
       "      <td>1196621759</td>\n",
       "      <td>2019-08-15</td>\n",
       "      <td>9759</td>\n",
       "      <td>B</td>\n",
       "    </tr>\n",
       "    <tr>\n",
       "      <td>4</td>\n",
       "      <td>2282983706</td>\n",
       "      <td>2322279887</td>\n",
       "      <td>2019-08-15</td>\n",
       "      <td>2308</td>\n",
       "      <td>B</td>\n",
       "    </tr>\n",
       "    <tr>\n",
       "      <td>...</td>\n",
       "      <td>...</td>\n",
       "      <td>...</td>\n",
       "      <td>...</td>\n",
       "      <td>...</td>\n",
       "      <td>...</td>\n",
       "    </tr>\n",
       "    <tr>\n",
       "      <td>1192</td>\n",
       "      <td>2662137336</td>\n",
       "      <td>3733762160</td>\n",
       "      <td>2019-08-14</td>\n",
       "      <td>6490</td>\n",
       "      <td>B</td>\n",
       "    </tr>\n",
       "    <tr>\n",
       "      <td>1193</td>\n",
       "      <td>2203539145</td>\n",
       "      <td>370388673</td>\n",
       "      <td>2019-08-14</td>\n",
       "      <td>3190</td>\n",
       "      <td>A</td>\n",
       "    </tr>\n",
       "    <tr>\n",
       "      <td>1194</td>\n",
       "      <td>1807773912</td>\n",
       "      <td>573423106</td>\n",
       "      <td>2019-08-14</td>\n",
       "      <td>10550</td>\n",
       "      <td>A</td>\n",
       "    </tr>\n",
       "    <tr>\n",
       "      <td>1195</td>\n",
       "      <td>1947021204</td>\n",
       "      <td>1614305549</td>\n",
       "      <td>2019-08-14</td>\n",
       "      <td>100</td>\n",
       "      <td>A</td>\n",
       "    </tr>\n",
       "    <tr>\n",
       "      <td>1196</td>\n",
       "      <td>3936777065</td>\n",
       "      <td>2108080724</td>\n",
       "      <td>2019-08-15</td>\n",
       "      <td>202740</td>\n",
       "      <td>B</td>\n",
       "    </tr>\n",
       "  </tbody>\n",
       "</table>\n",
       "<p>1197 rows × 5 columns</p>\n",
       "</div>"
      ],
      "text/plain": [
       "      transactionId   visitorId        date  revenue group\n",
       "0     3667963787     3312258926  2019-08-15  1650     B   \n",
       "1     2804400009     3642806036  2019-08-15  730      B   \n",
       "2     2961555356     4069496402  2019-08-15  400      A   \n",
       "3     3797467345     1196621759  2019-08-15  9759     B   \n",
       "4     2282983706     2322279887  2019-08-15  2308     B   \n",
       "...          ...            ...         ...   ...    ..   \n",
       "1192  2662137336     3733762160  2019-08-14  6490     B   \n",
       "1193  2203539145     370388673   2019-08-14  3190     A   \n",
       "1194  1807773912     573423106   2019-08-14  10550    A   \n",
       "1195  1947021204     1614305549  2019-08-14  100      A   \n",
       "1196  3936777065     2108080724  2019-08-15  202740   B   \n",
       "\n",
       "[1197 rows x 5 columns]"
      ]
     },
     "metadata": {},
     "output_type": "display_data"
    },
    {
     "data": {
      "text/html": [
       "<div>\n",
       "<style scoped>\n",
       "    .dataframe tbody tr th:only-of-type {\n",
       "        vertical-align: middle;\n",
       "    }\n",
       "\n",
       "    .dataframe tbody tr th {\n",
       "        vertical-align: top;\n",
       "    }\n",
       "\n",
       "    .dataframe thead th {\n",
       "        text-align: right;\n",
       "    }\n",
       "</style>\n",
       "<table border=\"1\" class=\"dataframe\">\n",
       "  <thead>\n",
       "    <tr style=\"text-align: right;\">\n",
       "      <th></th>\n",
       "      <th>transactionId</th>\n",
       "      <th>visitorId</th>\n",
       "      <th>date</th>\n",
       "      <th>revenue</th>\n",
       "      <th>group</th>\n",
       "    </tr>\n",
       "  </thead>\n",
       "  <tbody>\n",
       "    <tr>\n",
       "      <td>0</td>\n",
       "      <td>3667963787</td>\n",
       "      <td>3312258926</td>\n",
       "      <td>2019-08-15</td>\n",
       "      <td>1650</td>\n",
       "      <td>B</td>\n",
       "    </tr>\n",
       "    <tr>\n",
       "      <td>1</td>\n",
       "      <td>2804400009</td>\n",
       "      <td>3642806036</td>\n",
       "      <td>2019-08-15</td>\n",
       "      <td>730</td>\n",
       "      <td>B</td>\n",
       "    </tr>\n",
       "    <tr>\n",
       "      <td>2</td>\n",
       "      <td>2961555356</td>\n",
       "      <td>4069496402</td>\n",
       "      <td>2019-08-15</td>\n",
       "      <td>400</td>\n",
       "      <td>A</td>\n",
       "    </tr>\n",
       "    <tr>\n",
       "      <td>3</td>\n",
       "      <td>3797467345</td>\n",
       "      <td>1196621759</td>\n",
       "      <td>2019-08-15</td>\n",
       "      <td>9759</td>\n",
       "      <td>B</td>\n",
       "    </tr>\n",
       "    <tr>\n",
       "      <td>4</td>\n",
       "      <td>2282983706</td>\n",
       "      <td>2322279887</td>\n",
       "      <td>2019-08-15</td>\n",
       "      <td>2308</td>\n",
       "      <td>B</td>\n",
       "    </tr>\n",
       "  </tbody>\n",
       "</table>\n",
       "</div>"
      ],
      "text/plain": [
       "   transactionId   visitorId        date  revenue group\n",
       "0  3667963787     3312258926  2019-08-15  1650     B   \n",
       "1  2804400009     3642806036  2019-08-15  730      B   \n",
       "2  2961555356     4069496402  2019-08-15  400      A   \n",
       "3  3797467345     1196621759  2019-08-15  9759     B   \n",
       "4  2282983706     2322279887  2019-08-15  2308     B   "
      ]
     },
     "metadata": {},
     "output_type": "display_data"
    },
    {
     "name": "stdout",
     "output_type": "stream",
     "text": [
      "<class 'pandas.core.frame.DataFrame'>\n",
      "RangeIndex: 1197 entries, 0 to 1196\n",
      "Data columns (total 5 columns):\n",
      "transactionId    1197 non-null int64\n",
      "visitorId        1197 non-null int64\n",
      "date             1197 non-null object\n",
      "revenue          1197 non-null int64\n",
      "group            1197 non-null object\n",
      "dtypes: int64(3), object(2)\n",
      "memory usage: 46.9+ KB\n"
     ]
    },
    {
     "data": {
      "text/plain": [
       "None"
      ]
     },
     "metadata": {},
     "output_type": "display_data"
    }
   ],
   "source": [
    "display(orders)\n",
    "display(orders.head())\n",
    "display(orders.info())"
   ]
  },
  {
   "cell_type": "markdown",
   "metadata": {},
   "source": [
    "#### Изменение типов данных"
   ]
  },
  {
   "cell_type": "code",
   "execution_count": 6,
   "metadata": {},
   "outputs": [],
   "source": [
    "orders['date'] = orders['date'].map(\n",
    "    lambda x: dt.datetime.strptime(x, '%Y-%m-%d')\n",
    ")"
   ]
  },
  {
   "cell_type": "markdown",
   "metadata": {},
   "source": [
    "Пропусков в данных нет"
   ]
  },
  {
   "cell_type": "markdown",
   "metadata": {},
   "source": [
    "### Данные visitors"
   ]
  },
  {
   "cell_type": "markdown",
   "metadata": {},
   "source": [
    "#### Вывел данные visitors"
   ]
  },
  {
   "cell_type": "code",
   "execution_count": 7,
   "metadata": {},
   "outputs": [
    {
     "data": {
      "text/html": [
       "<div>\n",
       "<style scoped>\n",
       "    .dataframe tbody tr th:only-of-type {\n",
       "        vertical-align: middle;\n",
       "    }\n",
       "\n",
       "    .dataframe tbody tr th {\n",
       "        vertical-align: top;\n",
       "    }\n",
       "\n",
       "    .dataframe thead th {\n",
       "        text-align: right;\n",
       "    }\n",
       "</style>\n",
       "<table border=\"1\" class=\"dataframe\">\n",
       "  <thead>\n",
       "    <tr style=\"text-align: right;\">\n",
       "      <th></th>\n",
       "      <th>date</th>\n",
       "      <th>group</th>\n",
       "      <th>visitors</th>\n",
       "    </tr>\n",
       "  </thead>\n",
       "  <tbody>\n",
       "    <tr>\n",
       "      <td>0</td>\n",
       "      <td>2019-08-01</td>\n",
       "      <td>A</td>\n",
       "      <td>719</td>\n",
       "    </tr>\n",
       "    <tr>\n",
       "      <td>1</td>\n",
       "      <td>2019-08-02</td>\n",
       "      <td>A</td>\n",
       "      <td>619</td>\n",
       "    </tr>\n",
       "    <tr>\n",
       "      <td>2</td>\n",
       "      <td>2019-08-03</td>\n",
       "      <td>A</td>\n",
       "      <td>507</td>\n",
       "    </tr>\n",
       "    <tr>\n",
       "      <td>3</td>\n",
       "      <td>2019-08-04</td>\n",
       "      <td>A</td>\n",
       "      <td>717</td>\n",
       "    </tr>\n",
       "    <tr>\n",
       "      <td>4</td>\n",
       "      <td>2019-08-05</td>\n",
       "      <td>A</td>\n",
       "      <td>756</td>\n",
       "    </tr>\n",
       "    <tr>\n",
       "      <td>...</td>\n",
       "      <td>...</td>\n",
       "      <td>...</td>\n",
       "      <td>...</td>\n",
       "    </tr>\n",
       "    <tr>\n",
       "      <td>57</td>\n",
       "      <td>2019-08-27</td>\n",
       "      <td>B</td>\n",
       "      <td>720</td>\n",
       "    </tr>\n",
       "    <tr>\n",
       "      <td>58</td>\n",
       "      <td>2019-08-28</td>\n",
       "      <td>B</td>\n",
       "      <td>654</td>\n",
       "    </tr>\n",
       "    <tr>\n",
       "      <td>59</td>\n",
       "      <td>2019-08-29</td>\n",
       "      <td>B</td>\n",
       "      <td>531</td>\n",
       "    </tr>\n",
       "    <tr>\n",
       "      <td>60</td>\n",
       "      <td>2019-08-30</td>\n",
       "      <td>B</td>\n",
       "      <td>490</td>\n",
       "    </tr>\n",
       "    <tr>\n",
       "      <td>61</td>\n",
       "      <td>2019-08-31</td>\n",
       "      <td>B</td>\n",
       "      <td>718</td>\n",
       "    </tr>\n",
       "  </tbody>\n",
       "</table>\n",
       "<p>62 rows × 3 columns</p>\n",
       "</div>"
      ],
      "text/plain": [
       "          date group  visitors\n",
       "0   2019-08-01  A     719     \n",
       "1   2019-08-02  A     619     \n",
       "2   2019-08-03  A     507     \n",
       "3   2019-08-04  A     717     \n",
       "4   2019-08-05  A     756     \n",
       "..         ... ..     ...     \n",
       "57  2019-08-27  B     720     \n",
       "58  2019-08-28  B     654     \n",
       "59  2019-08-29  B     531     \n",
       "60  2019-08-30  B     490     \n",
       "61  2019-08-31  B     718     \n",
       "\n",
       "[62 rows x 3 columns]"
      ]
     },
     "metadata": {},
     "output_type": "display_data"
    },
    {
     "data": {
      "text/html": [
       "<div>\n",
       "<style scoped>\n",
       "    .dataframe tbody tr th:only-of-type {\n",
       "        vertical-align: middle;\n",
       "    }\n",
       "\n",
       "    .dataframe tbody tr th {\n",
       "        vertical-align: top;\n",
       "    }\n",
       "\n",
       "    .dataframe thead th {\n",
       "        text-align: right;\n",
       "    }\n",
       "</style>\n",
       "<table border=\"1\" class=\"dataframe\">\n",
       "  <thead>\n",
       "    <tr style=\"text-align: right;\">\n",
       "      <th></th>\n",
       "      <th>date</th>\n",
       "      <th>group</th>\n",
       "      <th>visitors</th>\n",
       "    </tr>\n",
       "  </thead>\n",
       "  <tbody>\n",
       "    <tr>\n",
       "      <td>0</td>\n",
       "      <td>2019-08-01</td>\n",
       "      <td>A</td>\n",
       "      <td>719</td>\n",
       "    </tr>\n",
       "    <tr>\n",
       "      <td>1</td>\n",
       "      <td>2019-08-02</td>\n",
       "      <td>A</td>\n",
       "      <td>619</td>\n",
       "    </tr>\n",
       "    <tr>\n",
       "      <td>2</td>\n",
       "      <td>2019-08-03</td>\n",
       "      <td>A</td>\n",
       "      <td>507</td>\n",
       "    </tr>\n",
       "    <tr>\n",
       "      <td>3</td>\n",
       "      <td>2019-08-04</td>\n",
       "      <td>A</td>\n",
       "      <td>717</td>\n",
       "    </tr>\n",
       "    <tr>\n",
       "      <td>4</td>\n",
       "      <td>2019-08-05</td>\n",
       "      <td>A</td>\n",
       "      <td>756</td>\n",
       "    </tr>\n",
       "  </tbody>\n",
       "</table>\n",
       "</div>"
      ],
      "text/plain": [
       "         date group  visitors\n",
       "0  2019-08-01  A     719     \n",
       "1  2019-08-02  A     619     \n",
       "2  2019-08-03  A     507     \n",
       "3  2019-08-04  A     717     \n",
       "4  2019-08-05  A     756     "
      ]
     },
     "metadata": {},
     "output_type": "display_data"
    },
    {
     "name": "stdout",
     "output_type": "stream",
     "text": [
      "<class 'pandas.core.frame.DataFrame'>\n",
      "RangeIndex: 62 entries, 0 to 61\n",
      "Data columns (total 3 columns):\n",
      "date        62 non-null object\n",
      "group       62 non-null object\n",
      "visitors    62 non-null int64\n",
      "dtypes: int64(1), object(2)\n",
      "memory usage: 1.6+ KB\n"
     ]
    },
    {
     "data": {
      "text/plain": [
       "None"
      ]
     },
     "metadata": {},
     "output_type": "display_data"
    }
   ],
   "source": [
    "display(visitors)\n",
    "display(visitors.head())\n",
    "display(visitors.info())"
   ]
  },
  {
   "cell_type": "markdown",
   "metadata": {},
   "source": [
    "#### Изменение типов данных"
   ]
  },
  {
   "cell_type": "code",
   "execution_count": 8,
   "metadata": {},
   "outputs": [],
   "source": [
    "visitors['date'] = visitors['date'].map(\n",
    "    lambda x: dt.datetime.strptime(x, '%Y-%m-%d')\n",
    ")"
   ]
  },
  {
   "cell_type": "markdown",
   "metadata": {},
   "source": [
    "Пропусков в данных нет"
   ]
  },
  {
   "cell_type": "code",
   "execution_count": 9,
   "metadata": {},
   "outputs": [
    {
     "data": {
      "text/plain": [
       "0"
      ]
     },
     "execution_count": 9,
     "metadata": {},
     "output_type": "execute_result"
    }
   ],
   "source": [
    "orders.duplicated().sum()"
   ]
  },
  {
   "cell_type": "code",
   "execution_count": 10,
   "metadata": {},
   "outputs": [
    {
     "data": {
      "text/plain": [
       "0"
      ]
     },
     "execution_count": 10,
     "metadata": {},
     "output_type": "execute_result"
    }
   ],
   "source": [
    "visitors.duplicated().sum()"
   ]
  },
  {
   "cell_type": "code",
   "execution_count": 11,
   "metadata": {},
   "outputs": [
    {
     "data": {
      "text/plain": [
       "58"
      ]
     },
     "execution_count": 11,
     "metadata": {},
     "output_type": "execute_result"
    }
   ],
   "source": [
    "(\n",
    "    orders.pivot_table(index='visitorId',values='group',aggfunc='nunique')\n",
    "    .sort_values('group',ascending=False).query('group > 1')['group'].count()\n",
    ")"
   ]
  },
  {
   "cell_type": "markdown",
   "metadata": {},
   "source": [
    "## Приоритизация гипотез"
   ]
  },
  {
   "cell_type": "markdown",
   "metadata": {},
   "source": [
    "### Применение фреймворка ICE для приоритизации гипотез"
   ]
  },
  {
   "cell_type": "code",
   "execution_count": 12,
   "metadata": {},
   "outputs": [
    {
     "data": {
      "text/html": [
       "<div>\n",
       "<style scoped>\n",
       "    .dataframe tbody tr th:only-of-type {\n",
       "        vertical-align: middle;\n",
       "    }\n",
       "\n",
       "    .dataframe tbody tr th {\n",
       "        vertical-align: top;\n",
       "    }\n",
       "\n",
       "    .dataframe thead th {\n",
       "        text-align: right;\n",
       "    }\n",
       "</style>\n",
       "<table border=\"1\" class=\"dataframe\">\n",
       "  <thead>\n",
       "    <tr style=\"text-align: right;\">\n",
       "      <th></th>\n",
       "      <th>hypothesis</th>\n",
       "      <th>ICE</th>\n",
       "    </tr>\n",
       "  </thead>\n",
       "  <tbody>\n",
       "    <tr>\n",
       "      <td>8</td>\n",
       "      <td>Запустить акцию, дающую скидку на товар в день рождения</td>\n",
       "      <td>16.20</td>\n",
       "    </tr>\n",
       "    <tr>\n",
       "      <td>0</td>\n",
       "      <td>Добавить два новых канала привлечения трафика, что позволит привлекать на 30% больше пользователей</td>\n",
       "      <td>13.33</td>\n",
       "    </tr>\n",
       "    <tr>\n",
       "      <td>7</td>\n",
       "      <td>Добавить форму подписки на все основные страницы, чтобы собрать базу клиентов для email-рассылок</td>\n",
       "      <td>11.20</td>\n",
       "    </tr>\n",
       "    <tr>\n",
       "      <td>6</td>\n",
       "      <td>Показать на главной странице баннеры с актуальными акциями и распродажами, чтобы увеличить конверсию</td>\n",
       "      <td>8.00</td>\n",
       "    </tr>\n",
       "    <tr>\n",
       "      <td>2</td>\n",
       "      <td>Добавить блоки рекомендаций товаров на сайт интернет магазина, чтобы повысить конверсию и средний чек заказа</td>\n",
       "      <td>7.00</td>\n",
       "    </tr>\n",
       "    <tr>\n",
       "      <td>1</td>\n",
       "      <td>Запустить собственную службу доставки, что сократит срок доставки заказов</td>\n",
       "      <td>2.00</td>\n",
       "    </tr>\n",
       "    <tr>\n",
       "      <td>5</td>\n",
       "      <td>Добавить страницу отзывов клиентов о магазине, что позволит увеличить количество заказов</td>\n",
       "      <td>1.33</td>\n",
       "    </tr>\n",
       "    <tr>\n",
       "      <td>3</td>\n",
       "      <td>Изменить структура категорий, что увеличит конверсию, т.к. пользователи быстрее найдут нужный товар</td>\n",
       "      <td>1.12</td>\n",
       "    </tr>\n",
       "    <tr>\n",
       "      <td>4</td>\n",
       "      <td>Изменить цвет фона главной страницы, чтобы увеличить вовлеченность пользователей</td>\n",
       "      <td>1.00</td>\n",
       "    </tr>\n",
       "  </tbody>\n",
       "</table>\n",
       "</div>"
      ],
      "text/plain": [
       "                                                                                                     hypothesis  \\\n",
       "8  Запустить акцию, дающую скидку на товар в день рождения                                                        \n",
       "0  Добавить два новых канала привлечения трафика, что позволит привлекать на 30% больше пользователей             \n",
       "7  Добавить форму подписки на все основные страницы, чтобы собрать базу клиентов для email-рассылок               \n",
       "6  Показать на главной странице баннеры с актуальными акциями и распродажами, чтобы увеличить конверсию           \n",
       "2  Добавить блоки рекомендаций товаров на сайт интернет магазина, чтобы повысить конверсию и средний чек заказа   \n",
       "1  Запустить собственную службу доставки, что сократит срок доставки заказов                                      \n",
       "5  Добавить страницу отзывов клиентов о магазине, что позволит увеличить количество заказов                       \n",
       "3  Изменить структура категорий, что увеличит конверсию, т.к. пользователи быстрее найдут нужный товар            \n",
       "4  Изменить цвет фона главной страницы, чтобы увеличить вовлеченность пользователей                               \n",
       "\n",
       "     ICE  \n",
       "8  16.20  \n",
       "0  13.33  \n",
       "7  11.20  \n",
       "6  8.00   \n",
       "2  7.00   \n",
       "1  2.00   \n",
       "5  1.33   \n",
       "3  1.12   \n",
       "4  1.00   "
      ]
     },
     "execution_count": 12,
     "metadata": {},
     "output_type": "execute_result"
    }
   ],
   "source": [
    "hypothesis['ICE'] = (hypothesis['impact'] * hypothesis['confidence'] / hypothesis['efforts']).round(2)\n",
    "hypothesis[['hypothesis','ICE']].sort_values(by='ICE',ascending=False)"
   ]
  },
  {
   "cell_type": "markdown",
   "metadata": {},
   "source": [
    "### Применение фреймворка RICE для приоритизации гипотез"
   ]
  },
  {
   "cell_type": "code",
   "execution_count": 13,
   "metadata": {},
   "outputs": [
    {
     "data": {
      "text/html": [
       "<div>\n",
       "<style scoped>\n",
       "    .dataframe tbody tr th:only-of-type {\n",
       "        vertical-align: middle;\n",
       "    }\n",
       "\n",
       "    .dataframe tbody tr th {\n",
       "        vertical-align: top;\n",
       "    }\n",
       "\n",
       "    .dataframe thead th {\n",
       "        text-align: right;\n",
       "    }\n",
       "</style>\n",
       "<table border=\"1\" class=\"dataframe\">\n",
       "  <thead>\n",
       "    <tr style=\"text-align: right;\">\n",
       "      <th></th>\n",
       "      <th>hypothesis</th>\n",
       "      <th>RICE</th>\n",
       "    </tr>\n",
       "  </thead>\n",
       "  <tbody>\n",
       "    <tr>\n",
       "      <td>7</td>\n",
       "      <td>Добавить форму подписки на все основные страницы, чтобы собрать базу клиентов для email-рассылок</td>\n",
       "      <td>112.0</td>\n",
       "    </tr>\n",
       "    <tr>\n",
       "      <td>2</td>\n",
       "      <td>Добавить блоки рекомендаций товаров на сайт интернет магазина, чтобы повысить конверсию и средний чек заказа</td>\n",
       "      <td>56.0</td>\n",
       "    </tr>\n",
       "    <tr>\n",
       "      <td>0</td>\n",
       "      <td>Добавить два новых канала привлечения трафика, что позволит привлекать на 30% больше пользователей</td>\n",
       "      <td>40.0</td>\n",
       "    </tr>\n",
       "    <tr>\n",
       "      <td>6</td>\n",
       "      <td>Показать на главной странице баннеры с актуальными акциями и распродажами, чтобы увеличить конверсию</td>\n",
       "      <td>40.0</td>\n",
       "    </tr>\n",
       "    <tr>\n",
       "      <td>8</td>\n",
       "      <td>Запустить акцию, дающую скидку на товар в день рождения</td>\n",
       "      <td>16.2</td>\n",
       "    </tr>\n",
       "    <tr>\n",
       "      <td>3</td>\n",
       "      <td>Изменить структура категорий, что увеличит конверсию, т.к. пользователи быстрее найдут нужный товар</td>\n",
       "      <td>9.0</td>\n",
       "    </tr>\n",
       "    <tr>\n",
       "      <td>1</td>\n",
       "      <td>Запустить собственную службу доставки, что сократит срок доставки заказов</td>\n",
       "      <td>4.0</td>\n",
       "    </tr>\n",
       "    <tr>\n",
       "      <td>5</td>\n",
       "      <td>Добавить страницу отзывов клиентов о магазине, что позволит увеличить количество заказов</td>\n",
       "      <td>4.0</td>\n",
       "    </tr>\n",
       "    <tr>\n",
       "      <td>4</td>\n",
       "      <td>Изменить цвет фона главной страницы, чтобы увеличить вовлеченность пользователей</td>\n",
       "      <td>3.0</td>\n",
       "    </tr>\n",
       "  </tbody>\n",
       "</table>\n",
       "</div>"
      ],
      "text/plain": [
       "                                                                                                     hypothesis  \\\n",
       "7  Добавить форму подписки на все основные страницы, чтобы собрать базу клиентов для email-рассылок               \n",
       "2  Добавить блоки рекомендаций товаров на сайт интернет магазина, чтобы повысить конверсию и средний чек заказа   \n",
       "0  Добавить два новых канала привлечения трафика, что позволит привлекать на 30% больше пользователей             \n",
       "6  Показать на главной странице баннеры с актуальными акциями и распродажами, чтобы увеличить конверсию           \n",
       "8  Запустить акцию, дающую скидку на товар в день рождения                                                        \n",
       "3  Изменить структура категорий, что увеличит конверсию, т.к. пользователи быстрее найдут нужный товар            \n",
       "1  Запустить собственную службу доставки, что сократит срок доставки заказов                                      \n",
       "5  Добавить страницу отзывов клиентов о магазине, что позволит увеличить количество заказов                       \n",
       "4  Изменить цвет фона главной страницы, чтобы увеличить вовлеченность пользователей                               \n",
       "\n",
       "    RICE  \n",
       "7  112.0  \n",
       "2  56.0   \n",
       "0  40.0   \n",
       "6  40.0   \n",
       "8  16.2   \n",
       "3  9.0    \n",
       "1  4.0    \n",
       "5  4.0    \n",
       "4  3.0    "
      ]
     },
     "execution_count": 13,
     "metadata": {},
     "output_type": "execute_result"
    }
   ],
   "source": [
    "hypothesis['RICE'] = (hypothesis['reach']*hypothesis['impact'] * hypothesis['confidence'] / hypothesis['efforts']).round(2)\n",
    "hypothesis[['hypothesis','RICE']].sort_values(by='RICE',ascending=False)"
   ]
  },
  {
   "cell_type": "markdown",
   "metadata": {},
   "source": [
    "Из расчетов видно, что по RICE лидирует другая задача. Это связано с тем, что при расчете RICE учитывается охват пользователей. Отсюда и получается что 7 гипотеза охватит большее количество пользоваталей"
   ]
  },
  {
   "cell_type": "markdown",
   "metadata": {},
   "source": [
    "## Анализ A/B-теста"
   ]
  },
  {
   "cell_type": "markdown",
   "metadata": {},
   "source": [
    "### График кумулятивной выручки по группам"
   ]
  },
  {
   "cell_type": "code",
   "execution_count": 14,
   "metadata": {},
   "outputs": [],
   "source": [
    "datesGroups = orders[['date','group']].drop_duplicates()"
   ]
  },
  {
   "cell_type": "code",
   "execution_count": 15,
   "metadata": {
    "scrolled": false
   },
   "outputs": [],
   "source": [
    "ordersAggregated = datesGroups\\\n",
    ".apply(lambda x: orders[np.logical_and(orders['date'] <= x['date'], orders['group'] == x['group'])]\\\n",
    ".agg({'date' : 'max', 'group' : 'max', 'transactionId' : pd.Series.nunique, 'visitorId' : pd.Series.nunique, 'revenue' : 'sum'}), axis=1)\\\n",
    ".sort_values(by=['date','group']) "
   ]
  },
  {
   "cell_type": "code",
   "execution_count": 16,
   "metadata": {},
   "outputs": [],
   "source": [
    "visitorsAggregated = datesGroups\\\n",
    ".apply(lambda x: visitors[np.logical_and(visitors['date'] <= x['date'], visitors['group'] == x['group'])]\\\n",
    "       .agg({'date' : 'max', 'group' : 'max', 'visitors' : 'sum'}), axis=1).sort_values(by=['date','group'])\n"
   ]
  },
  {
   "cell_type": "code",
   "execution_count": 17,
   "metadata": {},
   "outputs": [],
   "source": [
    "cumulativeData = ordersAggregated.merge(visitorsAggregated, left_on=['date', 'group'], right_on=['date', 'group'])\n",
    "cumulativeData.columns = ['date', 'group', 'orders', 'buyers', 'revenue', 'visitors']"
   ]
  },
  {
   "cell_type": "code",
   "execution_count": 18,
   "metadata": {},
   "outputs": [
    {
     "data": {
      "text/html": [
       "<div>\n",
       "<style scoped>\n",
       "    .dataframe tbody tr th:only-of-type {\n",
       "        vertical-align: middle;\n",
       "    }\n",
       "\n",
       "    .dataframe tbody tr th {\n",
       "        vertical-align: top;\n",
       "    }\n",
       "\n",
       "    .dataframe thead th {\n",
       "        text-align: right;\n",
       "    }\n",
       "</style>\n",
       "<table border=\"1\" class=\"dataframe\">\n",
       "  <thead>\n",
       "    <tr style=\"text-align: right;\">\n",
       "      <th></th>\n",
       "      <th>date</th>\n",
       "      <th>group</th>\n",
       "      <th>orders</th>\n",
       "      <th>buyers</th>\n",
       "      <th>revenue</th>\n",
       "      <th>visitors</th>\n",
       "    </tr>\n",
       "  </thead>\n",
       "  <tbody>\n",
       "    <tr>\n",
       "      <td>0</td>\n",
       "      <td>2019-08-01</td>\n",
       "      <td>A</td>\n",
       "      <td>24</td>\n",
       "      <td>20</td>\n",
       "      <td>148579</td>\n",
       "      <td>719</td>\n",
       "    </tr>\n",
       "    <tr>\n",
       "      <td>1</td>\n",
       "      <td>2019-08-01</td>\n",
       "      <td>B</td>\n",
       "      <td>21</td>\n",
       "      <td>20</td>\n",
       "      <td>101217</td>\n",
       "      <td>713</td>\n",
       "    </tr>\n",
       "    <tr>\n",
       "      <td>2</td>\n",
       "      <td>2019-08-02</td>\n",
       "      <td>A</td>\n",
       "      <td>44</td>\n",
       "      <td>38</td>\n",
       "      <td>242401</td>\n",
       "      <td>1338</td>\n",
       "    </tr>\n",
       "    <tr>\n",
       "      <td>3</td>\n",
       "      <td>2019-08-02</td>\n",
       "      <td>B</td>\n",
       "      <td>45</td>\n",
       "      <td>43</td>\n",
       "      <td>266748</td>\n",
       "      <td>1294</td>\n",
       "    </tr>\n",
       "    <tr>\n",
       "      <td>4</td>\n",
       "      <td>2019-08-03</td>\n",
       "      <td>A</td>\n",
       "      <td>68</td>\n",
       "      <td>62</td>\n",
       "      <td>354874</td>\n",
       "      <td>1845</td>\n",
       "    </tr>\n",
       "    <tr>\n",
       "      <td>5</td>\n",
       "      <td>2019-08-03</td>\n",
       "      <td>B</td>\n",
       "      <td>61</td>\n",
       "      <td>59</td>\n",
       "      <td>380996</td>\n",
       "      <td>1803</td>\n",
       "    </tr>\n",
       "    <tr>\n",
       "      <td>6</td>\n",
       "      <td>2019-08-04</td>\n",
       "      <td>A</td>\n",
       "      <td>84</td>\n",
       "      <td>77</td>\n",
       "      <td>425699</td>\n",
       "      <td>2562</td>\n",
       "    </tr>\n",
       "    <tr>\n",
       "      <td>7</td>\n",
       "      <td>2019-08-04</td>\n",
       "      <td>B</td>\n",
       "      <td>78</td>\n",
       "      <td>75</td>\n",
       "      <td>489567</td>\n",
       "      <td>2573</td>\n",
       "    </tr>\n",
       "    <tr>\n",
       "      <td>8</td>\n",
       "      <td>2019-08-05</td>\n",
       "      <td>A</td>\n",
       "      <td>109</td>\n",
       "      <td>100</td>\n",
       "      <td>549917</td>\n",
       "      <td>3318</td>\n",
       "    </tr>\n",
       "    <tr>\n",
       "      <td>9</td>\n",
       "      <td>2019-08-05</td>\n",
       "      <td>B</td>\n",
       "      <td>101</td>\n",
       "      <td>98</td>\n",
       "      <td>581995</td>\n",
       "      <td>3280</td>\n",
       "    </tr>\n",
       "    <tr>\n",
       "      <td>10</td>\n",
       "      <td>2019-08-06</td>\n",
       "      <td>A</td>\n",
       "      <td>127</td>\n",
       "      <td>114</td>\n",
       "      <td>598401</td>\n",
       "      <td>3985</td>\n",
       "    </tr>\n",
       "    <tr>\n",
       "      <td>11</td>\n",
       "      <td>2019-08-06</td>\n",
       "      <td>B</td>\n",
       "      <td>129</td>\n",
       "      <td>123</td>\n",
       "      <td>824337</td>\n",
       "      <td>3935</td>\n",
       "    </tr>\n",
       "    <tr>\n",
       "      <td>12</td>\n",
       "      <td>2019-08-07</td>\n",
       "      <td>A</td>\n",
       "      <td>145</td>\n",
       "      <td>131</td>\n",
       "      <td>740818</td>\n",
       "      <td>4629</td>\n",
       "    </tr>\n",
       "    <tr>\n",
       "      <td>13</td>\n",
       "      <td>2019-08-07</td>\n",
       "      <td>B</td>\n",
       "      <td>153</td>\n",
       "      <td>146</td>\n",
       "      <td>1049671</td>\n",
       "      <td>4644</td>\n",
       "    </tr>\n",
       "    <tr>\n",
       "      <td>14</td>\n",
       "      <td>2019-08-08</td>\n",
       "      <td>A</td>\n",
       "      <td>161</td>\n",
       "      <td>146</td>\n",
       "      <td>837097</td>\n",
       "      <td>5239</td>\n",
       "    </tr>\n",
       "  </tbody>\n",
       "</table>\n",
       "</div>"
      ],
      "text/plain": [
       "         date group  orders  buyers  revenue  visitors\n",
       "0  2019-08-01  A     24      20      148579   719     \n",
       "1  2019-08-01  B     21      20      101217   713     \n",
       "2  2019-08-02  A     44      38      242401   1338    \n",
       "3  2019-08-02  B     45      43      266748   1294    \n",
       "4  2019-08-03  A     68      62      354874   1845    \n",
       "5  2019-08-03  B     61      59      380996   1803    \n",
       "6  2019-08-04  A     84      77      425699   2562    \n",
       "7  2019-08-04  B     78      75      489567   2573    \n",
       "8  2019-08-05  A     109     100     549917   3318    \n",
       "9  2019-08-05  B     101     98      581995   3280    \n",
       "10 2019-08-06  A     127     114     598401   3985    \n",
       "11 2019-08-06  B     129     123     824337   3935    \n",
       "12 2019-08-07  A     145     131     740818   4629    \n",
       "13 2019-08-07  B     153     146     1049671  4644    \n",
       "14 2019-08-08  A     161     146     837097   5239    "
      ]
     },
     "metadata": {},
     "output_type": "display_data"
    },
    {
     "data": {
      "text/html": [
       "<div>\n",
       "<style scoped>\n",
       "    .dataframe tbody tr th:only-of-type {\n",
       "        vertical-align: middle;\n",
       "    }\n",
       "\n",
       "    .dataframe tbody tr th {\n",
       "        vertical-align: top;\n",
       "    }\n",
       "\n",
       "    .dataframe thead th {\n",
       "        text-align: right;\n",
       "    }\n",
       "</style>\n",
       "<table border=\"1\" class=\"dataframe\">\n",
       "  <thead>\n",
       "    <tr style=\"text-align: right;\">\n",
       "      <th></th>\n",
       "      <th>date</th>\n",
       "      <th>group</th>\n",
       "      <th>orders</th>\n",
       "      <th>buyers</th>\n",
       "      <th>revenue</th>\n",
       "      <th>visitors</th>\n",
       "    </tr>\n",
       "  </thead>\n",
       "  <tbody>\n",
       "    <tr>\n",
       "      <td>47</td>\n",
       "      <td>2019-08-24</td>\n",
       "      <td>B</td>\n",
       "      <td>493</td>\n",
       "      <td>454</td>\n",
       "      <td>4798722</td>\n",
       "      <td>14448</td>\n",
       "    </tr>\n",
       "    <tr>\n",
       "      <td>48</td>\n",
       "      <td>2019-08-25</td>\n",
       "      <td>A</td>\n",
       "      <td>451</td>\n",
       "      <td>409</td>\n",
       "      <td>3070704</td>\n",
       "      <td>14943</td>\n",
       "    </tr>\n",
       "    <tr>\n",
       "      <td>49</td>\n",
       "      <td>2019-08-25</td>\n",
       "      <td>B</td>\n",
       "      <td>507</td>\n",
       "      <td>466</td>\n",
       "      <td>4901584</td>\n",
       "      <td>15127</td>\n",
       "    </tr>\n",
       "    <tr>\n",
       "      <td>50</td>\n",
       "      <td>2019-08-26</td>\n",
       "      <td>A</td>\n",
       "      <td>467</td>\n",
       "      <td>425</td>\n",
       "      <td>3227918</td>\n",
       "      <td>15665</td>\n",
       "    </tr>\n",
       "    <tr>\n",
       "      <td>51</td>\n",
       "      <td>2019-08-26</td>\n",
       "      <td>B</td>\n",
       "      <td>532</td>\n",
       "      <td>490</td>\n",
       "      <td>5084583</td>\n",
       "      <td>15803</td>\n",
       "    </tr>\n",
       "    <tr>\n",
       "      <td>52</td>\n",
       "      <td>2019-08-27</td>\n",
       "      <td>A</td>\n",
       "      <td>495</td>\n",
       "      <td>449</td>\n",
       "      <td>3514698</td>\n",
       "      <td>16376</td>\n",
       "    </tr>\n",
       "    <tr>\n",
       "      <td>53</td>\n",
       "      <td>2019-08-27</td>\n",
       "      <td>B</td>\n",
       "      <td>548</td>\n",
       "      <td>504</td>\n",
       "      <td>5232260</td>\n",
       "      <td>16523</td>\n",
       "    </tr>\n",
       "    <tr>\n",
       "      <td>54</td>\n",
       "      <td>2019-08-28</td>\n",
       "      <td>A</td>\n",
       "      <td>512</td>\n",
       "      <td>464</td>\n",
       "      <td>3615820</td>\n",
       "      <td>16970</td>\n",
       "    </tr>\n",
       "    <tr>\n",
       "      <td>55</td>\n",
       "      <td>2019-08-28</td>\n",
       "      <td>B</td>\n",
       "      <td>576</td>\n",
       "      <td>526</td>\n",
       "      <td>5328268</td>\n",
       "      <td>17177</td>\n",
       "    </tr>\n",
       "    <tr>\n",
       "      <td>56</td>\n",
       "      <td>2019-08-29</td>\n",
       "      <td>A</td>\n",
       "      <td>534</td>\n",
       "      <td>484</td>\n",
       "      <td>3936510</td>\n",
       "      <td>17547</td>\n",
       "    </tr>\n",
       "    <tr>\n",
       "      <td>57</td>\n",
       "      <td>2019-08-29</td>\n",
       "      <td>B</td>\n",
       "      <td>596</td>\n",
       "      <td>544</td>\n",
       "      <td>5559398</td>\n",
       "      <td>17708</td>\n",
       "    </tr>\n",
       "    <tr>\n",
       "      <td>58</td>\n",
       "      <td>2019-08-30</td>\n",
       "      <td>A</td>\n",
       "      <td>545</td>\n",
       "      <td>493</td>\n",
       "      <td>4022970</td>\n",
       "      <td>18037</td>\n",
       "    </tr>\n",
       "    <tr>\n",
       "      <td>59</td>\n",
       "      <td>2019-08-30</td>\n",
       "      <td>B</td>\n",
       "      <td>620</td>\n",
       "      <td>567</td>\n",
       "      <td>5774631</td>\n",
       "      <td>18198</td>\n",
       "    </tr>\n",
       "    <tr>\n",
       "      <td>60</td>\n",
       "      <td>2019-08-31</td>\n",
       "      <td>A</td>\n",
       "      <td>557</td>\n",
       "      <td>503</td>\n",
       "      <td>4084803</td>\n",
       "      <td>18736</td>\n",
       "    </tr>\n",
       "    <tr>\n",
       "      <td>61</td>\n",
       "      <td>2019-08-31</td>\n",
       "      <td>B</td>\n",
       "      <td>640</td>\n",
       "      <td>586</td>\n",
       "      <td>5907760</td>\n",
       "      <td>18916</td>\n",
       "    </tr>\n",
       "  </tbody>\n",
       "</table>\n",
       "</div>"
      ],
      "text/plain": [
       "         date group  orders  buyers  revenue  visitors\n",
       "47 2019-08-24  B     493     454     4798722  14448   \n",
       "48 2019-08-25  A     451     409     3070704  14943   \n",
       "49 2019-08-25  B     507     466     4901584  15127   \n",
       "50 2019-08-26  A     467     425     3227918  15665   \n",
       "51 2019-08-26  B     532     490     5084583  15803   \n",
       "52 2019-08-27  A     495     449     3514698  16376   \n",
       "53 2019-08-27  B     548     504     5232260  16523   \n",
       "54 2019-08-28  A     512     464     3615820  16970   \n",
       "55 2019-08-28  B     576     526     5328268  17177   \n",
       "56 2019-08-29  A     534     484     3936510  17547   \n",
       "57 2019-08-29  B     596     544     5559398  17708   \n",
       "58 2019-08-30  A     545     493     4022970  18037   \n",
       "59 2019-08-30  B     620     567     5774631  18198   \n",
       "60 2019-08-31  A     557     503     4084803  18736   \n",
       "61 2019-08-31  B     640     586     5907760  18916   "
      ]
     },
     "metadata": {},
     "output_type": "display_data"
    }
   ],
   "source": [
    "display(cumulativeData.head(15)) \n",
    "display(cumulativeData.tail(15)) \n"
   ]
  },
  {
   "cell_type": "code",
   "execution_count": 19,
   "metadata": {},
   "outputs": [
    {
     "name": "stderr",
     "output_type": "stream",
     "text": [
      "/opt/conda/lib/python3.7/site-packages/pandas/plotting/_matplotlib/converter.py:103: FutureWarning: Using an implicitly registered datetime converter for a matplotlib plotting method. The converter was registered by pandas on import. Future versions of pandas will require you to explicitly register matplotlib converters.\n",
      "\n",
      "To register the converters:\n",
      "\t>>> from pandas.plotting import register_matplotlib_converters\n",
      "\t>>> register_matplotlib_converters()\n",
      "  warnings.warn(msg, FutureWarning)\n"
     ]
    },
    {
     "data": {
      "image/png": "[encoded data removed]",
      "text/plain": [
       "<Figure size 1080x360 with 1 Axes>"
      ]
     },
     "metadata": {
      "needs_background": "light"
     },
     "output_type": "display_data"
    }
   ],
   "source": [
    "cumulativeRevenueA = cumulativeData[cumulativeData['group']=='A'][['date','revenue', 'orders']]\n",
    "cumulativeRevenueB = cumulativeData[cumulativeData['group']=='B'][['date','revenue', 'orders']]\n",
    "\n",
    "plt.figure(figsize=(15,5))\n",
    "plt.plot(cumulativeRevenueA['date'], cumulativeRevenueA['revenue'],label='A')\n",
    "plt.plot(cumulativeRevenueB['date'], cumulativeRevenueB['revenue'],label='B')\n",
    "\n",
    "\n",
    "register_matplotlib_converters()\n",
    "plt.title('График кумулятивной выручки по группам')\n",
    "plt.ylabel('Revenue')\n",
    "plt.xlabel('Date')\n",
    "plt.grid()\n",
    "plt.legend() \n",
    "plt.show()"
   ]
  },
  {
   "cell_type": "markdown",
   "metadata": {},
   "source": [
    "Вывод: На графике видно, что у группы В в промежуток с 17.08 по 21.08 был резкий скачок по выручке.\n",
    "Это может говорить о всплеске числа заказов или о дорогостоящих покупках. \n",
    "Выручка группы А планомерно растет"
   ]
  },
  {
   "cell_type": "markdown",
   "metadata": {},
   "source": [
    "### График кумулятивного среднего чека по группам"
   ]
  },
  {
   "cell_type": "code",
   "execution_count": 20,
   "metadata": {},
   "outputs": [
    {
     "data": {
      "image/png": "[encoded data removed]",
      "text/plain": [
       "<Figure size 1080x360 with 1 Axes>"
      ]
     },
     "metadata": {
      "needs_background": "light"
     },
     "output_type": "display_data"
    }
   ],
   "source": [
    "plt.figure(figsize=(15,5))\n",
    "plt.plot(cumulativeRevenueA['date'], cumulativeRevenueA['revenue']/cumulativeRevenueA['orders'], label='A')\n",
    "plt.plot(cumulativeRevenueB['date'], cumulativeRevenueB['revenue']/cumulativeRevenueB['orders'], label='B')\n",
    "plt.title('График кумулятивного среднего чека по группам')\n",
    "plt.ylabel('Revenue')\n",
    "plt.xlabel('Date')\n",
    "plt.grid()\n",
    "plt.legend() \n",
    "plt.show()"
   ]
  },
  {
   "cell_type": "markdown",
   "metadata": {},
   "source": [
    "Вывод: На графике видны всплески по среднему чеку в группе В, что говорит о дорогостоящих покупках. После большого изменения в период с 17.08  по 21.08 видно, что средний чек начал падать. В группе А тоже был резкий скачок 13.08, что говорит либо о дорогостоящих покупках, либо о большом количестве заказов."
   ]
  },
  {
   "cell_type": "markdown",
   "metadata": {},
   "source": [
    "### График относительного изменения кумулятивного среднего чека группы B к группе A"
   ]
  },
  {
   "cell_type": "code",
   "execution_count": 21,
   "metadata": {},
   "outputs": [
    {
     "data": {
      "image/png": "[encoded data removed]",
      "text/plain": [
       "<Figure size 1080x360 with 1 Axes>"
      ]
     },
     "metadata": {
      "needs_background": "light"
     },
     "output_type": "display_data"
    }
   ],
   "source": [
    "mergedCumulativeRevenue = cumulativeRevenueA.merge(cumulativeRevenueB, left_on='date', right_on='date', how='left', suffixes=['A', 'B'])\n",
    "plt.figure(figsize=(15,5))\n",
    "plt.plot(mergedCumulativeRevenue['date'], (mergedCumulativeRevenue['revenueB']/mergedCumulativeRevenue['ordersB'])/(mergedCumulativeRevenue['revenueA']/mergedCumulativeRevenue['ordersA'])-1)\n",
    "plt.axhline(y=0, color='black', linestyle='--') \n",
    "plt.title('График относительного изменения кумулятивного среднего чека группы B к группе A')\n",
    "plt.ylabel('Ratio')\n",
    "plt.xlabel('Date')\n",
    "plt.grid()\n",
    "plt.show()"
   ]
  },
  {
   "cell_type": "markdown",
   "metadata": {},
   "source": [
    "Вывод: В нескольких точках ожидаемо видим всплески, что говорит о крупных заказах и выбросах."
   ]
  },
  {
   "cell_type": "markdown",
   "metadata": {},
   "source": [
    "### График кумулятивной конверсии по группам"
   ]
  },
  {
   "cell_type": "code",
   "execution_count": 22,
   "metadata": {},
   "outputs": [],
   "source": [
    "cumulativeData['conversion'] = cumulativeData['orders'] / cumulativeData['visitors']"
   ]
  },
  {
   "cell_type": "code",
   "execution_count": 23,
   "metadata": {},
   "outputs": [
    {
     "data": {
      "text/plain": [
       "0.03685636856368564"
      ]
     },
     "metadata": {},
     "output_type": "display_data"
    },
    {
     "data": {
      "text/plain": [
       "0.029217427214536445"
      ]
     },
     "metadata": {},
     "output_type": "display_data"
    },
    {
     "data": {
      "text/plain": [
       "Timestamp('2019-08-31 00:00:00')"
      ]
     },
     "metadata": {},
     "output_type": "display_data"
    },
    {
     "data": {
      "text/plain": [
       "Timestamp('2019-08-01 00:00:00')"
      ]
     },
     "metadata": {},
     "output_type": "display_data"
    }
   ],
   "source": [
    "display(cumulativeData['conversion'].max())\n",
    "display(cumulativeData['conversion'].min())\n",
    "display(cumulativeData['date'].max())\n",
    "display(cumulativeData['date'].min())"
   ]
  },
  {
   "cell_type": "markdown",
   "metadata": {},
   "source": [
    "Минимальные и максимальные значения конверсии и дат для построения графиков"
   ]
  },
  {
   "cell_type": "code",
   "execution_count": 24,
   "metadata": {},
   "outputs": [],
   "source": [
    "cumulativeDataA = cumulativeData[cumulativeData['group'] == 'A']\n",
    "cumulativeDataB = cumulativeData[cumulativeData['group'] == 'B']"
   ]
  },
  {
   "cell_type": "code",
   "execution_count": 25,
   "metadata": {},
   "outputs": [
    {
     "data": {
      "image/png": "[encoded data removed]",
      "text/plain": [
       "<Figure size 1080x360 with 1 Axes>"
      ]
     },
     "metadata": {
      "needs_background": "light"
     },
     "output_type": "display_data"
    }
   ],
   "source": [
    "plt.figure(figsize=(15,5))\n",
    "plt.plot(cumulativeDataA['date'],cumulativeDataA['conversion'], label='A')\n",
    "plt.plot(cumulativeDataB['date'],cumulativeDataB['conversion'], label='B')\n",
    "plt.axis([\"2019-08-01\", '2019-09-01', 0.02, 0.04]) \n",
    "plt.xticks(rotation='60')\n",
    "plt.title('График кумулятивной конверсии по группам')\n",
    "plt.ylabel('Conversion')\n",
    "plt.xlabel('Date')\n",
    "plt.legend()\n",
    "plt.grid()\n",
    "plt.show()"
   ]
  },
  {
   "cell_type": "markdown",
   "metadata": {},
   "source": [
    "Вывод: Группы колебались возле одного значения в период с 01.08 по 05.08 после этого конверсия группы В поднялась до значения 0.360 и начала падать, после зафиксировалась.\n",
    "Конверсия группы А зафиксировалась в районе 0.3"
   ]
  },
  {
   "cell_type": "markdown",
   "metadata": {},
   "source": [
    "### График относительного изменения кумулятивной конверсии группы B к группе A"
   ]
  },
  {
   "cell_type": "code",
   "execution_count": 26,
   "metadata": {},
   "outputs": [],
   "source": [
    "mergedCumulativeConversions = (\n",
    "    cumulativeDataA[['date','conversion']]\n",
    "    .merge(cumulativeDataB[['date','conversion']], left_on='date', right_on='date', how='left', suffixes=['A', 'B'])\n",
    ")"
   ]
  },
  {
   "cell_type": "code",
   "execution_count": 27,
   "metadata": {},
   "outputs": [
    {
     "data": {
      "image/png": "[encoded data removed]",
      "text/plain": [
       "<Figure size 1080x360 with 1 Axes>"
      ]
     },
     "metadata": {
      "needs_background": "light"
     },
     "output_type": "display_data"
    }
   ],
   "source": [
    "plt.figure(figsize=(15,5))\n",
    "plt.plot(mergedCumulativeConversions['date'], mergedCumulativeConversions['conversionB']/mergedCumulativeConversions['conversionA']-1, label=\"Относительный прирост конверсии группы B относительно группы A\")\n",
    "plt.legend()\n",
    "plt.axhline(y=0, color='black', linestyle='--')\n",
    "plt.axhline(y=-0.1, color='grey', linestyle='--')\n",
    "plt.axis([\"2019-08-01\", '2019-09-01',-0.2,0.3]) \n",
    "plt.title('График относительного изменения кумулятивной конверсии группы B к группе A')\n",
    "plt.ylabel('Ratio')\n",
    "plt.xlabel('Date')\n",
    "plt.grid()\n",
    "plt.show()"
   ]
  },
  {
   "cell_type": "markdown",
   "metadata": {},
   "source": [
    "Вывод: Конверсия группы В практически с самого начала была выше группы А. После 05.08 конверсия резко поднялась. Такая разница в конверсии обусловнена бОльшим числом покупателей и бОльшей выручкой , что хорошо можно увидеть в таблице"
   ]
  },
  {
   "cell_type": "markdown",
   "metadata": {},
   "source": [
    "### Точечный график количества заказов по пользователям"
   ]
  },
  {
   "cell_type": "code",
   "execution_count": 28,
   "metadata": {},
   "outputs": [
    {
     "data": {
      "image/png": "[encoded data removed]",
      "text/plain": [
       "<Figure size 1080x360 with 1 Axes>"
      ]
     },
     "metadata": {
      "needs_background": "light"
     },
     "output_type": "display_data"
    }
   ],
   "source": [
    "x_values = pd.Series(range(0,len(orders.groupby('visitorId')['transactionId'].count())))\n",
    "plt.figure(figsize=(15,5))\n",
    "plt.scatter(x_values, orders.groupby('visitorId')['transactionId'].count()) \n",
    "plt.title('Точечный график количества заказов по пользователям')\n",
    "plt.ylabel('Count')\n",
    "plt.xlabel('Date')\n",
    "plt.grid()\n",
    "plt.show()\n"
   ]
  },
  {
   "cell_type": "markdown",
   "metadata": {},
   "source": [
    "вывод: На графике видно, что больше 2 покупок на пользователя можно считать аномальными."
   ]
  },
  {
   "cell_type": "markdown",
   "metadata": {},
   "source": [
    "###  95-й и 99-й перцентили количества заказов на пользователя"
   ]
  },
  {
   "cell_type": "code",
   "execution_count": 29,
   "metadata": {},
   "outputs": [
    {
     "data": {
      "text/plain": [
       "array([2., 4.])"
      ]
     },
     "metadata": {},
     "output_type": "display_data"
    }
   ],
   "source": [
    "display((np.percentile(orders.groupby('visitorId')['transactionId'].count(), [95, 99])) )"
   ]
  },
  {
   "cell_type": "markdown",
   "metadata": {},
   "source": [
    "Вывод: Из подсчета перцентиля видно, что не больше 5% людей делали покупки чаще 2 раз и не больше 1% людей делали больше 4 покупок. Остановимся на том, что больше 2 покупок будет считать выбросами"
   ]
  },
  {
   "cell_type": "markdown",
   "metadata": {},
   "source": [
    "### Точечный график стоимостей заказов"
   ]
  },
  {
   "cell_type": "code",
   "execution_count": 30,
   "metadata": {},
   "outputs": [
    {
     "data": {
      "image/png": "[encoded data removed]",
      "text/plain": [
       "<Figure size 1080x360 with 1 Axes>"
      ]
     },
     "metadata": {
      "needs_background": "light"
     },
     "output_type": "display_data"
    }
   ],
   "source": [
    "x_values = pd.Series(range(0,len(orders['revenue'])))\n",
    "plt.figure(figsize=(15,5))\n",
    "plt.scatter(x_values, orders['revenue'])\n",
    "plt.title('Точечный график стоимостей заказов')\n",
    "plt.ylabel('Revenue')\n",
    "plt.xlabel('Date')\n",
    "plt.grid()\n",
    "plt.show()"
   ]
  },
  {
   "cell_type": "code",
   "execution_count": 31,
   "metadata": {},
   "outputs": [
    {
     "data": {
      "image/png": "[encoded data removed]",
      "text/plain": [
       "<Figure size 1080x360 with 1 Axes>"
      ]
     },
     "metadata": {
      "needs_background": "light"
     },
     "output_type": "display_data"
    }
   ],
   "source": [
    "x_values = pd.Series(range(0,len(orders['revenue'])))\n",
    "plt.figure(figsize=(15,5))\n",
    "plt.scatter(x_values, orders['revenue'])\n",
    "plt.title('Точечный график стоимостей заказов')\n",
    "plt.ylabel('Revenue')\n",
    "plt.xlabel('Date')\n",
    "plt.ylim(0,200000)\n",
    "plt.grid()\n",
    "plt.show()"
   ]
  },
  {
   "cell_type": "markdown",
   "metadata": {},
   "source": [
    "Вывод: На графике видно, что бОльшая стоимость покупок лежит в значении до 200000. Посчитаем перцентиль чтобы выяснить аномальные значения, которые могут повлиять на расчеты"
   ]
  },
  {
   "cell_type": "markdown",
   "metadata": {},
   "source": [
    "### 95-й и 99-й перцентили стоимости заказов"
   ]
  },
  {
   "cell_type": "code",
   "execution_count": 32,
   "metadata": {},
   "outputs": [
    {
     "data": {
      "text/plain": [
       "array([28000. , 58233.2])"
      ]
     },
     "metadata": {},
     "output_type": "display_data"
    }
   ],
   "source": [
    "display((np.percentile(orders['revenue'], [95, 99])) )"
   ]
  },
  {
   "cell_type": "markdown",
   "metadata": {},
   "source": [
    "Вывод: Из расчетов видно, что только 5% людей делали покупки дороже 28к и всего 1% покупал больше чем на 58к.\n",
    "Будем считать значения выше 28к аномальными."
   ]
  },
  {
   "cell_type": "markdown",
   "metadata": {},
   "source": [
    "### Статистическая значимость различий в конверсии между группами по «сырым» данным"
   ]
  },
  {
   "cell_type": "code",
   "execution_count": 33,
   "metadata": {},
   "outputs": [
    {
     "data": {
      "text/html": [
       "<div>\n",
       "<style scoped>\n",
       "    .dataframe tbody tr th:only-of-type {\n",
       "        vertical-align: middle;\n",
       "    }\n",
       "\n",
       "    .dataframe tbody tr th {\n",
       "        vertical-align: top;\n",
       "    }\n",
       "\n",
       "    .dataframe thead th {\n",
       "        text-align: right;\n",
       "    }\n",
       "</style>\n",
       "<table border=\"1\" class=\"dataframe\">\n",
       "  <thead>\n",
       "    <tr style=\"text-align: right;\">\n",
       "      <th></th>\n",
       "      <th>date</th>\n",
       "      <th>ordersPerDateA</th>\n",
       "      <th>revenuePerDateA</th>\n",
       "      <th>ordersPerDateB</th>\n",
       "      <th>revenuePerDateB</th>\n",
       "      <th>ordersCummulativeA</th>\n",
       "      <th>revenueCummulativeA</th>\n",
       "      <th>ordersCummulativeB</th>\n",
       "      <th>revenueCummulativeB</th>\n",
       "      <th>visitorsPerDateA</th>\n",
       "      <th>visitorsPerDateB</th>\n",
       "      <th>visitorsCummulativeA</th>\n",
       "      <th>visitorsCummulativeB</th>\n",
       "    </tr>\n",
       "  </thead>\n",
       "  <tbody>\n",
       "    <tr>\n",
       "      <td>0</td>\n",
       "      <td>2019-08-01</td>\n",
       "      <td>24</td>\n",
       "      <td>148579</td>\n",
       "      <td>21</td>\n",
       "      <td>101217</td>\n",
       "      <td>24</td>\n",
       "      <td>148579</td>\n",
       "      <td>21</td>\n",
       "      <td>101217</td>\n",
       "      <td>719</td>\n",
       "      <td>713</td>\n",
       "      <td>719</td>\n",
       "      <td>713</td>\n",
       "    </tr>\n",
       "    <tr>\n",
       "      <td>1</td>\n",
       "      <td>2019-08-02</td>\n",
       "      <td>20</td>\n",
       "      <td>93822</td>\n",
       "      <td>24</td>\n",
       "      <td>165531</td>\n",
       "      <td>44</td>\n",
       "      <td>242401</td>\n",
       "      <td>45</td>\n",
       "      <td>266748</td>\n",
       "      <td>619</td>\n",
       "      <td>581</td>\n",
       "      <td>1338</td>\n",
       "      <td>1294</td>\n",
       "    </tr>\n",
       "    <tr>\n",
       "      <td>2</td>\n",
       "      <td>2019-08-03</td>\n",
       "      <td>24</td>\n",
       "      <td>112473</td>\n",
       "      <td>16</td>\n",
       "      <td>114248</td>\n",
       "      <td>68</td>\n",
       "      <td>354874</td>\n",
       "      <td>61</td>\n",
       "      <td>380996</td>\n",
       "      <td>507</td>\n",
       "      <td>509</td>\n",
       "      <td>1845</td>\n",
       "      <td>1803</td>\n",
       "    </tr>\n",
       "    <tr>\n",
       "      <td>3</td>\n",
       "      <td>2019-08-04</td>\n",
       "      <td>16</td>\n",
       "      <td>70825</td>\n",
       "      <td>17</td>\n",
       "      <td>108571</td>\n",
       "      <td>84</td>\n",
       "      <td>425699</td>\n",
       "      <td>78</td>\n",
       "      <td>489567</td>\n",
       "      <td>717</td>\n",
       "      <td>770</td>\n",
       "      <td>2562</td>\n",
       "      <td>2573</td>\n",
       "    </tr>\n",
       "    <tr>\n",
       "      <td>4</td>\n",
       "      <td>2019-08-05</td>\n",
       "      <td>25</td>\n",
       "      <td>124218</td>\n",
       "      <td>23</td>\n",
       "      <td>92428</td>\n",
       "      <td>109</td>\n",
       "      <td>549917</td>\n",
       "      <td>101</td>\n",
       "      <td>581995</td>\n",
       "      <td>756</td>\n",
       "      <td>707</td>\n",
       "      <td>3318</td>\n",
       "      <td>3280</td>\n",
       "    </tr>\n",
       "  </tbody>\n",
       "</table>\n",
       "</div>"
      ],
      "text/plain": [
       "        date  ordersPerDateA  revenuePerDateA  ordersPerDateB  \\\n",
       "0 2019-08-01  24              148579           21               \n",
       "1 2019-08-02  20              93822            24               \n",
       "2 2019-08-03  24              112473           16               \n",
       "3 2019-08-04  16              70825            17               \n",
       "4 2019-08-05  25              124218           23               \n",
       "\n",
       "   revenuePerDateB  ordersCummulativeA  revenueCummulativeA  \\\n",
       "0  101217           24                  148579                \n",
       "1  165531           44                  242401                \n",
       "2  114248           68                  354874                \n",
       "3  108571           84                  425699                \n",
       "4  92428            109                 549917                \n",
       "\n",
       "   ordersCummulativeB  revenueCummulativeB  visitorsPerDateA  \\\n",
       "0  21                  101217               719                \n",
       "1  45                  266748               619                \n",
       "2  61                  380996               507                \n",
       "3  78                  489567               717                \n",
       "4  101                 581995               756                \n",
       "\n",
       "   visitorsPerDateB  visitorsCummulativeA  visitorsCummulativeB  \n",
       "0  713               719                   713                   \n",
       "1  581               1338                  1294                  \n",
       "2  509               1845                  1803                  \n",
       "3  770               2562                  2573                  \n",
       "4  707               3318                  3280                  "
      ]
     },
     "metadata": {},
     "output_type": "display_data"
    }
   ],
   "source": [
    "visitorsADaily = visitors[visitors['group'] == 'A'][['date', 'visitors']]\n",
    "visitorsADaily.columns = ['date', 'visitorsPerDateA']\n",
    "\n",
    "visitorsACummulative = visitorsADaily.apply(\n",
    "    lambda x: visitorsADaily[visitorsADaily['date'] <= x['date']].agg(\n",
    "        {'date': 'max', 'visitorsPerDateA': 'sum'}\n",
    "    ),\n",
    "    axis=1,\n",
    ")\n",
    "visitorsACummulative.columns = ['date', 'visitorsCummulativeA']\n",
    "\n",
    "visitorsBDaily = visitors[visitors['group'] == 'B'][['date', 'visitors']]\n",
    "visitorsBDaily.columns = ['date', 'visitorsPerDateB']\n",
    "\n",
    "visitorsBCummulative = visitorsBDaily.apply(\n",
    "    lambda x: visitorsBDaily[visitorsBDaily['date'] <= x['date']].agg(\n",
    "        {'date': 'max', 'visitorsPerDateB': 'sum'}\n",
    "    ),\n",
    "    axis=1,\n",
    ")\n",
    "visitorsBCummulative.columns = ['date', 'visitorsCummulativeB']\n",
    "\n",
    "ordersADaily = (\n",
    "    orders[orders['group'] == 'A'][['date', 'transactionId', 'visitorId', 'revenue']]\n",
    "    .groupby('date', as_index=False)\n",
    "    .agg({'transactionId': pd.Series.nunique, 'revenue': 'sum'})\n",
    ")\n",
    "ordersADaily.columns = ['date', 'ordersPerDateA', 'revenuePerDateA']\n",
    "\n",
    "ordersACummulative = ordersADaily.apply(\n",
    "    lambda x: ordersADaily[ordersADaily['date'] <= x['date']].agg(\n",
    "        {'date': 'max', 'ordersPerDateA': 'sum', 'revenuePerDateA': 'sum'}\n",
    "    ),\n",
    "    axis=1,\n",
    ").sort_values(by=['date'])\n",
    "ordersACummulative.columns = [\n",
    "    'date',\n",
    "    'ordersCummulativeA',\n",
    "    'revenueCummulativeA',\n",
    "]\n",
    "\n",
    "ordersBDaily = (\n",
    "    orders[orders['group'] == 'B'][['date', 'transactionId', 'visitorId', 'revenue']]\n",
    "    .groupby('date', as_index=False)\n",
    "    .agg({'transactionId': pd.Series.nunique, 'revenue': 'sum'})\n",
    ")\n",
    "ordersBDaily.columns = ['date', 'ordersPerDateB', 'revenuePerDateB']\n",
    "\n",
    "ordersBCummulative = ordersBDaily.apply(\n",
    "    lambda x: ordersBDaily[ordersBDaily['date'] <= x['date']].agg(\n",
    "        {'date': 'max', 'ordersPerDateB': 'sum', 'revenuePerDateB': 'sum'}\n",
    "    ),\n",
    "    axis=1,\n",
    ").sort_values(by=['date'])\n",
    "ordersBCummulative.columns = [\n",
    "    'date',\n",
    "    'ordersCummulativeB',\n",
    "    'revenueCummulativeB',\n",
    "]\n",
    "\n",
    "data = (\n",
    "    ordersADaily.merge(\n",
    "        ordersBDaily, left_on='date', right_on='date', how='left'\n",
    "    )\n",
    "    .merge(ordersACummulative, left_on='date', right_on='date', how='left')\n",
    "    .merge(ordersBCummulative, left_on='date', right_on='date', how='left')\n",
    "    .merge(visitorsADaily, left_on='date', right_on='date', how='left')\n",
    "    .merge(visitorsBDaily, left_on='date', right_on='date', how='left')\n",
    "    .merge(visitorsACummulative, left_on='date', right_on='date', how='left')\n",
    "    .merge(visitorsBCummulative, left_on='date', right_on='date', how='left')\n",
    ")\n",
    "\n",
    "display(data.head()) "
   ]
  },
  {
   "cell_type": "markdown",
   "metadata": {},
   "source": [
    "Нулевая гипотеза гласит, что статистически значимых различий в конверсии между группами нет.\n",
    "Альтернативная гипотеза гласит, что статистически значимые различия в конверсии между группами есть.."
   ]
  },
  {
   "cell_type": "code",
   "execution_count": 34,
   "metadata": {},
   "outputs": [
    {
     "data": {
      "text/plain": [
       "'0.008'"
      ]
     },
     "metadata": {},
     "output_type": "display_data"
    },
    {
     "data": {
      "text/plain": [
       "'0.138'"
      ]
     },
     "metadata": {},
     "output_type": "display_data"
    }
   ],
   "source": [
    "ordersByUsersA = (\n",
    "    orders[orders['group'] == 'A']\n",
    "    .groupby('visitorId', as_index=False)\n",
    "    .agg({'transactionId': pd.Series.nunique})\n",
    ")\n",
    "ordersByUsersA.columns = ['visitorId', 'orders']\n",
    "\n",
    "ordersByUsersB = (\n",
    "    orders[orders['group'] == 'B']\n",
    "    .groupby('visitorId', as_index=False)\n",
    "    .agg({'transactionId': pd.Series.nunique})\n",
    ")\n",
    "ordersByUsersB.columns = ['visitorId', 'orders']\n",
    "\n",
    "sampleA = pd.concat(\n",
    "    [\n",
    "        ordersByUsersA['orders'],\n",
    "        pd.Series(\n",
    "            0,\n",
    "            index=np.arange(\n",
    "                data['visitorsPerDateA'].sum() - len(ordersByUsersA['orders'])\n",
    "            ),\n",
    "            name='orders',\n",
    "        ),\n",
    "    ],\n",
    "    axis=0,\n",
    ")\n",
    "\n",
    "sampleB = pd.concat(\n",
    "    [\n",
    "        ordersByUsersB['orders'],\n",
    "        pd.Series(\n",
    "            0,\n",
    "            index=np.arange(\n",
    "                data['visitorsPerDateB'].sum() - len(ordersByUsersB['orders'])\n",
    "            ),\n",
    "            name='orders',\n",
    "        ),\n",
    "    ],\n",
    "    axis=0,\n",
    ")\n",
    "\n",
    "display(\"{0:.3f}\".format(stats.mannwhitneyu(sampleA, sampleB)[1],alternative = 'two-sided'))\n",
    "\n",
    "display(\"{0:.3f}\".format(sampleB.mean() / sampleA.mean() - 1))\n",
    " "
   ]
  },
  {
   "cell_type": "markdown",
   "metadata": {},
   "source": [
    "Вывод: По «сырым» данным различия в конверсии групп A и B есть.\n",
    "Первое число — p-value = 0.008. меньше 0.05. Значит, нулевую гипотезу о том, что статистически значимых различий в конверсии между группами нет, отвергаем. Однако относительный проигрыш группы А равен 13.8% — второе число в выводе."
   ]
  },
  {
   "cell_type": "markdown",
   "metadata": {},
   "source": [
    "### Cтатистическая значимость различий в среднем чеке заказа между группами по «сырым» данным"
   ]
  },
  {
   "cell_type": "markdown",
   "metadata": {},
   "source": [
    "Нулевая гипотеза гласит, что в среднем чеке между группами различий нет. \n",
    "Альтернативая гипотеза гласит, что в среднем чеке между группами есть различия."
   ]
  },
  {
   "cell_type": "code",
   "execution_count": 35,
   "metadata": {},
   "outputs": [
    {
     "data": {
      "text/plain": [
       "'0.365'"
      ]
     },
     "metadata": {},
     "output_type": "display_data"
    },
    {
     "data": {
      "text/plain": [
       "'0.259'"
      ]
     },
     "metadata": {},
     "output_type": "display_data"
    }
   ],
   "source": [
    "display('{0:.3f}'.format(stats.mannwhitneyu(orders[orders['group']=='A']['revenue'], orders[orders['group']=='B']['revenue'])[1]))\n",
    "display('{0:.3f}'.format(orders[orders['group']=='B']['revenue'].mean()/orders[orders['group']=='A']['revenue'].mean()-1)) "
   ]
  },
  {
   "cell_type": "markdown",
   "metadata": {},
   "source": [
    "Вывод: P-value значительно больше 0.05. Значит, причин отвергать нулевую гипотезу и считать, что в среднем чеке есть различия, нет. Впрочем, средний чек группы А значительно ниже среднего чека группы В."
   ]
  },
  {
   "cell_type": "markdown",
   "metadata": {},
   "source": [
    "### Статистическая значимость различий в конверсии между группами по «очищенным» данным"
   ]
  },
  {
   "cell_type": "markdown",
   "metadata": {},
   "source": [
    "#### Посчитаем аномальное количество пользователей"
   ]
  },
  {
   "cell_type": "code",
   "execution_count": 36,
   "metadata": {},
   "outputs": [
    {
     "data": {
      "text/plain": [
       "1031"
      ]
     },
     "execution_count": 36,
     "metadata": {},
     "output_type": "execute_result"
    }
   ],
   "source": [
    "orders['visitorId'].nunique()"
   ]
  },
  {
   "cell_type": "markdown",
   "metadata": {},
   "source": [
    "Количество уникальных пользователей"
   ]
  },
  {
   "cell_type": "code",
   "execution_count": 37,
   "metadata": {},
   "outputs": [
    {
     "data": {
      "text/plain": [
       "1099    148427295\n",
       "18      199603092\n",
       "928     204675465\n",
       "23      237748145\n",
       "37      249864742\n",
       "Name: visitorId, dtype: int64"
      ]
     },
     "metadata": {},
     "output_type": "display_data"
    },
    {
     "data": {
      "text/plain": [
       "(74,)"
      ]
     },
     "metadata": {},
     "output_type": "display_data"
    }
   ],
   "source": [
    "usersWithManyOrders = pd.concat(\n",
    "    [\n",
    "        ordersByUsersA[ordersByUsersA['orders'] > 2]['visitorId'],\n",
    "        ordersByUsersB[ordersByUsersB['orders'] > 2]['visitorId'],\n",
    "    ],\n",
    "    axis=0,\n",
    ")\n",
    "usersWithExpensiveOrders = orders[orders['revenue'] > 28000]['visitorId']\n",
    "abnormalUsers = (\n",
    "    pd.concat([usersWithManyOrders, usersWithExpensiveOrders], axis=0)\n",
    "    .drop_duplicates()\n",
    "    .sort_values()\n",
    ")\n",
    "display(abnormalUsers.head(5))\n",
    "display(abnormalUsers.shape) "
   ]
  },
  {
   "cell_type": "markdown",
   "metadata": {},
   "source": [
    "Из 1031 пользователей, оказалось 74 аномальных. Это 7% от всего числа пользователей. Посмотри как они влияют на данные"
   ]
  },
  {
   "cell_type": "code",
   "execution_count": 38,
   "metadata": {},
   "outputs": [
    {
     "data": {
      "text/plain": [
       "'0.007'"
      ]
     },
     "metadata": {},
     "output_type": "display_data"
    },
    {
     "data": {
      "text/plain": [
       "'0.173'"
      ]
     },
     "metadata": {},
     "output_type": "display_data"
    }
   ],
   "source": [
    "sampleAFiltered = pd.concat(\n",
    "    [\n",
    "        ordersByUsersA[\n",
    "            np.logical_not(ordersByUsersA['visitorId'].isin(abnormalUsers))\n",
    "        ]['orders'],\n",
    "        pd.Series(\n",
    "            0,\n",
    "            index=np.arange(\n",
    "                data['visitorsPerDateA'].sum() - len(ordersByUsersA['orders'])\n",
    "            ),\n",
    "            name='orders',\n",
    "        ),\n",
    "    ],\n",
    "    axis=0,\n",
    ")\n",
    "\n",
    "sampleBFiltered = pd.concat(\n",
    "    [\n",
    "        ordersByUsersB[\n",
    "            np.logical_not(ordersByUsersB['visitorId'].isin(abnormalUsers))\n",
    "        ]['orders'],\n",
    "        pd.Series(\n",
    "            0,\n",
    "            index=np.arange(\n",
    "                data['visitorsPerDateB'].sum() - len(ordersByUsersB['orders'])\n",
    "            ),\n",
    "            name='orders',\n",
    "        ),\n",
    "    ],\n",
    "    axis=0,\n",
    ")\n",
    "display('{0:.3f}'.format(stats.mannwhitneyu(sampleAFiltered, sampleBFiltered)[1]))\n",
    "display('{0:.3f}'.format(sampleBFiltered.mean()/sampleAFiltered.mean()-1)) "
   ]
  },
  {
   "cell_type": "markdown",
   "metadata": {},
   "source": [
    "Вывод: Вывод: По «очищенным» данным различия в конверсии групп A и B есть.\n",
    "Первое число — p-value = 0.007. меньше 0.05. Значит, нулевую гипотезу о том, что статистически значимых различий в конверсии между группами нет, отвергаем. Однако относительный проигрыш группы А равен 17.3% — второе число в выводе.\n",
    "Результаты по конверсии почти не изменились"
   ]
  },
  {
   "cell_type": "markdown",
   "metadata": {},
   "source": [
    "### Cтатистическая значимость различий в среднем чеке заказа между группами по «очищенным» данным"
   ]
  },
  {
   "cell_type": "code",
   "execution_count": 39,
   "metadata": {},
   "outputs": [
    {
     "name": "stdout",
     "output_type": "stream",
     "text": [
      "0.369\n",
      "-0.020\n"
     ]
    }
   ],
   "source": [
    "print(\n",
    "    '{0:.3f}'.format(\n",
    "        stats.mannwhitneyu(\n",
    "            orders[\n",
    "                np.logical_and(\n",
    "                    orders['group'] == 'A',\n",
    "                    np.logical_not(orders['visitorId'].isin(abnormalUsers)),\n",
    "                )\n",
    "            ]['revenue'],\n",
    "            orders[\n",
    "                np.logical_and(\n",
    "                    orders['group'] == 'B',\n",
    "                    np.logical_not(orders['visitorId'].isin(abnormalUsers)),\n",
    "                )\n",
    "            ]['revenue'],\n",
    "        )[1]\n",
    "    )\n",
    ")\n",
    "\n",
    "print(\n",
    "    \"{0:.3f}\".format(\n",
    "        orders[\n",
    "            np.logical_and(\n",
    "                orders['group'] == 'B',\n",
    "                np.logical_not(orders['visitorId'].isin(abnormalUsers)),\n",
    "            )\n",
    "        ]['revenue'].mean()\n",
    "        / orders[\n",
    "            np.logical_and(\n",
    "                orders['group'] == 'A',\n",
    "                np.logical_not(orders['visitorId'].isin(abnormalUsers)),\n",
    "            )\n",
    "        ]['revenue'].mean()\n",
    "        - 1\n",
    "    )\n",
    ")"
   ]
  },
  {
   "cell_type": "markdown",
   "metadata": {},
   "source": [
    "Вывод: P-value незначительно увеличился, но и разница между сегментами сократилась. Средний чек группы А стал выше среднего чека группы В."
   ]
  },
  {
   "cell_type": "markdown",
   "metadata": {},
   "source": [
    "### Решение по результатам теста"
   ]
  },
  {
   "cell_type": "markdown",
   "metadata": {},
   "source": [
    "<ul>\n",
    "    <li>Различия по статистической значимости по конверсии между группами есть и в «сырых» данных, и в данных после фильтрации аномалий;</li>\n",
    "    <li>Различия по статистической значимости по среднему между группами есть и в «сырых» данных, и в данных после фильтрации аномалий;</li>\n",
    "    <li>График различия конверсии между группами сообщает, что результаты группы A хуже группы B и нет значительной тенденции к улучшению:</li>\n",
    "</ul>"
   ]
  },
  {
   "cell_type": "markdown",
   "metadata": {},
   "source": [
    "[График относительного изменения кумулятивной конверсии группы B к группе A](#График-относительного-изменения-кумулятивной-конверсии-группы-B-к-группе-A)\n",
    "<a id='График относительного изменения кумулятивной конверсии группы B к группе A'></a>"
   ]
  },
  {
   "cell_type": "markdown",
   "metadata": {},
   "source": [
    "<ul>\n",
    "    <li>График различия среднего чека говорит о том, что результаты группы B по «сырым» данным выше группы А на 26% хуже:</li>\n",
    "    \n",
    "</ul>"
   ]
  },
  {
   "cell_type": "markdown",
   "metadata": {},
   "source": [
    "[График относительного изменения кумулятивного среднего чека группы B к группе A](#График-относительного-изменения-кумулятивного-среднего-чека-группы-B-к-группе-A)\n",
    "<a id='График-относительного-изменения-кумулятивного-среднего-чека-группы-B-к-группе-A'></a>"
   ]
  },
  {
   "cell_type": "markdown",
   "metadata": {},
   "source": [
    "<ul>\n",
    "    <li>Однако расчет различия среднего чека говорит о том, что результаты группы B по «очищенным» данным ниже группы А на 2%:</li>\n",
    "    \n",
    "</ul>"
   ]
  },
  {
   "cell_type": "markdown",
   "metadata": {},
   "source": [
    "[Cтатистическая значимость различий в среднем чеке заказа между группами по «очищенным» данным](#Cтатистическая-значимость-различий-в-среднем-чеке-заказа-между-группами-по-«очищенным»-данным)\n",
    "<a id='Cтатистическая значимость различий в среднем чеке заказа между группами по «очищенным» данным'></a>\n"
   ]
  },
  {
   "cell_type": "markdown",
   "metadata": {},
   "source": [
    "Исходя из выше перечисленных фактов, считаю, что тест необходимо продолжить, так как при отутствии выбросов выручка группы А выше группы В и может увеличиваться дальше"
   ]
  },
  {
   "cell_type": "markdown",
   "metadata": {},
   "source": [
    "<div class=\"alert alert-info\"> Общий вывод: \n",
    "    <ul> \n",
    "    <li>Перед нами стояла задача приоритизация гипотез и анализ результата A/B-тестирования для увелечения выручки.</li>\n",
    "    <li>Для анализа нам была предоставлена таблица с данными о гипотизах, включающая в себя данные:\n",
    "        <ul>\n",
    "        <li> о кратком описании гипотезы;</li>\n",
    "        <li> об охвате пользователей по 10-балльной шкале;</li>\n",
    "        <li> о влиянии на пользователей по 10-балльной шкале; </li>\n",
    "        <li> об уверенности в гипотезе по 10-балльной шкале;</li>\n",
    "        <li> о затратах ресурсов на проверку гипотезы по 10-балльной шкале. </li>\n",
    "        </ul>\n",
    "    </li>\n",
    "    <li>Таблицы с данными о покупках, включающая в себя данные:\n",
    "        <ul>\n",
    "            <li>об идентификатое заказа</li>\n",
    "            <li>об идентификаторе пользователя, совершившего заказ</li>\n",
    "            <li>о дате, когда был совершён заказ</li>\n",
    "            <li>о выручке заказа</li>\n",
    "            <li>о группе A/B-теста, в которую попал заказ</li>\n",
    "        </ul>\n",
    "    </li>\n",
    "        <li>Таблицы с данными о визитах, включающая в себя данные:\n",
    "        <ul>\n",
    "            <li>о дате</li>\n",
    "            <li>о группе A/B-теста</li>\n",
    "            <li>о количестве пользователей в указанную дату в указанной группе A/B-теста</li>\n",
    "        </ul>\n",
    "    </li>\n",
    "        <li> Первое, что пришлость сделать после визуального осмотра таблиц - это привести название столобцов к единому стандарту;</li>\n",
    "        <li> Далее, проверил наличие дубликатов в данные;</li>\n",
    "        <li> Заметил, что некоторые пользователи попали в обе группы, таких оказалось 58 шт</li>\n",
    "        <li> Провел приоритизацию гипотез методами ICE и RICE. В обоих случаях топ 5 гипотез были одними и теми же.</li>\n",
    "        <li> Следом я приступил к анализу A/B-тестирования:\n",
    "            <ul>\n",
    "                <li>\n",
    "                Построил график кумулятивной выручки по группам\n",
    "                </li>\n",
    "                <li>\n",
    "                Построил график кумулятивного среднего чека по группам\n",
    "                </li>\n",
    "                <li>\n",
    "                Построил график относительного изменения среднечего чека группу В к группе А\n",
    "                </li>\n",
    "                 <li>\n",
    "                Построил график кумулятивной конверсии по группам\n",
    "                </li>\n",
    "                <li>\n",
    "                 Построил график относительного изменения кумулятивной конверсии группу В к группе А\n",
    "                </li>\n",
    "                <li>\n",
    "                 Построил точечный график количества заказов на пользователя\n",
    "                </li>\n",
    "                <li>\n",
    "                 Посчитал 95-й и 99-й перцентили количества заказов на пользователя\n",
    "                </li>\n",
    "                 <li>\n",
    "                 Построил точечный график стоимости заказов\n",
    "                </li>\n",
    "                <li>\n",
    "                 Посчитал 95-й и 99-й перцентили стоимости заказов\n",
    "                </li>\n",
    "                 <li>\n",
    "                 Посчитал статистическую значимость различий в конверсии между группами по «сырым» данным\n",
    "                </li>\n",
    "                 <li>\n",
    "                 Посчитал статистическую значимость различий в среднем чеке заказа между группами по «сырым» данным\n",
    "                </li>\n",
    "                 <li>\n",
    "                 Посчитал статистическую значимость различий в в конверсии между группами по «очищеным» данным\n",
    "                </li>\n",
    "                 <li>\n",
    "                 Посчитал статистическую значимость различий в среднем чеке заказа между группами по «очищеным» данным\n",
    "                </li>\n",
    "            </ul>\n",
    "        </li>\n",
    "            <li>По результатам анализа статистическая значимость различий в конверсии между группами по «сырым» данным составила 13,8%. Так же при проверке нулевой гипотезы о том, что статистически значимых различий в конверсии между группами нет оказалось отвергнутой.</li>\n",
    "        <li>По результатам анализа статистическая значимость различий в среднем чеке заказа между группами по «сырым» данным составила 26%. Так же при проверке нулевой гипотезы о том, что статистически значимых различий в среднем чеке между группами нет оказалось отвергнутой.</li>\n",
    "        <li>По результатам анализа статистическая значимость различий в конверсии между группами по «очищенным» данным составила 17,3%. Так же при проверке нулевой гипотезы о том, что статистически значимых различий в конверсии между группами нет оказалось отвергнутой.</li>\n",
    "        <li>По результатам анализа статистическая значимость различий в среднем чеке заказа между группами по «очищенным» данным составила 2%, причем группа А по очищенным данным оказалось впереди. Так же при проверке нулевой гипотезы о том, что статистически значимых различий в среднем чеке между группами нет оказалось отвергнутой.</li>\n",
    "        <li>Из-за того, что по очищенным данныс средний чек группы А оказался выше группы В тестирование необходимо продолжить.</li>\n",
    "    </ul>\n",
    "</div>"
   ]
  },
  {
   "cell_type": "code",
   "execution_count": null,
   "metadata": {},
   "outputs": [],
   "source": []
  }
 ],
 "metadata": {
  "ExecuteTimeLog": [
   {
    "duration": 356,
    "start_time": "2021-11-02T21:14:36.306Z"
   },
   {
    "duration": 1470,
    "start_time": "2021-11-02T21:14:41.884Z"
   },
   {
    "duration": 25,
    "start_time": "2021-11-02T21:14:43.356Z"
   },
   {
    "duration": 10,
    "start_time": "2021-11-02T21:14:59.447Z"
   },
   {
    "duration": 27,
    "start_time": "2021-11-02T21:15:08.281Z"
   },
   {
    "duration": 23,
    "start_time": "2021-11-02T21:15:16.495Z"
   },
   {
    "duration": 17,
    "start_time": "2021-11-02T21:15:22.014Z"
   },
   {
    "duration": 19,
    "start_time": "2021-11-02T21:15:55.579Z"
   },
   {
    "duration": 4,
    "start_time": "2021-11-02T21:16:29.170Z"
   },
   {
    "duration": 12,
    "start_time": "2021-11-02T21:16:32.381Z"
   },
   {
    "duration": 22,
    "start_time": "2021-11-02T21:21:37.949Z"
   },
   {
    "duration": 378,
    "start_time": "2021-11-02T21:21:46.094Z"
   },
   {
    "duration": 16,
    "start_time": "2021-11-02T21:21:49.813Z"
   },
   {
    "duration": 16,
    "start_time": "2021-11-02T21:22:51.122Z"
   },
   {
    "duration": 15,
    "start_time": "2021-11-02T21:23:09.323Z"
   },
   {
    "duration": 15,
    "start_time": "2021-11-02T21:23:19.261Z"
   },
   {
    "duration": 20,
    "start_time": "2021-11-02T21:23:49.863Z"
   },
   {
    "duration": 15,
    "start_time": "2021-11-02T21:24:05.652Z"
   },
   {
    "duration": 1476,
    "start_time": "2021-11-02T21:24:19.680Z"
   },
   {
    "duration": 18,
    "start_time": "2021-11-02T21:24:21.159Z"
   },
   {
    "duration": 30,
    "start_time": "2021-11-02T21:24:21.181Z"
   },
   {
    "duration": 5,
    "start_time": "2021-11-02T21:24:21.214Z"
   },
   {
    "duration": 53,
    "start_time": "2021-11-02T21:24:21.222Z"
   },
   {
    "duration": 14,
    "start_time": "2021-11-02T21:24:31.916Z"
   },
   {
    "duration": 17,
    "start_time": "2021-11-02T21:25:20.844Z"
   },
   {
    "duration": 427,
    "start_time": "2021-11-02T21:25:26.240Z"
   },
   {
    "duration": 16,
    "start_time": "2021-11-02T21:25:35.500Z"
   },
   {
    "duration": 57,
    "start_time": "2021-11-02T21:28:01.753Z"
   },
   {
    "duration": 33,
    "start_time": "2021-11-02T21:28:38.860Z"
   },
   {
    "duration": 1322,
    "start_time": "2021-11-02T21:29:24.540Z"
   },
   {
    "duration": 4,
    "start_time": "2021-11-02T21:29:47.710Z"
   },
   {
    "duration": 20,
    "start_time": "2021-11-02T21:29:50.481Z"
   },
   {
    "duration": 9,
    "start_time": "2021-11-02T21:29:59.858Z"
   },
   {
    "duration": 28,
    "start_time": "2021-11-02T21:30:28.368Z"
   },
   {
    "duration": 5,
    "start_time": "2021-11-02T21:30:45.711Z"
   },
   {
    "duration": 349,
    "start_time": "2021-11-05T17:35:12.691Z"
   },
   {
    "duration": 1453,
    "start_time": "2021-11-05T17:36:26.301Z"
   },
   {
    "duration": 60,
    "start_time": "2021-11-05T17:36:27.757Z"
   },
   {
    "duration": 24,
    "start_time": "2021-11-05T17:36:27.820Z"
   },
   {
    "duration": 4,
    "start_time": "2021-11-05T17:36:27.848Z"
   },
   {
    "duration": 40,
    "start_time": "2021-11-05T17:36:27.854Z"
   },
   {
    "duration": 19,
    "start_time": "2021-11-05T17:36:27.897Z"
   },
   {
    "duration": 56,
    "start_time": "2021-11-05T17:36:27.919Z"
   },
   {
    "duration": 7,
    "start_time": "2021-11-05T17:36:27.978Z"
   },
   {
    "duration": 21,
    "start_time": "2021-11-05T17:36:27.989Z"
   },
   {
    "duration": 56,
    "start_time": "2021-11-05T17:36:28.013Z"
   },
   {
    "duration": 12,
    "start_time": "2021-11-05T17:36:28.072Z"
   },
   {
    "duration": 7782,
    "start_time": "2021-11-05T17:36:37.535Z"
   },
   {
    "duration": 7547,
    "start_time": "2021-11-05T17:38:14.393Z"
   },
   {
    "duration": 350,
    "start_time": "2021-11-05T17:38:38.098Z"
   },
   {
    "duration": 286,
    "start_time": "2021-11-05T17:39:17.481Z"
   },
   {
    "duration": 9,
    "start_time": "2021-11-05T17:39:31.636Z"
   },
   {
    "duration": 14,
    "start_time": "2021-11-05T17:39:43.885Z"
   },
   {
    "duration": 299,
    "start_time": "2021-11-05T17:40:17.033Z"
   },
   {
    "duration": 331,
    "start_time": "2021-11-05T17:40:55.611Z"
   },
   {
    "duration": 95,
    "start_time": "2021-11-05T17:41:58.774Z"
   },
   {
    "duration": 546,
    "start_time": "2021-11-05T17:42:03.677Z"
   },
   {
    "duration": 1037,
    "start_time": "2021-11-05T17:42:14.087Z"
   },
   {
    "duration": 332,
    "start_time": "2021-11-05T17:42:34.516Z"
   },
   {
    "duration": 572,
    "start_time": "2021-11-05T17:42:40.927Z"
   },
   {
    "duration": 432,
    "start_time": "2021-11-05T17:43:01.518Z"
   },
   {
    "duration": 699,
    "start_time": "2021-11-05T17:43:15.558Z"
   },
   {
    "duration": 651,
    "start_time": "2021-11-05T17:44:44.400Z"
   },
   {
    "duration": 623,
    "start_time": "2021-11-05T17:44:56.014Z"
   },
   {
    "duration": 762,
    "start_time": "2021-11-05T17:47:32.709Z"
   },
   {
    "duration": 745,
    "start_time": "2021-11-05T17:47:45.664Z"
   },
   {
    "duration": 749,
    "start_time": "2021-11-05T17:47:48.039Z"
   },
   {
    "duration": 114,
    "start_time": "2021-11-05T17:48:11.068Z"
   },
   {
    "duration": 300,
    "start_time": "2021-11-05T17:48:16.138Z"
   },
   {
    "duration": 767,
    "start_time": "2021-11-05T17:48:36.610Z"
   },
   {
    "duration": 791,
    "start_time": "2021-11-05T17:49:39.825Z"
   },
   {
    "duration": 631,
    "start_time": "2021-11-05T17:49:48.406Z"
   },
   {
    "duration": 565,
    "start_time": "2021-11-05T17:49:59.064Z"
   },
   {
    "duration": 962,
    "start_time": "2021-11-05T17:50:46.653Z"
   },
   {
    "duration": 610,
    "start_time": "2021-11-05T17:50:53.160Z"
   },
   {
    "duration": 378,
    "start_time": "2021-11-05T17:51:05.006Z"
   },
   {
    "duration": 439,
    "start_time": "2021-11-05T17:51:09.245Z"
   },
   {
    "duration": 412,
    "start_time": "2021-11-05T17:52:31.474Z"
   },
   {
    "duration": 430,
    "start_time": "2021-11-05T17:58:10.766Z"
   },
   {
    "duration": 630,
    "start_time": "2021-11-05T17:58:24.240Z"
   },
   {
    "duration": 515,
    "start_time": "2021-11-05T17:58:30.771Z"
   },
   {
    "duration": 403,
    "start_time": "2021-11-05T19:13:28.459Z"
   },
   {
    "duration": 1588,
    "start_time": "2021-11-05T19:13:33.300Z"
   },
   {
    "duration": 83,
    "start_time": "2021-11-05T19:13:34.891Z"
   },
   {
    "duration": 26,
    "start_time": "2021-11-05T19:13:34.977Z"
   },
   {
    "duration": 5,
    "start_time": "2021-11-05T19:13:35.007Z"
   },
   {
    "duration": 65,
    "start_time": "2021-11-05T19:13:35.015Z"
   },
   {
    "duration": 21,
    "start_time": "2021-11-05T19:13:35.083Z"
   },
   {
    "duration": 65,
    "start_time": "2021-11-05T19:13:35.107Z"
   },
   {
    "duration": 7,
    "start_time": "2021-11-05T19:13:35.177Z"
   },
   {
    "duration": 24,
    "start_time": "2021-11-05T19:13:35.187Z"
   },
   {
    "duration": 54,
    "start_time": "2021-11-05T19:13:35.214Z"
   },
   {
    "duration": 11,
    "start_time": "2021-11-05T19:13:35.271Z"
   },
   {
    "duration": 453,
    "start_time": "2021-11-05T19:13:35.285Z"
   },
   {
    "duration": 302,
    "start_time": "2021-11-05T19:13:35.741Z"
   },
   {
    "duration": 9,
    "start_time": "2021-11-05T19:13:36.045Z"
   },
   {
    "duration": 14,
    "start_time": "2021-11-05T19:13:36.067Z"
   },
   {
    "duration": 459,
    "start_time": "2021-11-05T19:13:36.083Z"
   },
   {
    "duration": 426,
    "start_time": "2021-11-05T19:13:36.544Z"
   },
   {
    "duration": 520,
    "start_time": "2021-11-05T19:13:36.973Z"
   },
   {
    "duration": 6,
    "start_time": "2021-11-05T19:13:37.496Z"
   },
   {
    "duration": 7,
    "start_time": "2021-11-05T19:14:45.457Z"
   },
   {
    "duration": 387,
    "start_time": "2021-11-05T19:16:12.405Z"
   },
   {
    "duration": 486,
    "start_time": "2021-11-05T19:16:26.624Z"
   },
   {
    "duration": 395,
    "start_time": "2021-11-05T19:16:36.925Z"
   },
   {
    "duration": 486,
    "start_time": "2021-11-05T19:16:47.381Z"
   },
   {
    "duration": 433,
    "start_time": "2021-11-05T19:17:48.059Z"
   },
   {
    "duration": 791,
    "start_time": "2021-11-05T19:17:54.195Z"
   },
   {
    "duration": 420,
    "start_time": "2021-11-05T19:17:57.035Z"
   },
   {
    "duration": 655,
    "start_time": "2021-11-05T19:21:38.598Z"
   },
   {
    "duration": 718,
    "start_time": "2021-11-05T19:21:51.964Z"
   },
   {
    "duration": 534,
    "start_time": "2021-11-05T19:22:13.265Z"
   },
   {
    "duration": 496,
    "start_time": "2021-11-05T19:22:24.592Z"
   },
   {
    "duration": 6,
    "start_time": "2021-11-05T19:23:10.781Z"
   },
   {
    "duration": 7,
    "start_time": "2021-11-05T19:23:22.479Z"
   },
   {
    "duration": 13,
    "start_time": "2021-11-05T19:23:43.802Z"
   },
   {
    "duration": 12,
    "start_time": "2021-11-05T19:24:52.894Z"
   },
   {
    "duration": 7858,
    "start_time": "2021-11-05T19:24:53.129Z"
   },
   {
    "duration": -1490,
    "start_time": "2021-11-05T19:25:17.204Z"
   },
   {
    "duration": 14,
    "start_time": "2021-11-05T19:25:27.599Z"
   },
   {
    "duration": 588,
    "start_time": "2021-11-05T19:26:03.596Z"
   },
   {
    "duration": 16,
    "start_time": "2021-11-05T19:28:30.264Z"
   },
   {
    "duration": 19,
    "start_time": "2021-11-05T19:28:37.128Z"
   },
   {
    "duration": 23,
    "start_time": "2021-11-05T19:29:21.176Z"
   },
   {
    "duration": 24,
    "start_time": "2021-11-05T19:29:45.456Z"
   },
   {
    "duration": 28,
    "start_time": "2021-11-05T19:29:54.344Z"
   },
   {
    "duration": 274,
    "start_time": "2021-11-05T19:34:10.370Z"
   },
   {
    "duration": 396,
    "start_time": "2021-11-05T19:34:28.573Z"
   },
   {
    "duration": 9,
    "start_time": "2021-11-05T19:35:26.844Z"
   },
   {
    "duration": 372,
    "start_time": "2021-11-05T19:35:45.895Z"
   },
   {
    "duration": 508,
    "start_time": "2021-11-05T19:35:51.277Z"
   },
   {
    "duration": 310,
    "start_time": "2021-11-05T19:36:20.345Z"
   },
   {
    "duration": 295,
    "start_time": "2021-11-05T19:36:42.549Z"
   },
   {
    "duration": 313,
    "start_time": "2021-11-05T19:37:25.408Z"
   },
   {
    "duration": 18,
    "start_time": "2021-11-05T19:37:51.101Z"
   },
   {
    "duration": 315,
    "start_time": "2021-11-05T19:38:01.452Z"
   },
   {
    "duration": 10,
    "start_time": "2021-11-05T19:38:15.231Z"
   },
   {
    "duration": 362,
    "start_time": "2021-11-05T19:38:35.884Z"
   },
   {
    "duration": 536,
    "start_time": "2021-11-05T19:40:38.321Z"
   },
   {
    "duration": 491,
    "start_time": "2021-11-05T19:40:49.536Z"
   },
   {
    "duration": 9,
    "start_time": "2021-11-05T19:41:58.484Z"
   },
   {
    "duration": 8,
    "start_time": "2021-11-05T19:42:19.943Z"
   },
   {
    "duration": 297,
    "start_time": "2021-11-05T19:45:50.787Z"
   },
   {
    "duration": 425,
    "start_time": "2021-11-05T19:45:57.165Z"
   },
   {
    "duration": 489,
    "start_time": "2021-11-05T19:46:15.181Z"
   },
   {
    "duration": 7,
    "start_time": "2021-11-05T19:48:40.982Z"
   },
   {
    "duration": 7,
    "start_time": "2021-11-05T19:48:53.521Z"
   },
   {
    "duration": 491,
    "start_time": "2021-11-05T19:53:13.033Z"
   },
   {
    "duration": 7662,
    "start_time": "2021-11-05T19:54:25.020Z"
   },
   {
    "duration": 7295,
    "start_time": "2021-11-05T19:54:36.532Z"
   },
   {
    "duration": 7717,
    "start_time": "2021-11-05T19:55:04.836Z"
   },
   {
    "duration": 480,
    "start_time": "2021-11-05T19:55:33.228Z"
   },
   {
    "duration": 297,
    "start_time": "2021-11-05T19:56:07.117Z"
   },
   {
    "duration": 424,
    "start_time": "2021-11-05T19:56:38.856Z"
   },
   {
    "duration": 413,
    "start_time": "2021-11-05T19:57:05.423Z"
   },
   {
    "duration": 1522,
    "start_time": "2021-11-05T19:57:28.739Z"
   },
   {
    "duration": 61,
    "start_time": "2021-11-05T19:57:30.268Z"
   },
   {
    "duration": 26,
    "start_time": "2021-11-05T19:57:30.333Z"
   },
   {
    "duration": 6,
    "start_time": "2021-11-05T19:57:30.363Z"
   },
   {
    "duration": 44,
    "start_time": "2021-11-05T19:57:30.372Z"
   },
   {
    "duration": 48,
    "start_time": "2021-11-05T19:57:30.419Z"
   },
   {
    "duration": 42,
    "start_time": "2021-11-05T19:57:30.471Z"
   },
   {
    "duration": 8,
    "start_time": "2021-11-05T19:57:30.519Z"
   },
   {
    "duration": 46,
    "start_time": "2021-11-05T19:57:30.530Z"
   },
   {
    "duration": 18,
    "start_time": "2021-11-05T19:57:30.580Z"
   },
   {
    "duration": 21,
    "start_time": "2021-11-05T19:57:30.601Z"
   },
   {
    "duration": 375,
    "start_time": "2021-11-05T19:57:30.625Z"
   },
   {
    "duration": 290,
    "start_time": "2021-11-05T19:57:31.002Z"
   },
   {
    "duration": 13,
    "start_time": "2021-11-05T19:57:31.294Z"
   },
   {
    "duration": 34,
    "start_time": "2021-11-05T19:57:31.310Z"
   },
   {
    "duration": 478,
    "start_time": "2021-11-05T19:57:31.347Z"
   },
   {
    "duration": 433,
    "start_time": "2021-11-05T19:57:31.828Z"
   },
   {
    "duration": 511,
    "start_time": "2021-11-05T19:57:32.266Z"
   },
   {
    "duration": 4,
    "start_time": "2021-11-05T19:57:32.780Z"
   },
   {
    "duration": 15,
    "start_time": "2021-11-05T19:57:32.787Z"
   },
   {
    "duration": 7,
    "start_time": "2021-11-05T19:57:32.804Z"
   },
   {
    "duration": 463,
    "start_time": "2021-11-05T19:57:32.813Z"
   },
   {
    "duration": 12,
    "start_time": "2021-11-05T19:57:33.280Z"
   },
   {
    "duration": 508,
    "start_time": "2021-11-05T19:57:33.295Z"
   },
   {
    "duration": 455,
    "start_time": "2021-11-05T19:57:33.806Z"
   },
   {
    "duration": 10,
    "start_time": "2021-11-05T19:57:34.263Z"
   },
   {
    "duration": 602,
    "start_time": "2021-11-05T19:57:34.275Z"
   },
   {
    "duration": 8,
    "start_time": "2021-11-05T19:57:34.881Z"
   },
   {
    "duration": 518,
    "start_time": "2021-11-05T19:57:34.892Z"
   },
   {
    "duration": 630,
    "start_time": "2021-11-05T19:57:35.412Z"
   },
   {
    "duration": 504,
    "start_time": "2021-11-05T19:58:57.697Z"
   },
   {
    "duration": 311,
    "start_time": "2021-11-05T19:59:42.129Z"
   },
   {
    "duration": 304,
    "start_time": "2021-11-05T19:59:52.868Z"
   },
   {
    "duration": 494,
    "start_time": "2021-11-05T19:59:56.313Z"
   },
   {
    "duration": 388,
    "start_time": "2021-11-05T20:02:25.586Z"
   },
   {
    "duration": 396,
    "start_time": "2021-11-05T20:02:54.202Z"
   },
   {
    "duration": 415,
    "start_time": "2021-11-05T20:03:04.678Z"
   },
   {
    "duration": 518,
    "start_time": "2021-11-05T20:04:28.587Z"
   },
   {
    "duration": 530,
    "start_time": "2021-11-05T20:04:37.497Z"
   },
   {
    "duration": 5,
    "start_time": "2021-11-05T20:04:56.966Z"
   },
   {
    "duration": 5,
    "start_time": "2021-11-05T20:04:59.190Z"
   },
   {
    "duration": 251,
    "start_time": "2021-11-05T20:05:04.782Z"
   },
   {
    "duration": 308,
    "start_time": "2021-11-05T20:08:01.293Z"
   },
   {
    "duration": 16,
    "start_time": "2021-11-05T20:08:05.801Z"
   },
   {
    "duration": 98,
    "start_time": "2021-11-05T20:10:22.563Z"
   },
   {
    "duration": 7987,
    "start_time": "2021-11-05T20:10:29.947Z"
   },
   {
    "duration": 16,
    "start_time": "2021-11-05T20:11:06.380Z"
   },
   {
    "duration": 275,
    "start_time": "2021-11-05T20:12:19.977Z"
   },
   {
    "duration": 7,
    "start_time": "2021-11-05T20:12:24.441Z"
   },
   {
    "duration": 20,
    "start_time": "2021-11-05T20:14:32.875Z"
   },
   {
    "duration": 22,
    "start_time": "2021-11-05T20:17:20.612Z"
   },
   {
    "duration": 519,
    "start_time": "2021-11-05T20:27:50.836Z"
   },
   {
    "duration": 328,
    "start_time": "2021-11-05T20:28:15.205Z"
   },
   {
    "duration": 517,
    "start_time": "2021-11-05T20:28:33.921Z"
   },
   {
    "duration": 333,
    "start_time": "2021-11-05T20:28:38.301Z"
   },
   {
    "duration": 9,
    "start_time": "2021-11-05T20:28:42.346Z"
   },
   {
    "duration": 385,
    "start_time": "2021-11-05T20:28:47.085Z"
   },
   {
    "duration": 7,
    "start_time": "2021-11-05T20:28:58.567Z"
   },
   {
    "duration": 9,
    "start_time": "2021-11-05T20:29:12.522Z"
   },
   {
    "duration": 104,
    "start_time": "2021-11-05T20:29:31.967Z"
   },
   {
    "duration": 681,
    "start_time": "2021-11-05T20:30:07.269Z"
   },
   {
    "duration": 712,
    "start_time": "2021-11-05T20:30:21.487Z"
   },
   {
    "duration": 717,
    "start_time": "2021-11-05T20:30:31.580Z"
   },
   {
    "duration": 654,
    "start_time": "2021-11-05T20:30:36.344Z"
   },
   {
    "duration": 123,
    "start_time": "2021-11-05T20:30:44.014Z"
   },
   {
    "duration": 114,
    "start_time": "2021-11-05T20:30:46.649Z"
   },
   {
    "duration": 661,
    "start_time": "2021-11-05T20:30:49.495Z"
   },
   {
    "duration": 719,
    "start_time": "2021-11-05T20:30:59.642Z"
   },
   {
    "duration": 752,
    "start_time": "2021-11-05T20:31:06.515Z"
   },
   {
    "duration": 681,
    "start_time": "2021-11-05T20:31:13.143Z"
   },
   {
    "duration": 645,
    "start_time": "2021-11-05T20:31:37.522Z"
   },
   {
    "duration": 551,
    "start_time": "2021-11-05T20:31:45.139Z"
   },
   {
    "duration": 544,
    "start_time": "2021-11-05T20:31:51.026Z"
   },
   {
    "duration": 341,
    "start_time": "2021-11-05T20:32:04.503Z"
   },
   {
    "duration": 367,
    "start_time": "2021-11-05T20:32:19.919Z"
   },
   {
    "duration": 386,
    "start_time": "2021-11-05T20:33:08.991Z"
   },
   {
    "duration": 376,
    "start_time": "2021-11-05T20:33:21.118Z"
   },
   {
    "duration": 440,
    "start_time": "2021-11-05T20:33:36.030Z"
   },
   {
    "duration": 476,
    "start_time": "2021-11-05T20:34:02.201Z"
   },
   {
    "duration": 1493,
    "start_time": "2021-11-05T20:42:38.289Z"
   },
   {
    "duration": 98,
    "start_time": "2021-11-05T20:42:39.785Z"
   },
   {
    "duration": 23,
    "start_time": "2021-11-05T20:42:39.886Z"
   },
   {
    "duration": 4,
    "start_time": "2021-11-05T20:42:39.912Z"
   },
   {
    "duration": 60,
    "start_time": "2021-11-05T20:42:39.918Z"
   },
   {
    "duration": 19,
    "start_time": "2021-11-05T20:42:39.981Z"
   },
   {
    "duration": 64,
    "start_time": "2021-11-05T20:42:40.003Z"
   },
   {
    "duration": 6,
    "start_time": "2021-11-05T20:42:40.070Z"
   },
   {
    "duration": 28,
    "start_time": "2021-11-05T20:42:40.080Z"
   },
   {
    "duration": 15,
    "start_time": "2021-11-05T20:42:40.111Z"
   },
   {
    "duration": 41,
    "start_time": "2021-11-05T20:42:40.128Z"
   },
   {
    "duration": 377,
    "start_time": "2021-11-05T20:42:40.172Z"
   },
   {
    "duration": 270,
    "start_time": "2021-11-05T20:42:40.551Z"
   },
   {
    "duration": 8,
    "start_time": "2021-11-05T20:42:40.824Z"
   },
   {
    "duration": 49,
    "start_time": "2021-11-05T20:42:40.835Z"
   },
   {
    "duration": 457,
    "start_time": "2021-11-05T20:42:40.886Z"
   },
   {
    "duration": 435,
    "start_time": "2021-11-05T20:42:41.345Z"
   },
   {
    "duration": 512,
    "start_time": "2021-11-05T20:42:41.782Z"
   },
   {
    "duration": 5,
    "start_time": "2021-11-05T20:42:42.296Z"
   },
   {
    "duration": 17,
    "start_time": "2021-11-05T20:42:42.304Z"
   },
   {
    "duration": 6,
    "start_time": "2021-11-05T20:42:42.323Z"
   },
   {
    "duration": 438,
    "start_time": "2021-11-05T20:42:42.332Z"
   },
   {
    "duration": 11,
    "start_time": "2021-11-05T20:42:42.773Z"
   },
   {
    "duration": 520,
    "start_time": "2021-11-05T20:42:42.786Z"
   },
   {
    "duration": 492,
    "start_time": "2021-11-05T20:42:43.308Z"
   },
   {
    "duration": 11,
    "start_time": "2021-11-05T20:42:43.803Z"
   },
   {
    "duration": 582,
    "start_time": "2021-11-05T20:42:43.820Z"
   },
   {
    "duration": 6,
    "start_time": "2021-11-05T20:42:44.405Z"
   },
   {
    "duration": 480,
    "start_time": "2021-11-05T20:42:44.413Z"
   },
   {
    "duration": 232,
    "start_time": "2021-11-05T20:42:44.896Z"
   },
   {
    "duration": 36,
    "start_time": "2021-11-05T20:42:45.131Z"
   },
   {
    "duration": 7,
    "start_time": "2021-11-05T20:42:45.169Z"
   },
   {
    "duration": 17,
    "start_time": "2021-11-05T20:42:45.179Z"
   },
   {
    "duration": 22,
    "start_time": "2021-11-05T20:42:45.198Z"
   },
   {
    "duration": 63,
    "start_time": "2021-11-05T20:42:45.223Z"
   },
   {
    "duration": 1504,
    "start_time": "2021-11-05T20:55:48.748Z"
   },
   {
    "duration": 74,
    "start_time": "2021-11-05T20:55:50.255Z"
   },
   {
    "duration": 22,
    "start_time": "2021-11-05T20:55:50.332Z"
   },
   {
    "duration": 4,
    "start_time": "2021-11-05T20:55:50.357Z"
   },
   {
    "duration": 40,
    "start_time": "2021-11-05T20:55:50.363Z"
   },
   {
    "duration": 20,
    "start_time": "2021-11-05T20:55:50.406Z"
   },
   {
    "duration": 49,
    "start_time": "2021-11-05T20:55:50.428Z"
   },
   {
    "duration": 6,
    "start_time": "2021-11-05T20:55:50.480Z"
   },
   {
    "duration": 17,
    "start_time": "2021-11-05T20:55:50.488Z"
   },
   {
    "duration": 16,
    "start_time": "2021-11-05T20:55:50.507Z"
   },
   {
    "duration": 48,
    "start_time": "2021-11-05T20:55:50.525Z"
   },
   {
    "duration": 362,
    "start_time": "2021-11-05T20:55:50.575Z"
   },
   {
    "duration": 286,
    "start_time": "2021-11-05T20:55:50.939Z"
   },
   {
    "duration": 10,
    "start_time": "2021-11-05T20:55:51.227Z"
   },
   {
    "duration": 49,
    "start_time": "2021-11-05T20:55:51.240Z"
   },
   {
    "duration": 464,
    "start_time": "2021-11-05T20:55:51.292Z"
   },
   {
    "duration": 423,
    "start_time": "2021-11-05T20:55:51.758Z"
   },
   {
    "duration": 525,
    "start_time": "2021-11-05T20:55:52.183Z"
   },
   {
    "duration": 6,
    "start_time": "2021-11-05T20:55:52.710Z"
   },
   {
    "duration": 14,
    "start_time": "2021-11-05T20:55:52.718Z"
   },
   {
    "duration": 36,
    "start_time": "2021-11-05T20:55:52.735Z"
   },
   {
    "duration": 428,
    "start_time": "2021-11-05T20:55:52.773Z"
   },
   {
    "duration": 13,
    "start_time": "2021-11-05T20:55:53.207Z"
   },
   {
    "duration": 555,
    "start_time": "2021-11-05T20:55:53.223Z"
   },
   {
    "duration": 478,
    "start_time": "2021-11-05T20:55:53.780Z"
   },
   {
    "duration": 10,
    "start_time": "2021-11-05T20:55:54.261Z"
   },
   {
    "duration": 609,
    "start_time": "2021-11-05T20:55:54.274Z"
   },
   {
    "duration": 7,
    "start_time": "2021-11-05T20:55:54.886Z"
   },
   {
    "duration": 481,
    "start_time": "2021-11-05T20:55:54.895Z"
   },
   {
    "duration": 239,
    "start_time": "2021-11-05T20:55:55.379Z"
   },
   {
    "duration": 16,
    "start_time": "2021-11-05T20:55:55.620Z"
   },
   {
    "duration": 30,
    "start_time": "2021-11-05T20:55:55.639Z"
   },
   {
    "duration": 17,
    "start_time": "2021-11-05T20:55:55.671Z"
   },
   {
    "duration": 20,
    "start_time": "2021-11-05T20:55:55.690Z"
   },
   {
    "duration": 64,
    "start_time": "2021-11-05T20:55:55.712Z"
   },
   {
    "duration": 1476,
    "start_time": "2021-11-05T21:13:18.685Z"
   },
   {
    "duration": 84,
    "start_time": "2021-11-05T21:13:20.166Z"
   },
   {
    "duration": 22,
    "start_time": "2021-11-05T21:13:20.253Z"
   },
   {
    "duration": 4,
    "start_time": "2021-11-05T21:13:20.278Z"
   },
   {
    "duration": 32,
    "start_time": "2021-11-05T21:13:20.285Z"
   },
   {
    "duration": 48,
    "start_time": "2021-11-05T21:13:20.320Z"
   },
   {
    "duration": 34,
    "start_time": "2021-11-05T21:13:20.370Z"
   },
   {
    "duration": 6,
    "start_time": "2021-11-05T21:13:20.408Z"
   },
   {
    "duration": 52,
    "start_time": "2021-11-05T21:13:20.416Z"
   },
   {
    "duration": 17,
    "start_time": "2021-11-05T21:13:20.470Z"
   },
   {
    "duration": 21,
    "start_time": "2021-11-05T21:13:20.489Z"
   },
   {
    "duration": 366,
    "start_time": "2021-11-05T21:13:20.513Z"
   },
   {
    "duration": 293,
    "start_time": "2021-11-05T21:13:20.881Z"
   },
   {
    "duration": 9,
    "start_time": "2021-11-05T21:13:21.176Z"
   },
   {
    "duration": 28,
    "start_time": "2021-11-05T21:13:21.188Z"
   },
   {
    "duration": 499,
    "start_time": "2021-11-05T21:13:21.218Z"
   },
   {
    "duration": 453,
    "start_time": "2021-11-05T21:13:21.719Z"
   },
   {
    "duration": 502,
    "start_time": "2021-11-05T21:13:22.174Z"
   },
   {
    "duration": 5,
    "start_time": "2021-11-05T21:13:22.679Z"
   },
   {
    "duration": 15,
    "start_time": "2021-11-05T21:13:22.687Z"
   },
   {
    "duration": 7,
    "start_time": "2021-11-05T21:13:22.705Z"
   },
   {
    "duration": 476,
    "start_time": "2021-11-05T21:13:22.714Z"
   },
   {
    "duration": 12,
    "start_time": "2021-11-05T21:13:23.196Z"
   },
   {
    "duration": 555,
    "start_time": "2021-11-05T21:13:23.212Z"
   },
   {
    "duration": 467,
    "start_time": "2021-11-05T21:13:23.769Z"
   },
   {
    "duration": 8,
    "start_time": "2021-11-05T21:13:24.239Z"
   },
   {
    "duration": 698,
    "start_time": "2021-11-05T21:13:24.249Z"
   },
   {
    "duration": 17,
    "start_time": "2021-11-05T21:13:24.949Z"
   },
   {
    "duration": 474,
    "start_time": "2021-11-05T21:13:24.969Z"
   },
   {
    "duration": 279,
    "start_time": "2021-11-05T21:13:25.446Z"
   },
   {
    "duration": 17,
    "start_time": "2021-11-05T21:13:25.727Z"
   },
   {
    "duration": 6,
    "start_time": "2021-11-05T21:13:25.767Z"
   },
   {
    "duration": 18,
    "start_time": "2021-11-05T21:13:25.775Z"
   },
   {
    "duration": 21,
    "start_time": "2021-11-05T21:13:25.795Z"
   },
   {
    "duration": 59,
    "start_time": "2021-11-05T21:13:25.818Z"
   },
   {
    "duration": 1508,
    "start_time": "2021-11-06T03:24:03.651Z"
   },
   {
    "duration": 76,
    "start_time": "2021-11-06T03:24:05.162Z"
   },
   {
    "duration": 22,
    "start_time": "2021-11-06T03:24:05.241Z"
   },
   {
    "duration": 4,
    "start_time": "2021-11-06T03:24:05.266Z"
   },
   {
    "duration": 33,
    "start_time": "2021-11-06T03:24:05.273Z"
   },
   {
    "duration": 19,
    "start_time": "2021-11-06T03:24:05.309Z"
   },
   {
    "duration": 54,
    "start_time": "2021-11-06T03:24:05.330Z"
   },
   {
    "duration": 6,
    "start_time": "2021-11-06T03:24:05.387Z"
   },
   {
    "duration": 17,
    "start_time": "2021-11-06T03:24:05.396Z"
   },
   {
    "duration": 16,
    "start_time": "2021-11-06T03:24:05.416Z"
   },
   {
    "duration": 48,
    "start_time": "2021-11-06T03:24:05.434Z"
   },
   {
    "duration": 340,
    "start_time": "2021-11-06T03:24:05.485Z"
   },
   {
    "duration": 268,
    "start_time": "2021-11-06T03:24:05.828Z"
   },
   {
    "duration": 10,
    "start_time": "2021-11-06T03:24:06.098Z"
   },
   {
    "duration": 33,
    "start_time": "2021-11-06T03:24:06.111Z"
   },
   {
    "duration": 458,
    "start_time": "2021-11-06T03:24:06.146Z"
   },
   {
    "duration": 415,
    "start_time": "2021-11-06T03:24:06.607Z"
   },
   {
    "duration": 482,
    "start_time": "2021-11-06T03:24:07.024Z"
   },
   {
    "duration": 6,
    "start_time": "2021-11-06T03:24:07.509Z"
   },
   {
    "duration": 16,
    "start_time": "2021-11-06T03:24:07.517Z"
   },
   {
    "duration": 7,
    "start_time": "2021-11-06T03:24:07.536Z"
   },
   {
    "duration": 459,
    "start_time": "2021-11-06T03:24:07.545Z"
   },
   {
    "duration": 12,
    "start_time": "2021-11-06T03:24:08.009Z"
   },
   {
    "duration": 502,
    "start_time": "2021-11-06T03:24:08.024Z"
   },
   {
    "duration": 662,
    "start_time": "2021-11-06T03:24:08.529Z"
   },
   {
    "duration": 7,
    "start_time": "2021-11-06T03:24:09.194Z"
   },
   {
    "duration": 575,
    "start_time": "2021-11-06T03:24:09.203Z"
   },
   {
    "duration": 6,
    "start_time": "2021-11-06T03:24:09.780Z"
   },
   {
    "duration": 464,
    "start_time": "2021-11-06T03:24:09.788Z"
   },
   {
    "duration": 208,
    "start_time": "2021-11-06T03:24:10.254Z"
   },
   {
    "duration": 25,
    "start_time": "2021-11-06T03:24:10.465Z"
   },
   {
    "duration": 5,
    "start_time": "2021-11-06T03:24:10.493Z"
   },
   {
    "duration": 17,
    "start_time": "2021-11-06T03:24:10.501Z"
   },
   {
    "duration": 61,
    "start_time": "2021-11-06T03:24:10.521Z"
   },
   {
    "duration": 20,
    "start_time": "2021-11-06T03:24:10.585Z"
   },
   {
    "duration": 14,
    "start_time": "2021-11-06T03:29:10.867Z"
   },
   {
    "duration": 1940,
    "start_time": "2021-11-06T11:46:04.755Z"
   },
   {
    "duration": 5,
    "start_time": "2021-11-06T11:46:12.312Z"
   },
   {
    "duration": 60,
    "start_time": "2021-11-06T11:46:16.129Z"
   },
   {
    "duration": 23,
    "start_time": "2021-11-06T11:46:17.756Z"
   },
   {
    "duration": 6,
    "start_time": "2021-11-06T11:48:07.964Z"
   },
   {
    "duration": 17,
    "start_time": "2021-11-06T11:48:11.996Z"
   },
   {
    "duration": 5,
    "start_time": "2021-11-06T11:48:35.630Z"
   },
   {
    "duration": 18,
    "start_time": "2021-11-06T11:48:37.967Z"
   },
   {
    "duration": 7,
    "start_time": "2021-11-06T11:49:29.500Z"
   },
   {
    "duration": 18,
    "start_time": "2021-11-06T11:49:30.950Z"
   },
   {
    "duration": 117,
    "start_time": "2021-11-06T11:51:13.304Z"
   },
   {
    "duration": 84,
    "start_time": "2021-11-06T11:51:45.730Z"
   },
   {
    "duration": 13,
    "start_time": "2021-11-06T11:52:21.650Z"
   },
   {
    "duration": 13,
    "start_time": "2021-11-06T11:52:30.060Z"
   },
   {
    "duration": 432,
    "start_time": "2021-11-06T16:14:47.036Z"
   },
   {
    "duration": 1635,
    "start_time": "2021-11-06T16:14:50.566Z"
   },
   {
    "duration": 64,
    "start_time": "2021-11-06T16:14:52.203Z"
   },
   {
    "duration": 23,
    "start_time": "2021-11-06T16:14:52.270Z"
   },
   {
    "duration": 13,
    "start_time": "2021-11-06T16:14:52.296Z"
   },
   {
    "duration": 33,
    "start_time": "2021-11-06T16:14:52.312Z"
   },
   {
    "duration": 21,
    "start_time": "2021-11-06T16:14:52.347Z"
   },
   {
    "duration": 55,
    "start_time": "2021-11-06T16:14:52.370Z"
   },
   {
    "duration": 6,
    "start_time": "2021-11-06T16:14:52.427Z"
   },
   {
    "duration": 518,
    "start_time": "2021-11-06T16:14:52.437Z"
   },
   {
    "duration": -1487,
    "start_time": "2021-11-06T16:14:54.445Z"
   },
   {
    "duration": -1508,
    "start_time": "2021-11-06T16:14:54.468Z"
   },
   {
    "duration": -1511,
    "start_time": "2021-11-06T16:14:54.473Z"
   },
   {
    "duration": -1514,
    "start_time": "2021-11-06T16:14:54.477Z"
   },
   {
    "duration": -1517,
    "start_time": "2021-11-06T16:14:54.482Z"
   },
   {
    "duration": -1519,
    "start_time": "2021-11-06T16:14:54.485Z"
   },
   {
    "duration": -1521,
    "start_time": "2021-11-06T16:14:54.489Z"
   },
   {
    "duration": -1524,
    "start_time": "2021-11-06T16:14:54.493Z"
   },
   {
    "duration": -1527,
    "start_time": "2021-11-06T16:14:54.497Z"
   },
   {
    "duration": -1530,
    "start_time": "2021-11-06T16:14:54.502Z"
   },
   {
    "duration": -1534,
    "start_time": "2021-11-06T16:14:54.507Z"
   },
   {
    "duration": -1536,
    "start_time": "2021-11-06T16:14:54.510Z"
   },
   {
    "duration": -1538,
    "start_time": "2021-11-06T16:14:54.514Z"
   },
   {
    "duration": -1540,
    "start_time": "2021-11-06T16:14:54.517Z"
   },
   {
    "duration": -1542,
    "start_time": "2021-11-06T16:14:54.520Z"
   },
   {
    "duration": -1543,
    "start_time": "2021-11-06T16:14:54.523Z"
   },
   {
    "duration": -1546,
    "start_time": "2021-11-06T16:14:54.527Z"
   },
   {
    "duration": -1549,
    "start_time": "2021-11-06T16:14:54.531Z"
   },
   {
    "duration": -1550,
    "start_time": "2021-11-06T16:14:54.534Z"
   },
   {
    "duration": -1553,
    "start_time": "2021-11-06T16:14:54.538Z"
   },
   {
    "duration": -1554,
    "start_time": "2021-11-06T16:14:54.541Z"
   },
   {
    "duration": -1555,
    "start_time": "2021-11-06T16:14:54.544Z"
   },
   {
    "duration": -1558,
    "start_time": "2021-11-06T16:14:54.548Z"
   },
   {
    "duration": -1558,
    "start_time": "2021-11-06T16:14:54.550Z"
   },
   {
    "duration": -1552,
    "start_time": "2021-11-06T16:14:54.554Z"
   },
   {
    "duration": -1552,
    "start_time": "2021-11-06T16:14:54.556Z"
   },
   {
    "duration": -1553,
    "start_time": "2021-11-06T16:14:54.559Z"
   },
   {
    "duration": 10,
    "start_time": "2021-11-06T16:15:14.199Z"
   },
   {
    "duration": 370,
    "start_time": "2021-11-06T16:15:27.322Z"
   },
   {
    "duration": 388,
    "start_time": "2021-11-06T16:15:32.791Z"
   },
   {
    "duration": 10,
    "start_time": "2021-11-06T16:15:37.735Z"
   },
   {
    "duration": 9,
    "start_time": "2021-11-06T16:16:35.699Z"
   },
   {
    "duration": 6,
    "start_time": "2021-11-06T16:16:58.358Z"
   },
   {
    "duration": 20,
    "start_time": "2021-11-06T16:17:57.178Z"
   },
   {
    "duration": 25,
    "start_time": "2021-11-06T16:18:08.501Z"
   },
   {
    "duration": 23,
    "start_time": "2021-11-06T16:18:32.540Z"
   },
   {
    "duration": 22,
    "start_time": "2021-11-06T16:18:37.695Z"
   },
   {
    "duration": 23,
    "start_time": "2021-11-06T16:18:41.224Z"
   },
   {
    "duration": 32,
    "start_time": "2021-11-06T16:18:57.907Z"
   },
   {
    "duration": 21,
    "start_time": "2021-11-06T16:19:14.638Z"
   },
   {
    "duration": 22,
    "start_time": "2021-11-06T16:19:26.084Z"
   },
   {
    "duration": 20,
    "start_time": "2021-11-06T16:19:33.287Z"
   },
   {
    "duration": 133,
    "start_time": "2021-11-06T16:20:33.214Z"
   },
   {
    "duration": 120,
    "start_time": "2021-11-06T16:20:41.781Z"
   },
   {
    "duration": 155,
    "start_time": "2021-11-06T16:20:45.014Z"
   },
   {
    "duration": 20,
    "start_time": "2021-11-06T16:20:57.397Z"
   },
   {
    "duration": 431,
    "start_time": "2021-11-06T16:23:04.588Z"
   },
   {
    "duration": 8,
    "start_time": "2021-11-06T16:23:06.666Z"
   },
   {
    "duration": 345,
    "start_time": "2021-11-06T16:23:07.223Z"
   },
   {
    "duration": 364,
    "start_time": "2021-11-06T16:23:26.106Z"
   },
   {
    "duration": 287,
    "start_time": "2021-11-06T16:23:26.474Z"
   },
   {
    "duration": 13,
    "start_time": "2021-11-06T16:23:26.955Z"
   },
   {
    "duration": 25,
    "start_time": "2021-11-06T16:23:27.201Z"
   },
   {
    "duration": 452,
    "start_time": "2021-11-06T16:23:27.453Z"
   },
   {
    "duration": 6,
    "start_time": "2021-11-06T16:23:58.417Z"
   },
   {
    "duration": 424,
    "start_time": "2021-11-06T16:24:05.910Z"
   },
   {
    "duration": 688,
    "start_time": "2021-11-06T16:24:59.933Z"
   },
   {
    "duration": 680,
    "start_time": "2021-11-06T16:25:15.833Z"
   },
   {
    "duration": 737,
    "start_time": "2021-11-06T16:25:18.492Z"
   },
   {
    "duration": 444,
    "start_time": "2021-11-06T16:25:26.816Z"
   },
   {
    "duration": 399,
    "start_time": "2021-11-06T16:25:45.514Z"
   },
   {
    "duration": 485,
    "start_time": "2021-11-06T16:25:58.187Z"
   },
   {
    "duration": 1592,
    "start_time": "2021-11-06T16:26:09.295Z"
   },
   {
    "duration": 69,
    "start_time": "2021-11-06T16:26:10.889Z"
   },
   {
    "duration": 25,
    "start_time": "2021-11-06T16:26:10.961Z"
   },
   {
    "duration": 15,
    "start_time": "2021-11-06T16:26:10.990Z"
   },
   {
    "duration": 37,
    "start_time": "2021-11-06T16:26:11.008Z"
   },
   {
    "duration": 64,
    "start_time": "2021-11-06T16:26:11.048Z"
   },
   {
    "duration": 32,
    "start_time": "2021-11-06T16:26:11.114Z"
   },
   {
    "duration": 6,
    "start_time": "2021-11-06T16:26:11.149Z"
   },
   {
    "duration": 47,
    "start_time": "2021-11-06T16:26:11.161Z"
   },
   {
    "duration": 7,
    "start_time": "2021-11-06T16:26:11.212Z"
   },
   {
    "duration": 28,
    "start_time": "2021-11-06T16:26:11.221Z"
   },
   {
    "duration": 9369,
    "start_time": "2021-11-06T16:26:11.251Z"
   },
   {
    "duration": -1527,
    "start_time": "2021-11-06T16:26:22.151Z"
   },
   {
    "duration": -1529,
    "start_time": "2021-11-06T16:26:22.155Z"
   },
   {
    "duration": -1532,
    "start_time": "2021-11-06T16:26:22.159Z"
   },
   {
    "duration": -1533,
    "start_time": "2021-11-06T16:26:22.162Z"
   },
   {
    "duration": -1536,
    "start_time": "2021-11-06T16:26:22.166Z"
   },
   {
    "duration": -1539,
    "start_time": "2021-11-06T16:26:22.170Z"
   },
   {
    "duration": -1542,
    "start_time": "2021-11-06T16:26:22.175Z"
   },
   {
    "duration": -1545,
    "start_time": "2021-11-06T16:26:22.180Z"
   },
   {
    "duration": -1548,
    "start_time": "2021-11-06T16:26:22.184Z"
   },
   {
    "duration": -1551,
    "start_time": "2021-11-06T16:26:22.188Z"
   },
   {
    "duration": -1553,
    "start_time": "2021-11-06T16:26:22.192Z"
   },
   {
    "duration": -1554,
    "start_time": "2021-11-06T16:26:22.195Z"
   },
   {
    "duration": -1557,
    "start_time": "2021-11-06T16:26:22.199Z"
   },
   {
    "duration": -1559,
    "start_time": "2021-11-06T16:26:22.202Z"
   },
   {
    "duration": -1561,
    "start_time": "2021-11-06T16:26:22.206Z"
   },
   {
    "duration": -1564,
    "start_time": "2021-11-06T16:26:22.210Z"
   },
   {
    "duration": -1566,
    "start_time": "2021-11-06T16:26:22.213Z"
   },
   {
    "duration": -1575,
    "start_time": "2021-11-06T16:26:22.224Z"
   },
   {
    "duration": -1579,
    "start_time": "2021-11-06T16:26:22.229Z"
   },
   {
    "duration": -1582,
    "start_time": "2021-11-06T16:26:22.234Z"
   },
   {
    "duration": -1587,
    "start_time": "2021-11-06T16:26:22.240Z"
   },
   {
    "duration": -1590,
    "start_time": "2021-11-06T16:26:22.245Z"
   },
   {
    "duration": -1592,
    "start_time": "2021-11-06T16:26:22.249Z"
   },
   {
    "duration": -1594,
    "start_time": "2021-11-06T16:26:22.252Z"
   },
   {
    "duration": -1597,
    "start_time": "2021-11-06T16:26:22.256Z"
   },
   {
    "duration": -1599,
    "start_time": "2021-11-06T16:26:22.260Z"
   },
   {
    "duration": 9914,
    "start_time": "2021-11-06T16:27:19.403Z"
   },
   {
    "duration": 5,
    "start_time": "2021-11-06T16:27:37.037Z"
   },
   {
    "duration": 17,
    "start_time": "2021-11-06T16:27:41.762Z"
   },
   {
    "duration": 1545,
    "start_time": "2021-11-06T16:27:48.181Z"
   },
   {
    "duration": 74,
    "start_time": "2021-11-06T16:27:49.729Z"
   },
   {
    "duration": 23,
    "start_time": "2021-11-06T16:27:49.807Z"
   },
   {
    "duration": 9,
    "start_time": "2021-11-06T16:27:49.833Z"
   },
   {
    "duration": 63,
    "start_time": "2021-11-06T16:27:49.844Z"
   },
   {
    "duration": 19,
    "start_time": "2021-11-06T16:27:49.909Z"
   },
   {
    "duration": 28,
    "start_time": "2021-11-06T16:27:49.931Z"
   },
   {
    "duration": 43,
    "start_time": "2021-11-06T16:27:49.961Z"
   },
   {
    "duration": 13,
    "start_time": "2021-11-06T16:27:50.008Z"
   },
   {
    "duration": 8,
    "start_time": "2021-11-06T16:27:50.025Z"
   },
   {
    "duration": 27,
    "start_time": "2021-11-06T16:27:50.036Z"
   },
   {
    "duration": 49,
    "start_time": "2021-11-06T16:27:50.066Z"
   },
   {
    "duration": 16,
    "start_time": "2021-11-06T16:27:50.118Z"
   },
   {
    "duration": 8,
    "start_time": "2021-11-06T16:27:50.137Z"
   },
   {
    "duration": 390,
    "start_time": "2021-11-06T16:27:50.147Z"
   },
   {
    "duration": 270,
    "start_time": "2021-11-06T16:27:50.539Z"
   },
   {
    "duration": 9,
    "start_time": "2021-11-06T16:27:50.812Z"
   },
   {
    "duration": 29,
    "start_time": "2021-11-06T16:27:50.823Z"
   },
   {
    "duration": 496,
    "start_time": "2021-11-06T16:27:50.855Z"
   },
   {
    "duration": 449,
    "start_time": "2021-11-06T16:27:51.354Z"
   },
   {
    "duration": 514,
    "start_time": "2021-11-06T16:27:51.806Z"
   },
   {
    "duration": 5,
    "start_time": "2021-11-06T16:27:52.323Z"
   },
   {
    "duration": 15,
    "start_time": "2021-11-06T16:27:52.330Z"
   },
   {
    "duration": 6,
    "start_time": "2021-11-06T16:27:52.348Z"
   },
   {
    "duration": 471,
    "start_time": "2021-11-06T16:27:52.357Z"
   },
   {
    "duration": 11,
    "start_time": "2021-11-06T16:27:52.830Z"
   },
   {
    "duration": 548,
    "start_time": "2021-11-06T16:27:52.846Z"
   },
   {
    "duration": 461,
    "start_time": "2021-11-06T16:27:53.397Z"
   },
   {
    "duration": 8,
    "start_time": "2021-11-06T16:27:53.860Z"
   },
   {
    "duration": 750,
    "start_time": "2021-11-06T16:27:53.871Z"
   },
   {
    "duration": 7,
    "start_time": "2021-11-06T16:27:54.623Z"
   },
   {
    "duration": 661,
    "start_time": "2021-11-06T16:27:54.632Z"
   },
   {
    "duration": 404,
    "start_time": "2021-11-06T16:27:55.300Z"
   },
   {
    "duration": 23,
    "start_time": "2021-11-06T16:27:55.708Z"
   },
   {
    "duration": 7,
    "start_time": "2021-11-06T16:27:55.734Z"
   },
   {
    "duration": 60,
    "start_time": "2021-11-06T16:27:55.744Z"
   },
   {
    "duration": 30,
    "start_time": "2021-11-06T16:27:55.806Z"
   },
   {
    "duration": 22,
    "start_time": "2021-11-06T16:27:55.838Z"
   },
   {
    "duration": 541,
    "start_time": "2021-11-06T16:29:09.945Z"
   },
   {
    "duration": 445,
    "start_time": "2021-11-06T16:30:03.272Z"
   },
   {
    "duration": 455,
    "start_time": "2021-11-06T16:30:15.527Z"
   },
   {
    "duration": 595,
    "start_time": "2021-11-06T16:32:56.922Z"
   },
   {
    "duration": 519,
    "start_time": "2021-11-06T16:33:04.811Z"
   },
   {
    "duration": 539,
    "start_time": "2021-11-06T16:33:07.397Z"
   },
   {
    "duration": 740,
    "start_time": "2021-11-06T16:37:39.272Z"
   },
   {
    "duration": 263,
    "start_time": "2021-11-06T16:38:00.706Z"
   },
   {
    "duration": 230,
    "start_time": "2021-11-06T16:38:03.937Z"
   },
   {
    "duration": 441,
    "start_time": "2021-11-06T16:38:24.438Z"
   },
   {
    "duration": 115,
    "start_time": "2021-11-06T16:39:02.787Z"
   },
   {
    "duration": 133,
    "start_time": "2021-11-06T16:39:08.035Z"
   },
   {
    "duration": 508,
    "start_time": "2021-11-06T17:08:51.812Z"
   },
   {
    "duration": 1171,
    "start_time": "2021-11-07T04:39:39.593Z"
   },
   {
    "duration": 85,
    "start_time": "2021-11-07T04:39:40.766Z"
   },
   {
    "duration": 15,
    "start_time": "2021-11-07T04:39:40.853Z"
   },
   {
    "duration": 3,
    "start_time": "2021-11-07T04:39:40.871Z"
   },
   {
    "duration": 26,
    "start_time": "2021-11-07T04:39:40.876Z"
   },
   {
    "duration": 13,
    "start_time": "2021-11-07T04:39:40.903Z"
   },
   {
    "duration": 50,
    "start_time": "2021-11-07T04:39:40.918Z"
   },
   {
    "duration": 4,
    "start_time": "2021-11-07T04:39:40.970Z"
   },
   {
    "duration": 10,
    "start_time": "2021-11-07T04:39:40.976Z"
   },
   {
    "duration": 6,
    "start_time": "2021-11-07T04:39:40.987Z"
   },
   {
    "duration": 16,
    "start_time": "2021-11-07T04:39:40.995Z"
   },
   {
    "duration": 10,
    "start_time": "2021-11-07T04:39:41.013Z"
   },
   {
    "duration": 45,
    "start_time": "2021-11-07T04:39:41.025Z"
   },
   {
    "duration": 6,
    "start_time": "2021-11-07T04:39:41.071Z"
   },
   {
    "duration": 199,
    "start_time": "2021-11-07T04:39:41.078Z"
   },
   {
    "duration": 159,
    "start_time": "2021-11-07T04:39:41.278Z"
   },
   {
    "duration": 9,
    "start_time": "2021-11-07T04:39:41.439Z"
   },
   {
    "duration": 23,
    "start_time": "2021-11-07T04:39:41.449Z"
   },
   {
    "duration": 278,
    "start_time": "2021-11-07T04:39:41.474Z"
   },
   {
    "duration": 259,
    "start_time": "2021-11-07T04:39:41.754Z"
   },
   {
    "duration": 341,
    "start_time": "2021-11-07T04:39:42.015Z"
   },
   {
    "duration": 6,
    "start_time": "2021-11-07T04:39:42.357Z"
   },
   {
    "duration": 10,
    "start_time": "2021-11-07T04:39:42.366Z"
   },
   {
    "duration": 6,
    "start_time": "2021-11-07T04:39:42.378Z"
   },
   {
    "duration": 289,
    "start_time": "2021-11-07T04:39:42.385Z"
   },
   {
    "duration": 9,
    "start_time": "2021-11-07T04:39:42.676Z"
   },
   {
    "duration": 366,
    "start_time": "2021-11-07T04:39:42.687Z"
   },
   {
    "duration": 351,
    "start_time": "2021-11-07T04:39:43.055Z"
   },
   {
    "duration": 7,
    "start_time": "2021-11-07T04:39:43.409Z"
   },
   {
    "duration": 417,
    "start_time": "2021-11-07T04:39:43.418Z"
   },
   {
    "duration": 397,
    "start_time": "2021-11-07T04:39:43.837Z"
   },
   {
    "duration": 5,
    "start_time": "2021-11-07T04:39:44.235Z"
   },
   {
    "duration": 274,
    "start_time": "2021-11-07T04:39:44.241Z"
   },
   {
    "duration": 121,
    "start_time": "2021-11-07T04:39:44.517Z"
   },
   {
    "duration": 10,
    "start_time": "2021-11-07T04:39:44.640Z"
   },
   {
    "duration": 4,
    "start_time": "2021-11-07T04:39:44.664Z"
   },
   {
    "duration": 13,
    "start_time": "2021-11-07T04:39:44.670Z"
   },
   {
    "duration": 13,
    "start_time": "2021-11-07T04:39:44.685Z"
   },
   {
    "duration": 12,
    "start_time": "2021-11-07T04:39:44.700Z"
   },
   {
    "duration": 255,
    "start_time": "2021-11-07T04:43:38.048Z"
   },
   {
    "duration": 1096,
    "start_time": "2021-11-11T08:35:15.895Z"
   },
   {
    "duration": 61,
    "start_time": "2021-11-11T08:35:16.993Z"
   },
   {
    "duration": 15,
    "start_time": "2021-11-11T08:35:17.056Z"
   },
   {
    "duration": 3,
    "start_time": "2021-11-11T08:35:17.073Z"
   },
   {
    "duration": 22,
    "start_time": "2021-11-11T08:35:17.077Z"
   },
   {
    "duration": 12,
    "start_time": "2021-11-11T08:35:17.101Z"
   },
   {
    "duration": 41,
    "start_time": "2021-11-11T08:35:17.115Z"
   },
   {
    "duration": 5,
    "start_time": "2021-11-11T08:35:17.159Z"
   },
   {
    "duration": 14,
    "start_time": "2021-11-11T08:35:17.166Z"
   },
   {
    "duration": 6,
    "start_time": "2021-11-11T08:35:17.182Z"
   },
   {
    "duration": 55,
    "start_time": "2021-11-11T08:35:17.190Z"
   },
   {
    "duration": 11,
    "start_time": "2021-11-11T08:35:17.247Z"
   },
   {
    "duration": 15,
    "start_time": "2021-11-11T08:35:17.260Z"
   },
   {
    "duration": 7,
    "start_time": "2021-11-11T08:35:17.277Z"
   },
   {
    "duration": 231,
    "start_time": "2021-11-11T08:35:17.286Z"
   },
   {
    "duration": 155,
    "start_time": "2021-11-11T08:35:17.519Z"
   },
   {
    "duration": 6,
    "start_time": "2021-11-11T08:35:17.676Z"
   },
   {
    "duration": 19,
    "start_time": "2021-11-11T08:35:17.684Z"
   },
   {
    "duration": 287,
    "start_time": "2021-11-11T08:35:17.705Z"
   },
   {
    "duration": 255,
    "start_time": "2021-11-11T08:35:17.994Z"
   },
   {
    "duration": 360,
    "start_time": "2021-11-11T08:35:18.250Z"
   },
   {
    "duration": 4,
    "start_time": "2021-11-11T08:35:18.611Z"
   },
   {
    "duration": 36,
    "start_time": "2021-11-11T08:35:18.618Z"
   },
   {
    "duration": 32,
    "start_time": "2021-11-11T08:35:18.656Z"
   },
   {
    "duration": 295,
    "start_time": "2021-11-11T08:35:18.690Z"
   },
   {
    "duration": 9,
    "start_time": "2021-11-11T08:35:18.986Z"
   },
   {
    "duration": 352,
    "start_time": "2021-11-11T08:35:18.996Z"
   },
   {
    "duration": 357,
    "start_time": "2021-11-11T08:35:19.351Z"
   },
   {
    "duration": 6,
    "start_time": "2021-11-11T08:35:19.710Z"
   },
   {
    "duration": 395,
    "start_time": "2021-11-11T08:35:19.717Z"
   },
   {
    "duration": 407,
    "start_time": "2021-11-11T08:35:20.114Z"
   },
   {
    "duration": 6,
    "start_time": "2021-11-11T08:35:20.523Z"
   },
   {
    "duration": 276,
    "start_time": "2021-11-11T08:35:20.543Z"
   },
   {
    "duration": 138,
    "start_time": "2021-11-11T08:35:20.820Z"
   },
   {
    "duration": 10,
    "start_time": "2021-11-11T08:35:20.960Z"
   },
   {
    "duration": 9,
    "start_time": "2021-11-11T08:35:20.972Z"
   },
   {
    "duration": 20,
    "start_time": "2021-11-11T08:35:20.982Z"
   },
   {
    "duration": 25,
    "start_time": "2021-11-11T08:35:21.004Z"
   },
   {
    "duration": 24,
    "start_time": "2021-11-11T08:35:21.030Z"
   },
   {
    "duration": 1468,
    "start_time": "2022-01-25T13:17:54.229Z"
   },
   {
    "duration": 57,
    "start_time": "2022-01-25T13:17:55.700Z"
   },
   {
    "duration": 22,
    "start_time": "2022-01-25T13:17:55.760Z"
   },
   {
    "duration": 5,
    "start_time": "2022-01-25T13:17:55.784Z"
   },
   {
    "duration": 47,
    "start_time": "2022-01-25T13:17:55.791Z"
   },
   {
    "duration": 19,
    "start_time": "2022-01-25T13:17:55.841Z"
   },
   {
    "duration": 28,
    "start_time": "2022-01-25T13:17:55.863Z"
   },
   {
    "duration": 38,
    "start_time": "2022-01-25T13:17:55.895Z"
   },
   {
    "duration": 13,
    "start_time": "2022-01-25T13:17:55.936Z"
   },
   {
    "duration": 7,
    "start_time": "2022-01-25T13:17:55.952Z"
   },
   {
    "duration": 21,
    "start_time": "2022-01-25T13:17:55.962Z"
   },
   {
    "duration": 49,
    "start_time": "2022-01-25T13:17:55.985Z"
   },
   {
    "duration": 27,
    "start_time": "2022-01-25T13:17:56.036Z"
   },
   {
    "duration": 12,
    "start_time": "2022-01-25T13:17:56.066Z"
   },
   {
    "duration": 399,
    "start_time": "2022-01-25T13:17:56.080Z"
   },
   {
    "duration": 278,
    "start_time": "2022-01-25T13:17:56.482Z"
   },
   {
    "duration": 9,
    "start_time": "2022-01-25T13:17:56.762Z"
   },
   {
    "duration": 29,
    "start_time": "2022-01-25T13:17:56.774Z"
   },
   {
    "duration": 470,
    "start_time": "2022-01-25T13:17:56.833Z"
   },
   {
    "duration": 444,
    "start_time": "2022-01-25T13:17:57.306Z"
   },
   {
    "duration": 535,
    "start_time": "2022-01-25T13:17:57.753Z"
   },
   {
    "duration": 6,
    "start_time": "2022-01-25T13:17:58.291Z"
   },
   {
    "duration": 35,
    "start_time": "2022-01-25T13:17:58.301Z"
   },
   {
    "duration": 7,
    "start_time": "2022-01-25T13:17:58.339Z"
   },
   {
    "duration": 473,
    "start_time": "2022-01-25T13:17:58.348Z"
   },
   {
    "duration": 16,
    "start_time": "2022-01-25T13:17:58.824Z"
   },
   {
    "duration": 557,
    "start_time": "2022-01-25T13:17:58.842Z"
   },
   {
    "duration": 509,
    "start_time": "2022-01-25T13:17:59.401Z"
   },
   {
    "duration": 20,
    "start_time": "2022-01-25T13:17:59.912Z"
   },
   {
    "duration": 611,
    "start_time": "2022-01-25T13:17:59.934Z"
   },
   {
    "duration": 533,
    "start_time": "2022-01-25T13:18:00.548Z"
   },
   {
    "duration": 6,
    "start_time": "2022-01-25T13:18:01.083Z"
   },
   {
    "duration": 494,
    "start_time": "2022-01-25T13:18:01.092Z"
   },
   {
    "duration": 256,
    "start_time": "2022-01-25T13:18:01.590Z"
   },
   {
    "duration": 17,
    "start_time": "2022-01-25T13:18:01.848Z"
   },
   {
    "duration": 5,
    "start_time": "2022-01-25T13:18:01.867Z"
   },
   {
    "duration": 57,
    "start_time": "2022-01-25T13:18:01.875Z"
   },
   {
    "duration": 22,
    "start_time": "2022-01-25T13:18:01.934Z"
   },
   {
    "duration": 21,
    "start_time": "2022-01-25T13:18:01.958Z"
   }
  ],
  "kernelspec": {
   "display_name": "Python 3 (ipykernel)",
   "language": "python",
   "name": "python3"
  },
  "language_info": {
   "codemirror_mode": {
    "name": "ipython",
    "version": 3
   },
   "file_extension": ".py",
   "mimetype": "text/x-python",
   "name": "python",
   "nbconvert_exporter": "python",
   "pygments_lexer": "ipython3",
   "version": "3.9.5"
  },
  "toc": {
   "base_numbering": 1,
   "nav_menu": {},
   "number_sections": true,
   "sideBar": true,
   "skip_h1_title": true,
   "title_cell": "Содержание",
   "title_sidebar": "Contents",
   "toc_cell": true,
   "toc_position": {
    "height": "calc(100% - 180px)",
    "left": "10px",
    "top": "150px",
    "width": "366.391px"
   },
   "toc_section_display": true,
   "toc_window_display": false
  }
 },
 "nbformat": 4,
 "nbformat_minor": 2
}
