{
 "cells": [
  {
   "cell_type": "markdown",
   "metadata": {},
   "source": [
    "# Исследование надёжности заёмщиков\n",
    "\n",
    "Заказчик — кредитный отдел банка. Нужно разобраться, влияет ли семейное положение и количество детей клиента на факт погашения кредита в срок. Входные данные от банка — статистика о платёжеспособности клиентов.\n",
    "\n",
    "Результаты исследования будут учтены при построении модели **кредитного скоринга** — специальной системы, которая оценивает способность потенциального заёмщика вернуть кредит банку."
   ]
  },
  {
   "cell_type": "markdown",
   "metadata": {},
   "source": [
    "## Шаг 1. Откройте файл с данными и изучите общую информацию"
   ]
  },
  {
   "cell_type": "code",
   "execution_count": 1,
   "metadata": {},
   "outputs": [
    {
     "name": "stdout",
     "output_type": "stream",
     "text": [
      "<class 'pandas.core.frame.DataFrame'>\n",
      "RangeIndex: 21525 entries, 0 to 21524\n",
      "Data columns (total 12 columns):\n",
      " #   Column            Non-Null Count  Dtype  \n",
      "---  ------            --------------  -----  \n",
      " 0   children          21525 non-null  int64  \n",
      " 1   days_employed     19351 non-null  float64\n",
      " 2   dob_years         21525 non-null  int64  \n",
      " 3   education         21525 non-null  object \n",
      " 4   education_id      21525 non-null  int64  \n",
      " 5   family_status     21525 non-null  object \n",
      " 6   family_status_id  21525 non-null  int64  \n",
      " 7   gender            21525 non-null  object \n",
      " 8   income_type       21525 non-null  object \n",
      " 9   debt              21525 non-null  int64  \n",
      " 10  total_income      19351 non-null  float64\n",
      " 11  purpose           21525 non-null  object \n",
      "dtypes: float64(2), int64(5), object(5)\n",
      "memory usage: 2.0+ MB\n"
     ]
    },
    {
     "data": {
      "text/html": [
       "<div>\n",
       "<style scoped>\n",
       "    .dataframe tbody tr th:only-of-type {\n",
       "        vertical-align: middle;\n",
       "    }\n",
       "\n",
       "    .dataframe tbody tr th {\n",
       "        vertical-align: top;\n",
       "    }\n",
       "\n",
       "    .dataframe thead th {\n",
       "        text-align: right;\n",
       "    }\n",
       "</style>\n",
       "<table border=\"1\" class=\"dataframe\">\n",
       "  <thead>\n",
       "    <tr style=\"text-align: right;\">\n",
       "      <th></th>\n",
       "      <th>children</th>\n",
       "      <th>days_employed</th>\n",
       "      <th>dob_years</th>\n",
       "      <th>education</th>\n",
       "      <th>education_id</th>\n",
       "      <th>family_status</th>\n",
       "      <th>family_status_id</th>\n",
       "      <th>gender</th>\n",
       "      <th>income_type</th>\n",
       "      <th>debt</th>\n",
       "      <th>total_income</th>\n",
       "      <th>purpose</th>\n",
       "    </tr>\n",
       "  </thead>\n",
       "  <tbody>\n",
       "    <tr>\n",
       "      <th>0</th>\n",
       "      <td>1</td>\n",
       "      <td>-8437.673028</td>\n",
       "      <td>42</td>\n",
       "      <td>высшее</td>\n",
       "      <td>0</td>\n",
       "      <td>женат / замужем</td>\n",
       "      <td>0</td>\n",
       "      <td>F</td>\n",
       "      <td>сотрудник</td>\n",
       "      <td>0</td>\n",
       "      <td>253875.639453</td>\n",
       "      <td>покупка жилья</td>\n",
       "    </tr>\n",
       "    <tr>\n",
       "      <th>1</th>\n",
       "      <td>1</td>\n",
       "      <td>-4024.803754</td>\n",
       "      <td>36</td>\n",
       "      <td>среднее</td>\n",
       "      <td>1</td>\n",
       "      <td>женат / замужем</td>\n",
       "      <td>0</td>\n",
       "      <td>F</td>\n",
       "      <td>сотрудник</td>\n",
       "      <td>0</td>\n",
       "      <td>112080.014102</td>\n",
       "      <td>приобретение автомобиля</td>\n",
       "    </tr>\n",
       "    <tr>\n",
       "      <th>2</th>\n",
       "      <td>0</td>\n",
       "      <td>-5623.422610</td>\n",
       "      <td>33</td>\n",
       "      <td>Среднее</td>\n",
       "      <td>1</td>\n",
       "      <td>женат / замужем</td>\n",
       "      <td>0</td>\n",
       "      <td>M</td>\n",
       "      <td>сотрудник</td>\n",
       "      <td>0</td>\n",
       "      <td>145885.952297</td>\n",
       "      <td>покупка жилья</td>\n",
       "    </tr>\n",
       "    <tr>\n",
       "      <th>3</th>\n",
       "      <td>3</td>\n",
       "      <td>-4124.747207</td>\n",
       "      <td>32</td>\n",
       "      <td>среднее</td>\n",
       "      <td>1</td>\n",
       "      <td>женат / замужем</td>\n",
       "      <td>0</td>\n",
       "      <td>M</td>\n",
       "      <td>сотрудник</td>\n",
       "      <td>0</td>\n",
       "      <td>267628.550329</td>\n",
       "      <td>дополнительное образование</td>\n",
       "    </tr>\n",
       "    <tr>\n",
       "      <th>4</th>\n",
       "      <td>0</td>\n",
       "      <td>340266.072047</td>\n",
       "      <td>53</td>\n",
       "      <td>среднее</td>\n",
       "      <td>1</td>\n",
       "      <td>гражданский брак</td>\n",
       "      <td>1</td>\n",
       "      <td>F</td>\n",
       "      <td>пенсионер</td>\n",
       "      <td>0</td>\n",
       "      <td>158616.077870</td>\n",
       "      <td>сыграть свадьбу</td>\n",
       "    </tr>\n",
       "  </tbody>\n",
       "</table>\n",
       "</div>"
      ],
      "text/plain": [
       "   children  days_employed  dob_years education  education_id  \\\n",
       "0         1   -8437.673028         42    высшее             0   \n",
       "1         1   -4024.803754         36   среднее             1   \n",
       "2         0   -5623.422610         33   Среднее             1   \n",
       "3         3   -4124.747207         32   среднее             1   \n",
       "4         0  340266.072047         53   среднее             1   \n",
       "\n",
       "      family_status  family_status_id gender income_type  debt   total_income  \\\n",
       "0   женат / замужем                 0      F   сотрудник     0  253875.639453   \n",
       "1   женат / замужем                 0      F   сотрудник     0  112080.014102   \n",
       "2   женат / замужем                 0      M   сотрудник     0  145885.952297   \n",
       "3   женат / замужем                 0      M   сотрудник     0  267628.550329   \n",
       "4  гражданский брак                 1      F   пенсионер     0  158616.077870   \n",
       "\n",
       "                      purpose  \n",
       "0               покупка жилья  \n",
       "1     приобретение автомобиля  \n",
       "2               покупка жилья  \n",
       "3  дополнительное образование  \n",
       "4             сыграть свадьбу  "
      ]
     },
     "execution_count": 1,
     "metadata": {},
     "output_type": "execute_result"
    }
   ],
   "source": [
    "from collections import Counter\n",
    "import pandas as pd\n",
    "from pymystem3 import Mystem\n",
    "\n",
    "data = pd.read_csv('/datasets/data.csv')\n",
    "data.info()\n",
    "data.head()"
   ]
  },
  {
   "cell_type": "markdown",
   "metadata": {},
   "source": [
    "**Вывод**"
   ]
  },
  {
   "cell_type": "markdown",
   "metadata": {},
   "source": [
    "1.В столбцах 'days_employed' и 'total_income' есть пропущенные значение, что говорит о взаимосвязи отработанных дней и ежемесячном доходе\n",
    "2."
   ]
  },
  {
   "cell_type": "markdown",
   "metadata": {},
   "source": [
    "## Шаг 2. Предобработка данных"
   ]
  },
  {
   "cell_type": "markdown",
   "metadata": {},
   "source": [
    "### Обработка пропусков"
   ]
  },
  {
   "cell_type": "code",
   "execution_count": 2,
   "metadata": {},
   "outputs": [
    {
     "name": "stdout",
     "output_type": "stream",
     "text": [
      "children            False\n",
      "days_employed        True\n",
      "dob_years           False\n",
      "education           False\n",
      "education_id        False\n",
      "family_status       False\n",
      "family_status_id    False\n",
      "gender              False\n",
      "income_type         False\n",
      "debt                False\n",
      "total_income         True\n",
      "purpose             False\n",
      "dtype: bool\n",
      "children               0\n",
      "days_employed       2174\n",
      "dob_years              0\n",
      "education              0\n",
      "education_id           0\n",
      "family_status          0\n",
      "family_status_id       0\n",
      "gender                 0\n",
      "income_type            0\n",
      "debt                   0\n",
      "total_income        2174\n",
      "purpose                0\n",
      "dtype: int64\n"
     ]
    }
   ],
   "source": [
    "print(data.isna().any()) # Посмотрел в каких столбцах есть значение Nan\n",
    "print(data.isna().sum()) # Посмотрел их количество\n",
    "data = data.fillna(data.groupby(['income_type']).transform('mean')) # Заполнил пустые данные на основе группировки по типу занятости\n"
   ]
  },
  {
   "cell_type": "markdown",
   "metadata": {},
   "source": [
    "**Вывод**"
   ]
  },
  {
   "cell_type": "markdown",
   "metadata": {},
   "source": [
    "Заменил значение столбцов total_income и days_employed на ноль."
   ]
  },
  {
   "cell_type": "markdown",
   "metadata": {},
   "source": [
    "### Замена типа данных"
   ]
  },
  {
   "cell_type": "code",
   "execution_count": 3,
   "metadata": {},
   "outputs": [],
   "source": [
    "data['days_employed']=abs(data.loc[:,'days_employed']) # взял модуль по столбцу\n",
    "data['children'] = abs(data.loc[:,'children']) # взял модуль по столбцу"
   ]
  },
  {
   "cell_type": "markdown",
   "metadata": {},
   "source": [
    "**Вывод**"
   ]
  },
  {
   "cell_type": "markdown",
   "metadata": {},
   "source": [
    "Перевел отрицательные значение в столбцах children и days_employed в положительные с помощью модуля"
   ]
  },
  {
   "cell_type": "markdown",
   "metadata": {},
   "source": [
    "### Обработка дубликатов"
   ]
  },
  {
   "cell_type": "code",
   "execution_count": 4,
   "metadata": {},
   "outputs": [
    {
     "name": "stdout",
     "output_type": "stream",
     "text": [
      "F      14174\n",
      "M       7279\n",
      "XNA        1\n",
      "Name: gender, dtype: int64\n"
     ]
    }
   ],
   "source": [
    "data['education'] = data['education'].str.lower() # Привел к нижнему регистру, чтобы исключить дубликаты\n",
    "data = data.drop_duplicates()  # удалли дубликаты\n",
    "print(data['gender'].value_counts()) #Вывел сгрупированные значения колонки gender\n",
    "data = data[data['gender'] !='XNA'] #удалил значения пола = XNA\n",
    "data = data[data['dob_years'] != 0]  # удалил строки, где возраст = 0\n",
    "data = data[data['children']!=20] # удалил строки, где в семье 20 детей"
   ]
  },
  {
   "cell_type": "markdown",
   "metadata": {},
   "source": [
    "**Вывод**"
   ]
  },
  {
   "cell_type": "markdown",
   "metadata": {},
   "source": [
    "Привет столбец education к нижнему регистру, чтобы убрать повторения. Так же удалил строку, где значение в столбце gender было XNA"
   ]
  },
  {
   "cell_type": "markdown",
   "metadata": {},
   "source": [
    "### Лемматизация"
   ]
  },
  {
   "cell_type": "code",
   "execution_count": 5,
   "metadata": {
    "scrolled": true
   },
   "outputs": [
    {
     "name": "stdout",
     "output_type": "stream",
     "text": [
      "[(' ', 33312), ('\\n', 21277), ('недвижимость', 6306), ('покупка', 5851), ('жилье', 4421), ('автомобиль', 4269), ('образование', 3980), ('с', 2891), ('операция', 2583), ('свадьба', 2301), ('свой', 2219), ('на', 2200), ('строительство', 1866), ('высокий', 1360), ('получение', 1306), ('коммерческий', 1299), ('для', 1284), ('жилой', 1221), ('сделка', 934), ('заниматься', 900), ('дополнительный', 898), ('проведение', 760), ('сыграть', 756), ('сдача', 648), ('семья', 636), ('собственный', 627), ('со', 626), ('ремонт', 603), ('подержанный', 480), ('подержать', 472), ('приобретение', 459), ('профильный', 433)]\n",
      "На жилье           10727\n",
      "На автомобиль       4269\n",
      "На обзразование     3980\n",
      "На свадьбу          2301\n",
      "Name: lem_category, dtype: int64\n"
     ]
    }
   ],
   "source": [
    "m = Mystem()\n",
    "def lem_purpose(purpose):\n",
    "    lem = m.lemmatize(purpose)\n",
    "    return lem\n",
    "    \n",
    "data['lem_purpose'] = data['purpose'].apply(lem_purpose)\n",
    "print(Counter(data['lem_purpose'].sum()).most_common())\n",
    "def lem_category(lem_purpose):    \n",
    "    if 'образование' in lem_purpose:\n",
    "        return 'На обзразование'\n",
    "    if 'жилье' in lem_purpose or 'недвижимость' in lem_purpose:\n",
    "        return 'На жилье'\n",
    "    if 'автомобиль' in lem_purpose:\n",
    "        return 'На автомобиль'\n",
    "    if 'свадьба' in lem_purpose:\n",
    "        return 'На свадьбу'\n",
    "    return 'иное'\n",
    "data['lem_category'] = data['lem_purpose'].apply(lem_category)\n",
    "print(data['lem_category'].value_counts())\n",
    "# data['lem_cat'] = data['purpose'].apply(lemma)\n",
    "# print(data['lem_cat'].value_counts())"
   ]
  },
  {
   "cell_type": "code",
   "execution_count": null,
   "metadata": {},
   "outputs": [],
   "source": []
  },
  {
   "cell_type": "markdown",
   "metadata": {},
   "source": [
    "**Вывод**"
   ]
  },
  {
   "cell_type": "markdown",
   "metadata": {},
   "source": [
    "### Категоризация данных"
   ]
  },
  {
   "cell_type": "code",
   "execution_count": 6,
   "metadata": {},
   "outputs": [
    {
     "name": "stdout",
     "output_type": "stream",
     "text": [
      "150-202    5421\n",
      "202+       5390\n",
      "0-107      5264\n",
      "107-150    5202\n",
      "Name: income, dtype: int64\n"
     ]
    }
   ],
   "source": [
    "def total_inc(total_income):\n",
    "    if total_income <= 107000:\n",
    "        return '0-107'\n",
    "    if 107001 <= total_income <= 150000:\n",
    "        return '107-150'\n",
    "    if 150001 <= total_income <= 202000:\n",
    "        return '150-202'\n",
    "    return '202+'\n",
    "data['income'] = data['total_income'].apply(total_inc)\n",
    "print(data['income'].value_counts())"
   ]
  },
  {
   "cell_type": "markdown",
   "metadata": {},
   "source": [
    "**Вывод**"
   ]
  },
  {
   "cell_type": "markdown",
   "metadata": {},
   "source": [
    "Разбил ежемесячный доход на категории с шагом в 40к рублей."
   ]
  },
  {
   "cell_type": "markdown",
   "metadata": {},
   "source": [
    "## Шаг 3. Ответьте на вопросы"
   ]
  },
  {
   "cell_type": "markdown",
   "metadata": {},
   "source": [
    "- Есть ли зависимость между наличием детей и возвратом кредита в срок?"
   ]
  },
  {
   "cell_type": "code",
   "execution_count": 7,
   "metadata": {},
   "outputs": [
    {
     "data": {
      "text/html": [
       "<div>\n",
       "<style scoped>\n",
       "    .dataframe tbody tr th:only-of-type {\n",
       "        vertical-align: middle;\n",
       "    }\n",
       "\n",
       "    .dataframe tbody tr th {\n",
       "        vertical-align: top;\n",
       "    }\n",
       "\n",
       "    .dataframe thead th {\n",
       "        text-align: right;\n",
       "    }\n",
       "</style>\n",
       "<table border=\"1\" class=\"dataframe\">\n",
       "  <thead>\n",
       "    <tr style=\"text-align: right;\">\n",
       "      <th></th>\n",
       "      <th>sum</th>\n",
       "      <th>total</th>\n",
       "      <th>%</th>\n",
       "    </tr>\n",
       "    <tr>\n",
       "      <th>children</th>\n",
       "      <th></th>\n",
       "      <th></th>\n",
       "      <th></th>\n",
       "    </tr>\n",
       "  </thead>\n",
       "  <tbody>\n",
       "    <tr>\n",
       "      <th>5</th>\n",
       "      <td>0</td>\n",
       "      <td>9</td>\n",
       "      <td>0.000000</td>\n",
       "    </tr>\n",
       "    <tr>\n",
       "      <th>4</th>\n",
       "      <td>4</td>\n",
       "      <td>41</td>\n",
       "      <td>0.097561</td>\n",
       "    </tr>\n",
       "    <tr>\n",
       "      <th>3</th>\n",
       "      <td>27</td>\n",
       "      <td>328</td>\n",
       "      <td>0.082317</td>\n",
       "    </tr>\n",
       "    <tr>\n",
       "      <th>2</th>\n",
       "      <td>194</td>\n",
       "      <td>2039</td>\n",
       "      <td>0.095145</td>\n",
       "    </tr>\n",
       "    <tr>\n",
       "      <th>1</th>\n",
       "      <td>442</td>\n",
       "      <td>4839</td>\n",
       "      <td>0.091341</td>\n",
       "    </tr>\n",
       "    <tr>\n",
       "      <th>0</th>\n",
       "      <td>1058</td>\n",
       "      <td>14021</td>\n",
       "      <td>0.075458</td>\n",
       "    </tr>\n",
       "  </tbody>\n",
       "</table>\n",
       "</div>"
      ],
      "text/plain": [
       "           sum  total         %\n",
       "children                       \n",
       "5            0      9  0.000000\n",
       "4            4     41  0.097561\n",
       "3           27    328  0.082317\n",
       "2          194   2039  0.095145\n",
       "1          442   4839  0.091341\n",
       "0         1058  14021  0.075458"
      ]
     },
     "metadata": {},
     "output_type": "display_data"
    }
   ],
   "source": [
    "data_children = data.pivot_table(index=['children'],values='debt',aggfunc=['sum','count','mean'])\n",
    "data_children.columns = ['sum','total','%']\n",
    "display(data_children.sort_values(by = 'sum',ascending=True))"
   ]
  },
  {
   "cell_type": "markdown",
   "metadata": {},
   "source": [
    "**Вывод**"
   ]
  },
  {
   "cell_type": "markdown",
   "metadata": {},
   "source": [
    "Из результата видно, что при количество детей влияет на возврат кредита в срок"
   ]
  },
  {
   "cell_type": "markdown",
   "metadata": {},
   "source": [
    "- Есть ли зависимость между семейным положением и возвратом кредита в срок?"
   ]
  },
  {
   "cell_type": "code",
   "execution_count": 8,
   "metadata": {},
   "outputs": [
    {
     "data": {
      "text/html": [
       "<div>\n",
       "<style scoped>\n",
       "    .dataframe tbody tr th:only-of-type {\n",
       "        vertical-align: middle;\n",
       "    }\n",
       "\n",
       "    .dataframe tbody tr th {\n",
       "        vertical-align: top;\n",
       "    }\n",
       "\n",
       "    .dataframe thead th {\n",
       "        text-align: right;\n",
       "    }\n",
       "</style>\n",
       "<table border=\"1\" class=\"dataframe\">\n",
       "  <thead>\n",
       "    <tr style=\"text-align: right;\">\n",
       "      <th></th>\n",
       "      <th>sum</th>\n",
       "      <th>total</th>\n",
       "      <th>%</th>\n",
       "    </tr>\n",
       "    <tr>\n",
       "      <th>family_status</th>\n",
       "      <th></th>\n",
       "      <th></th>\n",
       "      <th></th>\n",
       "    </tr>\n",
       "  </thead>\n",
       "  <tbody>\n",
       "    <tr>\n",
       "      <th>вдовец / вдова</th>\n",
       "      <td>62</td>\n",
       "      <td>950</td>\n",
       "      <td>0.065263</td>\n",
       "    </tr>\n",
       "    <tr>\n",
       "      <th>в разводе</th>\n",
       "      <td>84</td>\n",
       "      <td>1183</td>\n",
       "      <td>0.071006</td>\n",
       "    </tr>\n",
       "    <tr>\n",
       "      <th>Не женат / не замужем</th>\n",
       "      <td>272</td>\n",
       "      <td>2785</td>\n",
       "      <td>0.097666</td>\n",
       "    </tr>\n",
       "    <tr>\n",
       "      <th>гражданский брак</th>\n",
       "      <td>383</td>\n",
       "      <td>4117</td>\n",
       "      <td>0.093029</td>\n",
       "    </tr>\n",
       "    <tr>\n",
       "      <th>женат / замужем</th>\n",
       "      <td>924</td>\n",
       "      <td>12242</td>\n",
       "      <td>0.075478</td>\n",
       "    </tr>\n",
       "  </tbody>\n",
       "</table>\n",
       "</div>"
      ],
      "text/plain": [
       "                       sum  total         %\n",
       "family_status                              \n",
       "вдовец / вдова          62    950  0.065263\n",
       "в разводе               84   1183  0.071006\n",
       "Не женат / не замужем  272   2785  0.097666\n",
       "гражданский брак       383   4117  0.093029\n",
       "женат / замужем        924  12242  0.075478"
      ]
     },
     "metadata": {},
     "output_type": "display_data"
    }
   ],
   "source": [
    "data_family_status = data.pivot_table(index=['family_status'],values='debt',aggfunc=['sum','count','mean'])\n",
    "data_family_status.columns = ['sum','total','%']\n",
    "display(data_family_status.sort_values(by = 'sum',ascending=True))"
   ]
  },
  {
   "cell_type": "markdown",
   "metadata": {},
   "source": [
    "**Вывод**"
   ]
  },
  {
   "cell_type": "markdown",
   "metadata": {},
   "source": [
    "Из результата видно, что при наличии пары возрастает процент людей, которые не возвращают кредиты в срок"
   ]
  },
  {
   "cell_type": "markdown",
   "metadata": {},
   "source": [
    "- Есть ли зависимость между уровнем дохода и возвратом кредита в срок?"
   ]
  },
  {
   "cell_type": "code",
   "execution_count": 9,
   "metadata": {},
   "outputs": [
    {
     "data": {
      "text/html": [
       "<div>\n",
       "<style scoped>\n",
       "    .dataframe tbody tr th:only-of-type {\n",
       "        vertical-align: middle;\n",
       "    }\n",
       "\n",
       "    .dataframe tbody tr th {\n",
       "        vertical-align: top;\n",
       "    }\n",
       "\n",
       "    .dataframe thead th {\n",
       "        text-align: right;\n",
       "    }\n",
       "</style>\n",
       "<table border=\"1\" class=\"dataframe\">\n",
       "  <thead>\n",
       "    <tr style=\"text-align: right;\">\n",
       "      <th></th>\n",
       "      <th>sum</th>\n",
       "      <th>total</th>\n",
       "      <th>%</th>\n",
       "    </tr>\n",
       "    <tr>\n",
       "      <th>income</th>\n",
       "      <th></th>\n",
       "      <th></th>\n",
       "      <th></th>\n",
       "    </tr>\n",
       "  </thead>\n",
       "  <tbody>\n",
       "    <tr>\n",
       "      <th>150-202</th>\n",
       "      <td>478</td>\n",
       "      <td>5421</td>\n",
       "      <td>0.088176</td>\n",
       "    </tr>\n",
       "    <tr>\n",
       "      <th>202+</th>\n",
       "      <td>375</td>\n",
       "      <td>5390</td>\n",
       "      <td>0.069573</td>\n",
       "    </tr>\n",
       "    <tr>\n",
       "      <th>0-107</th>\n",
       "      <td>422</td>\n",
       "      <td>5264</td>\n",
       "      <td>0.080167</td>\n",
       "    </tr>\n",
       "    <tr>\n",
       "      <th>107-150</th>\n",
       "      <td>450</td>\n",
       "      <td>5202</td>\n",
       "      <td>0.086505</td>\n",
       "    </tr>\n",
       "  </tbody>\n",
       "</table>\n",
       "</div>"
      ],
      "text/plain": [
       "         sum  total         %\n",
       "income                       \n",
       "150-202  478   5421  0.088176\n",
       "202+     375   5390  0.069573\n",
       "0-107    422   5264  0.080167\n",
       "107-150  450   5202  0.086505"
      ]
     },
     "metadata": {},
     "output_type": "display_data"
    }
   ],
   "source": [
    "data_income = data.pivot_table(index=['income'],values='debt',aggfunc=['sum','count','mean'])\n",
    "data_income.columns = ['sum','total','%']\n",
    "display(data_income.sort_values(by = 'total',ascending=False))"
   ]
  },
  {
   "cell_type": "markdown",
   "metadata": {},
   "source": [
    "**Вывод**"
   ]
  },
  {
   "cell_type": "markdown",
   "metadata": {},
   "source": [
    "Из результата видно,что с увлечением ежемесячного дохода растер и процент людей, которые не возвращают кредиты в срок. Любопытно, что люди с достатком 170-210к имеют меньший процент."
   ]
  },
  {
   "cell_type": "markdown",
   "metadata": {},
   "source": [
    "<div class=\"alert alert-info\"> Из резульатата видно, что процент по задолжностям у всех одинаковый </div>"
   ]
  },
  {
   "cell_type": "markdown",
   "metadata": {},
   "source": [
    "- Как разные цели кредита влияют на его возврат в срок?"
   ]
  },
  {
   "cell_type": "code",
   "execution_count": 10,
   "metadata": {},
   "outputs": [
    {
     "data": {
      "text/html": [
       "<div>\n",
       "<style scoped>\n",
       "    .dataframe tbody tr th:only-of-type {\n",
       "        vertical-align: middle;\n",
       "    }\n",
       "\n",
       "    .dataframe tbody tr th {\n",
       "        vertical-align: top;\n",
       "    }\n",
       "\n",
       "    .dataframe thead th {\n",
       "        text-align: right;\n",
       "    }\n",
       "</style>\n",
       "<table border=\"1\" class=\"dataframe\">\n",
       "  <thead>\n",
       "    <tr style=\"text-align: right;\">\n",
       "      <th></th>\n",
       "      <th>total</th>\n",
       "      <th>%</th>\n",
       "    </tr>\n",
       "    <tr>\n",
       "      <th>lem_category</th>\n",
       "      <th></th>\n",
       "      <th></th>\n",
       "    </tr>\n",
       "  </thead>\n",
       "  <tbody>\n",
       "    <tr>\n",
       "      <th>На жилье</th>\n",
       "      <td>10727</td>\n",
       "      <td>0.072434</td>\n",
       "    </tr>\n",
       "    <tr>\n",
       "      <th>На автомобиль</th>\n",
       "      <td>4269</td>\n",
       "      <td>0.093230</td>\n",
       "    </tr>\n",
       "    <tr>\n",
       "      <th>На обзразование</th>\n",
       "      <td>3980</td>\n",
       "      <td>0.092714</td>\n",
       "    </tr>\n",
       "    <tr>\n",
       "      <th>На свадьбу</th>\n",
       "      <td>2301</td>\n",
       "      <td>0.078661</td>\n",
       "    </tr>\n",
       "  </tbody>\n",
       "</table>\n",
       "</div>"
      ],
      "text/plain": [
       "                 total         %\n",
       "lem_category                    \n",
       "На жилье         10727  0.072434\n",
       "На автомобиль     4269  0.093230\n",
       "На обзразование   3980  0.092714\n",
       "На свадьбу        2301  0.078661"
      ]
     },
     "metadata": {},
     "output_type": "display_data"
    }
   ],
   "source": [
    "data_lem_category = data.pivot_table(index=['lem_category'],values='debt',aggfunc=['count','mean'])\n",
    "data_lem_category.columns = ['total','%']\n",
    "display(data_lem_category.sort_values(by = 'total',ascending=False))"
   ]
  },
  {
   "cell_type": "markdown",
   "metadata": {},
   "source": [
    "**Вывод**"
   ]
  },
  {
   "cell_type": "markdown",
   "metadata": {},
   "source": [
    "Как видно из таблицы больше всего должников  в категории \"На свадьбу\", остальных примерно поровну"
   ]
  },
  {
   "cell_type": "markdown",
   "metadata": {},
   "source": [
    "<div class=\"alert alert-info\"> Из резульатата видно, что процент должников равный  </div>"
   ]
  },
  {
   "cell_type": "markdown",
   "metadata": {},
   "source": [
    "## Шаг 4. Общий вывод"
   ]
  },
  {
   "cell_type": "markdown",
   "metadata": {},
   "source": [
    "В сводной таблице \n",
    "видно,что самые злостные нарушители те, у кого ежемесячный доход 150-202 не имеет детей и женат\\замужем"
   ]
  },
  {
   "cell_type": "code",
   "execution_count": 11,
   "metadata": {},
   "outputs": [
    {
     "data": {
      "text/html": [
       "<div>\n",
       "<style scoped>\n",
       "    .dataframe tbody tr th:only-of-type {\n",
       "        vertical-align: middle;\n",
       "    }\n",
       "\n",
       "    .dataframe tbody tr th {\n",
       "        vertical-align: top;\n",
       "    }\n",
       "\n",
       "    .dataframe thead th {\n",
       "        text-align: right;\n",
       "    }\n",
       "</style>\n",
       "<table border=\"1\" class=\"dataframe\">\n",
       "  <thead>\n",
       "    <tr style=\"text-align: right;\">\n",
       "      <th></th>\n",
       "      <th>children</th>\n",
       "      <th>0</th>\n",
       "      <th>1</th>\n",
       "      <th>2</th>\n",
       "      <th>3</th>\n",
       "      <th>4</th>\n",
       "      <th>5</th>\n",
       "    </tr>\n",
       "    <tr>\n",
       "      <th>income</th>\n",
       "      <th>family_status</th>\n",
       "      <th></th>\n",
       "      <th></th>\n",
       "      <th></th>\n",
       "      <th></th>\n",
       "      <th></th>\n",
       "      <th></th>\n",
       "    </tr>\n",
       "  </thead>\n",
       "  <tbody>\n",
       "    <tr>\n",
       "      <th rowspan=\"5\" valign=\"top\">0-107</th>\n",
       "      <th>Не женат / не замужем</th>\n",
       "      <td>47.0</td>\n",
       "      <td>7.0</td>\n",
       "      <td>0.0</td>\n",
       "      <td>0.0</td>\n",
       "      <td>1.0</td>\n",
       "      <td>NaN</td>\n",
       "    </tr>\n",
       "    <tr>\n",
       "      <th>в разводе</th>\n",
       "      <td>12.0</td>\n",
       "      <td>5.0</td>\n",
       "      <td>5.0</td>\n",
       "      <td>0.0</td>\n",
       "      <td>NaN</td>\n",
       "      <td>NaN</td>\n",
       "    </tr>\n",
       "    <tr>\n",
       "      <th>вдовец / вдова</th>\n",
       "      <td>15.0</td>\n",
       "      <td>0.0</td>\n",
       "      <td>0.0</td>\n",
       "      <td>NaN</td>\n",
       "      <td>NaN</td>\n",
       "      <td>NaN</td>\n",
       "    </tr>\n",
       "    <tr>\n",
       "      <th>гражданский брак</th>\n",
       "      <td>53.0</td>\n",
       "      <td>29.0</td>\n",
       "      <td>10.0</td>\n",
       "      <td>4.0</td>\n",
       "      <td>0.0</td>\n",
       "      <td>NaN</td>\n",
       "    </tr>\n",
       "    <tr>\n",
       "      <th>женат / замужем</th>\n",
       "      <td>133.0</td>\n",
       "      <td>63.0</td>\n",
       "      <td>34.0</td>\n",
       "      <td>4.0</td>\n",
       "      <td>0.0</td>\n",
       "      <td>0.0</td>\n",
       "    </tr>\n",
       "    <tr>\n",
       "      <th rowspan=\"5\" valign=\"top\">107-150</th>\n",
       "      <th>Не женат / не замужем</th>\n",
       "      <td>51.0</td>\n",
       "      <td>18.0</td>\n",
       "      <td>3.0</td>\n",
       "      <td>0.0</td>\n",
       "      <td>NaN</td>\n",
       "      <td>NaN</td>\n",
       "    </tr>\n",
       "    <tr>\n",
       "      <th>в разводе</th>\n",
       "      <td>15.0</td>\n",
       "      <td>5.0</td>\n",
       "      <td>0.0</td>\n",
       "      <td>1.0</td>\n",
       "      <td>NaN</td>\n",
       "      <td>NaN</td>\n",
       "    </tr>\n",
       "    <tr>\n",
       "      <th>вдовец / вдова</th>\n",
       "      <td>15.0</td>\n",
       "      <td>3.0</td>\n",
       "      <td>1.0</td>\n",
       "      <td>0.0</td>\n",
       "      <td>NaN</td>\n",
       "      <td>NaN</td>\n",
       "    </tr>\n",
       "    <tr>\n",
       "      <th>гражданский брак</th>\n",
       "      <td>69.0</td>\n",
       "      <td>28.0</td>\n",
       "      <td>4.0</td>\n",
       "      <td>1.0</td>\n",
       "      <td>0.0</td>\n",
       "      <td>0.0</td>\n",
       "    </tr>\n",
       "    <tr>\n",
       "      <th>женат / замужем</th>\n",
       "      <td>127.0</td>\n",
       "      <td>68.0</td>\n",
       "      <td>39.0</td>\n",
       "      <td>2.0</td>\n",
       "      <td>0.0</td>\n",
       "      <td>NaN</td>\n",
       "    </tr>\n",
       "    <tr>\n",
       "      <th rowspan=\"5\" valign=\"top\">150-202</th>\n",
       "      <th>Не женат / не замужем</th>\n",
       "      <td>60.0</td>\n",
       "      <td>15.0</td>\n",
       "      <td>5.0</td>\n",
       "      <td>1.0</td>\n",
       "      <td>0.0</td>\n",
       "      <td>NaN</td>\n",
       "    </tr>\n",
       "    <tr>\n",
       "      <th>в разводе</th>\n",
       "      <td>17.0</td>\n",
       "      <td>5.0</td>\n",
       "      <td>0.0</td>\n",
       "      <td>0.0</td>\n",
       "      <td>NaN</td>\n",
       "      <td>NaN</td>\n",
       "    </tr>\n",
       "    <tr>\n",
       "      <th>вдовец / вдова</th>\n",
       "      <td>16.0</td>\n",
       "      <td>3.0</td>\n",
       "      <td>1.0</td>\n",
       "      <td>NaN</td>\n",
       "      <td>0.0</td>\n",
       "      <td>NaN</td>\n",
       "    </tr>\n",
       "    <tr>\n",
       "      <th>гражданский брак</th>\n",
       "      <td>59.0</td>\n",
       "      <td>39.0</td>\n",
       "      <td>9.0</td>\n",
       "      <td>2.0</td>\n",
       "      <td>0.0</td>\n",
       "      <td>0.0</td>\n",
       "    </tr>\n",
       "    <tr>\n",
       "      <th>женат / замужем</th>\n",
       "      <td>139.0</td>\n",
       "      <td>58.0</td>\n",
       "      <td>39.0</td>\n",
       "      <td>8.0</td>\n",
       "      <td>2.0</td>\n",
       "      <td>0.0</td>\n",
       "    </tr>\n",
       "    <tr>\n",
       "      <th rowspan=\"5\" valign=\"top\">202+</th>\n",
       "      <th>Не женат / не замужем</th>\n",
       "      <td>52.0</td>\n",
       "      <td>11.0</td>\n",
       "      <td>1.0</td>\n",
       "      <td>0.0</td>\n",
       "      <td>NaN</td>\n",
       "      <td>NaN</td>\n",
       "    </tr>\n",
       "    <tr>\n",
       "      <th>в разводе</th>\n",
       "      <td>11.0</td>\n",
       "      <td>6.0</td>\n",
       "      <td>2.0</td>\n",
       "      <td>0.0</td>\n",
       "      <td>0.0</td>\n",
       "      <td>NaN</td>\n",
       "    </tr>\n",
       "    <tr>\n",
       "      <th>вдовец / вдова</th>\n",
       "      <td>6.0</td>\n",
       "      <td>1.0</td>\n",
       "      <td>1.0</td>\n",
       "      <td>0.0</td>\n",
       "      <td>NaN</td>\n",
       "      <td>NaN</td>\n",
       "    </tr>\n",
       "    <tr>\n",
       "      <th>гражданский брак</th>\n",
       "      <td>46.0</td>\n",
       "      <td>22.0</td>\n",
       "      <td>7.0</td>\n",
       "      <td>1.0</td>\n",
       "      <td>0.0</td>\n",
       "      <td>NaN</td>\n",
       "    </tr>\n",
       "    <tr>\n",
       "      <th>женат / замужем</th>\n",
       "      <td>115.0</td>\n",
       "      <td>56.0</td>\n",
       "      <td>33.0</td>\n",
       "      <td>3.0</td>\n",
       "      <td>1.0</td>\n",
       "      <td>0.0</td>\n",
       "    </tr>\n",
       "  </tbody>\n",
       "</table>\n",
       "</div>"
      ],
      "text/plain": [
       "children                           0     1     2    3    4    5\n",
       "income  family_status                                          \n",
       "0-107   Не женат / не замужем   47.0   7.0   0.0  0.0  1.0  NaN\n",
       "        в разводе               12.0   5.0   5.0  0.0  NaN  NaN\n",
       "        вдовец / вдова          15.0   0.0   0.0  NaN  NaN  NaN\n",
       "        гражданский брак        53.0  29.0  10.0  4.0  0.0  NaN\n",
       "        женат / замужем        133.0  63.0  34.0  4.0  0.0  0.0\n",
       "107-150 Не женат / не замужем   51.0  18.0   3.0  0.0  NaN  NaN\n",
       "        в разводе               15.0   5.0   0.0  1.0  NaN  NaN\n",
       "        вдовец / вдова          15.0   3.0   1.0  0.0  NaN  NaN\n",
       "        гражданский брак        69.0  28.0   4.0  1.0  0.0  0.0\n",
       "        женат / замужем        127.0  68.0  39.0  2.0  0.0  NaN\n",
       "150-202 Не женат / не замужем   60.0  15.0   5.0  1.0  0.0  NaN\n",
       "        в разводе               17.0   5.0   0.0  0.0  NaN  NaN\n",
       "        вдовец / вдова          16.0   3.0   1.0  NaN  0.0  NaN\n",
       "        гражданский брак        59.0  39.0   9.0  2.0  0.0  0.0\n",
       "        женат / замужем        139.0  58.0  39.0  8.0  2.0  0.0\n",
       "202+    Не женат / не замужем   52.0  11.0   1.0  0.0  NaN  NaN\n",
       "        в разводе               11.0   6.0   2.0  0.0  0.0  NaN\n",
       "        вдовец / вдова           6.0   1.0   1.0  0.0  NaN  NaN\n",
       "        гражданский брак        46.0  22.0   7.0  1.0  0.0  NaN\n",
       "        женат / замужем        115.0  56.0  33.0  3.0  1.0  0.0"
      ]
     },
     "metadata": {},
     "output_type": "display_data"
    }
   ],
   "source": [
    "data_pivot = data.pivot_table(index=['income','family_status'],columns = 'children',values='debt',aggfunc='sum')\n",
    "display(data_pivot)"
   ]
  }
 ],
 "metadata": {
  "ExecuteTimeLog": [
   {
    "duration": 591,
    "start_time": "2021-08-02T09:07:58.506Z"
   },
   {
    "duration": 67,
    "start_time": "2021-08-02T09:08:37.512Z"
   },
   {
    "duration": 310,
    "start_time": "2021-08-02T09:09:27.162Z"
   },
   {
    "duration": 58,
    "start_time": "2021-08-02T09:09:35.503Z"
   },
   {
    "duration": 61,
    "start_time": "2021-08-02T09:14:22.701Z"
   },
   {
    "duration": 62,
    "start_time": "2021-08-02T09:14:39.868Z"
   },
   {
    "duration": 333,
    "start_time": "2021-08-02T09:15:48.612Z"
   },
   {
    "duration": 283,
    "start_time": "2021-08-02T09:16:19.347Z"
   },
   {
    "duration": 4977,
    "start_time": "2021-08-02T09:16:38.051Z"
   },
   {
    "duration": 299,
    "start_time": "2021-08-02T09:16:43.234Z"
   },
   {
    "duration": 60,
    "start_time": "2021-08-02T09:16:59.691Z"
   },
   {
    "duration": 232,
    "start_time": "2021-08-02T09:17:05.749Z"
   },
   {
    "duration": 64,
    "start_time": "2021-08-02T09:17:24.250Z"
   },
   {
    "duration": 237,
    "start_time": "2021-08-02T09:17:47.314Z"
   },
   {
    "duration": 67,
    "start_time": "2021-08-02T09:17:56.594Z"
   },
   {
    "duration": 73,
    "start_time": "2021-08-02T09:19:28.898Z"
   },
   {
    "duration": 230,
    "start_time": "2021-08-02T09:19:51.134Z"
   },
   {
    "duration": 238,
    "start_time": "2021-08-02T09:20:00.871Z"
   },
   {
    "duration": 73,
    "start_time": "2021-08-02T09:20:13.127Z"
   },
   {
    "duration": 790,
    "start_time": "2021-08-02T12:54:12.337Z"
   },
   {
    "duration": 104,
    "start_time": "2021-08-02T12:56:48.223Z"
   },
   {
    "duration": 77,
    "start_time": "2021-08-02T13:00:58.693Z"
   },
   {
    "duration": 521,
    "start_time": "2021-08-02T13:01:15.454Z"
   },
   {
    "duration": 108,
    "start_time": "2021-08-02T13:01:24.358Z"
   },
   {
    "duration": 105,
    "start_time": "2021-08-02T13:02:22.829Z"
   },
   {
    "duration": 73,
    "start_time": "2021-08-02T13:16:43.747Z"
   },
   {
    "duration": 12,
    "start_time": "2021-08-02T13:16:48.627Z"
   },
   {
    "duration": 411,
    "start_time": "2021-08-03T15:45:15.895Z"
   },
   {
    "duration": 358,
    "start_time": "2021-08-03T15:45:23.127Z"
   },
   {
    "duration": 773,
    "start_time": "2021-08-03T15:50:54.906Z"
   },
   {
    "duration": 7,
    "start_time": "2021-08-03T15:50:58.702Z"
   },
   {
    "duration": 68,
    "start_time": "2021-08-03T15:51:12.069Z"
   },
   {
    "duration": 6,
    "start_time": "2021-08-03T15:51:15.868Z"
   },
   {
    "duration": 6,
    "start_time": "2021-08-03T15:51:19.857Z"
   },
   {
    "duration": 49,
    "start_time": "2021-08-03T15:51:20.998Z"
   },
   {
    "duration": 19,
    "start_time": "2021-08-03T15:51:23.185Z"
   },
   {
    "duration": 13,
    "start_time": "2021-08-03T15:51:24.178Z"
   },
   {
    "duration": 10,
    "start_time": "2021-08-03T15:51:25.414Z"
   },
   {
    "duration": 14,
    "start_time": "2021-08-03T15:51:30.103Z"
   },
   {
    "duration": 861,
    "start_time": "2021-08-03T15:52:59.137Z"
   },
   {
    "duration": 7,
    "start_time": "2021-08-03T15:53:01.881Z"
   },
   {
    "duration": 7,
    "start_time": "2021-08-03T15:53:02.810Z"
   },
   {
    "duration": 53,
    "start_time": "2021-08-03T15:53:04.239Z"
   },
   {
    "duration": 19,
    "start_time": "2021-08-03T15:53:07.438Z"
   },
   {
    "duration": 12,
    "start_time": "2021-08-03T15:53:09.046Z"
   },
   {
    "duration": 12,
    "start_time": "2021-08-03T15:53:10.062Z"
   },
   {
    "duration": 9,
    "start_time": "2021-08-03T15:53:11.084Z"
   },
   {
    "duration": 131,
    "start_time": "2021-08-04T15:57:06.756Z"
   },
   {
    "duration": 832,
    "start_time": "2021-08-04T15:57:16.600Z"
   },
   {
    "duration": 5,
    "start_time": "2021-08-04T15:57:17.434Z"
   },
   {
    "duration": 7,
    "start_time": "2021-08-04T15:57:17.442Z"
   },
   {
    "duration": 68,
    "start_time": "2021-08-04T15:57:17.451Z"
   },
   {
    "duration": 115,
    "start_time": "2021-08-04T15:57:17.521Z"
   },
   {
    "duration": -34,
    "start_time": "2021-08-04T15:57:17.673Z"
   },
   {
    "duration": -139,
    "start_time": "2021-08-04T15:57:17.779Z"
   },
   {
    "duration": -144,
    "start_time": "2021-08-04T15:57:17.785Z"
   },
   {
    "duration": -145,
    "start_time": "2021-08-04T15:57:17.788Z"
   },
   {
    "duration": 17,
    "start_time": "2021-08-04T15:59:09.504Z"
   },
   {
    "duration": 13,
    "start_time": "2021-08-04T16:00:23.740Z"
   },
   {
    "duration": 12,
    "start_time": "2021-08-04T16:00:25.597Z"
   },
   {
    "duration": 10,
    "start_time": "2021-08-04T16:00:26.544Z"
   },
   {
    "duration": 670,
    "start_time": "2021-08-04T16:28:30.042Z"
   },
   {
    "duration": 282,
    "start_time": "2021-08-04T17:54:08.613Z"
   },
   {
    "duration": 794,
    "start_time": "2021-08-04T17:54:12.921Z"
   },
   {
    "duration": 4,
    "start_time": "2021-08-04T17:54:14.292Z"
   },
   {
    "duration": 5,
    "start_time": "2021-08-04T17:54:15.230Z"
   },
   {
    "duration": 35,
    "start_time": "2021-08-04T17:54:17.534Z"
   },
   {
    "duration": 83,
    "start_time": "2021-08-04T17:54:21.767Z"
   },
   {
    "duration": 34,
    "start_time": "2021-08-04T17:54:24.541Z"
   },
   {
    "duration": 39,
    "start_time": "2021-08-04T17:54:45.542Z"
   },
   {
    "duration": 831,
    "start_time": "2021-08-04T17:54:59.699Z"
   },
   {
    "duration": 6,
    "start_time": "2021-08-04T17:55:05.660Z"
   },
   {
    "duration": 5,
    "start_time": "2021-08-04T17:55:09.946Z"
   },
   {
    "duration": 36,
    "start_time": "2021-08-04T17:55:12.926Z"
   },
   {
    "duration": 88,
    "start_time": "2021-08-04T17:55:16.633Z"
   },
   {
    "duration": 12,
    "start_time": "2021-08-04T17:55:19.495Z"
   },
   {
    "duration": 9,
    "start_time": "2021-08-04T17:55:23.769Z"
   },
   {
    "duration": 893,
    "start_time": "2021-08-05T14:53:28.333Z"
   },
   {
    "duration": 128,
    "start_time": "2021-08-05T14:53:32.853Z"
   },
   {
    "duration": 7,
    "start_time": "2021-08-05T14:53:39.359Z"
   },
   {
    "duration": 55,
    "start_time": "2021-08-05T14:53:41.976Z"
   },
   {
    "duration": 110,
    "start_time": "2021-08-05T14:53:51.127Z"
   },
   {
    "duration": 15,
    "start_time": "2021-08-05T14:53:53.846Z"
   },
   {
    "duration": 12,
    "start_time": "2021-08-05T14:53:58.614Z"
   },
   {
    "duration": 11,
    "start_time": "2021-08-05T14:54:00.752Z"
   },
   {
    "duration": 10,
    "start_time": "2021-08-05T14:54:04.916Z"
   },
   {
    "duration": 13,
    "start_time": "2021-08-05T14:59:02.955Z"
   },
   {
    "duration": 12,
    "start_time": "2021-08-05T14:59:04.962Z"
   },
   {
    "duration": 861,
    "start_time": "2021-08-05T15:00:52.062Z"
   },
   {
    "duration": 138,
    "start_time": "2021-08-05T15:00:52.926Z"
   },
   {
    "duration": 5,
    "start_time": "2021-08-05T15:00:53.068Z"
   },
   {
    "duration": 57,
    "start_time": "2021-08-05T15:00:53.076Z"
   },
   {
    "duration": 145,
    "start_time": "2021-08-05T15:00:53.136Z"
   },
   {
    "duration": -519,
    "start_time": "2021-08-05T15:00:53.803Z"
   },
   {
    "duration": -522,
    "start_time": "2021-08-05T15:00:53.807Z"
   },
   {
    "duration": -524,
    "start_time": "2021-08-05T15:00:53.811Z"
   },
   {
    "duration": -529,
    "start_time": "2021-08-05T15:00:53.817Z"
   },
   {
    "duration": 89,
    "start_time": "2021-08-05T15:01:19.397Z"
   },
   {
    "duration": 118,
    "start_time": "2021-08-05T15:01:22.533Z"
   },
   {
    "duration": 6,
    "start_time": "2021-08-05T15:01:25.460Z"
   },
   {
    "duration": 56,
    "start_time": "2021-08-05T15:01:28.815Z"
   },
   {
    "duration": 438,
    "start_time": "2021-08-05T15:01:40.269Z"
   },
   {
    "duration": 891,
    "start_time": "2021-08-05T15:01:48.251Z"
   },
   {
    "duration": 174,
    "start_time": "2021-08-05T15:01:50.789Z"
   },
   {
    "duration": 7,
    "start_time": "2021-08-05T15:01:53.221Z"
   },
   {
    "duration": 79,
    "start_time": "2021-08-05T15:01:56.021Z"
   },
   {
    "duration": 128,
    "start_time": "2021-08-05T15:01:58.813Z"
   },
   {
    "duration": 17,
    "start_time": "2021-08-05T15:02:01.203Z"
   },
   {
    "duration": 13,
    "start_time": "2021-08-05T15:02:05.228Z"
   },
   {
    "duration": 11,
    "start_time": "2021-08-05T15:02:07.260Z"
   },
   {
    "duration": 11,
    "start_time": "2021-08-05T15:02:09.468Z"
   },
   {
    "duration": 414,
    "start_time": "2021-08-05T15:05:14.666Z"
   },
   {
    "duration": 843,
    "start_time": "2021-08-05T15:05:19.165Z"
   },
   {
    "duration": 139,
    "start_time": "2021-08-05T15:05:20.010Z"
   },
   {
    "duration": 5,
    "start_time": "2021-08-05T15:05:20.153Z"
   },
   {
    "duration": 61,
    "start_time": "2021-08-05T15:05:20.161Z"
   },
   {
    "duration": 44,
    "start_time": "2021-08-05T15:05:20.225Z"
   },
   {
    "duration": 14,
    "start_time": "2021-08-05T15:05:20.272Z"
   },
   {
    "duration": 10,
    "start_time": "2021-08-05T15:05:20.288Z"
   },
   {
    "duration": 12,
    "start_time": "2021-08-05T15:05:20.301Z"
   },
   {
    "duration": 86,
    "start_time": "2021-08-05T15:05:29.505Z"
   },
   {
    "duration": 117,
    "start_time": "2021-08-05T15:05:31.904Z"
   },
   {
    "duration": 867,
    "start_time": "2021-08-05T15:05:37.830Z"
   },
   {
    "duration": 163,
    "start_time": "2021-08-05T15:05:40.238Z"
   },
   {
    "duration": 6,
    "start_time": "2021-08-05T15:05:41.237Z"
   },
   {
    "duration": 64,
    "start_time": "2021-08-05T15:05:43.253Z"
   },
   {
    "duration": 15,
    "start_time": "2021-08-05T15:05:49.112Z"
   },
   {
    "duration": 12,
    "start_time": "2021-08-05T15:05:50.510Z"
   },
   {
    "duration": 10,
    "start_time": "2021-08-05T15:05:52.477Z"
   },
   {
    "duration": 10,
    "start_time": "2021-08-05T15:05:54.284Z"
   },
   {
    "duration": 15,
    "start_time": "2021-08-05T15:13:20.889Z"
   },
   {
    "duration": 875,
    "start_time": "2021-08-05T15:13:29.541Z"
   },
   {
    "duration": 141,
    "start_time": "2021-08-05T15:13:30.539Z"
   },
   {
    "duration": 117,
    "start_time": "2021-08-05T15:13:32.914Z"
   },
   {
    "duration": 121,
    "start_time": "2021-08-05T15:13:35.010Z"
   },
   {
    "duration": 6,
    "start_time": "2021-08-05T15:13:37.050Z"
   },
   {
    "duration": 55,
    "start_time": "2021-08-05T15:13:38.492Z"
   },
   {
    "duration": 16,
    "start_time": "2021-08-05T15:13:40.833Z"
   },
   {
    "duration": 12,
    "start_time": "2021-08-05T15:13:43.544Z"
   },
   {
    "duration": 11,
    "start_time": "2021-08-05T15:13:44.874Z"
   },
   {
    "duration": 10,
    "start_time": "2021-08-05T15:13:46.184Z"
   },
   {
    "duration": 85,
    "start_time": "2021-08-05T15:15:07.776Z"
   },
   {
    "duration": 134,
    "start_time": "2021-08-05T15:15:07.864Z"
   },
   {
    "duration": 5,
    "start_time": "2021-08-05T15:15:08.001Z"
   },
   {
    "duration": 76,
    "start_time": "2021-08-05T15:15:08.009Z"
   },
   {
    "duration": 19,
    "start_time": "2021-08-05T15:15:08.088Z"
   },
   {
    "duration": 21,
    "start_time": "2021-08-05T15:15:08.109Z"
   },
   {
    "duration": 27,
    "start_time": "2021-08-05T15:15:08.133Z"
   },
   {
    "duration": 18,
    "start_time": "2021-08-05T15:15:08.164Z"
   },
   {
    "duration": 1202,
    "start_time": "2021-08-05T15:15:16.645Z"
   },
   {
    "duration": 170,
    "start_time": "2021-08-05T15:15:17.857Z"
   },
   {
    "duration": 7,
    "start_time": "2021-08-05T15:15:18.030Z"
   },
   {
    "duration": 90,
    "start_time": "2021-08-05T15:15:18.040Z"
   },
   {
    "duration": 52,
    "start_time": "2021-08-05T15:15:18.133Z"
   },
   {
    "duration": 14,
    "start_time": "2021-08-05T15:15:18.188Z"
   },
   {
    "duration": 12,
    "start_time": "2021-08-05T15:15:18.205Z"
   },
   {
    "duration": 42,
    "start_time": "2021-08-05T15:15:18.221Z"
   },
   {
    "duration": 858,
    "start_time": "2021-08-05T15:15:57.223Z"
   },
   {
    "duration": 132,
    "start_time": "2021-08-05T15:15:58.084Z"
   },
   {
    "duration": 6,
    "start_time": "2021-08-05T15:15:58.219Z"
   },
   {
    "duration": 75,
    "start_time": "2021-08-05T15:15:58.228Z"
   },
   {
    "duration": 20,
    "start_time": "2021-08-05T15:15:58.306Z"
   },
   {
    "duration": 31,
    "start_time": "2021-08-05T15:15:58.328Z"
   },
   {
    "duration": 10,
    "start_time": "2021-08-05T15:15:58.361Z"
   },
   {
    "duration": 13,
    "start_time": "2021-08-05T15:15:58.374Z"
   },
   {
    "duration": 464,
    "start_time": "2021-08-05T15:17:05.913Z"
   },
   {
    "duration": 36,
    "start_time": "2021-08-05T15:17:27.433Z"
   },
   {
    "duration": 385,
    "start_time": "2021-08-05T15:17:39.650Z"
   },
   {
    "duration": 41,
    "start_time": "2021-08-05T15:17:59.634Z"
   },
   {
    "duration": 44,
    "start_time": "2021-08-05T15:18:45.687Z"
   },
   {
    "duration": 526,
    "start_time": "2021-08-05T16:02:06.936Z"
   },
   {
    "duration": 14,
    "start_time": "2021-08-05T16:02:12.315Z"
   },
   {
    "duration": 13,
    "start_time": "2021-08-05T16:04:15.506Z"
   },
   {
    "duration": 96,
    "start_time": "2021-08-05T16:14:21.700Z"
   },
   {
    "duration": 137,
    "start_time": "2021-08-05T16:14:21.800Z"
   },
   {
    "duration": 6,
    "start_time": "2021-08-05T16:14:21.940Z"
   },
   {
    "duration": 53,
    "start_time": "2021-08-05T16:14:21.956Z"
   },
   {
    "duration": 46,
    "start_time": "2021-08-05T16:14:22.011Z"
   },
   {
    "duration": 13,
    "start_time": "2021-08-05T16:14:22.059Z"
   },
   {
    "duration": 13,
    "start_time": "2021-08-05T16:14:22.075Z"
   },
   {
    "duration": 17,
    "start_time": "2021-08-05T16:14:22.093Z"
   },
   {
    "duration": 86,
    "start_time": "2021-08-05T16:14:22.113Z"
   },
   {
    "duration": 934,
    "start_time": "2021-08-05T18:33:15.465Z"
   },
   {
    "duration": 147,
    "start_time": "2021-08-05T18:33:18.709Z"
   },
   {
    "duration": 7,
    "start_time": "2021-08-05T18:33:21.497Z"
   },
   {
    "duration": 68,
    "start_time": "2021-08-05T18:33:24.044Z"
   },
   {
    "duration": 437,
    "start_time": "2021-08-05T18:33:26.442Z"
   },
   {
    "duration": 1279,
    "start_time": "2021-08-05T18:33:58.320Z"
   },
   {
    "duration": 185,
    "start_time": "2021-08-05T18:34:03.244Z"
   },
   {
    "duration": 6,
    "start_time": "2021-08-05T18:34:05.846Z"
   },
   {
    "duration": 65,
    "start_time": "2021-08-05T18:34:08.369Z"
   },
   {
    "duration": 493,
    "start_time": "2021-08-05T18:34:10.343Z"
   },
   {
    "duration": 7009,
    "start_time": "2021-08-05T18:34:23.301Z"
   },
   {
    "duration": 5402,
    "start_time": "2021-08-05T18:34:54.581Z"
   },
   {
    "duration": 4899,
    "start_time": "2021-08-05T18:35:14.531Z"
   },
   {
    "duration": 4763,
    "start_time": "2021-08-05T18:35:34.772Z"
   },
   {
    "duration": 137,
    "start_time": "2021-08-05T18:36:13.040Z"
   },
   {
    "duration": 5120,
    "start_time": "2021-08-05T18:36:30.689Z"
   },
   {
    "duration": 5405,
    "start_time": "2021-08-05T18:37:57.377Z"
   },
   {
    "duration": 126,
    "start_time": "2021-08-05T18:38:18.797Z"
   },
   {
    "duration": 4887,
    "start_time": "2021-08-05T18:38:31.116Z"
   },
   {
    "duration": 5290,
    "start_time": "2021-08-05T18:40:26.489Z"
   },
   {
    "duration": 7092,
    "start_time": "2021-08-05T18:43:25.383Z"
   },
   {
    "duration": 5242,
    "start_time": "2021-08-05T18:43:46.964Z"
   },
   {
    "duration": 5695,
    "start_time": "2021-08-05T18:44:13.380Z"
   },
   {
    "duration": 110,
    "start_time": "2021-08-05T18:47:02.339Z"
   },
   {
    "duration": 6857,
    "start_time": "2021-08-05T18:47:17.524Z"
   },
   {
    "duration": 4920,
    "start_time": "2021-08-05T18:47:52.494Z"
   },
   {
    "duration": 4850,
    "start_time": "2021-08-05T18:48:11.337Z"
   },
   {
    "duration": 96,
    "start_time": "2021-08-05T18:48:41.609Z"
   },
   {
    "duration": 5815,
    "start_time": "2021-08-05T18:48:46.811Z"
   },
   {
    "duration": 5655,
    "start_time": "2021-08-05T18:49:34.747Z"
   },
   {
    "duration": 5518,
    "start_time": "2021-08-05T18:49:57.848Z"
   },
   {
    "duration": 5682,
    "start_time": "2021-08-05T18:50:19.504Z"
   },
   {
    "duration": 5588,
    "start_time": "2021-08-05T18:50:40.213Z"
   },
   {
    "duration": 5337,
    "start_time": "2021-08-05T18:50:57.130Z"
   },
   {
    "duration": 90,
    "start_time": "2021-08-05T18:51:14.103Z"
   },
   {
    "duration": 5755,
    "start_time": "2021-08-05T18:51:19.790Z"
   },
   {
    "duration": 6014,
    "start_time": "2021-08-05T18:51:46.500Z"
   },
   {
    "duration": 5470,
    "start_time": "2021-08-05T18:52:03.847Z"
   },
   {
    "duration": 5762,
    "start_time": "2021-08-05T18:56:10.868Z"
   },
   {
    "duration": 6145,
    "start_time": "2021-08-05T18:56:37.027Z"
   },
   {
    "duration": 5698,
    "start_time": "2021-08-05T18:57:07.760Z"
   },
   {
    "duration": 4974,
    "start_time": "2021-08-05T19:01:22.546Z"
   },
   {
    "duration": 4974,
    "start_time": "2021-08-05T19:01:50.262Z"
   },
   {
    "duration": 4873,
    "start_time": "2021-08-05T19:01:59.330Z"
   },
   {
    "duration": 5168,
    "start_time": "2021-08-05T19:02:20.011Z"
   },
   {
    "duration": 5204,
    "start_time": "2021-08-05T19:02:35.274Z"
   },
   {
    "duration": 5291,
    "start_time": "2021-08-05T19:03:10.706Z"
   },
   {
    "duration": 5245,
    "start_time": "2021-08-05T19:03:29.297Z"
   },
   {
    "duration": 5358,
    "start_time": "2021-08-05T19:03:43.145Z"
   },
   {
    "duration": 4731,
    "start_time": "2021-08-05T19:04:44.372Z"
   },
   {
    "duration": 5977,
    "start_time": "2021-08-05T19:04:57.538Z"
   },
   {
    "duration": 5722,
    "start_time": "2021-08-05T19:05:09.074Z"
   },
   {
    "duration": 5666,
    "start_time": "2021-08-05T19:06:34.993Z"
   },
   {
    "duration": 5424,
    "start_time": "2021-08-05T19:08:21.317Z"
   },
   {
    "duration": 5804,
    "start_time": "2021-08-05T19:08:43.723Z"
   },
   {
    "duration": 5888,
    "start_time": "2021-08-05T19:09:03.250Z"
   },
   {
    "duration": 5632,
    "start_time": "2021-08-05T19:09:21.439Z"
   },
   {
    "duration": 5970,
    "start_time": "2021-08-05T19:09:34.212Z"
   },
   {
    "duration": 6299,
    "start_time": "2021-08-05T19:10:04.318Z"
   },
   {
    "duration": 5824,
    "start_time": "2021-08-05T19:10:20.821Z"
   },
   {
    "duration": 107,
    "start_time": "2021-08-05T19:12:51.772Z"
   },
   {
    "duration": 5626,
    "start_time": "2021-08-05T19:12:58.179Z"
   },
   {
    "duration": 6487,
    "start_time": "2021-08-05T19:13:16.060Z"
   },
   {
    "duration": 5558,
    "start_time": "2021-08-05T19:16:36.787Z"
   },
   {
    "duration": 8398,
    "start_time": "2021-08-05T19:17:23.027Z"
   },
   {
    "duration": 6461,
    "start_time": "2021-08-05T19:17:58.357Z"
   },
   {
    "duration": 7108,
    "start_time": "2021-08-05T19:18:08.871Z"
   },
   {
    "duration": 6424,
    "start_time": "2021-08-05T19:18:23.900Z"
   },
   {
    "duration": 7280,
    "start_time": "2021-08-05T19:24:32.648Z"
   },
   {
    "duration": 6923,
    "start_time": "2021-08-05T19:26:11.289Z"
   },
   {
    "duration": 6515,
    "start_time": "2021-08-05T19:26:30.376Z"
   },
   {
    "duration": 7693,
    "start_time": "2021-08-05T19:26:59.607Z"
   },
   {
    "duration": 6675,
    "start_time": "2021-08-05T19:27:29.481Z"
   },
   {
    "duration": 6847,
    "start_time": "2021-08-05T19:28:18.878Z"
   },
   {
    "duration": 1023,
    "start_time": "2021-08-05T19:29:43.936Z"
   },
   {
    "duration": 153,
    "start_time": "2021-08-05T19:29:44.962Z"
   },
   {
    "duration": 6,
    "start_time": "2021-08-05T19:29:45.118Z"
   },
   {
    "duration": 79,
    "start_time": "2021-08-05T19:29:45.127Z"
   },
   {
    "duration": 880,
    "start_time": "2021-08-05T19:30:41.737Z"
   },
   {
    "duration": 194,
    "start_time": "2021-08-05T19:30:42.621Z"
   },
   {
    "duration": 7,
    "start_time": "2021-08-05T19:30:42.824Z"
   },
   {
    "duration": 86,
    "start_time": "2021-08-05T19:30:42.833Z"
   },
   {
    "duration": 6241,
    "start_time": "2021-08-05T19:30:42.922Z"
   },
   {
    "duration": -781,
    "start_time": "2021-08-05T19:30:49.947Z"
   },
   {
    "duration": -784,
    "start_time": "2021-08-05T19:30:49.952Z"
   },
   {
    "duration": -785,
    "start_time": "2021-08-05T19:30:49.954Z"
   },
   {
    "duration": -785,
    "start_time": "2021-08-05T19:30:49.956Z"
   },
   {
    "duration": -785,
    "start_time": "2021-08-05T19:30:49.957Z"
   },
   {
    "duration": 6126,
    "start_time": "2021-08-05T19:31:12.760Z"
   },
   {
    "duration": 4992,
    "start_time": "2021-08-05T19:32:41.651Z"
   },
   {
    "duration": 4962,
    "start_time": "2021-08-05T19:35:09.383Z"
   },
   {
    "duration": 4803,
    "start_time": "2021-08-05T19:35:22.834Z"
   },
   {
    "duration": 4755,
    "start_time": "2021-08-05T19:35:49.379Z"
   },
   {
    "duration": 4847,
    "start_time": "2021-08-05T19:36:17.015Z"
   },
   {
    "duration": 5314,
    "start_time": "2021-08-05T19:36:33.469Z"
   },
   {
    "duration": 4781,
    "start_time": "2021-08-05T19:37:03.273Z"
   },
   {
    "duration": 5069,
    "start_time": "2021-08-05T19:37:35.228Z"
   },
   {
    "duration": 5964,
    "start_time": "2021-08-05T19:37:42.905Z"
   },
   {
    "duration": 5969,
    "start_time": "2021-08-05T19:38:06.050Z"
   },
   {
    "duration": 5510,
    "start_time": "2021-08-05T19:38:18.414Z"
   },
   {
    "duration": 4925,
    "start_time": "2021-08-05T19:38:43.679Z"
   },
   {
    "duration": 5065,
    "start_time": "2021-08-05T19:39:50.894Z"
   },
   {
    "duration": 5795,
    "start_time": "2021-08-05T19:40:25.531Z"
   },
   {
    "duration": 4693,
    "start_time": "2021-08-05T19:40:38.685Z"
   },
   {
    "duration": 4915,
    "start_time": "2021-08-05T19:41:01.610Z"
   },
   {
    "duration": 4850,
    "start_time": "2021-08-05T19:41:11.948Z"
   },
   {
    "duration": 4842,
    "start_time": "2021-08-05T19:41:23.387Z"
   },
   {
    "duration": 116,
    "start_time": "2021-08-05T19:41:44.251Z"
   },
   {
    "duration": 5198,
    "start_time": "2021-08-05T19:41:58.614Z"
   },
   {
    "duration": 4767,
    "start_time": "2021-08-05T19:42:18.882Z"
   },
   {
    "duration": 46,
    "start_time": "2021-08-05T19:42:44.639Z"
   },
   {
    "duration": 19,
    "start_time": "2021-08-05T19:42:49.205Z"
   },
   {
    "duration": 5856,
    "start_time": "2021-08-05T19:43:32.234Z"
   },
   {
    "duration": 103,
    "start_time": "2021-08-05T19:47:58.296Z"
   },
   {
    "duration": 144,
    "start_time": "2021-08-05T19:47:58.402Z"
   },
   {
    "duration": 7,
    "start_time": "2021-08-05T19:47:58.550Z"
   },
   {
    "duration": 101,
    "start_time": "2021-08-05T19:47:58.560Z"
   },
   {
    "duration": 5331,
    "start_time": "2021-08-05T19:47:58.664Z"
   },
   {
    "duration": 24,
    "start_time": "2021-08-05T19:48:03.998Z"
   },
   {
    "duration": 47,
    "start_time": "2021-08-05T19:48:04.025Z"
   },
   {
    "duration": 12,
    "start_time": "2021-08-05T19:48:04.077Z"
   },
   {
    "duration": 24,
    "start_time": "2021-08-05T19:48:04.091Z"
   },
   {
    "duration": 4126,
    "start_time": "2021-08-05T19:48:04.118Z"
   },
   {
    "duration": -1008,
    "start_time": "2021-08-05T19:48:09.254Z"
   },
   {
    "duration": 1118,
    "start_time": "2021-08-05T19:48:39.971Z"
   },
   {
    "duration": 197,
    "start_time": "2021-08-05T19:48:41.093Z"
   },
   {
    "duration": 7,
    "start_time": "2021-08-05T19:48:41.294Z"
   },
   {
    "duration": 101,
    "start_time": "2021-08-05T19:48:41.304Z"
   },
   {
    "duration": 5762,
    "start_time": "2021-08-05T19:48:41.409Z"
   },
   {
    "duration": 22,
    "start_time": "2021-08-05T19:48:47.175Z"
   },
   {
    "duration": 25,
    "start_time": "2021-08-05T19:48:47.200Z"
   },
   {
    "duration": 45,
    "start_time": "2021-08-05T19:48:47.227Z"
   },
   {
    "duration": 15,
    "start_time": "2021-08-05T19:48:47.276Z"
   },
   {
    "duration": 2880,
    "start_time": "2021-08-05T19:48:47.294Z"
   },
   {
    "duration": -985,
    "start_time": "2021-08-05T19:48:51.163Z"
   },
   {
    "duration": 9,
    "start_time": "2021-08-05T19:49:03.179Z"
   },
   {
    "duration": 13,
    "start_time": "2021-08-05T19:49:27.868Z"
   },
   {
    "duration": 66,
    "start_time": "2021-08-05T19:49:51.850Z"
   },
   {
    "duration": 10,
    "start_time": "2021-08-05T19:50:17.712Z"
   },
   {
    "duration": 37,
    "start_time": "2021-08-05T19:50:29.174Z"
   },
   {
    "duration": 10,
    "start_time": "2021-08-05T19:51:27.505Z"
   },
   {
    "duration": 23,
    "start_time": "2021-08-05T19:51:33.374Z"
   },
   {
    "duration": 11,
    "start_time": "2021-08-05T19:51:52.930Z"
   },
   {
    "duration": 1171,
    "start_time": "2021-08-06T14:18:49.597Z"
   },
   {
    "duration": 230,
    "start_time": "2021-08-06T14:18:50.772Z"
   },
   {
    "duration": 14,
    "start_time": "2021-08-06T14:18:51.006Z"
   },
   {
    "duration": 8,
    "start_time": "2021-08-06T14:18:51.023Z"
   },
   {
    "duration": 109,
    "start_time": "2021-08-06T14:18:51.034Z"
   },
   {
    "duration": 4956,
    "start_time": "2021-08-06T14:18:51.146Z"
   },
   {
    "duration": 21,
    "start_time": "2021-08-06T14:18:56.105Z"
   },
   {
    "duration": 16,
    "start_time": "2021-08-06T14:18:56.130Z"
   },
   {
    "duration": 46,
    "start_time": "2021-08-06T14:18:56.149Z"
   },
   {
    "duration": 13,
    "start_time": "2021-08-06T14:18:56.198Z"
   },
   {
    "duration": 10,
    "start_time": "2021-08-06T14:18:56.213Z"
   },
   {
    "duration": 69,
    "start_time": "2021-08-06T14:18:56.226Z"
   },
   {
    "duration": 41,
    "start_time": "2021-08-06T14:19:36.196Z"
   },
   {
    "duration": 34,
    "start_time": "2021-08-06T14:20:03.445Z"
   },
   {
    "duration": 10,
    "start_time": "2021-08-06T14:56:50.298Z"
   },
   {
    "duration": 8,
    "start_time": "2021-08-06T14:57:05.038Z"
   },
   {
    "duration": 13,
    "start_time": "2021-08-06T14:57:13.126Z"
   },
   {
    "duration": 13,
    "start_time": "2021-08-06T14:59:34.503Z"
   },
   {
    "duration": 14,
    "start_time": "2021-08-06T14:59:34.691Z"
   },
   {
    "duration": 13,
    "start_time": "2021-08-06T15:24:29.801Z"
   },
   {
    "duration": 2112,
    "start_time": "2021-08-06T15:25:25.347Z"
   },
   {
    "duration": 2026,
    "start_time": "2021-08-06T15:26:01.708Z"
   },
   {
    "duration": 1016,
    "start_time": "2021-08-06T15:26:22.125Z"
   },
   {
    "duration": 204,
    "start_time": "2021-08-06T15:26:23.145Z"
   },
   {
    "duration": 8,
    "start_time": "2021-08-06T15:26:23.353Z"
   },
   {
    "duration": 86,
    "start_time": "2021-08-06T15:26:23.365Z"
   },
   {
    "duration": 5714,
    "start_time": "2021-08-06T15:26:23.454Z"
   },
   {
    "duration": 9,
    "start_time": "2021-08-06T15:26:29.171Z"
   },
   {
    "duration": 37,
    "start_time": "2021-08-06T15:26:29.194Z"
   },
   {
    "duration": 16,
    "start_time": "2021-08-06T15:26:29.235Z"
   },
   {
    "duration": 10,
    "start_time": "2021-08-06T15:26:29.254Z"
   },
   {
    "duration": 46,
    "start_time": "2021-08-06T15:26:29.267Z"
   },
   {
    "duration": 11,
    "start_time": "2021-08-06T15:26:29.317Z"
   },
   {
    "duration": 56,
    "start_time": "2021-08-06T15:26:29.332Z"
   },
   {
    "duration": 108,
    "start_time": "2021-08-06T15:27:38.669Z"
   },
   {
    "duration": 128,
    "start_time": "2021-08-06T15:29:25.698Z"
   },
   {
    "duration": 148,
    "start_time": "2021-08-06T15:30:51.690Z"
   },
   {
    "duration": 5894,
    "start_time": "2021-08-06T15:33:02.078Z"
   },
   {
    "duration": 1838,
    "start_time": "2021-08-06T15:33:22.211Z"
   },
   {
    "duration": 1260,
    "start_time": "2021-08-06T15:33:35.696Z"
   },
   {
    "duration": 167,
    "start_time": "2021-08-06T15:33:36.959Z"
   },
   {
    "duration": 11,
    "start_time": "2021-08-06T15:33:37.130Z"
   },
   {
    "duration": 84,
    "start_time": "2021-08-06T15:33:37.145Z"
   },
   {
    "duration": 6033,
    "start_time": "2021-08-06T15:33:37.234Z"
   },
   {
    "duration": 22,
    "start_time": "2021-08-06T15:33:43.271Z"
   },
   {
    "duration": 35,
    "start_time": "2021-08-06T15:33:43.297Z"
   },
   {
    "duration": 18,
    "start_time": "2021-08-06T15:33:43.338Z"
   },
   {
    "duration": 42,
    "start_time": "2021-08-06T15:33:43.359Z"
   },
   {
    "duration": 22,
    "start_time": "2021-08-06T15:33:43.404Z"
   },
   {
    "duration": 14,
    "start_time": "2021-08-06T15:33:43.429Z"
   },
   {
    "duration": 93,
    "start_time": "2021-08-06T15:33:43.447Z"
   },
   {
    "duration": 332,
    "start_time": "2021-08-06T17:18:21.116Z"
   },
   {
    "duration": 974,
    "start_time": "2021-08-06T17:18:27.801Z"
   },
   {
    "duration": 142,
    "start_time": "2021-08-06T17:18:28.778Z"
   },
   {
    "duration": 6,
    "start_time": "2021-08-06T17:18:28.923Z"
   },
   {
    "duration": 89,
    "start_time": "2021-08-06T17:18:28.932Z"
   },
   {
    "duration": 5494,
    "start_time": "2021-08-06T17:18:29.023Z"
   },
   {
    "duration": 12,
    "start_time": "2021-08-06T17:18:34.521Z"
   },
   {
    "duration": 20,
    "start_time": "2021-08-06T17:18:34.536Z"
   },
   {
    "duration": 48,
    "start_time": "2021-08-06T17:18:34.559Z"
   },
   {
    "duration": 14,
    "start_time": "2021-08-06T17:18:34.613Z"
   },
   {
    "duration": 17,
    "start_time": "2021-08-06T17:18:34.630Z"
   },
   {
    "duration": 60,
    "start_time": "2021-08-06T17:18:34.651Z"
   },
   {
    "duration": 51,
    "start_time": "2021-08-06T17:18:34.714Z"
   },
   {
    "duration": 13,
    "start_time": "2021-08-06T17:18:48.650Z"
   },
   {
    "duration": 13,
    "start_time": "2021-08-06T17:19:59.516Z"
   },
   {
    "duration": 436,
    "start_time": "2021-08-06T17:20:21.817Z"
   },
   {
    "duration": 44,
    "start_time": "2021-08-06T17:21:09.359Z"
   },
   {
    "duration": 61,
    "start_time": "2021-08-06T17:21:44.235Z"
   },
   {
    "duration": 15,
    "start_time": "2021-08-06T17:22:07.193Z"
   },
   {
    "duration": 13,
    "start_time": "2021-08-06T17:22:15.106Z"
   },
   {
    "duration": 13,
    "start_time": "2021-08-06T17:22:51.167Z"
   },
   {
    "duration": 385,
    "start_time": "2021-08-06T17:23:17.516Z"
   },
   {
    "duration": 11,
    "start_time": "2021-08-06T17:23:22.556Z"
   },
   {
    "duration": 105,
    "start_time": "2021-08-06T17:24:53.143Z"
   },
   {
    "duration": 17,
    "start_time": "2021-08-06T17:24:59.240Z"
   },
   {
    "duration": 146,
    "start_time": "2021-08-06T17:26:47.634Z"
   },
   {
    "duration": 43,
    "start_time": "2021-08-06T17:26:52.805Z"
   },
   {
    "duration": 157,
    "start_time": "2021-08-06T17:28:08.317Z"
   },
   {
    "duration": 21,
    "start_time": "2021-08-06T17:28:18.556Z"
   },
   {
    "duration": 60,
    "start_time": "2021-08-06T17:28:24.164Z"
   },
   {
    "duration": 25,
    "start_time": "2021-08-06T17:28:46.765Z"
   },
   {
    "duration": 26,
    "start_time": "2021-08-06T17:29:09.791Z"
   },
   {
    "duration": 28,
    "start_time": "2021-08-06T17:30:18.293Z"
   },
   {
    "duration": 23,
    "start_time": "2021-08-06T17:31:02.550Z"
   },
   {
    "duration": 88,
    "start_time": "2021-08-06T17:31:20.565Z"
   },
   {
    "duration": 81,
    "start_time": "2021-08-06T17:31:31.289Z"
   },
   {
    "duration": 19,
    "start_time": "2021-08-06T17:31:42.242Z"
   },
   {
    "duration": 148,
    "start_time": "2021-08-06T17:32:54.446Z"
   },
   {
    "duration": 20,
    "start_time": "2021-08-06T17:32:58.336Z"
   },
   {
    "duration": 20,
    "start_time": "2021-08-06T17:33:07.298Z"
   },
   {
    "duration": 1269,
    "start_time": "2021-08-06T17:35:03.451Z"
   },
   {
    "duration": 1245,
    "start_time": "2021-08-06T17:35:21.529Z"
   },
   {
    "duration": 1224,
    "start_time": "2021-08-06T17:35:41.317Z"
   },
   {
    "duration": 1617,
    "start_time": "2021-08-06T17:41:13.637Z"
   },
   {
    "duration": 5,
    "start_time": "2021-08-06T17:41:31.072Z"
   },
   {
    "duration": 6,
    "start_time": "2021-08-06T17:41:36.037Z"
   },
   {
    "duration": 13,
    "start_time": "2021-08-06T17:41:59.577Z"
   },
   {
    "duration": 106,
    "start_time": "2021-08-06T17:43:42.801Z"
   },
   {
    "duration": 302,
    "start_time": "2021-08-06T17:43:47.978Z"
   },
   {
    "duration": 1192,
    "start_time": "2021-08-06T17:44:30.762Z"
   },
   {
    "duration": 10515,
    "start_time": "2021-08-06T17:46:14.568Z"
   },
   {
    "duration": 1377,
    "start_time": "2021-08-06T17:46:57.305Z"
   },
   {
    "duration": 1775,
    "start_time": "2021-08-06T17:49:32.096Z"
   },
   {
    "duration": 1461,
    "start_time": "2021-08-06T17:50:11.862Z"
   },
   {
    "duration": 1453,
    "start_time": "2021-08-06T17:50:55.385Z"
   },
   {
    "duration": 1335,
    "start_time": "2021-08-06T17:51:05.494Z"
   },
   {
    "duration": 1414,
    "start_time": "2021-08-06T17:52:32.948Z"
   },
   {
    "duration": 1423,
    "start_time": "2021-08-06T17:54:09.327Z"
   },
   {
    "duration": 921,
    "start_time": "2021-08-06T17:54:34.593Z"
   },
   {
    "duration": 175,
    "start_time": "2021-08-06T17:54:35.518Z"
   },
   {
    "duration": 8,
    "start_time": "2021-08-06T17:54:35.697Z"
   },
   {
    "duration": 107,
    "start_time": "2021-08-06T17:54:35.709Z"
   },
   {
    "duration": 5636,
    "start_time": "2021-08-06T17:54:35.819Z"
   },
   {
    "duration": 10,
    "start_time": "2021-08-06T17:54:41.458Z"
   },
   {
    "duration": 44,
    "start_time": "2021-08-06T17:54:41.470Z"
   },
   {
    "duration": 16,
    "start_time": "2021-08-06T17:54:41.517Z"
   },
   {
    "duration": 11,
    "start_time": "2021-08-06T17:54:41.536Z"
   },
   {
    "duration": 58,
    "start_time": "2021-08-06T17:54:41.550Z"
   },
   {
    "duration": 464,
    "start_time": "2021-08-06T17:54:41.611Z"
   },
   {
    "duration": -192,
    "start_time": "2021-08-06T17:54:42.270Z"
   },
   {
    "duration": 15076,
    "start_time": "2021-08-06T17:54:59.879Z"
   },
   {
    "duration": 17347,
    "start_time": "2021-08-06T17:55:58.117Z"
   },
   {
    "duration": 16742,
    "start_time": "2021-08-06T17:56:53.068Z"
   },
   {
    "duration": 1087,
    "start_time": "2021-08-06T18:01:11.102Z"
   },
   {
    "duration": 177,
    "start_time": "2021-08-06T18:01:12.192Z"
   },
   {
    "duration": 16,
    "start_time": "2021-08-06T18:01:12.374Z"
   },
   {
    "duration": 69,
    "start_time": "2021-08-06T18:01:12.394Z"
   },
   {
    "duration": 18456,
    "start_time": "2021-08-06T18:01:12.466Z"
   },
   {
    "duration": 22,
    "start_time": "2021-08-06T18:01:30.926Z"
   },
   {
    "duration": 51,
    "start_time": "2021-08-06T18:01:30.951Z"
   },
   {
    "duration": 16,
    "start_time": "2021-08-06T18:01:31.007Z"
   },
   {
    "duration": 33,
    "start_time": "2021-08-06T18:01:31.027Z"
   },
   {
    "duration": 490,
    "start_time": "2021-08-06T18:01:31.063Z"
   },
   {
    "duration": -75,
    "start_time": "2021-08-06T18:01:31.631Z"
   },
   {
    "duration": 15942,
    "start_time": "2021-08-06T18:02:35.992Z"
   },
   {
    "duration": 15430,
    "start_time": "2021-08-06T18:03:08.323Z"
   },
   {
    "duration": 14996,
    "start_time": "2021-08-06T18:03:42.062Z"
   },
   {
    "duration": 14300,
    "start_time": "2021-08-06T18:04:49.637Z"
   },
   {
    "duration": 106,
    "start_time": "2021-08-06T18:07:22.822Z"
   },
   {
    "duration": 5037,
    "start_time": "2021-08-06T18:07:44.464Z"
   },
   {
    "duration": 105,
    "start_time": "2021-08-06T18:09:06.273Z"
   },
   {
    "duration": 15144,
    "start_time": "2021-08-06T18:09:13.185Z"
   },
   {
    "duration": 14238,
    "start_time": "2021-08-06T18:09:53.487Z"
   },
   {
    "duration": 14307,
    "start_time": "2021-08-06T18:10:16.953Z"
   },
   {
    "duration": 13942,
    "start_time": "2021-08-06T18:11:17.000Z"
   },
   {
    "duration": 1089,
    "start_time": "2021-08-06T18:11:40.407Z"
   },
   {
    "duration": 219,
    "start_time": "2021-08-06T18:11:41.500Z"
   },
   {
    "duration": 7,
    "start_time": "2021-08-06T18:11:41.724Z"
   },
   {
    "duration": 79,
    "start_time": "2021-08-06T18:11:41.735Z"
   },
   {
    "duration": 17280,
    "start_time": "2021-08-06T18:11:41.817Z"
   },
   {
    "duration": 23,
    "start_time": "2021-08-06T18:11:59.100Z"
   },
   {
    "duration": 16,
    "start_time": "2021-08-06T18:11:59.126Z"
   },
   {
    "duration": 49,
    "start_time": "2021-08-06T18:11:59.146Z"
   },
   {
    "duration": 22,
    "start_time": "2021-08-06T18:11:59.197Z"
   },
   {
    "duration": 478,
    "start_time": "2021-08-06T18:11:59.221Z"
   },
   {
    "duration": -57,
    "start_time": "2021-08-06T18:11:59.760Z"
   },
   {
    "duration": 21,
    "start_time": "2021-08-06T18:12:33.778Z"
   },
   {
    "duration": 323,
    "start_time": "2021-08-06T18:22:35.711Z"
   },
   {
    "duration": 66,
    "start_time": "2021-08-06T18:23:11.570Z"
   },
   {
    "duration": 50,
    "start_time": "2021-08-06T18:24:50.584Z"
   },
   {
    "duration": 446,
    "start_time": "2021-08-06T18:25:02.975Z"
   },
   {
    "duration": 409,
    "start_time": "2021-08-06T18:25:09.831Z"
   },
   {
    "duration": 342,
    "start_time": "2021-08-06T18:25:15.482Z"
   },
   {
    "duration": 347,
    "start_time": "2021-08-06T18:25:22.923Z"
   },
   {
    "duration": 468,
    "start_time": "2021-08-06T18:25:34.447Z"
   },
   {
    "duration": 331,
    "start_time": "2021-08-06T18:25:54.391Z"
   },
   {
    "duration": 338,
    "start_time": "2021-08-06T18:26:04.481Z"
   },
   {
    "duration": 470,
    "start_time": "2021-08-06T18:26:15.578Z"
   },
   {
    "duration": 348,
    "start_time": "2021-08-06T18:26:22.907Z"
   },
   {
    "duration": 108,
    "start_time": "2021-08-06T18:26:38.607Z"
   },
   {
    "duration": 152,
    "start_time": "2021-08-06T18:26:46.706Z"
   },
   {
    "duration": 961,
    "start_time": "2021-08-06T18:26:55.771Z"
   },
   {
    "duration": 172,
    "start_time": "2021-08-06T18:26:56.735Z"
   },
   {
    "duration": 6,
    "start_time": "2021-08-06T18:26:56.911Z"
   },
   {
    "duration": 88,
    "start_time": "2021-08-06T18:26:56.921Z"
   },
   {
    "duration": 15518,
    "start_time": "2021-08-06T18:26:57.012Z"
   },
   {
    "duration": 32,
    "start_time": "2021-08-06T18:27:12.534Z"
   },
   {
    "duration": 21,
    "start_time": "2021-08-06T18:27:12.588Z"
   },
   {
    "duration": 12,
    "start_time": "2021-08-06T18:27:12.611Z"
   },
   {
    "duration": 17,
    "start_time": "2021-08-06T18:27:12.627Z"
   },
   {
    "duration": 109,
    "start_time": "2021-08-06T18:27:12.647Z"
   },
   {
    "duration": -113,
    "start_time": "2021-08-06T18:27:12.872Z"
   },
   {
    "duration": -115,
    "start_time": "2021-08-06T18:27:12.876Z"
   },
   {
    "duration": 175,
    "start_time": "2021-08-06T18:27:20.328Z"
   },
   {
    "duration": 462,
    "start_time": "2021-08-06T18:27:26.677Z"
   },
   {
    "duration": 467,
    "start_time": "2021-08-06T18:27:32.406Z"
   },
   {
    "duration": 317,
    "start_time": "2021-08-06T18:27:42.769Z"
   },
   {
    "duration": 328,
    "start_time": "2021-08-06T18:27:53.772Z"
   },
   {
    "duration": 306,
    "start_time": "2021-08-06T18:28:43.655Z"
   },
   {
    "duration": 32,
    "start_time": "2021-08-06T18:28:49.298Z"
   },
   {
    "duration": 43,
    "start_time": "2021-08-06T18:28:59.075Z"
   },
   {
    "duration": 42,
    "start_time": "2021-08-06T18:29:38.070Z"
   },
   {
    "duration": 54,
    "start_time": "2021-08-06T18:30:09.025Z"
   },
   {
    "duration": 50,
    "start_time": "2021-08-06T18:30:36.490Z"
   },
   {
    "duration": 48,
    "start_time": "2021-08-06T18:30:58.642Z"
   },
   {
    "duration": 60,
    "start_time": "2021-08-06T18:31:10.470Z"
   },
   {
    "duration": 45,
    "start_time": "2021-08-06T18:31:15.408Z"
   },
   {
    "duration": 60,
    "start_time": "2021-08-06T18:31:42.988Z"
   },
   {
    "duration": 64,
    "start_time": "2021-08-07T07:25:07.081Z"
   },
   {
    "duration": 65,
    "start_time": "2021-08-07T07:25:53.721Z"
   },
   {
    "duration": 59,
    "start_time": "2021-08-07T07:27:59.437Z"
   },
   {
    "duration": 63,
    "start_time": "2021-08-07T07:28:40.149Z"
   },
   {
    "duration": 961,
    "start_time": "2021-08-15T15:13:49.047Z"
   },
   {
    "duration": 148,
    "start_time": "2021-08-15T15:13:50.012Z"
   },
   {
    "duration": 6,
    "start_time": "2021-08-15T15:13:50.163Z"
   },
   {
    "duration": 101,
    "start_time": "2021-08-15T15:13:50.173Z"
   },
   {
    "duration": 13724,
    "start_time": "2021-08-15T15:13:50.277Z"
   },
   {
    "duration": 32,
    "start_time": "2021-08-15T15:14:04.004Z"
   },
   {
    "duration": 86,
    "start_time": "2021-08-15T15:14:04.039Z"
   },
   {
    "duration": 53,
    "start_time": "2021-08-15T15:14:04.128Z"
   },
   {
    "duration": 42,
    "start_time": "2021-08-15T15:14:04.183Z"
   },
   {
    "duration": 60,
    "start_time": "2021-08-15T15:14:04.227Z"
   },
   {
    "duration": 45,
    "start_time": "2021-08-15T15:14:04.289Z"
   },
   {
    "duration": 52,
    "start_time": "2022-03-25T10:08:34.602Z"
   },
   {
    "duration": 539,
    "start_time": "2022-03-25T10:09:37.236Z"
   },
   {
    "duration": 476,
    "start_time": "2022-03-25T10:09:42.455Z"
   },
   {
    "duration": 85,
    "start_time": "2022-03-25T10:09:42.933Z"
   },
   {
    "duration": 5,
    "start_time": "2022-03-25T10:09:43.019Z"
   },
   {
    "duration": 37,
    "start_time": "2022-03-25T10:09:43.026Z"
   },
   {
    "duration": 3410,
    "start_time": "2022-03-25T10:09:43.064Z"
   },
   {
    "duration": 0,
    "start_time": "2022-03-25T10:09:46.475Z"
   },
   {
    "duration": 0,
    "start_time": "2022-03-25T10:09:46.477Z"
   },
   {
    "duration": 0,
    "start_time": "2022-03-25T10:09:46.477Z"
   },
   {
    "duration": 0,
    "start_time": "2022-03-25T10:09:46.479Z"
   },
   {
    "duration": 0,
    "start_time": "2022-03-25T10:09:46.480Z"
   },
   {
    "duration": 0,
    "start_time": "2022-03-25T10:09:46.481Z"
   },
   {
    "duration": 8219,
    "start_time": "2022-03-25T10:10:18.073Z"
   },
   {
    "duration": 4045,
    "start_time": "2022-03-25T10:11:51.236Z"
   },
   {
    "duration": 7810,
    "start_time": "2022-03-25T10:12:21.971Z"
   },
   {
    "duration": 7963,
    "start_time": "2022-03-25T10:12:49.574Z"
   },
   {
    "duration": 9,
    "start_time": "2022-03-25T10:14:17.194Z"
   },
   {
    "duration": 83,
    "start_time": "2022-03-25T10:14:50.272Z"
   },
   {
    "duration": 8246,
    "start_time": "2022-03-25T10:14:54.651Z"
   },
   {
    "duration": 468,
    "start_time": "2022-03-25T10:15:10.257Z"
   },
   {
    "duration": 98,
    "start_time": "2022-03-25T10:15:10.727Z"
   },
   {
    "duration": 4,
    "start_time": "2022-03-25T10:15:10.827Z"
   },
   {
    "duration": 45,
    "start_time": "2022-03-25T10:15:10.834Z"
   },
   {
    "duration": 8560,
    "start_time": "2022-03-25T10:15:10.881Z"
   },
   {
    "duration": 15,
    "start_time": "2022-03-25T10:15:19.443Z"
   },
   {
    "duration": 64,
    "start_time": "2022-03-25T10:15:19.461Z"
   },
   {
    "duration": 32,
    "start_time": "2022-03-25T10:15:19.528Z"
   },
   {
    "duration": 52,
    "start_time": "2022-03-25T10:15:19.562Z"
   },
   {
    "duration": 27,
    "start_time": "2022-03-25T10:15:19.616Z"
   },
   {
    "duration": 36,
    "start_time": "2022-03-25T10:15:19.645Z"
   }
  ],
  "celltoolbar": "Raw Cell Format",
  "kernelspec": {
   "display_name": "Python 3 (ipykernel)",
   "language": "python",
   "name": "python3"
  },
  "language_info": {
   "codemirror_mode": {
    "name": "ipython",
    "version": 3
   },
   "file_extension": ".py",
   "mimetype": "text/x-python",
   "name": "python",
   "nbconvert_exporter": "python",
   "pygments_lexer": "ipython3",
   "version": "3.9.5"
  },
  "toc": {
   "base_numbering": 1,
   "nav_menu": {},
   "number_sections": true,
   "sideBar": true,
   "skip_h1_title": true,
   "title_cell": "Table of Contents",
   "title_sidebar": "Contents",
   "toc_cell": false,
   "toc_position": {},
   "toc_section_display": true,
   "toc_window_display": false
  }
 },
 "nbformat": 4,
 "nbformat_minor": 2
}
