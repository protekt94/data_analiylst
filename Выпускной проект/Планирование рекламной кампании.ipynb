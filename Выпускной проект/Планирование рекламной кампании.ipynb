{
 "cells": [
  {
   "cell_type": "markdown",
   "metadata": {
    "toc": true
   },
   "source": [
    "<h1>Содержание<span class=\"tocSkip\"></span></h1>\n",
    "<div class=\"toc\"><ul class=\"toc-item\"><li><span><a href=\"#Изучение-данных-из-файла\" data-toc-modified-id=\"Изучение-данных-из-файла-1\"><span class=\"toc-item-num\">1&nbsp;&nbsp;</span>Изучение данных из файла</a></span><ul class=\"toc-item\"><li><span><a href=\"#Вывел-данные\" data-toc-modified-id=\"Вывел-данные-1.1\"><span class=\"toc-item-num\">1.1&nbsp;&nbsp;</span>Вывел данные</a></span></li></ul></li><li><span><a href=\"#Предобработка-данных\" data-toc-modified-id=\"Предобработка-данных-2\"><span class=\"toc-item-num\">2&nbsp;&nbsp;</span>Предобработка данных</a></span></li><li><span><a href=\"#Исследовательский-анализ-данных\" data-toc-modified-id=\"Исследовательский-анализ-данных-3\"><span class=\"toc-item-num\">3&nbsp;&nbsp;</span>Исследовательский анализ данных</a></span></li><li><span><a href=\"#Портрет-пользователя-каждого-региона\" data-toc-modified-id=\"Портрет-пользователя-каждого-региона-4\"><span class=\"toc-item-num\">4&nbsp;&nbsp;</span>Портрет пользователя каждого региона</a></span></li><li><span><a href=\"#Проверка-гипотез\" data-toc-modified-id=\"Проверка-гипотез-5\"><span class=\"toc-item-num\">5&nbsp;&nbsp;</span>Проверка гипотез</a></span></li><li><span><a href=\"#Вывод\" data-toc-modified-id=\"Вывод-6\"><span class=\"toc-item-num\">6&nbsp;&nbsp;</span>Вывод</a></span></li></ul></div>"
   ]
  },
  {
   "cell_type": "markdown",
   "metadata": {},
   "source": [
    "#  Планирование рекламной кампании\n",
    "Вы работаете в интернет-магазине «Стримчик», который продаёт по всему миру компьютерные игры. Из открытых источников доступны исторические данные о продажах игр, оценки пользователей и экспертов, жанры и платформы (например, Xbox или PlayStation). Вам нужно выявить определяющие успешность игры закономерности. Это позволит сделать ставку на потенциально популярный продукт и спланировать рекламные кампании."
   ]
  },
  {
   "cell_type": "markdown",
   "metadata": {},
   "source": [
    "## Изучение данных из файла"
   ]
  },
  {
   "cell_type": "code",
   "execution_count": 1,
   "metadata": {},
   "outputs": [],
   "source": [
    "import pandas as pd\n",
    "import math as mt\n",
    "import matplotlib.pyplot as plt\n",
    "import numpy as np\n",
    "from scipy import stats as st\n",
    "import seaborn as sns\n",
    "df=pd.read_csv('/datasets/games.csv')"
   ]
  },
  {
   "cell_type": "markdown",
   "metadata": {},
   "source": [
    "### Вывел данные"
   ]
  },
  {
   "cell_type": "code",
   "execution_count": 2,
   "metadata": {},
   "outputs": [
    {
     "data": {
      "text/html": [
       "<div>\n",
       "<style scoped>\n",
       "    .dataframe tbody tr th:only-of-type {\n",
       "        vertical-align: middle;\n",
       "    }\n",
       "\n",
       "    .dataframe tbody tr th {\n",
       "        vertical-align: top;\n",
       "    }\n",
       "\n",
       "    .dataframe thead th {\n",
       "        text-align: right;\n",
       "    }\n",
       "</style>\n",
       "<table border=\"1\" class=\"dataframe\">\n",
       "  <thead>\n",
       "    <tr style=\"text-align: right;\">\n",
       "      <th></th>\n",
       "      <th>Name</th>\n",
       "      <th>Platform</th>\n",
       "      <th>Year_of_Release</th>\n",
       "      <th>Genre</th>\n",
       "      <th>NA_sales</th>\n",
       "      <th>EU_sales</th>\n",
       "      <th>JP_sales</th>\n",
       "      <th>Other_sales</th>\n",
       "      <th>Critic_Score</th>\n",
       "      <th>User_Score</th>\n",
       "      <th>Rating</th>\n",
       "    </tr>\n",
       "  </thead>\n",
       "  <tbody>\n",
       "    <tr>\n",
       "      <td>0</td>\n",
       "      <td>Wii Sports</td>\n",
       "      <td>Wii</td>\n",
       "      <td>2006.0</td>\n",
       "      <td>Sports</td>\n",
       "      <td>41.36</td>\n",
       "      <td>28.96</td>\n",
       "      <td>3.77</td>\n",
       "      <td>8.45</td>\n",
       "      <td>76.0</td>\n",
       "      <td>8</td>\n",
       "      <td>E</td>\n",
       "    </tr>\n",
       "    <tr>\n",
       "      <td>1</td>\n",
       "      <td>Super Mario Bros.</td>\n",
       "      <td>NES</td>\n",
       "      <td>1985.0</td>\n",
       "      <td>Platform</td>\n",
       "      <td>29.08</td>\n",
       "      <td>3.58</td>\n",
       "      <td>6.81</td>\n",
       "      <td>0.77</td>\n",
       "      <td>NaN</td>\n",
       "      <td>NaN</td>\n",
       "      <td>NaN</td>\n",
       "    </tr>\n",
       "    <tr>\n",
       "      <td>2</td>\n",
       "      <td>Mario Kart Wii</td>\n",
       "      <td>Wii</td>\n",
       "      <td>2008.0</td>\n",
       "      <td>Racing</td>\n",
       "      <td>15.68</td>\n",
       "      <td>12.76</td>\n",
       "      <td>3.79</td>\n",
       "      <td>3.29</td>\n",
       "      <td>82.0</td>\n",
       "      <td>8.3</td>\n",
       "      <td>E</td>\n",
       "    </tr>\n",
       "    <tr>\n",
       "      <td>3</td>\n",
       "      <td>Wii Sports Resort</td>\n",
       "      <td>Wii</td>\n",
       "      <td>2009.0</td>\n",
       "      <td>Sports</td>\n",
       "      <td>15.61</td>\n",
       "      <td>10.93</td>\n",
       "      <td>3.28</td>\n",
       "      <td>2.95</td>\n",
       "      <td>80.0</td>\n",
       "      <td>8</td>\n",
       "      <td>E</td>\n",
       "    </tr>\n",
       "    <tr>\n",
       "      <td>4</td>\n",
       "      <td>Pokemon Red/Pokemon Blue</td>\n",
       "      <td>GB</td>\n",
       "      <td>1996.0</td>\n",
       "      <td>Role-Playing</td>\n",
       "      <td>11.27</td>\n",
       "      <td>8.89</td>\n",
       "      <td>10.22</td>\n",
       "      <td>1.00</td>\n",
       "      <td>NaN</td>\n",
       "      <td>NaN</td>\n",
       "      <td>NaN</td>\n",
       "    </tr>\n",
       "    <tr>\n",
       "      <td>...</td>\n",
       "      <td>...</td>\n",
       "      <td>...</td>\n",
       "      <td>...</td>\n",
       "      <td>...</td>\n",
       "      <td>...</td>\n",
       "      <td>...</td>\n",
       "      <td>...</td>\n",
       "      <td>...</td>\n",
       "      <td>...</td>\n",
       "      <td>...</td>\n",
       "      <td>...</td>\n",
       "    </tr>\n",
       "    <tr>\n",
       "      <td>16710</td>\n",
       "      <td>Samurai Warriors: Sanada Maru</td>\n",
       "      <td>PS3</td>\n",
       "      <td>2016.0</td>\n",
       "      <td>Action</td>\n",
       "      <td>0.00</td>\n",
       "      <td>0.00</td>\n",
       "      <td>0.01</td>\n",
       "      <td>0.00</td>\n",
       "      <td>NaN</td>\n",
       "      <td>NaN</td>\n",
       "      <td>NaN</td>\n",
       "    </tr>\n",
       "    <tr>\n",
       "      <td>16711</td>\n",
       "      <td>LMA Manager 2007</td>\n",
       "      <td>X360</td>\n",
       "      <td>2006.0</td>\n",
       "      <td>Sports</td>\n",
       "      <td>0.00</td>\n",
       "      <td>0.01</td>\n",
       "      <td>0.00</td>\n",
       "      <td>0.00</td>\n",
       "      <td>NaN</td>\n",
       "      <td>NaN</td>\n",
       "      <td>NaN</td>\n",
       "    </tr>\n",
       "    <tr>\n",
       "      <td>16712</td>\n",
       "      <td>Haitaka no Psychedelica</td>\n",
       "      <td>PSV</td>\n",
       "      <td>2016.0</td>\n",
       "      <td>Adventure</td>\n",
       "      <td>0.00</td>\n",
       "      <td>0.00</td>\n",
       "      <td>0.01</td>\n",
       "      <td>0.00</td>\n",
       "      <td>NaN</td>\n",
       "      <td>NaN</td>\n",
       "      <td>NaN</td>\n",
       "    </tr>\n",
       "    <tr>\n",
       "      <td>16713</td>\n",
       "      <td>Spirits &amp; Spells</td>\n",
       "      <td>GBA</td>\n",
       "      <td>2003.0</td>\n",
       "      <td>Platform</td>\n",
       "      <td>0.01</td>\n",
       "      <td>0.00</td>\n",
       "      <td>0.00</td>\n",
       "      <td>0.00</td>\n",
       "      <td>NaN</td>\n",
       "      <td>NaN</td>\n",
       "      <td>NaN</td>\n",
       "    </tr>\n",
       "    <tr>\n",
       "      <td>16714</td>\n",
       "      <td>Winning Post 8 2016</td>\n",
       "      <td>PSV</td>\n",
       "      <td>2016.0</td>\n",
       "      <td>Simulation</td>\n",
       "      <td>0.00</td>\n",
       "      <td>0.00</td>\n",
       "      <td>0.01</td>\n",
       "      <td>0.00</td>\n",
       "      <td>NaN</td>\n",
       "      <td>NaN</td>\n",
       "      <td>NaN</td>\n",
       "    </tr>\n",
       "  </tbody>\n",
       "</table>\n",
       "<p>16715 rows × 11 columns</p>\n",
       "</div>"
      ],
      "text/plain": [
       "                                Name Platform  Year_of_Release         Genre  \\\n",
       "0                         Wii Sports      Wii           2006.0        Sports   \n",
       "1                  Super Mario Bros.      NES           1985.0      Platform   \n",
       "2                     Mario Kart Wii      Wii           2008.0        Racing   \n",
       "3                  Wii Sports Resort      Wii           2009.0        Sports   \n",
       "4           Pokemon Red/Pokemon Blue       GB           1996.0  Role-Playing   \n",
       "...                              ...      ...              ...           ...   \n",
       "16710  Samurai Warriors: Sanada Maru      PS3           2016.0        Action   \n",
       "16711               LMA Manager 2007     X360           2006.0        Sports   \n",
       "16712        Haitaka no Psychedelica      PSV           2016.0     Adventure   \n",
       "16713               Spirits & Spells      GBA           2003.0      Platform   \n",
       "16714            Winning Post 8 2016      PSV           2016.0    Simulation   \n",
       "\n",
       "       NA_sales  EU_sales  JP_sales  Other_sales  Critic_Score User_Score  \\\n",
       "0         41.36     28.96      3.77         8.45          76.0          8   \n",
       "1         29.08      3.58      6.81         0.77           NaN        NaN   \n",
       "2         15.68     12.76      3.79         3.29          82.0        8.3   \n",
       "3         15.61     10.93      3.28         2.95          80.0          8   \n",
       "4         11.27      8.89     10.22         1.00           NaN        NaN   \n",
       "...         ...       ...       ...          ...           ...        ...   \n",
       "16710      0.00      0.00      0.01         0.00           NaN        NaN   \n",
       "16711      0.00      0.01      0.00         0.00           NaN        NaN   \n",
       "16712      0.00      0.00      0.01         0.00           NaN        NaN   \n",
       "16713      0.01      0.00      0.00         0.00           NaN        NaN   \n",
       "16714      0.00      0.00      0.01         0.00           NaN        NaN   \n",
       "\n",
       "      Rating  \n",
       "0          E  \n",
       "1        NaN  \n",
       "2          E  \n",
       "3          E  \n",
       "4        NaN  \n",
       "...      ...  \n",
       "16710    NaN  \n",
       "16711    NaN  \n",
       "16712    NaN  \n",
       "16713    NaN  \n",
       "16714    NaN  \n",
       "\n",
       "[16715 rows x 11 columns]"
      ]
     },
     "metadata": {},
     "output_type": "display_data"
    },
    {
     "name": "stdout",
     "output_type": "stream",
     "text": [
      "<class 'pandas.core.frame.DataFrame'>\n",
      "RangeIndex: 16715 entries, 0 to 16714\n",
      "Data columns (total 11 columns):\n",
      "Name               16713 non-null object\n",
      "Platform           16715 non-null object\n",
      "Year_of_Release    16446 non-null float64\n",
      "Genre              16713 non-null object\n",
      "NA_sales           16715 non-null float64\n",
      "EU_sales           16715 non-null float64\n",
      "JP_sales           16715 non-null float64\n",
      "Other_sales        16715 non-null float64\n",
      "Critic_Score       8137 non-null float64\n",
      "User_Score         10014 non-null object\n",
      "Rating             9949 non-null object\n",
      "dtypes: float64(6), object(5)\n",
      "memory usage: 1.4+ MB\n"
     ]
    },
    {
     "data": {
      "text/html": [
       "<div>\n",
       "<style scoped>\n",
       "    .dataframe tbody tr th:only-of-type {\n",
       "        vertical-align: middle;\n",
       "    }\n",
       "\n",
       "    .dataframe tbody tr th {\n",
       "        vertical-align: top;\n",
       "    }\n",
       "\n",
       "    .dataframe thead th {\n",
       "        text-align: right;\n",
       "    }\n",
       "</style>\n",
       "<table border=\"1\" class=\"dataframe\">\n",
       "  <thead>\n",
       "    <tr style=\"text-align: right;\">\n",
       "      <th></th>\n",
       "      <th>Name</th>\n",
       "      <th>Platform</th>\n",
       "      <th>Year_of_Release</th>\n",
       "      <th>Genre</th>\n",
       "      <th>NA_sales</th>\n",
       "      <th>EU_sales</th>\n",
       "      <th>JP_sales</th>\n",
       "      <th>Other_sales</th>\n",
       "      <th>Critic_Score</th>\n",
       "      <th>User_Score</th>\n",
       "      <th>Rating</th>\n",
       "    </tr>\n",
       "  </thead>\n",
       "  <tbody>\n",
       "    <tr>\n",
       "      <td>0</td>\n",
       "      <td>Wii Sports</td>\n",
       "      <td>Wii</td>\n",
       "      <td>2006.0</td>\n",
       "      <td>Sports</td>\n",
       "      <td>41.36</td>\n",
       "      <td>28.96</td>\n",
       "      <td>3.77</td>\n",
       "      <td>8.45</td>\n",
       "      <td>76.0</td>\n",
       "      <td>8</td>\n",
       "      <td>E</td>\n",
       "    </tr>\n",
       "    <tr>\n",
       "      <td>1</td>\n",
       "      <td>Super Mario Bros.</td>\n",
       "      <td>NES</td>\n",
       "      <td>1985.0</td>\n",
       "      <td>Platform</td>\n",
       "      <td>29.08</td>\n",
       "      <td>3.58</td>\n",
       "      <td>6.81</td>\n",
       "      <td>0.77</td>\n",
       "      <td>NaN</td>\n",
       "      <td>NaN</td>\n",
       "      <td>NaN</td>\n",
       "    </tr>\n",
       "    <tr>\n",
       "      <td>2</td>\n",
       "      <td>Mario Kart Wii</td>\n",
       "      <td>Wii</td>\n",
       "      <td>2008.0</td>\n",
       "      <td>Racing</td>\n",
       "      <td>15.68</td>\n",
       "      <td>12.76</td>\n",
       "      <td>3.79</td>\n",
       "      <td>3.29</td>\n",
       "      <td>82.0</td>\n",
       "      <td>8.3</td>\n",
       "      <td>E</td>\n",
       "    </tr>\n",
       "    <tr>\n",
       "      <td>3</td>\n",
       "      <td>Wii Sports Resort</td>\n",
       "      <td>Wii</td>\n",
       "      <td>2009.0</td>\n",
       "      <td>Sports</td>\n",
       "      <td>15.61</td>\n",
       "      <td>10.93</td>\n",
       "      <td>3.28</td>\n",
       "      <td>2.95</td>\n",
       "      <td>80.0</td>\n",
       "      <td>8</td>\n",
       "      <td>E</td>\n",
       "    </tr>\n",
       "    <tr>\n",
       "      <td>4</td>\n",
       "      <td>Pokemon Red/Pokemon Blue</td>\n",
       "      <td>GB</td>\n",
       "      <td>1996.0</td>\n",
       "      <td>Role-Playing</td>\n",
       "      <td>11.27</td>\n",
       "      <td>8.89</td>\n",
       "      <td>10.22</td>\n",
       "      <td>1.00</td>\n",
       "      <td>NaN</td>\n",
       "      <td>NaN</td>\n",
       "      <td>NaN</td>\n",
       "    </tr>\n",
       "  </tbody>\n",
       "</table>\n",
       "</div>"
      ],
      "text/plain": [
       "                       Name Platform  Year_of_Release         Genre  NA_sales  \\\n",
       "0                Wii Sports      Wii           2006.0        Sports     41.36   \n",
       "1         Super Mario Bros.      NES           1985.0      Platform     29.08   \n",
       "2            Mario Kart Wii      Wii           2008.0        Racing     15.68   \n",
       "3         Wii Sports Resort      Wii           2009.0        Sports     15.61   \n",
       "4  Pokemon Red/Pokemon Blue       GB           1996.0  Role-Playing     11.27   \n",
       "\n",
       "   EU_sales  JP_sales  Other_sales  Critic_Score User_Score Rating  \n",
       "0     28.96      3.77         8.45          76.0          8      E  \n",
       "1      3.58      6.81         0.77           NaN        NaN    NaN  \n",
       "2     12.76      3.79         3.29          82.0        8.3      E  \n",
       "3     10.93      3.28         2.95          80.0          8      E  \n",
       "4      8.89     10.22         1.00           NaN        NaN    NaN  "
      ]
     },
     "metadata": {},
     "output_type": "display_data"
    },
    {
     "data": {
      "text/html": [
       "<div>\n",
       "<style scoped>\n",
       "    .dataframe tbody tr th:only-of-type {\n",
       "        vertical-align: middle;\n",
       "    }\n",
       "\n",
       "    .dataframe tbody tr th {\n",
       "        vertical-align: top;\n",
       "    }\n",
       "\n",
       "    .dataframe thead th {\n",
       "        text-align: right;\n",
       "    }\n",
       "</style>\n",
       "<table border=\"1\" class=\"dataframe\">\n",
       "  <thead>\n",
       "    <tr style=\"text-align: right;\">\n",
       "      <th></th>\n",
       "      <th>Name</th>\n",
       "      <th>Platform</th>\n",
       "      <th>Year_of_Release</th>\n",
       "      <th>Genre</th>\n",
       "      <th>NA_sales</th>\n",
       "      <th>EU_sales</th>\n",
       "      <th>JP_sales</th>\n",
       "      <th>Other_sales</th>\n",
       "      <th>Critic_Score</th>\n",
       "      <th>User_Score</th>\n",
       "      <th>Rating</th>\n",
       "    </tr>\n",
       "  </thead>\n",
       "  <tbody>\n",
       "    <tr>\n",
       "      <td>16710</td>\n",
       "      <td>Samurai Warriors: Sanada Maru</td>\n",
       "      <td>PS3</td>\n",
       "      <td>2016.0</td>\n",
       "      <td>Action</td>\n",
       "      <td>0.00</td>\n",
       "      <td>0.00</td>\n",
       "      <td>0.01</td>\n",
       "      <td>0.0</td>\n",
       "      <td>NaN</td>\n",
       "      <td>NaN</td>\n",
       "      <td>NaN</td>\n",
       "    </tr>\n",
       "    <tr>\n",
       "      <td>16711</td>\n",
       "      <td>LMA Manager 2007</td>\n",
       "      <td>X360</td>\n",
       "      <td>2006.0</td>\n",
       "      <td>Sports</td>\n",
       "      <td>0.00</td>\n",
       "      <td>0.01</td>\n",
       "      <td>0.00</td>\n",
       "      <td>0.0</td>\n",
       "      <td>NaN</td>\n",
       "      <td>NaN</td>\n",
       "      <td>NaN</td>\n",
       "    </tr>\n",
       "    <tr>\n",
       "      <td>16712</td>\n",
       "      <td>Haitaka no Psychedelica</td>\n",
       "      <td>PSV</td>\n",
       "      <td>2016.0</td>\n",
       "      <td>Adventure</td>\n",
       "      <td>0.00</td>\n",
       "      <td>0.00</td>\n",
       "      <td>0.01</td>\n",
       "      <td>0.0</td>\n",
       "      <td>NaN</td>\n",
       "      <td>NaN</td>\n",
       "      <td>NaN</td>\n",
       "    </tr>\n",
       "    <tr>\n",
       "      <td>16713</td>\n",
       "      <td>Spirits &amp; Spells</td>\n",
       "      <td>GBA</td>\n",
       "      <td>2003.0</td>\n",
       "      <td>Platform</td>\n",
       "      <td>0.01</td>\n",
       "      <td>0.00</td>\n",
       "      <td>0.00</td>\n",
       "      <td>0.0</td>\n",
       "      <td>NaN</td>\n",
       "      <td>NaN</td>\n",
       "      <td>NaN</td>\n",
       "    </tr>\n",
       "    <tr>\n",
       "      <td>16714</td>\n",
       "      <td>Winning Post 8 2016</td>\n",
       "      <td>PSV</td>\n",
       "      <td>2016.0</td>\n",
       "      <td>Simulation</td>\n",
       "      <td>0.00</td>\n",
       "      <td>0.00</td>\n",
       "      <td>0.01</td>\n",
       "      <td>0.0</td>\n",
       "      <td>NaN</td>\n",
       "      <td>NaN</td>\n",
       "      <td>NaN</td>\n",
       "    </tr>\n",
       "  </tbody>\n",
       "</table>\n",
       "</div>"
      ],
      "text/plain": [
       "                                Name Platform  Year_of_Release       Genre  \\\n",
       "16710  Samurai Warriors: Sanada Maru      PS3           2016.0      Action   \n",
       "16711               LMA Manager 2007     X360           2006.0      Sports   \n",
       "16712        Haitaka no Psychedelica      PSV           2016.0   Adventure   \n",
       "16713               Spirits & Spells      GBA           2003.0    Platform   \n",
       "16714            Winning Post 8 2016      PSV           2016.0  Simulation   \n",
       "\n",
       "       NA_sales  EU_sales  JP_sales  Other_sales  Critic_Score User_Score  \\\n",
       "16710      0.00      0.00      0.01          0.0           NaN        NaN   \n",
       "16711      0.00      0.01      0.00          0.0           NaN        NaN   \n",
       "16712      0.00      0.00      0.01          0.0           NaN        NaN   \n",
       "16713      0.01      0.00      0.00          0.0           NaN        NaN   \n",
       "16714      0.00      0.00      0.01          0.0           NaN        NaN   \n",
       "\n",
       "      Rating  \n",
       "16710    NaN  \n",
       "16711    NaN  \n",
       "16712    NaN  \n",
       "16713    NaN  \n",
       "16714    NaN  "
      ]
     },
     "metadata": {},
     "output_type": "display_data"
    },
    {
     "data": {
      "text/html": [
       "<div>\n",
       "<style scoped>\n",
       "    .dataframe tbody tr th:only-of-type {\n",
       "        vertical-align: middle;\n",
       "    }\n",
       "\n",
       "    .dataframe tbody tr th {\n",
       "        vertical-align: top;\n",
       "    }\n",
       "\n",
       "    .dataframe thead th {\n",
       "        text-align: right;\n",
       "    }\n",
       "</style>\n",
       "<table border=\"1\" class=\"dataframe\">\n",
       "  <thead>\n",
       "    <tr style=\"text-align: right;\">\n",
       "      <th></th>\n",
       "      <th>count</th>\n",
       "      <th>mean</th>\n",
       "      <th>std</th>\n",
       "      <th>min</th>\n",
       "      <th>25%</th>\n",
       "      <th>50%</th>\n",
       "      <th>75%</th>\n",
       "      <th>max</th>\n",
       "    </tr>\n",
       "  </thead>\n",
       "  <tbody>\n",
       "    <tr>\n",
       "      <td>Year_of_Release</td>\n",
       "      <td>16446.0</td>\n",
       "      <td>2006.484616</td>\n",
       "      <td>5.877050</td>\n",
       "      <td>1980.0</td>\n",
       "      <td>2003.0</td>\n",
       "      <td>2007.00</td>\n",
       "      <td>2010.00</td>\n",
       "      <td>2016.00</td>\n",
       "    </tr>\n",
       "    <tr>\n",
       "      <td>NA_sales</td>\n",
       "      <td>16715.0</td>\n",
       "      <td>0.263377</td>\n",
       "      <td>0.813604</td>\n",
       "      <td>0.0</td>\n",
       "      <td>0.0</td>\n",
       "      <td>0.08</td>\n",
       "      <td>0.24</td>\n",
       "      <td>41.36</td>\n",
       "    </tr>\n",
       "    <tr>\n",
       "      <td>EU_sales</td>\n",
       "      <td>16715.0</td>\n",
       "      <td>0.145060</td>\n",
       "      <td>0.503339</td>\n",
       "      <td>0.0</td>\n",
       "      <td>0.0</td>\n",
       "      <td>0.02</td>\n",
       "      <td>0.11</td>\n",
       "      <td>28.96</td>\n",
       "    </tr>\n",
       "    <tr>\n",
       "      <td>JP_sales</td>\n",
       "      <td>16715.0</td>\n",
       "      <td>0.077617</td>\n",
       "      <td>0.308853</td>\n",
       "      <td>0.0</td>\n",
       "      <td>0.0</td>\n",
       "      <td>0.00</td>\n",
       "      <td>0.04</td>\n",
       "      <td>10.22</td>\n",
       "    </tr>\n",
       "    <tr>\n",
       "      <td>Other_sales</td>\n",
       "      <td>16715.0</td>\n",
       "      <td>0.047342</td>\n",
       "      <td>0.186731</td>\n",
       "      <td>0.0</td>\n",
       "      <td>0.0</td>\n",
       "      <td>0.01</td>\n",
       "      <td>0.03</td>\n",
       "      <td>10.57</td>\n",
       "    </tr>\n",
       "    <tr>\n",
       "      <td>Critic_Score</td>\n",
       "      <td>8137.0</td>\n",
       "      <td>68.967679</td>\n",
       "      <td>13.938165</td>\n",
       "      <td>13.0</td>\n",
       "      <td>60.0</td>\n",
       "      <td>71.00</td>\n",
       "      <td>79.00</td>\n",
       "      <td>98.00</td>\n",
       "    </tr>\n",
       "  </tbody>\n",
       "</table>\n",
       "</div>"
      ],
      "text/plain": [
       "                   count         mean        std     min     25%      50%  \\\n",
       "Year_of_Release  16446.0  2006.484616   5.877050  1980.0  2003.0  2007.00   \n",
       "NA_sales         16715.0     0.263377   0.813604     0.0     0.0     0.08   \n",
       "EU_sales         16715.0     0.145060   0.503339     0.0     0.0     0.02   \n",
       "JP_sales         16715.0     0.077617   0.308853     0.0     0.0     0.00   \n",
       "Other_sales      16715.0     0.047342   0.186731     0.0     0.0     0.01   \n",
       "Critic_Score      8137.0    68.967679  13.938165    13.0    60.0    71.00   \n",
       "\n",
       "                     75%      max  \n",
       "Year_of_Release  2010.00  2016.00  \n",
       "NA_sales            0.24    41.36  \n",
       "EU_sales            0.11    28.96  \n",
       "JP_sales            0.04    10.22  \n",
       "Other_sales         0.03    10.57  \n",
       "Critic_Score       79.00    98.00  "
      ]
     },
     "metadata": {},
     "output_type": "display_data"
    }
   ],
   "source": [
    "display(df)\n",
    "df.info()\n",
    "display(df.head())\n",
    "display(df.tail())\n",
    "display(df.describe().T)"
   ]
  },
  {
   "cell_type": "markdown",
   "metadata": {},
   "source": [
    "На первый взгляд видно, что много данных пропущено. Это может быть связано с годом выхода(не успели еще оценить, слишком давно вышли), может быть связано с платформой( не особо популярная)."
   ]
  },
  {
   "cell_type": "markdown",
   "metadata": {},
   "source": [
    "## Предобработка данных"
   ]
  },
  {
   "cell_type": "code",
   "execution_count": 3,
   "metadata": {},
   "outputs": [],
   "source": [
    "df.columns=df.columns.str.lower()"
   ]
  },
  {
   "cell_type": "markdown",
   "metadata": {},
   "source": [
    "Перевел название столбцов в нижний регистр"
   ]
  },
  {
   "cell_type": "code",
   "execution_count": 4,
   "metadata": {},
   "outputs": [],
   "source": [
    "df = df[df['name'].notna()]"
   ]
  },
  {
   "cell_type": "markdown",
   "metadata": {},
   "source": [
    "Удалил строки без название игры"
   ]
  },
  {
   "cell_type": "code",
   "execution_count": 5,
   "metadata": {},
   "outputs": [
    {
     "data": {
      "text/plain": [
       "PS2     2161\n",
       "DS      2151\n",
       "PS3     1331\n",
       "Wii     1320\n",
       "X360    1262\n",
       "PSP     1209\n",
       "PS      1197\n",
       "PC       974\n",
       "XB       824\n",
       "GBA      822\n",
       "GC       556\n",
       "3DS      520\n",
       "PSV      430\n",
       "PS4      392\n",
       "N64      319\n",
       "XOne     247\n",
       "SNES     239\n",
       "SAT      173\n",
       "WiiU     147\n",
       "2600     133\n",
       "Name: platform, dtype: int64"
      ]
     },
     "execution_count": 5,
     "metadata": {},
     "output_type": "execute_result"
    }
   ],
   "source": [
    "df['platform'].value_counts().head(20)\n"
   ]
  },
  {
   "cell_type": "markdown",
   "metadata": {},
   "source": [
    "Количество игр по платформам"
   ]
  },
  {
   "cell_type": "code",
   "execution_count": 6,
   "metadata": {},
   "outputs": [
    {
     "data": {
      "text/plain": [
       "DS      267\n",
       "Wii     176\n",
       "PSP     145\n",
       "PS3      55\n",
       "X360     46\n",
       "PS2      37\n",
       "PC       29\n",
       "Name: platform, dtype: int64"
      ]
     },
     "execution_count": 6,
     "metadata": {},
     "output_type": "execute_result"
    }
   ],
   "source": [
    "df.query('critic_score.isna() and year_of_release ==\"2010\"')['platform'].value_counts()"
   ]
  },
  {
   "cell_type": "code",
   "execution_count": 7,
   "metadata": {
    "scrolled": false
   },
   "outputs": [],
   "source": [
    "df.loc[df['user_score']== 'tbd', 'user_score'] = np.nan\n",
    "df['user_score']=df['user_score'].astype('float64')\n",
    "df = df[df['year_of_release'].notna()]\n",
    "df['year_of_release']=pd.to_datetime(df['year_of_release'], format='%Y')\n",
    "df['rating'] = df['rating'].fillna(df.groupby('name')['rating'].transform('first'))\n"
   ]
  },
  {
   "cell_type": "code",
   "execution_count": 8,
   "metadata": {},
   "outputs": [
    {
     "data": {
      "text/plain": [
       "6259"
      ]
     },
     "execution_count": 8,
     "metadata": {},
     "output_type": "execute_result"
    }
   ],
   "source": [
    "# КОД РЕВЬЮВЕРА\n",
    "\n",
    "df.rating.isnull().sum()"
   ]
  },
  {
   "cell_type": "code",
   "execution_count": 9,
   "metadata": {},
   "outputs": [],
   "source": [
    "df.rating = df.rating.fillna('undefined')"
   ]
  },
  {
   "cell_type": "code",
   "execution_count": 10,
   "metadata": {},
   "outputs": [
    {
     "data": {
      "text/plain": [
       "0"
      ]
     },
     "execution_count": 10,
     "metadata": {},
     "output_type": "execute_result"
    }
   ],
   "source": [
    "df.rating.isnull().sum()"
   ]
  },
  {
   "cell_type": "markdown",
   "metadata": {},
   "source": [
    "Заменил tbd на NaN, для того, чтобы перевести столбец в float. Удалил нули из дат и переделал в формат даты. Заполнил пропуски отзывов критиков по медиане исходя из название игры( если есть повторяющиеся имена игр для разных платформ) "
   ]
  },
  {
   "cell_type": "code",
   "execution_count": 11,
   "metadata": {},
   "outputs": [
    {
     "data": {
      "text/html": [
       "<div>\n",
       "<style scoped>\n",
       "    .dataframe tbody tr th:only-of-type {\n",
       "        vertical-align: middle;\n",
       "    }\n",
       "\n",
       "    .dataframe tbody tr th {\n",
       "        vertical-align: top;\n",
       "    }\n",
       "\n",
       "    .dataframe thead th {\n",
       "        text-align: right;\n",
       "    }\n",
       "</style>\n",
       "<table border=\"1\" class=\"dataframe\">\n",
       "  <thead>\n",
       "    <tr style=\"text-align: right;\">\n",
       "      <th></th>\n",
       "      <th>name</th>\n",
       "      <th>platform</th>\n",
       "      <th>year_of_release</th>\n",
       "      <th>genre</th>\n",
       "      <th>na_sales</th>\n",
       "      <th>eu_sales</th>\n",
       "      <th>jp_sales</th>\n",
       "      <th>other_sales</th>\n",
       "      <th>critic_score</th>\n",
       "      <th>user_score</th>\n",
       "      <th>rating</th>\n",
       "      <th>sum_sales</th>\n",
       "    </tr>\n",
       "  </thead>\n",
       "  <tbody>\n",
       "    <tr>\n",
       "      <td>0</td>\n",
       "      <td>Wii Sports</td>\n",
       "      <td>Wii</td>\n",
       "      <td>2006-01-01</td>\n",
       "      <td>Sports</td>\n",
       "      <td>41.36</td>\n",
       "      <td>28.96</td>\n",
       "      <td>3.77</td>\n",
       "      <td>8.45</td>\n",
       "      <td>76.0</td>\n",
       "      <td>8.0</td>\n",
       "      <td>E</td>\n",
       "      <td>82.54</td>\n",
       "    </tr>\n",
       "    <tr>\n",
       "      <td>1</td>\n",
       "      <td>Super Mario Bros.</td>\n",
       "      <td>NES</td>\n",
       "      <td>1985-01-01</td>\n",
       "      <td>Platform</td>\n",
       "      <td>29.08</td>\n",
       "      <td>3.58</td>\n",
       "      <td>6.81</td>\n",
       "      <td>0.77</td>\n",
       "      <td>NaN</td>\n",
       "      <td>NaN</td>\n",
       "      <td>undefined</td>\n",
       "      <td>40.24</td>\n",
       "    </tr>\n",
       "    <tr>\n",
       "      <td>2</td>\n",
       "      <td>Mario Kart Wii</td>\n",
       "      <td>Wii</td>\n",
       "      <td>2008-01-01</td>\n",
       "      <td>Racing</td>\n",
       "      <td>15.68</td>\n",
       "      <td>12.76</td>\n",
       "      <td>3.79</td>\n",
       "      <td>3.29</td>\n",
       "      <td>82.0</td>\n",
       "      <td>8.3</td>\n",
       "      <td>E</td>\n",
       "      <td>35.52</td>\n",
       "    </tr>\n",
       "    <tr>\n",
       "      <td>3</td>\n",
       "      <td>Wii Sports Resort</td>\n",
       "      <td>Wii</td>\n",
       "      <td>2009-01-01</td>\n",
       "      <td>Sports</td>\n",
       "      <td>15.61</td>\n",
       "      <td>10.93</td>\n",
       "      <td>3.28</td>\n",
       "      <td>2.95</td>\n",
       "      <td>80.0</td>\n",
       "      <td>8.0</td>\n",
       "      <td>E</td>\n",
       "      <td>32.77</td>\n",
       "    </tr>\n",
       "    <tr>\n",
       "      <td>4</td>\n",
       "      <td>Pokemon Red/Pokemon Blue</td>\n",
       "      <td>GB</td>\n",
       "      <td>1996-01-01</td>\n",
       "      <td>Role-Playing</td>\n",
       "      <td>11.27</td>\n",
       "      <td>8.89</td>\n",
       "      <td>10.22</td>\n",
       "      <td>1.00</td>\n",
       "      <td>NaN</td>\n",
       "      <td>NaN</td>\n",
       "      <td>undefined</td>\n",
       "      <td>31.38</td>\n",
       "    </tr>\n",
       "    <tr>\n",
       "      <td>...</td>\n",
       "      <td>...</td>\n",
       "      <td>...</td>\n",
       "      <td>...</td>\n",
       "      <td>...</td>\n",
       "      <td>...</td>\n",
       "      <td>...</td>\n",
       "      <td>...</td>\n",
       "      <td>...</td>\n",
       "      <td>...</td>\n",
       "      <td>...</td>\n",
       "      <td>...</td>\n",
       "      <td>...</td>\n",
       "    </tr>\n",
       "    <tr>\n",
       "      <td>16710</td>\n",
       "      <td>Samurai Warriors: Sanada Maru</td>\n",
       "      <td>PS3</td>\n",
       "      <td>2016-01-01</td>\n",
       "      <td>Action</td>\n",
       "      <td>0.00</td>\n",
       "      <td>0.00</td>\n",
       "      <td>0.01</td>\n",
       "      <td>0.00</td>\n",
       "      <td>NaN</td>\n",
       "      <td>NaN</td>\n",
       "      <td>undefined</td>\n",
       "      <td>0.01</td>\n",
       "    </tr>\n",
       "    <tr>\n",
       "      <td>16711</td>\n",
       "      <td>LMA Manager 2007</td>\n",
       "      <td>X360</td>\n",
       "      <td>2006-01-01</td>\n",
       "      <td>Sports</td>\n",
       "      <td>0.00</td>\n",
       "      <td>0.01</td>\n",
       "      <td>0.00</td>\n",
       "      <td>0.00</td>\n",
       "      <td>NaN</td>\n",
       "      <td>NaN</td>\n",
       "      <td>undefined</td>\n",
       "      <td>0.01</td>\n",
       "    </tr>\n",
       "    <tr>\n",
       "      <td>16712</td>\n",
       "      <td>Haitaka no Psychedelica</td>\n",
       "      <td>PSV</td>\n",
       "      <td>2016-01-01</td>\n",
       "      <td>Adventure</td>\n",
       "      <td>0.00</td>\n",
       "      <td>0.00</td>\n",
       "      <td>0.01</td>\n",
       "      <td>0.00</td>\n",
       "      <td>NaN</td>\n",
       "      <td>NaN</td>\n",
       "      <td>undefined</td>\n",
       "      <td>0.01</td>\n",
       "    </tr>\n",
       "    <tr>\n",
       "      <td>16713</td>\n",
       "      <td>Spirits &amp; Spells</td>\n",
       "      <td>GBA</td>\n",
       "      <td>2003-01-01</td>\n",
       "      <td>Platform</td>\n",
       "      <td>0.01</td>\n",
       "      <td>0.00</td>\n",
       "      <td>0.00</td>\n",
       "      <td>0.00</td>\n",
       "      <td>NaN</td>\n",
       "      <td>NaN</td>\n",
       "      <td>undefined</td>\n",
       "      <td>0.01</td>\n",
       "    </tr>\n",
       "    <tr>\n",
       "      <td>16714</td>\n",
       "      <td>Winning Post 8 2016</td>\n",
       "      <td>PSV</td>\n",
       "      <td>2016-01-01</td>\n",
       "      <td>Simulation</td>\n",
       "      <td>0.00</td>\n",
       "      <td>0.00</td>\n",
       "      <td>0.01</td>\n",
       "      <td>0.00</td>\n",
       "      <td>NaN</td>\n",
       "      <td>NaN</td>\n",
       "      <td>undefined</td>\n",
       "      <td>0.01</td>\n",
       "    </tr>\n",
       "  </tbody>\n",
       "</table>\n",
       "<p>16444 rows × 12 columns</p>\n",
       "</div>"
      ],
      "text/plain": [
       "                                name platform year_of_release         genre  \\\n",
       "0                         Wii Sports      Wii      2006-01-01        Sports   \n",
       "1                  Super Mario Bros.      NES      1985-01-01      Platform   \n",
       "2                     Mario Kart Wii      Wii      2008-01-01        Racing   \n",
       "3                  Wii Sports Resort      Wii      2009-01-01        Sports   \n",
       "4           Pokemon Red/Pokemon Blue       GB      1996-01-01  Role-Playing   \n",
       "...                              ...      ...             ...           ...   \n",
       "16710  Samurai Warriors: Sanada Maru      PS3      2016-01-01        Action   \n",
       "16711               LMA Manager 2007     X360      2006-01-01        Sports   \n",
       "16712        Haitaka no Psychedelica      PSV      2016-01-01     Adventure   \n",
       "16713               Spirits & Spells      GBA      2003-01-01      Platform   \n",
       "16714            Winning Post 8 2016      PSV      2016-01-01    Simulation   \n",
       "\n",
       "       na_sales  eu_sales  jp_sales  other_sales  critic_score  user_score  \\\n",
       "0         41.36     28.96      3.77         8.45          76.0         8.0   \n",
       "1         29.08      3.58      6.81         0.77           NaN         NaN   \n",
       "2         15.68     12.76      3.79         3.29          82.0         8.3   \n",
       "3         15.61     10.93      3.28         2.95          80.0         8.0   \n",
       "4         11.27      8.89     10.22         1.00           NaN         NaN   \n",
       "...         ...       ...       ...          ...           ...         ...   \n",
       "16710      0.00      0.00      0.01         0.00           NaN         NaN   \n",
       "16711      0.00      0.01      0.00         0.00           NaN         NaN   \n",
       "16712      0.00      0.00      0.01         0.00           NaN         NaN   \n",
       "16713      0.01      0.00      0.00         0.00           NaN         NaN   \n",
       "16714      0.00      0.00      0.01         0.00           NaN         NaN   \n",
       "\n",
       "          rating  sum_sales  \n",
       "0              E      82.54  \n",
       "1      undefined      40.24  \n",
       "2              E      35.52  \n",
       "3              E      32.77  \n",
       "4      undefined      31.38  \n",
       "...          ...        ...  \n",
       "16710  undefined       0.01  \n",
       "16711  undefined       0.01  \n",
       "16712  undefined       0.01  \n",
       "16713  undefined       0.01  \n",
       "16714  undefined       0.01  \n",
       "\n",
       "[16444 rows x 12 columns]"
      ]
     },
     "metadata": {},
     "output_type": "display_data"
    }
   ],
   "source": [
    "df['sum_sales']=df['na_sales']+df['eu_sales']+df['jp_sales']+df['other_sales']\n",
    "display(df)\n"
   ]
  },
  {
   "cell_type": "markdown",
   "metadata": {},
   "source": [
    "Добавил столбец с суммой продаж"
   ]
  },
  {
   "cell_type": "markdown",
   "metadata": {},
   "source": [
    "## Исследовательский анализ данных"
   ]
  },
  {
   "cell_type": "code",
   "execution_count": 12,
   "metadata": {},
   "outputs": [
    {
     "data": {
      "text/html": [
       "<div>\n",
       "<style scoped>\n",
       "    .dataframe tbody tr th:only-of-type {\n",
       "        vertical-align: middle;\n",
       "    }\n",
       "\n",
       "    .dataframe tbody tr th {\n",
       "        vertical-align: top;\n",
       "    }\n",
       "\n",
       "    .dataframe thead th {\n",
       "        text-align: right;\n",
       "    }\n",
       "</style>\n",
       "<table border=\"1\" class=\"dataframe\">\n",
       "  <thead>\n",
       "    <tr style=\"text-align: right;\">\n",
       "      <th></th>\n",
       "      <th>name</th>\n",
       "      <th>year_of_release</th>\n",
       "    </tr>\n",
       "    <tr>\n",
       "      <th>platform</th>\n",
       "      <th></th>\n",
       "      <th></th>\n",
       "    </tr>\n",
       "  </thead>\n",
       "  <tbody>\n",
       "    <tr>\n",
       "      <td>PS2</td>\n",
       "      <td>2127</td>\n",
       "      <td>2008-01-01</td>\n",
       "    </tr>\n",
       "    <tr>\n",
       "      <td>DS</td>\n",
       "      <td>2121</td>\n",
       "      <td>2008-01-01</td>\n",
       "    </tr>\n",
       "    <tr>\n",
       "      <td>PS3</td>\n",
       "      <td>1306</td>\n",
       "      <td>2016-01-01</td>\n",
       "    </tr>\n",
       "    <tr>\n",
       "      <td>Wii</td>\n",
       "      <td>1286</td>\n",
       "      <td>2008-01-01</td>\n",
       "    </tr>\n",
       "    <tr>\n",
       "      <td>X360</td>\n",
       "      <td>1232</td>\n",
       "      <td>2006-01-01</td>\n",
       "    </tr>\n",
       "    <tr>\n",
       "      <td>PSP</td>\n",
       "      <td>1193</td>\n",
       "      <td>2007-01-01</td>\n",
       "    </tr>\n",
       "    <tr>\n",
       "      <td>PS</td>\n",
       "      <td>1190</td>\n",
       "      <td>1995-01-01</td>\n",
       "    </tr>\n",
       "    <tr>\n",
       "      <td>PC</td>\n",
       "      <td>957</td>\n",
       "      <td>2009-01-01</td>\n",
       "    </tr>\n",
       "    <tr>\n",
       "      <td>GBA</td>\n",
       "      <td>811</td>\n",
       "      <td>2003-01-01</td>\n",
       "    </tr>\n",
       "    <tr>\n",
       "      <td>XB</td>\n",
       "      <td>803</td>\n",
       "      <td>2002-01-01</td>\n",
       "    </tr>\n",
       "    <tr>\n",
       "      <td>GC</td>\n",
       "      <td>542</td>\n",
       "      <td>2003-01-01</td>\n",
       "    </tr>\n",
       "    <tr>\n",
       "      <td>3DS</td>\n",
       "      <td>512</td>\n",
       "      <td>2011-01-01</td>\n",
       "    </tr>\n",
       "    <tr>\n",
       "      <td>PSV</td>\n",
       "      <td>429</td>\n",
       "      <td>2016-01-01</td>\n",
       "    </tr>\n",
       "    <tr>\n",
       "      <td>PS4</td>\n",
       "      <td>392</td>\n",
       "      <td>2016-01-01</td>\n",
       "    </tr>\n",
       "    <tr>\n",
       "      <td>N64</td>\n",
       "      <td>316</td>\n",
       "      <td>1999-01-01</td>\n",
       "    </tr>\n",
       "    <tr>\n",
       "      <td>XOne</td>\n",
       "      <td>247</td>\n",
       "      <td>2016-01-01</td>\n",
       "    </tr>\n",
       "    <tr>\n",
       "      <td>SNES</td>\n",
       "      <td>239</td>\n",
       "      <td>1993-01-01</td>\n",
       "    </tr>\n",
       "    <tr>\n",
       "      <td>SAT</td>\n",
       "      <td>173</td>\n",
       "      <td>1998-01-01</td>\n",
       "    </tr>\n",
       "    <tr>\n",
       "      <td>WiiU</td>\n",
       "      <td>147</td>\n",
       "      <td>2016-01-01</td>\n",
       "    </tr>\n",
       "    <tr>\n",
       "      <td>2600</td>\n",
       "      <td>116</td>\n",
       "      <td>1987-01-01</td>\n",
       "    </tr>\n",
       "    <tr>\n",
       "      <td>NES</td>\n",
       "      <td>98</td>\n",
       "      <td>1989-01-01</td>\n",
       "    </tr>\n",
       "    <tr>\n",
       "      <td>GB</td>\n",
       "      <td>97</td>\n",
       "      <td>1991-01-01</td>\n",
       "    </tr>\n",
       "    <tr>\n",
       "      <td>DC</td>\n",
       "      <td>52</td>\n",
       "      <td>2007-01-01</td>\n",
       "    </tr>\n",
       "    <tr>\n",
       "      <td>GEN</td>\n",
       "      <td>27</td>\n",
       "      <td>1994-01-01</td>\n",
       "    </tr>\n",
       "    <tr>\n",
       "      <td>NG</td>\n",
       "      <td>12</td>\n",
       "      <td>1995-01-01</td>\n",
       "    </tr>\n",
       "    <tr>\n",
       "      <td>SCD</td>\n",
       "      <td>6</td>\n",
       "      <td>1994-01-01</td>\n",
       "    </tr>\n",
       "    <tr>\n",
       "      <td>WS</td>\n",
       "      <td>6</td>\n",
       "      <td>2001-01-01</td>\n",
       "    </tr>\n",
       "    <tr>\n",
       "      <td>3DO</td>\n",
       "      <td>3</td>\n",
       "      <td>1995-01-01</td>\n",
       "    </tr>\n",
       "    <tr>\n",
       "      <td>TG16</td>\n",
       "      <td>2</td>\n",
       "      <td>1995-01-01</td>\n",
       "    </tr>\n",
       "    <tr>\n",
       "      <td>PCFX</td>\n",
       "      <td>1</td>\n",
       "      <td>1996-01-01</td>\n",
       "    </tr>\n",
       "    <tr>\n",
       "      <td>GG</td>\n",
       "      <td>1</td>\n",
       "      <td>1992-01-01</td>\n",
       "    </tr>\n",
       "  </tbody>\n",
       "</table>\n",
       "</div>"
      ],
      "text/plain": [
       "          name year_of_release\n",
       "platform                      \n",
       "PS2       2127      2008-01-01\n",
       "DS        2121      2008-01-01\n",
       "PS3       1306      2016-01-01\n",
       "Wii       1286      2008-01-01\n",
       "X360      1232      2006-01-01\n",
       "PSP       1193      2007-01-01\n",
       "PS        1190      1995-01-01\n",
       "PC         957      2009-01-01\n",
       "GBA        811      2003-01-01\n",
       "XB         803      2002-01-01\n",
       "GC         542      2003-01-01\n",
       "3DS        512      2011-01-01\n",
       "PSV        429      2016-01-01\n",
       "PS4        392      2016-01-01\n",
       "N64        316      1999-01-01\n",
       "XOne       247      2016-01-01\n",
       "SNES       239      1993-01-01\n",
       "SAT        173      1998-01-01\n",
       "WiiU       147      2016-01-01\n",
       "2600       116      1987-01-01\n",
       "NES         98      1989-01-01\n",
       "GB          97      1991-01-01\n",
       "DC          52      2007-01-01\n",
       "GEN         27      1994-01-01\n",
       "NG          12      1995-01-01\n",
       "SCD          6      1994-01-01\n",
       "WS           6      2001-01-01\n",
       "3DO          3      1995-01-01\n",
       "TG16         2      1995-01-01\n",
       "PCFX         1      1996-01-01\n",
       "GG           1      1992-01-01"
      ]
     },
     "execution_count": 12,
     "metadata": {},
     "output_type": "execute_result"
    }
   ],
   "source": [
    "(\n",
    "    df.pivot_table(index='platform', values=['name','year_of_release'], \n",
    "               aggfunc={'name' :'count','year_of_release':'last'})\n",
    ".sort_values('name',ascending = False)\n",
    ")"
   ]
  },
  {
   "cell_type": "markdown",
   "metadata": {},
   "source": [
    "Количество продаж по годам и платформам"
   ]
  },
  {
   "cell_type": "markdown",
   "metadata": {},
   "source": []
  },
  {
   "cell_type": "code",
   "execution_count": 13,
   "metadata": {},
   "outputs": [
    {
     "data": {
      "text/plain": [
       "name               False\n",
       "platform           False\n",
       "year_of_release    False\n",
       "genre              False\n",
       "na_sales           False\n",
       "eu_sales           False\n",
       "jp_sales           False\n",
       "other_sales        False\n",
       "critic_score        True\n",
       "user_score          True\n",
       "rating             False\n",
       "sum_sales          False\n",
       "dtype: bool"
      ]
     },
     "metadata": {},
     "output_type": "display_data"
    },
    {
     "data": {
      "text/plain": [
       "name                  0\n",
       "platform              0\n",
       "year_of_release       0\n",
       "genre                 0\n",
       "na_sales              0\n",
       "eu_sales              0\n",
       "jp_sales              0\n",
       "other_sales           0\n",
       "critic_score       8461\n",
       "user_score         8981\n",
       "rating                0\n",
       "sum_sales             0\n",
       "dtype: int64"
      ]
     },
     "metadata": {},
     "output_type": "display_data"
    },
    {
     "data": {
      "text/plain": [
       "Series([], Name: name, dtype: int64)"
      ]
     },
     "execution_count": 13,
     "metadata": {},
     "output_type": "execute_result"
    }
   ],
   "source": [
    "display(df.isna().any())\n",
    "display(df.isna().sum())\n",
    "df.query('year_of_release.isna()')['name'].value_counts().head(20)"
   ]
  },
  {
   "cell_type": "code",
   "execution_count": 14,
   "metadata": {
    "scrolled": false
   },
   "outputs": [
    {
     "data": {
      "text/plain": [
       "name               False\n",
       "platform           False\n",
       "year_of_release    False\n",
       "genre              False\n",
       "na_sales           False\n",
       "eu_sales           False\n",
       "jp_sales           False\n",
       "other_sales        False\n",
       "critic_score        True\n",
       "user_score          True\n",
       "rating             False\n",
       "sum_sales          False\n",
       "dtype: bool"
      ]
     },
     "metadata": {},
     "output_type": "display_data"
    },
    {
     "data": {
      "text/plain": [
       "name                  0\n",
       "platform              0\n",
       "year_of_release       0\n",
       "genre                 0\n",
       "na_sales              0\n",
       "eu_sales              0\n",
       "jp_sales              0\n",
       "other_sales           0\n",
       "critic_score       8461\n",
       "user_score         8981\n",
       "rating                0\n",
       "sum_sales             0\n",
       "dtype: int64"
      ]
     },
     "metadata": {},
     "output_type": "display_data"
    }
   ],
   "source": [
    "display(df.isna().any())\n",
    "display(df.isna().sum())"
   ]
  },
  {
   "cell_type": "code",
   "execution_count": 15,
   "metadata": {},
   "outputs": [
    {
     "data": {
      "text/plain": [
       "<matplotlib.axes._subplots.AxesSubplot at 0x7fc63432ff50>"
      ]
     },
     "metadata": {},
     "output_type": "display_data"
    },
    {
     "data": {
      "image/png": "[encoded data removed]",
      "text/plain": [
       "<Figure size 1080x360 with 1 Axes>"
      ]
     },
     "metadata": {
      "needs_background": "light"
     },
     "output_type": "display_data"
    }
   ],
   "source": [
    "display(df.groupby('year_of_release').count().sort_values('year_of_release')['name'].plot(grid=True, figsize=(15,5)))\n",
    "df=df.query('year_of_release>=2000')"
   ]
  },
  {
   "cell_type": "markdown",
   "metadata": {},
   "source": [
    "Изменение продаж по платформам. С 2000 года идет резки спрос на видео игры, соответственно данные раньше 2000 года не важны.\n",
    "Мы видим, что до 94-95 игр выпускалось крайне мало, вероятно индустрия только зарождалась. Скачок произошел с 2001-2002 и длился до пика 2008-2009 года, после чего количество выпускаемых игр пошло на спад, полагаю это может быть связано с разивтием мобильной индустрии, увеличением времени и средств на разработку игр"
   ]
  },
  {
   "cell_type": "code",
   "execution_count": 16,
   "metadata": {},
   "outputs": [
    {
     "data": {
      "text/html": [
       "<div>\n",
       "<style scoped>\n",
       "    .dataframe tbody tr th:only-of-type {\n",
       "        vertical-align: middle;\n",
       "    }\n",
       "\n",
       "    .dataframe tbody tr th {\n",
       "        vertical-align: top;\n",
       "    }\n",
       "\n",
       "    .dataframe thead th {\n",
       "        text-align: right;\n",
       "    }\n",
       "</style>\n",
       "<table border=\"1\" class=\"dataframe\">\n",
       "  <thead>\n",
       "    <tr style=\"text-align: right;\">\n",
       "      <th></th>\n",
       "      <th></th>\n",
       "      <th>sum_sales</th>\n",
       "    </tr>\n",
       "    <tr>\n",
       "      <th>platform</th>\n",
       "      <th>year_of_release</th>\n",
       "      <th></th>\n",
       "    </tr>\n",
       "  </thead>\n",
       "  <tbody>\n",
       "    <tr>\n",
       "      <td rowspan=\"5\" valign=\"top\">3DS</td>\n",
       "      <td>2011-01-01</td>\n",
       "      <td>63.20</td>\n",
       "    </tr>\n",
       "    <tr>\n",
       "      <td>2012-01-01</td>\n",
       "      <td>51.36</td>\n",
       "    </tr>\n",
       "    <tr>\n",
       "      <td>2013-01-01</td>\n",
       "      <td>56.57</td>\n",
       "    </tr>\n",
       "    <tr>\n",
       "      <td>2014-01-01</td>\n",
       "      <td>43.76</td>\n",
       "    </tr>\n",
       "    <tr>\n",
       "      <td>2015-01-01</td>\n",
       "      <td>27.78</td>\n",
       "    </tr>\n",
       "    <tr>\n",
       "      <td>...</td>\n",
       "      <td>...</td>\n",
       "      <td>...</td>\n",
       "    </tr>\n",
       "    <tr>\n",
       "      <td>XB</td>\n",
       "      <td>2008-01-01</td>\n",
       "      <td>0.18</td>\n",
       "    </tr>\n",
       "    <tr>\n",
       "      <td rowspan=\"4\" valign=\"top\">XOne</td>\n",
       "      <td>2013-01-01</td>\n",
       "      <td>18.96</td>\n",
       "    </tr>\n",
       "    <tr>\n",
       "      <td>2014-01-01</td>\n",
       "      <td>54.07</td>\n",
       "    </tr>\n",
       "    <tr>\n",
       "      <td>2015-01-01</td>\n",
       "      <td>60.14</td>\n",
       "    </tr>\n",
       "    <tr>\n",
       "      <td>2016-01-01</td>\n",
       "      <td>26.15</td>\n",
       "    </tr>\n",
       "  </tbody>\n",
       "</table>\n",
       "<p>150 rows × 1 columns</p>\n",
       "</div>"
      ],
      "text/plain": [
       "                          sum_sales\n",
       "platform year_of_release           \n",
       "3DS      2011-01-01           63.20\n",
       "         2012-01-01           51.36\n",
       "         2013-01-01           56.57\n",
       "         2014-01-01           43.76\n",
       "         2015-01-01           27.78\n",
       "...                             ...\n",
       "XB       2008-01-01            0.18\n",
       "XOne     2013-01-01           18.96\n",
       "         2014-01-01           54.07\n",
       "         2015-01-01           60.14\n",
       "         2016-01-01           26.15\n",
       "\n",
       "[150 rows x 1 columns]"
      ]
     },
     "execution_count": 16,
     "metadata": {},
     "output_type": "execute_result"
    }
   ],
   "source": [
    "(\n",
    "    df.pivot_table(index=['platform','year_of_release'], values='sum_sales', aggfunc='sum')\n",
    "     .sort_values(['platform','year_of_release'],ascending=True)\n",
    ")"
   ]
  },
  {
   "cell_type": "markdown",
   "metadata": {},
   "source": [
    "Распределение суммы продаж по платформам и годам"
   ]
  },
  {
   "cell_type": "code",
   "execution_count": 17,
   "metadata": {},
   "outputs": [
    {
     "data": {
      "text/html": [
       "<div>\n",
       "<style scoped>\n",
       "    .dataframe tbody tr th:only-of-type {\n",
       "        vertical-align: middle;\n",
       "    }\n",
       "\n",
       "    .dataframe tbody tr th {\n",
       "        vertical-align: top;\n",
       "    }\n",
       "\n",
       "    .dataframe thead th {\n",
       "        text-align: right;\n",
       "    }\n",
       "</style>\n",
       "<table border=\"1\" class=\"dataframe\">\n",
       "  <thead>\n",
       "    <tr style=\"text-align: right;\">\n",
       "      <th></th>\n",
       "      <th>na_sales</th>\n",
       "      <th>eu_sales</th>\n",
       "      <th>jp_sales</th>\n",
       "      <th>other_sales</th>\n",
       "      <th>critic_score</th>\n",
       "      <th>user_score</th>\n",
       "      <th>sum_sales</th>\n",
       "    </tr>\n",
       "    <tr>\n",
       "      <th>platform</th>\n",
       "      <th></th>\n",
       "      <th></th>\n",
       "      <th></th>\n",
       "      <th></th>\n",
       "      <th></th>\n",
       "      <th></th>\n",
       "      <th></th>\n",
       "    </tr>\n",
       "  </thead>\n",
       "  <tbody>\n",
       "    <tr>\n",
       "      <td>PS2</td>\n",
       "      <td>572.92</td>\n",
       "      <td>332.63</td>\n",
       "      <td>137.54</td>\n",
       "      <td>190.47</td>\n",
       "      <td>87611.0</td>\n",
       "      <td>9302.9</td>\n",
       "      <td>1233.56</td>\n",
       "    </tr>\n",
       "    <tr>\n",
       "      <td>X360</td>\n",
       "      <td>595.74</td>\n",
       "      <td>268.32</td>\n",
       "      <td>12.30</td>\n",
       "      <td>84.88</td>\n",
       "      <td>61405.0</td>\n",
       "      <td>6313.3</td>\n",
       "      <td>961.24</td>\n",
       "    </tr>\n",
       "    <tr>\n",
       "      <td>PS3</td>\n",
       "      <td>390.13</td>\n",
       "      <td>327.21</td>\n",
       "      <td>79.41</td>\n",
       "      <td>134.59</td>\n",
       "      <td>56657.0</td>\n",
       "      <td>5785.5</td>\n",
       "      <td>931.34</td>\n",
       "    </tr>\n",
       "    <tr>\n",
       "      <td>Wii</td>\n",
       "      <td>486.87</td>\n",
       "      <td>258.32</td>\n",
       "      <td>68.28</td>\n",
       "      <td>77.71</td>\n",
       "      <td>35658.0</td>\n",
       "      <td>3692.4</td>\n",
       "      <td>891.18</td>\n",
       "    </tr>\n",
       "    <tr>\n",
       "      <td>DS</td>\n",
       "      <td>380.31</td>\n",
       "      <td>188.41</td>\n",
       "      <td>175.00</td>\n",
       "      <td>59.04</td>\n",
       "      <td>45120.0</td>\n",
       "      <td>3595.6</td>\n",
       "      <td>802.76</td>\n",
       "    </tr>\n",
       "    <tr>\n",
       "      <td>PS4</td>\n",
       "      <td>108.74</td>\n",
       "      <td>141.09</td>\n",
       "      <td>15.96</td>\n",
       "      <td>48.35</td>\n",
       "      <td>18167.0</td>\n",
       "      <td>1734.3</td>\n",
       "      <td>314.14</td>\n",
       "    </tr>\n",
       "    <tr>\n",
       "      <td>GBA</td>\n",
       "      <td>184.12</td>\n",
       "      <td>74.59</td>\n",
       "      <td>46.56</td>\n",
       "      <td>7.61</td>\n",
       "      <td>28944.0</td>\n",
       "      <td>1925.0</td>\n",
       "      <td>312.88</td>\n",
       "    </tr>\n",
       "    <tr>\n",
       "      <td>PSP</td>\n",
       "      <td>107.27</td>\n",
       "      <td>65.62</td>\n",
       "      <td>75.88</td>\n",
       "      <td>40.76</td>\n",
       "      <td>30796.0</td>\n",
       "      <td>3025.0</td>\n",
       "      <td>289.53</td>\n",
       "    </tr>\n",
       "    <tr>\n",
       "      <td>3DS</td>\n",
       "      <td>82.65</td>\n",
       "      <td>61.27</td>\n",
       "      <td>100.62</td>\n",
       "      <td>13.27</td>\n",
       "      <td>11148.0</td>\n",
       "      <td>1171.7</td>\n",
       "      <td>257.81</td>\n",
       "    </tr>\n",
       "    <tr>\n",
       "      <td>XB</td>\n",
       "      <td>182.06</td>\n",
       "      <td>59.65</td>\n",
       "      <td>1.38</td>\n",
       "      <td>8.48</td>\n",
       "      <td>49358.0</td>\n",
       "      <td>4296.8</td>\n",
       "      <td>251.57</td>\n",
       "    </tr>\n",
       "    <tr>\n",
       "      <td>PC</td>\n",
       "      <td>63.93</td>\n",
       "      <td>121.34</td>\n",
       "      <td>0.08</td>\n",
       "      <td>20.37</td>\n",
       "      <td>52051.0</td>\n",
       "      <td>5163.0</td>\n",
       "      <td>205.72</td>\n",
       "    </tr>\n",
       "    <tr>\n",
       "      <td>GC</td>\n",
       "      <td>131.94</td>\n",
       "      <td>38.32</td>\n",
       "      <td>21.34</td>\n",
       "      <td>5.13</td>\n",
       "      <td>30416.0</td>\n",
       "      <td>2718.8</td>\n",
       "      <td>196.73</td>\n",
       "    </tr>\n",
       "    <tr>\n",
       "      <td>XOne</td>\n",
       "      <td>93.12</td>\n",
       "      <td>51.59</td>\n",
       "      <td>0.34</td>\n",
       "      <td>14.27</td>\n",
       "      <td>12392.0</td>\n",
       "      <td>1186.9</td>\n",
       "      <td>159.32</td>\n",
       "    </tr>\n",
       "    <tr>\n",
       "      <td>PS</td>\n",
       "      <td>65.71</td>\n",
       "      <td>46.94</td>\n",
       "      <td>20.10</td>\n",
       "      <td>7.95</td>\n",
       "      <td>7629.0</td>\n",
       "      <td>679.1</td>\n",
       "      <td>140.70</td>\n",
       "    </tr>\n",
       "    <tr>\n",
       "      <td>WiiU</td>\n",
       "      <td>38.10</td>\n",
       "      <td>25.13</td>\n",
       "      <td>13.01</td>\n",
       "      <td>5.95</td>\n",
       "      <td>6366.0</td>\n",
       "      <td>690.4</td>\n",
       "      <td>82.19</td>\n",
       "    </tr>\n",
       "    <tr>\n",
       "      <td>PSV</td>\n",
       "      <td>12.47</td>\n",
       "      <td>13.07</td>\n",
       "      <td>21.84</td>\n",
       "      <td>6.43</td>\n",
       "      <td>8417.0</td>\n",
       "      <td>1041.5</td>\n",
       "      <td>53.81</td>\n",
       "    </tr>\n",
       "    <tr>\n",
       "      <td>N64</td>\n",
       "      <td>21.88</td>\n",
       "      <td>6.13</td>\n",
       "      <td>8.25</td>\n",
       "      <td>1.04</td>\n",
       "      <td>0.0</td>\n",
       "      <td>0.0</td>\n",
       "      <td>37.30</td>\n",
       "    </tr>\n",
       "    <tr>\n",
       "      <td>GB</td>\n",
       "      <td>9.12</td>\n",
       "      <td>5.19</td>\n",
       "      <td>13.01</td>\n",
       "      <td>1.68</td>\n",
       "      <td>0.0</td>\n",
       "      <td>0.0</td>\n",
       "      <td>29.00</td>\n",
       "    </tr>\n",
       "    <tr>\n",
       "      <td>DC</td>\n",
       "      <td>2.53</td>\n",
       "      <td>0.79</td>\n",
       "      <td>3.96</td>\n",
       "      <td>0.13</td>\n",
       "      <td>955.0</td>\n",
       "      <td>92.8</td>\n",
       "      <td>7.41</td>\n",
       "    </tr>\n",
       "    <tr>\n",
       "      <td>WS</td>\n",
       "      <td>0.00</td>\n",
       "      <td>0.00</td>\n",
       "      <td>0.96</td>\n",
       "      <td>0.00</td>\n",
       "      <td>0.0</td>\n",
       "      <td>0.0</td>\n",
       "      <td>0.96</td>\n",
       "    </tr>\n",
       "  </tbody>\n",
       "</table>\n",
       "</div>"
      ],
      "text/plain": [
       "          na_sales  eu_sales  jp_sales  other_sales  critic_score  user_score  \\\n",
       "platform                                                                        \n",
       "PS2         572.92    332.63    137.54       190.47       87611.0      9302.9   \n",
       "X360        595.74    268.32     12.30        84.88       61405.0      6313.3   \n",
       "PS3         390.13    327.21     79.41       134.59       56657.0      5785.5   \n",
       "Wii         486.87    258.32     68.28        77.71       35658.0      3692.4   \n",
       "DS          380.31    188.41    175.00        59.04       45120.0      3595.6   \n",
       "PS4         108.74    141.09     15.96        48.35       18167.0      1734.3   \n",
       "GBA         184.12     74.59     46.56         7.61       28944.0      1925.0   \n",
       "PSP         107.27     65.62     75.88        40.76       30796.0      3025.0   \n",
       "3DS          82.65     61.27    100.62        13.27       11148.0      1171.7   \n",
       "XB          182.06     59.65      1.38         8.48       49358.0      4296.8   \n",
       "PC           63.93    121.34      0.08        20.37       52051.0      5163.0   \n",
       "GC          131.94     38.32     21.34         5.13       30416.0      2718.8   \n",
       "XOne         93.12     51.59      0.34        14.27       12392.0      1186.9   \n",
       "PS           65.71     46.94     20.10         7.95        7629.0       679.1   \n",
       "WiiU         38.10     25.13     13.01         5.95        6366.0       690.4   \n",
       "PSV          12.47     13.07     21.84         6.43        8417.0      1041.5   \n",
       "N64          21.88      6.13      8.25         1.04           0.0         0.0   \n",
       "GB            9.12      5.19     13.01         1.68           0.0         0.0   \n",
       "DC            2.53      0.79      3.96         0.13         955.0        92.8   \n",
       "WS            0.00      0.00      0.96         0.00           0.0         0.0   \n",
       "\n",
       "          sum_sales  \n",
       "platform             \n",
       "PS2         1233.56  \n",
       "X360         961.24  \n",
       "PS3          931.34  \n",
       "Wii          891.18  \n",
       "DS           802.76  \n",
       "PS4          314.14  \n",
       "GBA          312.88  \n",
       "PSP          289.53  \n",
       "3DS          257.81  \n",
       "XB           251.57  \n",
       "PC           205.72  \n",
       "GC           196.73  \n",
       "XOne         159.32  \n",
       "PS           140.70  \n",
       "WiiU          82.19  \n",
       "PSV           53.81  \n",
       "N64           37.30  \n",
       "GB            29.00  \n",
       "DC             7.41  \n",
       "WS             0.96  "
      ]
     },
     "execution_count": 17,
     "metadata": {},
     "output_type": "execute_result"
    }
   ],
   "source": [
    "df_top = df.groupby('platform').sum().sort_values('sum_sales',ascending=False)\n",
    "df_top"
   ]
  },
  {
   "cell_type": "code",
   "execution_count": 18,
   "metadata": {
    "scrolled": true
   },
   "outputs": [
    {
     "data": {
      "text/html": [
       "<div>\n",
       "<style scoped>\n",
       "    .dataframe tbody tr th:only-of-type {\n",
       "        vertical-align: middle;\n",
       "    }\n",
       "\n",
       "    .dataframe tbody tr th {\n",
       "        vertical-align: top;\n",
       "    }\n",
       "\n",
       "    .dataframe thead th {\n",
       "        text-align: right;\n",
       "    }\n",
       "</style>\n",
       "<table border=\"1\" class=\"dataframe\">\n",
       "  <thead>\n",
       "    <tr style=\"text-align: right;\">\n",
       "      <th></th>\n",
       "      <th>sum_sales</th>\n",
       "    </tr>\n",
       "    <tr>\n",
       "      <th>platform</th>\n",
       "      <th></th>\n",
       "    </tr>\n",
       "  </thead>\n",
       "  <tbody>\n",
       "    <tr>\n",
       "      <td>PS2</td>\n",
       "      <td>1233.56</td>\n",
       "    </tr>\n",
       "    <tr>\n",
       "      <td>X360</td>\n",
       "      <td>961.24</td>\n",
       "    </tr>\n",
       "    <tr>\n",
       "      <td>PS3</td>\n",
       "      <td>931.34</td>\n",
       "    </tr>\n",
       "    <tr>\n",
       "      <td>Wii</td>\n",
       "      <td>891.18</td>\n",
       "    </tr>\n",
       "    <tr>\n",
       "      <td>DS</td>\n",
       "      <td>802.76</td>\n",
       "    </tr>\n",
       "  </tbody>\n",
       "</table>\n",
       "</div>"
      ],
      "text/plain": [
       "          sum_sales\n",
       "platform           \n",
       "PS2         1233.56\n",
       "X360         961.24\n",
       "PS3          931.34\n",
       "Wii          891.18\n",
       "DS           802.76"
      ]
     },
     "execution_count": 18,
     "metadata": {},
     "output_type": "execute_result"
    }
   ],
   "source": [
    "(\n",
    "    df.pivot_table(index=['platform'], values='sum_sales', aggfunc='sum')\n",
    "     .sort_values(['sum_sales'],ascending=False).head(5)\n",
    ")\n"
   ]
  },
  {
   "cell_type": "markdown",
   "metadata": {},
   "source": [
    "Платформы с наибольшими продажами начиная с 2000 года"
   ]
  },
  {
   "cell_type": "code",
   "execution_count": 19,
   "metadata": {},
   "outputs": [
    {
     "data": {
      "text/html": [
       "<div>\n",
       "<style scoped>\n",
       "    .dataframe tbody tr th:only-of-type {\n",
       "        vertical-align: middle;\n",
       "    }\n",
       "\n",
       "    .dataframe tbody tr th {\n",
       "        vertical-align: top;\n",
       "    }\n",
       "\n",
       "    .dataframe thead th {\n",
       "        text-align: right;\n",
       "    }\n",
       "</style>\n",
       "<table border=\"1\" class=\"dataframe\">\n",
       "  <thead>\n",
       "    <tr style=\"text-align: right;\">\n",
       "      <th></th>\n",
       "      <th></th>\n",
       "      <th>sum_sales</th>\n",
       "    </tr>\n",
       "    <tr>\n",
       "      <th>platform</th>\n",
       "      <th>year_of_release</th>\n",
       "      <th></th>\n",
       "    </tr>\n",
       "  </thead>\n",
       "  <tbody>\n",
       "    <tr>\n",
       "      <td>PS2</td>\n",
       "      <td>2004-01-01</td>\n",
       "      <td>211.81</td>\n",
       "    </tr>\n",
       "    <tr>\n",
       "      <td>Wii</td>\n",
       "      <td>2009-01-01</td>\n",
       "      <td>206.97</td>\n",
       "    </tr>\n",
       "    <tr>\n",
       "      <td rowspan=\"2\" valign=\"top\">PS2</td>\n",
       "      <td>2002-01-01</td>\n",
       "      <td>205.38</td>\n",
       "    </tr>\n",
       "    <tr>\n",
       "      <td>2003-01-01</td>\n",
       "      <td>184.31</td>\n",
       "    </tr>\n",
       "    <tr>\n",
       "      <td>Wii</td>\n",
       "      <td>2008-01-01</td>\n",
       "      <td>171.32</td>\n",
       "    </tr>\n",
       "    <tr>\n",
       "      <td>X360</td>\n",
       "      <td>2010-01-01</td>\n",
       "      <td>170.03</td>\n",
       "    </tr>\n",
       "    <tr>\n",
       "      <td rowspan=\"2\" valign=\"top\">PS2</td>\n",
       "      <td>2001-01-01</td>\n",
       "      <td>166.43</td>\n",
       "    </tr>\n",
       "    <tr>\n",
       "      <td>2005-01-01</td>\n",
       "      <td>160.66</td>\n",
       "    </tr>\n",
       "    <tr>\n",
       "      <td>PS3</td>\n",
       "      <td>2011-01-01</td>\n",
       "      <td>156.78</td>\n",
       "    </tr>\n",
       "    <tr>\n",
       "      <td>Wii</td>\n",
       "      <td>2007-01-01</td>\n",
       "      <td>152.77</td>\n",
       "    </tr>\n",
       "    <tr>\n",
       "      <td rowspan=\"2\" valign=\"top\">DS</td>\n",
       "      <td>2007-01-01</td>\n",
       "      <td>146.94</td>\n",
       "    </tr>\n",
       "    <tr>\n",
       "      <td>2008-01-01</td>\n",
       "      <td>145.31</td>\n",
       "    </tr>\n",
       "    <tr>\n",
       "      <td>X360</td>\n",
       "      <td>2011-01-01</td>\n",
       "      <td>143.84</td>\n",
       "    </tr>\n",
       "    <tr>\n",
       "      <td>PS3</td>\n",
       "      <td>2010-01-01</td>\n",
       "      <td>142.17</td>\n",
       "    </tr>\n",
       "    <tr>\n",
       "      <td>Wii</td>\n",
       "      <td>2006-01-01</td>\n",
       "      <td>137.15</td>\n",
       "    </tr>\n",
       "    <tr>\n",
       "      <td>X360</td>\n",
       "      <td>2008-01-01</td>\n",
       "      <td>135.26</td>\n",
       "    </tr>\n",
       "    <tr>\n",
       "      <td>PS3</td>\n",
       "      <td>2009-01-01</td>\n",
       "      <td>130.93</td>\n",
       "    </tr>\n",
       "    <tr>\n",
       "      <td>DS</td>\n",
       "      <td>2005-01-01</td>\n",
       "      <td>130.14</td>\n",
       "    </tr>\n",
       "    <tr>\n",
       "      <td>Wii</td>\n",
       "      <td>2010-01-01</td>\n",
       "      <td>127.95</td>\n",
       "    </tr>\n",
       "    <tr>\n",
       "      <td>X360</td>\n",
       "      <td>2009-01-01</td>\n",
       "      <td>120.29</td>\n",
       "    </tr>\n",
       "    <tr>\n",
       "      <td rowspan=\"2\" valign=\"top\">DS</td>\n",
       "      <td>2006-01-01</td>\n",
       "      <td>119.81</td>\n",
       "    </tr>\n",
       "    <tr>\n",
       "      <td>2009-01-01</td>\n",
       "      <td>119.54</td>\n",
       "    </tr>\n",
       "    <tr>\n",
       "      <td>PS4</td>\n",
       "      <td>2015-01-01</td>\n",
       "      <td>118.90</td>\n",
       "    </tr>\n",
       "    <tr>\n",
       "      <td rowspan=\"3\" valign=\"top\">PS3</td>\n",
       "      <td>2008-01-01</td>\n",
       "      <td>118.52</td>\n",
       "    </tr>\n",
       "    <tr>\n",
       "      <td>2013-01-01</td>\n",
       "      <td>113.25</td>\n",
       "    </tr>\n",
       "    <tr>\n",
       "      <td>2012-01-01</td>\n",
       "      <td>107.36</td>\n",
       "    </tr>\n",
       "    <tr>\n",
       "      <td>PS2</td>\n",
       "      <td>2006-01-01</td>\n",
       "      <td>103.42</td>\n",
       "    </tr>\n",
       "    <tr>\n",
       "      <td>PS4</td>\n",
       "      <td>2014-01-01</td>\n",
       "      <td>100.00</td>\n",
       "    </tr>\n",
       "    <tr>\n",
       "      <td>X360</td>\n",
       "      <td>2012-01-01</td>\n",
       "      <td>99.74</td>\n",
       "    </tr>\n",
       "    <tr>\n",
       "      <td>PS</td>\n",
       "      <td>2000-01-01</td>\n",
       "      <td>96.37</td>\n",
       "    </tr>\n",
       "    <tr>\n",
       "      <td rowspan=\"2\" valign=\"top\">X360</td>\n",
       "      <td>2007-01-01</td>\n",
       "      <td>95.41</td>\n",
       "    </tr>\n",
       "    <tr>\n",
       "      <td>2013-01-01</td>\n",
       "      <td>88.58</td>\n",
       "    </tr>\n",
       "    <tr>\n",
       "      <td>DS</td>\n",
       "      <td>2010-01-01</td>\n",
       "      <td>85.02</td>\n",
       "    </tr>\n",
       "    <tr>\n",
       "      <td>GBA</td>\n",
       "      <td>2004-01-01</td>\n",
       "      <td>77.91</td>\n",
       "    </tr>\n",
       "    <tr>\n",
       "      <td>PS2</td>\n",
       "      <td>2007-01-01</td>\n",
       "      <td>75.99</td>\n",
       "    </tr>\n",
       "    <tr>\n",
       "      <td>GBA</td>\n",
       "      <td>2002-01-01</td>\n",
       "      <td>74.16</td>\n",
       "    </tr>\n",
       "    <tr>\n",
       "      <td>PS3</td>\n",
       "      <td>2007-01-01</td>\n",
       "      <td>73.19</td>\n",
       "    </tr>\n",
       "    <tr>\n",
       "      <td>PS4</td>\n",
       "      <td>2016-01-01</td>\n",
       "      <td>69.25</td>\n",
       "    </tr>\n",
       "    <tr>\n",
       "      <td>XB</td>\n",
       "      <td>2004-01-01</td>\n",
       "      <td>65.42</td>\n",
       "    </tr>\n",
       "    <tr>\n",
       "      <td>3DS</td>\n",
       "      <td>2011-01-01</td>\n",
       "      <td>63.20</td>\n",
       "    </tr>\n",
       "    <tr>\n",
       "      <td>GBA</td>\n",
       "      <td>2001-01-01</td>\n",
       "      <td>61.53</td>\n",
       "    </tr>\n",
       "    <tr>\n",
       "      <td>XOne</td>\n",
       "      <td>2015-01-01</td>\n",
       "      <td>60.14</td>\n",
       "    </tr>\n",
       "    <tr>\n",
       "      <td>Wii</td>\n",
       "      <td>2011-01-01</td>\n",
       "      <td>59.65</td>\n",
       "    </tr>\n",
       "    <tr>\n",
       "      <td>GBA</td>\n",
       "      <td>2003-01-01</td>\n",
       "      <td>56.67</td>\n",
       "    </tr>\n",
       "    <tr>\n",
       "      <td>3DS</td>\n",
       "      <td>2013-01-01</td>\n",
       "      <td>56.57</td>\n",
       "    </tr>\n",
       "    <tr>\n",
       "      <td>PSP</td>\n",
       "      <td>2006-01-01</td>\n",
       "      <td>55.32</td>\n",
       "    </tr>\n",
       "    <tr>\n",
       "      <td>XB</td>\n",
       "      <td>2003-01-01</td>\n",
       "      <td>55.04</td>\n",
       "    </tr>\n",
       "    <tr>\n",
       "      <td>XOne</td>\n",
       "      <td>2014-01-01</td>\n",
       "      <td>54.07</td>\n",
       "    </tr>\n",
       "    <tr>\n",
       "      <td>PS2</td>\n",
       "      <td>2008-01-01</td>\n",
       "      <td>53.90</td>\n",
       "    </tr>\n",
       "    <tr>\n",
       "      <td>GC</td>\n",
       "      <td>2002-01-01</td>\n",
       "      <td>51.81</td>\n",
       "    </tr>\n",
       "  </tbody>\n",
       "</table>\n",
       "</div>"
      ],
      "text/plain": [
       "                          sum_sales\n",
       "platform year_of_release           \n",
       "PS2      2004-01-01          211.81\n",
       "Wii      2009-01-01          206.97\n",
       "PS2      2002-01-01          205.38\n",
       "         2003-01-01          184.31\n",
       "Wii      2008-01-01          171.32\n",
       "X360     2010-01-01          170.03\n",
       "PS2      2001-01-01          166.43\n",
       "         2005-01-01          160.66\n",
       "PS3      2011-01-01          156.78\n",
       "Wii      2007-01-01          152.77\n",
       "DS       2007-01-01          146.94\n",
       "         2008-01-01          145.31\n",
       "X360     2011-01-01          143.84\n",
       "PS3      2010-01-01          142.17\n",
       "Wii      2006-01-01          137.15\n",
       "X360     2008-01-01          135.26\n",
       "PS3      2009-01-01          130.93\n",
       "DS       2005-01-01          130.14\n",
       "Wii      2010-01-01          127.95\n",
       "X360     2009-01-01          120.29\n",
       "DS       2006-01-01          119.81\n",
       "         2009-01-01          119.54\n",
       "PS4      2015-01-01          118.90\n",
       "PS3      2008-01-01          118.52\n",
       "         2013-01-01          113.25\n",
       "         2012-01-01          107.36\n",
       "PS2      2006-01-01          103.42\n",
       "PS4      2014-01-01          100.00\n",
       "X360     2012-01-01           99.74\n",
       "PS       2000-01-01           96.37\n",
       "X360     2007-01-01           95.41\n",
       "         2013-01-01           88.58\n",
       "DS       2010-01-01           85.02\n",
       "GBA      2004-01-01           77.91\n",
       "PS2      2007-01-01           75.99\n",
       "GBA      2002-01-01           74.16\n",
       "PS3      2007-01-01           73.19\n",
       "PS4      2016-01-01           69.25\n",
       "XB       2004-01-01           65.42\n",
       "3DS      2011-01-01           63.20\n",
       "GBA      2001-01-01           61.53\n",
       "XOne     2015-01-01           60.14\n",
       "Wii      2011-01-01           59.65\n",
       "GBA      2003-01-01           56.67\n",
       "3DS      2013-01-01           56.57\n",
       "PSP      2006-01-01           55.32\n",
       "XB       2003-01-01           55.04\n",
       "XOne     2014-01-01           54.07\n",
       "PS2      2008-01-01           53.90\n",
       "GC       2002-01-01           51.81"
      ]
     },
     "execution_count": 19,
     "metadata": {},
     "output_type": "execute_result"
    }
   ],
   "source": [
    "(\n",
    "    df.pivot_table(index=['platform','year_of_release'], values='sum_sales', aggfunc='sum')\n",
    "     .sort_values(['sum_sales','platform'],ascending=False).head(50)\n",
    "#     .query('platform in (\"PS2\",\"X360\",\"PS3\",\"Wii\",\"DS\")')\n",
    ")"
   ]
  },
  {
   "cell_type": "code",
   "execution_count": 20,
   "metadata": {},
   "outputs": [
    {
     "data": {
      "image/png": "[encoded data removed]",
      "text/plain": [
       "<Figure size 1080x1080 with 1 Axes>"
      ]
     },
     "metadata": {
      "needs_background": "light"
     },
     "output_type": "display_data"
    }
   ],
   "source": [
    "(\n",
    "    df.pivot_table(index=['platform','year_of_release'], values='sum_sales', aggfunc='sum')\n",
    "     .sort_values(['platform','year_of_release','sum_sales'],ascending=False)\n",
    "       .query('sum_sales > 50 and year_of_release > 2000')\n",
    ").plot(kind='barh',grid=True,figsize=(15,15))\n",
    "plt.show()"
   ]
  },
  {
   "cell_type": "markdown",
   "metadata": {},
   "source": [
    "Жизненный цикл платформы примерно 5 лет."
   ]
  },
  {
   "cell_type": "code",
   "execution_count": 22,
   "metadata": {},
   "outputs": [
    {
     "data": {
      "text/html": [
       "<div>\n",
       "<style scoped>\n",
       "    .dataframe tbody tr th:only-of-type {\n",
       "        vertical-align: middle;\n",
       "    }\n",
       "\n",
       "    .dataframe tbody tr th {\n",
       "        vertical-align: top;\n",
       "    }\n",
       "\n",
       "    .dataframe thead th {\n",
       "        text-align: right;\n",
       "    }\n",
       "</style>\n",
       "<table border=\"1\" class=\"dataframe\">\n",
       "  <thead>\n",
       "    <tr style=\"text-align: right;\">\n",
       "      <th></th>\n",
       "      <th>name</th>\n",
       "      <th>platform</th>\n",
       "      <th>year_of_release</th>\n",
       "      <th>genre</th>\n",
       "      <th>na_sales</th>\n",
       "      <th>eu_sales</th>\n",
       "      <th>jp_sales</th>\n",
       "      <th>other_sales</th>\n",
       "      <th>critic_score</th>\n",
       "      <th>user_score</th>\n",
       "      <th>rating</th>\n",
       "      <th>sum_sales</th>\n",
       "    </tr>\n",
       "  </thead>\n",
       "  <tbody>\n",
       "    <tr>\n",
       "      <td>16</td>\n",
       "      <td>Grand Theft Auto V</td>\n",
       "      <td>PS3</td>\n",
       "      <td>2013-01-01</td>\n",
       "      <td>Action</td>\n",
       "      <td>7.02</td>\n",
       "      <td>9.09</td>\n",
       "      <td>0.98</td>\n",
       "      <td>3.96</td>\n",
       "      <td>97.0</td>\n",
       "      <td>8.2</td>\n",
       "      <td>M</td>\n",
       "      <td>21.05</td>\n",
       "    </tr>\n",
       "    <tr>\n",
       "      <td>23</td>\n",
       "      <td>Grand Theft Auto V</td>\n",
       "      <td>X360</td>\n",
       "      <td>2013-01-01</td>\n",
       "      <td>Action</td>\n",
       "      <td>9.66</td>\n",
       "      <td>5.14</td>\n",
       "      <td>0.06</td>\n",
       "      <td>1.41</td>\n",
       "      <td>97.0</td>\n",
       "      <td>8.1</td>\n",
       "      <td>M</td>\n",
       "      <td>16.27</td>\n",
       "    </tr>\n",
       "    <tr>\n",
       "      <td>31</td>\n",
       "      <td>Call of Duty: Black Ops 3</td>\n",
       "      <td>PS4</td>\n",
       "      <td>2015-01-01</td>\n",
       "      <td>Shooter</td>\n",
       "      <td>6.03</td>\n",
       "      <td>5.86</td>\n",
       "      <td>0.36</td>\n",
       "      <td>2.38</td>\n",
       "      <td>NaN</td>\n",
       "      <td>NaN</td>\n",
       "      <td>undefined</td>\n",
       "      <td>14.63</td>\n",
       "    </tr>\n",
       "    <tr>\n",
       "      <td>33</td>\n",
       "      <td>Pokemon X/Pokemon Y</td>\n",
       "      <td>3DS</td>\n",
       "      <td>2013-01-01</td>\n",
       "      <td>Role-Playing</td>\n",
       "      <td>5.28</td>\n",
       "      <td>4.19</td>\n",
       "      <td>4.35</td>\n",
       "      <td>0.78</td>\n",
       "      <td>NaN</td>\n",
       "      <td>NaN</td>\n",
       "      <td>undefined</td>\n",
       "      <td>14.60</td>\n",
       "    </tr>\n",
       "    <tr>\n",
       "      <td>42</td>\n",
       "      <td>Grand Theft Auto V</td>\n",
       "      <td>PS4</td>\n",
       "      <td>2014-01-01</td>\n",
       "      <td>Action</td>\n",
       "      <td>3.96</td>\n",
       "      <td>6.31</td>\n",
       "      <td>0.38</td>\n",
       "      <td>1.97</td>\n",
       "      <td>97.0</td>\n",
       "      <td>8.3</td>\n",
       "      <td>M</td>\n",
       "      <td>12.62</td>\n",
       "    </tr>\n",
       "    <tr>\n",
       "      <td>...</td>\n",
       "      <td>...</td>\n",
       "      <td>...</td>\n",
       "      <td>...</td>\n",
       "      <td>...</td>\n",
       "      <td>...</td>\n",
       "      <td>...</td>\n",
       "      <td>...</td>\n",
       "      <td>...</td>\n",
       "      <td>...</td>\n",
       "      <td>...</td>\n",
       "      <td>...</td>\n",
       "      <td>...</td>\n",
       "    </tr>\n",
       "    <tr>\n",
       "      <td>16703</td>\n",
       "      <td>Strawberry Nauts</td>\n",
       "      <td>PSV</td>\n",
       "      <td>2016-01-01</td>\n",
       "      <td>Adventure</td>\n",
       "      <td>0.00</td>\n",
       "      <td>0.00</td>\n",
       "      <td>0.01</td>\n",
       "      <td>0.00</td>\n",
       "      <td>NaN</td>\n",
       "      <td>NaN</td>\n",
       "      <td>undefined</td>\n",
       "      <td>0.01</td>\n",
       "    </tr>\n",
       "    <tr>\n",
       "      <td>16707</td>\n",
       "      <td>Aiyoku no Eustia</td>\n",
       "      <td>PSV</td>\n",
       "      <td>2014-01-01</td>\n",
       "      <td>Misc</td>\n",
       "      <td>0.00</td>\n",
       "      <td>0.00</td>\n",
       "      <td>0.01</td>\n",
       "      <td>0.00</td>\n",
       "      <td>NaN</td>\n",
       "      <td>NaN</td>\n",
       "      <td>undefined</td>\n",
       "      <td>0.01</td>\n",
       "    </tr>\n",
       "    <tr>\n",
       "      <td>16710</td>\n",
       "      <td>Samurai Warriors: Sanada Maru</td>\n",
       "      <td>PS3</td>\n",
       "      <td>2016-01-01</td>\n",
       "      <td>Action</td>\n",
       "      <td>0.00</td>\n",
       "      <td>0.00</td>\n",
       "      <td>0.01</td>\n",
       "      <td>0.00</td>\n",
       "      <td>NaN</td>\n",
       "      <td>NaN</td>\n",
       "      <td>undefined</td>\n",
       "      <td>0.01</td>\n",
       "    </tr>\n",
       "    <tr>\n",
       "      <td>16712</td>\n",
       "      <td>Haitaka no Psychedelica</td>\n",
       "      <td>PSV</td>\n",
       "      <td>2016-01-01</td>\n",
       "      <td>Adventure</td>\n",
       "      <td>0.00</td>\n",
       "      <td>0.00</td>\n",
       "      <td>0.01</td>\n",
       "      <td>0.00</td>\n",
       "      <td>NaN</td>\n",
       "      <td>NaN</td>\n",
       "      <td>undefined</td>\n",
       "      <td>0.01</td>\n",
       "    </tr>\n",
       "    <tr>\n",
       "      <td>16714</td>\n",
       "      <td>Winning Post 8 2016</td>\n",
       "      <td>PSV</td>\n",
       "      <td>2016-01-01</td>\n",
       "      <td>Simulation</td>\n",
       "      <td>0.00</td>\n",
       "      <td>0.00</td>\n",
       "      <td>0.01</td>\n",
       "      <td>0.00</td>\n",
       "      <td>NaN</td>\n",
       "      <td>NaN</td>\n",
       "      <td>undefined</td>\n",
       "      <td>0.01</td>\n",
       "    </tr>\n",
       "  </tbody>\n",
       "</table>\n",
       "<p>2233 rows × 12 columns</p>\n",
       "</div>"
      ],
      "text/plain": [
       "                                name platform year_of_release         genre  \\\n",
       "16                Grand Theft Auto V      PS3      2013-01-01        Action   \n",
       "23                Grand Theft Auto V     X360      2013-01-01        Action   \n",
       "31         Call of Duty: Black Ops 3      PS4      2015-01-01       Shooter   \n",
       "33               Pokemon X/Pokemon Y      3DS      2013-01-01  Role-Playing   \n",
       "42                Grand Theft Auto V      PS4      2014-01-01        Action   \n",
       "...                              ...      ...             ...           ...   \n",
       "16703               Strawberry Nauts      PSV      2016-01-01     Adventure   \n",
       "16707               Aiyoku no Eustia      PSV      2014-01-01          Misc   \n",
       "16710  Samurai Warriors: Sanada Maru      PS3      2016-01-01        Action   \n",
       "16712        Haitaka no Psychedelica      PSV      2016-01-01     Adventure   \n",
       "16714            Winning Post 8 2016      PSV      2016-01-01    Simulation   \n",
       "\n",
       "       na_sales  eu_sales  jp_sales  other_sales  critic_score  user_score  \\\n",
       "16         7.02      9.09      0.98         3.96          97.0         8.2   \n",
       "23         9.66      5.14      0.06         1.41          97.0         8.1   \n",
       "31         6.03      5.86      0.36         2.38           NaN         NaN   \n",
       "33         5.28      4.19      4.35         0.78           NaN         NaN   \n",
       "42         3.96      6.31      0.38         1.97          97.0         8.3   \n",
       "...         ...       ...       ...          ...           ...         ...   \n",
       "16703      0.00      0.00      0.01         0.00           NaN         NaN   \n",
       "16707      0.00      0.00      0.01         0.00           NaN         NaN   \n",
       "16710      0.00      0.00      0.01         0.00           NaN         NaN   \n",
       "16712      0.00      0.00      0.01         0.00           NaN         NaN   \n",
       "16714      0.00      0.00      0.01         0.00           NaN         NaN   \n",
       "\n",
       "          rating  sum_sales  \n",
       "16             M      21.05  \n",
       "23             M      16.27  \n",
       "31     undefined      14.63  \n",
       "33     undefined      14.60  \n",
       "42             M      12.62  \n",
       "...          ...        ...  \n",
       "16703  undefined       0.01  \n",
       "16707  undefined       0.01  \n",
       "16710  undefined       0.01  \n",
       "16712  undefined       0.01  \n",
       "16714  undefined       0.01  \n",
       "\n",
       "[2233 rows x 12 columns]"
      ]
     },
     "execution_count": 22,
     "metadata": {},
     "output_type": "execute_result"
    }
   ],
   "source": [
    "df_actual = df.query('year_of_release >= 2013')\n",
    "df_actual"
   ]
  },
  {
   "cell_type": "markdown",
   "metadata": {},
   "source": [
    "df.rating.isnull().sum()"
   ]
  },
  {
   "cell_type": "markdown",
   "metadata": {},
   "source": [
    "Взял выборку начиная с 2010 года"
   ]
  },
  {
   "cell_type": "code",
   "execution_count": 23,
   "metadata": {},
   "outputs": [
    {
     "data": {
      "text/html": [
       "<div>\n",
       "<style scoped>\n",
       "    .dataframe tbody tr th:only-of-type {\n",
       "        vertical-align: middle;\n",
       "    }\n",
       "\n",
       "    .dataframe tbody tr th {\n",
       "        vertical-align: top;\n",
       "    }\n",
       "\n",
       "    .dataframe thead th {\n",
       "        text-align: right;\n",
       "    }\n",
       "</style>\n",
       "<table border=\"1\" class=\"dataframe\">\n",
       "  <thead>\n",
       "    <tr style=\"text-align: right;\">\n",
       "      <th></th>\n",
       "      <th>sum_sales</th>\n",
       "    </tr>\n",
       "    <tr>\n",
       "      <th>platform</th>\n",
       "      <th></th>\n",
       "    </tr>\n",
       "  </thead>\n",
       "  <tbody>\n",
       "    <tr>\n",
       "      <td>PS4</td>\n",
       "      <td>314.14</td>\n",
       "    </tr>\n",
       "    <tr>\n",
       "      <td>PS3</td>\n",
       "      <td>181.43</td>\n",
       "    </tr>\n",
       "    <tr>\n",
       "      <td>XOne</td>\n",
       "      <td>159.32</td>\n",
       "    </tr>\n",
       "    <tr>\n",
       "      <td>3DS</td>\n",
       "      <td>143.25</td>\n",
       "    </tr>\n",
       "    <tr>\n",
       "      <td>X360</td>\n",
       "      <td>136.80</td>\n",
       "    </tr>\n",
       "    <tr>\n",
       "      <td>WiiU</td>\n",
       "      <td>64.63</td>\n",
       "    </tr>\n",
       "    <tr>\n",
       "      <td>PC</td>\n",
       "      <td>39.43</td>\n",
       "    </tr>\n",
       "    <tr>\n",
       "      <td>PSV</td>\n",
       "      <td>32.99</td>\n",
       "    </tr>\n",
       "    <tr>\n",
       "      <td>Wii</td>\n",
       "      <td>13.66</td>\n",
       "    </tr>\n",
       "    <tr>\n",
       "      <td>PSP</td>\n",
       "      <td>3.50</td>\n",
       "    </tr>\n",
       "    <tr>\n",
       "      <td>DS</td>\n",
       "      <td>1.54</td>\n",
       "    </tr>\n",
       "  </tbody>\n",
       "</table>\n",
       "</div>"
      ],
      "text/plain": [
       "          sum_sales\n",
       "platform           \n",
       "PS4          314.14\n",
       "PS3          181.43\n",
       "XOne         159.32\n",
       "3DS          143.25\n",
       "X360         136.80\n",
       "WiiU          64.63\n",
       "PC            39.43\n",
       "PSV           32.99\n",
       "Wii           13.66\n",
       "PSP            3.50\n",
       "DS             1.54"
      ]
     },
     "execution_count": 23,
     "metadata": {},
     "output_type": "execute_result"
    }
   ],
   "source": [
    "(\n",
    "    df_actual.pivot_table(index=['platform'], values='sum_sales', aggfunc='sum')\n",
    "     .sort_values(['sum_sales'],ascending=False)\n",
    "       \n",
    ")"
   ]
  },
  {
   "cell_type": "markdown",
   "metadata": {},
   "source": [
    "По платформам лидирует PS3 X360 PS4 3DS"
   ]
  },
  {
   "cell_type": "code",
   "execution_count": 24,
   "metadata": {},
   "outputs": [
    {
     "data": {
      "text/plain": [
       "<matplotlib.axes._subplots.AxesSubplot at 0x7fc6234a8350>"
      ]
     },
     "execution_count": 24,
     "metadata": {},
     "output_type": "execute_result"
    },
    {
     "data": {
      "image/png": "[encoded data removed]",
      "text/plain": [
       "<Figure size 1080x1080 with 1 Axes>"
      ]
     },
     "metadata": {
      "needs_background": "light"
     },
     "output_type": "display_data"
    }
   ],
   "source": [
    "(\n",
    "    df_actual.pivot_table(index=['platform','year_of_release'], values='sum_sales', aggfunc='sum')\n",
    "     .sort_values(['platform','year_of_release'],ascending=False)\n",
    "       \n",
    ").plot(kind='barh',grid=True,figsize=(15,15))"
   ]
  },
  {
   "cell_type": "markdown",
   "metadata": {},
   "source": [
    "Продажи всех платформ доходят до пика и потом начинают падать к 2016 году"
   ]
  },
  {
   "cell_type": "code",
   "execution_count": 25,
   "metadata": {},
   "outputs": [
    {
     "data": {
      "image/png": "[encoded data removed]",
      "text/plain": [
       "<Figure size 1080x360 with 1 Axes>"
      ]
     },
     "metadata": {
      "needs_background": "light"
     },
     "output_type": "display_data"
    }
   ],
   "source": [
    "plt.figure(figsize=(15,5))\n",
    "sns.boxplot(x='platform', y='sum_sales', data = df_actual)\n",
    "plt.ylim(0,2)\n",
    "plt.show()"
   ]
  },
  {
   "cell_type": "markdown",
   "metadata": {},
   "source": [
    "Из табилцы видно, что суммарные продажи у PS3, но на графике видно, что больше всех продаж по годам у X360"
   ]
  },
  {
   "cell_type": "code",
   "execution_count": 26,
   "metadata": {},
   "outputs": [
    {
     "data": {
      "text/html": [
       "<div>\n",
       "<style scoped>\n",
       "    .dataframe tbody tr th:only-of-type {\n",
       "        vertical-align: middle;\n",
       "    }\n",
       "\n",
       "    .dataframe tbody tr th {\n",
       "        vertical-align: top;\n",
       "    }\n",
       "\n",
       "    .dataframe thead th {\n",
       "        text-align: right;\n",
       "    }\n",
       "</style>\n",
       "<table border=\"1\" class=\"dataframe\">\n",
       "  <thead>\n",
       "    <tr style=\"text-align: right;\">\n",
       "      <th></th>\n",
       "      <th></th>\n",
       "      <th></th>\n",
       "      <th>sum_sales</th>\n",
       "    </tr>\n",
       "    <tr>\n",
       "      <th>platform</th>\n",
       "      <th>critic_score</th>\n",
       "      <th>user_score</th>\n",
       "      <th></th>\n",
       "    </tr>\n",
       "  </thead>\n",
       "  <tbody>\n",
       "    <tr>\n",
       "      <td rowspan=\"11\" valign=\"top\">X360</td>\n",
       "      <td>19.0</td>\n",
       "      <td>1.3</td>\n",
       "      <td>0.06</td>\n",
       "    </tr>\n",
       "    <tr>\n",
       "      <td rowspan=\"2\" valign=\"top\">32.0</td>\n",
       "      <td>3.8</td>\n",
       "      <td>0.08</td>\n",
       "    </tr>\n",
       "    <tr>\n",
       "      <td>4.0</td>\n",
       "      <td>0.62</td>\n",
       "    </tr>\n",
       "    <tr>\n",
       "      <td>33.0</td>\n",
       "      <td>6.2</td>\n",
       "      <td>0.39</td>\n",
       "    </tr>\n",
       "    <tr>\n",
       "      <td>35.0</td>\n",
       "      <td>5.8</td>\n",
       "      <td>0.04</td>\n",
       "    </tr>\n",
       "    <tr>\n",
       "      <td>...</td>\n",
       "      <td>...</td>\n",
       "      <td>...</td>\n",
       "    </tr>\n",
       "    <tr>\n",
       "      <td>87.0</td>\n",
       "      <td>6.6</td>\n",
       "      <td>1.41</td>\n",
       "    </tr>\n",
       "    <tr>\n",
       "      <td>90.0</td>\n",
       "      <td>8.2</td>\n",
       "      <td>0.43</td>\n",
       "    </tr>\n",
       "    <tr>\n",
       "      <td>91.0</td>\n",
       "      <td>7.9</td>\n",
       "      <td>0.74</td>\n",
       "    </tr>\n",
       "    <tr>\n",
       "      <td>93.0</td>\n",
       "      <td>8.5</td>\n",
       "      <td>1.94</td>\n",
       "    </tr>\n",
       "    <tr>\n",
       "      <td>97.0</td>\n",
       "      <td>8.1</td>\n",
       "      <td>16.27</td>\n",
       "    </tr>\n",
       "  </tbody>\n",
       "</table>\n",
       "<p>80 rows × 1 columns</p>\n",
       "</div>"
      ],
      "text/plain": [
       "                                  sum_sales\n",
       "platform critic_score user_score           \n",
       "X360     19.0         1.3              0.06\n",
       "         32.0         3.8              0.08\n",
       "                      4.0              0.62\n",
       "         33.0         6.2              0.39\n",
       "         35.0         5.8              0.04\n",
       "...                                     ...\n",
       "         87.0         6.6              1.41\n",
       "         90.0         8.2              0.43\n",
       "         91.0         7.9              0.74\n",
       "         93.0         8.5              1.94\n",
       "         97.0         8.1             16.27\n",
       "\n",
       "[80 rows x 1 columns]"
      ]
     },
     "execution_count": 26,
     "metadata": {},
     "output_type": "execute_result"
    }
   ],
   "source": [
    "(\n",
    "    df_actual.query('platform==\"X360\"')\n",
    "    .pivot_table(index=['platform','critic_score','user_score'], values='sum_sales', aggfunc='sum')   \n",
    ")"
   ]
  },
  {
   "cell_type": "markdown",
   "metadata": {},
   "source": [
    "Из таблицы видно, что высокий результат критиков влияет на продажи, пользовательный - нет"
   ]
  },
  {
   "cell_type": "code",
   "execution_count": 27,
   "metadata": {},
   "outputs": [
    {
     "data": {
      "image/png": "[encoded data removed]",
      "text/plain": [
       "<Figure size 432x288 with 1 Axes>"
      ]
     },
     "metadata": {
      "needs_background": "light"
     },
     "output_type": "display_data"
    },
    {
     "data": {
      "image/png": "[encoded data removed]",
      "text/plain": [
       "<Figure size 432x288 with 1 Axes>"
      ]
     },
     "metadata": {
      "needs_background": "light"
     },
     "output_type": "display_data"
    }
   ],
   "source": [
    "sns.regplot(x='sum_sales',y='critic_score', data=df_actual.query('platform==\"X360\"'))\n",
    "plt.show()\n",
    "sns.regplot(x='sum_sales',y='user_score', data=df_actual.query('platform==\"X360\"'))\n",
    "plt.show()"
   ]
  },
  {
   "cell_type": "code",
   "execution_count": 28,
   "metadata": {},
   "outputs": [
    {
     "data": {
      "text/plain": [
       "0.3503445460228664"
      ]
     },
     "metadata": {},
     "output_type": "display_data"
    }
   ],
   "source": [
    "display(df_actual.query('platform==\"X360\"')['critic_score'].corr(df_actual.query('platform==\"X360\"')['sum_sales']))"
   ]
  },
  {
   "cell_type": "markdown",
   "metadata": {},
   "source": [
    "Из корреляции видно, что зависимость оценки критиков от продажи слабая"
   ]
  },
  {
   "cell_type": "code",
   "execution_count": 29,
   "metadata": {},
   "outputs": [
    {
     "data": {
      "text/plain": [
       "-0.011742185147181342"
      ]
     },
     "metadata": {},
     "output_type": "display_data"
    }
   ],
   "source": [
    "display(df_actual.query('platform==\"X360\"')['user_score'].corr(df_actual.query('platform==\"X360\"')['sum_sales']))"
   ]
  },
  {
   "cell_type": "markdown",
   "metadata": {},
   "source": [
    "Из корреляции видно, что зависимость оценки пользователей от продажи близка к нулю"
   ]
  },
  {
   "cell_type": "code",
   "execution_count": 30,
   "metadata": {},
   "outputs": [
    {
     "data": {
      "text/plain": [
       "0.3136995151027369"
      ]
     },
     "metadata": {},
     "output_type": "display_data"
    },
    {
     "data": {
      "text/plain": [
       "-0.0026078133545982727"
      ]
     },
     "metadata": {},
     "output_type": "display_data"
    }
   ],
   "source": [
    "display(df_actual['critic_score'].corr(df_actual['sum_sales']))\n",
    "display(df_actual['user_score'].corr(df_actual['sum_sales']))"
   ]
  },
  {
   "cell_type": "code",
   "execution_count": 32,
   "metadata": {},
   "outputs": [
    {
     "data": {
      "text/html": [
       "<div>\n",
       "<style scoped>\n",
       "    .dataframe tbody tr th:only-of-type {\n",
       "        vertical-align: middle;\n",
       "    }\n",
       "\n",
       "    .dataframe tbody tr th {\n",
       "        vertical-align: top;\n",
       "    }\n",
       "\n",
       "    .dataframe thead th {\n",
       "        text-align: right;\n",
       "    }\n",
       "</style>\n",
       "<table border=\"1\" class=\"dataframe\">\n",
       "  <thead>\n",
       "    <tr style=\"text-align: right;\">\n",
       "      <th></th>\n",
       "      <th>name</th>\n",
       "    </tr>\n",
       "    <tr>\n",
       "      <th>genre</th>\n",
       "      <th></th>\n",
       "    </tr>\n",
       "  </thead>\n",
       "  <tbody>\n",
       "    <tr>\n",
       "      <td>Action</td>\n",
       "      <td>766</td>\n",
       "    </tr>\n",
       "    <tr>\n",
       "      <td>Role-Playing</td>\n",
       "      <td>292</td>\n",
       "    </tr>\n",
       "    <tr>\n",
       "      <td>Adventure</td>\n",
       "      <td>245</td>\n",
       "    </tr>\n",
       "    <tr>\n",
       "      <td>Sports</td>\n",
       "      <td>214</td>\n",
       "    </tr>\n",
       "    <tr>\n",
       "      <td>Shooter</td>\n",
       "      <td>187</td>\n",
       "    </tr>\n",
       "    <tr>\n",
       "      <td>Misc</td>\n",
       "      <td>155</td>\n",
       "    </tr>\n",
       "    <tr>\n",
       "      <td>Racing</td>\n",
       "      <td>85</td>\n",
       "    </tr>\n",
       "    <tr>\n",
       "      <td>Fighting</td>\n",
       "      <td>80</td>\n",
       "    </tr>\n",
       "    <tr>\n",
       "      <td>Platform</td>\n",
       "      <td>74</td>\n",
       "    </tr>\n",
       "    <tr>\n",
       "      <td>Simulation</td>\n",
       "      <td>62</td>\n",
       "    </tr>\n",
       "    <tr>\n",
       "      <td>Strategy</td>\n",
       "      <td>56</td>\n",
       "    </tr>\n",
       "    <tr>\n",
       "      <td>Puzzle</td>\n",
       "      <td>17</td>\n",
       "    </tr>\n",
       "  </tbody>\n",
       "</table>\n",
       "</div>"
      ],
      "text/plain": [
       "              name\n",
       "genre             \n",
       "Action         766\n",
       "Role-Playing   292\n",
       "Adventure      245\n",
       "Sports         214\n",
       "Shooter        187\n",
       "Misc           155\n",
       "Racing          85\n",
       "Fighting        80\n",
       "Platform        74\n",
       "Simulation      62\n",
       "Strategy        56\n",
       "Puzzle          17"
      ]
     },
     "execution_count": 32,
     "metadata": {},
     "output_type": "execute_result"
    }
   ],
   "source": [
    "df_actual.pivot_table(index='genre',values='name', aggfunc = 'count').sort_values('name',ascending=False)\n"
   ]
  },
  {
   "cell_type": "markdown",
   "metadata": {},
   "source": [
    "Самыми популярными являются игры жанры \"Action\""
   ]
  },
  {
   "cell_type": "code",
   "execution_count": 33,
   "metadata": {},
   "outputs": [
    {
     "data": {
      "text/html": [
       "<div>\n",
       "<style scoped>\n",
       "    .dataframe tbody tr th:only-of-type {\n",
       "        vertical-align: middle;\n",
       "    }\n",
       "\n",
       "    .dataframe tbody tr th {\n",
       "        vertical-align: top;\n",
       "    }\n",
       "\n",
       "    .dataframe thead th {\n",
       "        text-align: right;\n",
       "    }\n",
       "</style>\n",
       "<table border=\"1\" class=\"dataframe\">\n",
       "  <thead>\n",
       "    <tr style=\"text-align: right;\">\n",
       "      <th></th>\n",
       "      <th>sum_sales</th>\n",
       "    </tr>\n",
       "    <tr>\n",
       "      <th>genre</th>\n",
       "      <th></th>\n",
       "    </tr>\n",
       "  </thead>\n",
       "  <tbody>\n",
       "    <tr>\n",
       "      <td>Action</td>\n",
       "      <td>321.87</td>\n",
       "    </tr>\n",
       "    <tr>\n",
       "      <td>Shooter</td>\n",
       "      <td>232.98</td>\n",
       "    </tr>\n",
       "    <tr>\n",
       "      <td>Sports</td>\n",
       "      <td>150.65</td>\n",
       "    </tr>\n",
       "    <tr>\n",
       "      <td>Role-Playing</td>\n",
       "      <td>145.89</td>\n",
       "    </tr>\n",
       "    <tr>\n",
       "      <td>Misc</td>\n",
       "      <td>62.82</td>\n",
       "    </tr>\n",
       "    <tr>\n",
       "      <td>Platform</td>\n",
       "      <td>42.63</td>\n",
       "    </tr>\n",
       "    <tr>\n",
       "      <td>Racing</td>\n",
       "      <td>39.89</td>\n",
       "    </tr>\n",
       "    <tr>\n",
       "      <td>Fighting</td>\n",
       "      <td>35.31</td>\n",
       "    </tr>\n",
       "    <tr>\n",
       "      <td>Adventure</td>\n",
       "      <td>23.64</td>\n",
       "    </tr>\n",
       "    <tr>\n",
       "      <td>Simulation</td>\n",
       "      <td>21.76</td>\n",
       "    </tr>\n",
       "    <tr>\n",
       "      <td>Strategy</td>\n",
       "      <td>10.08</td>\n",
       "    </tr>\n",
       "    <tr>\n",
       "      <td>Puzzle</td>\n",
       "      <td>3.17</td>\n",
       "    </tr>\n",
       "  </tbody>\n",
       "</table>\n",
       "</div>"
      ],
      "text/plain": [
       "              sum_sales\n",
       "genre                  \n",
       "Action           321.87\n",
       "Shooter          232.98\n",
       "Sports           150.65\n",
       "Role-Playing     145.89\n",
       "Misc              62.82\n",
       "Platform          42.63\n",
       "Racing            39.89\n",
       "Fighting          35.31\n",
       "Adventure         23.64\n",
       "Simulation        21.76\n",
       "Strategy          10.08\n",
       "Puzzle             3.17"
      ]
     },
     "execution_count": 33,
     "metadata": {},
     "output_type": "execute_result"
    }
   ],
   "source": [
    "df_actual.pivot_table(index='genre',values='sum_sales', aggfunc = 'sum').sort_values('sum_sales',ascending=False)"
   ]
  },
  {
   "cell_type": "markdown",
   "metadata": {},
   "source": [
    "\"Action\" так же являются и самыми продаваемыми"
   ]
  },
  {
   "cell_type": "markdown",
   "metadata": {},
   "source": [
    "## Портрет пользователя каждого региона\n"
   ]
  },
  {
   "cell_type": "code",
   "execution_count": 34,
   "metadata": {},
   "outputs": [
    {
     "data": {
      "text/html": [
       "<div>\n",
       "<style scoped>\n",
       "    .dataframe tbody tr th:only-of-type {\n",
       "        vertical-align: middle;\n",
       "    }\n",
       "\n",
       "    .dataframe tbody tr th {\n",
       "        vertical-align: top;\n",
       "    }\n",
       "\n",
       "    .dataframe thead th {\n",
       "        text-align: right;\n",
       "    }\n",
       "</style>\n",
       "<table border=\"1\" class=\"dataframe\">\n",
       "  <thead>\n",
       "    <tr style=\"text-align: right;\">\n",
       "      <th></th>\n",
       "      <th>na_sales</th>\n",
       "    </tr>\n",
       "    <tr>\n",
       "      <th>platform</th>\n",
       "      <th></th>\n",
       "    </tr>\n",
       "  </thead>\n",
       "  <tbody>\n",
       "    <tr>\n",
       "      <td>PS4</td>\n",
       "      <td>108.74</td>\n",
       "    </tr>\n",
       "    <tr>\n",
       "      <td>XOne</td>\n",
       "      <td>93.12</td>\n",
       "    </tr>\n",
       "    <tr>\n",
       "      <td>X360</td>\n",
       "      <td>81.66</td>\n",
       "    </tr>\n",
       "    <tr>\n",
       "      <td>PS3</td>\n",
       "      <td>63.50</td>\n",
       "    </tr>\n",
       "    <tr>\n",
       "      <td>3DS</td>\n",
       "      <td>38.20</td>\n",
       "    </tr>\n",
       "    <tr>\n",
       "      <td>WiiU</td>\n",
       "      <td>29.21</td>\n",
       "    </tr>\n",
       "    <tr>\n",
       "      <td>PC</td>\n",
       "      <td>11.11</td>\n",
       "    </tr>\n",
       "    <tr>\n",
       "      <td>Wii</td>\n",
       "      <td>6.56</td>\n",
       "    </tr>\n",
       "    <tr>\n",
       "      <td>PSV</td>\n",
       "      <td>5.04</td>\n",
       "    </tr>\n",
       "    <tr>\n",
       "      <td>DS</td>\n",
       "      <td>0.57</td>\n",
       "    </tr>\n",
       "    <tr>\n",
       "      <td>PSP</td>\n",
       "      <td>0.00</td>\n",
       "    </tr>\n",
       "  </tbody>\n",
       "</table>\n",
       "</div>"
      ],
      "text/plain": [
       "          na_sales\n",
       "platform          \n",
       "PS4         108.74\n",
       "XOne         93.12\n",
       "X360         81.66\n",
       "PS3          63.50\n",
       "3DS          38.20\n",
       "WiiU         29.21\n",
       "PC           11.11\n",
       "Wii           6.56\n",
       "PSV           5.04\n",
       "DS            0.57\n",
       "PSP           0.00"
      ]
     },
     "metadata": {},
     "output_type": "display_data"
    },
    {
     "data": {
      "text/html": [
       "<div>\n",
       "<style scoped>\n",
       "    .dataframe tbody tr th:only-of-type {\n",
       "        vertical-align: middle;\n",
       "    }\n",
       "\n",
       "    .dataframe tbody tr th {\n",
       "        vertical-align: top;\n",
       "    }\n",
       "\n",
       "    .dataframe thead th {\n",
       "        text-align: right;\n",
       "    }\n",
       "</style>\n",
       "<table border=\"1\" class=\"dataframe\">\n",
       "  <thead>\n",
       "    <tr style=\"text-align: right;\">\n",
       "      <th></th>\n",
       "      <th>na_sales</th>\n",
       "    </tr>\n",
       "    <tr>\n",
       "      <th>genre</th>\n",
       "      <th></th>\n",
       "    </tr>\n",
       "  </thead>\n",
       "  <tbody>\n",
       "    <tr>\n",
       "      <td>Action</td>\n",
       "      <td>126.05</td>\n",
       "    </tr>\n",
       "    <tr>\n",
       "      <td>Shooter</td>\n",
       "      <td>109.74</td>\n",
       "    </tr>\n",
       "    <tr>\n",
       "      <td>Sports</td>\n",
       "      <td>65.27</td>\n",
       "    </tr>\n",
       "    <tr>\n",
       "      <td>Role-Playing</td>\n",
       "      <td>46.40</td>\n",
       "    </tr>\n",
       "    <tr>\n",
       "      <td>Misc</td>\n",
       "      <td>27.49</td>\n",
       "    </tr>\n",
       "    <tr>\n",
       "      <td>Platform</td>\n",
       "      <td>18.14</td>\n",
       "    </tr>\n",
       "    <tr>\n",
       "      <td>Fighting</td>\n",
       "      <td>15.55</td>\n",
       "    </tr>\n",
       "    <tr>\n",
       "      <td>Racing</td>\n",
       "      <td>12.96</td>\n",
       "    </tr>\n",
       "    <tr>\n",
       "      <td>Adventure</td>\n",
       "      <td>7.14</td>\n",
       "    </tr>\n",
       "    <tr>\n",
       "      <td>Simulation</td>\n",
       "      <td>4.86</td>\n",
       "    </tr>\n",
       "    <tr>\n",
       "      <td>Strategy</td>\n",
       "      <td>3.28</td>\n",
       "    </tr>\n",
       "    <tr>\n",
       "      <td>Puzzle</td>\n",
       "      <td>0.83</td>\n",
       "    </tr>\n",
       "  </tbody>\n",
       "</table>\n",
       "</div>"
      ],
      "text/plain": [
       "              na_sales\n",
       "genre                 \n",
       "Action          126.05\n",
       "Shooter         109.74\n",
       "Sports           65.27\n",
       "Role-Playing     46.40\n",
       "Misc             27.49\n",
       "Platform         18.14\n",
       "Fighting         15.55\n",
       "Racing           12.96\n",
       "Adventure         7.14\n",
       "Simulation        4.86\n",
       "Strategy          3.28\n",
       "Puzzle            0.83"
      ]
     },
     "metadata": {},
     "output_type": "display_data"
    },
    {
     "data": {
      "text/html": [
       "<div>\n",
       "<style scoped>\n",
       "    .dataframe tbody tr th:only-of-type {\n",
       "        vertical-align: middle;\n",
       "    }\n",
       "\n",
       "    .dataframe tbody tr th {\n",
       "        vertical-align: top;\n",
       "    }\n",
       "\n",
       "    .dataframe thead th {\n",
       "        text-align: right;\n",
       "    }\n",
       "</style>\n",
       "<table border=\"1\" class=\"dataframe\">\n",
       "  <thead>\n",
       "    <tr style=\"text-align: right;\">\n",
       "      <th></th>\n",
       "      <th>na_sales</th>\n",
       "    </tr>\n",
       "    <tr>\n",
       "      <th>rating</th>\n",
       "      <th></th>\n",
       "    </tr>\n",
       "  </thead>\n",
       "  <tbody>\n",
       "    <tr>\n",
       "      <td>M</td>\n",
       "      <td>172.82</td>\n",
       "    </tr>\n",
       "    <tr>\n",
       "      <td>E</td>\n",
       "      <td>81.71</td>\n",
       "    </tr>\n",
       "    <tr>\n",
       "      <td>undefined</td>\n",
       "      <td>74.82</td>\n",
       "    </tr>\n",
       "    <tr>\n",
       "      <td>E10+</td>\n",
       "      <td>56.38</td>\n",
       "    </tr>\n",
       "    <tr>\n",
       "      <td>T</td>\n",
       "      <td>51.98</td>\n",
       "    </tr>\n",
       "  </tbody>\n",
       "</table>\n",
       "</div>"
      ],
      "text/plain": [
       "           na_sales\n",
       "rating             \n",
       "M            172.82\n",
       "E             81.71\n",
       "undefined     74.82\n",
       "E10+          56.38\n",
       "T             51.98"
      ]
     },
     "metadata": {},
     "output_type": "display_data"
    }
   ],
   "source": [
    "display(df_actual.pivot_table(index='platform', values='na_sales', aggfunc='sum').sort_values('na_sales',ascending=False))\n",
    "display(df_actual.pivot_table(index='genre', values='na_sales', aggfunc='sum').sort_values('na_sales',ascending=False))\n",
    "display(df_actual.pivot_table(index='rating', values='na_sales', aggfunc='sum').sort_values('na_sales',ascending=False))"
   ]
  },
  {
   "cell_type": "markdown",
   "metadata": {},
   "source": [
    "В Северной Америке, самым популярными платформами являются \"X360\",\"PS3\",\"Wii\",\"PS4\",\"XOne\". \n",
    "Самыми прибильными являются жанры \"Action\", \"Shooter\", \"Sports\", \"Misc\", \"Role-Playing\".\n",
    "Рейтинг влияет на продажи игры, самые продаваемые игры с рейтингом \"M\"(17+)"
   ]
  },
  {
   "cell_type": "code",
   "execution_count": 35,
   "metadata": {},
   "outputs": [
    {
     "data": {
      "text/html": [
       "<div>\n",
       "<style scoped>\n",
       "    .dataframe tbody tr th:only-of-type {\n",
       "        vertical-align: middle;\n",
       "    }\n",
       "\n",
       "    .dataframe tbody tr th {\n",
       "        vertical-align: top;\n",
       "    }\n",
       "\n",
       "    .dataframe thead th {\n",
       "        text-align: right;\n",
       "    }\n",
       "</style>\n",
       "<table border=\"1\" class=\"dataframe\">\n",
       "  <thead>\n",
       "    <tr style=\"text-align: right;\">\n",
       "      <th></th>\n",
       "      <th>eu_sales</th>\n",
       "    </tr>\n",
       "    <tr>\n",
       "      <th>platform</th>\n",
       "      <th></th>\n",
       "    </tr>\n",
       "  </thead>\n",
       "  <tbody>\n",
       "    <tr>\n",
       "      <td>PS4</td>\n",
       "      <td>141.09</td>\n",
       "    </tr>\n",
       "    <tr>\n",
       "      <td>PS3</td>\n",
       "      <td>67.81</td>\n",
       "    </tr>\n",
       "    <tr>\n",
       "      <td>XOne</td>\n",
       "      <td>51.59</td>\n",
       "    </tr>\n",
       "    <tr>\n",
       "      <td>X360</td>\n",
       "      <td>42.52</td>\n",
       "    </tr>\n",
       "    <tr>\n",
       "      <td>3DS</td>\n",
       "      <td>30.96</td>\n",
       "    </tr>\n",
       "    <tr>\n",
       "      <td>PC</td>\n",
       "      <td>25.36</td>\n",
       "    </tr>\n",
       "    <tr>\n",
       "      <td>WiiU</td>\n",
       "      <td>19.85</td>\n",
       "    </tr>\n",
       "    <tr>\n",
       "      <td>PSV</td>\n",
       "      <td>6.10</td>\n",
       "    </tr>\n",
       "    <tr>\n",
       "      <td>Wii</td>\n",
       "      <td>5.93</td>\n",
       "    </tr>\n",
       "    <tr>\n",
       "      <td>DS</td>\n",
       "      <td>0.85</td>\n",
       "    </tr>\n",
       "    <tr>\n",
       "      <td>PSP</td>\n",
       "      <td>0.17</td>\n",
       "    </tr>\n",
       "  </tbody>\n",
       "</table>\n",
       "</div>"
      ],
      "text/plain": [
       "          eu_sales\n",
       "platform          \n",
       "PS4         141.09\n",
       "PS3          67.81\n",
       "XOne         51.59\n",
       "X360         42.52\n",
       "3DS          30.96\n",
       "PC           25.36\n",
       "WiiU         19.85\n",
       "PSV           6.10\n",
       "Wii           5.93\n",
       "DS            0.85\n",
       "PSP           0.17"
      ]
     },
     "metadata": {},
     "output_type": "display_data"
    },
    {
     "data": {
      "text/html": [
       "<div>\n",
       "<style scoped>\n",
       "    .dataframe tbody tr th:only-of-type {\n",
       "        vertical-align: middle;\n",
       "    }\n",
       "\n",
       "    .dataframe tbody tr th {\n",
       "        vertical-align: top;\n",
       "    }\n",
       "\n",
       "    .dataframe thead th {\n",
       "        text-align: right;\n",
       "    }\n",
       "</style>\n",
       "<table border=\"1\" class=\"dataframe\">\n",
       "  <thead>\n",
       "    <tr style=\"text-align: right;\">\n",
       "      <th></th>\n",
       "      <th>eu_sales</th>\n",
       "    </tr>\n",
       "    <tr>\n",
       "      <th>genre</th>\n",
       "      <th></th>\n",
       "    </tr>\n",
       "  </thead>\n",
       "  <tbody>\n",
       "    <tr>\n",
       "      <td>Action</td>\n",
       "      <td>118.13</td>\n",
       "    </tr>\n",
       "    <tr>\n",
       "      <td>Shooter</td>\n",
       "      <td>87.86</td>\n",
       "    </tr>\n",
       "    <tr>\n",
       "      <td>Sports</td>\n",
       "      <td>60.52</td>\n",
       "    </tr>\n",
       "    <tr>\n",
       "      <td>Role-Playing</td>\n",
       "      <td>36.97</td>\n",
       "    </tr>\n",
       "    <tr>\n",
       "      <td>Racing</td>\n",
       "      <td>20.19</td>\n",
       "    </tr>\n",
       "    <tr>\n",
       "      <td>Misc</td>\n",
       "      <td>20.04</td>\n",
       "    </tr>\n",
       "    <tr>\n",
       "      <td>Platform</td>\n",
       "      <td>15.58</td>\n",
       "    </tr>\n",
       "    <tr>\n",
       "      <td>Simulation</td>\n",
       "      <td>10.92</td>\n",
       "    </tr>\n",
       "    <tr>\n",
       "      <td>Fighting</td>\n",
       "      <td>8.55</td>\n",
       "    </tr>\n",
       "    <tr>\n",
       "      <td>Adventure</td>\n",
       "      <td>8.25</td>\n",
       "    </tr>\n",
       "    <tr>\n",
       "      <td>Strategy</td>\n",
       "      <td>4.22</td>\n",
       "    </tr>\n",
       "    <tr>\n",
       "      <td>Puzzle</td>\n",
       "      <td>1.00</td>\n",
       "    </tr>\n",
       "  </tbody>\n",
       "</table>\n",
       "</div>"
      ],
      "text/plain": [
       "              eu_sales\n",
       "genre                 \n",
       "Action          118.13\n",
       "Shooter          87.86\n",
       "Sports           60.52\n",
       "Role-Playing     36.97\n",
       "Racing           20.19\n",
       "Misc             20.04\n",
       "Platform         15.58\n",
       "Simulation       10.92\n",
       "Fighting          8.55\n",
       "Adventure         8.25\n",
       "Strategy          4.22\n",
       "Puzzle            1.00"
      ]
     },
     "metadata": {},
     "output_type": "display_data"
    },
    {
     "data": {
      "text/html": [
       "<div>\n",
       "<style scoped>\n",
       "    .dataframe tbody tr th:only-of-type {\n",
       "        vertical-align: middle;\n",
       "    }\n",
       "\n",
       "    .dataframe tbody tr th {\n",
       "        vertical-align: top;\n",
       "    }\n",
       "\n",
       "    .dataframe thead th {\n",
       "        text-align: right;\n",
       "    }\n",
       "</style>\n",
       "<table border=\"1\" class=\"dataframe\">\n",
       "  <thead>\n",
       "    <tr style=\"text-align: right;\">\n",
       "      <th></th>\n",
       "      <th>eu_sales</th>\n",
       "    </tr>\n",
       "    <tr>\n",
       "      <th>rating</th>\n",
       "      <th></th>\n",
       "    </tr>\n",
       "  </thead>\n",
       "  <tbody>\n",
       "    <tr>\n",
       "      <td>M</td>\n",
       "      <td>153.71</td>\n",
       "    </tr>\n",
       "    <tr>\n",
       "      <td>E</td>\n",
       "      <td>85.49</td>\n",
       "    </tr>\n",
       "    <tr>\n",
       "      <td>undefined</td>\n",
       "      <td>64.15</td>\n",
       "    </tr>\n",
       "    <tr>\n",
       "      <td>E10+</td>\n",
       "      <td>45.20</td>\n",
       "    </tr>\n",
       "    <tr>\n",
       "      <td>T</td>\n",
       "      <td>43.68</td>\n",
       "    </tr>\n",
       "  </tbody>\n",
       "</table>\n",
       "</div>"
      ],
      "text/plain": [
       "           eu_sales\n",
       "rating             \n",
       "M            153.71\n",
       "E             85.49\n",
       "undefined     64.15\n",
       "E10+          45.20\n",
       "T             43.68"
      ]
     },
     "metadata": {},
     "output_type": "display_data"
    }
   ],
   "source": [
    "display(df_actual.pivot_table(index='platform', values='eu_sales', aggfunc='sum').sort_values('eu_sales',ascending=False))\n",
    "display(df_actual.pivot_table(index='genre', values='eu_sales', aggfunc='sum').sort_values('eu_sales',ascending=False))\n",
    "display(df_actual.pivot_table(index='rating', values='eu_sales', aggfunc='sum').sort_values('eu_sales',ascending=False))"
   ]
  },
  {
   "cell_type": "markdown",
   "metadata": {},
   "source": [
    "В Европе, самым популярными платформами являются \"PS3\",\"X360\",\"PS4\",\"PC\",\"Wii\". \n",
    "Самыми прибильными являются жанры \"Action\", \"Shooter\", \"Sports\", \"Role-Playing\", \"Misc\".\n",
    "Рейтинг влияет на продажи игры, самые продаваемые игры с рейтингом \"M\"(17+)"
   ]
  },
  {
   "cell_type": "code",
   "execution_count": 36,
   "metadata": {},
   "outputs": [
    {
     "data": {
      "text/html": [
       "<div>\n",
       "<style scoped>\n",
       "    .dataframe tbody tr th:only-of-type {\n",
       "        vertical-align: middle;\n",
       "    }\n",
       "\n",
       "    .dataframe tbody tr th {\n",
       "        vertical-align: top;\n",
       "    }\n",
       "\n",
       "    .dataframe thead th {\n",
       "        text-align: right;\n",
       "    }\n",
       "</style>\n",
       "<table border=\"1\" class=\"dataframe\">\n",
       "  <thead>\n",
       "    <tr style=\"text-align: right;\">\n",
       "      <th></th>\n",
       "      <th>jp_sales</th>\n",
       "    </tr>\n",
       "    <tr>\n",
       "      <th>platform</th>\n",
       "      <th></th>\n",
       "    </tr>\n",
       "  </thead>\n",
       "  <tbody>\n",
       "    <tr>\n",
       "      <td>3DS</td>\n",
       "      <td>67.81</td>\n",
       "    </tr>\n",
       "    <tr>\n",
       "      <td>PS3</td>\n",
       "      <td>23.35</td>\n",
       "    </tr>\n",
       "    <tr>\n",
       "      <td>PSV</td>\n",
       "      <td>18.59</td>\n",
       "    </tr>\n",
       "    <tr>\n",
       "      <td>PS4</td>\n",
       "      <td>15.96</td>\n",
       "    </tr>\n",
       "    <tr>\n",
       "      <td>WiiU</td>\n",
       "      <td>10.88</td>\n",
       "    </tr>\n",
       "    <tr>\n",
       "      <td>PSP</td>\n",
       "      <td>3.29</td>\n",
       "    </tr>\n",
       "    <tr>\n",
       "      <td>X360</td>\n",
       "      <td>0.51</td>\n",
       "    </tr>\n",
       "    <tr>\n",
       "      <td>XOne</td>\n",
       "      <td>0.34</td>\n",
       "    </tr>\n",
       "    <tr>\n",
       "      <td>Wii</td>\n",
       "      <td>0.05</td>\n",
       "    </tr>\n",
       "    <tr>\n",
       "      <td>DS</td>\n",
       "      <td>0.00</td>\n",
       "    </tr>\n",
       "    <tr>\n",
       "      <td>PC</td>\n",
       "      <td>0.00</td>\n",
       "    </tr>\n",
       "  </tbody>\n",
       "</table>\n",
       "</div>"
      ],
      "text/plain": [
       "          jp_sales\n",
       "platform          \n",
       "3DS          67.81\n",
       "PS3          23.35\n",
       "PSV          18.59\n",
       "PS4          15.96\n",
       "WiiU         10.88\n",
       "PSP           3.29\n",
       "X360          0.51\n",
       "XOne          0.34\n",
       "Wii           0.05\n",
       "DS            0.00\n",
       "PC            0.00"
      ]
     },
     "metadata": {},
     "output_type": "display_data"
    },
    {
     "data": {
      "text/html": [
       "<div>\n",
       "<style scoped>\n",
       "    .dataframe tbody tr th:only-of-type {\n",
       "        vertical-align: middle;\n",
       "    }\n",
       "\n",
       "    .dataframe tbody tr th {\n",
       "        vertical-align: top;\n",
       "    }\n",
       "\n",
       "    .dataframe thead th {\n",
       "        text-align: right;\n",
       "    }\n",
       "</style>\n",
       "<table border=\"1\" class=\"dataframe\">\n",
       "  <thead>\n",
       "    <tr style=\"text-align: right;\">\n",
       "      <th></th>\n",
       "      <th>jp_sales</th>\n",
       "    </tr>\n",
       "    <tr>\n",
       "      <th>genre</th>\n",
       "      <th></th>\n",
       "    </tr>\n",
       "  </thead>\n",
       "  <tbody>\n",
       "    <tr>\n",
       "      <td>Role-Playing</td>\n",
       "      <td>51.04</td>\n",
       "    </tr>\n",
       "    <tr>\n",
       "      <td>Action</td>\n",
       "      <td>40.49</td>\n",
       "    </tr>\n",
       "    <tr>\n",
       "      <td>Misc</td>\n",
       "      <td>9.20</td>\n",
       "    </tr>\n",
       "    <tr>\n",
       "      <td>Fighting</td>\n",
       "      <td>7.65</td>\n",
       "    </tr>\n",
       "    <tr>\n",
       "      <td>Shooter</td>\n",
       "      <td>6.61</td>\n",
       "    </tr>\n",
       "    <tr>\n",
       "      <td>Adventure</td>\n",
       "      <td>5.82</td>\n",
       "    </tr>\n",
       "    <tr>\n",
       "      <td>Sports</td>\n",
       "      <td>5.41</td>\n",
       "    </tr>\n",
       "    <tr>\n",
       "      <td>Platform</td>\n",
       "      <td>4.79</td>\n",
       "    </tr>\n",
       "    <tr>\n",
       "      <td>Simulation</td>\n",
       "      <td>4.52</td>\n",
       "    </tr>\n",
       "    <tr>\n",
       "      <td>Racing</td>\n",
       "      <td>2.30</td>\n",
       "    </tr>\n",
       "    <tr>\n",
       "      <td>Strategy</td>\n",
       "      <td>1.77</td>\n",
       "    </tr>\n",
       "    <tr>\n",
       "      <td>Puzzle</td>\n",
       "      <td>1.18</td>\n",
       "    </tr>\n",
       "  </tbody>\n",
       "</table>\n",
       "</div>"
      ],
      "text/plain": [
       "              jp_sales\n",
       "genre                 \n",
       "Role-Playing     51.04\n",
       "Action           40.49\n",
       "Misc              9.20\n",
       "Fighting          7.65\n",
       "Shooter           6.61\n",
       "Adventure         5.82\n",
       "Sports            5.41\n",
       "Platform          4.79\n",
       "Simulation        4.52\n",
       "Racing            2.30\n",
       "Strategy          1.77\n",
       "Puzzle            1.18"
      ]
     },
     "metadata": {},
     "output_type": "display_data"
    },
    {
     "data": {
      "text/html": [
       "<div>\n",
       "<style scoped>\n",
       "    .dataframe tbody tr th:only-of-type {\n",
       "        vertical-align: middle;\n",
       "    }\n",
       "\n",
       "    .dataframe tbody tr th {\n",
       "        vertical-align: top;\n",
       "    }\n",
       "\n",
       "    .dataframe thead th {\n",
       "        text-align: right;\n",
       "    }\n",
       "</style>\n",
       "<table border=\"1\" class=\"dataframe\">\n",
       "  <thead>\n",
       "    <tr style=\"text-align: right;\">\n",
       "      <th></th>\n",
       "      <th>jp_sales</th>\n",
       "    </tr>\n",
       "    <tr>\n",
       "      <th>rating</th>\n",
       "      <th></th>\n",
       "    </tr>\n",
       "  </thead>\n",
       "  <tbody>\n",
       "    <tr>\n",
       "      <td>undefined</td>\n",
       "      <td>80.97</td>\n",
       "    </tr>\n",
       "    <tr>\n",
       "      <td>T</td>\n",
       "      <td>22.84</td>\n",
       "    </tr>\n",
       "    <tr>\n",
       "      <td>E</td>\n",
       "      <td>15.98</td>\n",
       "    </tr>\n",
       "    <tr>\n",
       "      <td>M</td>\n",
       "      <td>14.72</td>\n",
       "    </tr>\n",
       "    <tr>\n",
       "      <td>E10+</td>\n",
       "      <td>6.27</td>\n",
       "    </tr>\n",
       "  </tbody>\n",
       "</table>\n",
       "</div>"
      ],
      "text/plain": [
       "           jp_sales\n",
       "rating             \n",
       "undefined     80.97\n",
       "T             22.84\n",
       "E             15.98\n",
       "M             14.72\n",
       "E10+           6.27"
      ]
     },
     "metadata": {},
     "output_type": "display_data"
    }
   ],
   "source": [
    "display(df_actual.pivot_table(index='platform', values='jp_sales', aggfunc='sum').sort_values('jp_sales',ascending=False))\n",
    "display(df_actual.pivot_table(index='genre', values='jp_sales', aggfunc='sum').sort_values('jp_sales',ascending=False))\n",
    "display(df_actual.pivot_table(index='rating', values='jp_sales', aggfunc='sum').sort_values('jp_sales',ascending=False))"
   ]
  },
  {
   "cell_type": "markdown",
   "metadata": {},
   "source": [
    "В Японии, самым популярными платформами являются \"3DS\",\"PS3\",\"PSP\",\"DS\",\"PSV\". \n",
    "Самыми прибильными являются жанры \"Role-Playing\", \"Action\", \"Misc\", \"Platform\", \"Adventure\".\n",
    "Рейтинг влияет на продажи игры, самые продаваемые игры с рейтингом \"E\"(6+)"
   ]
  },
  {
   "cell_type": "markdown",
   "metadata": {},
   "source": [
    "Жанры для Америки и Европы примерно одинаковые, что нельзя сказать о Японии, тоже самое и с рейтингом.\n",
    "В Америке и Европе играют на одних и тех же платформах, в Японии совсем другие платформы"
   ]
  },
  {
   "cell_type": "markdown",
   "metadata": {},
   "source": [
    "## Проверка гипотез"
   ]
  },
  {
   "cell_type": "code",
   "execution_count": 37,
   "metadata": {},
   "outputs": [
    {
     "name": "stdout",
     "output_type": "stream",
     "text": [
      "p-значение:  0.8118343024377164\n",
      "Не получилось отвергнуть нулевую гипотезу\n"
     ]
    }
   ],
   "source": [
    "alpha = 0.05\n",
    "\n",
    "results = st.ttest_ind(df_actual.query('platform==\"XOne\"').dropna(inplace=False)['user_score'],\n",
    "                       df_actual.query('platform==\"PC\"').dropna(inplace=False)['user_score']) \n",
    "\n",
    "print('p-значение: ', results.pvalue)\n",
    "\n",
    "if results.pvalue < alpha :\n",
    "    print(\"Отвергаем нулевую гипотезу\")\n",
    "else:\n",
    "    print(\"Не получилось отвергнуть нулевую гипотезу\")\n"
   ]
  },
  {
   "cell_type": "markdown",
   "metadata": {},
   "source": [
    "Нулиевая гипотиза гласит, что пользовательский рейтинг платформ Xbox One и PC одинаковый\n",
    "Альтернативная, что разный"
   ]
  },
  {
   "cell_type": "markdown",
   "metadata": {},
   "source": [
    "Исходя из теста, рейтинг действительное одинаковый"
   ]
  },
  {
   "cell_type": "code",
   "execution_count": 38,
   "metadata": {},
   "outputs": [
    {
     "name": "stdout",
     "output_type": "stream",
     "text": [
      "p-значение:  5.005396056879947e-10\n",
      "Отвергаем нулевую гипотезу\n"
     ]
    }
   ],
   "source": [
    "alpha = 0.05\n",
    "\n",
    "results = st.ttest_ind(df_actual.query('genre==\"Action\"').dropna(inplace=False)['user_score'],\n",
    "                       df_actual.query('genre==\"Sports\"').dropna(inplace=False)['user_score']) \n",
    "\n",
    "print('p-значение: ', results.pvalue)\n",
    "\n",
    "if results.pvalue < alpha :\n",
    "    print(\"Отвергаем нулевую гипотезу\")\n",
    "else:\n",
    "    print(\"Не получилось отвергнуть нулевую гипотезу\")\n"
   ]
  },
  {
   "cell_type": "markdown",
   "metadata": {},
   "source": [
    "Нулиевая гипотиза гласит, что пользовательский рейтинг жанров \"Action\" и \"Sports\" одинаковый\n",
    "Альтернативная, что разный"
   ]
  },
  {
   "cell_type": "markdown",
   "metadata": {},
   "source": [
    "По результатам теста, рейтинг этих жанров разный"
   ]
  },
  {
   "cell_type": "markdown",
   "metadata": {},
   "source": [
    "## Вывод"
   ]
  },
  {
   "cell_type": "markdown",
   "metadata": {},
   "source": [
    "На старте мы получили данные начиная с 1980 года. Данные до 2000 года оказались мало информативными, поэтому я их отсек.\n",
    "Было много пропусков в рейтингах. Удалил строки, где были пропуски в имени и годах. Самым продаваемыми игры оказались для платформы PS2. Жизненный цикл платформы составил приблизительно 5 лет, после этого платформа начинала терять в продажах.\n",
    "Определил актуальный период ( с 2010 по 2016 год).\n",
    "Посмотрел на распределение по платформам за актуальный период. Самой популярной платформой оказалась X360. Зависимость рейтинга критиков от продаж оказалось выше чем пользовательский рейтинг, но все равно не имел прямой зависимости.\n",
    "Самые продаваемые и популярные игры в жанре \"Action\".\n",
    "Жанры для Америки и Европы примерно одинаковые, что нельзя сказать о Японии, тоже самое и с рейтингом.\n",
    "В Америке и Европе играют на одних и тех же платформах, в Японии совсем другие платформы.\n",
    "По итогам проверки гипотез, можно сказать, что рейтинг XOne и PC одинаковый, а вот рейтинг игр в жанре \"Action\" и \"Sports\" - нет"
   ]
  }
 ],
 "metadata": {
  "ExecuteTimeLog": [
   {
    "duration": 2133,
    "start_time": "2021-09-15T13:36:09.918Z"
   },
   {
    "duration": -1552,
    "start_time": "2021-09-15T13:36:13.606Z"
   },
   {
    "duration": 3102,
    "start_time": "2021-09-15T13:36:21.342Z"
   },
   {
    "duration": -1674,
    "start_time": "2021-09-15T13:36:26.120Z"
   },
   {
    "duration": 3445,
    "start_time": "2021-09-15T13:36:42.273Z"
   },
   {
    "duration": -1670,
    "start_time": "2021-09-15T13:36:47.391Z"
   },
   {
    "duration": 1519,
    "start_time": "2021-09-15T13:36:59.106Z"
   },
   {
    "duration": 142,
    "start_time": "2021-09-15T13:37:00.629Z"
   },
   {
    "duration": 9,
    "start_time": "2021-09-15T13:39:49.891Z"
   },
   {
    "duration": 29,
    "start_time": "2021-09-15T13:39:57.287Z"
   },
   {
    "duration": 7,
    "start_time": "2021-09-15T13:40:05.697Z"
   },
   {
    "duration": 30,
    "start_time": "2021-09-15T13:40:06.268Z"
   },
   {
    "duration": 9,
    "start_time": "2021-09-15T13:42:47.854Z"
   },
   {
    "duration": 27,
    "start_time": "2021-09-15T13:42:48.414Z"
   },
   {
    "duration": 509,
    "start_time": "2021-09-15T13:43:07.061Z"
   },
   {
    "duration": 370,
    "start_time": "2021-09-15T13:43:30.230Z"
   },
   {
    "duration": 398,
    "start_time": "2021-09-15T13:43:57.225Z"
   },
   {
    "duration": 1524,
    "start_time": "2021-09-15T13:44:02.416Z"
   },
   {
    "duration": 151,
    "start_time": "2021-09-15T13:44:03.942Z"
   },
   {
    "duration": 509,
    "start_time": "2021-09-15T13:44:04.097Z"
   },
   {
    "duration": -1769,
    "start_time": "2021-09-15T13:44:06.378Z"
   },
   {
    "duration": 381,
    "start_time": "2021-09-15T13:45:12.721Z"
   },
   {
    "duration": 430,
    "start_time": "2021-09-15T13:45:16.913Z"
   },
   {
    "duration": 9,
    "start_time": "2021-09-15T13:47:42.506Z"
   },
   {
    "duration": 33,
    "start_time": "2021-09-15T13:47:43.747Z"
   },
   {
    "duration": 355,
    "start_time": "2021-09-15T13:48:09.379Z"
   },
   {
    "duration": 479,
    "start_time": "2021-09-15T13:48:14.081Z"
   },
   {
    "duration": 376,
    "start_time": "2021-09-15T13:48:18.178Z"
   },
   {
    "duration": 127,
    "start_time": "2021-09-15T13:48:23.386Z"
   },
   {
    "duration": 9,
    "start_time": "2021-09-15T13:48:26.298Z"
   },
   {
    "duration": 379,
    "start_time": "2021-09-15T13:48:42.299Z"
   },
   {
    "duration": 1818,
    "start_time": "2021-09-15T13:49:16.087Z"
   },
   {
    "duration": 170,
    "start_time": "2021-09-15T13:49:17.908Z"
   },
   {
    "duration": 10,
    "start_time": "2021-09-15T13:49:40.006Z"
   },
   {
    "duration": 10,
    "start_time": "2021-09-15T13:50:08.423Z"
   },
   {
    "duration": 11,
    "start_time": "2021-09-15T13:50:21.951Z"
   },
   {
    "duration": 9,
    "start_time": "2021-09-15T13:50:39.231Z"
   },
   {
    "duration": 11,
    "start_time": "2021-09-15T13:50:53.295Z"
   },
   {
    "duration": 10,
    "start_time": "2021-09-15T13:50:58.839Z"
   },
   {
    "duration": 11,
    "start_time": "2021-09-15T13:51:15.136Z"
   },
   {
    "duration": 10,
    "start_time": "2021-09-15T13:51:35.623Z"
   },
   {
    "duration": 30,
    "start_time": "2021-09-15T13:52:01.015Z"
   },
   {
    "duration": 44,
    "start_time": "2021-09-15T13:52:10.511Z"
   },
   {
    "duration": 32,
    "start_time": "2021-09-15T13:52:18.641Z"
   },
   {
    "duration": 36,
    "start_time": "2021-09-15T13:52:26.511Z"
   },
   {
    "duration": 26,
    "start_time": "2021-09-15T13:52:32.881Z"
   },
   {
    "duration": 12,
    "start_time": "2021-09-15T13:52:39.992Z"
   },
   {
    "duration": 19,
    "start_time": "2021-09-15T13:53:05.208Z"
   },
   {
    "duration": 139,
    "start_time": "2021-09-15T13:53:59.762Z"
   },
   {
    "duration": 127,
    "start_time": "2021-09-15T13:54:04.913Z"
   },
   {
    "duration": 120,
    "start_time": "2021-09-15T13:54:15.448Z"
   },
   {
    "duration": 120,
    "start_time": "2021-09-15T13:54:21.120Z"
   },
   {
    "duration": 125,
    "start_time": "2021-09-15T13:54:36.609Z"
   },
   {
    "duration": 402,
    "start_time": "2021-09-15T13:54:41.521Z"
   },
   {
    "duration": 533,
    "start_time": "2021-09-15T13:54:46.265Z"
   },
   {
    "duration": 399,
    "start_time": "2021-09-15T13:55:24.490Z"
   },
   {
    "duration": 458,
    "start_time": "2021-09-15T13:55:31.683Z"
   },
   {
    "duration": 396,
    "start_time": "2021-09-15T13:55:39.004Z"
   },
   {
    "duration": 476,
    "start_time": "2021-09-15T13:55:44.243Z"
   },
   {
    "duration": 388,
    "start_time": "2021-09-15T13:55:54.260Z"
   },
   {
    "duration": 384,
    "start_time": "2021-09-15T13:55:58.816Z"
   },
   {
    "duration": 9,
    "start_time": "2021-09-15T13:56:07.379Z"
   },
   {
    "duration": 18,
    "start_time": "2021-09-15T13:56:13.473Z"
   },
   {
    "duration": 388,
    "start_time": "2021-09-15T13:56:22.945Z"
   },
   {
    "duration": 6,
    "start_time": "2021-09-15T13:56:49.913Z"
   },
   {
    "duration": 11,
    "start_time": "2021-09-15T13:56:51.508Z"
   },
   {
    "duration": 11,
    "start_time": "2021-09-15T13:57:04.849Z"
   },
   {
    "duration": 7,
    "start_time": "2021-09-15T13:57:41.833Z"
   },
   {
    "duration": 4,
    "start_time": "2021-09-15T13:57:43.218Z"
   },
   {
    "duration": 12,
    "start_time": "2021-09-15T13:57:48.157Z"
   },
   {
    "duration": 1668,
    "start_time": "2021-09-15T13:58:15.853Z"
   },
   {
    "duration": 134,
    "start_time": "2021-09-15T13:58:17.524Z"
   },
   {
    "duration": 977,
    "start_time": "2021-09-15T13:58:17.661Z"
   },
   {
    "duration": -1706,
    "start_time": "2021-09-15T13:58:20.347Z"
   },
   {
    "duration": 8,
    "start_time": "2021-09-15T13:59:41.405Z"
   },
   {
    "duration": 30,
    "start_time": "2021-09-15T13:59:42.180Z"
   },
   {
    "duration": 14,
    "start_time": "2021-09-15T14:00:01.597Z"
   },
   {
    "duration": 6,
    "start_time": "2021-09-15T14:05:04.536Z"
   },
   {
    "duration": 4,
    "start_time": "2021-09-15T14:05:15.200Z"
   },
   {
    "duration": 29,
    "start_time": "2021-09-15T14:05:17.607Z"
   },
   {
    "duration": 4,
    "start_time": "2021-09-15T14:05:32.680Z"
   },
   {
    "duration": 13,
    "start_time": "2021-09-15T14:05:33.057Z"
   },
   {
    "duration": 31,
    "start_time": "2021-09-15T14:05:37.872Z"
   },
   {
    "duration": 15,
    "start_time": "2021-09-15T14:06:11.489Z"
   },
   {
    "duration": 16,
    "start_time": "2021-09-15T14:06:23.833Z"
   },
   {
    "duration": 12946,
    "start_time": "2021-09-15T14:07:03.377Z"
   },
   {
    "duration": 12833,
    "start_time": "2021-09-15T14:07:23.338Z"
   },
   {
    "duration": 392,
    "start_time": "2021-09-15T14:07:44.426Z"
   },
   {
    "duration": 3,
    "start_time": "2021-09-15T14:07:53.722Z"
   },
   {
    "duration": 402,
    "start_time": "2021-09-15T14:08:18.002Z"
   },
   {
    "duration": 19,
    "start_time": "2021-09-15T14:08:22.619Z"
   },
   {
    "duration": 43,
    "start_time": "2021-09-15T14:08:30.786Z"
   },
   {
    "duration": 44,
    "start_time": "2021-09-15T14:08:53.868Z"
   },
   {
    "duration": 63,
    "start_time": "2021-09-15T14:09:41.635Z"
   },
   {
    "duration": 33,
    "start_time": "2021-09-15T14:10:02.786Z"
   },
   {
    "duration": 378,
    "start_time": "2021-09-15T14:14:03.229Z"
   },
   {
    "duration": 14,
    "start_time": "2021-09-15T14:14:16.677Z"
   },
   {
    "duration": 13,
    "start_time": "2021-09-15T14:14:28.997Z"
   },
   {
    "duration": 53,
    "start_time": "2021-09-15T14:15:05.799Z"
   },
   {
    "duration": 17,
    "start_time": "2021-09-15T14:19:10.180Z"
   },
   {
    "duration": 25,
    "start_time": "2021-09-15T14:20:26.704Z"
   },
   {
    "duration": 27,
    "start_time": "2021-09-15T14:22:45.362Z"
   },
   {
    "duration": 46,
    "start_time": "2021-09-15T14:23:14.601Z"
   },
   {
    "duration": 30,
    "start_time": "2021-09-15T14:23:43.865Z"
   },
   {
    "duration": 15,
    "start_time": "2021-09-15T14:24:23.928Z"
   },
   {
    "duration": 15,
    "start_time": "2021-09-15T14:24:27.712Z"
   },
   {
    "duration": 431,
    "start_time": "2021-09-16T05:17:50.263Z"
   },
   {
    "duration": 1661,
    "start_time": "2021-09-16T05:17:57.091Z"
   },
   {
    "duration": 132,
    "start_time": "2021-09-16T05:17:58.754Z"
   },
   {
    "duration": 4,
    "start_time": "2021-09-16T05:17:58.889Z"
   },
   {
    "duration": 8,
    "start_time": "2021-09-16T05:17:58.895Z"
   },
   {
    "duration": 11,
    "start_time": "2021-09-16T05:17:58.905Z"
   },
   {
    "duration": 16,
    "start_time": "2021-09-16T05:17:58.918Z"
   },
   {
    "duration": 30,
    "start_time": "2021-09-16T05:17:58.957Z"
   },
   {
    "duration": 65,
    "start_time": "2021-09-16T05:17:58.990Z"
   },
   {
    "duration": 746,
    "start_time": "2021-09-16T05:18:39.247Z"
   },
   {
    "duration": 30,
    "start_time": "2021-09-16T05:18:47.295Z"
   },
   {
    "duration": 15,
    "start_time": "2021-09-16T05:19:53.706Z"
   },
   {
    "duration": 24,
    "start_time": "2021-09-16T05:20:00.232Z"
   },
   {
    "duration": 383,
    "start_time": "2021-09-16T05:24:10.224Z"
   },
   {
    "duration": 23,
    "start_time": "2021-09-16T05:24:17.241Z"
   },
   {
    "duration": 25,
    "start_time": "2021-09-16T05:24:27.491Z"
   },
   {
    "duration": 14,
    "start_time": "2021-09-16T05:24:44.726Z"
   },
   {
    "duration": 25,
    "start_time": "2021-09-16T05:24:59.162Z"
   },
   {
    "duration": 15,
    "start_time": "2021-09-16T05:25:00.568Z"
   },
   {
    "duration": 22,
    "start_time": "2021-09-16T05:25:22.665Z"
   },
   {
    "duration": 341,
    "start_time": "2021-09-16T08:26:27.019Z"
   },
   {
    "duration": 1184,
    "start_time": "2021-09-16T08:26:31.066Z"
   },
   {
    "duration": 67,
    "start_time": "2021-09-16T08:26:32.251Z"
   },
   {
    "duration": 3,
    "start_time": "2021-09-16T08:26:32.320Z"
   },
   {
    "duration": 25,
    "start_time": "2021-09-16T08:26:32.324Z"
   },
   {
    "duration": 13,
    "start_time": "2021-09-16T08:26:32.351Z"
   },
   {
    "duration": 22,
    "start_time": "2021-09-16T08:26:32.366Z"
   },
   {
    "duration": 30,
    "start_time": "2021-09-16T08:26:32.390Z"
   },
   {
    "duration": 23,
    "start_time": "2021-09-16T08:26:32.422Z"
   },
   {
    "duration": 15,
    "start_time": "2021-09-16T08:26:32.447Z"
   },
   {
    "duration": 16,
    "start_time": "2021-09-16T08:26:32.463Z"
   },
   {
    "duration": 20,
    "start_time": "2021-09-16T08:27:56.224Z"
   },
   {
    "duration": 438,
    "start_time": "2021-09-16T08:28:38.551Z"
   },
   {
    "duration": 375,
    "start_time": "2021-09-16T08:28:44.928Z"
   },
   {
    "duration": 30,
    "start_time": "2021-09-16T08:28:52.456Z"
   },
   {
    "duration": 14,
    "start_time": "2021-09-16T08:28:54.832Z"
   },
   {
    "duration": 46,
    "start_time": "2021-09-16T08:29:21.968Z"
   },
   {
    "duration": 14,
    "start_time": "2021-09-16T08:29:23.545Z"
   },
   {
    "duration": 360,
    "start_time": "2021-09-16T08:29:36.081Z"
   },
   {
    "duration": 15,
    "start_time": "2021-09-16T08:29:36.952Z"
   },
   {
    "duration": 14,
    "start_time": "2021-09-16T08:30:14.386Z"
   },
   {
    "duration": 16,
    "start_time": "2021-09-16T08:30:27.449Z"
   },
   {
    "duration": 45,
    "start_time": "2021-09-16T08:32:31.923Z"
   },
   {
    "duration": 13,
    "start_time": "2021-09-16T08:32:33.659Z"
   },
   {
    "duration": 149,
    "start_time": "2021-09-16T08:33:38.788Z"
   },
   {
    "duration": 21,
    "start_time": "2021-09-16T08:33:47.708Z"
   },
   {
    "duration": 10,
    "start_time": "2021-09-16T08:34:09.565Z"
   },
   {
    "duration": 269,
    "start_time": "2021-09-16T08:34:47.533Z"
   },
   {
    "duration": 107,
    "start_time": "2021-09-16T08:34:55.093Z"
   },
   {
    "duration": 21,
    "start_time": "2021-09-16T08:35:02.461Z"
   },
   {
    "duration": 10,
    "start_time": "2021-09-16T08:35:26.175Z"
   },
   {
    "duration": 20,
    "start_time": "2021-09-16T08:35:52.509Z"
   },
   {
    "duration": 22,
    "start_time": "2021-09-16T08:36:07.586Z"
   },
   {
    "duration": 10,
    "start_time": "2021-09-16T08:36:18.391Z"
   },
   {
    "duration": 11,
    "start_time": "2021-09-16T08:36:43.549Z"
   },
   {
    "duration": 14,
    "start_time": "2021-09-16T08:37:59.296Z"
   },
   {
    "duration": 297,
    "start_time": "2021-09-16T08:38:07.257Z"
   },
   {
    "duration": 13,
    "start_time": "2021-09-16T08:38:16.599Z"
   },
   {
    "duration": 13,
    "start_time": "2021-09-16T08:38:21.672Z"
   },
   {
    "duration": 358,
    "start_time": "2021-09-16T08:38:27.976Z"
   },
   {
    "duration": 14,
    "start_time": "2021-09-16T08:38:34.419Z"
   },
   {
    "duration": 423,
    "start_time": "2021-09-16T08:38:56.840Z"
   },
   {
    "duration": 14,
    "start_time": "2021-09-16T08:39:05.289Z"
   },
   {
    "duration": 14,
    "start_time": "2021-09-16T08:39:33.130Z"
   },
   {
    "duration": 14,
    "start_time": "2021-09-16T08:39:37.616Z"
   },
   {
    "duration": 332,
    "start_time": "2021-09-16T08:40:43.618Z"
   },
   {
    "duration": 16,
    "start_time": "2021-09-16T08:40:49.209Z"
   },
   {
    "duration": 17,
    "start_time": "2021-09-16T08:41:12.234Z"
   },
   {
    "duration": 16,
    "start_time": "2021-09-16T08:41:29.220Z"
   },
   {
    "duration": 19,
    "start_time": "2021-09-16T08:41:57.666Z"
   },
   {
    "duration": 99,
    "start_time": "2021-09-16T08:42:23.220Z"
   },
   {
    "duration": 7298,
    "start_time": "2021-09-16T08:42:32.146Z"
   },
   {
    "duration": 5898,
    "start_time": "2021-09-16T08:43:02.725Z"
   },
   {
    "duration": 6086,
    "start_time": "2021-09-16T08:43:25.284Z"
   },
   {
    "duration": 18,
    "start_time": "2021-09-16T08:43:33.406Z"
   },
   {
    "duration": 18,
    "start_time": "2021-09-16T08:43:45.068Z"
   },
   {
    "duration": 18,
    "start_time": "2021-09-16T08:44:41.190Z"
   },
   {
    "duration": 18,
    "start_time": "2021-09-16T08:45:10.686Z"
   },
   {
    "duration": 8971,
    "start_time": "2021-09-16T08:50:02.977Z"
   },
   {
    "duration": -106456,
    "start_time": "2021-09-16T08:52:14.738Z"
   },
   {
    "duration": 356,
    "start_time": "2021-09-16T08:50:33.153Z"
   },
   {
    "duration": 21,
    "start_time": "2021-09-16T08:50:40.315Z"
   },
   {
    "duration": 21,
    "start_time": "2021-09-16T08:50:50.906Z"
   },
   {
    "duration": 316,
    "start_time": "2021-09-16T08:51:30.683Z"
   },
   {
    "duration": 8,
    "start_time": "2021-09-16T08:51:35.537Z"
   },
   {
    "duration": 315,
    "start_time": "2021-09-16T08:51:54.194Z"
   },
   {
    "duration": 7,
    "start_time": "2021-09-16T08:52:06.907Z"
   },
   {
    "duration": 370,
    "start_time": "2021-09-16T08:52:52.843Z"
   },
   {
    "duration": 403,
    "start_time": "2021-09-16T08:53:49.854Z"
   },
   {
    "duration": 47,
    "start_time": "2021-09-16T08:54:00.277Z"
   },
   {
    "duration": 312,
    "start_time": "2021-09-16T08:54:37.292Z"
   },
   {
    "duration": 46,
    "start_time": "2021-09-16T08:54:52.166Z"
   },
   {
    "duration": 6,
    "start_time": "2021-09-16T08:54:54.357Z"
   },
   {
    "duration": 1228,
    "start_time": "2021-09-16T08:55:00.817Z"
   },
   {
    "duration": 68,
    "start_time": "2021-09-16T08:55:02.047Z"
   },
   {
    "duration": 3,
    "start_time": "2021-09-16T08:55:02.117Z"
   },
   {
    "duration": 12,
    "start_time": "2021-09-16T08:55:02.122Z"
   },
   {
    "duration": 19,
    "start_time": "2021-09-16T08:55:02.135Z"
   },
   {
    "duration": 20,
    "start_time": "2021-09-16T08:55:02.156Z"
   },
   {
    "duration": 16,
    "start_time": "2021-09-16T08:55:02.177Z"
   },
   {
    "duration": 20,
    "start_time": "2021-09-16T08:55:02.195Z"
   },
   {
    "duration": 45,
    "start_time": "2021-09-16T08:55:02.216Z"
   },
   {
    "duration": 68,
    "start_time": "2021-09-16T08:55:02.262Z"
   },
   {
    "duration": 34,
    "start_time": "2021-09-16T08:55:02.333Z"
   },
   {
    "duration": 25,
    "start_time": "2021-09-16T08:55:02.369Z"
   },
   {
    "duration": 6,
    "start_time": "2021-09-16T08:55:02.395Z"
   },
   {
    "duration": 46,
    "start_time": "2021-09-16T08:55:19.003Z"
   },
   {
    "duration": 7,
    "start_time": "2021-09-16T08:55:21.070Z"
   },
   {
    "duration": 1195,
    "start_time": "2021-09-16T08:55:25.955Z"
   },
   {
    "duration": 73,
    "start_time": "2021-09-16T08:55:27.152Z"
   },
   {
    "duration": 3,
    "start_time": "2021-09-16T08:55:27.228Z"
   },
   {
    "duration": 21,
    "start_time": "2021-09-16T08:55:27.233Z"
   },
   {
    "duration": 12,
    "start_time": "2021-09-16T08:55:27.256Z"
   },
   {
    "duration": 16,
    "start_time": "2021-09-16T08:55:27.270Z"
   },
   {
    "duration": 13,
    "start_time": "2021-09-16T08:55:27.288Z"
   },
   {
    "duration": 21,
    "start_time": "2021-09-16T08:55:27.304Z"
   },
   {
    "duration": 43,
    "start_time": "2021-09-16T08:55:27.328Z"
   },
   {
    "duration": 46,
    "start_time": "2021-09-16T08:55:27.373Z"
   },
   {
    "duration": 39,
    "start_time": "2021-09-16T08:55:27.421Z"
   },
   {
    "duration": 19,
    "start_time": "2021-09-16T08:55:27.461Z"
   },
   {
    "duration": 6,
    "start_time": "2021-09-16T08:55:27.482Z"
   },
   {
    "duration": 599,
    "start_time": "2021-09-16T08:56:07.398Z"
   },
   {
    "duration": 131,
    "start_time": "2021-09-16T08:56:13.520Z"
   },
   {
    "duration": 6,
    "start_time": "2021-09-16T08:56:47.775Z"
   },
   {
    "duration": 397,
    "start_time": "2021-09-16T08:57:02.615Z"
   },
   {
    "duration": 203,
    "start_time": "2021-09-16T08:59:24.795Z"
   },
   {
    "duration": 19,
    "start_time": "2021-09-16T08:59:31.921Z"
   },
   {
    "duration": 340,
    "start_time": "2021-09-16T09:01:30.996Z"
   },
   {
    "duration": 48,
    "start_time": "2021-09-16T09:02:31.989Z"
   },
   {
    "duration": 359,
    "start_time": "2021-09-16T09:03:01.285Z"
   },
   {
    "duration": 361,
    "start_time": "2021-09-16T09:03:19.394Z"
   },
   {
    "duration": 394,
    "start_time": "2021-09-16T09:03:24.189Z"
   },
   {
    "duration": 1178,
    "start_time": "2021-09-16T09:03:34.566Z"
   },
   {
    "duration": 75,
    "start_time": "2021-09-16T09:03:35.746Z"
   },
   {
    "duration": 4,
    "start_time": "2021-09-16T09:03:35.824Z"
   },
   {
    "duration": 26,
    "start_time": "2021-09-16T09:03:35.830Z"
   },
   {
    "duration": 29,
    "start_time": "2021-09-16T09:03:35.858Z"
   },
   {
    "duration": 16,
    "start_time": "2021-09-16T09:03:35.889Z"
   },
   {
    "duration": 33,
    "start_time": "2021-09-16T09:03:35.907Z"
   },
   {
    "duration": 25,
    "start_time": "2021-09-16T09:03:35.943Z"
   },
   {
    "duration": 19,
    "start_time": "2021-09-16T09:03:35.970Z"
   },
   {
    "duration": 71,
    "start_time": "2021-09-16T09:03:35.991Z"
   },
   {
    "duration": 13,
    "start_time": "2021-09-16T09:03:36.064Z"
   },
   {
    "duration": 20,
    "start_time": "2021-09-16T09:03:36.079Z"
   },
   {
    "duration": 6,
    "start_time": "2021-09-16T09:03:36.101Z"
   },
   {
    "duration": 439,
    "start_time": "2021-09-16T09:03:45.695Z"
   },
   {
    "duration": 339,
    "start_time": "2021-09-16T09:04:41.241Z"
   },
   {
    "duration": 1409,
    "start_time": "2021-09-16T09:04:48.333Z"
   },
   {
    "duration": 73,
    "start_time": "2021-09-16T09:04:49.744Z"
   },
   {
    "duration": 3,
    "start_time": "2021-09-16T09:04:49.820Z"
   },
   {
    "duration": 4,
    "start_time": "2021-09-16T09:04:49.826Z"
   },
   {
    "duration": 11,
    "start_time": "2021-09-16T09:04:49.850Z"
   },
   {
    "duration": 15,
    "start_time": "2021-09-16T09:04:49.863Z"
   },
   {
    "duration": 12,
    "start_time": "2021-09-16T09:04:49.880Z"
   },
   {
    "duration": 19,
    "start_time": "2021-09-16T09:04:49.894Z"
   },
   {
    "duration": 47,
    "start_time": "2021-09-16T09:04:49.915Z"
   },
   {
    "duration": 55,
    "start_time": "2021-09-16T09:04:49.964Z"
   },
   {
    "duration": 31,
    "start_time": "2021-09-16T09:04:50.021Z"
   },
   {
    "duration": 21,
    "start_time": "2021-09-16T09:04:50.054Z"
   },
   {
    "duration": 6,
    "start_time": "2021-09-16T09:04:50.077Z"
   },
   {
    "duration": 58,
    "start_time": "2021-09-16T09:05:07.403Z"
   },
   {
    "duration": 51,
    "start_time": "2021-09-16T09:05:52.514Z"
   },
   {
    "duration": 57,
    "start_time": "2021-09-16T09:06:02.762Z"
   },
   {
    "duration": 53,
    "start_time": "2021-09-16T09:06:23.340Z"
   },
   {
    "duration": 55,
    "start_time": "2021-09-16T09:06:31.410Z"
   },
   {
    "duration": 54,
    "start_time": "2021-09-16T09:06:41.267Z"
   },
   {
    "duration": 7,
    "start_time": "2021-09-16T09:06:45.987Z"
   },
   {
    "duration": 24,
    "start_time": "2021-09-16T09:11:45.071Z"
   },
   {
    "duration": 21,
    "start_time": "2021-09-16T09:11:58.999Z"
   },
   {
    "duration": 30,
    "start_time": "2021-09-16T09:13:11.833Z"
   },
   {
    "duration": 20,
    "start_time": "2021-09-16T09:13:18.185Z"
   },
   {
    "duration": 17,
    "start_time": "2021-09-16T09:13:50.525Z"
   },
   {
    "duration": 16,
    "start_time": "2021-09-16T09:14:19.673Z"
   },
   {
    "duration": 18,
    "start_time": "2021-09-16T09:14:28.402Z"
   },
   {
    "duration": 15,
    "start_time": "2021-09-16T09:15:11.171Z"
   },
   {
    "duration": 15,
    "start_time": "2021-09-16T09:15:15.034Z"
   },
   {
    "duration": 141,
    "start_time": "2021-09-16T09:16:17.253Z"
   },
   {
    "duration": 121,
    "start_time": "2021-09-16T09:16:34.853Z"
   },
   {
    "duration": 122,
    "start_time": "2021-09-16T09:16:42.011Z"
   },
   {
    "duration": 127,
    "start_time": "2021-09-16T09:16:46.219Z"
   },
   {
    "duration": 262,
    "start_time": "2021-09-16T09:17:25.668Z"
   },
   {
    "duration": 14,
    "start_time": "2021-09-16T09:18:52.605Z"
   },
   {
    "duration": 22,
    "start_time": "2021-09-16T09:20:26.639Z"
   },
   {
    "duration": 22,
    "start_time": "2021-09-16T09:20:43.431Z"
   },
   {
    "duration": 160,
    "start_time": "2021-09-16T09:21:06.535Z"
   },
   {
    "duration": 169,
    "start_time": "2021-09-16T09:21:21.782Z"
   },
   {
    "duration": 291,
    "start_time": "2021-09-16T09:22:00.376Z"
   },
   {
    "duration": 212,
    "start_time": "2021-09-16T09:22:33.928Z"
   },
   {
    "duration": 277,
    "start_time": "2021-09-16T09:23:15.977Z"
   },
   {
    "duration": 231,
    "start_time": "2021-09-16T09:23:30.384Z"
   },
   {
    "duration": 199,
    "start_time": "2021-09-16T09:25:37.098Z"
   },
   {
    "duration": 6040,
    "start_time": "2021-09-16T09:26:14.315Z"
   },
   {
    "duration": 217,
    "start_time": "2021-09-16T09:26:53.037Z"
   },
   {
    "duration": 230,
    "start_time": "2021-09-16T09:26:58.260Z"
   },
   {
    "duration": 364,
    "start_time": "2021-09-16T09:27:18.731Z"
   },
   {
    "duration": 9,
    "start_time": "2021-09-16T12:07:59.326Z"
   },
   {
    "duration": 5,
    "start_time": "2021-09-16T12:08:38.374Z"
   },
   {
    "duration": 286,
    "start_time": "2021-09-16T12:08:49.574Z"
   },
   {
    "duration": 128,
    "start_time": "2021-09-16T12:09:09.137Z"
   },
   {
    "duration": 130,
    "start_time": "2021-09-16T12:09:38.393Z"
   },
   {
    "duration": 197,
    "start_time": "2021-09-16T12:10:40.352Z"
   },
   {
    "duration": 184,
    "start_time": "2021-09-16T12:10:50.800Z"
   },
   {
    "duration": 232,
    "start_time": "2021-09-16T12:11:22.961Z"
   },
   {
    "duration": 438,
    "start_time": "2021-09-16T12:11:54.818Z"
   },
   {
    "duration": 1077,
    "start_time": "2021-09-16T12:12:03.692Z"
   },
   {
    "duration": 215,
    "start_time": "2021-09-16T12:16:01.141Z"
   },
   {
    "duration": 114,
    "start_time": "2021-09-16T12:16:38.965Z"
   },
   {
    "duration": 105,
    "start_time": "2021-09-16T12:16:46.181Z"
   },
   {
    "duration": 301,
    "start_time": "2021-09-16T12:16:52.758Z"
   },
   {
    "duration": 205,
    "start_time": "2021-09-16T12:17:02.222Z"
   },
   {
    "duration": 500,
    "start_time": "2021-09-16T12:17:13.408Z"
   },
   {
    "duration": 518,
    "start_time": "2021-09-16T12:17:26.494Z"
   },
   {
    "duration": 519,
    "start_time": "2021-09-16T12:17:55.431Z"
   },
   {
    "duration": 211,
    "start_time": "2021-09-16T12:18:07.050Z"
   },
   {
    "duration": 205,
    "start_time": "2021-09-16T12:18:17.519Z"
   },
   {
    "duration": 201,
    "start_time": "2021-09-16T12:18:25.670Z"
   },
   {
    "duration": 94,
    "start_time": "2021-09-16T12:20:51.408Z"
   },
   {
    "duration": 25,
    "start_time": "2021-09-16T12:20:56.745Z"
   },
   {
    "duration": 17,
    "start_time": "2021-09-16T12:21:08.689Z"
   },
   {
    "duration": 18,
    "start_time": "2021-09-16T12:21:19.492Z"
   },
   {
    "duration": 21,
    "start_time": "2021-09-16T12:21:40.737Z"
   },
   {
    "duration": 19,
    "start_time": "2021-09-16T12:21:46.255Z"
   },
   {
    "duration": 20,
    "start_time": "2021-09-16T12:21:56.074Z"
   },
   {
    "duration": 125,
    "start_time": "2021-09-16T12:22:12.274Z"
   },
   {
    "duration": 190,
    "start_time": "2021-09-16T12:22:30.010Z"
   },
   {
    "duration": 22,
    "start_time": "2021-09-16T12:22:59.776Z"
   },
   {
    "duration": 215,
    "start_time": "2021-09-16T12:23:37.523Z"
   },
   {
    "duration": 207,
    "start_time": "2021-09-16T12:23:44.204Z"
   },
   {
    "duration": 1236,
    "start_time": "2021-09-16T12:25:33.549Z"
   },
   {
    "duration": 651,
    "start_time": "2021-09-16T12:25:39.197Z"
   },
   {
    "duration": 9730,
    "start_time": "2021-09-16T12:27:27.151Z"
   },
   {
    "duration": 10955,
    "start_time": "2021-09-16T12:27:50.535Z"
   },
   {
    "duration": 10671,
    "start_time": "2021-09-16T12:29:12.863Z"
   },
   {
    "duration": 10665,
    "start_time": "2021-09-16T12:29:41.384Z"
   },
   {
    "duration": 11232,
    "start_time": "2021-09-16T12:35:36.373Z"
   },
   {
    "duration": 10910,
    "start_time": "2021-09-16T12:36:14.774Z"
   },
   {
    "duration": 10859,
    "start_time": "2021-09-16T12:37:48.175Z"
   },
   {
    "duration": 149,
    "start_time": "2021-09-16T12:40:02.864Z"
   },
   {
    "duration": 171,
    "start_time": "2021-09-16T12:40:09.401Z"
   },
   {
    "duration": 141,
    "start_time": "2021-09-16T12:40:15.401Z"
   },
   {
    "duration": 127,
    "start_time": "2021-09-16T12:40:41.865Z"
   },
   {
    "duration": 394,
    "start_time": "2021-09-16T12:42:08.484Z"
   },
   {
    "duration": 1656,
    "start_time": "2021-09-16T12:42:18.347Z"
   },
   {
    "duration": 10,
    "start_time": "2021-09-16T12:42:27.618Z"
   },
   {
    "duration": 3,
    "start_time": "2021-09-16T12:42:35.171Z"
   },
   {
    "duration": 4,
    "start_time": "2021-09-16T12:42:40.654Z"
   },
   {
    "duration": 4,
    "start_time": "2021-09-16T12:42:44.683Z"
   },
   {
    "duration": 3,
    "start_time": "2021-09-16T12:42:58.539Z"
   },
   {
    "duration": 10,
    "start_time": "2021-09-16T12:43:01.778Z"
   },
   {
    "duration": 17,
    "start_time": "2021-09-16T12:43:02.258Z"
   },
   {
    "duration": -106237,
    "start_time": "2021-09-16T12:45:06.439Z"
   },
   {
    "duration": -106238,
    "start_time": "2021-09-16T12:45:06.441Z"
   },
   {
    "duration": 9,
    "start_time": "2021-09-16T12:43:34.154Z"
   },
   {
    "duration": 8,
    "start_time": "2021-09-16T12:43:34.555Z"
   },
   {
    "duration": 135,
    "start_time": "2021-09-16T12:44:02.660Z"
   },
   {
    "duration": 339,
    "start_time": "2021-09-16T12:44:56.749Z"
   },
   {
    "duration": 135,
    "start_time": "2021-09-16T12:44:57.236Z"
   },
   {
    "duration": 311,
    "start_time": "2021-09-16T12:45:09.605Z"
   },
   {
    "duration": 141,
    "start_time": "2021-09-16T12:45:25.621Z"
   },
   {
    "duration": 412,
    "start_time": "2021-09-16T12:45:38.564Z"
   },
   {
    "duration": 326,
    "start_time": "2021-09-16T12:45:43.580Z"
   },
   {
    "duration": 7771,
    "start_time": "2021-09-16T12:46:19.981Z"
   },
   {
    "duration": 171,
    "start_time": "2021-09-16T12:46:34.014Z"
   },
   {
    "duration": 192,
    "start_time": "2021-09-16T12:46:48.222Z"
   },
   {
    "duration": 334,
    "start_time": "2021-09-16T12:46:54.446Z"
   },
   {
    "duration": 10,
    "start_time": "2021-09-16T12:47:03.406Z"
   },
   {
    "duration": 8,
    "start_time": "2021-09-16T12:47:07.495Z"
   },
   {
    "duration": 9,
    "start_time": "2021-09-16T12:50:15.296Z"
   },
   {
    "duration": 326,
    "start_time": "2021-09-16T12:50:26.160Z"
   },
   {
    "duration": 10,
    "start_time": "2021-09-16T12:50:45.090Z"
   },
   {
    "duration": 10,
    "start_time": "2021-09-16T12:51:16.737Z"
   },
   {
    "duration": 8,
    "start_time": "2021-09-16T12:51:21.322Z"
   },
   {
    "duration": 343,
    "start_time": "2021-09-16T12:51:30.170Z"
   },
   {
    "duration": 9,
    "start_time": "2021-09-16T12:51:38.057Z"
   },
   {
    "duration": 8,
    "start_time": "2021-09-16T12:51:39.532Z"
   },
   {
    "duration": 333,
    "start_time": "2021-09-16T12:53:59.692Z"
   },
   {
    "duration": 15,
    "start_time": "2021-09-16T12:54:05.535Z"
   },
   {
    "duration": 301,
    "start_time": "2021-09-16T12:54:35.684Z"
   },
   {
    "duration": 332,
    "start_time": "2021-09-16T12:54:45.300Z"
   },
   {
    "duration": 325,
    "start_time": "2021-09-16T12:55:03.133Z"
   },
   {
    "duration": 6,
    "start_time": "2021-09-16T12:55:08.621Z"
   },
   {
    "duration": 9,
    "start_time": "2021-09-16T12:55:39.901Z"
   },
   {
    "duration": 15,
    "start_time": "2021-09-16T12:55:43.421Z"
   },
   {
    "duration": 12,
    "start_time": "2021-09-16T12:55:52.998Z"
   },
   {
    "duration": 11,
    "start_time": "2021-09-16T12:56:05.479Z"
   },
   {
    "duration": 1186,
    "start_time": "2021-09-16T12:56:16.959Z"
   },
   {
    "duration": 71,
    "start_time": "2021-09-16T12:56:18.147Z"
   },
   {
    "duration": 3,
    "start_time": "2021-09-16T12:56:18.220Z"
   },
   {
    "duration": 9,
    "start_time": "2021-09-16T12:56:18.225Z"
   },
   {
    "duration": 16,
    "start_time": "2021-09-16T12:56:18.235Z"
   },
   {
    "duration": 7,
    "start_time": "2021-09-16T12:56:18.253Z"
   },
   {
    "duration": 13,
    "start_time": "2021-09-16T12:56:18.262Z"
   },
   {
    "duration": 16,
    "start_time": "2021-09-16T12:56:18.278Z"
   },
   {
    "duration": 19,
    "start_time": "2021-09-16T12:56:18.296Z"
   },
   {
    "duration": 78,
    "start_time": "2021-09-16T12:56:18.316Z"
   },
   {
    "duration": 15,
    "start_time": "2021-09-16T12:56:18.396Z"
   },
   {
    "duration": 39,
    "start_time": "2021-09-16T12:56:18.412Z"
   },
   {
    "duration": 11,
    "start_time": "2021-09-16T12:56:18.452Z"
   },
   {
    "duration": 14,
    "start_time": "2021-09-16T12:56:18.465Z"
   },
   {
    "duration": 228,
    "start_time": "2021-09-16T12:56:18.480Z"
   },
   {
    "duration": 142,
    "start_time": "2021-09-16T12:56:18.710Z"
   },
   {
    "duration": 10,
    "start_time": "2021-09-16T12:56:18.854Z"
   },
   {
    "duration": 7,
    "start_time": "2021-09-16T12:56:18.865Z"
   },
   {
    "duration": 48,
    "start_time": "2021-09-16T13:00:14.365Z"
   },
   {
    "duration": 17,
    "start_time": "2021-09-16T13:00:15.107Z"
   },
   {
    "duration": 28,
    "start_time": "2021-09-16T13:00:15.637Z"
   },
   {
    "duration": 11,
    "start_time": "2021-09-16T13:00:16.322Z"
   },
   {
    "duration": 1213,
    "start_time": "2021-09-16T13:00:20.342Z"
   },
   {
    "duration": 110,
    "start_time": "2021-09-16T13:00:21.557Z"
   },
   {
    "duration": 4,
    "start_time": "2021-09-16T13:00:21.672Z"
   },
   {
    "duration": 10,
    "start_time": "2021-09-16T13:00:21.678Z"
   },
   {
    "duration": 30,
    "start_time": "2021-09-16T13:00:21.690Z"
   },
   {
    "duration": 24,
    "start_time": "2021-09-16T13:00:21.722Z"
   },
   {
    "duration": 30,
    "start_time": "2021-09-16T13:00:21.748Z"
   },
   {
    "duration": 37,
    "start_time": "2021-09-16T13:00:21.781Z"
   },
   {
    "duration": 34,
    "start_time": "2021-09-16T13:00:21.819Z"
   },
   {
    "duration": 64,
    "start_time": "2021-09-16T13:00:21.856Z"
   },
   {
    "duration": 33,
    "start_time": "2021-09-16T13:00:21.922Z"
   },
   {
    "duration": 24,
    "start_time": "2021-09-16T13:00:21.957Z"
   },
   {
    "duration": 14,
    "start_time": "2021-09-16T13:00:21.983Z"
   },
   {
    "duration": 26,
    "start_time": "2021-09-16T13:00:21.999Z"
   },
   {
    "duration": 261,
    "start_time": "2021-09-16T13:00:22.027Z"
   },
   {
    "duration": 159,
    "start_time": "2021-09-16T13:00:22.290Z"
   },
   {
    "duration": 10,
    "start_time": "2021-09-16T13:00:22.451Z"
   },
   {
    "duration": 10,
    "start_time": "2021-09-16T13:00:22.463Z"
   },
   {
    "duration": 1294,
    "start_time": "2021-09-16T13:00:56.952Z"
   },
   {
    "duration": 74,
    "start_time": "2021-09-16T13:00:58.247Z"
   },
   {
    "duration": 3,
    "start_time": "2021-09-16T13:00:58.324Z"
   },
   {
    "duration": 6,
    "start_time": "2021-09-16T13:00:58.329Z"
   },
   {
    "duration": 7,
    "start_time": "2021-09-16T13:00:58.350Z"
   },
   {
    "duration": 16,
    "start_time": "2021-09-16T13:00:58.359Z"
   },
   {
    "duration": 14,
    "start_time": "2021-09-16T13:00:58.377Z"
   },
   {
    "duration": 19,
    "start_time": "2021-09-16T13:00:58.393Z"
   },
   {
    "duration": 52,
    "start_time": "2021-09-16T13:00:58.414Z"
   },
   {
    "duration": 50,
    "start_time": "2021-09-16T13:00:58.467Z"
   },
   {
    "duration": 42,
    "start_time": "2021-09-16T13:00:58.519Z"
   },
   {
    "duration": 22,
    "start_time": "2021-09-16T13:00:58.563Z"
   },
   {
    "duration": 10,
    "start_time": "2021-09-16T13:00:58.587Z"
   },
   {
    "duration": 14,
    "start_time": "2021-09-16T13:00:58.599Z"
   },
   {
    "duration": 284,
    "start_time": "2021-09-16T13:00:58.615Z"
   },
   {
    "duration": 172,
    "start_time": "2021-09-16T13:00:58.900Z"
   },
   {
    "duration": 9,
    "start_time": "2021-09-16T13:00:59.073Z"
   },
   {
    "duration": 11,
    "start_time": "2021-09-16T13:00:59.084Z"
   },
   {
    "duration": 20,
    "start_time": "2021-09-16T13:01:52.803Z"
   },
   {
    "duration": 32,
    "start_time": "2021-09-16T13:02:01.731Z"
   },
   {
    "duration": 30,
    "start_time": "2021-09-16T13:02:23.956Z"
   },
   {
    "duration": 22,
    "start_time": "2021-09-16T13:02:31.275Z"
   },
   {
    "duration": 247,
    "start_time": "2021-09-16T13:02:57.659Z"
   },
   {
    "duration": 24,
    "start_time": "2021-09-16T13:03:40.413Z"
   },
   {
    "duration": 248,
    "start_time": "2021-09-16T13:03:49.157Z"
   },
   {
    "duration": 259,
    "start_time": "2021-09-16T13:04:17.244Z"
   },
   {
    "duration": 264,
    "start_time": "2021-09-16T13:07:07.377Z"
   },
   {
    "duration": 21,
    "start_time": "2021-09-16T13:07:17.832Z"
   },
   {
    "duration": 23,
    "start_time": "2021-09-16T13:08:07.030Z"
   },
   {
    "duration": 232,
    "start_time": "2021-09-16T13:08:32.912Z"
   },
   {
    "duration": 21,
    "start_time": "2021-09-16T13:08:57.362Z"
   },
   {
    "duration": 445,
    "start_time": "2021-09-16T13:10:38.642Z"
   },
   {
    "duration": 269,
    "start_time": "2021-09-16T13:10:51.907Z"
   },
   {
    "duration": 129,
    "start_time": "2021-09-16T13:11:41.383Z"
   },
   {
    "duration": 431,
    "start_time": "2021-09-16T13:11:45.852Z"
   },
   {
    "duration": 189,
    "start_time": "2021-09-16T13:11:54.548Z"
   },
   {
    "duration": 201,
    "start_time": "2021-09-16T13:12:01.923Z"
   },
   {
    "duration": 110,
    "start_time": "2021-09-16T13:13:27.887Z"
   },
   {
    "duration": 287,
    "start_time": "2021-09-16T13:13:32.620Z"
   },
   {
    "duration": 8090,
    "start_time": "2021-09-16T13:13:52.442Z"
   },
   {
    "duration": 98,
    "start_time": "2021-09-16T13:14:11.378Z"
   },
   {
    "duration": 281,
    "start_time": "2021-09-16T13:14:18.565Z"
   },
   {
    "duration": 202,
    "start_time": "2021-09-16T13:14:43.624Z"
   },
   {
    "duration": 274,
    "start_time": "2021-09-16T13:15:21.186Z"
   },
   {
    "duration": 272,
    "start_time": "2021-09-16T13:15:58.754Z"
   },
   {
    "duration": 20,
    "start_time": "2021-09-16T13:16:00.154Z"
   },
   {
    "duration": 28,
    "start_time": "2021-09-16T13:16:02.042Z"
   },
   {
    "duration": 267,
    "start_time": "2021-09-16T13:16:02.833Z"
   },
   {
    "duration": 164,
    "start_time": "2021-09-16T13:16:03.332Z"
   },
   {
    "duration": 9,
    "start_time": "2021-09-16T13:16:03.890Z"
   },
   {
    "duration": 9,
    "start_time": "2021-09-16T13:16:04.542Z"
   },
   {
    "duration": 23,
    "start_time": "2021-09-16T13:16:31.012Z"
   },
   {
    "duration": 24,
    "start_time": "2021-09-16T13:16:52.830Z"
   },
   {
    "duration": 26,
    "start_time": "2021-09-16T13:16:58.403Z"
   },
   {
    "duration": 1347,
    "start_time": "2021-09-16T13:17:22.552Z"
   },
   {
    "duration": 84,
    "start_time": "2021-09-16T13:17:23.901Z"
   },
   {
    "duration": 4,
    "start_time": "2021-09-16T13:17:23.990Z"
   },
   {
    "duration": 11,
    "start_time": "2021-09-16T13:17:23.997Z"
   },
   {
    "duration": 10,
    "start_time": "2021-09-16T13:17:24.010Z"
   },
   {
    "duration": 32,
    "start_time": "2021-09-16T13:17:24.022Z"
   },
   {
    "duration": 17,
    "start_time": "2021-09-16T13:17:24.058Z"
   },
   {
    "duration": 25,
    "start_time": "2021-09-16T13:17:24.077Z"
   },
   {
    "duration": 63,
    "start_time": "2021-09-16T13:17:24.104Z"
   },
   {
    "duration": 61,
    "start_time": "2021-09-16T13:17:24.169Z"
   },
   {
    "duration": 32,
    "start_time": "2021-09-16T13:17:24.232Z"
   },
   {
    "duration": 29,
    "start_time": "2021-09-16T13:17:24.266Z"
   },
   {
    "duration": 327,
    "start_time": "2021-09-16T13:17:24.297Z"
   },
   {
    "duration": 27,
    "start_time": "2021-09-16T13:17:24.626Z"
   },
   {
    "duration": 29,
    "start_time": "2021-09-16T13:17:24.655Z"
   },
   {
    "duration": 324,
    "start_time": "2021-09-16T13:17:24.686Z"
   },
   {
    "duration": 209,
    "start_time": "2021-09-16T13:17:25.013Z"
   },
   {
    "duration": 16,
    "start_time": "2021-09-16T13:17:25.230Z"
   },
   {
    "duration": 47,
    "start_time": "2021-09-16T13:17:25.253Z"
   },
   {
    "duration": 23,
    "start_time": "2021-09-16T13:17:42.100Z"
   },
   {
    "duration": 22,
    "start_time": "2021-09-16T13:17:50.496Z"
   },
   {
    "duration": 23,
    "start_time": "2021-09-16T13:17:58.329Z"
   },
   {
    "duration": 260,
    "start_time": "2021-09-16T13:18:17.592Z"
   },
   {
    "duration": 245,
    "start_time": "2021-09-16T13:18:24.504Z"
   },
   {
    "duration": 331,
    "start_time": "2021-09-16T13:19:05.924Z"
   },
   {
    "duration": 235,
    "start_time": "2021-09-16T13:19:11.353Z"
   },
   {
    "duration": 338,
    "start_time": "2021-09-16T13:19:41.019Z"
   },
   {
    "duration": 271,
    "start_time": "2021-09-16T13:22:12.808Z"
   },
   {
    "duration": 642,
    "start_time": "2021-09-16T13:22:26.066Z"
   },
   {
    "duration": 229,
    "start_time": "2021-09-16T13:22:32.624Z"
   },
   {
    "duration": 303,
    "start_time": "2021-09-16T13:22:39.477Z"
   },
   {
    "duration": 253,
    "start_time": "2021-09-16T13:22:49.775Z"
   },
   {
    "duration": 233,
    "start_time": "2021-09-16T13:22:56.671Z"
   },
   {
    "duration": 243,
    "start_time": "2021-09-16T13:23:04.872Z"
   },
   {
    "duration": 232,
    "start_time": "2021-09-16T13:23:11.073Z"
   },
   {
    "duration": 256,
    "start_time": "2021-09-16T13:24:00.276Z"
   },
   {
    "duration": 256,
    "start_time": "2021-09-16T13:24:05.373Z"
   },
   {
    "duration": 319,
    "start_time": "2021-09-16T13:24:09.640Z"
   },
   {
    "duration": 710,
    "start_time": "2021-09-16T13:24:26.445Z"
   },
   {
    "duration": 237,
    "start_time": "2021-09-16T13:24:35.014Z"
   },
   {
    "duration": 326,
    "start_time": "2021-09-16T13:24:42.854Z"
   },
   {
    "duration": 252,
    "start_time": "2021-09-16T13:24:52.373Z"
   },
   {
    "duration": 238,
    "start_time": "2021-09-16T13:24:57.038Z"
   },
   {
    "duration": 8551,
    "start_time": "2021-09-16T13:25:53.806Z"
   },
   {
    "duration": 7673,
    "start_time": "2021-09-16T13:26:15.809Z"
   },
   {
    "duration": 816,
    "start_time": "2021-09-16T13:27:27.100Z"
   },
   {
    "duration": 1027,
    "start_time": "2021-09-16T13:27:40.675Z"
   },
   {
    "duration": 1107,
    "start_time": "2021-09-16T13:27:55.912Z"
   },
   {
    "duration": 952,
    "start_time": "2021-09-16T13:28:09.589Z"
   },
   {
    "duration": 309,
    "start_time": "2021-09-16T13:30:23.862Z"
   },
   {
    "duration": 2062,
    "start_time": "2021-09-16T13:30:54.214Z"
   },
   {
    "duration": 10,
    "start_time": "2021-09-16T13:32:04.126Z"
   },
   {
    "duration": 22,
    "start_time": "2021-09-16T13:32:08.939Z"
   },
   {
    "duration": 335,
    "start_time": "2021-09-16T13:32:14.416Z"
   },
   {
    "duration": 312,
    "start_time": "2021-09-16T13:32:23.403Z"
   },
   {
    "duration": 22,
    "start_time": "2021-09-16T13:32:26.971Z"
   },
   {
    "duration": 9,
    "start_time": "2021-09-16T13:33:17.740Z"
   },
   {
    "duration": 20,
    "start_time": "2021-09-16T13:33:24.532Z"
   },
   {
    "duration": 18,
    "start_time": "2021-09-16T13:33:40.356Z"
   },
   {
    "duration": 23,
    "start_time": "2021-09-16T13:33:56.895Z"
   },
   {
    "duration": 5,
    "start_time": "2021-09-16T13:34:04.445Z"
   },
   {
    "duration": 8,
    "start_time": "2021-09-16T13:34:18.765Z"
   },
   {
    "duration": 533,
    "start_time": "2021-09-16T13:34:28.285Z"
   },
   {
    "duration": 332,
    "start_time": "2021-09-16T13:34:53.970Z"
   },
   {
    "duration": 295,
    "start_time": "2021-09-16T13:35:06.654Z"
   },
   {
    "duration": 6,
    "start_time": "2021-09-16T13:35:16.726Z"
   },
   {
    "duration": 8,
    "start_time": "2021-09-16T13:36:02.182Z"
   },
   {
    "duration": 7,
    "start_time": "2021-09-16T13:36:07.286Z"
   },
   {
    "duration": 8,
    "start_time": "2021-09-16T13:36:25.642Z"
   },
   {
    "duration": 304,
    "start_time": "2021-09-16T13:37:33.570Z"
   },
   {
    "duration": 2393,
    "start_time": "2021-09-16T13:37:34.619Z"
   },
   {
    "duration": 29,
    "start_time": "2021-09-16T13:37:47.444Z"
   },
   {
    "duration": 355,
    "start_time": "2021-09-16T13:38:26.135Z"
   },
   {
    "duration": 145,
    "start_time": "2021-09-16T13:38:47.724Z"
   },
   {
    "duration": 2031,
    "start_time": "2021-09-16T13:38:50.796Z"
   },
   {
    "duration": 324,
    "start_time": "2021-09-16T13:38:59.668Z"
   },
   {
    "duration": 1948,
    "start_time": "2021-09-16T13:39:05.918Z"
   },
   {
    "duration": 2145,
    "start_time": "2021-09-16T13:39:18.853Z"
   },
   {
    "duration": 437,
    "start_time": "2021-09-16T13:41:38.635Z"
   },
   {
    "duration": 217,
    "start_time": "2021-09-16T13:41:49.027Z"
   },
   {
    "duration": 23,
    "start_time": "2021-09-16T13:42:34.260Z"
   },
   {
    "duration": 15,
    "start_time": "2021-09-16T13:42:54.084Z"
   },
   {
    "duration": 2157,
    "start_time": "2021-09-16T13:43:48.429Z"
   },
   {
    "duration": 236,
    "start_time": "2021-09-16T13:43:57.893Z"
   },
   {
    "duration": 260,
    "start_time": "2021-09-16T13:44:14.405Z"
   },
   {
    "duration": 359,
    "start_time": "2021-09-16T13:44:22.077Z"
   },
   {
    "duration": 277,
    "start_time": "2021-09-16T13:44:29.260Z"
   },
   {
    "duration": 324,
    "start_time": "2021-09-16T13:44:45.837Z"
   },
   {
    "duration": 7,
    "start_time": "2021-09-16T13:45:17.494Z"
   },
   {
    "duration": 7582,
    "start_time": "2021-09-16T13:46:10.242Z"
   },
   {
    "duration": 98,
    "start_time": "2021-09-16T13:46:49.590Z"
   },
   {
    "duration": 353,
    "start_time": "2021-09-16T13:47:16.443Z"
   },
   {
    "duration": 356,
    "start_time": "2021-09-16T13:47:35.058Z"
   },
   {
    "duration": 359,
    "start_time": "2021-09-16T13:48:02.541Z"
   },
   {
    "duration": 8080,
    "start_time": "2021-09-16T13:48:16.221Z"
   },
   {
    "duration": -106165,
    "start_time": "2021-09-16T13:50:22.053Z"
   },
   {
    "duration": 7775,
    "start_time": "2021-09-16T13:48:37.603Z"
   },
   {
    "duration": 333,
    "start_time": "2021-09-16T13:49:22.254Z"
   },
   {
    "duration": 105,
    "start_time": "2021-09-16T13:49:30.917Z"
   },
   {
    "duration": 27,
    "start_time": "2021-09-16T13:49:36.417Z"
   },
   {
    "duration": 360,
    "start_time": "2021-09-16T13:49:59.638Z"
   },
   {
    "duration": 2299,
    "start_time": "2021-09-16T13:50:08.253Z"
   },
   {
    "duration": 11,
    "start_time": "2021-09-16T13:52:00.972Z"
   },
   {
    "duration": 285,
    "start_time": "2021-09-16T13:52:10.123Z"
   },
   {
    "duration": 2063,
    "start_time": "2021-09-16T13:52:18.435Z"
   },
   {
    "duration": 15,
    "start_time": "2021-09-16T13:52:23.524Z"
   },
   {
    "duration": 11,
    "start_time": "2021-09-16T13:52:37.187Z"
   },
   {
    "duration": 15,
    "start_time": "2021-09-16T13:52:43.309Z"
   },
   {
    "duration": 17,
    "start_time": "2021-09-16T13:52:49.995Z"
   },
   {
    "duration": 1958,
    "start_time": "2021-09-16T13:55:10.794Z"
   },
   {
    "duration": 1952,
    "start_time": "2021-09-16T13:55:50.766Z"
   },
   {
    "duration": 241,
    "start_time": "2021-09-16T13:56:12.131Z"
   },
   {
    "duration": 2078,
    "start_time": "2021-09-16T13:56:20.091Z"
   },
   {
    "duration": 26,
    "start_time": "2021-09-16T13:56:24.770Z"
   },
   {
    "duration": 2360,
    "start_time": "2021-09-16T13:56:44.546Z"
   },
   {
    "duration": 332,
    "start_time": "2021-09-16T13:57:55.380Z"
   },
   {
    "duration": 9,
    "start_time": "2021-09-16T13:58:03.284Z"
   },
   {
    "duration": 2437,
    "start_time": "2021-09-16T13:58:32.988Z"
   },
   {
    "duration": 333,
    "start_time": "2021-09-16T13:58:55.825Z"
   },
   {
    "duration": 839,
    "start_time": "2021-09-16T13:59:01.046Z"
   },
   {
    "duration": 115,
    "start_time": "2021-09-16T18:58:33.429Z"
   },
   {
    "duration": 906,
    "start_time": "2021-09-16T18:58:45.245Z"
   },
   {
    "duration": 1125,
    "start_time": "2021-09-16T18:58:52.420Z"
   },
   {
    "duration": 76,
    "start_time": "2021-09-16T18:58:53.547Z"
   },
   {
    "duration": 24,
    "start_time": "2021-09-16T18:58:53.626Z"
   },
   {
    "duration": 7,
    "start_time": "2021-09-16T18:58:53.652Z"
   },
   {
    "duration": 9,
    "start_time": "2021-09-16T18:58:53.660Z"
   },
   {
    "duration": 9,
    "start_time": "2021-09-16T18:58:53.671Z"
   },
   {
    "duration": 13,
    "start_time": "2021-09-16T18:58:53.682Z"
   },
   {
    "duration": 18,
    "start_time": "2021-09-16T18:58:53.697Z"
   },
   {
    "duration": 22,
    "start_time": "2021-09-16T18:58:53.748Z"
   },
   {
    "duration": 50,
    "start_time": "2021-09-16T18:58:53.771Z"
   },
   {
    "duration": 36,
    "start_time": "2021-09-16T18:58:53.822Z"
   },
   {
    "duration": 19,
    "start_time": "2021-09-16T18:58:53.859Z"
   },
   {
    "duration": 264,
    "start_time": "2021-09-16T18:58:53.880Z"
   },
   {
    "duration": 24,
    "start_time": "2021-09-16T18:58:54.150Z"
   },
   {
    "duration": 9,
    "start_time": "2021-09-16T18:58:54.176Z"
   },
   {
    "duration": 16,
    "start_time": "2021-09-16T18:58:54.187Z"
   },
   {
    "duration": 368,
    "start_time": "2021-09-16T18:58:54.205Z"
   },
   {
    "duration": -780,
    "start_time": "2021-09-16T18:58:55.355Z"
   },
   {
    "duration": -783,
    "start_time": "2021-09-16T18:58:55.359Z"
   },
   {
    "duration": -787,
    "start_time": "2021-09-16T18:58:55.364Z"
   },
   {
    "duration": 254,
    "start_time": "2021-09-16T18:59:07.350Z"
   },
   {
    "duration": 256,
    "start_time": "2021-09-16T18:59:17.609Z"
   },
   {
    "duration": 1913,
    "start_time": "2021-09-16T18:59:22.677Z"
   },
   {
    "duration": 2189,
    "start_time": "2021-09-16T18:59:39.454Z"
   },
   {
    "duration": 15,
    "start_time": "2021-09-16T19:00:13.523Z"
   },
   {
    "duration": 533,
    "start_time": "2021-09-16T19:00:21.407Z"
   },
   {
    "duration": 2092,
    "start_time": "2021-09-16T19:00:49.395Z"
   },
   {
    "duration": 284,
    "start_time": "2021-09-16T19:02:01.075Z"
   },
   {
    "duration": 273,
    "start_time": "2021-09-16T19:02:14.276Z"
   },
   {
    "duration": 266,
    "start_time": "2021-09-16T19:02:25.822Z"
   },
   {
    "duration": 6576,
    "start_time": "2021-09-16T19:02:37.328Z"
   },
   {
    "duration": 23,
    "start_time": "2021-09-16T19:03:22.229Z"
   },
   {
    "duration": 2183,
    "start_time": "2021-09-16T19:03:25.506Z"
   },
   {
    "duration": 22,
    "start_time": "2021-09-16T19:05:44.195Z"
   },
   {
    "duration": 25,
    "start_time": "2021-09-16T19:06:05.580Z"
   },
   {
    "duration": 21,
    "start_time": "2021-09-16T19:06:16.044Z"
   },
   {
    "duration": 22,
    "start_time": "2021-09-16T19:06:38.892Z"
   },
   {
    "duration": 16,
    "start_time": "2021-09-16T19:06:44.483Z"
   },
   {
    "duration": 16,
    "start_time": "2021-09-16T19:06:54.623Z"
   },
   {
    "duration": 24,
    "start_time": "2021-09-16T19:07:01.147Z"
   },
   {
    "duration": 245,
    "start_time": "2021-09-16T19:09:12.704Z"
   },
   {
    "duration": 10,
    "start_time": "2021-09-16T19:09:32.056Z"
   },
   {
    "duration": 8,
    "start_time": "2021-09-16T19:09:40.995Z"
   },
   {
    "duration": 271,
    "start_time": "2021-09-16T19:10:02.740Z"
   },
   {
    "duration": 243,
    "start_time": "2021-09-16T19:10:08.940Z"
   },
   {
    "duration": 251,
    "start_time": "2021-09-16T19:10:34.238Z"
   },
   {
    "duration": 262,
    "start_time": "2021-09-16T19:10:45.439Z"
   },
   {
    "duration": 1148,
    "start_time": "2021-09-16T19:10:57.021Z"
   },
   {
    "duration": 88,
    "start_time": "2021-09-16T19:10:58.171Z"
   },
   {
    "duration": 3,
    "start_time": "2021-09-16T19:10:58.262Z"
   },
   {
    "duration": 19,
    "start_time": "2021-09-16T19:10:58.267Z"
   },
   {
    "duration": 11,
    "start_time": "2021-09-16T19:10:58.287Z"
   },
   {
    "duration": 15,
    "start_time": "2021-09-16T19:10:58.300Z"
   },
   {
    "duration": 27,
    "start_time": "2021-09-16T19:10:58.316Z"
   },
   {
    "duration": 22,
    "start_time": "2021-09-16T19:10:58.346Z"
   },
   {
    "duration": 22,
    "start_time": "2021-09-16T19:10:58.370Z"
   },
   {
    "duration": 76,
    "start_time": "2021-09-16T19:10:58.393Z"
   },
   {
    "duration": 14,
    "start_time": "2021-09-16T19:10:58.471Z"
   },
   {
    "duration": 43,
    "start_time": "2021-09-16T19:10:58.486Z"
   },
   {
    "duration": 240,
    "start_time": "2021-09-16T19:10:58.530Z"
   },
   {
    "duration": 23,
    "start_time": "2021-09-16T19:10:58.771Z"
   },
   {
    "duration": 15,
    "start_time": "2021-09-16T19:10:58.796Z"
   },
   {
    "duration": 41,
    "start_time": "2021-09-16T19:10:58.812Z"
   },
   {
    "duration": 27,
    "start_time": "2021-09-16T19:10:58.855Z"
   },
   {
    "duration": 2200,
    "start_time": "2021-09-16T19:10:58.884Z"
   },
   {
    "duration": 169,
    "start_time": "2021-09-16T19:11:01.086Z"
   },
   {
    "duration": 9,
    "start_time": "2021-09-16T19:11:01.256Z"
   },
   {
    "duration": 64,
    "start_time": "2021-09-16T19:11:01.267Z"
   },
   {
    "duration": 18,
    "start_time": "2021-09-16T19:11:33.560Z"
   },
   {
    "duration": 439,
    "start_time": "2021-09-16T19:12:10.166Z"
   },
   {
    "duration": 6242,
    "start_time": "2021-09-16T19:12:24.623Z"
   },
   {
    "duration": 6806,
    "start_time": "2021-09-16T19:12:43.364Z"
   },
   {
    "duration": 12584,
    "start_time": "2021-09-16T19:13:01.579Z"
   },
   {
    "duration": 10,
    "start_time": "2021-09-16T19:13:17.328Z"
   },
   {
    "duration": 104,
    "start_time": "2021-09-16T19:13:30.770Z"
   },
   {
    "duration": 7964,
    "start_time": "2021-09-16T19:13:35.459Z"
   },
   {
    "duration": 3,
    "start_time": "2021-09-16T19:14:21.639Z"
   },
   {
    "duration": 12,
    "start_time": "2021-09-16T19:14:22.309Z"
   },
   {
    "duration": 6723,
    "start_time": "2021-09-16T19:14:31.730Z"
   },
   {
    "duration": 11,
    "start_time": "2021-09-16T19:14:50.773Z"
   },
   {
    "duration": 17,
    "start_time": "2021-09-16T19:16:21.977Z"
   },
   {
    "duration": 286,
    "start_time": "2021-09-16T19:17:06.599Z"
   },
   {
    "duration": 22,
    "start_time": "2021-09-16T19:17:18.807Z"
   },
   {
    "duration": 999,
    "start_time": "2021-09-16T19:17:35.642Z"
   },
   {
    "duration": 990,
    "start_time": "2021-09-16T19:17:52.681Z"
   },
   {
    "duration": 1010,
    "start_time": "2021-09-16T19:18:40.452Z"
   },
   {
    "duration": 541,
    "start_time": "2021-09-16T19:20:34.574Z"
   },
   {
    "duration": 19,
    "start_time": "2021-09-16T19:22:01.006Z"
   },
   {
    "duration": 24,
    "start_time": "2021-09-16T19:25:12.867Z"
   },
   {
    "duration": 581,
    "start_time": "2021-09-16T19:25:27.079Z"
   },
   {
    "duration": 660,
    "start_time": "2021-09-16T19:25:58.041Z"
   },
   {
    "duration": 518,
    "start_time": "2021-09-16T19:26:04.433Z"
   },
   {
    "duration": 20,
    "start_time": "2021-09-16T19:26:35.837Z"
   },
   {
    "duration": 22,
    "start_time": "2021-09-16T19:27:05.277Z"
   },
   {
    "duration": 22,
    "start_time": "2021-09-16T19:27:17.221Z"
   },
   {
    "duration": 22,
    "start_time": "2021-09-16T19:27:25.347Z"
   },
   {
    "duration": 1925,
    "start_time": "2021-09-16T19:27:51.306Z"
   },
   {
    "duration": 1784,
    "start_time": "2021-09-16T19:28:23.717Z"
   },
   {
    "duration": 2361,
    "start_time": "2021-09-16T19:28:38.627Z"
   },
   {
    "duration": 1741,
    "start_time": "2021-09-16T19:28:46.357Z"
   },
   {
    "duration": 619,
    "start_time": "2021-09-16T19:29:04.329Z"
   },
   {
    "duration": 1986,
    "start_time": "2021-09-16T19:29:14.546Z"
   },
   {
    "duration": 2578,
    "start_time": "2021-09-16T19:29:28.962Z"
   },
   {
    "duration": 2382,
    "start_time": "2021-09-16T19:29:50.424Z"
   },
   {
    "duration": 283,
    "start_time": "2021-09-16T19:30:02.806Z"
   },
   {
    "duration": 1747,
    "start_time": "2021-09-16T19:30:13.519Z"
   },
   {
    "duration": 1284,
    "start_time": "2021-09-16T19:30:41.537Z"
   },
   {
    "duration": 867,
    "start_time": "2021-09-16T19:30:49.967Z"
   },
   {
    "duration": 877,
    "start_time": "2021-09-16T19:31:01.884Z"
   },
   {
    "duration": 1727,
    "start_time": "2021-09-16T19:31:15.075Z"
   },
   {
    "duration": 1661,
    "start_time": "2021-09-16T19:31:29.733Z"
   },
   {
    "duration": 1799,
    "start_time": "2021-09-16T19:31:50.514Z"
   },
   {
    "duration": 537,
    "start_time": "2021-09-16T19:32:14.996Z"
   },
   {
    "duration": 1711,
    "start_time": "2021-09-16T19:39:18.931Z"
   },
   {
    "duration": 282,
    "start_time": "2021-09-16T19:39:51.183Z"
   },
   {
    "duration": 255,
    "start_time": "2021-09-16T19:40:08.945Z"
   },
   {
    "duration": 2007,
    "start_time": "2021-09-16T19:40:16.419Z"
   },
   {
    "duration": 600,
    "start_time": "2021-09-16T19:42:11.325Z"
   },
   {
    "duration": 23,
    "start_time": "2021-09-16T19:42:55.928Z"
   },
   {
    "duration": 23,
    "start_time": "2021-09-16T19:43:09.175Z"
   },
   {
    "duration": 23,
    "start_time": "2021-09-16T19:43:20.510Z"
   },
   {
    "duration": 22,
    "start_time": "2021-09-16T19:43:33.622Z"
   },
   {
    "duration": 422,
    "start_time": "2021-09-16T19:43:48.968Z"
   },
   {
    "duration": 738,
    "start_time": "2021-09-16T19:43:59.586Z"
   },
   {
    "duration": 786,
    "start_time": "2021-09-16T19:44:12.163Z"
   },
   {
    "duration": 814,
    "start_time": "2021-09-16T19:44:48.723Z"
   },
   {
    "duration": 484,
    "start_time": "2021-09-16T19:46:15.017Z"
   },
   {
    "duration": 1185,
    "start_time": "2021-09-17T05:01:31.553Z"
   },
   {
    "duration": 65,
    "start_time": "2021-09-17T05:01:32.740Z"
   },
   {
    "duration": 3,
    "start_time": "2021-09-17T05:01:32.807Z"
   },
   {
    "duration": 6,
    "start_time": "2021-09-17T05:01:32.811Z"
   },
   {
    "duration": 31,
    "start_time": "2021-09-17T05:01:32.818Z"
   },
   {
    "duration": 6,
    "start_time": "2021-09-17T05:01:32.851Z"
   },
   {
    "duration": 16,
    "start_time": "2021-09-17T05:01:32.859Z"
   },
   {
    "duration": 16,
    "start_time": "2021-09-17T05:01:32.877Z"
   },
   {
    "duration": 17,
    "start_time": "2021-09-17T05:01:32.895Z"
   },
   {
    "duration": 75,
    "start_time": "2021-09-17T05:01:32.913Z"
   },
   {
    "duration": 13,
    "start_time": "2021-09-17T05:01:32.990Z"
   },
   {
    "duration": 45,
    "start_time": "2021-09-17T05:01:33.004Z"
   },
   {
    "duration": 237,
    "start_time": "2021-09-17T05:01:33.051Z"
   },
   {
    "duration": 21,
    "start_time": "2021-09-17T05:01:33.290Z"
   },
   {
    "duration": 17,
    "start_time": "2021-09-17T05:01:33.312Z"
   },
   {
    "duration": 14,
    "start_time": "2021-09-17T05:01:33.349Z"
   },
   {
    "duration": 20,
    "start_time": "2021-09-17T05:01:33.364Z"
   },
   {
    "duration": 506,
    "start_time": "2021-09-17T05:01:33.385Z"
   },
   {
    "duration": 139,
    "start_time": "2021-09-17T05:01:33.892Z"
   },
   {
    "duration": 16,
    "start_time": "2021-09-17T05:01:34.033Z"
   },
   {
    "duration": 7,
    "start_time": "2021-09-17T05:01:34.050Z"
   },
   {
    "duration": 43,
    "start_time": "2021-09-17T05:02:08.891Z"
   },
   {
    "duration": 1215,
    "start_time": "2021-09-17T05:02:14.533Z"
   },
   {
    "duration": 70,
    "start_time": "2021-09-17T05:02:15.749Z"
   },
   {
    "duration": 3,
    "start_time": "2021-09-17T05:02:15.822Z"
   },
   {
    "duration": 4,
    "start_time": "2021-09-17T05:02:15.848Z"
   },
   {
    "duration": 15,
    "start_time": "2021-09-17T05:02:15.854Z"
   },
   {
    "duration": 14,
    "start_time": "2021-09-17T05:02:15.871Z"
   },
   {
    "duration": 18,
    "start_time": "2021-09-17T05:02:15.887Z"
   },
   {
    "duration": 21,
    "start_time": "2021-09-17T05:02:15.907Z"
   },
   {
    "duration": 32,
    "start_time": "2021-09-17T05:02:15.950Z"
   },
   {
    "duration": 65,
    "start_time": "2021-09-17T05:02:15.985Z"
   },
   {
    "duration": 17,
    "start_time": "2021-09-17T05:02:16.052Z"
   },
   {
    "duration": 41,
    "start_time": "2021-09-17T05:02:16.071Z"
   },
   {
    "duration": 376,
    "start_time": "2021-09-17T05:02:16.114Z"
   },
   {
    "duration": 24,
    "start_time": "2021-09-17T05:02:16.492Z"
   },
   {
    "duration": 38,
    "start_time": "2021-09-17T05:02:16.518Z"
   },
   {
    "duration": 12,
    "start_time": "2021-09-17T05:02:16.558Z"
   },
   {
    "duration": 45,
    "start_time": "2021-09-17T05:02:16.572Z"
   },
   {
    "duration": 511,
    "start_time": "2021-09-17T05:02:16.618Z"
   },
   {
    "duration": 141,
    "start_time": "2021-09-17T05:02:17.131Z"
   },
   {
    "duration": 11,
    "start_time": "2021-09-17T05:02:17.274Z"
   },
   {
    "duration": 35,
    "start_time": "2021-09-17T05:02:17.287Z"
   },
   {
    "duration": 494,
    "start_time": "2021-09-17T05:02:56.184Z"
   },
   {
    "duration": 576,
    "start_time": "2021-09-17T05:03:07.063Z"
   },
   {
    "duration": 464,
    "start_time": "2021-09-17T05:03:16.657Z"
   },
   {
    "duration": 16,
    "start_time": "2021-09-17T05:03:46.871Z"
   },
   {
    "duration": 382,
    "start_time": "2021-09-17T05:05:33.849Z"
   },
   {
    "duration": 617,
    "start_time": "2021-09-17T05:06:32.517Z"
   },
   {
    "duration": 669,
    "start_time": "2021-09-17T05:06:41.132Z"
   },
   {
    "duration": 634,
    "start_time": "2021-09-17T05:07:13.770Z"
   },
   {
    "duration": 920,
    "start_time": "2021-09-17T05:07:24.066Z"
   },
   {
    "duration": 23,
    "start_time": "2021-09-17T05:07:47.019Z"
   },
   {
    "duration": 8,
    "start_time": "2021-09-17T05:07:59.535Z"
   },
   {
    "duration": 257,
    "start_time": "2021-09-17T05:08:04.008Z"
   },
   {
    "duration": 8,
    "start_time": "2021-09-17T05:08:13.439Z"
   },
   {
    "duration": 7,
    "start_time": "2021-09-17T05:08:20.473Z"
   },
   {
    "duration": 6,
    "start_time": "2021-09-17T05:08:55.044Z"
   },
   {
    "duration": 14,
    "start_time": "2021-09-17T05:09:01.234Z"
   },
   {
    "duration": 23,
    "start_time": "2021-09-17T05:09:11.151Z"
   },
   {
    "duration": 7,
    "start_time": "2021-09-17T05:09:21.636Z"
   },
   {
    "duration": 13,
    "start_time": "2021-09-17T05:09:23.268Z"
   },
   {
    "duration": 266,
    "start_time": "2021-09-17T05:10:04.255Z"
   },
   {
    "duration": 1345,
    "start_time": "2021-09-17T05:10:11.685Z"
   },
   {
    "duration": 70,
    "start_time": "2021-09-17T05:10:13.032Z"
   },
   {
    "duration": 4,
    "start_time": "2021-09-17T05:10:13.104Z"
   },
   {
    "duration": 6,
    "start_time": "2021-09-17T05:10:13.110Z"
   },
   {
    "duration": 34,
    "start_time": "2021-09-17T05:10:13.118Z"
   },
   {
    "duration": 9,
    "start_time": "2021-09-17T05:10:13.154Z"
   },
   {
    "duration": 15,
    "start_time": "2021-09-17T05:10:13.165Z"
   },
   {
    "duration": 21,
    "start_time": "2021-09-17T05:10:13.183Z"
   },
   {
    "duration": 60,
    "start_time": "2021-09-17T05:10:13.206Z"
   },
   {
    "duration": 525,
    "start_time": "2021-09-17T05:10:13.268Z"
   },
   {
    "duration": -847,
    "start_time": "2021-09-17T05:10:14.642Z"
   },
   {
    "duration": -855,
    "start_time": "2021-09-17T05:10:14.652Z"
   },
   {
    "duration": -857,
    "start_time": "2021-09-17T05:10:14.655Z"
   },
   {
    "duration": -858,
    "start_time": "2021-09-17T05:10:14.658Z"
   },
   {
    "duration": -859,
    "start_time": "2021-09-17T05:10:14.660Z"
   },
   {
    "duration": -869,
    "start_time": "2021-09-17T05:10:14.671Z"
   },
   {
    "duration": -869,
    "start_time": "2021-09-17T05:10:14.673Z"
   },
   {
    "duration": -871,
    "start_time": "2021-09-17T05:10:14.676Z"
   },
   {
    "duration": -872,
    "start_time": "2021-09-17T05:10:14.678Z"
   },
   {
    "duration": -880,
    "start_time": "2021-09-17T05:10:14.688Z"
   },
   {
    "duration": -881,
    "start_time": "2021-09-17T05:10:14.690Z"
   },
   {
    "duration": -886,
    "start_time": "2021-09-17T05:10:14.696Z"
   },
   {
    "duration": 322,
    "start_time": "2021-09-17T05:10:41.067Z"
   },
   {
    "duration": 1224,
    "start_time": "2021-09-17T05:10:55.136Z"
   },
   {
    "duration": 87,
    "start_time": "2021-09-17T05:10:56.362Z"
   },
   {
    "duration": 3,
    "start_time": "2021-09-17T05:10:56.452Z"
   },
   {
    "duration": 8,
    "start_time": "2021-09-17T05:10:56.457Z"
   },
   {
    "duration": 9,
    "start_time": "2021-09-17T05:10:56.467Z"
   },
   {
    "duration": 7,
    "start_time": "2021-09-17T05:10:56.477Z"
   },
   {
    "duration": 14,
    "start_time": "2021-09-17T05:10:56.486Z"
   },
   {
    "duration": 47,
    "start_time": "2021-09-17T05:10:56.502Z"
   },
   {
    "duration": 21,
    "start_time": "2021-09-17T05:10:56.551Z"
   },
   {
    "duration": 76,
    "start_time": "2021-09-17T05:10:56.574Z"
   },
   {
    "duration": 15,
    "start_time": "2021-09-17T05:10:56.652Z"
   },
   {
    "duration": 25,
    "start_time": "2021-09-17T05:10:56.668Z"
   },
   {
    "duration": 313,
    "start_time": "2021-09-17T05:10:56.694Z"
   },
   {
    "duration": 40,
    "start_time": "2021-09-17T05:10:57.009Z"
   },
   {
    "duration": 16,
    "start_time": "2021-09-17T05:10:57.051Z"
   },
   {
    "duration": 14,
    "start_time": "2021-09-17T05:10:57.069Z"
   },
   {
    "duration": 22,
    "start_time": "2021-09-17T05:10:57.085Z"
   },
   {
    "duration": 498,
    "start_time": "2021-09-17T05:10:57.109Z"
   },
   {
    "duration": 145,
    "start_time": "2021-09-17T05:10:57.609Z"
   },
   {
    "duration": 10,
    "start_time": "2021-09-17T05:10:57.756Z"
   },
   {
    "duration": 28,
    "start_time": "2021-09-17T05:10:57.768Z"
   },
   {
    "duration": 86,
    "start_time": "2021-09-17T05:12:36.407Z"
   },
   {
    "duration": 117,
    "start_time": "2021-09-17T05:13:01.621Z"
   },
   {
    "duration": 8,
    "start_time": "2021-09-17T05:13:19.600Z"
   },
   {
    "duration": 24,
    "start_time": "2021-09-17T05:13:28.361Z"
   },
   {
    "duration": 519,
    "start_time": "2021-09-17T05:14:18.702Z"
   },
   {
    "duration": 518,
    "start_time": "2021-09-17T05:14:33.719Z"
   },
   {
    "duration": 505,
    "start_time": "2021-09-17T05:14:49.833Z"
   },
   {
    "duration": 445,
    "start_time": "2021-09-17T05:15:18.426Z"
   },
   {
    "duration": 662,
    "start_time": "2021-09-17T05:15:48.154Z"
   },
   {
    "duration": 1417,
    "start_time": "2021-09-17T07:50:41.453Z"
   },
   {
    "duration": 83,
    "start_time": "2021-09-17T07:50:42.872Z"
   },
   {
    "duration": 3,
    "start_time": "2021-09-17T07:50:42.958Z"
   },
   {
    "duration": 13,
    "start_time": "2021-09-17T07:50:42.962Z"
   },
   {
    "duration": 13,
    "start_time": "2021-09-17T07:50:42.976Z"
   },
   {
    "duration": 11,
    "start_time": "2021-09-17T07:50:42.991Z"
   },
   {
    "duration": 30,
    "start_time": "2021-09-17T07:50:43.004Z"
   },
   {
    "duration": 18,
    "start_time": "2021-09-17T07:50:43.037Z"
   },
   {
    "duration": 21,
    "start_time": "2021-09-17T07:50:43.057Z"
   },
   {
    "duration": 76,
    "start_time": "2021-09-17T07:50:43.080Z"
   },
   {
    "duration": 15,
    "start_time": "2021-09-17T07:50:43.158Z"
   },
   {
    "duration": 23,
    "start_time": "2021-09-17T07:50:43.174Z"
   },
   {
    "duration": 324,
    "start_time": "2021-09-17T07:50:43.199Z"
   },
   {
    "duration": 28,
    "start_time": "2021-09-17T07:50:43.525Z"
   },
   {
    "duration": 15,
    "start_time": "2021-09-17T07:50:43.554Z"
   },
   {
    "duration": 17,
    "start_time": "2021-09-17T07:50:43.571Z"
   },
   {
    "duration": 20,
    "start_time": "2021-09-17T07:50:43.590Z"
   },
   {
    "duration": 615,
    "start_time": "2021-09-17T07:50:43.611Z"
   },
   {
    "duration": 35,
    "start_time": "2021-09-17T07:50:44.228Z"
   },
   {
    "duration": 11,
    "start_time": "2021-09-17T07:50:44.265Z"
   },
   {
    "duration": 16,
    "start_time": "2021-09-17T07:50:44.277Z"
   },
   {
    "duration": 515,
    "start_time": "2021-09-17T07:51:34.540Z"
   },
   {
    "duration": 24,
    "start_time": "2021-09-17T07:52:02.629Z"
   },
   {
    "duration": 10,
    "start_time": "2021-09-17T07:52:03.240Z"
   },
   {
    "duration": 8,
    "start_time": "2021-09-17T07:52:03.581Z"
   },
   {
    "duration": 23,
    "start_time": "2021-09-17T07:52:14.886Z"
   },
   {
    "duration": 86,
    "start_time": "2021-09-17T07:53:54.013Z"
   },
   {
    "duration": 24,
    "start_time": "2021-09-17T07:54:10.634Z"
   },
   {
    "duration": 13,
    "start_time": "2021-09-17T07:54:26.641Z"
   },
   {
    "duration": 14,
    "start_time": "2021-09-17T07:54:33.843Z"
   },
   {
    "duration": 23,
    "start_time": "2021-09-17T07:55:06.001Z"
   },
   {
    "duration": 23,
    "start_time": "2021-09-17T07:55:20.979Z"
   },
   {
    "duration": 22,
    "start_time": "2021-09-17T07:55:29.322Z"
   },
   {
    "duration": 195,
    "start_time": "2021-09-17T07:55:44.954Z"
   },
   {
    "duration": 1509,
    "start_time": "2021-09-17T07:55:55.870Z"
   },
   {
    "duration": 1734,
    "start_time": "2021-09-17T07:56:13.572Z"
   },
   {
    "duration": 1626,
    "start_time": "2021-09-17T07:57:27.407Z"
   },
   {
    "duration": 15,
    "start_time": "2021-09-17T07:59:18.009Z"
   },
   {
    "duration": 15,
    "start_time": "2021-09-17T07:59:25.346Z"
   },
   {
    "duration": 22,
    "start_time": "2021-09-17T08:00:37.199Z"
   },
   {
    "duration": 15,
    "start_time": "2021-09-17T08:00:38.586Z"
   },
   {
    "duration": 2881,
    "start_time": "2021-09-17T08:00:39.123Z"
   },
   {
    "duration": 22,
    "start_time": "2021-09-17T08:00:47.347Z"
   },
   {
    "duration": 13,
    "start_time": "2021-09-17T08:00:49.406Z"
   },
   {
    "duration": 415,
    "start_time": "2021-09-17T08:00:50.018Z"
   },
   {
    "duration": 138,
    "start_time": "2021-09-17T08:02:02.542Z"
   },
   {
    "duration": 359,
    "start_time": "2021-09-17T08:02:52.008Z"
   },
   {
    "duration": 202,
    "start_time": "2021-09-17T08:03:22.680Z"
   },
   {
    "duration": 141,
    "start_time": "2021-09-17T08:03:37.392Z"
   },
   {
    "duration": 303,
    "start_time": "2021-09-17T08:09:03.609Z"
   },
   {
    "duration": 297,
    "start_time": "2021-09-17T08:10:25.353Z"
   },
   {
    "duration": 293,
    "start_time": "2021-09-17T08:10:39.327Z"
   },
   {
    "duration": 417,
    "start_time": "2021-09-17T08:10:44.346Z"
   },
   {
    "duration": 284,
    "start_time": "2021-09-17T08:10:53.958Z"
   },
   {
    "duration": 26,
    "start_time": "2021-09-17T08:17:12.758Z"
   },
   {
    "duration": 179,
    "start_time": "2021-09-17T08:17:31.463Z"
   },
   {
    "duration": 1288,
    "start_time": "2021-09-17T08:17:50.648Z"
   },
   {
    "duration": 160,
    "start_time": "2021-09-17T08:17:57.568Z"
   },
   {
    "duration": 366,
    "start_time": "2021-09-17T08:18:10.932Z"
   },
   {
    "duration": 471,
    "start_time": "2021-09-17T08:18:17.913Z"
   },
   {
    "duration": 367,
    "start_time": "2021-09-17T08:18:27.735Z"
   },
   {
    "duration": 25,
    "start_time": "2021-09-17T08:18:45.817Z"
   },
   {
    "duration": 24,
    "start_time": "2021-09-17T08:19:11.573Z"
   },
   {
    "duration": 28,
    "start_time": "2021-09-17T08:19:20.126Z"
   },
   {
    "duration": 374,
    "start_time": "2021-09-17T08:21:07.307Z"
   },
   {
    "duration": 455,
    "start_time": "2021-09-17T08:21:16.319Z"
   },
   {
    "duration": 279,
    "start_time": "2021-09-17T08:21:25.207Z"
   },
   {
    "duration": 359,
    "start_time": "2021-09-17T08:22:33.504Z"
   },
   {
    "duration": 283,
    "start_time": "2021-09-17T08:23:39.205Z"
   },
   {
    "duration": 1648,
    "start_time": "2021-09-17T08:23:44.354Z"
   },
   {
    "duration": 1327,
    "start_time": "2021-09-17T08:23:51.370Z"
   },
   {
    "duration": 1335,
    "start_time": "2021-09-17T08:24:52.282Z"
   },
   {
    "duration": 25,
    "start_time": "2021-09-17T08:25:18.419Z"
   },
   {
    "duration": 78,
    "start_time": "2021-09-17T08:27:07.016Z"
   },
   {
    "duration": 91,
    "start_time": "2021-09-17T08:27:21.645Z"
   },
   {
    "duration": 632,
    "start_time": "2021-09-17T08:27:26.088Z"
   },
   {
    "duration": 86,
    "start_time": "2021-09-17T08:28:32.525Z"
   },
   {
    "duration": 308,
    "start_time": "2021-09-17T08:28:36.593Z"
   },
   {
    "duration": 91,
    "start_time": "2021-09-17T08:28:59.111Z"
   },
   {
    "duration": 6176,
    "start_time": "2021-09-17T08:29:03.366Z"
   },
   {
    "duration": 671,
    "start_time": "2021-09-17T08:29:23.728Z"
   },
   {
    "duration": 278,
    "start_time": "2021-09-17T08:29:36.926Z"
   },
   {
    "duration": 7625,
    "start_time": "2021-09-17T08:29:49.679Z"
   },
   {
    "duration": 6748,
    "start_time": "2021-09-17T08:30:21.267Z"
   },
   {
    "duration": 1142,
    "start_time": "2021-09-17T08:30:40.506Z"
   },
   {
    "duration": 67,
    "start_time": "2021-09-17T08:30:41.650Z"
   },
   {
    "duration": 3,
    "start_time": "2021-09-17T08:30:41.719Z"
   },
   {
    "duration": 28,
    "start_time": "2021-09-17T08:30:41.724Z"
   },
   {
    "duration": 11,
    "start_time": "2021-09-17T08:30:41.753Z"
   },
   {
    "duration": 8,
    "start_time": "2021-09-17T08:30:41.766Z"
   },
   {
    "duration": 14,
    "start_time": "2021-09-17T08:30:41.776Z"
   },
   {
    "duration": 18,
    "start_time": "2021-09-17T08:30:41.792Z"
   },
   {
    "duration": 43,
    "start_time": "2021-09-17T08:30:41.812Z"
   },
   {
    "duration": 54,
    "start_time": "2021-09-17T08:30:41.857Z"
   },
   {
    "duration": 14,
    "start_time": "2021-09-17T08:30:41.913Z"
   },
   {
    "duration": 40,
    "start_time": "2021-09-17T08:30:41.928Z"
   },
   {
    "duration": 316,
    "start_time": "2021-09-17T08:30:41.970Z"
   },
   {
    "duration": 26,
    "start_time": "2021-09-17T08:30:42.288Z"
   },
   {
    "duration": 38,
    "start_time": "2021-09-17T08:30:42.315Z"
   },
   {
    "duration": 15,
    "start_time": "2021-09-17T08:30:42.354Z"
   },
   {
    "duration": 21,
    "start_time": "2021-09-17T08:30:42.370Z"
   },
   {
    "duration": 533,
    "start_time": "2021-09-17T08:30:42.393Z"
   },
   {
    "duration": 34,
    "start_time": "2021-09-17T08:30:42.927Z"
   },
   {
    "duration": 14,
    "start_time": "2021-09-17T08:30:42.963Z"
   },
   {
    "duration": 427,
    "start_time": "2021-09-17T08:30:42.978Z"
   },
   {
    "duration": 304,
    "start_time": "2021-09-17T08:30:43.406Z"
   },
   {
    "duration": 6556,
    "start_time": "2021-09-17T08:30:43.712Z"
   },
   {
    "duration": 6390,
    "start_time": "2021-09-17T08:31:07.339Z"
   },
   {
    "duration": 323,
    "start_time": "2021-09-17T08:31:45.348Z"
   },
   {
    "duration": 503,
    "start_time": "2021-09-17T08:41:31.316Z"
   },
   {
    "duration": 438,
    "start_time": "2021-09-17T08:41:46.023Z"
   },
   {
    "duration": 596,
    "start_time": "2021-09-17T08:42:03.311Z"
   },
   {
    "duration": 544,
    "start_time": "2021-09-17T08:42:26.168Z"
   },
   {
    "duration": 566,
    "start_time": "2021-09-17T08:42:32.356Z"
   },
   {
    "duration": 675,
    "start_time": "2021-09-17T08:42:47.201Z"
   },
   {
    "duration": 6,
    "start_time": "2021-09-17T08:43:26.124Z"
   },
   {
    "duration": 531,
    "start_time": "2021-09-17T08:43:26.486Z"
   },
   {
    "duration": 7,
    "start_time": "2021-09-17T08:43:37.424Z"
   },
   {
    "duration": 5,
    "start_time": "2021-09-17T08:43:57.601Z"
   },
   {
    "duration": 5,
    "start_time": "2021-09-17T08:44:07.673Z"
   },
   {
    "duration": 328,
    "start_time": "2021-09-17T08:45:19.418Z"
   },
   {
    "duration": 1201,
    "start_time": "2021-09-17T08:45:25.054Z"
   },
   {
    "duration": 101,
    "start_time": "2021-09-17T08:45:26.257Z"
   },
   {
    "duration": 4,
    "start_time": "2021-09-17T08:45:26.361Z"
   },
   {
    "duration": 4,
    "start_time": "2021-09-17T08:45:26.367Z"
   },
   {
    "duration": 9,
    "start_time": "2021-09-17T08:45:26.373Z"
   },
   {
    "duration": 10,
    "start_time": "2021-09-17T08:45:26.384Z"
   },
   {
    "duration": 21,
    "start_time": "2021-09-17T08:45:26.396Z"
   },
   {
    "duration": 46,
    "start_time": "2021-09-17T08:45:26.420Z"
   },
   {
    "duration": 20,
    "start_time": "2021-09-17T08:45:26.468Z"
   },
   {
    "duration": 81,
    "start_time": "2021-09-17T08:45:26.490Z"
   },
   {
    "duration": 15,
    "start_time": "2021-09-17T08:45:26.572Z"
   },
   {
    "duration": 23,
    "start_time": "2021-09-17T08:45:26.589Z"
   },
   {
    "duration": 337,
    "start_time": "2021-09-17T08:45:26.614Z"
   },
   {
    "duration": 28,
    "start_time": "2021-09-17T08:45:26.953Z"
   },
   {
    "duration": 20,
    "start_time": "2021-09-17T08:45:26.983Z"
   },
   {
    "duration": 44,
    "start_time": "2021-09-17T08:45:27.006Z"
   },
   {
    "duration": 23,
    "start_time": "2021-09-17T08:45:27.052Z"
   },
   {
    "duration": 518,
    "start_time": "2021-09-17T08:45:27.077Z"
   },
   {
    "duration": 24,
    "start_time": "2021-09-17T08:45:27.596Z"
   },
   {
    "duration": 32,
    "start_time": "2021-09-17T08:45:27.622Z"
   },
   {
    "duration": 438,
    "start_time": "2021-09-17T08:45:27.656Z"
   },
   {
    "duration": 315,
    "start_time": "2021-09-17T08:45:28.096Z"
   },
   {
    "duration": 4,
    "start_time": "2021-09-17T08:45:28.414Z"
   },
   {
    "duration": 671,
    "start_time": "2021-09-17T08:45:28.420Z"
   },
   {
    "duration": 796,
    "start_time": "2021-09-17T08:46:19.916Z"
   },
   {
    "duration": 384,
    "start_time": "2021-09-17T08:46:56.215Z"
   },
   {
    "duration": 694,
    "start_time": "2021-09-17T08:47:14.335Z"
   },
   {
    "duration": 25,
    "start_time": "2021-09-17T08:48:14.732Z"
   },
   {
    "duration": 262,
    "start_time": "2021-09-17T08:49:06.585Z"
   },
   {
    "duration": 264,
    "start_time": "2021-09-17T08:49:19.432Z"
   },
   {
    "duration": 9,
    "start_time": "2021-09-17T08:49:29.793Z"
   },
   {
    "duration": 8,
    "start_time": "2021-09-17T08:49:41.641Z"
   },
   {
    "duration": 330,
    "start_time": "2021-09-17T09:00:59.761Z"
   },
   {
    "duration": 9,
    "start_time": "2021-09-17T09:01:11.366Z"
   },
   {
    "duration": 14,
    "start_time": "2021-09-17T09:01:56.143Z"
   },
   {
    "duration": 14,
    "start_time": "2021-09-17T09:02:10.368Z"
   },
   {
    "duration": 14,
    "start_time": "2021-09-17T09:02:18.783Z"
   },
   {
    "duration": 262,
    "start_time": "2021-09-17T09:02:58.226Z"
   },
   {
    "duration": 25,
    "start_time": "2021-09-17T09:03:03.728Z"
   },
   {
    "duration": 13,
    "start_time": "2021-09-17T09:03:12.784Z"
   },
   {
    "duration": 12,
    "start_time": "2021-09-17T09:03:14.241Z"
   },
   {
    "duration": 12,
    "start_time": "2021-09-17T09:03:15.025Z"
   },
   {
    "duration": 274,
    "start_time": "2021-09-17T09:06:07.736Z"
   },
   {
    "duration": 255,
    "start_time": "2021-09-17T09:06:19.144Z"
   },
   {
    "duration": 13,
    "start_time": "2021-09-17T09:06:27.774Z"
   },
   {
    "duration": 264,
    "start_time": "2021-09-17T09:06:47.600Z"
   },
   {
    "duration": 14,
    "start_time": "2021-09-17T09:06:58.040Z"
   },
   {
    "duration": 13,
    "start_time": "2021-09-17T09:07:30.464Z"
   },
   {
    "duration": 13,
    "start_time": "2021-09-17T09:07:51.624Z"
   },
   {
    "duration": 22,
    "start_time": "2021-09-17T09:09:46.171Z"
   },
   {
    "duration": 1207,
    "start_time": "2021-09-17T09:09:50.911Z"
   },
   {
    "duration": 69,
    "start_time": "2021-09-17T09:09:52.120Z"
   },
   {
    "duration": 3,
    "start_time": "2021-09-17T09:09:52.191Z"
   },
   {
    "duration": 17,
    "start_time": "2021-09-17T09:09:52.195Z"
   },
   {
    "duration": 11,
    "start_time": "2021-09-17T09:09:52.214Z"
   },
   {
    "duration": 13,
    "start_time": "2021-09-17T09:09:52.227Z"
   },
   {
    "duration": 25,
    "start_time": "2021-09-17T09:09:52.242Z"
   },
   {
    "duration": 18,
    "start_time": "2021-09-17T09:09:52.269Z"
   },
   {
    "duration": 23,
    "start_time": "2021-09-17T09:09:52.289Z"
   },
   {
    "duration": 72,
    "start_time": "2021-09-17T09:09:52.314Z"
   },
   {
    "duration": 13,
    "start_time": "2021-09-17T09:09:52.388Z"
   },
   {
    "duration": 23,
    "start_time": "2021-09-17T09:09:52.403Z"
   },
   {
    "duration": 309,
    "start_time": "2021-09-17T09:09:52.428Z"
   },
   {
    "duration": 31,
    "start_time": "2021-09-17T09:09:52.739Z"
   },
   {
    "duration": 17,
    "start_time": "2021-09-17T09:09:52.772Z"
   },
   {
    "duration": 13,
    "start_time": "2021-09-17T09:09:52.791Z"
   },
   {
    "duration": 47,
    "start_time": "2021-09-17T09:09:52.806Z"
   },
   {
    "duration": 513,
    "start_time": "2021-09-17T09:09:52.854Z"
   },
   {
    "duration": 22,
    "start_time": "2021-09-17T09:09:53.368Z"
   },
   {
    "duration": 12,
    "start_time": "2021-09-17T09:09:53.392Z"
   },
   {
    "duration": 1437,
    "start_time": "2021-09-17T09:09:53.405Z"
   },
   {
    "duration": 432,
    "start_time": "2021-09-17T09:09:54.844Z"
   },
   {
    "duration": 25,
    "start_time": "2021-09-17T09:09:55.279Z"
   },
   {
    "duration": 751,
    "start_time": "2021-09-17T09:09:55.306Z"
   },
   {
    "duration": 9,
    "start_time": "2021-09-17T09:09:56.059Z"
   },
   {
    "duration": 104,
    "start_time": "2021-09-17T09:09:56.069Z"
   },
   {
    "duration": -105044,
    "start_time": "2021-09-17T09:11:41.219Z"
   },
   {
    "duration": -105045,
    "start_time": "2021-09-17T09:11:41.221Z"
   },
   {
    "duration": -105046,
    "start_time": "2021-09-17T09:11:41.223Z"
   },
   {
    "duration": -105047,
    "start_time": "2021-09-17T09:11:41.225Z"
   },
   {
    "duration": -105048,
    "start_time": "2021-09-17T09:11:41.227Z"
   },
   {
    "duration": -105049,
    "start_time": "2021-09-17T09:11:41.229Z"
   },
   {
    "duration": 10,
    "start_time": "2021-09-17T09:10:27.627Z"
   },
   {
    "duration": 6,
    "start_time": "2021-09-17T09:10:29.607Z"
   },
   {
    "duration": 14,
    "start_time": "2021-09-17T09:10:30.046Z"
   },
   {
    "duration": 14,
    "start_time": "2021-09-17T09:10:30.450Z"
   },
   {
    "duration": 13,
    "start_time": "2021-09-17T09:10:31.167Z"
   },
   {
    "duration": 14,
    "start_time": "2021-09-17T09:10:31.486Z"
   },
   {
    "duration": 15,
    "start_time": "2021-09-17T09:10:31.747Z"
   },
   {
    "duration": 350,
    "start_time": "2021-09-17T09:11:07.287Z"
   },
   {
    "duration": 1127,
    "start_time": "2021-09-17T09:12:03.111Z"
   },
   {
    "duration": 69,
    "start_time": "2021-09-17T09:12:04.240Z"
   },
   {
    "duration": 3,
    "start_time": "2021-09-17T09:12:04.311Z"
   },
   {
    "duration": 10,
    "start_time": "2021-09-17T09:12:04.317Z"
   },
   {
    "duration": 26,
    "start_time": "2021-09-17T09:12:04.329Z"
   },
   {
    "duration": 15,
    "start_time": "2021-09-17T09:12:04.356Z"
   },
   {
    "duration": 35,
    "start_time": "2021-09-17T09:12:04.372Z"
   },
   {
    "duration": 19,
    "start_time": "2021-09-17T09:12:04.410Z"
   },
   {
    "duration": 18,
    "start_time": "2021-09-17T09:12:04.431Z"
   },
   {
    "duration": 53,
    "start_time": "2021-09-17T09:12:04.451Z"
   },
   {
    "duration": 12,
    "start_time": "2021-09-17T09:12:04.505Z"
   },
   {
    "duration": 40,
    "start_time": "2021-09-17T09:12:04.519Z"
   },
   {
    "duration": 294,
    "start_time": "2021-09-17T09:12:04.560Z"
   },
   {
    "duration": 22,
    "start_time": "2021-09-17T09:12:04.856Z"
   },
   {
    "duration": 16,
    "start_time": "2021-09-17T09:12:04.880Z"
   },
   {
    "duration": 12,
    "start_time": "2021-09-17T09:12:04.898Z"
   },
   {
    "duration": 50,
    "start_time": "2021-09-17T09:12:04.911Z"
   },
   {
    "duration": 511,
    "start_time": "2021-09-17T09:12:04.962Z"
   },
   {
    "duration": 21,
    "start_time": "2021-09-17T09:12:05.474Z"
   },
   {
    "duration": 12,
    "start_time": "2021-09-17T09:12:05.496Z"
   },
   {
    "duration": 1408,
    "start_time": "2021-09-17T09:12:05.509Z"
   },
   {
    "duration": 450,
    "start_time": "2021-09-17T09:12:06.919Z"
   },
   {
    "duration": 24,
    "start_time": "2021-09-17T09:12:07.372Z"
   },
   {
    "duration": 749,
    "start_time": "2021-09-17T09:12:07.398Z"
   },
   {
    "duration": 11,
    "start_time": "2021-09-17T09:12:08.149Z"
   },
   {
    "duration": 9,
    "start_time": "2021-09-17T09:12:08.162Z"
   },
   {
    "duration": 8,
    "start_time": "2021-09-17T09:12:08.172Z"
   },
   {
    "duration": 13,
    "start_time": "2021-09-17T09:12:08.181Z"
   },
   {
    "duration": 53,
    "start_time": "2021-09-17T09:12:08.196Z"
   },
   {
    "duration": 14,
    "start_time": "2021-09-17T09:12:08.251Z"
   },
   {
    "duration": 13,
    "start_time": "2021-09-17T09:12:08.267Z"
   },
   {
    "duration": 12,
    "start_time": "2021-09-17T09:12:08.282Z"
   },
   {
    "duration": 426,
    "start_time": "2021-09-17T09:12:22.452Z"
   },
   {
    "duration": 336,
    "start_time": "2021-09-17T09:12:33.568Z"
   },
   {
    "duration": 333,
    "start_time": "2021-09-17T09:12:37.452Z"
   },
   {
    "duration": 504,
    "start_time": "2021-09-17T09:12:41.283Z"
   },
   {
    "duration": 32,
    "start_time": "2021-09-17T09:13:55.390Z"
   },
   {
    "duration": 347,
    "start_time": "2021-09-17T09:14:20.881Z"
   },
   {
    "duration": 277,
    "start_time": "2021-09-17T09:14:21.353Z"
   },
   {
    "duration": 32,
    "start_time": "2021-09-17T09:14:32.534Z"
   },
   {
    "duration": 33,
    "start_time": "2021-09-17T09:14:32.825Z"
   },
   {
    "duration": 34,
    "start_time": "2021-09-17T09:16:08.396Z"
   },
   {
    "duration": 34,
    "start_time": "2021-09-17T09:16:34.877Z"
   },
   {
    "duration": 34,
    "start_time": "2021-09-17T09:17:09.900Z"
   },
   {
    "duration": 33,
    "start_time": "2021-09-17T09:17:32.341Z"
   },
   {
    "duration": 285,
    "start_time": "2021-09-17T09:19:39.490Z"
   },
   {
    "duration": 24,
    "start_time": "2021-09-17T09:19:50.482Z"
   },
   {
    "duration": 25,
    "start_time": "2021-09-17T09:20:04.907Z"
   },
   {
    "duration": 23,
    "start_time": "2021-09-17T09:21:18.971Z"
   },
   {
    "duration": 39,
    "start_time": "2021-09-17T09:21:39.856Z"
   },
   {
    "duration": 33,
    "start_time": "2021-09-17T09:22:37.397Z"
   },
   {
    "duration": 9,
    "start_time": "2021-09-17T09:25:07.170Z"
   },
   {
    "duration": 4,
    "start_time": "2021-09-17T09:25:10.218Z"
   },
   {
    "duration": 8,
    "start_time": "2021-09-17T09:25:30.250Z"
   },
   {
    "duration": 5,
    "start_time": "2021-09-17T09:25:33.490Z"
   },
   {
    "duration": 8,
    "start_time": "2021-09-17T09:25:35.530Z"
   },
   {
    "duration": 5,
    "start_time": "2021-09-17T09:25:38.653Z"
   },
   {
    "duration": 6,
    "start_time": "2021-09-17T09:26:13.260Z"
   },
   {
    "duration": 9,
    "start_time": "2021-09-17T09:27:22.235Z"
   },
   {
    "duration": 1169,
    "start_time": "2021-09-17T09:27:26.977Z"
   },
   {
    "duration": 75,
    "start_time": "2021-09-17T09:27:28.148Z"
   },
   {
    "duration": 23,
    "start_time": "2021-09-17T09:27:28.226Z"
   },
   {
    "duration": 3,
    "start_time": "2021-09-17T09:27:28.251Z"
   },
   {
    "duration": 9,
    "start_time": "2021-09-17T09:27:28.256Z"
   },
   {
    "duration": 39,
    "start_time": "2021-09-17T09:27:28.266Z"
   },
   {
    "duration": 26,
    "start_time": "2021-09-17T09:27:28.307Z"
   },
   {
    "duration": 42,
    "start_time": "2021-09-17T09:27:28.337Z"
   },
   {
    "duration": 31,
    "start_time": "2021-09-17T09:27:28.382Z"
   },
   {
    "duration": 53,
    "start_time": "2021-09-17T09:27:28.414Z"
   },
   {
    "duration": 15,
    "start_time": "2021-09-17T09:27:28.469Z"
   },
   {
    "duration": 37,
    "start_time": "2021-09-17T09:27:28.486Z"
   },
   {
    "duration": 303,
    "start_time": "2021-09-17T09:27:28.525Z"
   },
   {
    "duration": 33,
    "start_time": "2021-09-17T09:27:28.830Z"
   },
   {
    "duration": 18,
    "start_time": "2021-09-17T09:27:28.865Z"
   },
   {
    "duration": 15,
    "start_time": "2021-09-17T09:27:28.884Z"
   },
   {
    "duration": 50,
    "start_time": "2021-09-17T09:27:28.900Z"
   },
   {
    "duration": 504,
    "start_time": "2021-09-17T09:27:28.952Z"
   },
   {
    "duration": 23,
    "start_time": "2021-09-17T09:27:29.458Z"
   },
   {
    "duration": 14,
    "start_time": "2021-09-17T09:27:29.483Z"
   },
   {
    "duration": 1537,
    "start_time": "2021-09-17T09:27:29.499Z"
   },
   {
    "duration": 500,
    "start_time": "2021-09-17T09:27:31.038Z"
   },
   {
    "duration": 28,
    "start_time": "2021-09-17T09:27:31.541Z"
   },
   {
    "duration": 833,
    "start_time": "2021-09-17T09:27:31.572Z"
   },
   {
    "duration": 9,
    "start_time": "2021-09-17T09:27:32.407Z"
   },
   {
    "duration": 34,
    "start_time": "2021-09-17T09:27:32.418Z"
   },
   {
    "duration": 21,
    "start_time": "2021-09-17T09:27:32.453Z"
   },
   {
    "duration": 35,
    "start_time": "2021-09-17T09:27:32.475Z"
   },
   {
    "duration": 19,
    "start_time": "2021-09-17T09:27:32.512Z"
   },
   {
    "duration": 37,
    "start_time": "2021-09-17T09:27:32.533Z"
   },
   {
    "duration": 30,
    "start_time": "2021-09-17T09:27:32.572Z"
   },
   {
    "duration": 46,
    "start_time": "2021-09-17T09:27:32.604Z"
   },
   {
    "duration": 7,
    "start_time": "2021-09-17T09:27:32.651Z"
   },
   {
    "duration": 44,
    "start_time": "2021-09-17T09:27:32.660Z"
   },
   {
    "duration": 30,
    "start_time": "2021-09-17T09:27:32.706Z"
   },
   {
    "duration": 10,
    "start_time": "2021-09-17T09:28:08.026Z"
   },
   {
    "duration": 9,
    "start_time": "2021-09-17T09:28:09.122Z"
   },
   {
    "duration": 11,
    "start_time": "2021-09-17T09:28:16.477Z"
   },
   {
    "duration": 11,
    "start_time": "2021-09-17T09:28:16.892Z"
   },
   {
    "duration": 4,
    "start_time": "2021-09-17T09:28:17.340Z"
   },
   {
    "duration": 11,
    "start_time": "2021-09-17T09:28:33.712Z"
   },
   {
    "duration": 4,
    "start_time": "2021-09-17T09:28:34.238Z"
   },
   {
    "duration": 11,
    "start_time": "2021-09-17T09:28:35.733Z"
   },
   {
    "duration": 10,
    "start_time": "2021-09-17T09:28:36.057Z"
   },
   {
    "duration": 5,
    "start_time": "2021-09-17T09:28:36.473Z"
   },
   {
    "duration": 346,
    "start_time": "2021-09-17T09:29:37.543Z"
   },
   {
    "duration": 3,
    "start_time": "2021-09-17T09:29:48.967Z"
   },
   {
    "duration": 284,
    "start_time": "2021-09-17T09:30:00.902Z"
   },
   {
    "duration": 287,
    "start_time": "2021-09-17T09:30:02.650Z"
   },
   {
    "duration": 7,
    "start_time": "2021-09-17T09:30:11.958Z"
   },
   {
    "duration": 298,
    "start_time": "2021-09-17T09:30:29.894Z"
   },
   {
    "duration": 290,
    "start_time": "2021-09-17T09:31:09.675Z"
   },
   {
    "duration": 255,
    "start_time": "2021-09-17T09:33:26.534Z"
   },
   {
    "duration": 268,
    "start_time": "2021-09-17T09:33:33.629Z"
   },
   {
    "duration": 1150,
    "start_time": "2021-09-17T09:33:42.087Z"
   },
   {
    "duration": 69,
    "start_time": "2021-09-17T09:33:43.239Z"
   },
   {
    "duration": 3,
    "start_time": "2021-09-17T09:33:43.310Z"
   },
   {
    "duration": 6,
    "start_time": "2021-09-17T09:33:43.315Z"
   },
   {
    "duration": 8,
    "start_time": "2021-09-17T09:33:43.323Z"
   },
   {
    "duration": 21,
    "start_time": "2021-09-17T09:33:43.333Z"
   },
   {
    "duration": 16,
    "start_time": "2021-09-17T09:33:43.356Z"
   },
   {
    "duration": 18,
    "start_time": "2021-09-17T09:33:43.374Z"
   },
   {
    "duration": 19,
    "start_time": "2021-09-17T09:33:43.394Z"
   },
   {
    "duration": 81,
    "start_time": "2021-09-17T09:33:43.415Z"
   },
   {
    "duration": 13,
    "start_time": "2021-09-17T09:33:43.497Z"
   },
   {
    "duration": 21,
    "start_time": "2021-09-17T09:33:43.511Z"
   },
   {
    "duration": 300,
    "start_time": "2021-09-17T09:33:43.549Z"
   },
   {
    "duration": 23,
    "start_time": "2021-09-17T09:33:43.851Z"
   },
   {
    "duration": 17,
    "start_time": "2021-09-17T09:33:43.876Z"
   },
   {
    "duration": 13,
    "start_time": "2021-09-17T09:33:43.895Z"
   },
   {
    "duration": 50,
    "start_time": "2021-09-17T09:33:43.909Z"
   },
   {
    "duration": 509,
    "start_time": "2021-09-17T09:33:43.961Z"
   },
   {
    "duration": 21,
    "start_time": "2021-09-17T09:33:44.472Z"
   },
   {
    "duration": 12,
    "start_time": "2021-09-17T09:33:44.495Z"
   },
   {
    "duration": 1435,
    "start_time": "2021-09-17T09:33:44.508Z"
   },
   {
    "duration": 437,
    "start_time": "2021-09-17T09:33:45.944Z"
   },
   {
    "duration": 24,
    "start_time": "2021-09-17T09:33:46.384Z"
   },
   {
    "duration": 843,
    "start_time": "2021-09-17T09:33:46.410Z"
   },
   {
    "duration": 9,
    "start_time": "2021-09-17T09:33:47.254Z"
   },
   {
    "duration": 9,
    "start_time": "2021-09-17T09:33:47.264Z"
   },
   {
    "duration": 9,
    "start_time": "2021-09-17T09:33:47.274Z"
   },
   {
    "duration": 13,
    "start_time": "2021-09-17T09:33:47.284Z"
   },
   {
    "duration": 13,
    "start_time": "2021-09-17T09:33:47.299Z"
   },
   {
    "duration": 31,
    "start_time": "2021-09-17T09:33:47.349Z"
   },
   {
    "duration": 28,
    "start_time": "2021-09-17T09:33:47.382Z"
   },
   {
    "duration": 57,
    "start_time": "2021-09-17T09:33:47.412Z"
   },
   {
    "duration": 401,
    "start_time": "2021-09-17T09:33:47.471Z"
   },
   {
    "duration": -105021,
    "start_time": "2021-09-17T09:35:32.895Z"
   },
   {
    "duration": -105021,
    "start_time": "2021-09-17T09:35:32.896Z"
   },
   {
    "duration": 417,
    "start_time": "2021-09-17T09:36:38.617Z"
   },
   {
    "duration": 329,
    "start_time": "2021-09-17T09:36:49.541Z"
   },
   {
    "duration": 9,
    "start_time": "2021-09-17T09:36:53.113Z"
   },
   {
    "duration": 266,
    "start_time": "2021-09-17T09:37:21.257Z"
   },
   {
    "duration": 246,
    "start_time": "2021-09-17T09:37:25.593Z"
   },
   {
    "duration": 8,
    "start_time": "2021-09-17T09:37:39.705Z"
   },
   {
    "duration": 25,
    "start_time": "2021-09-17T09:37:48.693Z"
   },
   {
    "duration": 21,
    "start_time": "2021-09-17T09:37:58.074Z"
   },
   {
    "duration": 267,
    "start_time": "2021-09-17T09:38:06.894Z"
   },
   {
    "duration": 10,
    "start_time": "2021-09-17T09:38:10.405Z"
   },
   {
    "duration": 245,
    "start_time": "2021-09-17T09:38:21.662Z"
   },
   {
    "duration": 11,
    "start_time": "2021-09-17T09:38:27.707Z"
   },
   {
    "duration": 6,
    "start_time": "2021-09-17T09:38:28.422Z"
   },
   {
    "duration": 25,
    "start_time": "2021-09-17T09:38:42.014Z"
   },
   {
    "duration": 11,
    "start_time": "2021-09-17T09:39:03.833Z"
   },
   {
    "duration": 11,
    "start_time": "2021-09-17T09:39:12.811Z"
   },
   {
    "duration": 8,
    "start_time": "2021-09-17T09:39:52.024Z"
   },
   {
    "duration": 8,
    "start_time": "2021-09-17T09:39:52.508Z"
   },
   {
    "duration": 4,
    "start_time": "2021-09-17T09:39:52.936Z"
   },
   {
    "duration": 15,
    "start_time": "2021-09-17T09:40:34.040Z"
   },
   {
    "duration": 15,
    "start_time": "2021-09-17T09:41:07.369Z"
   },
   {
    "duration": 343,
    "start_time": "2021-09-17T16:01:54.940Z"
   },
   {
    "duration": 1226,
    "start_time": "2021-09-17T16:02:02.676Z"
   },
   {
    "duration": 85,
    "start_time": "2021-09-17T16:02:03.904Z"
   },
   {
    "duration": 3,
    "start_time": "2021-09-17T16:02:03.991Z"
   },
   {
    "duration": 17,
    "start_time": "2021-09-17T16:02:03.996Z"
   },
   {
    "duration": 74,
    "start_time": "2021-09-17T16:02:04.014Z"
   },
   {
    "duration": 8,
    "start_time": "2021-09-17T16:02:04.090Z"
   },
   {
    "duration": 16,
    "start_time": "2021-09-17T16:02:04.100Z"
   },
   {
    "duration": 410,
    "start_time": "2021-09-17T16:02:04.119Z"
   },
   {
    "duration": -104673,
    "start_time": "2021-09-17T16:03:49.205Z"
   },
   {
    "duration": -104678,
    "start_time": "2021-09-17T16:03:49.211Z"
   },
   {
    "duration": -104679,
    "start_time": "2021-09-17T16:03:49.213Z"
   },
   {
    "duration": -104679,
    "start_time": "2021-09-17T16:03:49.214Z"
   },
   {
    "duration": -104679,
    "start_time": "2021-09-17T16:03:49.215Z"
   },
   {
    "duration": -104680,
    "start_time": "2021-09-17T16:03:49.217Z"
   },
   {
    "duration": -104681,
    "start_time": "2021-09-17T16:03:49.218Z"
   },
   {
    "duration": -104682,
    "start_time": "2021-09-17T16:03:49.220Z"
   },
   {
    "duration": -104683,
    "start_time": "2021-09-17T16:03:49.222Z"
   },
   {
    "duration": -104684,
    "start_time": "2021-09-17T16:03:49.224Z"
   },
   {
    "duration": -104684,
    "start_time": "2021-09-17T16:03:49.225Z"
   },
   {
    "duration": -104685,
    "start_time": "2021-09-17T16:03:49.227Z"
   },
   {
    "duration": -104685,
    "start_time": "2021-09-17T16:03:49.228Z"
   },
   {
    "duration": -104686,
    "start_time": "2021-09-17T16:03:49.230Z"
   },
   {
    "duration": -104688,
    "start_time": "2021-09-17T16:03:49.232Z"
   },
   {
    "duration": -104688,
    "start_time": "2021-09-17T16:03:49.233Z"
   },
   {
    "duration": -104689,
    "start_time": "2021-09-17T16:03:49.235Z"
   },
   {
    "duration": -104689,
    "start_time": "2021-09-17T16:03:49.236Z"
   },
   {
    "duration": -104691,
    "start_time": "2021-09-17T16:03:49.238Z"
   },
   {
    "duration": -104691,
    "start_time": "2021-09-17T16:03:49.240Z"
   },
   {
    "duration": -104692,
    "start_time": "2021-09-17T16:03:49.242Z"
   },
   {
    "duration": -104692,
    "start_time": "2021-09-17T16:03:49.243Z"
   },
   {
    "duration": -104699,
    "start_time": "2021-09-17T16:03:49.251Z"
   },
   {
    "duration": -104700,
    "start_time": "2021-09-17T16:03:49.253Z"
   },
   {
    "duration": -104700,
    "start_time": "2021-09-17T16:03:49.255Z"
   },
   {
    "duration": -104701,
    "start_time": "2021-09-17T16:03:49.257Z"
   },
   {
    "duration": 1194,
    "start_time": "2021-09-17T16:02:45.096Z"
   },
   {
    "duration": 81,
    "start_time": "2021-09-17T16:02:46.292Z"
   },
   {
    "duration": 3,
    "start_time": "2021-09-17T16:02:46.374Z"
   },
   {
    "duration": 13,
    "start_time": "2021-09-17T16:02:46.379Z"
   },
   {
    "duration": 11,
    "start_time": "2021-09-17T16:02:46.394Z"
   },
   {
    "duration": 18,
    "start_time": "2021-09-17T16:02:46.407Z"
   },
   {
    "duration": 31,
    "start_time": "2021-09-17T16:02:46.427Z"
   },
   {
    "duration": 58,
    "start_time": "2021-09-17T16:02:46.460Z"
   },
   {
    "duration": 46,
    "start_time": "2021-09-17T16:02:46.520Z"
   },
   {
    "duration": 14,
    "start_time": "2021-09-17T16:02:46.568Z"
   },
   {
    "duration": 22,
    "start_time": "2021-09-17T16:02:46.583Z"
   },
   {
    "duration": 395,
    "start_time": "2021-09-17T16:02:46.607Z"
   },
   {
    "duration": 26,
    "start_time": "2021-09-17T16:02:47.004Z"
   },
   {
    "duration": 38,
    "start_time": "2021-09-17T16:02:47.032Z"
   },
   {
    "duration": 15,
    "start_time": "2021-09-17T16:02:47.072Z"
   },
   {
    "duration": 25,
    "start_time": "2021-09-17T16:02:47.090Z"
   },
   {
    "duration": 582,
    "start_time": "2021-09-17T16:02:47.117Z"
   },
   {
    "duration": 22,
    "start_time": "2021-09-17T16:02:47.702Z"
   },
   {
    "duration": 32,
    "start_time": "2021-09-17T16:02:47.725Z"
   },
   {
    "duration": 1526,
    "start_time": "2021-09-17T16:02:47.758Z"
   },
   {
    "duration": 501,
    "start_time": "2021-09-17T16:02:49.286Z"
   },
   {
    "duration": 24,
    "start_time": "2021-09-17T16:02:49.791Z"
   },
   {
    "duration": 897,
    "start_time": "2021-09-17T16:02:49.817Z"
   },
   {
    "duration": 10,
    "start_time": "2021-09-17T16:02:50.717Z"
   },
   {
    "duration": 33,
    "start_time": "2021-09-17T16:02:50.729Z"
   },
   {
    "duration": 7,
    "start_time": "2021-09-17T16:02:50.764Z"
   },
   {
    "duration": 14,
    "start_time": "2021-09-17T16:02:50.773Z"
   },
   {
    "duration": 13,
    "start_time": "2021-09-17T16:02:50.789Z"
   },
   {
    "duration": 70,
    "start_time": "2021-09-17T16:02:50.803Z"
   },
   {
    "duration": 34,
    "start_time": "2021-09-17T16:02:50.875Z"
   },
   {
    "duration": 66,
    "start_time": "2021-09-17T16:02:50.911Z"
   },
   {
    "duration": 23,
    "start_time": "2021-09-17T16:02:50.979Z"
   },
   {
    "duration": 31,
    "start_time": "2021-09-17T16:02:51.004Z"
   },
   {
    "duration": 31,
    "start_time": "2021-09-17T16:02:51.037Z"
   },
   {
    "duration": 2133,
    "start_time": "2021-09-17T16:04:10.566Z"
   },
   {
    "duration": -104685,
    "start_time": "2021-09-17T16:05:57.386Z"
   },
   {
    "duration": 1297,
    "start_time": "2021-09-17T16:04:23.228Z"
   },
   {
    "duration": 85,
    "start_time": "2021-09-17T16:04:24.527Z"
   },
   {
    "duration": 4,
    "start_time": "2021-09-17T16:04:24.614Z"
   },
   {
    "duration": 34,
    "start_time": "2021-09-17T16:04:24.619Z"
   },
   {
    "duration": 24,
    "start_time": "2021-09-17T16:04:24.656Z"
   },
   {
    "duration": 40,
    "start_time": "2021-09-17T16:04:24.682Z"
   },
   {
    "duration": 55,
    "start_time": "2021-09-17T16:04:24.724Z"
   },
   {
    "duration": 373,
    "start_time": "2021-09-17T16:04:24.782Z"
   },
   {
    "duration": -104699,
    "start_time": "2021-09-17T16:06:09.859Z"
   },
   {
    "duration": -104710,
    "start_time": "2021-09-17T16:06:09.872Z"
   },
   {
    "duration": -104711,
    "start_time": "2021-09-17T16:06:09.874Z"
   },
   {
    "duration": -104711,
    "start_time": "2021-09-17T16:06:09.876Z"
   },
   {
    "duration": -104712,
    "start_time": "2021-09-17T16:06:09.878Z"
   },
   {
    "duration": -104712,
    "start_time": "2021-09-17T16:06:09.879Z"
   },
   {
    "duration": -104712,
    "start_time": "2021-09-17T16:06:09.880Z"
   },
   {
    "duration": -104715,
    "start_time": "2021-09-17T16:06:09.883Z"
   },
   {
    "duration": -104719,
    "start_time": "2021-09-17T16:06:09.888Z"
   },
   {
    "duration": -104720,
    "start_time": "2021-09-17T16:06:09.890Z"
   },
   {
    "duration": -104721,
    "start_time": "2021-09-17T16:06:09.892Z"
   },
   {
    "duration": -104721,
    "start_time": "2021-09-17T16:06:09.893Z"
   },
   {
    "duration": -104721,
    "start_time": "2021-09-17T16:06:09.894Z"
   },
   {
    "duration": -104722,
    "start_time": "2021-09-17T16:06:09.896Z"
   },
   {
    "duration": -104722,
    "start_time": "2021-09-17T16:06:09.897Z"
   },
   {
    "duration": -104724,
    "start_time": "2021-09-17T16:06:09.900Z"
   },
   {
    "duration": -104728,
    "start_time": "2021-09-17T16:06:09.905Z"
   },
   {
    "duration": -104729,
    "start_time": "2021-09-17T16:06:09.907Z"
   },
   {
    "duration": -104729,
    "start_time": "2021-09-17T16:06:09.908Z"
   },
   {
    "duration": -104730,
    "start_time": "2021-09-17T16:06:09.910Z"
   },
   {
    "duration": -104730,
    "start_time": "2021-09-17T16:06:09.911Z"
   },
   {
    "duration": -104730,
    "start_time": "2021-09-17T16:06:09.912Z"
   },
   {
    "duration": -104732,
    "start_time": "2021-09-17T16:06:09.914Z"
   },
   {
    "duration": -104733,
    "start_time": "2021-09-17T16:06:09.916Z"
   },
   {
    "duration": -104737,
    "start_time": "2021-09-17T16:06:09.921Z"
   },
   {
    "duration": -104738,
    "start_time": "2021-09-17T16:06:09.923Z"
   },
   {
    "duration": 48,
    "start_time": "2021-09-17T16:04:42.137Z"
   },
   {
    "duration": 291,
    "start_time": "2021-09-17T16:04:42.770Z"
   },
   {
    "duration": 1271,
    "start_time": "2021-09-17T16:04:49.653Z"
   },
   {
    "duration": 89,
    "start_time": "2021-09-17T16:04:50.926Z"
   },
   {
    "duration": 3,
    "start_time": "2021-09-17T16:04:51.017Z"
   },
   {
    "duration": 11,
    "start_time": "2021-09-17T16:04:51.022Z"
   },
   {
    "duration": 21,
    "start_time": "2021-09-17T16:04:51.034Z"
   },
   {
    "duration": 29,
    "start_time": "2021-09-17T16:04:51.057Z"
   },
   {
    "duration": 46,
    "start_time": "2021-09-17T16:04:51.088Z"
   },
   {
    "duration": 358,
    "start_time": "2021-09-17T16:04:51.137Z"
   },
   {
    "duration": -104671,
    "start_time": "2021-09-17T16:06:36.169Z"
   },
   {
    "duration": -104676,
    "start_time": "2021-09-17T16:06:36.175Z"
   },
   {
    "duration": -104676,
    "start_time": "2021-09-17T16:06:36.177Z"
   },
   {
    "duration": -104676,
    "start_time": "2021-09-17T16:06:36.178Z"
   },
   {
    "duration": -104678,
    "start_time": "2021-09-17T16:06:36.180Z"
   },
   {
    "duration": -104679,
    "start_time": "2021-09-17T16:06:36.182Z"
   },
   {
    "duration": -104679,
    "start_time": "2021-09-17T16:06:36.184Z"
   },
   {
    "duration": -104679,
    "start_time": "2021-09-17T16:06:36.185Z"
   },
   {
    "duration": -104680,
    "start_time": "2021-09-17T16:06:36.186Z"
   },
   {
    "duration": -104680,
    "start_time": "2021-09-17T16:06:36.187Z"
   },
   {
    "duration": -104681,
    "start_time": "2021-09-17T16:06:36.189Z"
   },
   {
    "duration": -104682,
    "start_time": "2021-09-17T16:06:36.191Z"
   },
   {
    "duration": -104683,
    "start_time": "2021-09-17T16:06:36.193Z"
   },
   {
    "duration": -104683,
    "start_time": "2021-09-17T16:06:36.194Z"
   },
   {
    "duration": -104683,
    "start_time": "2021-09-17T16:06:36.195Z"
   },
   {
    "duration": -104683,
    "start_time": "2021-09-17T16:06:36.197Z"
   },
   {
    "duration": -104684,
    "start_time": "2021-09-17T16:06:36.198Z"
   },
   {
    "duration": -104685,
    "start_time": "2021-09-17T16:06:36.200Z"
   },
   {
    "duration": -104685,
    "start_time": "2021-09-17T16:06:36.201Z"
   },
   {
    "duration": -104686,
    "start_time": "2021-09-17T16:06:36.203Z"
   },
   {
    "duration": -104687,
    "start_time": "2021-09-17T16:06:36.205Z"
   },
   {
    "duration": -104687,
    "start_time": "2021-09-17T16:06:36.206Z"
   },
   {
    "duration": -104688,
    "start_time": "2021-09-17T16:06:36.208Z"
   },
   {
    "duration": -104689,
    "start_time": "2021-09-17T16:06:36.210Z"
   },
   {
    "duration": -104689,
    "start_time": "2021-09-17T16:06:36.211Z"
   },
   {
    "duration": -104690,
    "start_time": "2021-09-17T16:06:36.213Z"
   },
   {
    "duration": 267,
    "start_time": "2021-09-17T16:05:45.239Z"
   },
   {
    "duration": 21,
    "start_time": "2021-09-17T16:06:01.688Z"
   },
   {
    "duration": 328,
    "start_time": "2021-09-17T16:06:40.080Z"
   },
   {
    "duration": 21,
    "start_time": "2021-09-17T16:06:49.744Z"
   },
   {
    "duration": 1268,
    "start_time": "2021-09-17T16:07:01.316Z"
   },
   {
    "duration": 86,
    "start_time": "2021-09-17T16:07:02.586Z"
   },
   {
    "duration": 4,
    "start_time": "2021-09-17T16:07:02.674Z"
   },
   {
    "duration": 16,
    "start_time": "2021-09-17T16:07:02.681Z"
   },
   {
    "duration": 12,
    "start_time": "2021-09-17T16:07:02.699Z"
   },
   {
    "duration": 22,
    "start_time": "2021-09-17T16:07:02.713Z"
   },
   {
    "duration": 61,
    "start_time": "2021-09-17T16:07:02.737Z"
   },
   {
    "duration": 19,
    "start_time": "2021-09-17T16:07:02.801Z"
   },
   {
    "duration": 42,
    "start_time": "2021-09-17T16:07:02.822Z"
   },
   {
    "duration": 14,
    "start_time": "2021-09-17T16:07:02.866Z"
   },
   {
    "duration": 23,
    "start_time": "2021-09-17T16:07:02.882Z"
   },
   {
    "duration": 360,
    "start_time": "2021-09-17T16:07:02.907Z"
   },
   {
    "duration": 27,
    "start_time": "2021-09-17T16:07:03.269Z"
   },
   {
    "duration": 19,
    "start_time": "2021-09-17T16:07:03.298Z"
   },
   {
    "duration": 42,
    "start_time": "2021-09-17T16:07:03.318Z"
   },
   {
    "duration": 25,
    "start_time": "2021-09-17T16:07:03.362Z"
   },
   {
    "duration": 609,
    "start_time": "2021-09-17T16:07:03.389Z"
   },
   {
    "duration": 26,
    "start_time": "2021-09-17T16:07:04.000Z"
   },
   {
    "duration": 35,
    "start_time": "2021-09-17T16:07:04.028Z"
   },
   {
    "duration": 1854,
    "start_time": "2021-09-17T16:07:04.065Z"
   },
   {
    "duration": 505,
    "start_time": "2021-09-17T16:07:05.920Z"
   },
   {
    "duration": 30,
    "start_time": "2021-09-17T16:07:06.426Z"
   },
   {
    "duration": 810,
    "start_time": "2021-09-17T16:07:06.460Z"
   },
   {
    "duration": 11,
    "start_time": "2021-09-17T16:07:07.272Z"
   },
   {
    "duration": 10,
    "start_time": "2021-09-17T16:07:07.285Z"
   },
   {
    "duration": 18,
    "start_time": "2021-09-17T16:07:07.297Z"
   },
   {
    "duration": 43,
    "start_time": "2021-09-17T16:07:07.317Z"
   },
   {
    "duration": 16,
    "start_time": "2021-09-17T16:07:07.362Z"
   },
   {
    "duration": 35,
    "start_time": "2021-09-17T16:07:07.380Z"
   },
   {
    "duration": 60,
    "start_time": "2021-09-17T16:07:07.417Z"
   },
   {
    "duration": 38,
    "start_time": "2021-09-17T16:07:07.479Z"
   },
   {
    "duration": 57,
    "start_time": "2021-09-17T16:07:07.519Z"
   },
   {
    "duration": 13,
    "start_time": "2021-09-17T16:07:07.578Z"
   },
   {
    "duration": 13,
    "start_time": "2021-09-17T16:07:07.593Z"
   },
   {
    "duration": 359,
    "start_time": "2021-09-17T16:10:41.434Z"
   },
   {
    "duration": 264,
    "start_time": "2021-09-17T16:10:47.875Z"
   },
   {
    "duration": 18,
    "start_time": "2021-09-17T16:11:02.450Z"
   },
   {
    "duration": 25,
    "start_time": "2021-09-17T16:13:00.900Z"
   },
   {
    "duration": 2,
    "start_time": "2021-09-17T16:14:15.536Z"
   },
   {
    "duration": 28,
    "start_time": "2021-09-17T16:14:28.797Z"
   },
   {
    "duration": 6775,
    "start_time": "2021-09-17T16:15:01.342Z"
   },
   {
    "duration": 9965,
    "start_time": "2021-09-17T16:15:14.706Z"
   },
   {
    "duration": 30,
    "start_time": "2021-09-17T16:15:27.142Z"
   },
   {
    "duration": 1309,
    "start_time": "2021-09-17T16:15:40.557Z"
   },
   {
    "duration": 96,
    "start_time": "2021-09-17T16:15:41.868Z"
   },
   {
    "duration": 3,
    "start_time": "2021-09-17T16:15:41.966Z"
   },
   {
    "duration": 24,
    "start_time": "2021-09-17T16:15:41.971Z"
   },
   {
    "duration": 31,
    "start_time": "2021-09-17T16:15:41.997Z"
   },
   {
    "duration": 23,
    "start_time": "2021-09-17T16:15:42.030Z"
   },
   {
    "duration": 52,
    "start_time": "2021-09-17T16:15:42.055Z"
   },
   {
    "duration": 20,
    "start_time": "2021-09-17T16:15:42.110Z"
   },
   {
    "duration": 35,
    "start_time": "2021-09-17T16:15:42.132Z"
   },
   {
    "duration": 20,
    "start_time": "2021-09-17T16:15:42.169Z"
   },
   {
    "duration": 28,
    "start_time": "2021-09-17T16:15:42.192Z"
   },
   {
    "duration": 375,
    "start_time": "2021-09-17T16:15:42.222Z"
   },
   {
    "duration": 23,
    "start_time": "2021-09-17T16:15:42.599Z"
   },
   {
    "duration": 39,
    "start_time": "2021-09-17T16:15:42.624Z"
   },
   {
    "duration": 13,
    "start_time": "2021-09-17T16:15:42.665Z"
   },
   {
    "duration": 23,
    "start_time": "2021-09-17T16:15:42.680Z"
   },
   {
    "duration": 686,
    "start_time": "2021-09-17T16:15:42.706Z"
   },
   {
    "duration": 25,
    "start_time": "2021-09-17T16:15:43.394Z"
   },
   {
    "duration": 45,
    "start_time": "2021-09-17T16:15:43.421Z"
   },
   {
    "duration": 1646,
    "start_time": "2021-09-17T16:15:43.468Z"
   },
   {
    "duration": 499,
    "start_time": "2021-09-17T16:15:45.116Z"
   },
   {
    "duration": 38,
    "start_time": "2021-09-17T16:15:45.616Z"
   },
   {
    "duration": 833,
    "start_time": "2021-09-17T16:15:45.660Z"
   },
   {
    "duration": 12,
    "start_time": "2021-09-17T16:15:46.495Z"
   },
   {
    "duration": 11,
    "start_time": "2021-09-17T16:15:46.509Z"
   },
   {
    "duration": 34,
    "start_time": "2021-09-17T16:15:46.523Z"
   },
   {
    "duration": 18,
    "start_time": "2021-09-17T16:15:46.559Z"
   },
   {
    "duration": 17,
    "start_time": "2021-09-17T16:15:46.579Z"
   },
   {
    "duration": 65,
    "start_time": "2021-09-17T16:15:46.598Z"
   },
   {
    "duration": 31,
    "start_time": "2021-09-17T16:15:46.665Z"
   },
   {
    "duration": 69,
    "start_time": "2021-09-17T16:15:46.698Z"
   },
   {
    "duration": 23,
    "start_time": "2021-09-17T16:15:46.769Z"
   },
   {
    "duration": 17,
    "start_time": "2021-09-17T16:15:46.794Z"
   },
   {
    "duration": 42,
    "start_time": "2021-09-17T16:15:46.813Z"
   },
   {
    "duration": 1257,
    "start_time": "2021-09-17T16:16:38.030Z"
   },
   {
    "duration": 23,
    "start_time": "2021-09-17T16:17:33.103Z"
   },
   {
    "duration": 22,
    "start_time": "2021-09-17T16:17:38.294Z"
   },
   {
    "duration": 119,
    "start_time": "2021-09-17T16:32:27.665Z"
   },
   {
    "duration": 83,
    "start_time": "2021-09-17T16:34:06.156Z"
   },
   {
    "duration": 3,
    "start_time": "2021-09-17T16:35:50.805Z"
   },
   {
    "duration": 101,
    "start_time": "2021-09-18T07:10:04.847Z"
   },
   {
    "duration": 1717,
    "start_time": "2021-09-18T07:10:28.727Z"
   },
   {
    "duration": 132,
    "start_time": "2021-09-18T07:10:30.447Z"
   },
   {
    "duration": 5,
    "start_time": "2021-09-18T07:10:30.581Z"
   },
   {
    "duration": 10,
    "start_time": "2021-09-18T07:10:30.616Z"
   },
   {
    "duration": 20,
    "start_time": "2021-09-18T07:10:30.628Z"
   },
   {
    "duration": 31,
    "start_time": "2021-09-18T07:10:30.651Z"
   },
   {
    "duration": 76,
    "start_time": "2021-09-18T07:10:30.685Z"
   },
   {
    "duration": 6,
    "start_time": "2021-09-18T07:10:30.764Z"
   },
   {
    "duration": 51,
    "start_time": "2021-09-18T07:16:26.724Z"
   },
   {
    "duration": 115,
    "start_time": "2021-09-18T07:16:26.777Z"
   },
   {
    "duration": 21,
    "start_time": "2021-09-18T07:16:26.895Z"
   },
   {
    "duration": 13,
    "start_time": "2021-09-18T07:16:26.919Z"
   },
   {
    "duration": 10,
    "start_time": "2021-09-18T07:16:26.935Z"
   },
   {
    "duration": 15,
    "start_time": "2021-09-18T07:16:26.947Z"
   },
   {
    "duration": 102,
    "start_time": "2021-09-18T07:16:26.964Z"
   },
   {
    "duration": 7,
    "start_time": "2021-09-18T07:16:27.069Z"
   },
   {
    "duration": 50,
    "start_time": "2021-09-18T07:16:27.079Z"
   },
   {
    "duration": 26,
    "start_time": "2021-09-18T07:16:27.131Z"
   },
   {
    "duration": 56,
    "start_time": "2021-09-18T07:16:27.160Z"
   },
   {
    "duration": 17,
    "start_time": "2021-09-18T07:16:27.219Z"
   },
   {
    "duration": 524,
    "start_time": "2021-09-18T07:16:27.238Z"
   },
   {
    "duration": 36,
    "start_time": "2021-09-18T07:16:27.764Z"
   },
   {
    "duration": 25,
    "start_time": "2021-09-18T07:16:27.817Z"
   },
   {
    "duration": 21,
    "start_time": "2021-09-18T07:16:27.844Z"
   },
   {
    "duration": 64,
    "start_time": "2021-09-18T07:16:27.867Z"
   },
   {
    "duration": 1933,
    "start_time": "2021-09-18T07:16:27.933Z"
   },
   {
    "duration": 909,
    "start_time": "2021-09-18T07:16:29.868Z"
   },
   {
    "duration": 22518,
    "start_time": "2021-09-18T07:16:40.609Z"
   },
   {
    "duration": 403,
    "start_time": "2021-09-18T07:19:42.686Z"
   },
   {
    "duration": 329,
    "start_time": "2021-09-18T07:19:54.087Z"
   },
   {
    "duration": 100,
    "start_time": "2021-09-18T07:32:27.358Z"
   },
   {
    "duration": 49,
    "start_time": "2021-09-18T07:34:59.649Z"
   },
   {
    "duration": 133,
    "start_time": "2021-09-18T07:34:59.700Z"
   },
   {
    "duration": 4,
    "start_time": "2021-09-18T07:34:59.836Z"
   },
   {
    "duration": 18,
    "start_time": "2021-09-18T07:34:59.842Z"
   },
   {
    "duration": 10,
    "start_time": "2021-09-18T07:34:59.862Z"
   },
   {
    "duration": 43,
    "start_time": "2021-09-18T07:34:59.875Z"
   },
   {
    "duration": 61,
    "start_time": "2021-09-18T07:34:59.920Z"
   },
   {
    "duration": 31,
    "start_time": "2021-09-18T07:34:59.985Z"
   },
   {
    "duration": 37,
    "start_time": "2021-09-18T07:35:00.019Z"
   },
   {
    "duration": 27,
    "start_time": "2021-09-18T07:35:00.059Z"
   },
   {
    "duration": 30,
    "start_time": "2021-09-18T07:35:00.116Z"
   },
   {
    "duration": 18,
    "start_time": "2021-09-18T07:35:00.148Z"
   },
   {
    "duration": 548,
    "start_time": "2021-09-18T07:35:00.168Z"
   },
   {
    "duration": 44,
    "start_time": "2021-09-18T07:35:00.718Z"
   },
   {
    "duration": 25,
    "start_time": "2021-09-18T07:35:00.765Z"
   },
   {
    "duration": 21,
    "start_time": "2021-09-18T07:35:00.816Z"
   },
   {
    "duration": 43,
    "start_time": "2021-09-18T07:35:00.839Z"
   },
   {
    "duration": 2098,
    "start_time": "2021-09-18T07:35:00.885Z"
   },
   {
    "duration": 749,
    "start_time": "2021-09-18T07:35:02.986Z"
   },
   {
    "duration": 34,
    "start_time": "2021-09-18T07:35:03.737Z"
   },
   {
    "duration": 49,
    "start_time": "2021-09-18T07:35:03.773Z"
   },
   {
    "duration": 2366,
    "start_time": "2021-09-18T07:35:03.824Z"
   },
   {
    "duration": 828,
    "start_time": "2021-09-18T07:35:06.194Z"
   },
   {
    "duration": 46,
    "start_time": "2021-09-18T07:35:07.025Z"
   },
   {
    "duration": 1169,
    "start_time": "2021-09-18T07:35:07.074Z"
   },
   {
    "duration": 13,
    "start_time": "2021-09-18T07:35:08.246Z"
   },
   {
    "duration": 25,
    "start_time": "2021-09-18T07:35:08.261Z"
   },
   {
    "duration": 14,
    "start_time": "2021-09-18T07:35:08.289Z"
   },
   {
    "duration": 396,
    "start_time": "2021-09-18T07:35:08.305Z"
   },
   {
    "duration": 1358,
    "start_time": "2021-09-18T07:35:15.480Z"
   },
   {
    "duration": 1157,
    "start_time": "2021-09-18T10:57:49.817Z"
   },
   {
    "duration": 677,
    "start_time": "2021-09-18T11:01:14.970Z"
   },
   {
    "duration": 1065,
    "start_time": "2021-09-18T11:01:19.129Z"
   },
   {
    "duration": 73,
    "start_time": "2021-09-18T11:01:20.196Z"
   },
   {
    "duration": 2,
    "start_time": "2021-09-18T11:01:20.271Z"
   },
   {
    "duration": 33,
    "start_time": "2021-09-18T11:01:20.275Z"
   },
   {
    "duration": 9,
    "start_time": "2021-09-18T11:01:20.310Z"
   },
   {
    "duration": 13,
    "start_time": "2021-09-18T11:01:20.320Z"
   },
   {
    "duration": 27,
    "start_time": "2021-09-18T11:01:20.335Z"
   },
   {
    "duration": 4,
    "start_time": "2021-09-18T11:01:20.364Z"
   },
   {
    "duration": 34,
    "start_time": "2021-09-18T11:01:20.370Z"
   },
   {
    "duration": 25,
    "start_time": "2021-09-18T11:01:20.406Z"
   },
   {
    "duration": 17,
    "start_time": "2021-09-18T11:01:20.433Z"
   },
   {
    "duration": 20,
    "start_time": "2021-09-18T11:01:20.451Z"
   },
   {
    "duration": 46,
    "start_time": "2021-09-18T11:01:20.473Z"
   },
   {
    "duration": 331,
    "start_time": "2021-09-18T11:01:20.521Z"
   },
   {
    "duration": 24,
    "start_time": "2021-09-18T11:01:20.854Z"
   },
   {
    "duration": 36,
    "start_time": "2021-09-18T11:01:20.880Z"
   },
   {
    "duration": 13,
    "start_time": "2021-09-18T11:01:20.917Z"
   },
   {
    "duration": 22,
    "start_time": "2021-09-18T11:01:20.932Z"
   },
   {
    "duration": 1358,
    "start_time": "2021-09-18T11:01:20.956Z"
   },
   {
    "duration": 1193,
    "start_time": "2021-09-18T11:01:22.316Z"
   },
   {
    "duration": 27,
    "start_time": "2021-09-18T11:01:23.510Z"
   },
   {
    "duration": 66,
    "start_time": "2021-09-18T11:01:23.538Z"
   },
   {
    "duration": 1716,
    "start_time": "2021-09-18T11:01:23.607Z"
   },
   {
    "duration": 530,
    "start_time": "2021-09-18T11:01:25.326Z"
   },
   {
    "duration": 24,
    "start_time": "2021-09-18T11:01:25.858Z"
   },
   {
    "duration": 842,
    "start_time": "2021-09-18T11:01:25.884Z"
   },
   {
    "duration": 10,
    "start_time": "2021-09-18T11:01:26.727Z"
   },
   {
    "duration": 9,
    "start_time": "2021-09-18T11:01:26.738Z"
   },
   {
    "duration": 7,
    "start_time": "2021-09-18T11:01:26.749Z"
   },
   {
    "duration": 944,
    "start_time": "2021-09-18T11:01:26.757Z"
   },
   {
    "duration": 15,
    "start_time": "2021-09-18T11:01:27.702Z"
   },
   {
    "duration": 14,
    "start_time": "2021-09-18T11:01:27.719Z"
   },
   {
    "duration": 65,
    "start_time": "2021-09-18T11:01:27.734Z"
   },
   {
    "duration": 35,
    "start_time": "2021-09-18T11:01:27.809Z"
   },
   {
    "duration": 29,
    "start_time": "2021-09-18T11:01:27.846Z"
   },
   {
    "duration": 9,
    "start_time": "2021-09-18T11:01:27.877Z"
   },
   {
    "duration": 26,
    "start_time": "2021-09-18T11:01:27.900Z"
   },
   {
    "duration": 18,
    "start_time": "2021-09-18T11:01:27.928Z"
   },
   {
    "duration": 22,
    "start_time": "2021-09-18T11:01:36.684Z"
   },
   {
    "duration": 5,
    "start_time": "2021-09-18T11:01:51.491Z"
   },
   {
    "duration": 20,
    "start_time": "2021-09-18T11:01:56.662Z"
   },
   {
    "duration": 5,
    "start_time": "2021-09-18T11:02:32.160Z"
   },
   {
    "duration": 23,
    "start_time": "2021-09-18T11:03:58.200Z"
   },
   {
    "duration": 3742,
    "start_time": "2021-09-19T09:38:43.528Z"
   },
   {
    "duration": 77,
    "start_time": "2021-09-19T09:38:47.272Z"
   },
   {
    "duration": 3,
    "start_time": "2021-09-19T09:38:47.351Z"
   },
   {
    "duration": 23,
    "start_time": "2021-09-19T09:38:47.356Z"
   },
   {
    "duration": 7,
    "start_time": "2021-09-19T09:38:47.381Z"
   },
   {
    "duration": 15,
    "start_time": "2021-09-19T09:38:47.390Z"
   },
   {
    "duration": 32,
    "start_time": "2021-09-19T09:38:47.406Z"
   },
   {
    "duration": 39,
    "start_time": "2021-09-19T09:38:47.440Z"
   },
   {
    "duration": 5,
    "start_time": "2021-09-19T09:38:47.481Z"
   },
   {
    "duration": 20,
    "start_time": "2021-09-19T09:38:47.488Z"
   },
   {
    "duration": 22,
    "start_time": "2021-09-19T09:38:47.510Z"
   },
   {
    "duration": 24,
    "start_time": "2021-09-19T09:38:47.534Z"
   },
   {
    "duration": 29,
    "start_time": "2021-09-19T09:38:47.577Z"
   },
   {
    "duration": 18,
    "start_time": "2021-09-19T09:38:47.608Z"
   },
   {
    "duration": 369,
    "start_time": "2021-09-19T09:38:47.628Z"
   },
   {
    "duration": 27,
    "start_time": "2021-09-19T09:38:47.999Z"
   },
   {
    "duration": 19,
    "start_time": "2021-09-19T09:38:48.028Z"
   },
   {
    "duration": 39,
    "start_time": "2021-09-19T09:38:48.049Z"
   },
   {
    "duration": 23,
    "start_time": "2021-09-19T09:38:48.090Z"
   },
   {
    "duration": 1377,
    "start_time": "2021-09-19T09:38:48.115Z"
   },
   {
    "duration": 51560,
    "start_time": "2021-09-19T09:38:49.495Z"
   },
   {
    "duration": 43,
    "start_time": "2021-09-19T09:39:41.056Z"
   },
   {
    "duration": 15,
    "start_time": "2021-09-19T09:39:41.101Z"
   },
   {
    "duration": 958,
    "start_time": "2021-09-19T09:39:41.118Z"
   },
   {
    "duration": 436,
    "start_time": "2021-09-19T09:39:42.079Z"
   },
   {
    "duration": 30,
    "start_time": "2021-09-19T09:39:42.517Z"
   },
   {
    "duration": 977,
    "start_time": "2021-09-19T09:39:42.552Z"
   },
   {
    "duration": 8,
    "start_time": "2021-09-19T09:39:43.531Z"
   },
   {
    "duration": 16,
    "start_time": "2021-09-19T09:39:43.541Z"
   },
   {
    "duration": 19,
    "start_time": "2021-09-19T09:39:43.558Z"
   },
   {
    "duration": 868,
    "start_time": "2021-09-19T09:39:43.579Z"
   },
   {
    "duration": 13,
    "start_time": "2021-09-19T09:39:44.449Z"
   },
   {
    "duration": 13,
    "start_time": "2021-09-19T09:39:44.476Z"
   },
   {
    "duration": 33,
    "start_time": "2021-09-19T09:39:44.491Z"
   },
   {
    "duration": 62,
    "start_time": "2021-09-19T09:39:44.526Z"
   },
   {
    "duration": 33,
    "start_time": "2021-09-19T09:39:44.589Z"
   }
  ],
  "kernelspec": {
   "display_name": "Python 3 (ipykernel)",
   "language": "python",
   "name": "python3"
  },
  "language_info": {
   "codemirror_mode": {
    "name": "ipython",
    "version": 3
   },
   "file_extension": ".py",
   "mimetype": "text/x-python",
   "name": "python",
   "nbconvert_exporter": "python",
   "pygments_lexer": "ipython3",
   "version": "3.9.5"
  },
  "toc": {
   "base_numbering": 1,
   "nav_menu": {},
   "number_sections": true,
   "sideBar": true,
   "skip_h1_title": true,
   "title_cell": "Содержание",
   "title_sidebar": "Contents",
   "toc_cell": true,
   "toc_position": {},
   "toc_section_display": true,
   "toc_window_display": false
  }
 },
 "nbformat": 4,
 "nbformat_minor": 2
}
