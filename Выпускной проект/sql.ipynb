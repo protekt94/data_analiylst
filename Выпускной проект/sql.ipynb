{
 "cells": [
  {
   "cell_type": "markdown",
   "id": "b64ef246",
   "metadata": {
    "toc": true
   },
   "source": [
    "<h1>Содержание<span class=\"tocSkip\"></span></h1>\n",
    "<div class=\"toc\"><ul class=\"toc-item\"><li><span><a href=\"#Цели-и-задачи\" data-toc-modified-id=\"Цели-и-задачи-1\"><span class=\"toc-item-num\">1&nbsp;&nbsp;</span>Цели и задачи</a></span></li><li><span><a href=\"#Импорт-данных\" data-toc-modified-id=\"Импорт-данных-2\"><span class=\"toc-item-num\">2&nbsp;&nbsp;</span>Импорт данных</a></span></li><li><span><a href=\"#Выполнение-заданий\" data-toc-modified-id=\"Выполнение-заданий-3\"><span class=\"toc-item-num\">3&nbsp;&nbsp;</span>Выполнение заданий</a></span><ul class=\"toc-item\"><li><span><a href=\"#Количество-книг-вышедшие-после-1-января-2000-года\" data-toc-modified-id=\"Количество-книг-вышедшие-после-1-января-2000-года-3.1\"><span class=\"toc-item-num\">3.1&nbsp;&nbsp;</span>Количество книг вышедшие после 1 января 2000 года</a></span></li><li><span><a href=\"#Количество-обзор-и-средняя-оценка-для-каждой-книги\" data-toc-modified-id=\"Количество-обзор-и-средняя-оценка-для-каждой-книги-3.2\"><span class=\"toc-item-num\">3.2&nbsp;&nbsp;</span>Количество обзор и средняя оценка для каждой книги</a></span></li><li><span><a href=\"#Издательство,которое-выпустило-наибольшое-количество-книг\" data-toc-modified-id=\"Издательство,которое-выпустило-наибольшое-количество-книг-3.3\"><span class=\"toc-item-num\">3.3&nbsp;&nbsp;</span>Издательство,которое выпустило наибольшое количество книг</a></span></li><li><span><a href=\"#Автор-с-самой-высокой-оценкой\" data-toc-modified-id=\"Автор-с-самой-высокой-оценкой-3.4\"><span class=\"toc-item-num\">3.4&nbsp;&nbsp;</span>Автор с самой высокой оценкой</a></span></li><li><span><a href=\"#Среднее-количество-оценок-от-каждого-пользователя\" data-toc-modified-id=\"Среднее-количество-оценок-от-каждого-пользователя-3.5\"><span class=\"toc-item-num\">3.5&nbsp;&nbsp;</span>Среднее количество оценок от каждого пользователя</a></span></li><li><span><a href=\"#Вывод\" data-toc-modified-id=\"Вывод-3.6\"><span class=\"toc-item-num\">3.6&nbsp;&nbsp;</span>Вывод</a></span></li></ul></li></ul></div>"
   ]
  },
  {
   "cell_type": "markdown",
   "id": "5c806c2c",
   "metadata": {},
   "source": [
    "# Цели и задачи"
   ]
  },
  {
   "cell_type": "markdown",
   "id": "1bff5971",
   "metadata": {},
   "source": [
    "Коронавирус застал мир врасплох, изменив привычный порядок вещей. В свободное время жители городов больше не выходят на улицу, не посещают кафе и торговые центры. Зато стало больше времени для книг. Это заметили стартаперы — и бросились создавать приложения для тех, кто любит читать.\n",
    "\n",
    "Ваша компания решила быть на волне и купила крупный сервис для чтения книг по подписке. Ваша первая задача как аналитика — проанализировать базу данных.\n",
    "В ней — информация о книгах, издательствах, авторах, а также пользовательские обзоры книг. Эти данные помогут сформулировать ценностное предложение для нового продукта."
   ]
  },
  {
   "cell_type": "markdown",
   "id": "383b4170",
   "metadata": {},
   "source": [
    "- Посчитайте, сколько книг вышло после 1 января 2000 года;\n",
    "- Для каждой книги посчитайте количество обзоров и среднюю оценку;\n",
    "- Определите издательство, которое выпустило наибольшее число книг толще 50 страниц — так вы исключите из анализа брошюры;\n",
    "- Определите автора с самой высокой средней оценкой книг — учитывайте только книги с 50 и более оценками;\n",
    "- Посчитайте среднее количество обзоров от пользователей, которые поставили больше 50 оценок."
   ]
  },
  {
   "cell_type": "markdown",
   "id": "5361403c",
   "metadata": {},
   "source": [
    "# Импорт данных"
   ]
  },
  {
   "cell_type": "code",
   "execution_count": 1,
   "id": "67b11790",
   "metadata": {},
   "outputs": [],
   "source": [
    "import pandas as pd \n",
    "from sqlalchemy import create_engine"
   ]
  },
  {
   "cell_type": "code",
   "execution_count": 2,
   "id": "fe985e9b",
   "metadata": {},
   "outputs": [],
   "source": [
    "# устанавливаем параметры\n",
    "db_config = {'user': 'praktikum_student', # имя пользователя\n",
    " 'pwd': 'Sdf4$2;d-d30pp', # пароль\n",
    " 'host': 'rc1b-wcoijxj3yxfsf3fs.mdb.yandexcloud.net',\n",
    " 'port': 6432, # порт подключения\n",
    " 'db': 'data-analyst-final-project-db'} # название базы данных\n",
    "connection_string = 'postgresql://{}:{}@{}:{}/{}'.format(db_config['user'],\n",
    " db_config['pwd'],\n",
    " db_config['host'],\n",
    " db_config['port'],\n",
    " db_config['db'])\n",
    "# сохраняем коннектор\n",
    "engine = create_engine(connection_string, connect_args={'sslmode':'require'})"
   ]
  },
  {
   "cell_type": "code",
   "execution_count": 3,
   "id": "23fa1f78",
   "metadata": {},
   "outputs": [
    {
     "data": {
      "text/html": [
       "<div>\n",
       "<style scoped>\n",
       "    .dataframe tbody tr th:only-of-type {\n",
       "        vertical-align: middle;\n",
       "    }\n",
       "\n",
       "    .dataframe tbody tr th {\n",
       "        vertical-align: top;\n",
       "    }\n",
       "\n",
       "    .dataframe thead th {\n",
       "        text-align: right;\n",
       "    }\n",
       "</style>\n",
       "<table border=\"1\" class=\"dataframe\">\n",
       "  <thead>\n",
       "    <tr style=\"text-align: right;\">\n",
       "      <th></th>\n",
       "      <th>book_id</th>\n",
       "      <th>author_id</th>\n",
       "      <th>title</th>\n",
       "      <th>num_pages</th>\n",
       "      <th>publication_date</th>\n",
       "      <th>publisher_id</th>\n",
       "    </tr>\n",
       "  </thead>\n",
       "  <tbody>\n",
       "    <tr>\n",
       "      <td>0</td>\n",
       "      <td>1</td>\n",
       "      <td>546</td>\n",
       "      <td>'Salem's Lot</td>\n",
       "      <td>594</td>\n",
       "      <td>2005-11-01</td>\n",
       "      <td>93</td>\n",
       "    </tr>\n",
       "    <tr>\n",
       "      <td>1</td>\n",
       "      <td>2</td>\n",
       "      <td>465</td>\n",
       "      <td>1 000 Places to See Before You Die</td>\n",
       "      <td>992</td>\n",
       "      <td>2003-05-22</td>\n",
       "      <td>336</td>\n",
       "    </tr>\n",
       "    <tr>\n",
       "      <td>2</td>\n",
       "      <td>3</td>\n",
       "      <td>407</td>\n",
       "      <td>13 Little Blue Envelopes (Little Blue Envelope...</td>\n",
       "      <td>322</td>\n",
       "      <td>2010-12-21</td>\n",
       "      <td>135</td>\n",
       "    </tr>\n",
       "    <tr>\n",
       "      <td>3</td>\n",
       "      <td>4</td>\n",
       "      <td>82</td>\n",
       "      <td>1491: New Revelations of the Americas Before C...</td>\n",
       "      <td>541</td>\n",
       "      <td>2006-10-10</td>\n",
       "      <td>309</td>\n",
       "    </tr>\n",
       "    <tr>\n",
       "      <td>4</td>\n",
       "      <td>5</td>\n",
       "      <td>125</td>\n",
       "      <td>1776</td>\n",
       "      <td>386</td>\n",
       "      <td>2006-07-04</td>\n",
       "      <td>268</td>\n",
       "    </tr>\n",
       "    <tr>\n",
       "      <td>...</td>\n",
       "      <td>...</td>\n",
       "      <td>...</td>\n",
       "      <td>...</td>\n",
       "      <td>...</td>\n",
       "      <td>...</td>\n",
       "      <td>...</td>\n",
       "    </tr>\n",
       "    <tr>\n",
       "      <td>995</td>\n",
       "      <td>996</td>\n",
       "      <td>571</td>\n",
       "      <td>Wyrd Sisters (Discworld  #6; Witches #2)</td>\n",
       "      <td>265</td>\n",
       "      <td>2001-02-06</td>\n",
       "      <td>147</td>\n",
       "    </tr>\n",
       "    <tr>\n",
       "      <td>996</td>\n",
       "      <td>997</td>\n",
       "      <td>454</td>\n",
       "      <td>Xenocide (Ender's Saga  #3)</td>\n",
       "      <td>592</td>\n",
       "      <td>1996-07-15</td>\n",
       "      <td>297</td>\n",
       "    </tr>\n",
       "    <tr>\n",
       "      <td>997</td>\n",
       "      <td>998</td>\n",
       "      <td>201</td>\n",
       "      <td>Year of Wonders</td>\n",
       "      <td>358</td>\n",
       "      <td>2002-04-30</td>\n",
       "      <td>212</td>\n",
       "    </tr>\n",
       "    <tr>\n",
       "      <td>998</td>\n",
       "      <td>999</td>\n",
       "      <td>94</td>\n",
       "      <td>You Suck (A Love Story  #2)</td>\n",
       "      <td>328</td>\n",
       "      <td>2007-01-16</td>\n",
       "      <td>331</td>\n",
       "    </tr>\n",
       "    <tr>\n",
       "      <td>999</td>\n",
       "      <td>1000</td>\n",
       "      <td>509</td>\n",
       "      <td>Zen and the Art of Motorcycle Maintenance: An ...</td>\n",
       "      <td>540</td>\n",
       "      <td>2006-04-25</td>\n",
       "      <td>143</td>\n",
       "    </tr>\n",
       "  </tbody>\n",
       "</table>\n",
       "<p>1000 rows × 6 columns</p>\n",
       "</div>"
      ],
      "text/plain": [
       "     book_id  author_id                                              title  \\\n",
       "0          1        546                                       'Salem's Lot   \n",
       "1          2        465                 1 000 Places to See Before You Die   \n",
       "2          3        407  13 Little Blue Envelopes (Little Blue Envelope...   \n",
       "3          4         82  1491: New Revelations of the Americas Before C...   \n",
       "4          5        125                                               1776   \n",
       "..       ...        ...                                                ...   \n",
       "995      996        571           Wyrd Sisters (Discworld  #6; Witches #2)   \n",
       "996      997        454                        Xenocide (Ender's Saga  #3)   \n",
       "997      998        201                                    Year of Wonders   \n",
       "998      999         94                        You Suck (A Love Story  #2)   \n",
       "999     1000        509  Zen and the Art of Motorcycle Maintenance: An ...   \n",
       "\n",
       "     num_pages publication_date  publisher_id  \n",
       "0          594       2005-11-01            93  \n",
       "1          992       2003-05-22           336  \n",
       "2          322       2010-12-21           135  \n",
       "3          541       2006-10-10           309  \n",
       "4          386       2006-07-04           268  \n",
       "..         ...              ...           ...  \n",
       "995        265       2001-02-06           147  \n",
       "996        592       1996-07-15           297  \n",
       "997        358       2002-04-30           212  \n",
       "998        328       2007-01-16           331  \n",
       "999        540       2006-04-25           143  \n",
       "\n",
       "[1000 rows x 6 columns]"
      ]
     },
     "metadata": {},
     "output_type": "display_data"
    },
    {
     "name": "stdout",
     "output_type": "stream",
     "text": [
      "<class 'pandas.core.frame.DataFrame'>\n",
      "RangeIndex: 1000 entries, 0 to 999\n",
      "Data columns (total 6 columns):\n",
      "book_id             1000 non-null int64\n",
      "author_id           1000 non-null int64\n",
      "title               1000 non-null object\n",
      "num_pages           1000 non-null int64\n",
      "publication_date    1000 non-null object\n",
      "publisher_id        1000 non-null int64\n",
      "dtypes: int64(4), object(2)\n",
      "memory usage: 47.0+ KB\n"
     ]
    },
    {
     "data": {
      "text/plain": [
       "None"
      ]
     },
     "metadata": {},
     "output_type": "display_data"
    }
   ],
   "source": [
    "books = pd.io.sql.read_sql('select * from books', con = engine) \n",
    "display(books)\n",
    "display(books.info())\n"
   ]
  },
  {
   "cell_type": "code",
   "execution_count": 4,
   "id": "af5e6bc5",
   "metadata": {},
   "outputs": [
    {
     "data": {
      "text/html": [
       "<div>\n",
       "<style scoped>\n",
       "    .dataframe tbody tr th:only-of-type {\n",
       "        vertical-align: middle;\n",
       "    }\n",
       "\n",
       "    .dataframe tbody tr th {\n",
       "        vertical-align: top;\n",
       "    }\n",
       "\n",
       "    .dataframe thead th {\n",
       "        text-align: right;\n",
       "    }\n",
       "</style>\n",
       "<table border=\"1\" class=\"dataframe\">\n",
       "  <thead>\n",
       "    <tr style=\"text-align: right;\">\n",
       "      <th></th>\n",
       "      <th>author_id</th>\n",
       "      <th>author</th>\n",
       "    </tr>\n",
       "  </thead>\n",
       "  <tbody>\n",
       "    <tr>\n",
       "      <td>0</td>\n",
       "      <td>1</td>\n",
       "      <td>A.S. Byatt</td>\n",
       "    </tr>\n",
       "    <tr>\n",
       "      <td>1</td>\n",
       "      <td>2</td>\n",
       "      <td>Aesop/Laura Harris/Laura Gibbs</td>\n",
       "    </tr>\n",
       "    <tr>\n",
       "      <td>2</td>\n",
       "      <td>3</td>\n",
       "      <td>Agatha Christie</td>\n",
       "    </tr>\n",
       "    <tr>\n",
       "      <td>3</td>\n",
       "      <td>4</td>\n",
       "      <td>Alan Brennert</td>\n",
       "    </tr>\n",
       "    <tr>\n",
       "      <td>4</td>\n",
       "      <td>5</td>\n",
       "      <td>Alan Moore/David   Lloyd</td>\n",
       "    </tr>\n",
       "    <tr>\n",
       "      <td>...</td>\n",
       "      <td>...</td>\n",
       "      <td>...</td>\n",
       "    </tr>\n",
       "    <tr>\n",
       "      <td>631</td>\n",
       "      <td>632</td>\n",
       "      <td>William Strunk Jr./E.B. White</td>\n",
       "    </tr>\n",
       "    <tr>\n",
       "      <td>632</td>\n",
       "      <td>633</td>\n",
       "      <td>Zadie Smith</td>\n",
       "    </tr>\n",
       "    <tr>\n",
       "      <td>633</td>\n",
       "      <td>634</td>\n",
       "      <td>Zilpha Keatley Snyder</td>\n",
       "    </tr>\n",
       "    <tr>\n",
       "      <td>634</td>\n",
       "      <td>635</td>\n",
       "      <td>Zora Neale Hurston</td>\n",
       "    </tr>\n",
       "    <tr>\n",
       "      <td>635</td>\n",
       "      <td>636</td>\n",
       "      <td>Åsne Seierstad/Ingrid Christopherson</td>\n",
       "    </tr>\n",
       "  </tbody>\n",
       "</table>\n",
       "<p>636 rows × 2 columns</p>\n",
       "</div>"
      ],
      "text/plain": [
       "     author_id                                author\n",
       "0            1                            A.S. Byatt\n",
       "1            2        Aesop/Laura Harris/Laura Gibbs\n",
       "2            3                       Agatha Christie\n",
       "3            4                         Alan Brennert\n",
       "4            5              Alan Moore/David   Lloyd\n",
       "..         ...                                   ...\n",
       "631        632         William Strunk Jr./E.B. White\n",
       "632        633                           Zadie Smith\n",
       "633        634                 Zilpha Keatley Snyder\n",
       "634        635                    Zora Neale Hurston\n",
       "635        636  Åsne Seierstad/Ingrid Christopherson\n",
       "\n",
       "[636 rows x 2 columns]"
      ]
     },
     "metadata": {},
     "output_type": "display_data"
    },
    {
     "name": "stdout",
     "output_type": "stream",
     "text": [
      "<class 'pandas.core.frame.DataFrame'>\n",
      "RangeIndex: 636 entries, 0 to 635\n",
      "Data columns (total 2 columns):\n",
      "author_id    636 non-null int64\n",
      "author       636 non-null object\n",
      "dtypes: int64(1), object(1)\n",
      "memory usage: 10.1+ KB\n"
     ]
    },
    {
     "data": {
      "text/plain": [
       "None"
      ]
     },
     "metadata": {},
     "output_type": "display_data"
    }
   ],
   "source": [
    "authors = pd.io.sql.read_sql('select * from authors', con = engine) \n",
    "display(authors)\n",
    "display(authors.info())"
   ]
  },
  {
   "cell_type": "code",
   "execution_count": 5,
   "id": "075fad98",
   "metadata": {},
   "outputs": [
    {
     "data": {
      "text/html": [
       "<div>\n",
       "<style scoped>\n",
       "    .dataframe tbody tr th:only-of-type {\n",
       "        vertical-align: middle;\n",
       "    }\n",
       "\n",
       "    .dataframe tbody tr th {\n",
       "        vertical-align: top;\n",
       "    }\n",
       "\n",
       "    .dataframe thead th {\n",
       "        text-align: right;\n",
       "    }\n",
       "</style>\n",
       "<table border=\"1\" class=\"dataframe\">\n",
       "  <thead>\n",
       "    <tr style=\"text-align: right;\">\n",
       "      <th></th>\n",
       "      <th>publisher_id</th>\n",
       "      <th>publisher</th>\n",
       "    </tr>\n",
       "  </thead>\n",
       "  <tbody>\n",
       "    <tr>\n",
       "      <td>0</td>\n",
       "      <td>1</td>\n",
       "      <td>Ace</td>\n",
       "    </tr>\n",
       "    <tr>\n",
       "      <td>1</td>\n",
       "      <td>2</td>\n",
       "      <td>Ace Book</td>\n",
       "    </tr>\n",
       "    <tr>\n",
       "      <td>2</td>\n",
       "      <td>3</td>\n",
       "      <td>Ace Books</td>\n",
       "    </tr>\n",
       "    <tr>\n",
       "      <td>3</td>\n",
       "      <td>4</td>\n",
       "      <td>Ace Hardcover</td>\n",
       "    </tr>\n",
       "    <tr>\n",
       "      <td>4</td>\n",
       "      <td>5</td>\n",
       "      <td>Addison Wesley Publishing Company</td>\n",
       "    </tr>\n",
       "    <tr>\n",
       "      <td>...</td>\n",
       "      <td>...</td>\n",
       "      <td>...</td>\n",
       "    </tr>\n",
       "    <tr>\n",
       "      <td>335</td>\n",
       "      <td>336</td>\n",
       "      <td>Workman Publishing Company</td>\n",
       "    </tr>\n",
       "    <tr>\n",
       "      <td>336</td>\n",
       "      <td>337</td>\n",
       "      <td>Wyatt Book</td>\n",
       "    </tr>\n",
       "    <tr>\n",
       "      <td>337</td>\n",
       "      <td>338</td>\n",
       "      <td>Yale University Press</td>\n",
       "    </tr>\n",
       "    <tr>\n",
       "      <td>338</td>\n",
       "      <td>339</td>\n",
       "      <td>Yearling</td>\n",
       "    </tr>\n",
       "    <tr>\n",
       "      <td>339</td>\n",
       "      <td>340</td>\n",
       "      <td>Yearling Books</td>\n",
       "    </tr>\n",
       "  </tbody>\n",
       "</table>\n",
       "<p>340 rows × 2 columns</p>\n",
       "</div>"
      ],
      "text/plain": [
       "     publisher_id                          publisher\n",
       "0               1                                Ace\n",
       "1               2                           Ace Book\n",
       "2               3                          Ace Books\n",
       "3               4                      Ace Hardcover\n",
       "4               5  Addison Wesley Publishing Company\n",
       "..            ...                                ...\n",
       "335           336         Workman Publishing Company\n",
       "336           337                         Wyatt Book\n",
       "337           338              Yale University Press\n",
       "338           339                           Yearling\n",
       "339           340                     Yearling Books\n",
       "\n",
       "[340 rows x 2 columns]"
      ]
     },
     "metadata": {},
     "output_type": "display_data"
    },
    {
     "name": "stdout",
     "output_type": "stream",
     "text": [
      "<class 'pandas.core.frame.DataFrame'>\n",
      "RangeIndex: 340 entries, 0 to 339\n",
      "Data columns (total 2 columns):\n",
      "publisher_id    340 non-null int64\n",
      "publisher       340 non-null object\n",
      "dtypes: int64(1), object(1)\n",
      "memory usage: 5.4+ KB\n"
     ]
    },
    {
     "data": {
      "text/plain": [
       "None"
      ]
     },
     "metadata": {},
     "output_type": "display_data"
    }
   ],
   "source": [
    "publishers = pd.io.sql.read_sql('select * from publishers', con = engine) \n",
    "display(publishers)\n",
    "display(publishers.info())"
   ]
  },
  {
   "cell_type": "code",
   "execution_count": 6,
   "id": "e98f876c",
   "metadata": {},
   "outputs": [
    {
     "data": {
      "text/html": [
       "<div>\n",
       "<style scoped>\n",
       "    .dataframe tbody tr th:only-of-type {\n",
       "        vertical-align: middle;\n",
       "    }\n",
       "\n",
       "    .dataframe tbody tr th {\n",
       "        vertical-align: top;\n",
       "    }\n",
       "\n",
       "    .dataframe thead th {\n",
       "        text-align: right;\n",
       "    }\n",
       "</style>\n",
       "<table border=\"1\" class=\"dataframe\">\n",
       "  <thead>\n",
       "    <tr style=\"text-align: right;\">\n",
       "      <th></th>\n",
       "      <th>rating_id</th>\n",
       "      <th>book_id</th>\n",
       "      <th>username</th>\n",
       "      <th>rating</th>\n",
       "    </tr>\n",
       "  </thead>\n",
       "  <tbody>\n",
       "    <tr>\n",
       "      <td>0</td>\n",
       "      <td>1</td>\n",
       "      <td>1</td>\n",
       "      <td>ryanfranco</td>\n",
       "      <td>4</td>\n",
       "    </tr>\n",
       "    <tr>\n",
       "      <td>1</td>\n",
       "      <td>2</td>\n",
       "      <td>1</td>\n",
       "      <td>grantpatricia</td>\n",
       "      <td>2</td>\n",
       "    </tr>\n",
       "    <tr>\n",
       "      <td>2</td>\n",
       "      <td>3</td>\n",
       "      <td>1</td>\n",
       "      <td>brandtandrea</td>\n",
       "      <td>5</td>\n",
       "    </tr>\n",
       "    <tr>\n",
       "      <td>3</td>\n",
       "      <td>4</td>\n",
       "      <td>2</td>\n",
       "      <td>lorichen</td>\n",
       "      <td>3</td>\n",
       "    </tr>\n",
       "    <tr>\n",
       "      <td>4</td>\n",
       "      <td>5</td>\n",
       "      <td>2</td>\n",
       "      <td>mariokeller</td>\n",
       "      <td>2</td>\n",
       "    </tr>\n",
       "    <tr>\n",
       "      <td>...</td>\n",
       "      <td>...</td>\n",
       "      <td>...</td>\n",
       "      <td>...</td>\n",
       "      <td>...</td>\n",
       "    </tr>\n",
       "    <tr>\n",
       "      <td>6451</td>\n",
       "      <td>6452</td>\n",
       "      <td>1000</td>\n",
       "      <td>carolrodriguez</td>\n",
       "      <td>4</td>\n",
       "    </tr>\n",
       "    <tr>\n",
       "      <td>6452</td>\n",
       "      <td>6453</td>\n",
       "      <td>1000</td>\n",
       "      <td>wendy18</td>\n",
       "      <td>4</td>\n",
       "    </tr>\n",
       "    <tr>\n",
       "      <td>6453</td>\n",
       "      <td>6454</td>\n",
       "      <td>1000</td>\n",
       "      <td>jarvispaul</td>\n",
       "      <td>5</td>\n",
       "    </tr>\n",
       "    <tr>\n",
       "      <td>6454</td>\n",
       "      <td>6455</td>\n",
       "      <td>1000</td>\n",
       "      <td>zross</td>\n",
       "      <td>2</td>\n",
       "    </tr>\n",
       "    <tr>\n",
       "      <td>6455</td>\n",
       "      <td>6456</td>\n",
       "      <td>1000</td>\n",
       "      <td>fharris</td>\n",
       "      <td>5</td>\n",
       "    </tr>\n",
       "  </tbody>\n",
       "</table>\n",
       "<p>6456 rows × 4 columns</p>\n",
       "</div>"
      ],
      "text/plain": [
       "      rating_id  book_id        username  rating\n",
       "0             1        1      ryanfranco       4\n",
       "1             2        1   grantpatricia       2\n",
       "2             3        1    brandtandrea       5\n",
       "3             4        2        lorichen       3\n",
       "4             5        2     mariokeller       2\n",
       "...         ...      ...             ...     ...\n",
       "6451       6452     1000  carolrodriguez       4\n",
       "6452       6453     1000         wendy18       4\n",
       "6453       6454     1000      jarvispaul       5\n",
       "6454       6455     1000           zross       2\n",
       "6455       6456     1000         fharris       5\n",
       "\n",
       "[6456 rows x 4 columns]"
      ]
     },
     "metadata": {},
     "output_type": "display_data"
    },
    {
     "name": "stdout",
     "output_type": "stream",
     "text": [
      "<class 'pandas.core.frame.DataFrame'>\n",
      "RangeIndex: 6456 entries, 0 to 6455\n",
      "Data columns (total 4 columns):\n",
      "rating_id    6456 non-null int64\n",
      "book_id      6456 non-null int64\n",
      "username     6456 non-null object\n",
      "rating       6456 non-null int64\n",
      "dtypes: int64(3), object(1)\n",
      "memory usage: 201.9+ KB\n"
     ]
    },
    {
     "data": {
      "text/plain": [
       "None"
      ]
     },
     "metadata": {},
     "output_type": "display_data"
    }
   ],
   "source": [
    "ratings = pd.io.sql.read_sql('select * from ratings', con = engine) \n",
    "display(ratings)\n",
    "display(ratings.info())"
   ]
  },
  {
   "cell_type": "code",
   "execution_count": 7,
   "id": "0b5687e4",
   "metadata": {
    "scrolled": false
   },
   "outputs": [
    {
     "data": {
      "text/html": [
       "<div>\n",
       "<style scoped>\n",
       "    .dataframe tbody tr th:only-of-type {\n",
       "        vertical-align: middle;\n",
       "    }\n",
       "\n",
       "    .dataframe tbody tr th {\n",
       "        vertical-align: top;\n",
       "    }\n",
       "\n",
       "    .dataframe thead th {\n",
       "        text-align: right;\n",
       "    }\n",
       "</style>\n",
       "<table border=\"1\" class=\"dataframe\">\n",
       "  <thead>\n",
       "    <tr style=\"text-align: right;\">\n",
       "      <th></th>\n",
       "      <th>review_id</th>\n",
       "      <th>book_id</th>\n",
       "      <th>username</th>\n",
       "      <th>text</th>\n",
       "    </tr>\n",
       "  </thead>\n",
       "  <tbody>\n",
       "    <tr>\n",
       "      <td>0</td>\n",
       "      <td>1</td>\n",
       "      <td>1</td>\n",
       "      <td>brandtandrea</td>\n",
       "      <td>Mention society tell send professor analysis. ...</td>\n",
       "    </tr>\n",
       "    <tr>\n",
       "      <td>1</td>\n",
       "      <td>2</td>\n",
       "      <td>1</td>\n",
       "      <td>ryanfranco</td>\n",
       "      <td>Foot glass pretty audience hit themselves. Amo...</td>\n",
       "    </tr>\n",
       "    <tr>\n",
       "      <td>2</td>\n",
       "      <td>3</td>\n",
       "      <td>2</td>\n",
       "      <td>lorichen</td>\n",
       "      <td>Listen treat keep worry. Miss husband tax but ...</td>\n",
       "    </tr>\n",
       "    <tr>\n",
       "      <td>3</td>\n",
       "      <td>4</td>\n",
       "      <td>3</td>\n",
       "      <td>johnsonamanda</td>\n",
       "      <td>Finally month interesting blue could nature cu...</td>\n",
       "    </tr>\n",
       "    <tr>\n",
       "      <td>4</td>\n",
       "      <td>5</td>\n",
       "      <td>3</td>\n",
       "      <td>scotttamara</td>\n",
       "      <td>Nation purpose heavy give wait song will. List...</td>\n",
       "    </tr>\n",
       "    <tr>\n",
       "      <td>...</td>\n",
       "      <td>...</td>\n",
       "      <td>...</td>\n",
       "      <td>...</td>\n",
       "      <td>...</td>\n",
       "    </tr>\n",
       "    <tr>\n",
       "      <td>2788</td>\n",
       "      <td>2789</td>\n",
       "      <td>999</td>\n",
       "      <td>martinadam</td>\n",
       "      <td>Later hospital turn easy community. Fact same ...</td>\n",
       "    </tr>\n",
       "    <tr>\n",
       "      <td>2789</td>\n",
       "      <td>2790</td>\n",
       "      <td>1000</td>\n",
       "      <td>wknight</td>\n",
       "      <td>Change lose answer close pressure. Spend so now.</td>\n",
       "    </tr>\n",
       "    <tr>\n",
       "      <td>2790</td>\n",
       "      <td>2791</td>\n",
       "      <td>1000</td>\n",
       "      <td>carolrodriguez</td>\n",
       "      <td>Authority go who television entire hair guy po...</td>\n",
       "    </tr>\n",
       "    <tr>\n",
       "      <td>2791</td>\n",
       "      <td>2792</td>\n",
       "      <td>1000</td>\n",
       "      <td>wendy18</td>\n",
       "      <td>Or western offer wonder ask. More hear phone f...</td>\n",
       "    </tr>\n",
       "    <tr>\n",
       "      <td>2792</td>\n",
       "      <td>2793</td>\n",
       "      <td>1000</td>\n",
       "      <td>jarvispaul</td>\n",
       "      <td>Republican staff bit eat material measure plan...</td>\n",
       "    </tr>\n",
       "  </tbody>\n",
       "</table>\n",
       "<p>2793 rows × 4 columns</p>\n",
       "</div>"
      ],
      "text/plain": [
       "      review_id  book_id        username  \\\n",
       "0             1        1    brandtandrea   \n",
       "1             2        1      ryanfranco   \n",
       "2             3        2        lorichen   \n",
       "3             4        3   johnsonamanda   \n",
       "4             5        3     scotttamara   \n",
       "...         ...      ...             ...   \n",
       "2788       2789      999      martinadam   \n",
       "2789       2790     1000         wknight   \n",
       "2790       2791     1000  carolrodriguez   \n",
       "2791       2792     1000         wendy18   \n",
       "2792       2793     1000      jarvispaul   \n",
       "\n",
       "                                                   text  \n",
       "0     Mention society tell send professor analysis. ...  \n",
       "1     Foot glass pretty audience hit themselves. Amo...  \n",
       "2     Listen treat keep worry. Miss husband tax but ...  \n",
       "3     Finally month interesting blue could nature cu...  \n",
       "4     Nation purpose heavy give wait song will. List...  \n",
       "...                                                 ...  \n",
       "2788  Later hospital turn easy community. Fact same ...  \n",
       "2789   Change lose answer close pressure. Spend so now.  \n",
       "2790  Authority go who television entire hair guy po...  \n",
       "2791  Or western offer wonder ask. More hear phone f...  \n",
       "2792  Republican staff bit eat material measure plan...  \n",
       "\n",
       "[2793 rows x 4 columns]"
      ]
     },
     "metadata": {},
     "output_type": "display_data"
    },
    {
     "name": "stdout",
     "output_type": "stream",
     "text": [
      "<class 'pandas.core.frame.DataFrame'>\n",
      "RangeIndex: 2793 entries, 0 to 2792\n",
      "Data columns (total 4 columns):\n",
      "review_id    2793 non-null int64\n",
      "book_id      2793 non-null int64\n",
      "username     2793 non-null object\n",
      "text         2793 non-null object\n",
      "dtypes: int64(2), object(2)\n",
      "memory usage: 87.4+ KB\n"
     ]
    },
    {
     "data": {
      "text/plain": [
       "None"
      ]
     },
     "metadata": {},
     "output_type": "display_data"
    }
   ],
   "source": [
    "reviews = pd.io.sql.read_sql('select * from reviews', con = engine) \n",
    "display(reviews)\n",
    "display(reviews.info())"
   ]
  },
  {
   "cell_type": "markdown",
   "id": "1fdd26db",
   "metadata": {},
   "source": [
    "# Выполнение заданий"
   ]
  },
  {
   "cell_type": "code",
   "execution_count": 8,
   "id": "84503161",
   "metadata": {},
   "outputs": [],
   "source": [
    "def sql(request):\n",
    "    display(pd.io.sql.read_sql(request, con=engine))"
   ]
  },
  {
   "cell_type": "markdown",
   "id": "35817598",
   "metadata": {},
   "source": [
    "## Количество книг вышедшие после 1 января 2000 года"
   ]
  },
  {
   "cell_type": "code",
   "execution_count": 9,
   "id": "98ed4a41",
   "metadata": {
    "scrolled": false
   },
   "outputs": [
    {
     "data": {
      "text/html": [
       "<div>\n",
       "<style scoped>\n",
       "    .dataframe tbody tr th:only-of-type {\n",
       "        vertical-align: middle;\n",
       "    }\n",
       "\n",
       "    .dataframe tbody tr th {\n",
       "        vertical-align: top;\n",
       "    }\n",
       "\n",
       "    .dataframe thead th {\n",
       "        text-align: right;\n",
       "    }\n",
       "</style>\n",
       "<table border=\"1\" class=\"dataframe\">\n",
       "  <thead>\n",
       "    <tr style=\"text-align: right;\">\n",
       "      <th></th>\n",
       "      <th>count</th>\n",
       "    </tr>\n",
       "  </thead>\n",
       "  <tbody>\n",
       "    <tr>\n",
       "      <td>0</td>\n",
       "      <td>819</td>\n",
       "    </tr>\n",
       "  </tbody>\n",
       "</table>\n",
       "</div>"
      ],
      "text/plain": [
       "   count\n",
       "0    819"
      ]
     },
     "execution_count": 9,
     "metadata": {},
     "output_type": "execute_result"
    }
   ],
   "source": [
    "pd.io.sql.read_sql(\"SELECT count(book_id) \\\n",
    "                   FROM BOOKS \\\n",
    "                   where publication_date > '2000-01-01'\" , con = engine) "
   ]
  },
  {
   "cell_type": "markdown",
   "id": "29d23dfa",
   "metadata": {},
   "source": [
    "Количество книг, которые вышли после 1 января 2000 года"
   ]
  },
  {
   "cell_type": "markdown",
   "id": "b2a37810",
   "metadata": {},
   "source": [
    "## Количество обзор и средняя оценка для каждой книги"
   ]
  },
  {
   "cell_type": "code",
   "execution_count": 10,
   "id": "4947774b",
   "metadata": {},
   "outputs": [
    {
     "data": {
      "text/html": [
       "<div>\n",
       "<style scoped>\n",
       "    .dataframe tbody tr th:only-of-type {\n",
       "        vertical-align: middle;\n",
       "    }\n",
       "\n",
       "    .dataframe tbody tr th {\n",
       "        vertical-align: top;\n",
       "    }\n",
       "\n",
       "    .dataframe thead th {\n",
       "        text-align: right;\n",
       "    }\n",
       "</style>\n",
       "<table border=\"1\" class=\"dataframe\">\n",
       "  <thead>\n",
       "    <tr style=\"text-align: right;\">\n",
       "      <th></th>\n",
       "      <th>count</th>\n",
       "    </tr>\n",
       "  </thead>\n",
       "  <tbody>\n",
       "    <tr>\n",
       "      <td>0</td>\n",
       "      <td>994</td>\n",
       "    </tr>\n",
       "  </tbody>\n",
       "</table>\n",
       "</div>"
      ],
      "text/plain": [
       "   count\n",
       "0    994"
      ]
     },
     "metadata": {},
     "output_type": "display_data"
    }
   ],
   "source": [
    "sql('Select count(distinct(book_id)) from reviews')"
   ]
  },
  {
   "cell_type": "code",
   "execution_count": 11,
   "id": "59db0f29",
   "metadata": {},
   "outputs": [
    {
     "data": {
      "text/html": [
       "<div>\n",
       "<style scoped>\n",
       "    .dataframe tbody tr th:only-of-type {\n",
       "        vertical-align: middle;\n",
       "    }\n",
       "\n",
       "    .dataframe tbody tr th {\n",
       "        vertical-align: top;\n",
       "    }\n",
       "\n",
       "    .dataframe thead th {\n",
       "        text-align: right;\n",
       "    }\n",
       "</style>\n",
       "<table border=\"1\" class=\"dataframe\">\n",
       "  <thead>\n",
       "    <tr style=\"text-align: right;\">\n",
       "      <th></th>\n",
       "      <th>book_id</th>\n",
       "      <th>author_id</th>\n",
       "      <th>title</th>\n",
       "      <th>num_pages</th>\n",
       "      <th>publication_date</th>\n",
       "      <th>publisher_id</th>\n",
       "    </tr>\n",
       "  </thead>\n",
       "  <tbody>\n",
       "    <tr>\n",
       "      <td>0</td>\n",
       "      <td>426</td>\n",
       "      <td>39</td>\n",
       "      <td>Memoirs of a Geisha</td>\n",
       "      <td>434</td>\n",
       "      <td>2005-11-15</td>\n",
       "      <td>241</td>\n",
       "    </tr>\n",
       "    <tr>\n",
       "      <td>1</td>\n",
       "      <td>427</td>\n",
       "      <td>39</td>\n",
       "      <td>Memoirs of a Geisha</td>\n",
       "      <td>503</td>\n",
       "      <td>2005-11-22</td>\n",
       "      <td>311</td>\n",
       "    </tr>\n",
       "  </tbody>\n",
       "</table>\n",
       "</div>"
      ],
      "text/plain": [
       "   book_id  author_id                title  num_pages publication_date  \\\n",
       "0      426         39  Memoirs of a Geisha        434       2005-11-15   \n",
       "1      427         39  Memoirs of a Geisha        503       2005-11-22   \n",
       "\n",
       "   publisher_id  \n",
       "0           241  \n",
       "1           311  "
      ]
     },
     "metadata": {},
     "output_type": "display_data"
    }
   ],
   "source": [
    "sql('SELECT * FROM books WHERE title IN (SELECT title FROM books GROUP BY title HAVING COUNT(*) > 1) ORDER BY title')"
   ]
  },
  {
   "cell_type": "code",
   "execution_count": 12,
   "id": "c316bac3",
   "metadata": {
    "scrolled": false
   },
   "outputs": [
    {
     "data": {
      "text/html": [
       "<div>\n",
       "<style scoped>\n",
       "    .dataframe tbody tr th:only-of-type {\n",
       "        vertical-align: middle;\n",
       "    }\n",
       "\n",
       "    .dataframe tbody tr th {\n",
       "        vertical-align: top;\n",
       "    }\n",
       "\n",
       "    .dataframe thead th {\n",
       "        text-align: right;\n",
       "    }\n",
       "</style>\n",
       "<table border=\"1\" class=\"dataframe\">\n",
       "  <thead>\n",
       "    <tr style=\"text-align: right;\">\n",
       "      <th></th>\n",
       "      <th>title</th>\n",
       "      <th>round</th>\n",
       "      <th>review</th>\n",
       "    </tr>\n",
       "  </thead>\n",
       "  <tbody>\n",
       "    <tr>\n",
       "      <td>0</td>\n",
       "      <td>A Dirty Job (Grim Reaper  #1)</td>\n",
       "      <td>5.0</td>\n",
       "      <td>4</td>\n",
       "    </tr>\n",
       "    <tr>\n",
       "      <td>1</td>\n",
       "      <td>Moneyball: The Art of Winning an Unfair Game</td>\n",
       "      <td>5.0</td>\n",
       "      <td>3</td>\n",
       "    </tr>\n",
       "    <tr>\n",
       "      <td>2</td>\n",
       "      <td>School's Out—Forever (Maximum Ride  #2)</td>\n",
       "      <td>5.0</td>\n",
       "      <td>3</td>\n",
       "    </tr>\n",
       "    <tr>\n",
       "      <td>3</td>\n",
       "      <td>Arrows of the Queen (Heralds of Valdemar  #1)</td>\n",
       "      <td>5.0</td>\n",
       "      <td>2</td>\n",
       "    </tr>\n",
       "    <tr>\n",
       "      <td>4</td>\n",
       "      <td>Evening Class</td>\n",
       "      <td>5.0</td>\n",
       "      <td>2</td>\n",
       "    </tr>\n",
       "    <tr>\n",
       "      <td>...</td>\n",
       "      <td>...</td>\n",
       "      <td>...</td>\n",
       "      <td>...</td>\n",
       "    </tr>\n",
       "    <tr>\n",
       "      <td>994</td>\n",
       "      <td>The Kitchen God's Wife</td>\n",
       "      <td>2.3</td>\n",
       "      <td>3</td>\n",
       "    </tr>\n",
       "    <tr>\n",
       "      <td>995</td>\n",
       "      <td>Drowning Ruth</td>\n",
       "      <td>2.0</td>\n",
       "      <td>3</td>\n",
       "    </tr>\n",
       "    <tr>\n",
       "      <td>996</td>\n",
       "      <td>Junky</td>\n",
       "      <td>2.0</td>\n",
       "      <td>2</td>\n",
       "    </tr>\n",
       "    <tr>\n",
       "      <td>997</td>\n",
       "      <td>His Excellency: George Washington</td>\n",
       "      <td>2.0</td>\n",
       "      <td>2</td>\n",
       "    </tr>\n",
       "    <tr>\n",
       "      <td>998</td>\n",
       "      <td>Harvesting the Heart</td>\n",
       "      <td>1.5</td>\n",
       "      <td>2</td>\n",
       "    </tr>\n",
       "  </tbody>\n",
       "</table>\n",
       "<p>999 rows × 3 columns</p>\n",
       "</div>"
      ],
      "text/plain": [
       "                                             title  round  review\n",
       "0                    A Dirty Job (Grim Reaper  #1)    5.0       4\n",
       "1     Moneyball: The Art of Winning an Unfair Game    5.0       3\n",
       "2          School's Out—Forever (Maximum Ride  #2)    5.0       3\n",
       "3    Arrows of the Queen (Heralds of Valdemar  #1)    5.0       2\n",
       "4                                    Evening Class    5.0       2\n",
       "..                                             ...    ...     ...\n",
       "994                         The Kitchen God's Wife    2.3       3\n",
       "995                                  Drowning Ruth    2.0       3\n",
       "996                                          Junky    2.0       2\n",
       "997              His Excellency: George Washington    2.0       2\n",
       "998                           Harvesting the Heart    1.5       2\n",
       "\n",
       "[999 rows x 3 columns]"
      ]
     },
     "execution_count": 12,
     "metadata": {},
     "output_type": "execute_result"
    }
   ],
   "source": [
    "pd.io.sql.read_sql(\"SELECT b.title, ROUND(AVG(RT.RATING),1), COUNT(distinct(review_id)) as review \\\n",
    "from books b JOIN RATINGS RT ON B.BOOK_ID = RT.BOOK_ID \\\n",
    "left JOIN reviews RV ON b.BOOK_ID = RV.BOOK_ID GROUP BY TITLE order by round desc, review desc \" , con = engine) "
   ]
  },
  {
   "cell_type": "markdown",
   "id": "cfc8b3c0",
   "metadata": {},
   "source": [
    "Количество обзоров и средняя оценка для каждой книги. Как мы видим не на все книги есть обзоры и оценки"
   ]
  },
  {
   "cell_type": "markdown",
   "id": "3bf37b0b",
   "metadata": {},
   "source": [
    "## Издательство,которое выпустило наибольшое количество книг"
   ]
  },
  {
   "cell_type": "code",
   "execution_count": 13,
   "id": "4355c529",
   "metadata": {},
   "outputs": [
    {
     "data": {
      "text/html": [
       "<div>\n",
       "<style scoped>\n",
       "    .dataframe tbody tr th:only-of-type {\n",
       "        vertical-align: middle;\n",
       "    }\n",
       "\n",
       "    .dataframe tbody tr th {\n",
       "        vertical-align: top;\n",
       "    }\n",
       "\n",
       "    .dataframe thead th {\n",
       "        text-align: right;\n",
       "    }\n",
       "</style>\n",
       "<table border=\"1\" class=\"dataframe\">\n",
       "  <thead>\n",
       "    <tr style=\"text-align: right;\">\n",
       "      <th></th>\n",
       "      <th>count</th>\n",
       "      <th>publisher</th>\n",
       "    </tr>\n",
       "  </thead>\n",
       "  <tbody>\n",
       "    <tr>\n",
       "      <td>0</td>\n",
       "      <td>42</td>\n",
       "      <td>Penguin Books</td>\n",
       "    </tr>\n",
       "  </tbody>\n",
       "</table>\n",
       "</div>"
      ],
      "text/plain": [
       "   count      publisher\n",
       "0     42  Penguin Books"
      ]
     },
     "execution_count": 13,
     "metadata": {},
     "output_type": "execute_result"
    }
   ],
   "source": [
    "pd.io.sql.read_sql(\"SELECT count(book_id), \\\n",
    "publisher from books b JOIN publishers pb ON b.publisher_id = pb.publisher_id \\\n",
    "where num_pages>50 group by publisher order by count desc limit 1\" , con = engine) "
   ]
  },
  {
   "cell_type": "markdown",
   "id": "dd414013",
   "metadata": {},
   "source": [
    "Издательство, которые выпустило наибольшее количество книг толщиной более 50 страниц"
   ]
  },
  {
   "cell_type": "markdown",
   "id": "38851698",
   "metadata": {},
   "source": [
    "## Автор с самой высокой оценкой"
   ]
  },
  {
   "cell_type": "code",
   "execution_count": 14,
   "id": "0af38a2d",
   "metadata": {},
   "outputs": [
    {
     "data": {
      "text/html": [
       "<div>\n",
       "<style scoped>\n",
       "    .dataframe tbody tr th:only-of-type {\n",
       "        vertical-align: middle;\n",
       "    }\n",
       "\n",
       "    .dataframe tbody tr th {\n",
       "        vertical-align: top;\n",
       "    }\n",
       "\n",
       "    .dataframe thead th {\n",
       "        text-align: right;\n",
       "    }\n",
       "</style>\n",
       "<table border=\"1\" class=\"dataframe\">\n",
       "  <thead>\n",
       "    <tr style=\"text-align: right;\">\n",
       "      <th></th>\n",
       "      <th>author</th>\n",
       "      <th>rating</th>\n",
       "    </tr>\n",
       "  </thead>\n",
       "  <tbody>\n",
       "    <tr>\n",
       "      <td>0</td>\n",
       "      <td>J.K. Rowling/Mary GrandPré</td>\n",
       "      <td>4.3</td>\n",
       "    </tr>\n",
       "  </tbody>\n",
       "</table>\n",
       "</div>"
      ],
      "text/plain": [
       "                       author  rating\n",
       "0  J.K. Rowling/Mary GrandPré     4.3"
      ]
     },
     "execution_count": 14,
     "metadata": {},
     "output_type": "execute_result"
    }
   ],
   "source": [
    "pd.io.sql.read_sql('SELECT A.AUTHOR, ROUND(AVG(RT.RATING),1) rating FROM BOOKS B JOIN AUTHORS \\\n",
    "A ON B.AUTHOR_ID = A.AUTHOR_ID JOIN RATINGS RT ON B.BOOK_ID = RT.BOOK_ID \\\n",
    "GROUP BY A.AUTHOR HAVING COUNT(RT.RATING_ID)>50 ORDER BY rating desc limit 1',con = engine)"
   ]
  },
  {
   "cell_type": "markdown",
   "id": "e662ff5f",
   "metadata": {},
   "source": [
    "Автор с самой высокой средней оценкой"
   ]
  },
  {
   "cell_type": "markdown",
   "id": "c3a9e4fd",
   "metadata": {},
   "source": [
    "## Среднее количество оценок от каждого пользователя"
   ]
  },
  {
   "cell_type": "code",
   "execution_count": 15,
   "id": "5eb5bd80",
   "metadata": {},
   "outputs": [
    {
     "data": {
      "text/html": [
       "<div>\n",
       "<style scoped>\n",
       "    .dataframe tbody tr th:only-of-type {\n",
       "        vertical-align: middle;\n",
       "    }\n",
       "\n",
       "    .dataframe tbody tr th {\n",
       "        vertical-align: top;\n",
       "    }\n",
       "\n",
       "    .dataframe thead th {\n",
       "        text-align: right;\n",
       "    }\n",
       "</style>\n",
       "<table border=\"1\" class=\"dataframe\">\n",
       "  <thead>\n",
       "    <tr style=\"text-align: right;\">\n",
       "      <th></th>\n",
       "      <th>round</th>\n",
       "    </tr>\n",
       "  </thead>\n",
       "  <tbody>\n",
       "    <tr>\n",
       "      <td>0</td>\n",
       "      <td>24.3</td>\n",
       "    </tr>\n",
       "  </tbody>\n",
       "</table>\n",
       "</div>"
      ],
      "text/plain": [
       "   round\n",
       "0   24.3"
      ]
     },
     "execution_count": 15,
     "metadata": {},
     "output_type": "execute_result"
    }
   ],
   "source": [
    "pd.io.sql.read_sql('SELECT ROUND(AVG(COUNT),1) \\\n",
    "FROM (SELECT COUNT(REVIEW_ID) \\\n",
    "FROM (SELECT USERNAME FROM RATINGS GROUP BY USERNAME HAVING COUNT(RATING_ID)>50) \\\n",
    "RT JOIN REVIEWS RV ON RT.USERNAME = RV.USERNAME GROUP BY RV.USERNAME)T',con = engine)"
   ]
  },
  {
   "cell_type": "markdown",
   "id": "19d4f84b",
   "metadata": {},
   "source": [
    "Среднее количество оценок"
   ]
  },
  {
   "cell_type": "markdown",
   "id": "f5303b94",
   "metadata": {},
   "source": [
    "## Вывод"
   ]
  },
  {
   "cell_type": "markdown",
   "id": "c6d82962",
   "metadata": {},
   "source": [
    "* Всего с начала 2000 года вышло 819 книг\n",
    "* Издательство, которое выпустило наибольшее количество книг - Penguin Books\n",
    "* Автор с самой высокой оценкой - J.K. Rowling/Mary GrandPré при оценке 4.3\n",
    "* Среднее количество оценок от каждого пользователя - 24"
   ]
  }
 ],
 "metadata": {
  "ExecuteTimeLog": [
   {
    "duration": 667,
    "start_time": "2022-01-29T13:23:06.024Z"
   },
   {
    "duration": 39,
    "start_time": "2022-01-29T13:23:06.693Z"
   },
   {
    "duration": 318,
    "start_time": "2022-01-29T13:23:06.734Z"
   },
   {
    "duration": 87,
    "start_time": "2022-01-29T13:23:07.054Z"
   },
   {
    "duration": 83,
    "start_time": "2022-01-29T13:23:07.143Z"
   },
   {
    "duration": 119,
    "start_time": "2022-01-29T13:23:07.227Z"
   },
   {
    "duration": 103,
    "start_time": "2022-01-29T13:23:07.349Z"
   },
   {
    "duration": 77,
    "start_time": "2022-01-29T13:23:07.455Z"
   },
   {
    "duration": 93,
    "start_time": "2022-01-29T13:23:07.535Z"
   },
   {
    "duration": 78,
    "start_time": "2022-01-29T13:23:07.630Z"
   },
   {
    "duration": 81,
    "start_time": "2022-01-29T13:23:07.710Z"
   },
   {
    "duration": 94,
    "start_time": "2022-01-29T13:23:07.793Z"
   },
   {
    "duration": 84,
    "start_time": "2022-01-29T13:31:48.066Z"
   },
   {
    "duration": 90,
    "start_time": "2022-01-29T13:31:52.536Z"
   },
   {
    "duration": 93,
    "start_time": "2022-01-29T13:34:00.075Z"
   },
   {
    "duration": 856,
    "start_time": "2022-01-29T13:43:41.025Z"
   },
   {
    "duration": 37,
    "start_time": "2022-01-29T13:43:41.884Z"
   },
   {
    "duration": 317,
    "start_time": "2022-01-29T13:43:41.924Z"
   },
   {
    "duration": 88,
    "start_time": "2022-01-29T13:43:42.244Z"
   },
   {
    "duration": 84,
    "start_time": "2022-01-29T13:43:42.335Z"
   },
   {
    "duration": 122,
    "start_time": "2022-01-29T13:43:42.421Z"
   },
   {
    "duration": 102,
    "start_time": "2022-01-29T13:43:42.546Z"
   },
   {
    "duration": 73,
    "start_time": "2022-01-29T13:43:42.650Z"
   },
   {
    "duration": 95,
    "start_time": "2022-01-29T13:43:42.726Z"
   },
   {
    "duration": 75,
    "start_time": "2022-01-29T13:43:42.823Z"
   },
   {
    "duration": 80,
    "start_time": "2022-01-29T13:43:42.901Z"
   },
   {
    "duration": 90,
    "start_time": "2022-01-29T13:43:42.984Z"
   },
   {
    "duration": 76,
    "start_time": "2022-01-29T13:43:59.512Z"
   },
   {
    "duration": 126,
    "start_time": "2022-01-29T13:44:43.520Z"
   },
   {
    "duration": 113,
    "start_time": "2022-01-29T13:44:47.332Z"
   },
   {
    "duration": 553,
    "start_time": "2022-01-29T13:44:53.122Z"
   },
   {
    "duration": 112,
    "start_time": "2022-01-29T13:44:55.706Z"
   },
   {
    "duration": 119,
    "start_time": "2022-01-29T13:45:05.013Z"
   },
   {
    "duration": 124,
    "start_time": "2022-01-29T13:45:09.963Z"
   },
   {
    "duration": 119,
    "start_time": "2022-01-29T13:45:12.769Z"
   },
   {
    "duration": 3,
    "start_time": "2022-01-29T13:48:11.796Z"
   },
   {
    "duration": 95,
    "start_time": "2022-01-29T13:48:27.902Z"
   },
   {
    "duration": 4,
    "start_time": "2022-01-29T13:48:34.917Z"
   },
   {
    "duration": 101,
    "start_time": "2022-01-29T13:48:36.532Z"
   },
   {
    "duration": 4,
    "start_time": "2022-01-29T13:48:45.653Z"
   },
   {
    "duration": 109,
    "start_time": "2022-01-29T13:48:47.294Z"
   },
   {
    "duration": 680,
    "start_time": "2022-01-29T13:49:48.248Z"
   },
   {
    "duration": 108,
    "start_time": "2022-01-29T13:50:00.568Z"
   },
   {
    "duration": 775,
    "start_time": "2022-01-29T13:50:16.166Z"
   },
   {
    "duration": 747,
    "start_time": "2022-01-29T13:50:24.616Z"
   },
   {
    "duration": 635,
    "start_time": "2022-01-29T13:50:40.558Z"
   },
   {
    "duration": 633,
    "start_time": "2022-01-29T13:50:46.618Z"
   },
   {
    "duration": 631,
    "start_time": "2022-01-29T13:50:57.156Z"
   },
   {
    "duration": 618,
    "start_time": "2022-01-29T13:51:13.534Z"
   },
   {
    "duration": 766,
    "start_time": "2022-01-29T13:51:18.527Z"
   },
   {
    "duration": 650,
    "start_time": "2022-01-29T13:51:52.277Z"
   },
   {
    "duration": 676,
    "start_time": "2022-01-29T13:52:03.741Z"
   },
   {
    "duration": 839,
    "start_time": "2022-01-29T13:52:05.848Z"
   },
   {
    "duration": 101,
    "start_time": "2022-01-29T13:52:14.700Z"
   },
   {
    "duration": 1272,
    "start_time": "2022-01-29T13:52:23.984Z"
   },
   {
    "duration": 760,
    "start_time": "2022-01-29T13:52:43.074Z"
   },
   {
    "duration": 616,
    "start_time": "2022-01-29T13:52:54.566Z"
   },
   {
    "duration": 88,
    "start_time": "2022-01-29T13:53:11.056Z"
   },
   {
    "duration": 771,
    "start_time": "2022-01-29T13:53:17.204Z"
   },
   {
    "duration": 809,
    "start_time": "2022-01-29T13:53:46.338Z"
   },
   {
    "duration": 892,
    "start_time": "2022-01-29T13:53:56.840Z"
   },
   {
    "duration": 102,
    "start_time": "2022-01-29T13:54:01.831Z"
   },
   {
    "duration": 658,
    "start_time": "2022-01-29T13:54:10.575Z"
   },
   {
    "duration": 673,
    "start_time": "2022-01-29T13:54:18.443Z"
   },
   {
    "duration": 101,
    "start_time": "2022-01-29T13:54:22.362Z"
   },
   {
    "duration": 100,
    "start_time": "2022-01-29T13:54:25.766Z"
   },
   {
    "duration": 103,
    "start_time": "2022-01-29T13:54:35.321Z"
   },
   {
    "duration": 630,
    "start_time": "2022-01-29T13:55:38.716Z"
   },
   {
    "duration": 619,
    "start_time": "2022-01-29T13:55:43.177Z"
   },
   {
    "duration": 612,
    "start_time": "2022-01-29T13:55:49.892Z"
   },
   {
    "duration": 667,
    "start_time": "2022-01-29T13:56:00.558Z"
   },
   {
    "duration": 609,
    "start_time": "2022-01-29T13:56:08.682Z"
   },
   {
    "duration": 956,
    "start_time": "2022-01-29T13:56:19.946Z"
   },
   {
    "duration": 577,
    "start_time": "2022-01-29T13:56:28.618Z"
   },
   {
    "duration": 733,
    "start_time": "2022-01-29T13:56:37.910Z"
   },
   {
    "duration": 591,
    "start_time": "2022-01-29T13:56:46.574Z"
   },
   {
    "duration": 780,
    "start_time": "2022-01-29T13:56:53.288Z"
   },
   {
    "duration": 633,
    "start_time": "2022-01-29T13:57:05.216Z"
   },
   {
    "duration": 586,
    "start_time": "2022-01-29T13:57:11.600Z"
   },
   {
    "duration": 586,
    "start_time": "2022-01-29T13:57:14.614Z"
   },
   {
    "duration": 635,
    "start_time": "2022-01-29T13:57:19.071Z"
   },
   {
    "duration": 610,
    "start_time": "2022-01-29T13:57:27.342Z"
   },
   {
    "duration": 642,
    "start_time": "2022-01-29T13:57:31.186Z"
   },
   {
    "duration": 78,
    "start_time": "2022-01-29T13:58:58.052Z"
   },
   {
    "duration": 354,
    "start_time": "2022-01-29T14:02:52.538Z"
   },
   {
    "duration": 114,
    "start_time": "2022-01-29T14:03:07.764Z"
   },
   {
    "duration": 92,
    "start_time": "2022-01-29T14:04:28.085Z"
   },
   {
    "duration": 293,
    "start_time": "2022-01-29T14:04:30.966Z"
   },
   {
    "duration": 275,
    "start_time": "2022-01-29T14:04:38.448Z"
   },
   {
    "duration": 6,
    "start_time": "2022-01-29T14:04:50.878Z"
   },
   {
    "duration": 12,
    "start_time": "2022-01-29T14:05:04.663Z"
   },
   {
    "duration": 12,
    "start_time": "2022-01-29T14:05:12.261Z"
   },
   {
    "duration": 400,
    "start_time": "2022-01-29T14:05:34.622Z"
   },
   {
    "duration": 115,
    "start_time": "2022-01-29T14:05:47.067Z"
   },
   {
    "duration": 114,
    "start_time": "2022-01-29T14:05:53.391Z"
   },
   {
    "duration": 120,
    "start_time": "2022-01-29T14:05:56.936Z"
   },
   {
    "duration": 976,
    "start_time": "2022-01-29T14:07:10.256Z"
   },
   {
    "duration": 134,
    "start_time": "2022-01-29T14:07:19.035Z"
   },
   {
    "duration": 76,
    "start_time": "2022-01-29T14:07:26.144Z"
   },
   {
    "duration": 642,
    "start_time": "2022-01-29T14:09:42.541Z"
   },
   {
    "duration": 87,
    "start_time": "2022-01-29T14:09:53.231Z"
   },
   {
    "duration": 650,
    "start_time": "2022-01-29T14:10:32.287Z"
   },
   {
    "duration": 109,
    "start_time": "2022-01-29T14:10:38.909Z"
   },
   {
    "duration": 115,
    "start_time": "2022-01-29T14:10:54.680Z"
   },
   {
    "duration": 796,
    "start_time": "2022-01-29T14:14:00.068Z"
   },
   {
    "duration": 108,
    "start_time": "2022-01-29T14:14:04.809Z"
   },
   {
    "duration": 110,
    "start_time": "2022-01-29T14:15:33.092Z"
   },
   {
    "duration": 108,
    "start_time": "2022-01-29T14:15:59.285Z"
   },
   {
    "duration": 111,
    "start_time": "2022-01-29T14:16:05.044Z"
   },
   {
    "duration": 111,
    "start_time": "2022-01-29T14:16:50.272Z"
   },
   {
    "duration": 785,
    "start_time": "2022-01-29T14:17:00.188Z"
   },
   {
    "duration": 37,
    "start_time": "2022-01-29T14:17:00.976Z"
   },
   {
    "duration": 326,
    "start_time": "2022-01-29T14:17:01.019Z"
   },
   {
    "duration": 90,
    "start_time": "2022-01-29T14:17:01.348Z"
   },
   {
    "duration": 91,
    "start_time": "2022-01-29T14:17:01.441Z"
   },
   {
    "duration": 132,
    "start_time": "2022-01-29T14:17:01.535Z"
   },
   {
    "duration": 112,
    "start_time": "2022-01-29T14:17:01.672Z"
   },
   {
    "duration": 4,
    "start_time": "2022-01-29T14:17:01.787Z"
   },
   {
    "duration": 91,
    "start_time": "2022-01-29T14:17:01.794Z"
   },
   {
    "duration": 80,
    "start_time": "2022-01-29T14:17:01.887Z"
   },
   {
    "duration": 84,
    "start_time": "2022-01-29T14:17:01.969Z"
   },
   {
    "duration": 101,
    "start_time": "2022-01-29T14:17:02.055Z"
   },
   {
    "duration": 81,
    "start_time": "2022-01-29T14:17:02.159Z"
   },
   {
    "duration": 89,
    "start_time": "2022-01-29T14:17:02.243Z"
   },
   {
    "duration": 84,
    "start_time": "2022-01-29T14:17:02.335Z"
   },
   {
    "duration": 120,
    "start_time": "2022-01-29T14:17:22.095Z"
   },
   {
    "duration": 483,
    "start_time": "2022-01-29T14:17:30.412Z"
   },
   {
    "duration": 433,
    "start_time": "2022-01-29T14:17:37.758Z"
   },
   {
    "duration": 115,
    "start_time": "2022-01-29T14:17:45.586Z"
   },
   {
    "duration": 114,
    "start_time": "2022-01-29T14:18:38.519Z"
   },
   {
    "duration": 493,
    "start_time": "2022-01-29T14:18:53.570Z"
   },
   {
    "duration": 85,
    "start_time": "2022-01-29T14:19:05.100Z"
   },
   {
    "duration": 376,
    "start_time": "2022-01-29T14:19:14.354Z"
   },
   {
    "duration": 382,
    "start_time": "2022-01-29T14:19:23.377Z"
   },
   {
    "duration": 403,
    "start_time": "2022-01-29T14:19:33.696Z"
   },
   {
    "duration": 83,
    "start_time": "2022-01-29T14:20:07.492Z"
   },
   {
    "duration": 370,
    "start_time": "2022-01-29T14:20:53.859Z"
   },
   {
    "duration": 125,
    "start_time": "2022-01-29T14:20:59.918Z"
   },
   {
    "duration": 380,
    "start_time": "2022-01-29T14:21:10.916Z"
   },
   {
    "duration": 121,
    "start_time": "2022-01-29T14:21:21.144Z"
   },
   {
    "duration": 360,
    "start_time": "2022-01-29T14:26:45.385Z"
   },
   {
    "duration": 120,
    "start_time": "2022-01-29T14:26:56.404Z"
   },
   {
    "duration": 121,
    "start_time": "2022-01-29T14:28:08.333Z"
   },
   {
    "duration": 122,
    "start_time": "2022-01-29T14:28:41.849Z"
   },
   {
    "duration": 121,
    "start_time": "2022-01-29T14:28:58.957Z"
   },
   {
    "duration": 120,
    "start_time": "2022-01-29T14:29:04.395Z"
   },
   {
    "duration": 122,
    "start_time": "2022-01-29T14:29:09.825Z"
   },
   {
    "duration": 122,
    "start_time": "2022-01-29T14:29:16.000Z"
   },
   {
    "duration": 126,
    "start_time": "2022-01-29T14:29:40.374Z"
   },
   {
    "duration": 124,
    "start_time": "2022-01-29T14:29:49.772Z"
   },
   {
    "duration": 125,
    "start_time": "2022-01-29T14:30:27.489Z"
   },
   {
    "duration": 131,
    "start_time": "2022-01-29T14:30:37.240Z"
   },
   {
    "duration": 209,
    "start_time": "2022-01-29T14:31:53.746Z"
   },
   {
    "duration": 125,
    "start_time": "2022-01-29T14:32:43.279Z"
   },
   {
    "duration": 126,
    "start_time": "2022-01-29T14:32:48.180Z"
   },
   {
    "duration": 188,
    "start_time": "2022-01-29T14:33:01.407Z"
   },
   {
    "duration": 79,
    "start_time": "2022-01-29T14:33:10.610Z"
   },
   {
    "duration": 82,
    "start_time": "2022-01-29T14:33:26.769Z"
   },
   {
    "duration": 86,
    "start_time": "2022-01-29T14:33:58.892Z"
   },
   {
    "duration": 510,
    "start_time": "2022-01-29T14:34:08.191Z"
   },
   {
    "duration": 130,
    "start_time": "2022-01-29T14:34:21.405Z"
   },
   {
    "duration": 126,
    "start_time": "2022-01-29T14:34:40.394Z"
   },
   {
    "duration": 372,
    "start_time": "2022-01-29T14:34:50.296Z"
   },
   {
    "duration": 126,
    "start_time": "2022-01-29T14:34:59.369Z"
   },
   {
    "duration": 743,
    "start_time": "2022-01-30T09:14:39.596Z"
   },
   {
    "duration": 29,
    "start_time": "2022-01-30T09:14:40.342Z"
   },
   {
    "duration": 331,
    "start_time": "2022-01-30T09:14:40.373Z"
   },
   {
    "duration": 100,
    "start_time": "2022-01-30T09:14:40.706Z"
   },
   {
    "duration": 87,
    "start_time": "2022-01-30T09:14:40.809Z"
   },
   {
    "duration": 114,
    "start_time": "2022-01-30T09:14:40.898Z"
   },
   {
    "duration": 115,
    "start_time": "2022-01-30T09:14:41.014Z"
   },
   {
    "duration": 3,
    "start_time": "2022-01-30T09:14:41.131Z"
   },
   {
    "duration": 85,
    "start_time": "2022-01-30T09:14:41.137Z"
   },
   {
    "duration": 79,
    "start_time": "2022-01-30T09:14:41.224Z"
   },
   {
    "duration": 84,
    "start_time": "2022-01-30T09:14:41.305Z"
   },
   {
    "duration": 107,
    "start_time": "2022-01-30T09:14:41.391Z"
   },
   {
    "duration": 79,
    "start_time": "2022-01-30T09:14:41.500Z"
   },
   {
    "duration": 83,
    "start_time": "2022-01-30T09:14:41.581Z"
   },
   {
    "duration": 83,
    "start_time": "2022-01-30T09:14:41.667Z"
   }
  ],
  "kernelspec": {
   "display_name": "Python 3 (ipykernel)",
   "language": "python",
   "name": "python3"
  },
  "language_info": {
   "codemirror_mode": {
    "name": "ipython",
    "version": 3
   },
   "file_extension": ".py",
   "mimetype": "text/x-python",
   "name": "python",
   "nbconvert_exporter": "python",
   "pygments_lexer": "ipython3",
   "version": "3.9.5"
  },
  "toc": {
   "base_numbering": 1,
   "nav_menu": {},
   "number_sections": true,
   "sideBar": true,
   "skip_h1_title": false,
   "title_cell": "Содержание",
   "title_sidebar": "Contents",
   "toc_cell": true,
   "toc_position": {},
   "toc_section_display": true,
   "toc_window_display": false
  }
 },
 "nbformat": 4,
 "nbformat_minor": 5
}
