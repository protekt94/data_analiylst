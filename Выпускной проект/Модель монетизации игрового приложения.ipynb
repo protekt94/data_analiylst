{
 "cells": [
  {
   "cell_type": "markdown",
   "id": "c2590ff2",
   "metadata": {
    "toc": true
   },
   "source": [
    "<h1>Содержание<span class=\"tocSkip\"></span></h1>\n",
    "<div class=\"toc\"><ul class=\"toc-item\"><li><span><a href=\"#Задача\" data-toc-modified-id=\"Задача-1\"><span class=\"toc-item-num\">1&nbsp;&nbsp;</span>Задача</a></span></li><li><span><a href=\"#Ознакомление-с-данными\" data-toc-modified-id=\"Ознакомление-с-данными-2\"><span class=\"toc-item-num\">2&nbsp;&nbsp;</span>Ознакомление с данными</a></span><ul class=\"toc-item\"><li><span><a href=\"#Импорт-нужных-библиотек\" data-toc-modified-id=\"Импорт-нужных-библиотек-2.1\"><span class=\"toc-item-num\">2.1&nbsp;&nbsp;</span>Импорт нужных библиотек</a></span></li><li><span><a href=\"#Извлечение-данных\" data-toc-modified-id=\"Извлечение-данных-2.2\"><span class=\"toc-item-num\">2.2&nbsp;&nbsp;</span>Извлечение данных</a></span><ul class=\"toc-item\"><li><span><a href=\"#Первый-датасет-&quot;ad_cost&quot;\" data-toc-modified-id=\"Первый-датасет-&quot;ad_cost&quot;-2.2.1\"><span class=\"toc-item-num\">2.2.1&nbsp;&nbsp;</span>Первый датасет \"ad_cost\"</a></span></li><li><span><a href=\"#Первый-датасет-&quot;gf_game&quot;\" data-toc-modified-id=\"Первый-датасет-&quot;gf_game&quot;-2.2.2\"><span class=\"toc-item-num\">2.2.2&nbsp;&nbsp;</span>Первый датасет \"gf_game\"</a></span></li><li><span><a href=\"#Первый-датасет-&quot;user_source&quot;\" data-toc-modified-id=\"Первый-датасет-&quot;user_source&quot;-2.2.3\"><span class=\"toc-item-num\">2.2.3&nbsp;&nbsp;</span>Первый датасет \"user_source\"</a></span></li></ul></li></ul></li><li><span><a href=\"#Исследовательский-анализ-данных\" data-toc-modified-id=\"Исследовательский-анализ-данных-3\"><span class=\"toc-item-num\">3&nbsp;&nbsp;</span>Исследовательский анализ данных</a></span><ul class=\"toc-item\"><li><span><a href=\"#Проверка-пропусков\" data-toc-modified-id=\"Проверка-пропусков-3.1\"><span class=\"toc-item-num\">3.1&nbsp;&nbsp;</span>Проверка пропусков</a></span></li><li><span><a href=\"#Преобразования-данных\" data-toc-modified-id=\"Преобразования-данных-3.2\"><span class=\"toc-item-num\">3.2&nbsp;&nbsp;</span>Преобразования данных</a></span></li><li><span><a href=\"#Влияние-событий-на-совершение-целевого-события\" data-toc-modified-id=\"Влияние-событий-на-совершение-целевого-события-3.3\"><span class=\"toc-item-num\">3.3&nbsp;&nbsp;</span>Влияние событий на совершение целевого события</a></span></li><li><span><a href=\"#Первая-модель-монетизации\" data-toc-modified-id=\"Первая-модель-монетизации-3.4\"><span class=\"toc-item-num\">3.4&nbsp;&nbsp;</span>Первая модель монетизации</a></span></li><li><span><a href=\"#Вторая-модель-монетизации\" data-toc-modified-id=\"Вторая-модель-монетизации-3.5\"><span class=\"toc-item-num\">3.5&nbsp;&nbsp;</span>Вторая модель монетизации</a></span></li></ul></li><li><span><a href=\"#Проверка-статистической-гипотезы\" data-toc-modified-id=\"Проверка-статистической-гипотезы-4\"><span class=\"toc-item-num\">4&nbsp;&nbsp;</span>Проверка статистической гипотезы</a></span></li><li><span><a href=\"#Презентация-и-дашборд\" data-toc-modified-id=\"Презентация-и-дашборд-5\"><span class=\"toc-item-num\">5&nbsp;&nbsp;</span>Презентация и дашборд</a></span></li></ul></div>"
   ]
  },
  {
   "cell_type": "markdown",
   "id": "54b14c9e",
   "metadata": {},
   "source": [
    "# Задача"
   ]
  },
  {
   "cell_type": "markdown",
   "id": "74d6c8da",
   "metadata": {},
   "source": [
    "Сформируйте модель монетизации игрового приложения."
   ]
  },
  {
   "cell_type": "markdown",
   "id": "9469b3d3",
   "metadata": {},
   "source": [
    "# Ознакомление с данными"
   ]
  },
  {
   "cell_type": "markdown",
   "id": "93ca09cc",
   "metadata": {},
   "source": [
    "## Импорт нужных библиотек"
   ]
  },
  {
   "cell_type": "code",
   "execution_count": 1,
   "id": "9a27a915",
   "metadata": {},
   "outputs": [],
   "source": [
    "import pandas as pd\n",
    "import datetime as dt\n",
    "import numpy as np\n",
    "from scipy import stats as st\n",
    "import matplotlib.pyplot as plt\n",
    "import plotly.express as px\n",
    "import seaborn as sns"
   ]
  },
  {
   "cell_type": "markdown",
   "id": "e24587f6",
   "metadata": {},
   "source": [
    "## Извлечение данных"
   ]
  },
  {
   "cell_type": "markdown",
   "id": "c10b4492",
   "metadata": {},
   "source": [
    "### Первый датасет \"ad_cost\""
   ]
  },
  {
   "cell_type": "code",
   "execution_count": 2,
   "id": "11285dfd",
   "metadata": {},
   "outputs": [
    {
     "data": {
      "text/html": [
       "<div>\n",
       "<style scoped>\n",
       "    .dataframe tbody tr th:only-of-type {\n",
       "        vertical-align: middle;\n",
       "    }\n",
       "\n",
       "    .dataframe tbody tr th {\n",
       "        vertical-align: top;\n",
       "    }\n",
       "\n",
       "    .dataframe thead th {\n",
       "        text-align: right;\n",
       "    }\n",
       "</style>\n",
       "<table border=\"1\" class=\"dataframe\">\n",
       "  <thead>\n",
       "    <tr style=\"text-align: right;\">\n",
       "      <th></th>\n",
       "      <th>source</th>\n",
       "      <th>day</th>\n",
       "      <th>cost</th>\n",
       "    </tr>\n",
       "  </thead>\n",
       "  <tbody>\n",
       "    <tr>\n",
       "      <td>0</td>\n",
       "      <td>facebook_ads</td>\n",
       "      <td>2020-05-03</td>\n",
       "      <td>935.882786</td>\n",
       "    </tr>\n",
       "    <tr>\n",
       "      <td>1</td>\n",
       "      <td>facebook_ads</td>\n",
       "      <td>2020-05-04</td>\n",
       "      <td>548.354480</td>\n",
       "    </tr>\n",
       "    <tr>\n",
       "      <td>2</td>\n",
       "      <td>facebook_ads</td>\n",
       "      <td>2020-05-05</td>\n",
       "      <td>260.185754</td>\n",
       "    </tr>\n",
       "    <tr>\n",
       "      <td>3</td>\n",
       "      <td>facebook_ads</td>\n",
       "      <td>2020-05-06</td>\n",
       "      <td>177.982200</td>\n",
       "    </tr>\n",
       "    <tr>\n",
       "      <td>4</td>\n",
       "      <td>facebook_ads</td>\n",
       "      <td>2020-05-07</td>\n",
       "      <td>111.766796</td>\n",
       "    </tr>\n",
       "    <tr>\n",
       "      <td>5</td>\n",
       "      <td>facebook_ads</td>\n",
       "      <td>2020-05-08</td>\n",
       "      <td>68.009276</td>\n",
       "    </tr>\n",
       "    <tr>\n",
       "      <td>6</td>\n",
       "      <td>facebook_ads</td>\n",
       "      <td>2020-05-09</td>\n",
       "      <td>38.723350</td>\n",
       "    </tr>\n",
       "    <tr>\n",
       "      <td>7</td>\n",
       "      <td>instagram_new_adverts</td>\n",
       "      <td>2020-05-03</td>\n",
       "      <td>943.204717</td>\n",
       "    </tr>\n",
       "    <tr>\n",
       "      <td>8</td>\n",
       "      <td>instagram_new_adverts</td>\n",
       "      <td>2020-05-04</td>\n",
       "      <td>502.925451</td>\n",
       "    </tr>\n",
       "    <tr>\n",
       "      <td>9</td>\n",
       "      <td>instagram_new_adverts</td>\n",
       "      <td>2020-05-05</td>\n",
       "      <td>313.970984</td>\n",
       "    </tr>\n",
       "    <tr>\n",
       "      <td>10</td>\n",
       "      <td>instagram_new_adverts</td>\n",
       "      <td>2020-05-06</td>\n",
       "      <td>173.071145</td>\n",
       "    </tr>\n",
       "    <tr>\n",
       "      <td>11</td>\n",
       "      <td>instagram_new_adverts</td>\n",
       "      <td>2020-05-07</td>\n",
       "      <td>109.915254</td>\n",
       "    </tr>\n",
       "    <tr>\n",
       "      <td>12</td>\n",
       "      <td>instagram_new_adverts</td>\n",
       "      <td>2020-05-08</td>\n",
       "      <td>71.578739</td>\n",
       "    </tr>\n",
       "    <tr>\n",
       "      <td>13</td>\n",
       "      <td>instagram_new_adverts</td>\n",
       "      <td>2020-05-09</td>\n",
       "      <td>46.775400</td>\n",
       "    </tr>\n",
       "    <tr>\n",
       "      <td>14</td>\n",
       "      <td>yandex_direct</td>\n",
       "      <td>2020-05-03</td>\n",
       "      <td>969.139394</td>\n",
       "    </tr>\n",
       "    <tr>\n",
       "      <td>15</td>\n",
       "      <td>yandex_direct</td>\n",
       "      <td>2020-05-04</td>\n",
       "      <td>554.651494</td>\n",
       "    </tr>\n",
       "    <tr>\n",
       "      <td>16</td>\n",
       "      <td>yandex_direct</td>\n",
       "      <td>2020-05-05</td>\n",
       "      <td>308.232990</td>\n",
       "    </tr>\n",
       "    <tr>\n",
       "      <td>17</td>\n",
       "      <td>yandex_direct</td>\n",
       "      <td>2020-05-06</td>\n",
       "      <td>180.917099</td>\n",
       "    </tr>\n",
       "    <tr>\n",
       "      <td>18</td>\n",
       "      <td>yandex_direct</td>\n",
       "      <td>2020-05-07</td>\n",
       "      <td>114.429338</td>\n",
       "    </tr>\n",
       "    <tr>\n",
       "      <td>19</td>\n",
       "      <td>yandex_direct</td>\n",
       "      <td>2020-05-08</td>\n",
       "      <td>62.961630</td>\n",
       "    </tr>\n",
       "    <tr>\n",
       "      <td>20</td>\n",
       "      <td>yandex_direct</td>\n",
       "      <td>2020-05-09</td>\n",
       "      <td>42.779505</td>\n",
       "    </tr>\n",
       "    <tr>\n",
       "      <td>21</td>\n",
       "      <td>youtube_channel_reklama</td>\n",
       "      <td>2020-05-03</td>\n",
       "      <td>454.224943</td>\n",
       "    </tr>\n",
       "    <tr>\n",
       "      <td>22</td>\n",
       "      <td>youtube_channel_reklama</td>\n",
       "      <td>2020-05-04</td>\n",
       "      <td>259.073224</td>\n",
       "    </tr>\n",
       "    <tr>\n",
       "      <td>23</td>\n",
       "      <td>youtube_channel_reklama</td>\n",
       "      <td>2020-05-05</td>\n",
       "      <td>147.041741</td>\n",
       "    </tr>\n",
       "    <tr>\n",
       "      <td>24</td>\n",
       "      <td>youtube_channel_reklama</td>\n",
       "      <td>2020-05-06</td>\n",
       "      <td>88.506074</td>\n",
       "    </tr>\n",
       "    <tr>\n",
       "      <td>25</td>\n",
       "      <td>youtube_channel_reklama</td>\n",
       "      <td>2020-05-07</td>\n",
       "      <td>55.740645</td>\n",
       "    </tr>\n",
       "    <tr>\n",
       "      <td>26</td>\n",
       "      <td>youtube_channel_reklama</td>\n",
       "      <td>2020-05-08</td>\n",
       "      <td>40.217907</td>\n",
       "    </tr>\n",
       "    <tr>\n",
       "      <td>27</td>\n",
       "      <td>youtube_channel_reklama</td>\n",
       "      <td>2020-05-09</td>\n",
       "      <td>23.314669</td>\n",
       "    </tr>\n",
       "  </tbody>\n",
       "</table>\n",
       "</div>"
      ],
      "text/plain": [
       "                     source         day        cost\n",
       "0              facebook_ads  2020-05-03  935.882786\n",
       "1              facebook_ads  2020-05-04  548.354480\n",
       "2              facebook_ads  2020-05-05  260.185754\n",
       "3              facebook_ads  2020-05-06  177.982200\n",
       "4              facebook_ads  2020-05-07  111.766796\n",
       "5              facebook_ads  2020-05-08   68.009276\n",
       "6              facebook_ads  2020-05-09   38.723350\n",
       "7     instagram_new_adverts  2020-05-03  943.204717\n",
       "8     instagram_new_adverts  2020-05-04  502.925451\n",
       "9     instagram_new_adverts  2020-05-05  313.970984\n",
       "10    instagram_new_adverts  2020-05-06  173.071145\n",
       "11    instagram_new_adverts  2020-05-07  109.915254\n",
       "12    instagram_new_adverts  2020-05-08   71.578739\n",
       "13    instagram_new_adverts  2020-05-09   46.775400\n",
       "14            yandex_direct  2020-05-03  969.139394\n",
       "15            yandex_direct  2020-05-04  554.651494\n",
       "16            yandex_direct  2020-05-05  308.232990\n",
       "17            yandex_direct  2020-05-06  180.917099\n",
       "18            yandex_direct  2020-05-07  114.429338\n",
       "19            yandex_direct  2020-05-08   62.961630\n",
       "20            yandex_direct  2020-05-09   42.779505\n",
       "21  youtube_channel_reklama  2020-05-03  454.224943\n",
       "22  youtube_channel_reklama  2020-05-04  259.073224\n",
       "23  youtube_channel_reklama  2020-05-05  147.041741\n",
       "24  youtube_channel_reklama  2020-05-06   88.506074\n",
       "25  youtube_channel_reklama  2020-05-07   55.740645\n",
       "26  youtube_channel_reklama  2020-05-08   40.217907\n",
       "27  youtube_channel_reklama  2020-05-09   23.314669"
      ]
     },
     "metadata": {},
     "output_type": "display_data"
    },
    {
     "name": "stdout",
     "output_type": "stream",
     "text": [
      "<class 'pandas.core.frame.DataFrame'>\n",
      "RangeIndex: 28 entries, 0 to 27\n",
      "Data columns (total 3 columns):\n",
      "source    28 non-null object\n",
      "day       28 non-null object\n",
      "cost      28 non-null float64\n",
      "dtypes: float64(1), object(2)\n",
      "memory usage: 800.0+ bytes\n"
     ]
    },
    {
     "data": {
      "text/plain": [
       "None"
      ]
     },
     "metadata": {},
     "output_type": "display_data"
    }
   ],
   "source": [
    "ad_cost = pd.read_csv('/datasets/ad_costs.csv')\n",
    "display(ad_cost)\n",
    "display(ad_cost.info())"
   ]
  },
  {
   "cell_type": "code",
   "execution_count": 3,
   "id": "28bb9b73",
   "metadata": {},
   "outputs": [
    {
     "data": {
      "text/html": [
       "<div>\n",
       "<style scoped>\n",
       "    .dataframe tbody tr th:only-of-type {\n",
       "        vertical-align: middle;\n",
       "    }\n",
       "\n",
       "    .dataframe tbody tr th {\n",
       "        vertical-align: top;\n",
       "    }\n",
       "\n",
       "    .dataframe thead th {\n",
       "        text-align: right;\n",
       "    }\n",
       "</style>\n",
       "<table border=\"1\" class=\"dataframe\">\n",
       "  <thead>\n",
       "    <tr style=\"text-align: right;\">\n",
       "      <th></th>\n",
       "      <th>source</th>\n",
       "      <th>day</th>\n",
       "      <th>cost</th>\n",
       "    </tr>\n",
       "  </thead>\n",
       "  <tbody>\n",
       "    <tr>\n",
       "      <td>0</td>\n",
       "      <td>facebook_ads</td>\n",
       "      <td>2020-05-03</td>\n",
       "      <td>935.882786</td>\n",
       "    </tr>\n",
       "    <tr>\n",
       "      <td>1</td>\n",
       "      <td>facebook_ads</td>\n",
       "      <td>2020-05-04</td>\n",
       "      <td>548.354480</td>\n",
       "    </tr>\n",
       "    <tr>\n",
       "      <td>2</td>\n",
       "      <td>facebook_ads</td>\n",
       "      <td>2020-05-05</td>\n",
       "      <td>260.185754</td>\n",
       "    </tr>\n",
       "    <tr>\n",
       "      <td>3</td>\n",
       "      <td>facebook_ads</td>\n",
       "      <td>2020-05-06</td>\n",
       "      <td>177.982200</td>\n",
       "    </tr>\n",
       "    <tr>\n",
       "      <td>4</td>\n",
       "      <td>facebook_ads</td>\n",
       "      <td>2020-05-07</td>\n",
       "      <td>111.766796</td>\n",
       "    </tr>\n",
       "    <tr>\n",
       "      <td>5</td>\n",
       "      <td>facebook_ads</td>\n",
       "      <td>2020-05-08</td>\n",
       "      <td>68.009276</td>\n",
       "    </tr>\n",
       "    <tr>\n",
       "      <td>6</td>\n",
       "      <td>facebook_ads</td>\n",
       "      <td>2020-05-09</td>\n",
       "      <td>38.723350</td>\n",
       "    </tr>\n",
       "    <tr>\n",
       "      <td>7</td>\n",
       "      <td>instagram_new_adverts</td>\n",
       "      <td>2020-05-03</td>\n",
       "      <td>943.204717</td>\n",
       "    </tr>\n",
       "    <tr>\n",
       "      <td>8</td>\n",
       "      <td>instagram_new_adverts</td>\n",
       "      <td>2020-05-04</td>\n",
       "      <td>502.925451</td>\n",
       "    </tr>\n",
       "    <tr>\n",
       "      <td>9</td>\n",
       "      <td>instagram_new_adverts</td>\n",
       "      <td>2020-05-05</td>\n",
       "      <td>313.970984</td>\n",
       "    </tr>\n",
       "    <tr>\n",
       "      <td>10</td>\n",
       "      <td>instagram_new_adverts</td>\n",
       "      <td>2020-05-06</td>\n",
       "      <td>173.071145</td>\n",
       "    </tr>\n",
       "    <tr>\n",
       "      <td>11</td>\n",
       "      <td>instagram_new_adverts</td>\n",
       "      <td>2020-05-07</td>\n",
       "      <td>109.915254</td>\n",
       "    </tr>\n",
       "    <tr>\n",
       "      <td>12</td>\n",
       "      <td>instagram_new_adverts</td>\n",
       "      <td>2020-05-08</td>\n",
       "      <td>71.578739</td>\n",
       "    </tr>\n",
       "    <tr>\n",
       "      <td>13</td>\n",
       "      <td>instagram_new_adverts</td>\n",
       "      <td>2020-05-09</td>\n",
       "      <td>46.775400</td>\n",
       "    </tr>\n",
       "    <tr>\n",
       "      <td>14</td>\n",
       "      <td>yandex_direct</td>\n",
       "      <td>2020-05-03</td>\n",
       "      <td>969.139394</td>\n",
       "    </tr>\n",
       "    <tr>\n",
       "      <td>15</td>\n",
       "      <td>yandex_direct</td>\n",
       "      <td>2020-05-04</td>\n",
       "      <td>554.651494</td>\n",
       "    </tr>\n",
       "    <tr>\n",
       "      <td>16</td>\n",
       "      <td>yandex_direct</td>\n",
       "      <td>2020-05-05</td>\n",
       "      <td>308.232990</td>\n",
       "    </tr>\n",
       "    <tr>\n",
       "      <td>17</td>\n",
       "      <td>yandex_direct</td>\n",
       "      <td>2020-05-06</td>\n",
       "      <td>180.917099</td>\n",
       "    </tr>\n",
       "    <tr>\n",
       "      <td>18</td>\n",
       "      <td>yandex_direct</td>\n",
       "      <td>2020-05-07</td>\n",
       "      <td>114.429338</td>\n",
       "    </tr>\n",
       "    <tr>\n",
       "      <td>19</td>\n",
       "      <td>yandex_direct</td>\n",
       "      <td>2020-05-08</td>\n",
       "      <td>62.961630</td>\n",
       "    </tr>\n",
       "    <tr>\n",
       "      <td>20</td>\n",
       "      <td>yandex_direct</td>\n",
       "      <td>2020-05-09</td>\n",
       "      <td>42.779505</td>\n",
       "    </tr>\n",
       "    <tr>\n",
       "      <td>21</td>\n",
       "      <td>youtube_channel_reklama</td>\n",
       "      <td>2020-05-03</td>\n",
       "      <td>454.224943</td>\n",
       "    </tr>\n",
       "    <tr>\n",
       "      <td>22</td>\n",
       "      <td>youtube_channel_reklama</td>\n",
       "      <td>2020-05-04</td>\n",
       "      <td>259.073224</td>\n",
       "    </tr>\n",
       "    <tr>\n",
       "      <td>23</td>\n",
       "      <td>youtube_channel_reklama</td>\n",
       "      <td>2020-05-05</td>\n",
       "      <td>147.041741</td>\n",
       "    </tr>\n",
       "    <tr>\n",
       "      <td>24</td>\n",
       "      <td>youtube_channel_reklama</td>\n",
       "      <td>2020-05-06</td>\n",
       "      <td>88.506074</td>\n",
       "    </tr>\n",
       "    <tr>\n",
       "      <td>25</td>\n",
       "      <td>youtube_channel_reklama</td>\n",
       "      <td>2020-05-07</td>\n",
       "      <td>55.740645</td>\n",
       "    </tr>\n",
       "    <tr>\n",
       "      <td>26</td>\n",
       "      <td>youtube_channel_reklama</td>\n",
       "      <td>2020-05-08</td>\n",
       "      <td>40.217907</td>\n",
       "    </tr>\n",
       "    <tr>\n",
       "      <td>27</td>\n",
       "      <td>youtube_channel_reklama</td>\n",
       "      <td>2020-05-09</td>\n",
       "      <td>23.314669</td>\n",
       "    </tr>\n",
       "  </tbody>\n",
       "</table>\n",
       "</div>"
      ],
      "text/plain": [
       "                     source         day        cost\n",
       "0              facebook_ads  2020-05-03  935.882786\n",
       "1              facebook_ads  2020-05-04  548.354480\n",
       "2              facebook_ads  2020-05-05  260.185754\n",
       "3              facebook_ads  2020-05-06  177.982200\n",
       "4              facebook_ads  2020-05-07  111.766796\n",
       "5              facebook_ads  2020-05-08   68.009276\n",
       "6              facebook_ads  2020-05-09   38.723350\n",
       "7     instagram_new_adverts  2020-05-03  943.204717\n",
       "8     instagram_new_adverts  2020-05-04  502.925451\n",
       "9     instagram_new_adverts  2020-05-05  313.970984\n",
       "10    instagram_new_adverts  2020-05-06  173.071145\n",
       "11    instagram_new_adverts  2020-05-07  109.915254\n",
       "12    instagram_new_adverts  2020-05-08   71.578739\n",
       "13    instagram_new_adverts  2020-05-09   46.775400\n",
       "14            yandex_direct  2020-05-03  969.139394\n",
       "15            yandex_direct  2020-05-04  554.651494\n",
       "16            yandex_direct  2020-05-05  308.232990\n",
       "17            yandex_direct  2020-05-06  180.917099\n",
       "18            yandex_direct  2020-05-07  114.429338\n",
       "19            yandex_direct  2020-05-08   62.961630\n",
       "20            yandex_direct  2020-05-09   42.779505\n",
       "21  youtube_channel_reklama  2020-05-03  454.224943\n",
       "22  youtube_channel_reklama  2020-05-04  259.073224\n",
       "23  youtube_channel_reklama  2020-05-05  147.041741\n",
       "24  youtube_channel_reklama  2020-05-06   88.506074\n",
       "25  youtube_channel_reklama  2020-05-07   55.740645\n",
       "26  youtube_channel_reklama  2020-05-08   40.217907\n",
       "27  youtube_channel_reklama  2020-05-09   23.314669"
      ]
     },
     "metadata": {},
     "output_type": "display_data"
    },
    {
     "name": "stdout",
     "output_type": "stream",
     "text": [
      "<class 'pandas.core.frame.DataFrame'>\n",
      "RangeIndex: 28 entries, 0 to 27\n",
      "Data columns (total 3 columns):\n",
      "source    28 non-null object\n",
      "day       28 non-null object\n",
      "cost      28 non-null float64\n",
      "dtypes: float64(1), object(2)\n",
      "memory usage: 800.0+ bytes\n"
     ]
    },
    {
     "data": {
      "text/plain": [
       "None"
      ]
     },
     "metadata": {},
     "output_type": "display_data"
    }
   ],
   "source": [
    "ad_cost = pd.read_csv('/datasets/ad_costs.csv')\n",
    "display(ad_cost)\n",
    "display(ad_cost.info())"
   ]
  },
  {
   "cell_type": "code",
   "execution_count": 4,
   "id": "ec259b0f",
   "metadata": {},
   "outputs": [
    {
     "data": {
      "text/plain": [
       "source\n",
       "youtube_channel_reklama    1068.119204\n",
       "facebook_ads               2140.904643\n",
       "instagram_new_adverts      2161.441691\n",
       "yandex_direct              2233.111449\n",
       "Name: cost, dtype: float64"
      ]
     },
     "execution_count": 4,
     "metadata": {},
     "output_type": "execute_result"
    }
   ],
   "source": [
    "ad_cost.groupby('source')['cost'].sum().sort_values()"
   ]
  },
  {
   "cell_type": "markdown",
   "id": "e42a48bb",
   "metadata": {},
   "source": [
    "### Первый датасет \"gf_game\""
   ]
  },
  {
   "cell_type": "code",
   "execution_count": 5,
   "id": "ed62b94a",
   "metadata": {},
   "outputs": [
    {
     "data": {
      "text/html": [
       "<div>\n",
       "<style scoped>\n",
       "    .dataframe tbody tr th:only-of-type {\n",
       "        vertical-align: middle;\n",
       "    }\n",
       "\n",
       "    .dataframe tbody tr th {\n",
       "        vertical-align: top;\n",
       "    }\n",
       "\n",
       "    .dataframe thead th {\n",
       "        text-align: right;\n",
       "    }\n",
       "</style>\n",
       "<table border=\"1\" class=\"dataframe\">\n",
       "  <thead>\n",
       "    <tr style=\"text-align: right;\">\n",
       "      <th></th>\n",
       "      <th>event_datetime</th>\n",
       "      <th>event</th>\n",
       "      <th>building_type</th>\n",
       "      <th>user_id</th>\n",
       "      <th>project_type</th>\n",
       "    </tr>\n",
       "  </thead>\n",
       "  <tbody>\n",
       "    <tr>\n",
       "      <td>0</td>\n",
       "      <td>2020-05-04 00:00:01</td>\n",
       "      <td>building</td>\n",
       "      <td>assembly_shop</td>\n",
       "      <td>55e92310-cb8e-4754-b622-597e124b03de</td>\n",
       "      <td>NaN</td>\n",
       "    </tr>\n",
       "    <tr>\n",
       "      <td>1</td>\n",
       "      <td>2020-05-04 00:00:03</td>\n",
       "      <td>building</td>\n",
       "      <td>assembly_shop</td>\n",
       "      <td>c07b1c10-f477-44dc-81dc-ec82254b1347</td>\n",
       "      <td>NaN</td>\n",
       "    </tr>\n",
       "    <tr>\n",
       "      <td>2</td>\n",
       "      <td>2020-05-04 00:00:16</td>\n",
       "      <td>building</td>\n",
       "      <td>assembly_shop</td>\n",
       "      <td>6edd42cc-e753-4ff6-a947-2107cd560710</td>\n",
       "      <td>NaN</td>\n",
       "    </tr>\n",
       "    <tr>\n",
       "      <td>3</td>\n",
       "      <td>2020-05-04 00:00:16</td>\n",
       "      <td>building</td>\n",
       "      <td>assembly_shop</td>\n",
       "      <td>92c69003-d60a-444a-827f-8cc51bf6bf4c</td>\n",
       "      <td>NaN</td>\n",
       "    </tr>\n",
       "    <tr>\n",
       "      <td>4</td>\n",
       "      <td>2020-05-04 00:00:35</td>\n",
       "      <td>building</td>\n",
       "      <td>assembly_shop</td>\n",
       "      <td>cdc6bb92-0ccb-4490-9866-ef142f09139d</td>\n",
       "      <td>NaN</td>\n",
       "    </tr>\n",
       "    <tr>\n",
       "      <td>...</td>\n",
       "      <td>...</td>\n",
       "      <td>...</td>\n",
       "      <td>...</td>\n",
       "      <td>...</td>\n",
       "      <td>...</td>\n",
       "    </tr>\n",
       "    <tr>\n",
       "      <td>135635</td>\n",
       "      <td>2020-06-05 00:08:06</td>\n",
       "      <td>building</td>\n",
       "      <td>research_center</td>\n",
       "      <td>f21d179f-1c4b-437e-b9c6-ab1976907195</td>\n",
       "      <td>NaN</td>\n",
       "    </tr>\n",
       "    <tr>\n",
       "      <td>135636</td>\n",
       "      <td>2020-06-05 02:25:12</td>\n",
       "      <td>finished_stage_1</td>\n",
       "      <td>NaN</td>\n",
       "      <td>515c1952-99aa-4bca-a7ea-d0449eb5385a</td>\n",
       "      <td>NaN</td>\n",
       "    </tr>\n",
       "    <tr>\n",
       "      <td>135637</td>\n",
       "      <td>2020-06-05 08:57:52</td>\n",
       "      <td>building</td>\n",
       "      <td>research_center</td>\n",
       "      <td>ed3e7d02-8a96-4be7-9998-e9813ff9c316</td>\n",
       "      <td>NaN</td>\n",
       "    </tr>\n",
       "    <tr>\n",
       "      <td>135638</td>\n",
       "      <td>2020-06-05 12:12:27</td>\n",
       "      <td>finished_stage_1</td>\n",
       "      <td>NaN</td>\n",
       "      <td>32572adb-900f-4b5d-a453-1eb1e6d88d8b</td>\n",
       "      <td>NaN</td>\n",
       "    </tr>\n",
       "    <tr>\n",
       "      <td>135639</td>\n",
       "      <td>2020-06-05 12:32:49</td>\n",
       "      <td>finished_stage_1</td>\n",
       "      <td>NaN</td>\n",
       "      <td>f21d179f-1c4b-437e-b9c6-ab1976907195</td>\n",
       "      <td>NaN</td>\n",
       "    </tr>\n",
       "  </tbody>\n",
       "</table>\n",
       "<p>135640 rows × 5 columns</p>\n",
       "</div>"
      ],
      "text/plain": [
       "             event_datetime             event    building_type  \\\n",
       "0       2020-05-04 00:00:01          building    assembly_shop   \n",
       "1       2020-05-04 00:00:03          building    assembly_shop   \n",
       "2       2020-05-04 00:00:16          building    assembly_shop   \n",
       "3       2020-05-04 00:00:16          building    assembly_shop   \n",
       "4       2020-05-04 00:00:35          building    assembly_shop   \n",
       "...                     ...               ...              ...   \n",
       "135635  2020-06-05 00:08:06          building  research_center   \n",
       "135636  2020-06-05 02:25:12  finished_stage_1              NaN   \n",
       "135637  2020-06-05 08:57:52          building  research_center   \n",
       "135638  2020-06-05 12:12:27  finished_stage_1              NaN   \n",
       "135639  2020-06-05 12:32:49  finished_stage_1              NaN   \n",
       "\n",
       "                                     user_id project_type  \n",
       "0       55e92310-cb8e-4754-b622-597e124b03de          NaN  \n",
       "1       c07b1c10-f477-44dc-81dc-ec82254b1347          NaN  \n",
       "2       6edd42cc-e753-4ff6-a947-2107cd560710          NaN  \n",
       "3       92c69003-d60a-444a-827f-8cc51bf6bf4c          NaN  \n",
       "4       cdc6bb92-0ccb-4490-9866-ef142f09139d          NaN  \n",
       "...                                      ...          ...  \n",
       "135635  f21d179f-1c4b-437e-b9c6-ab1976907195          NaN  \n",
       "135636  515c1952-99aa-4bca-a7ea-d0449eb5385a          NaN  \n",
       "135637  ed3e7d02-8a96-4be7-9998-e9813ff9c316          NaN  \n",
       "135638  32572adb-900f-4b5d-a453-1eb1e6d88d8b          NaN  \n",
       "135639  f21d179f-1c4b-437e-b9c6-ab1976907195          NaN  \n",
       "\n",
       "[135640 rows x 5 columns]"
      ]
     },
     "metadata": {},
     "output_type": "display_data"
    },
    {
     "name": "stdout",
     "output_type": "stream",
     "text": [
      "<class 'pandas.core.frame.DataFrame'>\n",
      "RangeIndex: 135640 entries, 0 to 135639\n",
      "Data columns (total 5 columns):\n",
      "event_datetime    135640 non-null object\n",
      "event             135640 non-null object\n",
      "building_type     127957 non-null object\n",
      "user_id           135640 non-null object\n",
      "project_type      1866 non-null object\n",
      "dtypes: object(5)\n",
      "memory usage: 5.2+ MB\n"
     ]
    },
    {
     "data": {
      "text/plain": [
       "None"
      ]
     },
     "metadata": {},
     "output_type": "display_data"
    }
   ],
   "source": [
    "df_game= pd.read_csv('/datasets/game_actions.csv')\n",
    "display(df_game)\n",
    "display(df_game.info())"
   ]
  },
  {
   "cell_type": "markdown",
   "id": "12631b0a",
   "metadata": {},
   "source": [
    "df_game= pd.read_csv('game_actions.csv')\n",
    "display(df_game)\n",
    "display(df_game.info())"
   ]
  },
  {
   "cell_type": "markdown",
   "id": "2e9b4fdd",
   "metadata": {},
   "source": [
    "### Первый датасет \"user_source\""
   ]
  },
  {
   "cell_type": "code",
   "execution_count": 6,
   "id": "143124c6",
   "metadata": {},
   "outputs": [
    {
     "data": {
      "text/html": [
       "<div>\n",
       "<style scoped>\n",
       "    .dataframe tbody tr th:only-of-type {\n",
       "        vertical-align: middle;\n",
       "    }\n",
       "\n",
       "    .dataframe tbody tr th {\n",
       "        vertical-align: top;\n",
       "    }\n",
       "\n",
       "    .dataframe thead th {\n",
       "        text-align: right;\n",
       "    }\n",
       "</style>\n",
       "<table border=\"1\" class=\"dataframe\">\n",
       "  <thead>\n",
       "    <tr style=\"text-align: right;\">\n",
       "      <th></th>\n",
       "      <th>user_id</th>\n",
       "      <th>source</th>\n",
       "    </tr>\n",
       "  </thead>\n",
       "  <tbody>\n",
       "    <tr>\n",
       "      <td>0</td>\n",
       "      <td>0001f83c-c6ac-4621-b7f0-8a28b283ac30</td>\n",
       "      <td>facebook_ads</td>\n",
       "    </tr>\n",
       "    <tr>\n",
       "      <td>1</td>\n",
       "      <td>00151b4f-ba38-44a8-a650-d7cf130a0105</td>\n",
       "      <td>yandex_direct</td>\n",
       "    </tr>\n",
       "    <tr>\n",
       "      <td>2</td>\n",
       "      <td>001aaea6-3d14-43f1-8ca8-7f48820f17aa</td>\n",
       "      <td>youtube_channel_reklama</td>\n",
       "    </tr>\n",
       "    <tr>\n",
       "      <td>3</td>\n",
       "      <td>001d39dc-366c-4021-9604-6a3b9ff01e25</td>\n",
       "      <td>instagram_new_adverts</td>\n",
       "    </tr>\n",
       "    <tr>\n",
       "      <td>4</td>\n",
       "      <td>002f508f-67b6-479f-814b-b05f00d4e995</td>\n",
       "      <td>facebook_ads</td>\n",
       "    </tr>\n",
       "    <tr>\n",
       "      <td>...</td>\n",
       "      <td>...</td>\n",
       "      <td>...</td>\n",
       "    </tr>\n",
       "    <tr>\n",
       "      <td>13571</td>\n",
       "      <td>ffef4fed-164c-40e1-bde1-3980f76d0fb5</td>\n",
       "      <td>instagram_new_adverts</td>\n",
       "    </tr>\n",
       "    <tr>\n",
       "      <td>13572</td>\n",
       "      <td>fffab3da-da0e-4e30-ae62-10d0a2e24a4e</td>\n",
       "      <td>facebook_ads</td>\n",
       "    </tr>\n",
       "    <tr>\n",
       "      <td>13573</td>\n",
       "      <td>fffb626c-5ab6-47c9-8113-2062a2f18494</td>\n",
       "      <td>yandex_direct</td>\n",
       "    </tr>\n",
       "    <tr>\n",
       "      <td>13574</td>\n",
       "      <td>ffff194a-56b7-4c12-860d-3485242ae7f5</td>\n",
       "      <td>instagram_new_adverts</td>\n",
       "    </tr>\n",
       "    <tr>\n",
       "      <td>13575</td>\n",
       "      <td>ffff69cc-fec1-4fd3-9f98-93be1112a6b8</td>\n",
       "      <td>facebook_ads</td>\n",
       "    </tr>\n",
       "  </tbody>\n",
       "</table>\n",
       "<p>13576 rows × 2 columns</p>\n",
       "</div>"
      ],
      "text/plain": [
       "                                    user_id                   source\n",
       "0      0001f83c-c6ac-4621-b7f0-8a28b283ac30             facebook_ads\n",
       "1      00151b4f-ba38-44a8-a650-d7cf130a0105            yandex_direct\n",
       "2      001aaea6-3d14-43f1-8ca8-7f48820f17aa  youtube_channel_reklama\n",
       "3      001d39dc-366c-4021-9604-6a3b9ff01e25    instagram_new_adverts\n",
       "4      002f508f-67b6-479f-814b-b05f00d4e995             facebook_ads\n",
       "...                                     ...                      ...\n",
       "13571  ffef4fed-164c-40e1-bde1-3980f76d0fb5    instagram_new_adverts\n",
       "13572  fffab3da-da0e-4e30-ae62-10d0a2e24a4e             facebook_ads\n",
       "13573  fffb626c-5ab6-47c9-8113-2062a2f18494            yandex_direct\n",
       "13574  ffff194a-56b7-4c12-860d-3485242ae7f5    instagram_new_adverts\n",
       "13575  ffff69cc-fec1-4fd3-9f98-93be1112a6b8             facebook_ads\n",
       "\n",
       "[13576 rows x 2 columns]"
      ]
     },
     "metadata": {},
     "output_type": "display_data"
    },
    {
     "name": "stdout",
     "output_type": "stream",
     "text": [
      "<class 'pandas.core.frame.DataFrame'>\n",
      "RangeIndex: 13576 entries, 0 to 13575\n",
      "Data columns (total 2 columns):\n",
      "user_id    13576 non-null object\n",
      "source     13576 non-null object\n",
      "dtypes: object(2)\n",
      "memory usage: 212.2+ KB\n"
     ]
    },
    {
     "data": {
      "text/plain": [
       "None"
      ]
     },
     "metadata": {},
     "output_type": "display_data"
    }
   ],
   "source": [
    "user_source = pd.read_csv('/datasets/user_source.csv')\n",
    "display(user_source)\n",
    "display(user_source.info())"
   ]
  },
  {
   "cell_type": "markdown",
   "id": "c40001a0",
   "metadata": {},
   "source": [
    "user_source = pd.read_csv('user_source.csv')\n",
    "display(user_source)\n",
    "display(user_source.info())"
   ]
  },
  {
   "cell_type": "markdown",
   "id": "9a97ebb0",
   "metadata": {},
   "source": [
    "# Исследовательский анализ данных"
   ]
  },
  {
   "cell_type": "markdown",
   "id": "b8d044a8",
   "metadata": {},
   "source": [
    "## Проверка пропусков"
   ]
  },
  {
   "cell_type": "code",
   "execution_count": 7,
   "id": "524bb511",
   "metadata": {},
   "outputs": [
    {
     "data": {
      "text/plain": [
       "source    0\n",
       "day       0\n",
       "cost      0\n",
       "dtype: int64"
      ]
     },
     "execution_count": 7,
     "metadata": {},
     "output_type": "execute_result"
    }
   ],
   "source": [
    "ad_cost.isna().sum()"
   ]
  },
  {
   "cell_type": "code",
   "execution_count": 8,
   "id": "40374cec",
   "metadata": {},
   "outputs": [
    {
     "data": {
      "text/plain": [
       "event_datetime         0\n",
       "event                  0\n",
       "building_type       7683\n",
       "user_id                0\n",
       "project_type      133774\n",
       "dtype: int64"
      ]
     },
     "execution_count": 8,
     "metadata": {},
     "output_type": "execute_result"
    }
   ],
   "source": [
    "df_game.isna().sum()"
   ]
  },
  {
   "cell_type": "code",
   "execution_count": 9,
   "id": "e67889ce",
   "metadata": {},
   "outputs": [
    {
     "data": {
      "text/plain": [
       "user_id    0\n",
       "source     0\n",
       "dtype: int64"
      ]
     },
     "execution_count": 9,
     "metadata": {},
     "output_type": "execute_result"
    }
   ],
   "source": [
    "user_source.isna().sum()"
   ]
  },
  {
   "cell_type": "markdown",
   "id": "4a5998ca",
   "metadata": {},
   "source": [
    "## Преобразования данных"
   ]
  },
  {
   "cell_type": "code",
   "execution_count": 10,
   "id": "99f6ee94",
   "metadata": {},
   "outputs": [],
   "source": [
    "df_game['event_datetime'] = pd.to_datetime(df_game['event_datetime'])\n",
    "df_game['event_datetime'] = pd.to_datetime(df_game['event_datetime'])"
   ]
  },
  {
   "cell_type": "markdown",
   "id": "303e5b58",
   "metadata": {},
   "source": [
    "Перевел столбец \"event_datetime\" в формат даты и оставил только год-месяц-день"
   ]
  },
  {
   "cell_type": "code",
   "execution_count": 11,
   "id": "ab82b350",
   "metadata": {},
   "outputs": [],
   "source": [
    "ad_cost['day'] = pd.to_datetime(ad_cost['day'])"
   ]
  },
  {
   "cell_type": "markdown",
   "id": "a00da3b2",
   "metadata": {},
   "source": [
    "## Влияние событий на совершение целевого события"
   ]
  },
  {
   "cell_type": "code",
   "execution_count": 12,
   "id": "16b9a4ad",
   "metadata": {},
   "outputs": [],
   "source": [
    "df_game_first_visit = df_game.groupby(['user_id'])['event_datetime'].min()\n",
    "df_game_first_visit.name = 'first_visit'\n",
    "df_game = df_game.join(df_game_first_visit, on='user_id')"
   ]
  },
  {
   "cell_type": "code",
   "execution_count": 13,
   "id": "abb5023e",
   "metadata": {},
   "outputs": [],
   "source": [
    "df_game['value'] = (df_game['event_datetime'] - df_game['first_visit'])\n",
    "df_game['value_d'] = round(df_game['value'] / np.timedelta64(1,'D')).astype('int')\n",
    "df_game['value_h'] = (df_game['value'] / np.timedelta64(1,'h')).astype('int')"
   ]
  },
  {
   "cell_type": "markdown",
   "id": "337bf78f",
   "metadata": {},
   "source": [
    "Добавил столбец с первым посещением для каждого пользователя и количество дней проведенное в игре"
   ]
  },
  {
   "cell_type": "code",
   "execution_count": 14,
   "id": "6d8aadfb",
   "metadata": {
    "scrolled": false
   },
   "outputs": [
    {
     "data": {
      "text/html": [
       "<div>\n",
       "<style scoped>\n",
       "    .dataframe tbody tr th:only-of-type {\n",
       "        vertical-align: middle;\n",
       "    }\n",
       "\n",
       "    .dataframe tbody tr th {\n",
       "        vertical-align: top;\n",
       "    }\n",
       "\n",
       "    .dataframe thead th {\n",
       "        text-align: right;\n",
       "    }\n",
       "</style>\n",
       "<table border=\"1\" class=\"dataframe\">\n",
       "  <thead>\n",
       "    <tr style=\"text-align: right;\">\n",
       "      <th></th>\n",
       "      <th>event_datetime</th>\n",
       "      <th>event</th>\n",
       "      <th>building_type</th>\n",
       "      <th>user_id</th>\n",
       "      <th>project_type</th>\n",
       "      <th>first_visit</th>\n",
       "      <th>value</th>\n",
       "      <th>value_d</th>\n",
       "      <th>value_h</th>\n",
       "    </tr>\n",
       "  </thead>\n",
       "  <tbody>\n",
       "    <tr>\n",
       "      <td>0</td>\n",
       "      <td>2020-05-04 00:00:01</td>\n",
       "      <td>building</td>\n",
       "      <td>assembly_shop</td>\n",
       "      <td>55e92310-cb8e-4754-b622-597e124b03de</td>\n",
       "      <td>NaN</td>\n",
       "      <td>2020-05-04 00:00:01</td>\n",
       "      <td>0 days 00:00:00</td>\n",
       "      <td>0</td>\n",
       "      <td>0</td>\n",
       "    </tr>\n",
       "    <tr>\n",
       "      <td>1</td>\n",
       "      <td>2020-05-04 00:00:03</td>\n",
       "      <td>building</td>\n",
       "      <td>assembly_shop</td>\n",
       "      <td>c07b1c10-f477-44dc-81dc-ec82254b1347</td>\n",
       "      <td>NaN</td>\n",
       "      <td>2020-05-04 00:00:03</td>\n",
       "      <td>0 days 00:00:00</td>\n",
       "      <td>0</td>\n",
       "      <td>0</td>\n",
       "    </tr>\n",
       "    <tr>\n",
       "      <td>2</td>\n",
       "      <td>2020-05-04 00:00:16</td>\n",
       "      <td>building</td>\n",
       "      <td>assembly_shop</td>\n",
       "      <td>6edd42cc-e753-4ff6-a947-2107cd560710</td>\n",
       "      <td>NaN</td>\n",
       "      <td>2020-05-04 00:00:16</td>\n",
       "      <td>0 days 00:00:00</td>\n",
       "      <td>0</td>\n",
       "      <td>0</td>\n",
       "    </tr>\n",
       "    <tr>\n",
       "      <td>3</td>\n",
       "      <td>2020-05-04 00:00:16</td>\n",
       "      <td>building</td>\n",
       "      <td>assembly_shop</td>\n",
       "      <td>92c69003-d60a-444a-827f-8cc51bf6bf4c</td>\n",
       "      <td>NaN</td>\n",
       "      <td>2020-05-04 00:00:16</td>\n",
       "      <td>0 days 00:00:00</td>\n",
       "      <td>0</td>\n",
       "      <td>0</td>\n",
       "    </tr>\n",
       "    <tr>\n",
       "      <td>4</td>\n",
       "      <td>2020-05-04 00:00:35</td>\n",
       "      <td>building</td>\n",
       "      <td>assembly_shop</td>\n",
       "      <td>cdc6bb92-0ccb-4490-9866-ef142f09139d</td>\n",
       "      <td>NaN</td>\n",
       "      <td>2020-05-04 00:00:35</td>\n",
       "      <td>0 days 00:00:00</td>\n",
       "      <td>0</td>\n",
       "      <td>0</td>\n",
       "    </tr>\n",
       "    <tr>\n",
       "      <td>...</td>\n",
       "      <td>...</td>\n",
       "      <td>...</td>\n",
       "      <td>...</td>\n",
       "      <td>...</td>\n",
       "      <td>...</td>\n",
       "      <td>...</td>\n",
       "      <td>...</td>\n",
       "      <td>...</td>\n",
       "      <td>...</td>\n",
       "    </tr>\n",
       "    <tr>\n",
       "      <td>135635</td>\n",
       "      <td>2020-06-05 00:08:06</td>\n",
       "      <td>building</td>\n",
       "      <td>research_center</td>\n",
       "      <td>f21d179f-1c4b-437e-b9c6-ab1976907195</td>\n",
       "      <td>NaN</td>\n",
       "      <td>2020-05-06 02:56:25</td>\n",
       "      <td>29 days 21:11:41</td>\n",
       "      <td>30</td>\n",
       "      <td>717</td>\n",
       "    </tr>\n",
       "    <tr>\n",
       "      <td>135636</td>\n",
       "      <td>2020-06-05 02:25:12</td>\n",
       "      <td>finished_stage_1</td>\n",
       "      <td>NaN</td>\n",
       "      <td>515c1952-99aa-4bca-a7ea-d0449eb5385a</td>\n",
       "      <td>NaN</td>\n",
       "      <td>2020-05-07 07:28:50</td>\n",
       "      <td>28 days 18:56:22</td>\n",
       "      <td>29</td>\n",
       "      <td>690</td>\n",
       "    </tr>\n",
       "    <tr>\n",
       "      <td>135637</td>\n",
       "      <td>2020-06-05 08:57:52</td>\n",
       "      <td>building</td>\n",
       "      <td>research_center</td>\n",
       "      <td>ed3e7d02-8a96-4be7-9998-e9813ff9c316</td>\n",
       "      <td>NaN</td>\n",
       "      <td>2020-05-07 06:56:28</td>\n",
       "      <td>29 days 02:01:24</td>\n",
       "      <td>29</td>\n",
       "      <td>698</td>\n",
       "    </tr>\n",
       "    <tr>\n",
       "      <td>135638</td>\n",
       "      <td>2020-06-05 12:12:27</td>\n",
       "      <td>finished_stage_1</td>\n",
       "      <td>NaN</td>\n",
       "      <td>32572adb-900f-4b5d-a453-1eb1e6d88d8b</td>\n",
       "      <td>NaN</td>\n",
       "      <td>2020-05-07 05:43:45</td>\n",
       "      <td>29 days 06:28:42</td>\n",
       "      <td>29</td>\n",
       "      <td>702</td>\n",
       "    </tr>\n",
       "    <tr>\n",
       "      <td>135639</td>\n",
       "      <td>2020-06-05 12:32:49</td>\n",
       "      <td>finished_stage_1</td>\n",
       "      <td>NaN</td>\n",
       "      <td>f21d179f-1c4b-437e-b9c6-ab1976907195</td>\n",
       "      <td>NaN</td>\n",
       "      <td>2020-05-06 02:56:25</td>\n",
       "      <td>30 days 09:36:24</td>\n",
       "      <td>30</td>\n",
       "      <td>729</td>\n",
       "    </tr>\n",
       "  </tbody>\n",
       "</table>\n",
       "<p>135640 rows × 9 columns</p>\n",
       "</div>"
      ],
      "text/plain": [
       "            event_datetime             event    building_type  \\\n",
       "0      2020-05-04 00:00:01          building    assembly_shop   \n",
       "1      2020-05-04 00:00:03          building    assembly_shop   \n",
       "2      2020-05-04 00:00:16          building    assembly_shop   \n",
       "3      2020-05-04 00:00:16          building    assembly_shop   \n",
       "4      2020-05-04 00:00:35          building    assembly_shop   \n",
       "...                    ...               ...              ...   \n",
       "135635 2020-06-05 00:08:06          building  research_center   \n",
       "135636 2020-06-05 02:25:12  finished_stage_1              NaN   \n",
       "135637 2020-06-05 08:57:52          building  research_center   \n",
       "135638 2020-06-05 12:12:27  finished_stage_1              NaN   \n",
       "135639 2020-06-05 12:32:49  finished_stage_1              NaN   \n",
       "\n",
       "                                     user_id project_type         first_visit  \\\n",
       "0       55e92310-cb8e-4754-b622-597e124b03de          NaN 2020-05-04 00:00:01   \n",
       "1       c07b1c10-f477-44dc-81dc-ec82254b1347          NaN 2020-05-04 00:00:03   \n",
       "2       6edd42cc-e753-4ff6-a947-2107cd560710          NaN 2020-05-04 00:00:16   \n",
       "3       92c69003-d60a-444a-827f-8cc51bf6bf4c          NaN 2020-05-04 00:00:16   \n",
       "4       cdc6bb92-0ccb-4490-9866-ef142f09139d          NaN 2020-05-04 00:00:35   \n",
       "...                                      ...          ...                 ...   \n",
       "135635  f21d179f-1c4b-437e-b9c6-ab1976907195          NaN 2020-05-06 02:56:25   \n",
       "135636  515c1952-99aa-4bca-a7ea-d0449eb5385a          NaN 2020-05-07 07:28:50   \n",
       "135637  ed3e7d02-8a96-4be7-9998-e9813ff9c316          NaN 2020-05-07 06:56:28   \n",
       "135638  32572adb-900f-4b5d-a453-1eb1e6d88d8b          NaN 2020-05-07 05:43:45   \n",
       "135639  f21d179f-1c4b-437e-b9c6-ab1976907195          NaN 2020-05-06 02:56:25   \n",
       "\n",
       "                  value  value_d  value_h  \n",
       "0       0 days 00:00:00        0        0  \n",
       "1       0 days 00:00:00        0        0  \n",
       "2       0 days 00:00:00        0        0  \n",
       "3       0 days 00:00:00        0        0  \n",
       "4       0 days 00:00:00        0        0  \n",
       "...                 ...      ...      ...  \n",
       "135635 29 days 21:11:41       30      717  \n",
       "135636 28 days 18:56:22       29      690  \n",
       "135637 29 days 02:01:24       29      698  \n",
       "135638 29 days 06:28:42       29      702  \n",
       "135639 30 days 09:36:24       30      729  \n",
       "\n",
       "[135640 rows x 9 columns]"
      ]
     },
     "execution_count": 14,
     "metadata": {},
     "output_type": "execute_result"
    }
   ],
   "source": [
    "df_game"
   ]
  },
  {
   "cell_type": "code",
   "execution_count": 15,
   "id": "83814fbb",
   "metadata": {},
   "outputs": [],
   "source": [
    "df_lvl = df_game.query('event==\"finished_stage_1\"')['user_id']"
   ]
  },
  {
   "cell_type": "code",
   "execution_count": 16,
   "id": "320e5edd",
   "metadata": {},
   "outputs": [],
   "source": [
    "df_lvl_up=df_game.query('user_id in @df_lvl')"
   ]
  },
  {
   "cell_type": "code",
   "execution_count": 17,
   "id": "02d6e1ba",
   "metadata": {},
   "outputs": [
    {
     "data": {
      "text/plain": [
       "10.449716348633316"
      ]
     },
     "execution_count": 17,
     "metadata": {},
     "output_type": "execute_result"
    }
   ],
   "source": [
    "df_lvl_up.query('event==\"building\"').groupby('user_id')['event'].count().mean()"
   ]
  },
  {
   "cell_type": "markdown",
   "id": "a16af28a",
   "metadata": {},
   "source": [
    "Нашел среднее количество построек возведенных игроками. Единицы вычел чтобы убрать из расчетов \"event = finished_stage_1\""
   ]
  },
  {
   "cell_type": "code",
   "execution_count": 18,
   "id": "82f48f5d",
   "metadata": {},
   "outputs": [
    {
     "data": {
      "text/plain": [
       "47121     e3c66498-9d45-4000-9392-f81e6796e7da\n",
       "57398     936e7af6-8338-4703-a1df-fc6c3f5b8e34\n",
       "58797     a4491c86-c498-4f74-a56e-65c136d0e9a1\n",
       "61174     85d9e675-562b-4329-8bbd-14d3b39096be\n",
       "63770     1889ca71-3c57-4e61-9ea6-a711971bbf0a\n",
       "                          ...                 \n",
       "135602    9d98001c-7e14-40d7-896e-46b3047365fd\n",
       "135603    df4a1e13-eba9-4928-a7cf-ee303d6f80f9\n",
       "135609    82e46f34-e243-4728-8e20-2e171fc33ea4\n",
       "135617    fe032991-71e0-48c5-889f-4c3805ba4c9b\n",
       "135630    d477dde8-7c22-4f23-9c4f-4ec31a1aa4c8\n",
       "Name: user_id, Length: 1866, dtype: object"
      ]
     },
     "execution_count": 18,
     "metadata": {},
     "output_type": "execute_result"
    }
   ],
   "source": [
    "df_project = df_game.query('event == \"project\"')['user_id']\n",
    "df_project"
   ]
  },
  {
   "cell_type": "markdown",
   "id": "e7cb8945",
   "metadata": {},
   "source": [
    "Пользователи, которые выполнили проект"
   ]
  },
  {
   "cell_type": "code",
   "execution_count": 19,
   "id": "5f7dfdfb",
   "metadata": {},
   "outputs": [
    {
     "data": {
      "text/plain": [
       "building            127957\n",
       "finished_stage_1      5817\n",
       "project               1866\n",
       "Name: event, dtype: int64"
      ]
     },
     "execution_count": 19,
     "metadata": {},
     "output_type": "execute_result"
    }
   ],
   "source": [
    "df_game['event'].value_counts()"
   ]
  },
  {
   "cell_type": "code",
   "execution_count": 20,
   "id": "b7eede2e",
   "metadata": {},
   "outputs": [
    {
     "data": {
      "text/plain": [
       "1866"
      ]
     },
     "metadata": {},
     "output_type": "display_data"
    },
    {
     "data": {
      "text/plain": [
       "3951"
      ]
     },
     "metadata": {},
     "output_type": "display_data"
    }
   ],
   "source": [
    "display(df_game.query('user_id in @df_project and event == \"finished_stage_1\"')['user_id'].count())\n",
    "display(df_game.query('user_id not in @df_project and event == \"finished_stage_1\"')['user_id'].count())"
   ]
  },
  {
   "cell_type": "markdown",
   "id": "b66c82c9",
   "metadata": {},
   "source": [
    "Всего пользователей, которые получили 1 уровень - 5817.\n",
    "Из них 1866 получили уровень с помощью PVE\n",
    "3951 с помощью PVP"
   ]
  },
  {
   "cell_type": "code",
   "execution_count": 21,
   "id": "e3e44dfc",
   "metadata": {
    "scrolled": false
   },
   "outputs": [
    {
     "data": {
      "text/plain": [
       "Timedelta('13 days 11:00:49.135048')"
      ]
     },
     "execution_count": 21,
     "metadata": {},
     "output_type": "execute_result"
    }
   ],
   "source": [
    "df_game.query('user_id in @df_project and event == \"finished_stage_1\"')['value'].mean()"
   ]
  },
  {
   "cell_type": "code",
   "execution_count": 22,
   "id": "654c4567",
   "metadata": {},
   "outputs": [
    {
     "data": {
      "text/plain": [
       "Timedelta('11 days 02:30:24.076183')"
      ]
     },
     "execution_count": 22,
     "metadata": {},
     "output_type": "execute_result"
    }
   ],
   "source": [
    "df_game.query('user_id not in @df_project and event == \"finished_stage_1\"')['value'].mean()"
   ]
  },
  {
   "cell_type": "markdown",
   "id": "15bff3f3",
   "metadata": {},
   "source": [
    "Среднее время проведенное в игре для PVE - 13 дней, для PVP - 11 дней"
   ]
  },
  {
   "cell_type": "code",
   "execution_count": 23,
   "id": "0aaf145b",
   "metadata": {},
   "outputs": [],
   "source": [
    "ad_cost['day'] = ad_cost['day'] + pd.offsets.Day(1)"
   ]
  },
  {
   "cell_type": "markdown",
   "id": "78f6d665",
   "metadata": {},
   "source": [
    "Добавил к дате оплаты рекламы один день, так как реклама оплачивалась за день ДО"
   ]
  },
  {
   "cell_type": "code",
   "execution_count": 24,
   "id": "5eab650e",
   "metadata": {},
   "outputs": [],
   "source": [
    "temp = user_source.merge(df_game, on = 'user_id')"
   ]
  },
  {
   "cell_type": "markdown",
   "id": "e33a5239",
   "metadata": {},
   "source": [
    "Соединил две таблицы, чтобы добавить источник рекламы"
   ]
  },
  {
   "cell_type": "code",
   "execution_count": 25,
   "id": "813a266a",
   "metadata": {},
   "outputs": [],
   "source": [
    "temp['first_visit'] = pd.to_datetime(temp['first_visit'].dt.date)"
   ]
  },
  {
   "cell_type": "code",
   "execution_count": 26,
   "id": "6cd8fb6d",
   "metadata": {},
   "outputs": [
    {
     "data": {
      "image/png": "[encoded data removed]",
      "text/plain": [
       "<Figure size 1080x720 with 1 Axes>"
      ]
     },
     "metadata": {
      "needs_background": "light"
     },
     "output_type": "display_data"
    }
   ],
   "source": [
    "time_pivot=temp.pivot_table(index='first_visit',columns='source',values='user_id',aggfunc='nunique').plot(figsize=(15,10))\n",
    "plt.grid()\n",
    "plt.title('Приток пользователей в разбивке по источникам и дням')\n",
    "plt.xlabel('Дата')\n",
    "plt.ylabel('Количество')\n",
    "plt.show()"
   ]
  },
  {
   "cell_type": "markdown",
   "id": "a3872141",
   "metadata": {},
   "source": [
    "В таблице показано, сколько пользователей пришло в разбивке по источникам и дням"
   ]
  },
  {
   "cell_type": "code",
   "execution_count": 27,
   "id": "84c71546",
   "metadata": {},
   "outputs": [],
   "source": [
    "temp_on = temp.merge(ad_cost, left_on = ['source','first_visit'],right_on=['source','day'])"
   ]
  },
  {
   "cell_type": "markdown",
   "id": "3df24bda",
   "metadata": {},
   "source": [
    "Соединил две таблицы, чтобы добавить стоимость рекламы "
   ]
  },
  {
   "cell_type": "code",
   "execution_count": 28,
   "id": "24b9d97b",
   "metadata": {
    "scrolled": false
   },
   "outputs": [
    {
     "data": {
      "text/html": [
       "<div>\n",
       "<style scoped>\n",
       "    .dataframe tbody tr th:only-of-type {\n",
       "        vertical-align: middle;\n",
       "    }\n",
       "\n",
       "    .dataframe tbody tr th {\n",
       "        vertical-align: top;\n",
       "    }\n",
       "\n",
       "    .dataframe thead tr th {\n",
       "        text-align: left;\n",
       "    }\n",
       "\n",
       "    .dataframe thead tr:last-of-type th {\n",
       "        text-align: right;\n",
       "    }\n",
       "</style>\n",
       "<table border=\"1\" class=\"dataframe\">\n",
       "  <thead>\n",
       "    <tr>\n",
       "      <th></th>\n",
       "      <th colspan=\"4\" halign=\"left\">cost</th>\n",
       "      <th colspan=\"4\" halign=\"left\">user_id</th>\n",
       "    </tr>\n",
       "    <tr>\n",
       "      <th>source</th>\n",
       "      <th>facebook_ads</th>\n",
       "      <th>instagram_new_adverts</th>\n",
       "      <th>yandex_direct</th>\n",
       "      <th>youtube_channel_reklama</th>\n",
       "      <th>facebook_ads</th>\n",
       "      <th>instagram_new_adverts</th>\n",
       "      <th>yandex_direct</th>\n",
       "      <th>youtube_channel_reklama</th>\n",
       "    </tr>\n",
       "    <tr>\n",
       "      <th>first_visit</th>\n",
       "      <th></th>\n",
       "      <th></th>\n",
       "      <th></th>\n",
       "      <th></th>\n",
       "      <th></th>\n",
       "      <th></th>\n",
       "      <th></th>\n",
       "      <th></th>\n",
       "    </tr>\n",
       "  </thead>\n",
       "  <tbody>\n",
       "    <tr>\n",
       "      <td>2020-05-04</td>\n",
       "      <td>935.882786</td>\n",
       "      <td>943.204717</td>\n",
       "      <td>969.139394</td>\n",
       "      <td>454.224943</td>\n",
       "      <td>1184</td>\n",
       "      <td>1452</td>\n",
       "      <td>2078</td>\n",
       "      <td>1146</td>\n",
       "    </tr>\n",
       "    <tr>\n",
       "      <td>2020-05-05</td>\n",
       "      <td>548.354480</td>\n",
       "      <td>502.925451</td>\n",
       "      <td>554.651494</td>\n",
       "      <td>259.073224</td>\n",
       "      <td>694</td>\n",
       "      <td>796</td>\n",
       "      <td>1208</td>\n",
       "      <td>663</td>\n",
       "    </tr>\n",
       "    <tr>\n",
       "      <td>2020-05-06</td>\n",
       "      <td>260.185754</td>\n",
       "      <td>313.970984</td>\n",
       "      <td>308.232990</td>\n",
       "      <td>147.041741</td>\n",
       "      <td>345</td>\n",
       "      <td>472</td>\n",
       "      <td>664</td>\n",
       "      <td>366</td>\n",
       "    </tr>\n",
       "    <tr>\n",
       "      <td>2020-05-07</td>\n",
       "      <td>177.982200</td>\n",
       "      <td>173.071145</td>\n",
       "      <td>180.917099</td>\n",
       "      <td>88.506074</td>\n",
       "      <td>224</td>\n",
       "      <td>270</td>\n",
       "      <td>395</td>\n",
       "      <td>220</td>\n",
       "    </tr>\n",
       "    <tr>\n",
       "      <td>2020-05-08</td>\n",
       "      <td>111.766796</td>\n",
       "      <td>109.915254</td>\n",
       "      <td>114.429338</td>\n",
       "      <td>55.740645</td>\n",
       "      <td>139</td>\n",
       "      <td>175</td>\n",
       "      <td>239</td>\n",
       "      <td>135</td>\n",
       "    </tr>\n",
       "    <tr>\n",
       "      <td>2020-05-09</td>\n",
       "      <td>68.009276</td>\n",
       "      <td>71.578739</td>\n",
       "      <td>62.961630</td>\n",
       "      <td>40.217907</td>\n",
       "      <td>84</td>\n",
       "      <td>112</td>\n",
       "      <td>144</td>\n",
       "      <td>100</td>\n",
       "    </tr>\n",
       "    <tr>\n",
       "      <td>2020-05-10</td>\n",
       "      <td>38.723350</td>\n",
       "      <td>46.775400</td>\n",
       "      <td>42.779505</td>\n",
       "      <td>23.314669</td>\n",
       "      <td>56</td>\n",
       "      <td>70</td>\n",
       "      <td>89</td>\n",
       "      <td>56</td>\n",
       "    </tr>\n",
       "  </tbody>\n",
       "</table>\n",
       "</div>"
      ],
      "text/plain": [
       "                    cost                                      \\\n",
       "source      facebook_ads instagram_new_adverts yandex_direct   \n",
       "first_visit                                                    \n",
       "2020-05-04    935.882786            943.204717    969.139394   \n",
       "2020-05-05    548.354480            502.925451    554.651494   \n",
       "2020-05-06    260.185754            313.970984    308.232990   \n",
       "2020-05-07    177.982200            173.071145    180.917099   \n",
       "2020-05-08    111.766796            109.915254    114.429338   \n",
       "2020-05-09     68.009276             71.578739     62.961630   \n",
       "2020-05-10     38.723350             46.775400     42.779505   \n",
       "\n",
       "                                         user_id                        \\\n",
       "source      youtube_channel_reklama facebook_ads instagram_new_adverts   \n",
       "first_visit                                                              \n",
       "2020-05-04               454.224943         1184                  1452   \n",
       "2020-05-05               259.073224          694                   796   \n",
       "2020-05-06               147.041741          345                   472   \n",
       "2020-05-07                88.506074          224                   270   \n",
       "2020-05-08                55.740645          139                   175   \n",
       "2020-05-09                40.217907           84                   112   \n",
       "2020-05-10                23.314669           56                    70   \n",
       "\n",
       "                                                   \n",
       "source      yandex_direct youtube_channel_reklama  \n",
       "first_visit                                        \n",
       "2020-05-04           2078                    1146  \n",
       "2020-05-05           1208                     663  \n",
       "2020-05-06            664                     366  \n",
       "2020-05-07            395                     220  \n",
       "2020-05-08            239                     135  \n",
       "2020-05-09            144                     100  \n",
       "2020-05-10             89                      56  "
      ]
     },
     "execution_count": 28,
     "metadata": {},
     "output_type": "execute_result"
    }
   ],
   "source": [
    "temp_on.pivot_table(index='first_visit',columns='source',values=['user_id','cost'],aggfunc={'user_id':'nunique','cost':'first'})\\"
   ]
  },
  {
   "cell_type": "code",
   "execution_count": 29,
   "id": "2fe36c04",
   "metadata": {},
   "outputs": [
    {
     "data": {
      "text/html": [
       "<div>\n",
       "<style scoped>\n",
       "    .dataframe tbody tr th:only-of-type {\n",
       "        vertical-align: middle;\n",
       "    }\n",
       "\n",
       "    .dataframe tbody tr th {\n",
       "        vertical-align: top;\n",
       "    }\n",
       "\n",
       "    .dataframe thead th {\n",
       "        text-align: right;\n",
       "    }\n",
       "</style>\n",
       "<table border=\"1\" class=\"dataframe\">\n",
       "  <thead>\n",
       "    <tr style=\"text-align: right;\">\n",
       "      <th></th>\n",
       "      <th>first_visit</th>\n",
       "      <th>source</th>\n",
       "      <th>count</th>\n",
       "    </tr>\n",
       "  </thead>\n",
       "  <tbody>\n",
       "    <tr>\n",
       "      <td>0</td>\n",
       "      <td>2020-05-04</td>\n",
       "      <td>facebook_ads</td>\n",
       "      <td>0.790442</td>\n",
       "    </tr>\n",
       "    <tr>\n",
       "      <td>1</td>\n",
       "      <td>2020-05-04</td>\n",
       "      <td>instagram_new_adverts</td>\n",
       "      <td>0.649590</td>\n",
       "    </tr>\n",
       "    <tr>\n",
       "      <td>2</td>\n",
       "      <td>2020-05-04</td>\n",
       "      <td>yandex_direct</td>\n",
       "      <td>0.466381</td>\n",
       "    </tr>\n",
       "    <tr>\n",
       "      <td>3</td>\n",
       "      <td>2020-05-04</td>\n",
       "      <td>youtube_channel_reklama</td>\n",
       "      <td>0.396357</td>\n",
       "    </tr>\n",
       "    <tr>\n",
       "      <td>4</td>\n",
       "      <td>2020-05-05</td>\n",
       "      <td>facebook_ads</td>\n",
       "      <td>0.790136</td>\n",
       "    </tr>\n",
       "    <tr>\n",
       "      <td>5</td>\n",
       "      <td>2020-05-05</td>\n",
       "      <td>instagram_new_adverts</td>\n",
       "      <td>0.631816</td>\n",
       "    </tr>\n",
       "    <tr>\n",
       "      <td>6</td>\n",
       "      <td>2020-05-05</td>\n",
       "      <td>yandex_direct</td>\n",
       "      <td>0.459149</td>\n",
       "    </tr>\n",
       "    <tr>\n",
       "      <td>7</td>\n",
       "      <td>2020-05-05</td>\n",
       "      <td>youtube_channel_reklama</td>\n",
       "      <td>0.390759</td>\n",
       "    </tr>\n",
       "    <tr>\n",
       "      <td>8</td>\n",
       "      <td>2020-05-06</td>\n",
       "      <td>facebook_ads</td>\n",
       "      <td>0.754162</td>\n",
       "    </tr>\n",
       "    <tr>\n",
       "      <td>9</td>\n",
       "      <td>2020-05-06</td>\n",
       "      <td>instagram_new_adverts</td>\n",
       "      <td>0.665193</td>\n",
       "    </tr>\n",
       "    <tr>\n",
       "      <td>10</td>\n",
       "      <td>2020-05-06</td>\n",
       "      <td>yandex_direct</td>\n",
       "      <td>0.464206</td>\n",
       "    </tr>\n",
       "    <tr>\n",
       "      <td>11</td>\n",
       "      <td>2020-05-06</td>\n",
       "      <td>youtube_channel_reklama</td>\n",
       "      <td>0.401753</td>\n",
       "    </tr>\n",
       "    <tr>\n",
       "      <td>12</td>\n",
       "      <td>2020-05-07</td>\n",
       "      <td>facebook_ads</td>\n",
       "      <td>0.794563</td>\n",
       "    </tr>\n",
       "    <tr>\n",
       "      <td>13</td>\n",
       "      <td>2020-05-07</td>\n",
       "      <td>instagram_new_adverts</td>\n",
       "      <td>0.641004</td>\n",
       "    </tr>\n",
       "    <tr>\n",
       "      <td>14</td>\n",
       "      <td>2020-05-07</td>\n",
       "      <td>yandex_direct</td>\n",
       "      <td>0.458018</td>\n",
       "    </tr>\n",
       "    <tr>\n",
       "      <td>15</td>\n",
       "      <td>2020-05-07</td>\n",
       "      <td>youtube_channel_reklama</td>\n",
       "      <td>0.402300</td>\n",
       "    </tr>\n",
       "    <tr>\n",
       "      <td>16</td>\n",
       "      <td>2020-05-08</td>\n",
       "      <td>facebook_ads</td>\n",
       "      <td>0.804078</td>\n",
       "    </tr>\n",
       "    <tr>\n",
       "      <td>17</td>\n",
       "      <td>2020-05-08</td>\n",
       "      <td>instagram_new_adverts</td>\n",
       "      <td>0.628087</td>\n",
       "    </tr>\n",
       "    <tr>\n",
       "      <td>18</td>\n",
       "      <td>2020-05-08</td>\n",
       "      <td>yandex_direct</td>\n",
       "      <td>0.478784</td>\n",
       "    </tr>\n",
       "    <tr>\n",
       "      <td>19</td>\n",
       "      <td>2020-05-08</td>\n",
       "      <td>youtube_channel_reklama</td>\n",
       "      <td>0.412894</td>\n",
       "    </tr>\n",
       "    <tr>\n",
       "      <td>20</td>\n",
       "      <td>2020-05-09</td>\n",
       "      <td>facebook_ads</td>\n",
       "      <td>0.809634</td>\n",
       "    </tr>\n",
       "    <tr>\n",
       "      <td>21</td>\n",
       "      <td>2020-05-09</td>\n",
       "      <td>instagram_new_adverts</td>\n",
       "      <td>0.639096</td>\n",
       "    </tr>\n",
       "    <tr>\n",
       "      <td>22</td>\n",
       "      <td>2020-05-09</td>\n",
       "      <td>yandex_direct</td>\n",
       "      <td>0.437234</td>\n",
       "    </tr>\n",
       "    <tr>\n",
       "      <td>23</td>\n",
       "      <td>2020-05-09</td>\n",
       "      <td>youtube_channel_reklama</td>\n",
       "      <td>0.402179</td>\n",
       "    </tr>\n",
       "    <tr>\n",
       "      <td>24</td>\n",
       "      <td>2020-05-10</td>\n",
       "      <td>facebook_ads</td>\n",
       "      <td>0.691488</td>\n",
       "    </tr>\n",
       "    <tr>\n",
       "      <td>25</td>\n",
       "      <td>2020-05-10</td>\n",
       "      <td>instagram_new_adverts</td>\n",
       "      <td>0.668220</td>\n",
       "    </tr>\n",
       "    <tr>\n",
       "      <td>26</td>\n",
       "      <td>2020-05-10</td>\n",
       "      <td>yandex_direct</td>\n",
       "      <td>0.480669</td>\n",
       "    </tr>\n",
       "    <tr>\n",
       "      <td>27</td>\n",
       "      <td>2020-05-10</td>\n",
       "      <td>youtube_channel_reklama</td>\n",
       "      <td>0.416333</td>\n",
       "    </tr>\n",
       "  </tbody>\n",
       "</table>\n",
       "</div>"
      ],
      "text/plain": [
       "   first_visit                   source     count\n",
       "0   2020-05-04             facebook_ads  0.790442\n",
       "1   2020-05-04    instagram_new_adverts  0.649590\n",
       "2   2020-05-04            yandex_direct  0.466381\n",
       "3   2020-05-04  youtube_channel_reklama  0.396357\n",
       "4   2020-05-05             facebook_ads  0.790136\n",
       "5   2020-05-05    instagram_new_adverts  0.631816\n",
       "6   2020-05-05            yandex_direct  0.459149\n",
       "7   2020-05-05  youtube_channel_reklama  0.390759\n",
       "8   2020-05-06             facebook_ads  0.754162\n",
       "9   2020-05-06    instagram_new_adverts  0.665193\n",
       "10  2020-05-06            yandex_direct  0.464206\n",
       "11  2020-05-06  youtube_channel_reklama  0.401753\n",
       "12  2020-05-07             facebook_ads  0.794563\n",
       "13  2020-05-07    instagram_new_adverts  0.641004\n",
       "14  2020-05-07            yandex_direct  0.458018\n",
       "15  2020-05-07  youtube_channel_reklama  0.402300\n",
       "16  2020-05-08             facebook_ads  0.804078\n",
       "17  2020-05-08    instagram_new_adverts  0.628087\n",
       "18  2020-05-08            yandex_direct  0.478784\n",
       "19  2020-05-08  youtube_channel_reklama  0.412894\n",
       "20  2020-05-09             facebook_ads  0.809634\n",
       "21  2020-05-09    instagram_new_adverts  0.639096\n",
       "22  2020-05-09            yandex_direct  0.437234\n",
       "23  2020-05-09  youtube_channel_reklama  0.402179\n",
       "24  2020-05-10             facebook_ads  0.691488\n",
       "25  2020-05-10    instagram_new_adverts  0.668220\n",
       "26  2020-05-10            yandex_direct  0.480669\n",
       "27  2020-05-10  youtube_channel_reklama  0.416333"
      ]
     },
     "execution_count": 29,
     "metadata": {},
     "output_type": "execute_result"
    }
   ],
   "source": [
    "temp_1=(temp_on.groupby(['first_visit','source'])['cost'].first()  /\\\n",
    "temp_on.groupby(['first_visit','source'])['user_id'].nunique()).reset_index()\n",
    "temp_1.columns = 'first_visit','source','count'\n",
    "temp_1"
   ]
  },
  {
   "cell_type": "code",
   "execution_count": 30,
   "id": "56165db7",
   "metadata": {},
   "outputs": [
    {
     "data": {
      "image/png": "[encoded data removed]",
      "text/plain": [
       "<Figure size 1080x720 with 1 Axes>"
      ]
     },
     "metadata": {
      "needs_background": "light"
     },
     "output_type": "display_data"
    }
   ],
   "source": [
    "g=sns.relplot(kind='line',y='count', x ='first_visit', data=temp_1, hue='source',size='source')\n",
    "g.fig.set_size_inches(15,10)\n",
    "plt.grid()\n",
    "plt.xticks(rotation=90)\n",
    "plt.title('Стоимость привлечения одного клиента')\n",
    "plt.xlabel('Дата')\n",
    "plt.ylabel('Стоимость')\n",
    "plt.show()"
   ]
  },
  {
   "cell_type": "markdown",
   "id": "45a54111",
   "metadata": {},
   "source": [
    "Из таблицы видно, стоимость привлечения одного клиента."
   ]
  },
  {
   "cell_type": "markdown",
   "id": "98d905a0",
   "metadata": {},
   "source": [
    "## Первая модель монетизации"
   ]
  },
  {
   "cell_type": "code",
   "execution_count": 31,
   "id": "b2d8ceaa",
   "metadata": {},
   "outputs": [
    {
     "data": {
      "text/plain": [
       "7603.576986788022"
      ]
     },
     "execution_count": 31,
     "metadata": {},
     "output_type": "execute_result"
    }
   ],
   "source": [
    "cost_sum = ad_cost['cost'].sum()\n",
    "cost_sum"
   ]
  },
  {
   "cell_type": "markdown",
   "id": "01d6db61",
   "metadata": {},
   "source": [
    "Общая стоимость рекламы"
   ]
  },
  {
   "cell_type": "code",
   "execution_count": 32,
   "id": "d6328140",
   "metadata": {},
   "outputs": [],
   "source": [
    "cpm = 0.07"
   ]
  },
  {
   "cell_type": "markdown",
   "id": "316bd54d",
   "metadata": {},
   "source": [
    "Стоимость одного показа"
   ]
  },
  {
   "cell_type": "code",
   "execution_count": 33,
   "id": "a54352f0",
   "metadata": {
    "scrolled": false
   },
   "outputs": [],
   "source": [
    "count_build = df_game.query('event==\"building\"').groupby(['user_id'])['event'].count()\n",
    "count_build.name = 'count_build'\n",
    "df_game = df_game.join(count_build,on='user_id')"
   ]
  },
  {
   "cell_type": "code",
   "execution_count": 34,
   "id": "cbce3cf6",
   "metadata": {},
   "outputs": [
    {
     "data": {
      "text/plain": [
       "'Выручка после каждой постройки'"
      ]
     },
     "metadata": {},
     "output_type": "display_data"
    },
    {
     "data": {
      "text/plain": [
       "8956.990000000002"
      ]
     },
     "metadata": {},
     "output_type": "display_data"
    },
    {
     "data": {
      "text/plain": [
       "'Стоимость рекламы'"
      ]
     },
     "metadata": {},
     "output_type": "display_data"
    },
    {
     "data": {
      "text/plain": [
       "7603.576986788022"
      ]
     },
     "metadata": {},
     "output_type": "display_data"
    }
   ],
   "source": [
    "display('Выручка после каждой постройки',df_game.query('event == \"building\"')['event'].count()*cpm)\n",
    "display('Стоимость рекламы', cost_sum)"
   ]
  },
  {
   "cell_type": "markdown",
   "id": "f7e06a72",
   "metadata": {},
   "source": [
    "Стоимость затрат на маркетинг соствил 7603 у.е. Если придерживаться текущей модели монетизации, то выручка составит 8956 у.е."
   ]
  },
  {
   "cell_type": "code",
   "execution_count": 35,
   "id": "af13e48e",
   "metadata": {
    "scrolled": false
   },
   "outputs": [
    {
     "data": {
      "text/plain": [
       "'Количество дней: 0, Выручка с показов: 8957'"
      ]
     },
     "metadata": {},
     "output_type": "display_data"
    },
    {
     "data": {
      "text/plain": [
       "'Количество дней: 1, Выручка с показов: 7669'"
      ]
     },
     "metadata": {},
     "output_type": "display_data"
    },
    {
     "data": {
      "text/plain": [
       "'Количество дней: 2, Выручка с показов: 6963'"
      ]
     },
     "metadata": {},
     "output_type": "display_data"
    },
    {
     "data": {
      "text/plain": [
       "'Количество дней: 3, Выручка с показов: 6217'"
      ]
     },
     "metadata": {},
     "output_type": "display_data"
    },
    {
     "data": {
      "text/plain": [
       "'Количество дней: 4, Выручка с показов: 5412'"
      ]
     },
     "metadata": {},
     "output_type": "display_data"
    },
    {
     "data": {
      "text/plain": [
       "'Количество дней: 5, Выручка с показов: 4563'"
      ]
     },
     "metadata": {},
     "output_type": "display_data"
    },
    {
     "data": {
      "text/plain": [
       "'Количество дней: 6, Выручка с показов: 3721'"
      ]
     },
     "metadata": {},
     "output_type": "display_data"
    },
    {
     "data": {
      "text/plain": [
       "'Количество дней: 7, Выручка с показов: 2917'"
      ]
     },
     "metadata": {},
     "output_type": "display_data"
    },
    {
     "data": {
      "text/plain": [
       "'Количество дней: 8, Выручка с показов: 2323'"
      ]
     },
     "metadata": {},
     "output_type": "display_data"
    },
    {
     "data": {
      "text/plain": [
       "'Количество дней: 9, Выручка с показов: 1851'"
      ]
     },
     "metadata": {},
     "output_type": "display_data"
    },
    {
     "data": {
      "text/plain": [
       "'Количество дней: 10, Выручка с показов: 1435'"
      ]
     },
     "metadata": {},
     "output_type": "display_data"
    },
    {
     "data": {
      "text/plain": [
       "'Количество дней: 11, Выручка с показов: 1071'"
      ]
     },
     "metadata": {},
     "output_type": "display_data"
    },
    {
     "data": {
      "text/plain": [
       "'Количество дней: 12, Выручка с показов: 781'"
      ]
     },
     "metadata": {},
     "output_type": "display_data"
    },
    {
     "data": {
      "text/plain": [
       "'Количество дней: 13, Выручка с показов: 558'"
      ]
     },
     "metadata": {},
     "output_type": "display_data"
    },
    {
     "data": {
      "text/plain": [
       "'Количество дней: 14, Выручка с показов: 397'"
      ]
     },
     "metadata": {},
     "output_type": "display_data"
    },
    {
     "data": {
      "text/plain": [
       "'Количество дней: 15, Выручка с показов: 281'"
      ]
     },
     "metadata": {},
     "output_type": "display_data"
    },
    {
     "data": {
      "text/plain": [
       "'Количество дней: 16, Выручка с показов: 197'"
      ]
     },
     "metadata": {},
     "output_type": "display_data"
    },
    {
     "data": {
      "text/plain": [
       "'Количество дней: 17, Выручка с показов: 137'"
      ]
     },
     "metadata": {},
     "output_type": "display_data"
    },
    {
     "data": {
      "text/plain": [
       "'Количество дней: 18, Выручка с показов: 91'"
      ]
     },
     "metadata": {},
     "output_type": "display_data"
    },
    {
     "data": {
      "text/plain": [
       "'Количество дней: 19, Выручка с показов: 60'"
      ]
     },
     "metadata": {},
     "output_type": "display_data"
    },
    {
     "data": {
      "text/plain": [
       "'Количество дней: 20, Выручка с показов: 39'"
      ]
     },
     "metadata": {},
     "output_type": "display_data"
    },
    {
     "data": {
      "text/plain": [
       "'Количество дней: 21, Выручка с показов: 25'"
      ]
     },
     "metadata": {},
     "output_type": "display_data"
    },
    {
     "data": {
      "text/plain": [
       "'Количество дней: 22, Выручка с показов: 17'"
      ]
     },
     "metadata": {},
     "output_type": "display_data"
    },
    {
     "data": {
      "text/plain": [
       "'Количество дней: 23, Выручка с показов: 11'"
      ]
     },
     "metadata": {},
     "output_type": "display_data"
    },
    {
     "data": {
      "text/plain": [
       "'Количество дней: 24, Выручка с показов: 7'"
      ]
     },
     "metadata": {},
     "output_type": "display_data"
    },
    {
     "data": {
      "text/plain": [
       "'Количество дней: 25, Выручка с показов: 4'"
      ]
     },
     "metadata": {},
     "output_type": "display_data"
    },
    {
     "data": {
      "text/plain": [
       "'Количество дней: 26, Выручка с показов: 2'"
      ]
     },
     "metadata": {},
     "output_type": "display_data"
    },
    {
     "data": {
      "text/plain": [
       "'Количество дней: 27, Выручка с показов: 2'"
      ]
     },
     "metadata": {},
     "output_type": "display_data"
    },
    {
     "data": {
      "text/plain": [
       "'Количество дней: 28, Выручка с показов: 1'"
      ]
     },
     "metadata": {},
     "output_type": "display_data"
    },
    {
     "data": {
      "text/plain": [
       "'Количество дней: 29, Выручка с показов: 0'"
      ]
     },
     "metadata": {},
     "output_type": "display_data"
    },
    {
     "data": {
      "text/plain": [
       "'Количество дней: 30, Выручка с показов: 0'"
      ]
     },
     "metadata": {},
     "output_type": "display_data"
    },
    {
     "data": {
      "text/plain": [
       "'Количество дней: 31, Выручка с показов: 0'"
      ]
     },
     "metadata": {},
     "output_type": "display_data"
    }
   ],
   "source": [
    "value =  df_game['value_d'].sort_values().unique()\n",
    "for i in value:\n",
    "    result = df_game.query('value_d >= @i and event == \"building\"')['event'].count()*cpm\n",
    "    display('Количество дней: {:.0f}, Выручка с показов: {:.0f}'.format(i,result))"
   ]
  },
  {
   "cell_type": "code",
   "execution_count": 36,
   "id": "28bba5ab",
   "metadata": {},
   "outputs": [
    {
     "name": "stdout",
     "output_type": "stream",
     "text": [
      "Пропущено построек: 0, Общее количество построек всех пользоваталей: 127957, Выручка: 8957\n",
      "Пропущено построек: 1, Общее количество построек всех пользоваталей: 114381, Выручка: 8007\n",
      "Пропущено построек: 2, Общее количество построек всех пользоваталей: 100805, Выручка: 7056\n",
      "Пропущено построек: 3, Общее количество построек всех пользоваталей: 87229, Выручка: 6106\n",
      "Пропущено построек: 4, Общее количество построек всех пользоваталей: 73653, Выручка: 5156\n",
      "Пропущено построек: 5, Общее количество построек всех пользоваталей: 60077, Выручка: 4205\n",
      "Пропущено построек: 6, Общее количество построек всех пользоваталей: 46501, Выручка: 3255\n",
      "Пропущено построек: 7, Общее количество построек всех пользоваталей: 32925, Выручка: 2305\n",
      "Пропущено построек: 8, Общее количество построек всех пользоваталей: 19349, Выручка: 1354\n",
      "Пропущено построек: 9, Общее количество построек всех пользоваталей: 5773, Выручка: 404\n"
     ]
    }
   ],
   "source": [
    "count =  df_game['count_build'].sort_values().unique()\n",
    "for i in range(0,df_game['count_build'].sort_values().unique().max()):\n",
    "    result = (df_game.query('event == \"building\"').groupby('user_id')['event'].count()-i).sum()\n",
    "    if result > 0:\n",
    "        print('Пропущено построек: {:.0f}, Общее количество построек всех пользоваталей: {:.0f}, Выручка: {:.0f}'\\\n",
    "        .format(i,result,result*cpm))"
   ]
  },
  {
   "cell_type": "code",
   "execution_count": 37,
   "id": "029a83de",
   "metadata": {},
   "outputs": [
    {
     "data": {
      "text/html": [
       "<div>\n",
       "<style scoped>\n",
       "    .dataframe tbody tr th:only-of-type {\n",
       "        vertical-align: middle;\n",
       "    }\n",
       "\n",
       "    .dataframe tbody tr th {\n",
       "        vertical-align: top;\n",
       "    }\n",
       "\n",
       "    .dataframe thead th {\n",
       "        text-align: right;\n",
       "    }\n",
       "</style>\n",
       "<table border=\"1\" class=\"dataframe\">\n",
       "  <thead>\n",
       "    <tr style=\"text-align: right;\">\n",
       "      <th></th>\n",
       "      <th>event_datetime</th>\n",
       "      <th>event</th>\n",
       "      <th>building_type</th>\n",
       "      <th>user_id</th>\n",
       "      <th>project_type</th>\n",
       "      <th>first_visit</th>\n",
       "      <th>value</th>\n",
       "      <th>value_d</th>\n",
       "      <th>value_h</th>\n",
       "      <th>count_build</th>\n",
       "    </tr>\n",
       "  </thead>\n",
       "  <tbody>\n",
       "    <tr>\n",
       "      <td>4355</td>\n",
       "      <td>2020-05-04 13:14:21</td>\n",
       "      <td>building</td>\n",
       "      <td>assembly_shop</td>\n",
       "      <td>cc138eda-8c42-4210-b6c5-2751e06b0dbd</td>\n",
       "      <td>NaN</td>\n",
       "      <td>2020-05-04 00:05:31</td>\n",
       "      <td>0 days 13:08:50</td>\n",
       "      <td>1</td>\n",
       "      <td>13</td>\n",
       "      <td>13</td>\n",
       "    </tr>\n",
       "    <tr>\n",
       "      <td>4379</td>\n",
       "      <td>2020-05-04 13:18:25</td>\n",
       "      <td>building</td>\n",
       "      <td>assembly_shop</td>\n",
       "      <td>99af9000-798b-420a-b6bf-96c49dfe1ccb</td>\n",
       "      <td>NaN</td>\n",
       "      <td>2020-05-04 00:57:45</td>\n",
       "      <td>0 days 12:20:40</td>\n",
       "      <td>1</td>\n",
       "      <td>12</td>\n",
       "      <td>14</td>\n",
       "    </tr>\n",
       "    <tr>\n",
       "      <td>4495</td>\n",
       "      <td>2020-05-04 13:35:20</td>\n",
       "      <td>building</td>\n",
       "      <td>spaceport</td>\n",
       "      <td>72016be1-32fe-4953-b9ec-69ea5b5f4539</td>\n",
       "      <td>NaN</td>\n",
       "      <td>2020-05-04 00:07:35</td>\n",
       "      <td>0 days 13:27:45</td>\n",
       "      <td>1</td>\n",
       "      <td>13</td>\n",
       "      <td>11</td>\n",
       "    </tr>\n",
       "    <tr>\n",
       "      <td>4517</td>\n",
       "      <td>2020-05-04 13:38:16</td>\n",
       "      <td>building</td>\n",
       "      <td>assembly_shop</td>\n",
       "      <td>1742063d-5f41-4976-8473-213d4f9586ff</td>\n",
       "      <td>NaN</td>\n",
       "      <td>2020-05-04 01:36:37</td>\n",
       "      <td>0 days 12:01:39</td>\n",
       "      <td>1</td>\n",
       "      <td>12</td>\n",
       "      <td>10</td>\n",
       "    </tr>\n",
       "    <tr>\n",
       "      <td>4530</td>\n",
       "      <td>2020-05-04 13:39:57</td>\n",
       "      <td>building</td>\n",
       "      <td>assembly_shop</td>\n",
       "      <td>28d15f34-d1f2-4d25-b632-f74f6e7e917d</td>\n",
       "      <td>NaN</td>\n",
       "      <td>2020-05-04 00:31:04</td>\n",
       "      <td>0 days 13:08:53</td>\n",
       "      <td>1</td>\n",
       "      <td>13</td>\n",
       "      <td>12</td>\n",
       "    </tr>\n",
       "    <tr>\n",
       "      <td>...</td>\n",
       "      <td>...</td>\n",
       "      <td>...</td>\n",
       "      <td>...</td>\n",
       "      <td>...</td>\n",
       "      <td>...</td>\n",
       "      <td>...</td>\n",
       "      <td>...</td>\n",
       "      <td>...</td>\n",
       "      <td>...</td>\n",
       "      <td>...</td>\n",
       "    </tr>\n",
       "    <tr>\n",
       "      <td>135627</td>\n",
       "      <td>2020-06-04 05:18:54</td>\n",
       "      <td>building</td>\n",
       "      <td>research_center</td>\n",
       "      <td>d477dde8-7c22-4f23-9c4f-4ec31a1aa4c8</td>\n",
       "      <td>NaN</td>\n",
       "      <td>2020-05-07 02:18:19</td>\n",
       "      <td>28 days 03:00:35</td>\n",
       "      <td>28</td>\n",
       "      <td>675</td>\n",
       "      <td>13</td>\n",
       "    </tr>\n",
       "    <tr>\n",
       "      <td>135631</td>\n",
       "      <td>2020-06-04 13:26:25</td>\n",
       "      <td>building</td>\n",
       "      <td>research_center</td>\n",
       "      <td>32572adb-900f-4b5d-a453-1eb1e6d88d8b</td>\n",
       "      <td>NaN</td>\n",
       "      <td>2020-05-07 05:43:45</td>\n",
       "      <td>28 days 07:42:40</td>\n",
       "      <td>28</td>\n",
       "      <td>679</td>\n",
       "      <td>16</td>\n",
       "    </tr>\n",
       "    <tr>\n",
       "      <td>135634</td>\n",
       "      <td>2020-06-04 18:14:33</td>\n",
       "      <td>building</td>\n",
       "      <td>research_center</td>\n",
       "      <td>515c1952-99aa-4bca-a7ea-d0449eb5385a</td>\n",
       "      <td>NaN</td>\n",
       "      <td>2020-05-07 07:28:50</td>\n",
       "      <td>28 days 10:45:43</td>\n",
       "      <td>28</td>\n",
       "      <td>682</td>\n",
       "      <td>12</td>\n",
       "    </tr>\n",
       "    <tr>\n",
       "      <td>135635</td>\n",
       "      <td>2020-06-05 00:08:06</td>\n",
       "      <td>building</td>\n",
       "      <td>research_center</td>\n",
       "      <td>f21d179f-1c4b-437e-b9c6-ab1976907195</td>\n",
       "      <td>NaN</td>\n",
       "      <td>2020-05-06 02:56:25</td>\n",
       "      <td>29 days 21:11:41</td>\n",
       "      <td>30</td>\n",
       "      <td>717</td>\n",
       "      <td>12</td>\n",
       "    </tr>\n",
       "    <tr>\n",
       "      <td>135637</td>\n",
       "      <td>2020-06-05 08:57:52</td>\n",
       "      <td>building</td>\n",
       "      <td>research_center</td>\n",
       "      <td>ed3e7d02-8a96-4be7-9998-e9813ff9c316</td>\n",
       "      <td>NaN</td>\n",
       "      <td>2020-05-07 06:56:28</td>\n",
       "      <td>29 days 02:01:24</td>\n",
       "      <td>29</td>\n",
       "      <td>698</td>\n",
       "      <td>11</td>\n",
       "    </tr>\n",
       "  </tbody>\n",
       "</table>\n",
       "<p>109304 rows × 10 columns</p>\n",
       "</div>"
      ],
      "text/plain": [
       "            event_datetime     event    building_type  \\\n",
       "4355   2020-05-04 13:14:21  building    assembly_shop   \n",
       "4379   2020-05-04 13:18:25  building    assembly_shop   \n",
       "4495   2020-05-04 13:35:20  building        spaceport   \n",
       "4517   2020-05-04 13:38:16  building    assembly_shop   \n",
       "4530   2020-05-04 13:39:57  building    assembly_shop   \n",
       "...                    ...       ...              ...   \n",
       "135627 2020-06-04 05:18:54  building  research_center   \n",
       "135631 2020-06-04 13:26:25  building  research_center   \n",
       "135634 2020-06-04 18:14:33  building  research_center   \n",
       "135635 2020-06-05 00:08:06  building  research_center   \n",
       "135637 2020-06-05 08:57:52  building  research_center   \n",
       "\n",
       "                                     user_id project_type         first_visit  \\\n",
       "4355    cc138eda-8c42-4210-b6c5-2751e06b0dbd          NaN 2020-05-04 00:05:31   \n",
       "4379    99af9000-798b-420a-b6bf-96c49dfe1ccb          NaN 2020-05-04 00:57:45   \n",
       "4495    72016be1-32fe-4953-b9ec-69ea5b5f4539          NaN 2020-05-04 00:07:35   \n",
       "4517    1742063d-5f41-4976-8473-213d4f9586ff          NaN 2020-05-04 01:36:37   \n",
       "4530    28d15f34-d1f2-4d25-b632-f74f6e7e917d          NaN 2020-05-04 00:31:04   \n",
       "...                                      ...          ...                 ...   \n",
       "135627  d477dde8-7c22-4f23-9c4f-4ec31a1aa4c8          NaN 2020-05-07 02:18:19   \n",
       "135631  32572adb-900f-4b5d-a453-1eb1e6d88d8b          NaN 2020-05-07 05:43:45   \n",
       "135634  515c1952-99aa-4bca-a7ea-d0449eb5385a          NaN 2020-05-07 07:28:50   \n",
       "135635  f21d179f-1c4b-437e-b9c6-ab1976907195          NaN 2020-05-06 02:56:25   \n",
       "135637  ed3e7d02-8a96-4be7-9998-e9813ff9c316          NaN 2020-05-07 06:56:28   \n",
       "\n",
       "                  value  value_d  value_h  count_build  \n",
       "4355    0 days 13:08:50        1       13           13  \n",
       "4379    0 days 12:20:40        1       12           14  \n",
       "4495    0 days 13:27:45        1       13           11  \n",
       "4517    0 days 12:01:39        1       12           10  \n",
       "4530    0 days 13:08:53        1       13           12  \n",
       "...                 ...      ...      ...          ...  \n",
       "135627 28 days 03:00:35       28      675           13  \n",
       "135631 28 days 07:42:40       28      679           16  \n",
       "135634 28 days 10:45:43       28      682           12  \n",
       "135635 29 days 21:11:41       30      717           12  \n",
       "135637 29 days 02:01:24       29      698           11  \n",
       "\n",
       "[109304 rows x 10 columns]"
      ]
     },
     "execution_count": 37,
     "metadata": {},
     "output_type": "execute_result"
    }
   ],
   "source": [
    "df_game.query('value_d>=1 and count_build>=3 and event==\"building\"')"
   ]
  },
  {
   "cell_type": "code",
   "execution_count": 38,
   "id": "bd54a210",
   "metadata": {
    "scrolled": true
   },
   "outputs": [
    {
     "name": "stdout",
     "output_type": "stream",
     "text": [
      "Количество дней: 0, Количество построек: 1, Выручка: 8957\n",
      "Количество дней: 0, Количество построек: 2, Выручка: 8955\n",
      "Количество дней: 0, Количество построек: 3, Выручка: 8936\n",
      "Количество дней: 0, Количество построек: 4, Выручка: 8877\n",
      "Количество дней: 0, Количество построек: 5, Выручка: 8768\n",
      "Количество дней: 0, Количество построек: 6, Выручка: 8594\n",
      "Количество дней: 0, Количество построек: 7, Выручка: 8317\n",
      "Количество дней: 1, Количество построек: 1, Выручка: 8313\n",
      "Количество дней: 1, Количество построек: 2, Выручка: 8311\n",
      "Количество дней: 1, Количество построек: 3, Выручка: 8292\n",
      "Количество дней: 1, Количество построек: 4, Выручка: 8233\n",
      "Количество дней: 1, Количество построек: 5, Выручка: 8124\n",
      "Количество дней: 1, Количество построек: 6, Выручка: 7950\n",
      "Количество дней: 1, Количество построек: 7, Выручка: 7673\n"
     ]
    }
   ],
   "source": [
    "for i in value:\n",
    "    for n in count:\n",
    "        result_1 = df_game.query('value_d >= @i and event == \"building\"')['event'].count()* cpm\n",
    "        result_2 = df_game.query('count_build >= @n and event==\"building\"')['event'].count()* cpm\n",
    "        if result_1 > 7600 and result_2 > 7600:\n",
    "            print('Количество дней: {:.0f}, Количество построек: {:.0f}, Выручка: {:.0f}'.format(i,n,(result_2+result_1)/2))"
   ]
  },
  {
   "cell_type": "markdown",
   "id": "c79589c6",
   "metadata": {},
   "source": [
    "Оптиимально будет взять модель, при которой игроки пробыли один день в игре и построили не менее 7 построек"
   ]
  },
  {
   "cell_type": "markdown",
   "id": "6cffde1d",
   "metadata": {},
   "source": [
    "## Вторая модель монетизации"
   ]
  },
  {
   "cell_type": "code",
   "execution_count": 39,
   "id": "61f6db13",
   "metadata": {
    "scrolled": true
   },
   "outputs": [],
   "source": [
    "sum_hours = df_game.query('event==\"building\"').groupby('user_id')['value_h'].max().sum()"
   ]
  },
  {
   "cell_type": "markdown",
   "id": "31055a9e",
   "metadata": {},
   "source": [
    "Общее количество дней, которые провели пользователи в игре"
   ]
  },
  {
   "cell_type": "code",
   "execution_count": 40,
   "id": "37dc963d",
   "metadata": {},
   "outputs": [
    {
     "data": {
      "text/plain": [
       "30.979153681128754"
      ]
     },
     "execution_count": 40,
     "metadata": {},
     "output_type": "execute_result"
    }
   ],
   "source": [
    "sum_hours / cost_sum * cpm"
   ]
  },
  {
   "cell_type": "markdown",
   "id": "6697548e",
   "metadata": {},
   "source": [
    "Количество дней через которое нужно показывать рекламу для того, чтобы покрыть расходы на рекламу"
   ]
  },
  {
   "cell_type": "code",
   "execution_count": 41,
   "id": "780bba23",
   "metadata": {},
   "outputs": [
    {
     "name": "stdout",
     "output_type": "stream",
     "text": [
      "Давай прикинем, сколько, примерно, показов рекламы мы можем пропустить, так, чтобы продолжать окупаться\n",
      "Запас относительно базовой модели: 1353\n",
      "Запас показов относительно базовой модели: 19328.571428571428\n",
      "Запас показов на одного пользователя: 1.4237309537839884 \n",
      "Хорошо, в среднем 1-2 показа. Давай теперь выберем места для пропусков. Тут уже начинается творчество. Но заказчик считает, что пропускать в начала лучше, чем пропускать в конце. Так как пользователи с большим числом зданий уже прилично заинтересованы в игре. тогда сразу появляется резонный вопрос: Сколько зданий в начале мы можем позволить себе пропустить?\n"
     ]
    }
   ],
   "source": [
    "rev_base_model_income = 8956\n",
    "rev_consumption = 7603\n",
    "rev_total_actions = len(df_game.query('event==\"building\"')[\"user_id\"])\n",
    "rev_total_users = df_game[\"user_id\"].nunique()\n",
    "rev_add_cost = 0.07\n",
    "\n",
    "print(\"Давай прикинем, сколько, примерно, показов рекламы мы можем пропустить, так, чтобы продолжать окупаться\")\n",
    "print(f\"Запас относительно базовой модели: {rev_base_model_income - rev_consumption}\")\n",
    "print(f\"Запас показов относительно базовой модели: {(rev_base_model_income - rev_consumption) / rev_add_cost}\")\n",
    "print(f\"Запас показов на одного пользователя: {(rev_base_model_income - rev_consumption) / rev_add_cost / rev_total_users} \")\n",
    "print(f\"Хорошо, в среднем 1-2 показа. Давай теперь выберем места для пропусков. Тут уже начинается творчество. Но \" +\n",
    "      \"заказчик считает, что пропускать в начала лучше, чем пропускать в конце. Так как пользователи с большим числом \" + \n",
    "      \"зданий уже прилично заинтересованы в игре. тогда сразу появляется резонный вопрос: Сколько зданий в начале мы \" +\n",
    "      \"можем позволить себе пропустить?\")\n",
    "\n",
    "del rev_base_model_income\n",
    "del rev_consumption\n",
    "del rev_total_actions\n",
    "del rev_total_users\n",
    "del rev_add_cost\n",
    "# <------ Код ревьюера "
   ]
  },
  {
   "cell_type": "markdown",
   "id": "77636b3c",
   "metadata": {},
   "source": [
    "# Проверка статистической гипотезы"
   ]
  },
  {
   "cell_type": "code",
   "execution_count": 42,
   "id": "03ff9f27",
   "metadata": {},
   "outputs": [],
   "source": [
    "df_project = df_game.query('event == \"project\"')['user_id']"
   ]
  },
  {
   "cell_type": "code",
   "execution_count": 43,
   "id": "ef6bfc7a",
   "metadata": {},
   "outputs": [
    {
     "name": "stdout",
     "output_type": "stream",
     "text": [
      "p-значение:  1.0867598832876934e-106\n",
      "Отвергаем нулевую гипотезу\n"
     ]
    }
   ],
   "source": [
    "alpha = 0.05\n",
    "\n",
    "results = st.ttest_ind(df_game.query('user_id in @df_project and event==\"finished_stage_1\"')['value_d'],\n",
    "                       df_game.query('user_id not in @df_project and event==\"finished_stage_1\"')['value_d'],equal_var=False) \n",
    "\n",
    "print('p-значение: ', results.pvalue)\n",
    "\n",
    "if results.pvalue < alpha :\n",
    "    print(\"Отвергаем нулевую гипотезу\")\n",
    "else:\n",
    "    print(\"Не получилось отвергнуть нулевую гипотезу\")\n"
   ]
  },
  {
   "cell_type": "markdown",
   "id": "0120be4b",
   "metadata": {},
   "source": [
    "Рабочая гипотеза: пользователи тратят разное время на завершение уровня, в зависимости способа прохождения — через выполнение проекта или победу над врагом."
   ]
  },
  {
   "cell_type": "markdown",
   "id": "8c7e6406",
   "metadata": {},
   "source": [
    "* Нулевая гипотеза гласит, что среднее время прохождения уровня пользователями, которые заканчивают уровень через реализацию проекта, равно времени прохождения уровня пользователями, которые заканчивают уровень победой над другим игроками\n",
    "* Альтернативная гипотеза гласит, что среднее время прохождения уровня пользователями, которые заканчивают уровень через реализацию проекта, не равно времени прохождения уровня пользователями, которые заканчивают уровень победой над другим игроками"
   ]
  },
  {
   "cell_type": "markdown",
   "id": "dc73b824",
   "metadata": {},
   "source": [
    "По результатам теста, отвергаем нулевую гипотезы, отсюда следует, что время достижения первого уровня для PVE и PVP игроков разное."
   ]
  },
  {
   "cell_type": "code",
   "execution_count": 44,
   "id": "e74db172",
   "metadata": {},
   "outputs": [
    {
     "name": "stdout",
     "output_type": "stream",
     "text": [
      "p-значение:  0.0\n",
      "Отвергаем нулевую гипотезу\n"
     ]
    }
   ],
   "source": [
    "alpha = 0.05\n",
    "\n",
    "results = st.ttest_ind(df_game.query('user_id in @df_project and event==\"finished_stage_1\"')['count_build'],\n",
    "                       df_game.query('user_id not in @df_project and event==\"finished_stage_1\"')['count_build'],equal_var=False) \n",
    "\n",
    "print('p-значение: ', results.pvalue)\n",
    "\n",
    "if results.pvalue < alpha :\n",
    "    print(\"Отвергаем нулевую гипотезу\")\n",
    "else:\n",
    "    print(\"Не получилось отвергнуть нулевую гипотезу\")\n"
   ]
  },
  {
   "cell_type": "markdown",
   "id": "f581426a",
   "metadata": {},
   "source": [
    "Рабочая гипотеза: пользователи строят разное количество зданий для завершения уровня, в зависимости способа прохождения — через выполнение проекта или победу над врагом."
   ]
  },
  {
   "cell_type": "markdown",
   "id": "2d176931",
   "metadata": {},
   "source": [
    "* Нулевая гипотеза гласит, что среднее количество построенных зданий для прохождения уровня пользователями, которые заканчивают уровень через реализацию проекта, равно количеству построенных зданий для прохождения уровня пользователями, которые заканчивают уровень победой над другим игроками\n",
    "* Альтернативная гипотеза гласит, что среднее количество построенных зданий для прохождения уровня пользователями, которые заканчивают уровень через реализацию проекта, не равно количеству построенных зданий для прохождения уровня пользователями, которые заканчивают уровень победой над другим игроками"
   ]
  },
  {
   "cell_type": "markdown",
   "id": "1837662c",
   "metadata": {},
   "source": [
    "По результатам теста, отвергаем нулевую гипотезы, отсюда следует, что для достижения первого уровня PVE и PVP игроки строят разное количество зданий."
   ]
  },
  {
   "cell_type": "markdown",
   "id": "03732c24",
   "metadata": {},
   "source": [
    "# Презентация и дашборд"
   ]
  },
  {
   "cell_type": "markdown",
   "id": "05552ce6",
   "metadata": {},
   "source": [
    "Здесь будет ссылка на проект и ссылка на дашборд:\n",
    "* <a href=\"https://public.tableau.com/app/profile/andrey7240/viz/Finalproject_16429365530630/Dashboard2?publish=yes\">Дашборд</a>\n",
    "* <a href=\"https://disk.yandex.ru/i/KxecK1g5tasrZw\">Презентация</a>"
   ]
  }
 ],
 "metadata": {
  "ExecuteTimeLog": [
   {
    "duration": 1182,
    "start_time": "2022-01-21T07:41:54.884Z"
   },
   {
    "duration": 2538,
    "start_time": "2022-01-21T07:41:56.068Z"
   },
   {
    "duration": -95,
    "start_time": "2022-01-21T07:41:58.705Z"
   },
   {
    "duration": -98,
    "start_time": "2022-01-21T07:41:58.709Z"
   },
   {
    "duration": -100,
    "start_time": "2022-01-21T07:41:58.713Z"
   },
   {
    "duration": -102,
    "start_time": "2022-01-21T07:41:58.716Z"
   },
   {
    "duration": -105,
    "start_time": "2022-01-21T07:41:58.720Z"
   },
   {
    "duration": -106,
    "start_time": "2022-01-21T07:41:58.723Z"
   },
   {
    "duration": -108,
    "start_time": "2022-01-21T07:41:58.726Z"
   },
   {
    "duration": -110,
    "start_time": "2022-01-21T07:41:58.729Z"
   },
   {
    "duration": -113,
    "start_time": "2022-01-21T07:41:58.733Z"
   },
   {
    "duration": -114,
    "start_time": "2022-01-21T07:41:58.736Z"
   },
   {
    "duration": -114,
    "start_time": "2022-01-21T07:41:58.739Z"
   },
   {
    "duration": -116,
    "start_time": "2022-01-21T07:41:58.742Z"
   },
   {
    "duration": -117,
    "start_time": "2022-01-21T07:41:58.745Z"
   },
   {
    "duration": -119,
    "start_time": "2022-01-21T07:41:58.749Z"
   },
   {
    "duration": -121,
    "start_time": "2022-01-21T07:41:58.752Z"
   },
   {
    "duration": -122,
    "start_time": "2022-01-21T07:41:58.755Z"
   },
   {
    "duration": -124,
    "start_time": "2022-01-21T07:41:58.758Z"
   },
   {
    "duration": -125,
    "start_time": "2022-01-21T07:41:58.760Z"
   },
   {
    "duration": -126,
    "start_time": "2022-01-21T07:41:58.762Z"
   },
   {
    "duration": -127,
    "start_time": "2022-01-21T07:41:58.764Z"
   },
   {
    "duration": -128,
    "start_time": "2022-01-21T07:41:58.767Z"
   },
   {
    "duration": -128,
    "start_time": "2022-01-21T07:41:58.768Z"
   },
   {
    "duration": -129,
    "start_time": "2022-01-21T07:41:58.770Z"
   },
   {
    "duration": -130,
    "start_time": "2022-01-21T07:41:58.772Z"
   },
   {
    "duration": -130,
    "start_time": "2022-01-21T07:41:58.774Z"
   },
   {
    "duration": -131,
    "start_time": "2022-01-21T07:41:58.776Z"
   },
   {
    "duration": -133,
    "start_time": "2022-01-21T07:41:58.779Z"
   },
   {
    "duration": 109,
    "start_time": "2022-01-21T07:42:40.955Z"
   },
   {
    "duration": 45,
    "start_time": "2022-01-21T07:43:21.329Z"
   },
   {
    "duration": 1194,
    "start_time": "2022-01-21T07:44:11.079Z"
   },
   {
    "duration": 46,
    "start_time": "2022-01-21T07:44:12.276Z"
   },
   {
    "duration": 9,
    "start_time": "2022-01-21T07:44:12.327Z"
   },
   {
    "duration": 306,
    "start_time": "2022-01-21T07:44:12.339Z"
   },
   {
    "duration": 48,
    "start_time": "2022-01-21T07:44:12.647Z"
   },
   {
    "duration": 6,
    "start_time": "2022-01-21T07:44:12.697Z"
   },
   {
    "duration": 70,
    "start_time": "2022-01-21T07:44:12.706Z"
   },
   {
    "duration": 8,
    "start_time": "2022-01-21T07:44:12.780Z"
   },
   {
    "duration": 135,
    "start_time": "2022-01-21T07:44:12.791Z"
   },
   {
    "duration": 5,
    "start_time": "2022-01-21T07:44:12.928Z"
   },
   {
    "duration": 2319,
    "start_time": "2022-01-21T07:44:12.935Z"
   },
   {
    "duration": 583,
    "start_time": "2022-01-21T07:44:15.256Z"
   },
   {
    "duration": 60,
    "start_time": "2022-01-21T07:44:15.841Z"
   },
   {
    "duration": 30,
    "start_time": "2022-01-21T07:44:15.903Z"
   },
   {
    "duration": 36,
    "start_time": "2022-01-21T07:44:15.936Z"
   },
   {
    "duration": 13,
    "start_time": "2022-01-21T07:44:15.974Z"
   },
   {
    "duration": 20,
    "start_time": "2022-01-21T07:44:15.990Z"
   },
   {
    "duration": 86,
    "start_time": "2022-01-21T07:44:16.013Z"
   },
   {
    "duration": 24,
    "start_time": "2022-01-21T07:44:16.102Z"
   },
   {
    "duration": 47,
    "start_time": "2022-01-21T07:44:16.129Z"
   },
   {
    "duration": 5,
    "start_time": "2022-01-21T07:44:16.178Z"
   },
   {
    "duration": 123,
    "start_time": "2022-01-21T07:44:16.186Z"
   },
   {
    "duration": 51,
    "start_time": "2022-01-21T07:44:16.315Z"
   },
   {
    "duration": 197,
    "start_time": "2022-01-21T07:44:16.369Z"
   },
   {
    "duration": 42,
    "start_time": "2022-01-21T07:44:16.569Z"
   },
   {
    "duration": 141,
    "start_time": "2022-01-21T07:44:16.613Z"
   },
   {
    "duration": 109,
    "start_time": "2022-01-21T07:44:16.759Z"
   },
   {
    "duration": 9,
    "start_time": "2022-01-21T07:44:16.870Z"
   },
   {
    "duration": 48,
    "start_time": "2022-01-21T07:44:16.881Z"
   },
   {
    "duration": 292,
    "start_time": "2022-01-21T17:45:11.760Z"
   },
   {
    "duration": 968,
    "start_time": "2022-01-21T17:45:18.142Z"
   },
   {
    "duration": 33,
    "start_time": "2022-01-21T17:45:19.111Z"
   },
   {
    "duration": 80,
    "start_time": "2022-01-21T17:45:19.146Z"
   },
   {
    "duration": 68,
    "start_time": "2022-01-21T17:45:19.227Z"
   },
   {
    "duration": 749,
    "start_time": "2022-01-21T17:45:19.296Z"
   },
   {
    "duration": 48,
    "start_time": "2022-01-21T17:45:20.047Z"
   },
   {
    "duration": 11,
    "start_time": "2022-01-21T17:45:20.097Z"
   },
   {
    "duration": 89,
    "start_time": "2022-01-21T17:45:20.111Z"
   },
   {
    "duration": 46,
    "start_time": "2022-01-21T17:45:20.202Z"
   },
   {
    "duration": 113,
    "start_time": "2022-01-21T17:45:20.250Z"
   },
   {
    "duration": 4,
    "start_time": "2022-01-21T17:45:20.364Z"
   },
   {
    "duration": 1218,
    "start_time": "2022-01-21T17:45:20.370Z"
   },
   {
    "duration": 406,
    "start_time": "2022-01-21T17:45:21.590Z"
   },
   {
    "duration": 34,
    "start_time": "2022-01-21T17:45:21.998Z"
   },
   {
    "duration": 36,
    "start_time": "2022-01-21T17:45:22.034Z"
   },
   {
    "duration": 35,
    "start_time": "2022-01-21T17:45:22.072Z"
   },
   {
    "duration": 50,
    "start_time": "2022-01-21T17:45:22.109Z"
   },
   {
    "duration": 59,
    "start_time": "2022-01-21T17:45:22.161Z"
   },
   {
    "duration": 67,
    "start_time": "2022-01-21T17:45:22.222Z"
   },
   {
    "duration": 39,
    "start_time": "2022-01-21T17:45:22.291Z"
   },
   {
    "duration": 50,
    "start_time": "2022-01-21T17:45:22.332Z"
   },
   {
    "duration": 33,
    "start_time": "2022-01-21T17:45:22.383Z"
   },
   {
    "duration": 121,
    "start_time": "2022-01-21T17:45:22.420Z"
   },
   {
    "duration": 26,
    "start_time": "2022-01-21T17:45:22.543Z"
   },
   {
    "duration": 158,
    "start_time": "2022-01-21T17:45:22.570Z"
   },
   {
    "duration": 36,
    "start_time": "2022-01-21T17:45:22.729Z"
   },
   {
    "duration": 92,
    "start_time": "2022-01-21T17:45:22.767Z"
   },
   {
    "duration": 75,
    "start_time": "2022-01-21T17:45:22.861Z"
   },
   {
    "duration": 8,
    "start_time": "2022-01-21T17:45:22.938Z"
   },
   {
    "duration": 43,
    "start_time": "2022-01-21T17:45:22.948Z"
   },
   {
    "duration": 82,
    "start_time": "2022-01-21T17:46:39.221Z"
   },
   {
    "duration": 338,
    "start_time": "2022-01-21T17:46:46.708Z"
   },
   {
    "duration": 85,
    "start_time": "2022-01-21T17:46:52.992Z"
   },
   {
    "duration": 28,
    "start_time": "2022-01-21T17:46:59.699Z"
   },
   {
    "duration": 366,
    "start_time": "2022-01-21T17:48:31.078Z"
   },
   {
    "duration": 138,
    "start_time": "2022-01-21T17:49:40.028Z"
   },
   {
    "duration": 363,
    "start_time": "2022-01-21T17:49:46.157Z"
   },
   {
    "duration": 344,
    "start_time": "2022-01-21T17:52:34.319Z"
   },
   {
    "duration": 716,
    "start_time": "2022-01-21T17:52:51.522Z"
   },
   {
    "duration": 894,
    "start_time": "2022-01-21T17:52:58.716Z"
   },
   {
    "duration": 369,
    "start_time": "2022-01-21T17:53:40.325Z"
   },
   {
    "duration": 803,
    "start_time": "2022-01-21T17:53:56.335Z"
   },
   {
    "duration": 470,
    "start_time": "2022-01-21T17:54:10.078Z"
   },
   {
    "duration": 658,
    "start_time": "2022-01-21T17:54:16.315Z"
   },
   {
    "duration": 414,
    "start_time": "2022-01-21T17:54:23.152Z"
   },
   {
    "duration": 507,
    "start_time": "2022-01-21T17:54:42.629Z"
   },
   {
    "duration": 357,
    "start_time": "2022-01-21T17:55:16.458Z"
   },
   {
    "duration": 424,
    "start_time": "2022-01-21T17:55:38.243Z"
   },
   {
    "duration": 632,
    "start_time": "2022-01-21T17:55:52.909Z"
   },
   {
    "duration": 364,
    "start_time": "2022-01-21T17:56:01.973Z"
   },
   {
    "duration": 722,
    "start_time": "2022-01-21T17:56:21.138Z"
   },
   {
    "duration": 399,
    "start_time": "2022-01-21T17:56:41.545Z"
   },
   {
    "duration": 358,
    "start_time": "2022-01-21T17:56:49.145Z"
   },
   {
    "duration": 366,
    "start_time": "2022-01-21T17:56:55.192Z"
   },
   {
    "duration": 356,
    "start_time": "2022-01-21T17:57:12.430Z"
   },
   {
    "duration": 384,
    "start_time": "2022-01-21T17:57:21.371Z"
   },
   {
    "duration": 158,
    "start_time": "2022-01-21T18:01:14.709Z"
   },
   {
    "duration": 449,
    "start_time": "2022-01-21T18:01:26.035Z"
   },
   {
    "duration": 362,
    "start_time": "2022-01-21T18:01:43.571Z"
   },
   {
    "duration": 410,
    "start_time": "2022-01-21T18:01:47.953Z"
   },
   {
    "duration": 408,
    "start_time": "2022-01-21T18:01:58.896Z"
   },
   {
    "duration": 449,
    "start_time": "2022-01-21T18:03:16.540Z"
   },
   {
    "duration": 300,
    "start_time": "2022-01-21T18:03:36.321Z"
   },
   {
    "duration": 316,
    "start_time": "2022-01-21T18:03:52.845Z"
   },
   {
    "duration": 435,
    "start_time": "2022-01-21T18:04:02.303Z"
   },
   {
    "duration": 81,
    "start_time": "2022-01-21T18:04:23.280Z"
   },
   {
    "duration": 543,
    "start_time": "2022-01-21T18:04:30.703Z"
   },
   {
    "duration": 634,
    "start_time": "2022-01-21T18:04:55.708Z"
   },
   {
    "duration": 79,
    "start_time": "2022-01-21T18:05:17.245Z"
   },
   {
    "duration": 369,
    "start_time": "2022-01-21T18:05:22.439Z"
   },
   {
    "duration": 343,
    "start_time": "2022-01-21T18:05:45.059Z"
   },
   {
    "duration": 361,
    "start_time": "2022-01-21T18:07:17.034Z"
   },
   {
    "duration": 511,
    "start_time": "2022-01-21T18:07:51.744Z"
   },
   {
    "duration": 476,
    "start_time": "2022-01-21T18:08:06.116Z"
   },
   {
    "duration": 635,
    "start_time": "2022-01-21T18:08:20.735Z"
   },
   {
    "duration": 563,
    "start_time": "2022-01-21T18:08:24.371Z"
   },
   {
    "duration": 554,
    "start_time": "2022-01-21T18:08:44.740Z"
   },
   {
    "duration": 806,
    "start_time": "2022-01-21T18:08:53.264Z"
   },
   {
    "duration": 89,
    "start_time": "2022-01-21T18:09:03.744Z"
   },
   {
    "duration": 623,
    "start_time": "2022-01-21T18:09:09.090Z"
   },
   {
    "duration": 105,
    "start_time": "2022-01-21T18:09:25.413Z"
   },
   {
    "duration": 625,
    "start_time": "2022-01-21T18:09:28.958Z"
   },
   {
    "duration": 648,
    "start_time": "2022-01-21T18:09:54.328Z"
   },
   {
    "duration": 613,
    "start_time": "2022-01-21T18:10:18.238Z"
   },
   {
    "duration": 71,
    "start_time": "2022-01-21T18:11:15.673Z"
   },
   {
    "duration": 605,
    "start_time": "2022-01-21T18:11:22.906Z"
   },
   {
    "duration": 592,
    "start_time": "2022-01-21T18:11:29.649Z"
   },
   {
    "duration": 603,
    "start_time": "2022-01-21T18:12:01.616Z"
   },
   {
    "duration": 352,
    "start_time": "2022-01-21T18:12:24.392Z"
   },
   {
    "duration": 357,
    "start_time": "2022-01-21T18:12:39.587Z"
   },
   {
    "duration": 466,
    "start_time": "2022-01-21T18:12:45.354Z"
   },
   {
    "duration": 649,
    "start_time": "2022-01-21T18:12:49.818Z"
   },
   {
    "duration": 403,
    "start_time": "2022-01-21T18:12:58.779Z"
   },
   {
    "duration": 348,
    "start_time": "2022-01-21T18:13:07.465Z"
   },
   {
    "duration": 75,
    "start_time": "2022-01-21T18:13:28.446Z"
   },
   {
    "duration": 316,
    "start_time": "2022-01-21T18:13:52.549Z"
   },
   {
    "duration": 76,
    "start_time": "2022-01-21T18:14:00.798Z"
   },
   {
    "duration": 452,
    "start_time": "2022-01-21T18:15:05.411Z"
   },
   {
    "duration": 348,
    "start_time": "2022-01-21T18:15:14.421Z"
   },
   {
    "duration": 328,
    "start_time": "2022-01-21T18:15:54.951Z"
   },
   {
    "duration": 710,
    "start_time": "2022-01-21T18:15:59.269Z"
   },
   {
    "duration": 687,
    "start_time": "2022-01-21T18:17:29.419Z"
   },
   {
    "duration": 351,
    "start_time": "2022-01-21T18:17:41.038Z"
   },
   {
    "duration": 507,
    "start_time": "2022-01-21T18:17:54.575Z"
   },
   {
    "duration": 346,
    "start_time": "2022-01-21T18:18:02.689Z"
   },
   {
    "duration": 352,
    "start_time": "2022-01-21T18:18:38.938Z"
   },
   {
    "duration": 361,
    "start_time": "2022-01-21T18:18:43.055Z"
   },
   {
    "duration": 70,
    "start_time": "2022-01-21T18:20:10.346Z"
   },
   {
    "duration": 75,
    "start_time": "2022-01-21T18:20:33.014Z"
   },
   {
    "duration": 308,
    "start_time": "2022-01-21T18:20:44.065Z"
   },
   {
    "duration": 366,
    "start_time": "2022-01-21T18:22:44.160Z"
   },
   {
    "duration": 438,
    "start_time": "2022-01-21T18:22:55.638Z"
   },
   {
    "duration": 427,
    "start_time": "2022-01-21T18:23:01.555Z"
   },
   {
    "duration": 336,
    "start_time": "2022-01-21T18:23:04.290Z"
   },
   {
    "duration": 5461,
    "start_time": "2022-01-21T18:23:08.717Z"
   },
   {
    "duration": 67,
    "start_time": "2022-01-21T18:23:41.880Z"
   },
   {
    "duration": 69,
    "start_time": "2022-01-21T18:23:45.695Z"
   },
   {
    "duration": 69,
    "start_time": "2022-01-21T18:23:50.026Z"
   },
   {
    "duration": 6021,
    "start_time": "2022-01-21T18:23:58.386Z"
   },
   {
    "duration": 478,
    "start_time": "2022-01-21T18:24:57.842Z"
   },
   {
    "duration": 326,
    "start_time": "2022-01-21T18:25:03.928Z"
   },
   {
    "duration": 307,
    "start_time": "2022-01-21T18:25:10.061Z"
   },
   {
    "duration": 318,
    "start_time": "2022-01-21T18:26:44.691Z"
   },
   {
    "duration": 321,
    "start_time": "2022-01-21T18:26:50.117Z"
   },
   {
    "duration": 319,
    "start_time": "2022-01-21T18:27:40.069Z"
   },
   {
    "duration": 310,
    "start_time": "2022-01-21T18:27:49.027Z"
   },
   {
    "duration": 49,
    "start_time": "2022-01-21T18:28:07.301Z"
   },
   {
    "duration": 400,
    "start_time": "2022-01-21T18:28:13.738Z"
   },
   {
    "duration": 316,
    "start_time": "2022-01-21T18:28:31.895Z"
   },
   {
    "duration": 368,
    "start_time": "2022-01-21T18:29:11.648Z"
   },
   {
    "duration": 319,
    "start_time": "2022-01-21T18:29:16.067Z"
   },
   {
    "duration": 338,
    "start_time": "2022-01-21T18:29:29.018Z"
   },
   {
    "duration": 434,
    "start_time": "2022-01-21T18:30:14.032Z"
   },
   {
    "duration": 537,
    "start_time": "2022-01-21T18:30:40.502Z"
   },
   {
    "duration": 332,
    "start_time": "2022-01-21T18:30:44.258Z"
   },
   {
    "duration": 454,
    "start_time": "2022-01-21T18:31:05.613Z"
   },
   {
    "duration": 326,
    "start_time": "2022-01-21T18:31:11.492Z"
   },
   {
    "duration": 308,
    "start_time": "2022-01-21T18:31:19.620Z"
   },
   {
    "duration": 499,
    "start_time": "2022-01-21T18:31:29.852Z"
   },
   {
    "duration": 338,
    "start_time": "2022-01-21T18:31:50.895Z"
   },
   {
    "duration": 78,
    "start_time": "2022-01-21T18:31:58.532Z"
   },
   {
    "duration": 334,
    "start_time": "2022-01-21T18:32:04.245Z"
   },
   {
    "duration": 341,
    "start_time": "2022-01-21T18:32:12.276Z"
   },
   {
    "duration": 126,
    "start_time": "2022-01-21T18:33:27.788Z"
   },
   {
    "duration": 121,
    "start_time": "2022-01-21T18:33:33.218Z"
   },
   {
    "duration": 383,
    "start_time": "2022-01-21T18:33:40.871Z"
   },
   {
    "duration": 505,
    "start_time": "2022-01-21T18:33:47.949Z"
   },
   {
    "duration": 338,
    "start_time": "2022-01-21T18:34:02.308Z"
   },
   {
    "duration": 102,
    "start_time": "2022-01-21T18:34:38.990Z"
   },
   {
    "duration": 355,
    "start_time": "2022-01-21T18:36:18.142Z"
   },
   {
    "duration": 482,
    "start_time": "2022-01-21T18:37:09.702Z"
   },
   {
    "duration": 660,
    "start_time": "2022-01-21T18:37:16.120Z"
   },
   {
    "duration": 536,
    "start_time": "2022-01-21T18:37:32.427Z"
   },
   {
    "duration": 258,
    "start_time": "2022-01-21T18:38:11.748Z"
   },
   {
    "duration": 74,
    "start_time": "2022-01-21T18:38:13.957Z"
   },
   {
    "duration": 253,
    "start_time": "2022-01-21T18:39:13.731Z"
   },
   {
    "duration": 515,
    "start_time": "2022-01-21T18:39:23.666Z"
   },
   {
    "duration": 495,
    "start_time": "2022-01-21T18:40:45.209Z"
   },
   {
    "duration": 86,
    "start_time": "2022-01-21T18:41:06.513Z"
   },
   {
    "duration": 626,
    "start_time": "2022-01-21T18:41:09.698Z"
   },
   {
    "duration": 998,
    "start_time": "2022-01-21T18:41:26.837Z"
   },
   {
    "duration": 838,
    "start_time": "2022-01-21T18:41:50.646Z"
   },
   {
    "duration": 907,
    "start_time": "2022-01-21T18:42:12.056Z"
   },
   {
    "duration": 1399,
    "start_time": "2022-01-21T18:42:25.332Z"
   },
   {
    "duration": 999,
    "start_time": "2022-01-21T18:42:29.434Z"
   },
   {
    "duration": 660,
    "start_time": "2022-01-21T18:42:47.079Z"
   },
   {
    "duration": 1132,
    "start_time": "2022-01-21T18:43:02.566Z"
   },
   {
    "duration": 644,
    "start_time": "2022-01-21T18:43:45.916Z"
   },
   {
    "duration": 625,
    "start_time": "2022-01-21T18:44:22.741Z"
   },
   {
    "duration": 1013,
    "start_time": "2022-01-21T18:44:37.394Z"
   },
   {
    "duration": 890,
    "start_time": "2022-01-21T18:46:14.781Z"
   },
   {
    "duration": 647,
    "start_time": "2022-01-21T18:46:30.376Z"
   },
   {
    "duration": 741,
    "start_time": "2022-01-21T18:46:36.773Z"
   },
   {
    "duration": 809,
    "start_time": "2022-01-21T18:46:44.038Z"
   },
   {
    "duration": 643,
    "start_time": "2022-01-21T18:46:58.799Z"
   },
   {
    "duration": 658,
    "start_time": "2022-01-21T18:47:24.569Z"
   },
   {
    "duration": 624,
    "start_time": "2022-01-21T18:47:35.939Z"
   },
   {
    "duration": 680,
    "start_time": "2022-01-21T18:47:40.568Z"
   },
   {
    "duration": 999,
    "start_time": "2022-01-21T18:47:55.299Z"
   },
   {
    "duration": 889,
    "start_time": "2022-01-21T18:48:05.489Z"
   },
   {
    "duration": 646,
    "start_time": "2022-01-21T18:48:22.903Z"
   },
   {
    "duration": 650,
    "start_time": "2022-01-21T18:48:36.301Z"
   },
   {
    "duration": 591,
    "start_time": "2022-01-21T18:48:51.853Z"
   },
   {
    "duration": 864,
    "start_time": "2022-01-21T18:49:03.348Z"
   },
   {
    "duration": 614,
    "start_time": "2022-01-21T18:49:09.553Z"
   },
   {
    "duration": 548,
    "start_time": "2022-01-21T18:49:18.704Z"
   },
   {
    "duration": 630,
    "start_time": "2022-01-21T18:49:22.586Z"
   },
   {
    "duration": 674,
    "start_time": "2022-01-21T18:50:50.919Z"
   },
   {
    "duration": 617,
    "start_time": "2022-01-21T18:50:57.365Z"
   },
   {
    "duration": 640,
    "start_time": "2022-01-21T18:51:44.663Z"
   },
   {
    "duration": 1288,
    "start_time": "2022-01-21T18:52:02.240Z"
   },
   {
    "duration": 730,
    "start_time": "2022-01-21T18:52:16.597Z"
   },
   {
    "duration": 270,
    "start_time": "2022-01-21T18:53:39.631Z"
   },
   {
    "duration": 713,
    "start_time": "2022-01-21T18:53:44.455Z"
   },
   {
    "duration": 863,
    "start_time": "2022-01-21T18:53:49.971Z"
   },
   {
    "duration": 89,
    "start_time": "2022-01-21T18:54:08.565Z"
   },
   {
    "duration": 918,
    "start_time": "2022-01-21T18:54:15.838Z"
   },
   {
    "duration": 131,
    "start_time": "2022-01-21T18:54:22.926Z"
   },
   {
    "duration": 711,
    "start_time": "2022-01-21T18:55:33.086Z"
   },
   {
    "duration": 910,
    "start_time": "2022-01-21T18:55:49.620Z"
   },
   {
    "duration": 874,
    "start_time": "2022-01-21T18:55:56.018Z"
   },
   {
    "duration": 800,
    "start_time": "2022-01-21T18:57:05.355Z"
   },
   {
    "duration": 1513,
    "start_time": "2022-01-22T08:00:32.441Z"
   },
   {
    "duration": 109,
    "start_time": "2022-01-22T08:00:33.956Z"
   },
   {
    "duration": -1316,
    "start_time": "2022-01-22T08:00:35.383Z"
   },
   {
    "duration": -1335,
    "start_time": "2022-01-22T08:00:35.404Z"
   },
   {
    "duration": -1340,
    "start_time": "2022-01-22T08:00:35.409Z"
   },
   {
    "duration": -1346,
    "start_time": "2022-01-22T08:00:35.416Z"
   },
   {
    "duration": -1351,
    "start_time": "2022-01-22T08:00:35.422Z"
   },
   {
    "duration": -1355,
    "start_time": "2022-01-22T08:00:35.428Z"
   },
   {
    "duration": -1358,
    "start_time": "2022-01-22T08:00:35.432Z"
   },
   {
    "duration": -1361,
    "start_time": "2022-01-22T08:00:35.436Z"
   },
   {
    "duration": -1363,
    "start_time": "2022-01-22T08:00:35.439Z"
   },
   {
    "duration": -1366,
    "start_time": "2022-01-22T08:00:35.443Z"
   },
   {
    "duration": -1369,
    "start_time": "2022-01-22T08:00:35.447Z"
   },
   {
    "duration": -1371,
    "start_time": "2022-01-22T08:00:35.451Z"
   },
   {
    "duration": -1374,
    "start_time": "2022-01-22T08:00:35.455Z"
   },
   {
    "duration": -1378,
    "start_time": "2022-01-22T08:00:35.460Z"
   },
   {
    "duration": -1380,
    "start_time": "2022-01-22T08:00:35.464Z"
   },
   {
    "duration": -1383,
    "start_time": "2022-01-22T08:00:35.468Z"
   },
   {
    "duration": -1386,
    "start_time": "2022-01-22T08:00:35.472Z"
   },
   {
    "duration": -1389,
    "start_time": "2022-01-22T08:00:35.476Z"
   },
   {
    "duration": -1392,
    "start_time": "2022-01-22T08:00:35.480Z"
   },
   {
    "duration": -1395,
    "start_time": "2022-01-22T08:00:35.484Z"
   },
   {
    "duration": -1403,
    "start_time": "2022-01-22T08:00:35.493Z"
   },
   {
    "duration": -1406,
    "start_time": "2022-01-22T08:00:35.497Z"
   },
   {
    "duration": -1409,
    "start_time": "2022-01-22T08:00:35.501Z"
   },
   {
    "duration": -1418,
    "start_time": "2022-01-22T08:00:35.511Z"
   },
   {
    "duration": -1421,
    "start_time": "2022-01-22T08:00:35.516Z"
   },
   {
    "duration": -1426,
    "start_time": "2022-01-22T08:00:35.522Z"
   },
   {
    "duration": -1428,
    "start_time": "2022-01-22T08:00:35.526Z"
   },
   {
    "duration": -1433,
    "start_time": "2022-01-22T08:00:35.532Z"
   },
   {
    "duration": -1436,
    "start_time": "2022-01-22T08:00:35.536Z"
   },
   {
    "duration": 53,
    "start_time": "2022-01-22T08:01:07.565Z"
   },
   {
    "duration": 1478,
    "start_time": "2022-01-22T08:01:14.430Z"
   },
   {
    "duration": 35,
    "start_time": "2022-01-22T08:01:15.910Z"
   },
   {
    "duration": 13,
    "start_time": "2022-01-22T08:01:15.947Z"
   },
   {
    "duration": 11,
    "start_time": "2022-01-22T08:01:15.962Z"
   },
   {
    "duration": 1011,
    "start_time": "2022-01-22T08:01:15.974Z"
   },
   {
    "duration": 400,
    "start_time": "2022-01-22T08:01:16.987Z"
   },
   {
    "duration": 4,
    "start_time": "2022-01-22T08:01:17.389Z"
   },
   {
    "duration": 25,
    "start_time": "2022-01-22T08:01:17.397Z"
   },
   {
    "duration": 5,
    "start_time": "2022-01-22T08:01:17.425Z"
   },
   {
    "duration": 103,
    "start_time": "2022-01-22T08:01:17.432Z"
   },
   {
    "duration": 5,
    "start_time": "2022-01-22T08:01:17.536Z"
   },
   {
    "duration": 1358,
    "start_time": "2022-01-22T08:01:17.543Z"
   },
   {
    "duration": 385,
    "start_time": "2022-01-22T08:01:18.903Z"
   },
   {
    "duration": 27,
    "start_time": "2022-01-22T08:01:19.290Z"
   },
   {
    "duration": 30,
    "start_time": "2022-01-22T08:01:19.319Z"
   },
   {
    "duration": 51,
    "start_time": "2022-01-22T08:01:19.350Z"
   },
   {
    "duration": 12,
    "start_time": "2022-01-22T08:01:19.403Z"
   },
   {
    "duration": 17,
    "start_time": "2022-01-22T08:01:19.417Z"
   },
   {
    "duration": 49,
    "start_time": "2022-01-22T08:01:19.436Z"
   },
   {
    "duration": 14,
    "start_time": "2022-01-22T08:01:19.486Z"
   },
   {
    "duration": 16,
    "start_time": "2022-01-22T08:01:19.501Z"
   },
   {
    "duration": 4,
    "start_time": "2022-01-22T08:01:19.519Z"
   },
   {
    "duration": 89,
    "start_time": "2022-01-22T08:01:19.526Z"
   },
   {
    "duration": 23,
    "start_time": "2022-01-22T08:01:19.617Z"
   },
   {
    "duration": 433,
    "start_time": "2022-01-22T08:01:19.642Z"
   },
   {
    "duration": 30,
    "start_time": "2022-01-22T08:01:20.077Z"
   },
   {
    "duration": 97,
    "start_time": "2022-01-22T08:01:20.108Z"
   },
   {
    "duration": 71,
    "start_time": "2022-01-22T08:01:20.207Z"
   },
   {
    "duration": 460,
    "start_time": "2022-01-22T08:01:20.280Z"
   },
   {
    "duration": 114,
    "start_time": "2022-01-22T08:01:20.628Z"
   },
   {
    "duration": 111,
    "start_time": "2022-01-22T08:01:20.632Z"
   },
   {
    "duration": 695,
    "start_time": "2022-01-22T08:01:36.272Z"
   },
   {
    "duration": 727,
    "start_time": "2022-01-22T08:01:51.616Z"
   },
   {
    "duration": 14,
    "start_time": "2022-01-22T08:02:35.595Z"
   },
   {
    "duration": 40,
    "start_time": "2022-01-22T08:02:55.006Z"
   },
   {
    "duration": 303,
    "start_time": "2022-01-22T08:02:59.512Z"
   },
   {
    "duration": 32,
    "start_time": "2022-01-22T08:03:11.372Z"
   },
   {
    "duration": 50,
    "start_time": "2022-01-22T08:03:28.789Z"
   },
   {
    "duration": 61,
    "start_time": "2022-01-22T08:03:49.171Z"
   },
   {
    "duration": 48,
    "start_time": "2022-01-22T08:04:05.393Z"
   },
   {
    "duration": 46,
    "start_time": "2022-01-22T08:04:13.021Z"
   },
   {
    "duration": 14,
    "start_time": "2022-01-22T08:04:58.629Z"
   },
   {
    "duration": 47,
    "start_time": "2022-01-22T08:05:15.556Z"
   },
   {
    "duration": 38,
    "start_time": "2022-01-22T08:09:53.439Z"
   },
   {
    "duration": 35,
    "start_time": "2022-01-22T08:10:14.131Z"
   },
   {
    "duration": 35,
    "start_time": "2022-01-22T08:10:48.977Z"
   },
   {
    "duration": 343,
    "start_time": "2022-01-22T08:11:05.592Z"
   },
   {
    "duration": 412,
    "start_time": "2022-01-22T08:11:13.721Z"
   },
   {
    "duration": 168,
    "start_time": "2022-01-22T08:11:38.144Z"
   },
   {
    "duration": 352,
    "start_time": "2022-01-22T08:11:40.840Z"
   },
   {
    "duration": 52,
    "start_time": "2022-01-22T08:11:51.234Z"
   },
   {
    "duration": 54,
    "start_time": "2022-01-22T08:12:02.834Z"
   },
   {
    "duration": 35,
    "start_time": "2022-01-22T08:12:40.410Z"
   },
   {
    "duration": 39,
    "start_time": "2022-01-22T08:13:04.093Z"
   },
   {
    "duration": 35,
    "start_time": "2022-01-22T08:13:10.452Z"
   },
   {
    "duration": 47,
    "start_time": "2022-01-22T08:13:39.428Z"
   },
   {
    "duration": 40,
    "start_time": "2022-01-22T08:13:56.934Z"
   },
   {
    "duration": 335,
    "start_time": "2022-01-22T08:14:33.405Z"
   },
   {
    "duration": 35,
    "start_time": "2022-01-22T08:14:49.346Z"
   },
   {
    "duration": 39,
    "start_time": "2022-01-22T08:15:02.896Z"
   },
   {
    "duration": 519,
    "start_time": "2022-01-22T08:15:09.824Z"
   },
   {
    "duration": 442,
    "start_time": "2022-01-22T08:15:37.696Z"
   },
   {
    "duration": 118,
    "start_time": "2022-01-22T08:15:46.315Z"
   },
   {
    "duration": 109,
    "start_time": "2022-01-22T08:15:54.398Z"
   },
   {
    "duration": 57,
    "start_time": "2022-01-22T08:16:26.095Z"
   },
   {
    "duration": 116,
    "start_time": "2022-01-22T08:16:26.743Z"
   },
   {
    "duration": 135,
    "start_time": "2022-01-22T08:17:10.112Z"
   },
   {
    "duration": 9,
    "start_time": "2022-01-22T08:17:27.969Z"
   },
   {
    "duration": 34,
    "start_time": "2022-01-22T08:17:32.425Z"
   },
   {
    "duration": 7,
    "start_time": "2022-01-22T08:17:32.865Z"
   },
   {
    "duration": 39,
    "start_time": "2022-01-22T08:18:14.678Z"
   },
   {
    "duration": 39,
    "start_time": "2022-01-22T08:19:22.914Z"
   },
   {
    "duration": 33,
    "start_time": "2022-01-22T08:19:34.850Z"
   },
   {
    "duration": 365,
    "start_time": "2022-01-22T08:20:00.377Z"
   },
   {
    "duration": 1266,
    "start_time": "2022-01-22T08:20:13.787Z"
   },
   {
    "duration": 320,
    "start_time": "2022-01-22T08:20:48.860Z"
   },
   {
    "duration": 342,
    "start_time": "2022-01-22T08:21:08.538Z"
   },
   {
    "duration": 8217,
    "start_time": "2022-01-22T08:21:21.757Z"
   },
   {
    "duration": 12,
    "start_time": "2022-01-22T08:21:30.458Z"
   },
   {
    "duration": -1305,
    "start_time": "2022-01-22T08:22:23.804Z"
   },
   {
    "duration": -1324,
    "start_time": "2022-01-22T08:22:23.824Z"
   },
   {
    "duration": 50,
    "start_time": "2022-01-22T08:22:30.440Z"
   },
   {
    "duration": 8594,
    "start_time": "2022-01-22T08:23:12.824Z"
   },
   {
    "duration": -4480,
    "start_time": "2022-01-22T08:23:25.900Z"
   },
   {
    "duration": 62,
    "start_time": "2022-01-22T08:24:39.524Z"
   },
   {
    "duration": 29,
    "start_time": "2022-01-22T08:24:43.406Z"
   },
   {
    "duration": 116,
    "start_time": "2022-01-22T08:25:12.053Z"
   },
   {
    "duration": 15,
    "start_time": "2022-01-22T08:26:09.849Z"
   },
   {
    "duration": 17,
    "start_time": "2022-01-22T08:26:42.660Z"
   },
   {
    "duration": 10,
    "start_time": "2022-01-22T08:26:58.969Z"
   },
   {
    "duration": 11,
    "start_time": "2022-01-22T08:27:06.050Z"
   },
   {
    "duration": 17,
    "start_time": "2022-01-22T08:27:11.444Z"
   },
   {
    "duration": 13,
    "start_time": "2022-01-22T09:28:34.310Z"
   },
   {
    "duration": 8,
    "start_time": "2022-01-22T09:29:51.956Z"
   },
   {
    "duration": 4,
    "start_time": "2022-01-22T09:30:15.515Z"
   },
   {
    "duration": 25,
    "start_time": "2022-01-22T09:30:46.822Z"
   },
   {
    "duration": 27,
    "start_time": "2022-01-22T09:31:00.771Z"
   },
   {
    "duration": 23,
    "start_time": "2022-01-22T09:31:06.893Z"
   },
   {
    "duration": 317,
    "start_time": "2022-01-22T09:32:13.136Z"
   },
   {
    "duration": 27,
    "start_time": "2022-01-22T09:32:24.509Z"
   },
   {
    "duration": 29,
    "start_time": "2022-01-22T09:32:54.750Z"
   },
   {
    "duration": 28,
    "start_time": "2022-01-22T09:33:31.788Z"
   },
   {
    "duration": 20,
    "start_time": "2022-01-22T09:34:38.513Z"
   },
   {
    "duration": 21,
    "start_time": "2022-01-22T09:34:50.080Z"
   },
   {
    "duration": 18,
    "start_time": "2022-01-22T09:35:05.992Z"
   },
   {
    "duration": 15,
    "start_time": "2022-01-22T09:35:46.264Z"
   },
   {
    "duration": 53,
    "start_time": "2022-01-22T09:37:44.740Z"
   },
   {
    "duration": 104,
    "start_time": "2022-01-22T09:37:52.069Z"
   },
   {
    "duration": 25,
    "start_time": "2022-01-22T09:37:53.848Z"
   },
   {
    "duration": 26,
    "start_time": "2022-01-22T09:38:22.072Z"
   },
   {
    "duration": 22,
    "start_time": "2022-01-22T09:38:33.991Z"
   },
   {
    "duration": 24,
    "start_time": "2022-01-22T09:38:41.560Z"
   },
   {
    "duration": 24,
    "start_time": "2022-01-22T09:38:55.104Z"
   },
   {
    "duration": 21,
    "start_time": "2022-01-22T09:40:49.240Z"
   },
   {
    "duration": 21,
    "start_time": "2022-01-22T09:40:54.595Z"
   },
   {
    "duration": 42,
    "start_time": "2022-01-22T09:41:20.252Z"
   },
   {
    "duration": 26,
    "start_time": "2022-01-22T09:42:31.562Z"
   },
   {
    "duration": 116,
    "start_time": "2022-01-22T09:42:37.037Z"
   },
   {
    "duration": 24,
    "start_time": "2022-01-22T09:42:40.581Z"
   },
   {
    "duration": 23,
    "start_time": "2022-01-22T09:42:47.270Z"
   },
   {
    "duration": 23,
    "start_time": "2022-01-22T09:42:50.263Z"
   },
   {
    "duration": 24,
    "start_time": "2022-01-22T09:43:07.416Z"
   },
   {
    "duration": 339,
    "start_time": "2022-01-22T09:56:22.912Z"
   },
   {
    "duration": 284,
    "start_time": "2022-01-22T09:56:38.899Z"
   },
   {
    "duration": 366,
    "start_time": "2022-01-22T09:56:54.251Z"
   },
   {
    "duration": 482,
    "start_time": "2022-01-22T09:57:09.908Z"
   },
   {
    "duration": 504,
    "start_time": "2022-01-22T09:57:37.769Z"
   },
   {
    "duration": 100,
    "start_time": "2022-01-22T09:57:45.751Z"
   },
   {
    "duration": 530,
    "start_time": "2022-01-22T09:57:49.764Z"
   },
   {
    "duration": 590,
    "start_time": "2022-01-22T09:58:07.991Z"
   },
   {
    "duration": 343,
    "start_time": "2022-01-22T09:58:23.508Z"
   },
   {
    "duration": 99,
    "start_time": "2022-01-22T09:58:34.988Z"
   },
   {
    "duration": 537,
    "start_time": "2022-01-22T09:58:41.167Z"
   },
   {
    "duration": 520,
    "start_time": "2022-01-22T09:59:06.407Z"
   },
   {
    "duration": 502,
    "start_time": "2022-01-22T09:59:35.973Z"
   },
   {
    "duration": 401,
    "start_time": "2022-01-22T09:59:54.417Z"
   },
   {
    "duration": 445,
    "start_time": "2022-01-22T10:00:35.729Z"
   },
   {
    "duration": 522,
    "start_time": "2022-01-22T10:00:45.650Z"
   },
   {
    "duration": 373,
    "start_time": "2022-01-22T10:01:15.742Z"
   },
   {
    "duration": 309,
    "start_time": "2022-01-22T10:01:38.858Z"
   },
   {
    "duration": 348,
    "start_time": "2022-01-22T10:01:51.233Z"
   },
   {
    "duration": 343,
    "start_time": "2022-01-22T10:01:58.208Z"
   },
   {
    "duration": 337,
    "start_time": "2022-01-22T10:02:04.985Z"
   },
   {
    "duration": 349,
    "start_time": "2022-01-22T10:02:40.422Z"
   },
   {
    "duration": 363,
    "start_time": "2022-01-22T10:02:44.244Z"
   },
   {
    "duration": 367,
    "start_time": "2022-01-22T10:02:52.477Z"
   },
   {
    "duration": 372,
    "start_time": "2022-01-22T10:06:28.370Z"
   },
   {
    "duration": 30,
    "start_time": "2022-01-22T10:06:32.995Z"
   },
   {
    "duration": 305,
    "start_time": "2022-01-22T10:06:39.119Z"
   },
   {
    "duration": 27,
    "start_time": "2022-01-22T10:06:51.593Z"
   },
   {
    "duration": 48,
    "start_time": "2022-01-22T10:07:33.507Z"
   },
   {
    "duration": 46,
    "start_time": "2022-01-22T10:07:41.085Z"
   },
   {
    "duration": 12,
    "start_time": "2022-01-22T10:08:42.140Z"
   },
   {
    "duration": 30,
    "start_time": "2022-01-22T10:08:50.286Z"
   },
   {
    "duration": 50,
    "start_time": "2022-01-22T10:08:55.064Z"
   },
   {
    "duration": 49,
    "start_time": "2022-01-22T10:09:11.121Z"
   },
   {
    "duration": 1681,
    "start_time": "2022-01-22T10:10:28.543Z"
   },
   {
    "duration": 416,
    "start_time": "2022-01-22T10:10:42.563Z"
   },
   {
    "duration": 434,
    "start_time": "2022-01-22T10:10:58.177Z"
   },
   {
    "duration": 467,
    "start_time": "2022-01-22T10:12:15.749Z"
   },
   {
    "duration": 328,
    "start_time": "2022-01-22T10:12:34.124Z"
   },
   {
    "duration": 335,
    "start_time": "2022-01-22T10:12:44.666Z"
   },
   {
    "duration": 329,
    "start_time": "2022-01-22T10:13:11.460Z"
   },
   {
    "duration": 120,
    "start_time": "2022-01-22T10:13:22.418Z"
   },
   {
    "duration": 325,
    "start_time": "2022-01-22T10:13:32.495Z"
   },
   {
    "duration": 497,
    "start_time": "2022-01-22T10:13:46.112Z"
   },
   {
    "duration": 452,
    "start_time": "2022-01-22T10:14:35.936Z"
   },
   {
    "duration": 591,
    "start_time": "2022-01-22T10:18:37.442Z"
   },
   {
    "duration": 667,
    "start_time": "2022-01-22T10:18:45.754Z"
   },
   {
    "duration": 330,
    "start_time": "2022-01-22T10:19:13.206Z"
   },
   {
    "duration": 402,
    "start_time": "2022-01-22T10:19:18.547Z"
   },
   {
    "duration": 535,
    "start_time": "2022-01-22T10:20:02.180Z"
   },
   {
    "duration": 338,
    "start_time": "2022-01-22T10:21:17.058Z"
   },
   {
    "duration": 3923,
    "start_time": "2022-01-22T10:21:20.748Z"
   },
   {
    "duration": 472,
    "start_time": "2022-01-22T10:22:17.812Z"
   },
   {
    "duration": 454,
    "start_time": "2022-01-22T10:22:26.362Z"
   },
   {
    "duration": 3,
    "start_time": "2022-01-22T10:22:37.846Z"
   },
   {
    "duration": 545,
    "start_time": "2022-01-22T10:22:45.680Z"
   },
   {
    "duration": 448,
    "start_time": "2022-01-22T10:23:40.536Z"
   },
   {
    "duration": 514,
    "start_time": "2022-01-22T10:23:46.793Z"
   },
   {
    "duration": 354,
    "start_time": "2022-01-22T10:25:09.621Z"
   },
   {
    "duration": 484,
    "start_time": "2022-01-22T10:25:24.557Z"
   },
   {
    "duration": 422,
    "start_time": "2022-01-22T10:25:51.950Z"
   },
   {
    "duration": 4,
    "start_time": "2022-01-22T10:25:56.813Z"
   },
   {
    "duration": 361,
    "start_time": "2022-01-22T10:26:11.751Z"
   },
   {
    "duration": 406,
    "start_time": "2022-01-22T10:26:20.137Z"
   },
   {
    "duration": 5,
    "start_time": "2022-01-22T10:26:26.430Z"
   },
   {
    "duration": 5,
    "start_time": "2022-01-22T10:26:28.103Z"
   },
   {
    "duration": 14,
    "start_time": "2022-01-22T10:27:22.607Z"
   },
   {
    "duration": 8,
    "start_time": "2022-01-22T10:27:28.234Z"
   },
   {
    "duration": 25,
    "start_time": "2022-01-22T10:28:30.952Z"
   },
   {
    "duration": 97,
    "start_time": "2022-01-22T10:28:57.726Z"
   },
   {
    "duration": 347,
    "start_time": "2022-01-22T10:29:00.065Z"
   },
   {
    "duration": 21,
    "start_time": "2022-01-22T10:29:07.401Z"
   },
   {
    "duration": 114,
    "start_time": "2022-01-22T10:29:38.271Z"
   },
   {
    "duration": 60,
    "start_time": "2022-01-22T10:30:11.520Z"
   },
   {
    "duration": 119,
    "start_time": "2022-01-22T10:30:28.255Z"
   },
   {
    "duration": 31,
    "start_time": "2022-01-22T10:31:31.137Z"
   },
   {
    "duration": 347,
    "start_time": "2022-01-22T10:31:43.996Z"
   },
   {
    "duration": 127,
    "start_time": "2022-01-22T10:31:50.666Z"
   },
   {
    "duration": 352,
    "start_time": "2022-01-22T10:32:51.208Z"
   },
   {
    "duration": 13,
    "start_time": "2022-01-22T10:32:55.365Z"
   },
   {
    "duration": 352,
    "start_time": "2022-01-22T10:33:13.351Z"
   },
   {
    "duration": 8,
    "start_time": "2022-01-22T10:33:21.375Z"
   },
   {
    "duration": 1169,
    "start_time": "2022-01-22T10:33:30.997Z"
   },
   {
    "duration": 324,
    "start_time": "2022-01-22T10:33:40.263Z"
   },
   {
    "duration": 2,
    "start_time": "2022-01-22T10:34:48.689Z"
   },
   {
    "duration": 30,
    "start_time": "2022-01-22T10:35:56.563Z"
   },
   {
    "duration": 120,
    "start_time": "2022-01-22T10:36:36.495Z"
   },
   {
    "duration": 17,
    "start_time": "2022-01-22T10:39:08.194Z"
   },
   {
    "duration": 11,
    "start_time": "2022-01-22T10:39:37.807Z"
   },
   {
    "duration": 19,
    "start_time": "2022-01-22T10:40:07.149Z"
   },
   {
    "duration": 11,
    "start_time": "2022-01-22T10:40:33.836Z"
   },
   {
    "duration": 21,
    "start_time": "2022-01-22T10:41:10.117Z"
   },
   {
    "duration": 15,
    "start_time": "2022-01-22T10:41:37.963Z"
   },
   {
    "duration": 25,
    "start_time": "2022-01-22T10:41:39.800Z"
   },
   {
    "duration": 11,
    "start_time": "2022-01-22T10:42:28.724Z"
   },
   {
    "duration": 26,
    "start_time": "2022-01-22T10:43:33.200Z"
   },
   {
    "duration": 10,
    "start_time": "2022-01-22T10:43:54.133Z"
   },
   {
    "duration": 11,
    "start_time": "2022-01-22T10:43:56.527Z"
   },
   {
    "duration": 12,
    "start_time": "2022-01-22T10:44:03.851Z"
   },
   {
    "duration": 371,
    "start_time": "2022-01-22T10:48:15.455Z"
   },
   {
    "duration": 21,
    "start_time": "2022-01-22T10:48:39.812Z"
   },
   {
    "duration": 23,
    "start_time": "2022-01-22T10:48:58.932Z"
   },
   {
    "duration": 25,
    "start_time": "2022-01-22T10:49:07.009Z"
   },
   {
    "duration": 24,
    "start_time": "2022-01-22T10:49:09.092Z"
   },
   {
    "duration": 25,
    "start_time": "2022-01-22T10:49:13.126Z"
   },
   {
    "duration": 22,
    "start_time": "2022-01-22T10:49:15.072Z"
   },
   {
    "duration": 25,
    "start_time": "2022-01-22T10:49:59.410Z"
   },
   {
    "duration": 98,
    "start_time": "2022-01-22T10:51:22.371Z"
   },
   {
    "duration": 102,
    "start_time": "2022-01-22T10:51:28.911Z"
   },
   {
    "duration": 312,
    "start_time": "2022-01-22T10:51:39.086Z"
   },
   {
    "duration": 376,
    "start_time": "2022-01-22T10:54:05.052Z"
   },
   {
    "duration": 295,
    "start_time": "2022-01-22T10:54:49.348Z"
   },
   {
    "duration": 312,
    "start_time": "2022-01-22T10:55:52.214Z"
   },
   {
    "duration": 9,
    "start_time": "2022-01-22T10:56:32.171Z"
   },
   {
    "duration": 16,
    "start_time": "2022-01-22T10:56:41.325Z"
   },
   {
    "duration": 21,
    "start_time": "2022-01-22T10:56:52.554Z"
   },
   {
    "duration": 33,
    "start_time": "2022-01-22T10:56:58.231Z"
   },
   {
    "duration": 22,
    "start_time": "2022-01-22T10:57:05.391Z"
   },
   {
    "duration": 25,
    "start_time": "2022-01-22T10:57:35.269Z"
   },
   {
    "duration": 28,
    "start_time": "2022-01-22T10:57:50.650Z"
   },
   {
    "duration": 31,
    "start_time": "2022-01-22T10:57:55.265Z"
   },
   {
    "duration": 30,
    "start_time": "2022-01-22T10:57:58.833Z"
   },
   {
    "duration": 30,
    "start_time": "2022-01-22T10:58:03.058Z"
   },
   {
    "duration": 13462,
    "start_time": "2022-01-22T10:59:59.325Z"
   },
   {
    "duration": 14109,
    "start_time": "2022-01-22T11:02:10.471Z"
   },
   {
    "duration": 13538,
    "start_time": "2022-01-22T11:03:33.391Z"
   },
   {
    "duration": 415,
    "start_time": "2022-01-22T11:03:50.537Z"
   },
   {
    "duration": 14684,
    "start_time": "2022-01-22T11:04:20.187Z"
   },
   {
    "duration": 98,
    "start_time": "2022-01-22T11:14:26.060Z"
   },
   {
    "duration": 14141,
    "start_time": "2022-01-22T11:14:30.370Z"
   },
   {
    "duration": 105,
    "start_time": "2022-01-22T11:15:10.523Z"
   },
   {
    "duration": 14333,
    "start_time": "2022-01-22T11:15:41.298Z"
   },
   {
    "duration": 14098,
    "start_time": "2022-01-22T11:16:09.349Z"
   },
   {
    "duration": 14201,
    "start_time": "2022-01-22T11:16:35.787Z"
   },
   {
    "duration": 106,
    "start_time": "2022-01-22T11:17:20.275Z"
   },
   {
    "duration": 14841,
    "start_time": "2022-01-22T11:17:23.819Z"
   },
   {
    "duration": 1389,
    "start_time": "2022-01-22T11:19:31.231Z"
   },
   {
    "duration": 31,
    "start_time": "2022-01-22T11:19:32.622Z"
   },
   {
    "duration": 16,
    "start_time": "2022-01-22T11:19:32.655Z"
   },
   {
    "duration": 8,
    "start_time": "2022-01-22T11:19:32.674Z"
   },
   {
    "duration": 214,
    "start_time": "2022-01-22T11:19:32.683Z"
   },
   {
    "duration": 34,
    "start_time": "2022-01-22T11:19:32.899Z"
   },
   {
    "duration": 5,
    "start_time": "2022-01-22T11:19:32.935Z"
   },
   {
    "duration": 39,
    "start_time": "2022-01-22T11:19:32.943Z"
   },
   {
    "duration": 6,
    "start_time": "2022-01-22T11:19:32.984Z"
   },
   {
    "duration": 87,
    "start_time": "2022-01-22T11:19:32.991Z"
   },
   {
    "duration": 3,
    "start_time": "2022-01-22T11:19:33.080Z"
   },
   {
    "duration": 1061,
    "start_time": "2022-01-22T11:19:33.085Z"
   },
   {
    "duration": 391,
    "start_time": "2022-01-22T11:19:34.147Z"
   },
   {
    "duration": 40,
    "start_time": "2022-01-22T11:19:34.540Z"
   },
   {
    "duration": 20,
    "start_time": "2022-01-22T11:19:34.581Z"
   },
   {
    "duration": 25,
    "start_time": "2022-01-22T11:19:34.602Z"
   },
   {
    "duration": 11,
    "start_time": "2022-01-22T11:19:34.628Z"
   },
   {
    "duration": 38,
    "start_time": "2022-01-22T11:19:34.640Z"
   },
   {
    "duration": 32,
    "start_time": "2022-01-22T11:19:34.680Z"
   },
   {
    "duration": 16,
    "start_time": "2022-01-22T11:19:34.714Z"
   },
   {
    "duration": 18,
    "start_time": "2022-01-22T11:19:34.731Z"
   },
   {
    "duration": 22,
    "start_time": "2022-01-22T11:19:34.751Z"
   },
   {
    "duration": 57,
    "start_time": "2022-01-22T11:19:34.776Z"
   },
   {
    "duration": 40,
    "start_time": "2022-01-22T11:19:34.835Z"
   },
   {
    "duration": 444,
    "start_time": "2022-01-22T11:19:34.876Z"
   },
   {
    "duration": 32,
    "start_time": "2022-01-22T11:19:35.322Z"
   },
   {
    "duration": 90,
    "start_time": "2022-01-22T11:19:35.356Z"
   },
   {
    "duration": 84,
    "start_time": "2022-01-22T11:19:35.448Z"
   },
   {
    "duration": 705,
    "start_time": "2022-01-22T11:19:35.534Z"
   },
   {
    "duration": 10,
    "start_time": "2022-01-22T11:19:36.240Z"
   },
   {
    "duration": 51,
    "start_time": "2022-01-22T11:19:36.251Z"
   },
   {
    "duration": 39,
    "start_time": "2022-01-22T11:19:36.304Z"
   },
   {
    "duration": 88,
    "start_time": "2022-01-22T11:19:36.344Z"
   },
   {
    "duration": 28,
    "start_time": "2022-01-22T11:19:36.434Z"
   },
   {
    "duration": 378,
    "start_time": "2022-01-22T11:19:36.472Z"
   },
   {
    "duration": 2,
    "start_time": "2022-01-22T11:19:36.872Z"
   },
   {
    "duration": 359,
    "start_time": "2022-01-22T11:19:36.875Z"
   },
   {
    "duration": 37,
    "start_time": "2022-01-22T11:19:37.235Z"
   },
   {
    "duration": 14802,
    "start_time": "2022-01-22T11:19:37.274Z"
   },
   {
    "duration": 136,
    "start_time": "2022-01-22T11:20:30.059Z"
   },
   {
    "duration": 136,
    "start_time": "2022-01-22T11:20:35.353Z"
   },
   {
    "duration": 14766,
    "start_time": "2022-01-22T11:20:38.901Z"
   },
   {
    "duration": 14790,
    "start_time": "2022-01-22T11:25:58.863Z"
   },
   {
    "duration": 14361,
    "start_time": "2022-01-22T11:26:51.924Z"
   },
   {
    "duration": 1444,
    "start_time": "2022-01-22T16:28:19.628Z"
   },
   {
    "duration": 29,
    "start_time": "2022-01-22T16:28:21.074Z"
   },
   {
    "duration": 13,
    "start_time": "2022-01-22T16:28:21.105Z"
   },
   {
    "duration": 5,
    "start_time": "2022-01-22T16:28:21.120Z"
   },
   {
    "duration": 679,
    "start_time": "2022-01-22T16:28:21.127Z"
   },
   {
    "duration": 43,
    "start_time": "2022-01-22T16:28:21.807Z"
   },
   {
    "duration": 6,
    "start_time": "2022-01-22T16:28:21.851Z"
   },
   {
    "duration": 30,
    "start_time": "2022-01-22T16:28:21.859Z"
   },
   {
    "duration": 8,
    "start_time": "2022-01-22T16:28:21.891Z"
   },
   {
    "duration": 88,
    "start_time": "2022-01-22T16:28:21.900Z"
   },
   {
    "duration": 3,
    "start_time": "2022-01-22T16:28:21.990Z"
   },
   {
    "duration": 1112,
    "start_time": "2022-01-22T16:28:21.995Z"
   },
   {
    "duration": 467,
    "start_time": "2022-01-22T16:28:23.108Z"
   },
   {
    "duration": 24,
    "start_time": "2022-01-22T16:28:23.577Z"
   },
   {
    "duration": 21,
    "start_time": "2022-01-22T16:28:23.603Z"
   },
   {
    "duration": 39,
    "start_time": "2022-01-22T16:28:23.625Z"
   },
   {
    "duration": 11,
    "start_time": "2022-01-22T16:28:23.665Z"
   },
   {
    "duration": 22,
    "start_time": "2022-01-22T16:28:23.678Z"
   },
   {
    "duration": 55,
    "start_time": "2022-01-22T16:28:23.702Z"
   },
   {
    "duration": 17,
    "start_time": "2022-01-22T16:28:23.760Z"
   },
   {
    "duration": 19,
    "start_time": "2022-01-22T16:28:23.778Z"
   },
   {
    "duration": 4,
    "start_time": "2022-01-22T16:28:23.798Z"
   },
   {
    "duration": 87,
    "start_time": "2022-01-22T16:28:23.805Z"
   },
   {
    "duration": 22,
    "start_time": "2022-01-22T16:28:23.894Z"
   },
   {
    "duration": 550,
    "start_time": "2022-01-22T16:28:23.918Z"
   },
   {
    "duration": 31,
    "start_time": "2022-01-22T16:28:24.469Z"
   },
   {
    "duration": 95,
    "start_time": "2022-01-22T16:28:24.502Z"
   },
   {
    "duration": 80,
    "start_time": "2022-01-22T16:28:24.599Z"
   },
   {
    "duration": 657,
    "start_time": "2022-01-22T16:28:24.681Z"
   },
   {
    "duration": 8,
    "start_time": "2022-01-22T16:28:25.342Z"
   },
   {
    "duration": 32,
    "start_time": "2022-01-22T16:28:25.352Z"
   },
   {
    "duration": 63,
    "start_time": "2022-01-22T16:28:25.386Z"
   },
   {
    "duration": 67,
    "start_time": "2022-01-22T16:28:25.451Z"
   },
   {
    "duration": 39,
    "start_time": "2022-01-22T16:28:25.520Z"
   },
   {
    "duration": 391,
    "start_time": "2022-01-22T16:28:25.561Z"
   },
   {
    "duration": 2,
    "start_time": "2022-01-22T16:28:25.954Z"
   },
   {
    "duration": 403,
    "start_time": "2022-01-22T16:28:25.958Z"
   },
   {
    "duration": 28,
    "start_time": "2022-01-22T16:28:26.362Z"
   },
   {
    "duration": 15411,
    "start_time": "2022-01-22T16:28:26.392Z"
   },
   {
    "duration": 33,
    "start_time": "2022-01-22T16:50:29.337Z"
   },
   {
    "duration": 28,
    "start_time": "2022-01-22T16:50:34.158Z"
   },
   {
    "duration": 32,
    "start_time": "2022-01-22T16:51:44.724Z"
   },
   {
    "duration": 1469,
    "start_time": "2022-01-22T17:33:21.726Z"
   },
   {
    "duration": 29,
    "start_time": "2022-01-22T17:33:23.196Z"
   },
   {
    "duration": 19,
    "start_time": "2022-01-22T17:33:23.227Z"
   },
   {
    "duration": 14,
    "start_time": "2022-01-22T17:33:23.248Z"
   },
   {
    "duration": 226,
    "start_time": "2022-01-22T17:33:23.263Z"
   },
   {
    "duration": 45,
    "start_time": "2022-01-22T17:33:23.491Z"
   },
   {
    "duration": 13,
    "start_time": "2022-01-22T17:33:23.537Z"
   },
   {
    "duration": 39,
    "start_time": "2022-01-22T17:33:23.553Z"
   },
   {
    "duration": 14,
    "start_time": "2022-01-22T17:33:23.595Z"
   },
   {
    "duration": 38,
    "start_time": "2022-01-22T17:33:23.611Z"
   },
   {
    "duration": 4,
    "start_time": "2022-01-22T17:33:23.651Z"
   },
   {
    "duration": 57,
    "start_time": "2022-01-22T17:33:23.657Z"
   },
   {
    "duration": 7,
    "start_time": "2022-01-22T17:33:23.716Z"
   },
   {
    "duration": 19,
    "start_time": "2022-01-22T17:33:23.725Z"
   },
   {
    "duration": 22,
    "start_time": "2022-01-22T17:33:23.749Z"
   },
   {
    "duration": 25,
    "start_time": "2022-01-22T17:33:23.773Z"
   },
   {
    "duration": 15,
    "start_time": "2022-01-22T17:33:23.800Z"
   },
   {
    "duration": 34,
    "start_time": "2022-01-22T17:33:23.816Z"
   },
   {
    "duration": 37,
    "start_time": "2022-01-22T17:33:23.851Z"
   },
   {
    "duration": 14,
    "start_time": "2022-01-22T17:33:23.889Z"
   },
   {
    "duration": 14,
    "start_time": "2022-01-22T17:33:23.904Z"
   },
   {
    "duration": 3,
    "start_time": "2022-01-22T17:33:23.920Z"
   },
   {
    "duration": 54,
    "start_time": "2022-01-22T17:33:23.942Z"
   },
   {
    "duration": 7,
    "start_time": "2022-01-22T17:33:23.998Z"
   },
   {
    "duration": 529,
    "start_time": "2022-01-22T17:33:24.006Z"
   },
   {
    "duration": 23,
    "start_time": "2022-01-22T17:33:24.536Z"
   },
   {
    "duration": 24,
    "start_time": "2022-01-22T17:33:24.561Z"
   },
   {
    "duration": 16,
    "start_time": "2022-01-22T17:33:24.587Z"
   },
   {
    "duration": 517,
    "start_time": "2022-01-22T17:33:24.604Z"
   },
   {
    "duration": 9,
    "start_time": "2022-01-22T17:33:25.123Z"
   },
   {
    "duration": 35,
    "start_time": "2022-01-22T17:33:25.134Z"
   },
   {
    "duration": 79,
    "start_time": "2022-01-22T17:33:25.170Z"
   },
   {
    "duration": 29,
    "start_time": "2022-01-22T17:33:25.251Z"
   },
   {
    "duration": 8089,
    "start_time": "2022-01-22T17:33:25.281Z"
   },
   {
    "duration": -361,
    "start_time": "2022-01-22T17:33:33.733Z"
   },
   {
    "duration": -363,
    "start_time": "2022-01-22T17:33:33.736Z"
   },
   {
    "duration": -365,
    "start_time": "2022-01-22T17:33:33.739Z"
   },
   {
    "duration": 16,
    "start_time": "2022-01-22T17:33:51.692Z"
   },
   {
    "duration": 288,
    "start_time": "2022-01-22T17:34:06.035Z"
   },
   {
    "duration": 8,
    "start_time": "2022-01-22T17:34:09.226Z"
   },
   {
    "duration": 18,
    "start_time": "2022-01-22T17:34:10.332Z"
   },
   {
    "duration": 7,
    "start_time": "2022-01-22T17:34:15.872Z"
   },
   {
    "duration": 16,
    "start_time": "2022-01-22T17:34:17.073Z"
   },
   {
    "duration": 252,
    "start_time": "2022-01-22T17:34:28.161Z"
   },
   {
    "duration": 296,
    "start_time": "2022-01-22T17:34:49.664Z"
   },
   {
    "duration": 8,
    "start_time": "2022-01-22T17:35:20.988Z"
   },
   {
    "duration": 17,
    "start_time": "2022-01-22T17:35:21.809Z"
   },
   {
    "duration": 9,
    "start_time": "2022-01-22T17:36:54.704Z"
   },
   {
    "duration": 16,
    "start_time": "2022-01-22T17:36:55.628Z"
   },
   {
    "duration": 1673,
    "start_time": "2022-01-22T17:37:59.456Z"
   },
   {
    "duration": 1424,
    "start_time": "2022-01-22T17:38:09.639Z"
   },
   {
    "duration": 30,
    "start_time": "2022-01-22T17:38:11.066Z"
   },
   {
    "duration": 22,
    "start_time": "2022-01-22T17:38:11.098Z"
   },
   {
    "duration": 41,
    "start_time": "2022-01-22T17:38:11.122Z"
   },
   {
    "duration": 229,
    "start_time": "2022-01-22T17:38:11.164Z"
   },
   {
    "duration": 35,
    "start_time": "2022-01-22T17:38:11.395Z"
   },
   {
    "duration": 5,
    "start_time": "2022-01-22T17:38:11.431Z"
   },
   {
    "duration": 26,
    "start_time": "2022-01-22T17:38:11.438Z"
   },
   {
    "duration": 5,
    "start_time": "2022-01-22T17:38:11.466Z"
   },
   {
    "duration": 36,
    "start_time": "2022-01-22T17:38:11.472Z"
   },
   {
    "duration": 3,
    "start_time": "2022-01-22T17:38:11.509Z"
   },
   {
    "duration": 73,
    "start_time": "2022-01-22T17:38:11.514Z"
   },
   {
    "duration": 1732,
    "start_time": "2022-01-22T17:38:11.588Z"
   },
   {
    "duration": -110,
    "start_time": "2022-01-22T17:38:13.432Z"
   },
   {
    "duration": -113,
    "start_time": "2022-01-22T17:38:13.436Z"
   },
   {
    "duration": -115,
    "start_time": "2022-01-22T17:38:13.439Z"
   },
   {
    "duration": -117,
    "start_time": "2022-01-22T17:38:13.442Z"
   },
   {
    "duration": -137,
    "start_time": "2022-01-22T17:38:13.463Z"
   },
   {
    "duration": -144,
    "start_time": "2022-01-22T17:38:13.471Z"
   },
   {
    "duration": -146,
    "start_time": "2022-01-22T17:38:13.473Z"
   },
   {
    "duration": -147,
    "start_time": "2022-01-22T17:38:13.475Z"
   },
   {
    "duration": -148,
    "start_time": "2022-01-22T17:38:13.477Z"
   },
   {
    "duration": -149,
    "start_time": "2022-01-22T17:38:13.479Z"
   },
   {
    "duration": -149,
    "start_time": "2022-01-22T17:38:13.480Z"
   },
   {
    "duration": -150,
    "start_time": "2022-01-22T17:38:13.482Z"
   },
   {
    "duration": -151,
    "start_time": "2022-01-22T17:38:13.484Z"
   },
   {
    "duration": -153,
    "start_time": "2022-01-22T17:38:13.486Z"
   },
   {
    "duration": -154,
    "start_time": "2022-01-22T17:38:13.488Z"
   },
   {
    "duration": -155,
    "start_time": "2022-01-22T17:38:13.490Z"
   },
   {
    "duration": -156,
    "start_time": "2022-01-22T17:38:13.492Z"
   },
   {
    "duration": -157,
    "start_time": "2022-01-22T17:38:13.493Z"
   },
   {
    "duration": -163,
    "start_time": "2022-01-22T17:38:13.500Z"
   },
   {
    "duration": -164,
    "start_time": "2022-01-22T17:38:13.502Z"
   },
   {
    "duration": -165,
    "start_time": "2022-01-22T17:38:13.504Z"
   },
   {
    "duration": -166,
    "start_time": "2022-01-22T17:38:13.506Z"
   },
   {
    "duration": -168,
    "start_time": "2022-01-22T17:38:13.508Z"
   },
   {
    "duration": -170,
    "start_time": "2022-01-22T17:38:13.511Z"
   },
   {
    "duration": -171,
    "start_time": "2022-01-22T17:38:13.513Z"
   },
   {
    "duration": 4199,
    "start_time": "2022-01-22T17:38:29.364Z"
   },
   {
    "duration": 1808,
    "start_time": "2022-01-22T17:38:45.910Z"
   },
   {
    "duration": 10,
    "start_time": "2022-01-22T17:39:01.169Z"
   },
   {
    "duration": 10,
    "start_time": "2022-01-22T17:39:14.617Z"
   },
   {
    "duration": 16,
    "start_time": "2022-01-22T17:39:16.101Z"
   },
   {
    "duration": 1400,
    "start_time": "2022-01-22T17:39:31.759Z"
   },
   {
    "duration": 29,
    "start_time": "2022-01-22T17:39:33.161Z"
   },
   {
    "duration": 13,
    "start_time": "2022-01-22T17:39:33.192Z"
   },
   {
    "duration": 6,
    "start_time": "2022-01-22T17:39:33.207Z"
   },
   {
    "duration": 227,
    "start_time": "2022-01-22T17:39:33.214Z"
   },
   {
    "duration": 36,
    "start_time": "2022-01-22T17:39:33.442Z"
   },
   {
    "duration": 4,
    "start_time": "2022-01-22T17:39:33.480Z"
   },
   {
    "duration": 26,
    "start_time": "2022-01-22T17:39:33.487Z"
   },
   {
    "duration": 5,
    "start_time": "2022-01-22T17:39:33.515Z"
   },
   {
    "duration": 57,
    "start_time": "2022-01-22T17:39:33.521Z"
   },
   {
    "duration": 4,
    "start_time": "2022-01-22T17:39:33.579Z"
   },
   {
    "duration": 67,
    "start_time": "2022-01-22T17:39:33.585Z"
   },
   {
    "duration": 10,
    "start_time": "2022-01-22T17:39:33.653Z"
   },
   {
    "duration": 15,
    "start_time": "2022-01-22T17:39:33.664Z"
   },
   {
    "duration": 14,
    "start_time": "2022-01-22T17:39:33.681Z"
   },
   {
    "duration": 20,
    "start_time": "2022-01-22T17:39:33.697Z"
   },
   {
    "duration": 48,
    "start_time": "2022-01-22T17:39:33.719Z"
   },
   {
    "duration": 9,
    "start_time": "2022-01-22T17:39:33.769Z"
   },
   {
    "duration": 15,
    "start_time": "2022-01-22T17:39:33.780Z"
   },
   {
    "duration": 57,
    "start_time": "2022-01-22T17:39:33.797Z"
   },
   {
    "duration": 17,
    "start_time": "2022-01-22T17:39:33.856Z"
   },
   {
    "duration": 16,
    "start_time": "2022-01-22T17:39:33.874Z"
   },
   {
    "duration": 4,
    "start_time": "2022-01-22T17:39:33.893Z"
   },
   {
    "duration": 90,
    "start_time": "2022-01-22T17:39:33.899Z"
   },
   {
    "duration": 7,
    "start_time": "2022-01-22T17:39:33.991Z"
   },
   {
    "duration": 524,
    "start_time": "2022-01-22T17:39:33.999Z"
   },
   {
    "duration": 23,
    "start_time": "2022-01-22T17:39:34.525Z"
   },
   {
    "duration": 21,
    "start_time": "2022-01-22T17:39:34.550Z"
   },
   {
    "duration": 35,
    "start_time": "2022-01-22T17:39:34.572Z"
   },
   {
    "duration": 551,
    "start_time": "2022-01-22T17:39:34.609Z"
   },
   {
    "duration": 8,
    "start_time": "2022-01-22T17:39:35.162Z"
   },
   {
    "duration": 546,
    "start_time": "2022-01-22T17:39:35.171Z"
   },
   {
    "duration": -102,
    "start_time": "2022-01-22T17:39:35.820Z"
   },
   {
    "duration": -103,
    "start_time": "2022-01-22T17:39:35.822Z"
   },
   {
    "duration": -104,
    "start_time": "2022-01-22T17:39:35.824Z"
   },
   {
    "duration": -106,
    "start_time": "2022-01-22T17:39:35.827Z"
   },
   {
    "duration": -107,
    "start_time": "2022-01-22T17:39:35.829Z"
   },
   {
    "duration": -108,
    "start_time": "2022-01-22T17:39:35.831Z"
   },
   {
    "duration": 28,
    "start_time": "2022-01-22T17:39:44.774Z"
   },
   {
    "duration": 74,
    "start_time": "2022-01-22T17:39:46.174Z"
   },
   {
    "duration": 36,
    "start_time": "2022-01-22T17:39:46.823Z"
   },
   {
    "duration": 276,
    "start_time": "2022-01-22T17:39:47.746Z"
   },
   {
    "duration": 342,
    "start_time": "2022-01-22T17:40:11.160Z"
   },
   {
    "duration": 325,
    "start_time": "2022-01-22T17:40:13.670Z"
   },
   {
    "duration": 29,
    "start_time": "2022-01-22T17:40:15.100Z"
   },
   {
    "duration": 611,
    "start_time": "2022-01-22T17:40:16.000Z"
   },
   {
    "duration": 15316,
    "start_time": "2022-01-22T17:40:29.889Z"
   },
   {
    "duration": 11,
    "start_time": "2022-01-22T17:41:19.177Z"
   },
   {
    "duration": 5,
    "start_time": "2022-01-22T17:41:31.991Z"
   },
   {
    "duration": 5,
    "start_time": "2022-01-22T17:42:14.164Z"
   },
   {
    "duration": 5,
    "start_time": "2022-01-22T17:42:16.924Z"
   },
   {
    "duration": 12,
    "start_time": "2022-01-22T17:42:30.036Z"
   },
   {
    "duration": 5,
    "start_time": "2022-01-22T17:44:54.578Z"
   },
   {
    "duration": 266,
    "start_time": "2022-01-22T17:45:26.194Z"
   },
   {
    "duration": 23,
    "start_time": "2022-01-22T17:45:34.317Z"
   },
   {
    "duration": 1956,
    "start_time": "2022-01-23T07:00:43.625Z"
   },
   {
    "duration": 38,
    "start_time": "2022-01-23T07:00:45.584Z"
   },
   {
    "duration": 34,
    "start_time": "2022-01-23T07:00:45.625Z"
   },
   {
    "duration": 9,
    "start_time": "2022-01-23T07:00:45.661Z"
   },
   {
    "duration": 304,
    "start_time": "2022-01-23T07:00:45.672Z"
   },
   {
    "duration": 48,
    "start_time": "2022-01-23T07:00:45.978Z"
   },
   {
    "duration": 8,
    "start_time": "2022-01-23T07:00:46.028Z"
   },
   {
    "duration": 38,
    "start_time": "2022-01-23T07:00:46.062Z"
   },
   {
    "duration": 8,
    "start_time": "2022-01-23T07:00:46.103Z"
   },
   {
    "duration": 79,
    "start_time": "2022-01-23T07:00:46.114Z"
   },
   {
    "duration": 5,
    "start_time": "2022-01-23T07:00:46.196Z"
   },
   {
    "duration": 93,
    "start_time": "2022-01-23T07:00:46.203Z"
   },
   {
    "duration": 13,
    "start_time": "2022-01-23T07:00:46.298Z"
   },
   {
    "duration": 47,
    "start_time": "2022-01-23T07:00:46.314Z"
   },
   {
    "duration": 19,
    "start_time": "2022-01-23T07:00:46.363Z"
   },
   {
    "duration": 32,
    "start_time": "2022-01-23T07:00:46.384Z"
   },
   {
    "duration": 67,
    "start_time": "2022-01-23T07:00:46.418Z"
   },
   {
    "duration": 14,
    "start_time": "2022-01-23T07:00:46.487Z"
   },
   {
    "duration": 22,
    "start_time": "2022-01-23T07:00:46.504Z"
   },
   {
    "duration": 73,
    "start_time": "2022-01-23T07:00:46.529Z"
   },
   {
    "duration": 24,
    "start_time": "2022-01-23T07:00:46.604Z"
   },
   {
    "duration": 50,
    "start_time": "2022-01-23T07:00:46.630Z"
   },
   {
    "duration": 5,
    "start_time": "2022-01-23T07:00:46.685Z"
   },
   {
    "duration": 112,
    "start_time": "2022-01-23T07:00:46.693Z"
   },
   {
    "duration": 11,
    "start_time": "2022-01-23T07:00:46.807Z"
   },
   {
    "duration": 822,
    "start_time": "2022-01-23T07:00:46.820Z"
   },
   {
    "duration": 32,
    "start_time": "2022-01-23T07:00:47.645Z"
   },
   {
    "duration": 32,
    "start_time": "2022-01-23T07:00:47.679Z"
   },
   {
    "duration": 49,
    "start_time": "2022-01-23T07:00:47.713Z"
   },
   {
    "duration": 10,
    "start_time": "2022-01-23T07:00:48.566Z"
   },
   {
    "duration": 46,
    "start_time": "2022-01-23T07:00:48.578Z"
   },
   {
    "duration": 116,
    "start_time": "2022-01-23T07:00:48.626Z"
   },
   {
    "duration": 51,
    "start_time": "2022-01-23T07:00:48.745Z"
   },
   {
    "duration": 625,
    "start_time": "2022-01-23T07:00:48.799Z"
   },
   {
    "duration": 562,
    "start_time": "2022-01-23T07:00:49.426Z"
   },
   {
    "duration": 69,
    "start_time": "2022-01-23T07:00:49.991Z"
   },
   {
    "duration": 22214,
    "start_time": "2022-01-23T07:00:50.062Z"
   },
   {
    "duration": 360,
    "start_time": "2022-01-23T07:01:12.279Z"
   },
   {
    "duration": 36,
    "start_time": "2022-01-23T07:01:32.086Z"
   },
   {
    "duration": 68,
    "start_time": "2022-01-23T07:01:57.854Z"
   },
   {
    "duration": 68,
    "start_time": "2022-01-23T07:02:13.939Z"
   },
   {
    "duration": 27,
    "start_time": "2022-01-23T07:06:16.584Z"
   },
   {
    "duration": 51,
    "start_time": "2022-01-23T07:06:37.223Z"
   },
   {
    "duration": 13,
    "start_time": "2022-01-23T07:10:01.559Z"
   },
   {
    "duration": 72,
    "start_time": "2022-01-23T07:10:08.284Z"
   },
   {
    "duration": 61,
    "start_time": "2022-01-23T07:15:01.461Z"
   },
   {
    "duration": 61,
    "start_time": "2022-01-23T07:15:06.907Z"
   },
   {
    "duration": 4,
    "start_time": "2022-01-23T07:16:08.697Z"
   },
   {
    "duration": 113,
    "start_time": "2022-01-23T07:16:18.107Z"
   },
   {
    "duration": 41,
    "start_time": "2022-01-23T07:16:20.958Z"
   },
   {
    "duration": 6,
    "start_time": "2022-01-23T07:16:28.396Z"
   },
   {
    "duration": 119,
    "start_time": "2022-01-23T07:16:41.663Z"
   },
   {
    "duration": 6,
    "start_time": "2022-01-23T07:16:47.084Z"
   },
   {
    "duration": 4,
    "start_time": "2022-01-23T07:19:13.169Z"
   },
   {
    "duration": 6,
    "start_time": "2022-01-23T07:20:00.548Z"
   },
   {
    "duration": 1843,
    "start_time": "2022-01-23T07:22:22.201Z"
   },
   {
    "duration": 41,
    "start_time": "2022-01-23T07:22:24.047Z"
   },
   {
    "duration": 25,
    "start_time": "2022-01-23T07:22:24.093Z"
   },
   {
    "duration": 44,
    "start_time": "2022-01-23T07:22:24.122Z"
   },
   {
    "duration": 303,
    "start_time": "2022-01-23T07:22:24.169Z"
   },
   {
    "duration": 48,
    "start_time": "2022-01-23T07:22:24.475Z"
   },
   {
    "duration": 33,
    "start_time": "2022-01-23T07:22:24.526Z"
   },
   {
    "duration": 36,
    "start_time": "2022-01-23T07:22:24.563Z"
   },
   {
    "duration": 8,
    "start_time": "2022-01-23T07:22:24.602Z"
   },
   {
    "duration": 82,
    "start_time": "2022-01-23T07:22:24.612Z"
   },
   {
    "duration": 4,
    "start_time": "2022-01-23T07:22:24.697Z"
   },
   {
    "duration": 89,
    "start_time": "2022-01-23T07:22:24.703Z"
   },
   {
    "duration": 13,
    "start_time": "2022-01-23T07:22:24.795Z"
   },
   {
    "duration": 26,
    "start_time": "2022-01-23T07:22:24.810Z"
   },
   {
    "duration": 18,
    "start_time": "2022-01-23T07:22:24.858Z"
   },
   {
    "duration": 29,
    "start_time": "2022-01-23T07:22:24.879Z"
   },
   {
    "duration": 62,
    "start_time": "2022-01-23T07:22:24.910Z"
   },
   {
    "duration": 16,
    "start_time": "2022-01-23T07:22:24.974Z"
   },
   {
    "duration": 19,
    "start_time": "2022-01-23T07:22:24.992Z"
   },
   {
    "duration": 78,
    "start_time": "2022-01-23T07:22:25.013Z"
   },
   {
    "duration": 24,
    "start_time": "2022-01-23T07:22:25.094Z"
   },
   {
    "duration": 46,
    "start_time": "2022-01-23T07:22:25.120Z"
   },
   {
    "duration": 5,
    "start_time": "2022-01-23T07:22:25.171Z"
   },
   {
    "duration": 114,
    "start_time": "2022-01-23T07:22:25.180Z"
   },
   {
    "duration": 10,
    "start_time": "2022-01-23T07:22:25.296Z"
   },
   {
    "duration": 796,
    "start_time": "2022-01-23T07:22:25.309Z"
   },
   {
    "duration": 24,
    "start_time": "2022-01-23T07:22:26.107Z"
   },
   {
    "duration": 47,
    "start_time": "2022-01-23T07:22:26.133Z"
   },
   {
    "duration": 30,
    "start_time": "2022-01-23T07:22:26.183Z"
   },
   {
    "duration": 798,
    "start_time": "2022-01-23T07:22:26.216Z"
   },
   {
    "duration": 6,
    "start_time": "2022-01-23T07:22:27.016Z"
   },
   {
    "duration": 5,
    "start_time": "2022-01-23T07:22:27.024Z"
   },
   {
    "duration": 117,
    "start_time": "2022-01-23T07:22:27.031Z"
   },
   {
    "duration": 53,
    "start_time": "2022-01-23T07:22:27.150Z"
   },
   {
    "duration": 583,
    "start_time": "2022-01-23T07:22:27.206Z"
   },
   {
    "duration": 569,
    "start_time": "2022-01-23T07:22:27.792Z"
   },
   {
    "duration": 48,
    "start_time": "2022-01-23T07:22:28.364Z"
   },
   {
    "duration": 21601,
    "start_time": "2022-01-23T07:22:28.415Z"
   },
   {
    "duration": 76,
    "start_time": "2022-01-23T07:22:50.018Z"
   },
   {
    "duration": 6,
    "start_time": "2022-01-23T07:22:50.096Z"
   },
   {
    "duration": 13,
    "start_time": "2022-01-23T07:22:50.104Z"
   },
   {
    "duration": 67,
    "start_time": "2022-01-23T07:22:50.119Z"
   },
   {
    "duration": 100,
    "start_time": "2022-01-23T07:23:51.203Z"
   },
   {
    "duration": 674,
    "start_time": "2022-01-23T07:23:51.892Z"
   },
   {
    "duration": 68,
    "start_time": "2022-01-23T07:24:02.357Z"
   },
   {
    "duration": 137,
    "start_time": "2022-01-23T07:24:02.928Z"
   },
   {
    "duration": 99,
    "start_time": "2022-01-23T07:24:03.292Z"
   },
   {
    "duration": 1056,
    "start_time": "2022-01-23T07:24:03.822Z"
   },
   {
    "duration": 1895,
    "start_time": "2022-01-23T07:24:11.865Z"
   },
   {
    "duration": 37,
    "start_time": "2022-01-23T07:24:13.763Z"
   },
   {
    "duration": 22,
    "start_time": "2022-01-23T07:24:13.803Z"
   },
   {
    "duration": 36,
    "start_time": "2022-01-23T07:24:13.829Z"
   },
   {
    "duration": 315,
    "start_time": "2022-01-23T07:24:13.869Z"
   },
   {
    "duration": 49,
    "start_time": "2022-01-23T07:24:14.187Z"
   },
   {
    "duration": 28,
    "start_time": "2022-01-23T07:24:14.239Z"
   },
   {
    "duration": 37,
    "start_time": "2022-01-23T07:24:14.271Z"
   },
   {
    "duration": 7,
    "start_time": "2022-01-23T07:24:14.311Z"
   },
   {
    "duration": 87,
    "start_time": "2022-01-23T07:24:14.320Z"
   },
   {
    "duration": 5,
    "start_time": "2022-01-23T07:24:14.409Z"
   },
   {
    "duration": 94,
    "start_time": "2022-01-23T07:24:14.416Z"
   },
   {
    "duration": 14,
    "start_time": "2022-01-23T07:24:14.512Z"
   },
   {
    "duration": 44,
    "start_time": "2022-01-23T07:24:14.528Z"
   },
   {
    "duration": 22,
    "start_time": "2022-01-23T07:24:14.575Z"
   },
   {
    "duration": 68,
    "start_time": "2022-01-23T07:24:14.599Z"
   },
   {
    "duration": 36,
    "start_time": "2022-01-23T07:24:14.670Z"
   },
   {
    "duration": 15,
    "start_time": "2022-01-23T07:24:14.709Z"
   },
   {
    "duration": 48,
    "start_time": "2022-01-23T07:24:14.727Z"
   },
   {
    "duration": 44,
    "start_time": "2022-01-23T07:24:14.778Z"
   },
   {
    "duration": 53,
    "start_time": "2022-01-23T07:24:14.824Z"
   },
   {
    "duration": 24,
    "start_time": "2022-01-23T07:24:14.880Z"
   },
   {
    "duration": 5,
    "start_time": "2022-01-23T07:24:14.911Z"
   },
   {
    "duration": 141,
    "start_time": "2022-01-23T07:24:14.919Z"
   },
   {
    "duration": 101,
    "start_time": "2022-01-23T07:24:15.063Z"
   },
   {
    "duration": 719,
    "start_time": "2022-01-23T07:24:15.167Z"
   },
   {
    "duration": 82,
    "start_time": "2022-01-23T07:24:15.889Z"
   },
   {
    "duration": 151,
    "start_time": "2022-01-23T07:24:15.974Z"
   },
   {
    "duration": 114,
    "start_time": "2022-01-23T07:24:16.128Z"
   },
   {
    "duration": 1033,
    "start_time": "2022-01-23T07:24:16.245Z"
   },
   {
    "duration": 7,
    "start_time": "2022-01-23T07:24:17.280Z"
   },
   {
    "duration": 5,
    "start_time": "2022-01-23T07:24:17.289Z"
   },
   {
    "duration": 117,
    "start_time": "2022-01-23T07:24:17.297Z"
   },
   {
    "duration": 60,
    "start_time": "2022-01-23T07:24:17.417Z"
   },
   {
    "duration": 557,
    "start_time": "2022-01-23T07:24:17.480Z"
   },
   {
    "duration": 506,
    "start_time": "2022-01-23T07:24:18.059Z"
   },
   {
    "duration": 43,
    "start_time": "2022-01-23T07:24:18.567Z"
   },
   {
    "duration": 20925,
    "start_time": "2022-01-23T07:24:18.612Z"
   },
   {
    "duration": 68,
    "start_time": "2022-01-23T07:24:39.540Z"
   },
   {
    "duration": 6,
    "start_time": "2022-01-23T07:24:39.611Z"
   },
   {
    "duration": 11,
    "start_time": "2022-01-23T07:24:39.620Z"
   },
   {
    "duration": 40,
    "start_time": "2022-01-23T07:24:39.659Z"
   },
   {
    "duration": 44,
    "start_time": "2022-01-23T07:41:12.037Z"
   },
   {
    "duration": 1959,
    "start_time": "2022-01-23T07:41:50.000Z"
   },
   {
    "duration": 40,
    "start_time": "2022-01-23T07:41:51.961Z"
   },
   {
    "duration": 22,
    "start_time": "2022-01-23T07:41:52.003Z"
   },
   {
    "duration": 9,
    "start_time": "2022-01-23T07:41:52.028Z"
   },
   {
    "duration": 299,
    "start_time": "2022-01-23T07:41:52.060Z"
   },
   {
    "duration": 47,
    "start_time": "2022-01-23T07:41:52.361Z"
   },
   {
    "duration": 7,
    "start_time": "2022-01-23T07:41:52.410Z"
   },
   {
    "duration": 57,
    "start_time": "2022-01-23T07:41:52.420Z"
   },
   {
    "duration": 8,
    "start_time": "2022-01-23T07:41:52.480Z"
   },
   {
    "duration": 73,
    "start_time": "2022-01-23T07:41:52.490Z"
   },
   {
    "duration": 4,
    "start_time": "2022-01-23T07:41:52.566Z"
   },
   {
    "duration": 90,
    "start_time": "2022-01-23T07:41:52.573Z"
   },
   {
    "duration": 13,
    "start_time": "2022-01-23T07:41:52.666Z"
   },
   {
    "duration": 26,
    "start_time": "2022-01-23T07:41:52.681Z"
   },
   {
    "duration": 16,
    "start_time": "2022-01-23T07:41:52.709Z"
   },
   {
    "duration": 30,
    "start_time": "2022-01-23T07:41:52.759Z"
   },
   {
    "duration": 35,
    "start_time": "2022-01-23T07:41:52.792Z"
   },
   {
    "duration": 37,
    "start_time": "2022-01-23T07:41:52.829Z"
   },
   {
    "duration": 18,
    "start_time": "2022-01-23T07:41:52.869Z"
   },
   {
    "duration": 42,
    "start_time": "2022-01-23T07:41:52.889Z"
   },
   {
    "duration": 24,
    "start_time": "2022-01-23T07:41:52.959Z"
   },
   {
    "duration": 23,
    "start_time": "2022-01-23T07:41:52.985Z"
   },
   {
    "duration": 5,
    "start_time": "2022-01-23T07:41:53.013Z"
   },
   {
    "duration": 124,
    "start_time": "2022-01-23T07:41:53.021Z"
   },
   {
    "duration": 91,
    "start_time": "2022-01-23T07:41:53.148Z"
   },
   {
    "duration": 696,
    "start_time": "2022-01-23T07:41:53.241Z"
   },
   {
    "duration": 76,
    "start_time": "2022-01-23T07:41:53.939Z"
   },
   {
    "duration": 149,
    "start_time": "2022-01-23T07:41:54.017Z"
   },
   {
    "duration": 114,
    "start_time": "2022-01-23T07:41:54.168Z"
   },
   {
    "duration": 1059,
    "start_time": "2022-01-23T07:41:54.284Z"
   },
   {
    "duration": 17,
    "start_time": "2022-01-23T07:41:55.345Z"
   },
   {
    "duration": 4,
    "start_time": "2022-01-23T07:41:55.364Z"
   },
   {
    "duration": 119,
    "start_time": "2022-01-23T07:41:55.370Z"
   },
   {
    "duration": 45,
    "start_time": "2022-01-23T07:41:55.492Z"
   },
   {
    "duration": 619,
    "start_time": "2022-01-23T07:41:55.540Z"
   },
   {
    "duration": 523,
    "start_time": "2022-01-23T07:41:56.162Z"
   },
   {
    "duration": 46,
    "start_time": "2022-01-23T07:41:56.687Z"
   },
   {
    "duration": 21163,
    "start_time": "2022-01-23T07:41:56.735Z"
   },
   {
    "duration": 71,
    "start_time": "2022-01-23T07:42:17.900Z"
   },
   {
    "duration": 5,
    "start_time": "2022-01-23T07:42:17.973Z"
   },
   {
    "duration": 11,
    "start_time": "2022-01-23T07:42:17.981Z"
   },
   {
    "duration": 39,
    "start_time": "2022-01-23T07:42:17.995Z"
   },
   {
    "duration": 40,
    "start_time": "2022-01-23T07:43:28.790Z"
   },
   {
    "duration": 40,
    "start_time": "2022-01-23T07:43:38.379Z"
   },
   {
    "duration": 27,
    "start_time": "2022-01-23T07:51:28.469Z"
   },
   {
    "duration": 26,
    "start_time": "2022-01-23T07:51:48.034Z"
   },
   {
    "duration": 24,
    "start_time": "2022-01-23T07:52:01.761Z"
   },
   {
    "duration": 27,
    "start_time": "2022-01-23T07:52:12.321Z"
   },
   {
    "duration": 26,
    "start_time": "2022-01-23T07:52:34.997Z"
   },
   {
    "duration": 45,
    "start_time": "2022-01-23T07:52:50.154Z"
   },
   {
    "duration": 31,
    "start_time": "2022-01-23T07:52:58.538Z"
   },
   {
    "duration": 45,
    "start_time": "2022-01-23T07:53:40.059Z"
   },
   {
    "duration": 27,
    "start_time": "2022-01-23T07:53:55.957Z"
   },
   {
    "duration": 24,
    "start_time": "2022-01-23T07:54:07.132Z"
   },
   {
    "duration": 23,
    "start_time": "2022-01-23T07:54:11.928Z"
   },
   {
    "duration": 26,
    "start_time": "2022-01-23T07:54:16.443Z"
   },
   {
    "duration": 42,
    "start_time": "2022-01-23T07:54:39.016Z"
   },
   {
    "duration": 42,
    "start_time": "2022-01-23T07:54:44.617Z"
   },
   {
    "duration": 2009,
    "start_time": "2022-01-23T07:54:59.480Z"
   },
   {
    "duration": 40,
    "start_time": "2022-01-23T07:55:01.492Z"
   },
   {
    "duration": 31,
    "start_time": "2022-01-23T07:55:01.535Z"
   },
   {
    "duration": 9,
    "start_time": "2022-01-23T07:55:01.568Z"
   },
   {
    "duration": 312,
    "start_time": "2022-01-23T07:55:01.580Z"
   },
   {
    "duration": 46,
    "start_time": "2022-01-23T07:55:01.894Z"
   },
   {
    "duration": 22,
    "start_time": "2022-01-23T07:55:01.942Z"
   },
   {
    "duration": 36,
    "start_time": "2022-01-23T07:55:01.968Z"
   },
   {
    "duration": 7,
    "start_time": "2022-01-23T07:55:02.008Z"
   },
   {
    "duration": 83,
    "start_time": "2022-01-23T07:55:02.018Z"
   },
   {
    "duration": 4,
    "start_time": "2022-01-23T07:55:02.103Z"
   },
   {
    "duration": 92,
    "start_time": "2022-01-23T07:55:02.109Z"
   },
   {
    "duration": 12,
    "start_time": "2022-01-23T07:55:02.204Z"
   },
   {
    "duration": 41,
    "start_time": "2022-01-23T07:55:02.218Z"
   },
   {
    "duration": 21,
    "start_time": "2022-01-23T07:55:02.261Z"
   },
   {
    "duration": 30,
    "start_time": "2022-01-23T07:55:02.284Z"
   },
   {
    "duration": 61,
    "start_time": "2022-01-23T07:55:02.316Z"
   },
   {
    "duration": 13,
    "start_time": "2022-01-23T07:55:02.379Z"
   },
   {
    "duration": 19,
    "start_time": "2022-01-23T07:55:02.394Z"
   },
   {
    "duration": 76,
    "start_time": "2022-01-23T07:55:02.415Z"
   },
   {
    "duration": 24,
    "start_time": "2022-01-23T07:55:02.493Z"
   },
   {
    "duration": 47,
    "start_time": "2022-01-23T07:55:02.519Z"
   },
   {
    "duration": 4,
    "start_time": "2022-01-23T07:55:02.571Z"
   },
   {
    "duration": 114,
    "start_time": "2022-01-23T07:55:02.578Z"
   },
   {
    "duration": 89,
    "start_time": "2022-01-23T07:55:02.695Z"
   },
   {
    "duration": 701,
    "start_time": "2022-01-23T07:55:02.787Z"
   },
   {
    "duration": 79,
    "start_time": "2022-01-23T07:55:03.491Z"
   },
   {
    "duration": 148,
    "start_time": "2022-01-23T07:55:03.572Z"
   },
   {
    "duration": 109,
    "start_time": "2022-01-23T07:55:03.722Z"
   },
   {
    "duration": 1025,
    "start_time": "2022-01-23T07:55:03.834Z"
   },
   {
    "duration": 5,
    "start_time": "2022-01-23T07:55:04.862Z"
   },
   {
    "duration": 3,
    "start_time": "2022-01-23T07:55:04.870Z"
   },
   {
    "duration": 118,
    "start_time": "2022-01-23T07:55:04.876Z"
   },
   {
    "duration": 46,
    "start_time": "2022-01-23T07:55:04.996Z"
   },
   {
    "duration": 537,
    "start_time": "2022-01-23T07:55:05.060Z"
   },
   {
    "duration": 518,
    "start_time": "2022-01-23T07:55:05.600Z"
   },
   {
    "duration": 72,
    "start_time": "2022-01-23T07:55:06.120Z"
   },
   {
    "duration": 21038,
    "start_time": "2022-01-23T07:55:06.195Z"
   },
   {
    "duration": 67,
    "start_time": "2022-01-23T07:55:27.236Z"
   },
   {
    "duration": 5,
    "start_time": "2022-01-23T07:55:27.305Z"
   },
   {
    "duration": 11,
    "start_time": "2022-01-23T07:55:27.312Z"
   },
   {
    "duration": 66,
    "start_time": "2022-01-23T07:55:27.325Z"
   },
   {
    "duration": 45,
    "start_time": "2022-01-23T07:55:27.394Z"
   },
   {
    "duration": 26,
    "start_time": "2022-01-23T07:55:27.459Z"
   },
   {
    "duration": 23,
    "start_time": "2022-01-23T07:55:27.487Z"
   },
   {
    "duration": 27,
    "start_time": "2022-01-23T07:55:51.467Z"
   },
   {
    "duration": 27,
    "start_time": "2022-01-23T07:56:01.363Z"
   },
   {
    "duration": 25,
    "start_time": "2022-01-23T07:56:05.650Z"
   },
   {
    "duration": 28,
    "start_time": "2022-01-23T07:56:11.083Z"
   },
   {
    "duration": 29,
    "start_time": "2022-01-23T07:56:17.656Z"
   },
   {
    "duration": 27,
    "start_time": "2022-01-23T07:56:41.005Z"
   },
   {
    "duration": 26,
    "start_time": "2022-01-23T07:56:48.811Z"
   },
   {
    "duration": 26,
    "start_time": "2022-01-23T07:56:55.935Z"
   },
   {
    "duration": 112,
    "start_time": "2022-01-23T08:00:53.421Z"
   },
   {
    "duration": 1916,
    "start_time": "2022-01-23T08:01:19.245Z"
   },
   {
    "duration": 42,
    "start_time": "2022-01-23T08:01:21.164Z"
   },
   {
    "duration": 25,
    "start_time": "2022-01-23T08:01:21.210Z"
   },
   {
    "duration": 11,
    "start_time": "2022-01-23T08:01:21.261Z"
   },
   {
    "duration": 307,
    "start_time": "2022-01-23T08:01:21.275Z"
   },
   {
    "duration": 49,
    "start_time": "2022-01-23T08:01:21.585Z"
   },
   {
    "duration": 9,
    "start_time": "2022-01-23T08:01:21.659Z"
   },
   {
    "duration": 38,
    "start_time": "2022-01-23T08:01:21.674Z"
   },
   {
    "duration": 10,
    "start_time": "2022-01-23T08:01:21.716Z"
   },
   {
    "duration": 52,
    "start_time": "2022-01-23T08:01:21.762Z"
   },
   {
    "duration": 6,
    "start_time": "2022-01-23T08:01:21.817Z"
   },
   {
    "duration": 106,
    "start_time": "2022-01-23T08:01:21.826Z"
   },
   {
    "duration": 30,
    "start_time": "2022-01-23T08:01:21.935Z"
   },
   {
    "duration": 27,
    "start_time": "2022-01-23T08:01:21.968Z"
   },
   {
    "duration": 18,
    "start_time": "2022-01-23T08:01:21.998Z"
   },
   {
    "duration": 65,
    "start_time": "2022-01-23T08:01:22.019Z"
   },
   {
    "duration": 36,
    "start_time": "2022-01-23T08:01:22.087Z"
   },
   {
    "duration": 45,
    "start_time": "2022-01-23T08:01:22.125Z"
   },
   {
    "duration": 19,
    "start_time": "2022-01-23T08:01:22.172Z"
   },
   {
    "duration": 69,
    "start_time": "2022-01-23T08:01:22.194Z"
   },
   {
    "duration": 26,
    "start_time": "2022-01-23T08:01:22.266Z"
   },
   {
    "duration": 24,
    "start_time": "2022-01-23T08:01:22.295Z"
   },
   {
    "duration": 38,
    "start_time": "2022-01-23T08:01:22.324Z"
   },
   {
    "duration": 103,
    "start_time": "2022-01-23T08:01:22.364Z"
   },
   {
    "duration": 94,
    "start_time": "2022-01-23T08:01:22.469Z"
   },
   {
    "duration": 700,
    "start_time": "2022-01-23T08:01:22.565Z"
   },
   {
    "duration": 66,
    "start_time": "2022-01-23T08:01:23.268Z"
   },
   {
    "duration": 166,
    "start_time": "2022-01-23T08:01:23.336Z"
   },
   {
    "duration": 117,
    "start_time": "2022-01-23T08:01:23.505Z"
   },
   {
    "duration": 1017,
    "start_time": "2022-01-23T08:01:23.626Z"
   },
   {
    "duration": 14,
    "start_time": "2022-01-23T08:01:24.646Z"
   },
   {
    "duration": 4,
    "start_time": "2022-01-23T08:01:24.663Z"
   },
   {
    "duration": 116,
    "start_time": "2022-01-23T08:01:24.670Z"
   },
   {
    "duration": 46,
    "start_time": "2022-01-23T08:01:24.789Z"
   },
   {
    "duration": 565,
    "start_time": "2022-01-23T08:01:24.837Z"
   },
   {
    "duration": 499,
    "start_time": "2022-01-23T08:01:25.404Z"
   },
   {
    "duration": 66,
    "start_time": "2022-01-23T08:01:25.905Z"
   },
   {
    "duration": 21317,
    "start_time": "2022-01-23T08:01:25.974Z"
   },
   {
    "duration": 76,
    "start_time": "2022-01-23T08:01:47.293Z"
   },
   {
    "duration": 7,
    "start_time": "2022-01-23T08:01:47.372Z"
   },
   {
    "duration": 12,
    "start_time": "2022-01-23T08:01:47.382Z"
   },
   {
    "duration": 70,
    "start_time": "2022-01-23T08:01:47.396Z"
   },
   {
    "duration": 41,
    "start_time": "2022-01-23T08:01:47.468Z"
   },
   {
    "duration": 1506,
    "start_time": "2022-01-23T08:20:49.476Z"
   },
   {
    "duration": 31,
    "start_time": "2022-01-23T08:20:50.985Z"
   },
   {
    "duration": 16,
    "start_time": "2022-01-23T08:20:51.019Z"
   },
   {
    "duration": 7,
    "start_time": "2022-01-23T08:20:51.037Z"
   },
   {
    "duration": 244,
    "start_time": "2022-01-23T08:20:51.046Z"
   },
   {
    "duration": 41,
    "start_time": "2022-01-23T08:20:51.292Z"
   },
   {
    "duration": 5,
    "start_time": "2022-01-23T08:20:51.334Z"
   },
   {
    "duration": 28,
    "start_time": "2022-01-23T08:20:51.342Z"
   },
   {
    "duration": 5,
    "start_time": "2022-01-23T08:20:51.373Z"
   },
   {
    "duration": 37,
    "start_time": "2022-01-23T08:20:51.399Z"
   },
   {
    "duration": 4,
    "start_time": "2022-01-23T08:20:51.437Z"
   },
   {
    "duration": 74,
    "start_time": "2022-01-23T08:20:51.442Z"
   },
   {
    "duration": 10,
    "start_time": "2022-01-23T08:20:51.518Z"
   },
   {
    "duration": 18,
    "start_time": "2022-01-23T08:20:51.530Z"
   },
   {
    "duration": 14,
    "start_time": "2022-01-23T08:20:51.549Z"
   },
   {
    "duration": 50,
    "start_time": "2022-01-23T08:20:51.564Z"
   },
   {
    "duration": 25,
    "start_time": "2022-01-23T08:20:51.615Z"
   },
   {
    "duration": 9,
    "start_time": "2022-01-23T08:20:51.642Z"
   },
   {
    "duration": 14,
    "start_time": "2022-01-23T08:20:51.653Z"
   },
   {
    "duration": 31,
    "start_time": "2022-01-23T08:20:51.698Z"
   },
   {
    "duration": 16,
    "start_time": "2022-01-23T08:20:51.730Z"
   },
   {
    "duration": 52,
    "start_time": "2022-01-23T08:20:51.747Z"
   },
   {
    "duration": 4,
    "start_time": "2022-01-23T08:20:51.802Z"
   },
   {
    "duration": 66,
    "start_time": "2022-01-23T08:20:51.808Z"
   },
   {
    "duration": 72,
    "start_time": "2022-01-23T08:20:51.875Z"
   },
   {
    "duration": 483,
    "start_time": "2022-01-23T08:20:51.949Z"
   },
   {
    "duration": 43,
    "start_time": "2022-01-23T08:20:52.433Z"
   },
   {
    "duration": 113,
    "start_time": "2022-01-23T08:20:52.478Z"
   },
   {
    "duration": 90,
    "start_time": "2022-01-23T08:20:52.592Z"
   },
   {
    "duration": 783,
    "start_time": "2022-01-23T08:20:52.684Z"
   },
   {
    "duration": 5,
    "start_time": "2022-01-23T08:20:53.469Z"
   },
   {
    "duration": 22,
    "start_time": "2022-01-23T08:20:53.476Z"
   },
   {
    "duration": 75,
    "start_time": "2022-01-23T08:20:53.500Z"
   },
   {
    "duration": 34,
    "start_time": "2022-01-23T08:20:53.576Z"
   },
   {
    "duration": 429,
    "start_time": "2022-01-23T08:20:53.611Z"
   },
   {
    "duration": 398,
    "start_time": "2022-01-23T08:20:54.042Z"
   },
   {
    "duration": 31,
    "start_time": "2022-01-23T08:20:54.442Z"
   },
   {
    "duration": 15016,
    "start_time": "2022-01-23T08:20:54.474Z"
   },
   {
    "duration": 46,
    "start_time": "2022-01-23T08:21:09.492Z"
   },
   {
    "duration": 18,
    "start_time": "2022-01-23T08:21:09.540Z"
   },
   {
    "duration": 18,
    "start_time": "2022-01-23T08:21:09.560Z"
   },
   {
    "duration": 30,
    "start_time": "2022-01-23T08:21:09.580Z"
   },
   {
    "duration": 28,
    "start_time": "2022-01-23T08:21:09.612Z"
   },
   {
    "duration": 30,
    "start_time": "2022-01-23T08:26:16.410Z"
   },
   {
    "duration": 8,
    "start_time": "2022-01-23T08:26:17.059Z"
   },
   {
    "duration": 4,
    "start_time": "2022-01-23T08:33:01.877Z"
   },
   {
    "duration": 325,
    "start_time": "2022-01-23T08:33:52.126Z"
   },
   {
    "duration": 37,
    "start_time": "2022-01-23T08:34:13.481Z"
   },
   {
    "duration": 19,
    "start_time": "2022-01-23T08:34:31.121Z"
   },
   {
    "duration": 1982,
    "start_time": "2022-01-23T08:35:54.581Z"
   },
   {
    "duration": 32,
    "start_time": "2022-01-23T08:35:59.848Z"
   },
   {
    "duration": 32,
    "start_time": "2022-01-23T08:36:45.776Z"
   },
   {
    "duration": 31,
    "start_time": "2022-01-23T08:37:49.185Z"
   },
   {
    "duration": 31,
    "start_time": "2022-01-23T08:38:51.615Z"
   },
   {
    "duration": 34,
    "start_time": "2022-01-23T08:47:22.978Z"
   },
   {
    "duration": 34,
    "start_time": "2022-01-23T08:48:03.436Z"
   },
   {
    "duration": 31,
    "start_time": "2022-01-23T08:49:42.531Z"
   },
   {
    "duration": 31,
    "start_time": "2022-01-23T08:49:58.955Z"
   },
   {
    "duration": 34,
    "start_time": "2022-01-23T08:50:18.915Z"
   },
   {
    "duration": 34,
    "start_time": "2022-01-23T08:50:45.891Z"
   },
   {
    "duration": 33,
    "start_time": "2022-01-23T08:51:21.235Z"
   },
   {
    "duration": 28,
    "start_time": "2022-01-23T09:31:30.263Z"
   },
   {
    "duration": 24,
    "start_time": "2022-01-23T09:31:48.082Z"
   },
   {
    "duration": 31,
    "start_time": "2022-01-23T09:41:30.034Z"
   },
   {
    "duration": 35,
    "start_time": "2022-01-23T09:41:52.219Z"
   },
   {
    "duration": 36,
    "start_time": "2022-01-23T09:42:02.642Z"
   },
   {
    "duration": 26,
    "start_time": "2022-01-23T09:42:08.498Z"
   },
   {
    "duration": 18,
    "start_time": "2022-01-23T09:42:42.765Z"
   },
   {
    "duration": 40,
    "start_time": "2022-01-23T09:42:45.095Z"
   },
   {
    "duration": 27,
    "start_time": "2022-01-23T09:43:08.415Z"
   },
   {
    "duration": 26,
    "start_time": "2022-01-23T09:43:28.819Z"
   },
   {
    "duration": 166,
    "start_time": "2022-01-23T09:44:24.085Z"
   },
   {
    "duration": 42,
    "start_time": "2022-01-23T09:44:27.414Z"
   },
   {
    "duration": 32,
    "start_time": "2022-01-23T09:44:39.423Z"
   },
   {
    "duration": 26,
    "start_time": "2022-01-23T09:45:12.747Z"
   },
   {
    "duration": 41,
    "start_time": "2022-01-23T09:45:34.265Z"
   },
   {
    "duration": 546,
    "start_time": "2022-01-23T09:53:38.593Z"
   },
   {
    "duration": 6463,
    "start_time": "2022-01-23T09:53:44.366Z"
   },
   {
    "duration": 622,
    "start_time": "2022-01-23T09:53:52.759Z"
   },
   {
    "duration": 5232,
    "start_time": "2022-01-23T10:21:52.354Z"
   },
   {
    "duration": 9,
    "start_time": "2022-01-23T11:28:31.376Z"
   },
   {
    "duration": 36,
    "start_time": "2022-01-23T11:29:23.511Z"
   },
   {
    "duration": 352,
    "start_time": "2022-01-23T11:29:37.783Z"
   },
   {
    "duration": 470,
    "start_time": "2022-01-23T11:29:46.068Z"
   },
   {
    "duration": 381,
    "start_time": "2022-01-23T11:30:03.574Z"
   },
   {
    "duration": 383,
    "start_time": "2022-01-23T11:30:12.022Z"
   },
   {
    "duration": 112,
    "start_time": "2022-01-23T11:30:17.116Z"
   },
   {
    "duration": 47,
    "start_time": "2022-01-23T11:30:19.371Z"
   },
   {
    "duration": 63,
    "start_time": "2022-01-23T11:30:40.532Z"
   },
   {
    "duration": 61,
    "start_time": "2022-01-23T11:30:58.710Z"
   },
   {
    "duration": 377,
    "start_time": "2022-01-23T11:31:17.935Z"
   },
   {
    "duration": 54,
    "start_time": "2022-01-23T11:31:25.787Z"
   },
   {
    "duration": 445,
    "start_time": "2022-01-23T12:14:09.167Z"
   },
   {
    "duration": 456,
    "start_time": "2022-01-23T12:14:11.624Z"
   },
   {
    "duration": 2617,
    "start_time": "2022-01-23T12:57:05.632Z"
   },
   {
    "duration": 39,
    "start_time": "2022-01-23T12:57:08.252Z"
   },
   {
    "duration": 22,
    "start_time": "2022-01-23T12:57:08.294Z"
   },
   {
    "duration": 10,
    "start_time": "2022-01-23T12:57:08.319Z"
   },
   {
    "duration": 302,
    "start_time": "2022-01-23T12:57:08.358Z"
   },
   {
    "duration": 46,
    "start_time": "2022-01-23T12:57:08.663Z"
   },
   {
    "duration": 8,
    "start_time": "2022-01-23T12:57:08.711Z"
   },
   {
    "duration": 69,
    "start_time": "2022-01-23T12:57:08.724Z"
   },
   {
    "duration": 13,
    "start_time": "2022-01-23T12:57:08.797Z"
   },
   {
    "duration": 87,
    "start_time": "2022-01-23T12:57:08.812Z"
   },
   {
    "duration": 6,
    "start_time": "2022-01-23T12:57:08.902Z"
   },
   {
    "duration": 105,
    "start_time": "2022-01-23T12:57:08.910Z"
   },
   {
    "duration": 13,
    "start_time": "2022-01-23T12:57:09.017Z"
   },
   {
    "duration": 48,
    "start_time": "2022-01-23T12:57:09.032Z"
   },
   {
    "duration": 21,
    "start_time": "2022-01-23T12:57:09.083Z"
   },
   {
    "duration": 60,
    "start_time": "2022-01-23T12:57:09.107Z"
   },
   {
    "duration": 57,
    "start_time": "2022-01-23T12:57:09.170Z"
   },
   {
    "duration": 36,
    "start_time": "2022-01-23T12:57:09.230Z"
   },
   {
    "duration": 24,
    "start_time": "2022-01-23T12:57:09.269Z"
   },
   {
    "duration": 76,
    "start_time": "2022-01-23T12:57:09.296Z"
   },
   {
    "duration": 26,
    "start_time": "2022-01-23T12:57:09.374Z"
   },
   {
    "duration": 59,
    "start_time": "2022-01-23T12:57:09.402Z"
   },
   {
    "duration": 6,
    "start_time": "2022-01-23T12:57:09.466Z"
   },
   {
    "duration": 119,
    "start_time": "2022-01-23T12:57:09.475Z"
   },
   {
    "duration": 100,
    "start_time": "2022-01-23T12:57:09.597Z"
   },
   {
    "duration": 727,
    "start_time": "2022-01-23T12:57:09.700Z"
   },
   {
    "duration": 82,
    "start_time": "2022-01-23T12:57:10.430Z"
   },
   {
    "duration": 142,
    "start_time": "2022-01-23T12:57:10.515Z"
   },
   {
    "duration": 117,
    "start_time": "2022-01-23T12:57:10.660Z"
   },
   {
    "duration": 1102,
    "start_time": "2022-01-23T12:57:10.780Z"
   },
   {
    "duration": 6,
    "start_time": "2022-01-23T12:57:11.884Z"
   },
   {
    "duration": 7,
    "start_time": "2022-01-23T12:57:11.893Z"
   },
   {
    "duration": 121,
    "start_time": "2022-01-23T12:57:11.903Z"
   },
   {
    "duration": 58,
    "start_time": "2022-01-23T12:57:12.026Z"
   },
   {
    "duration": 596,
    "start_time": "2022-01-23T12:57:12.087Z"
   },
   {
    "duration": 458,
    "start_time": "2022-01-23T12:57:12.686Z"
   },
   {
    "duration": 55,
    "start_time": "2022-01-23T12:57:13.146Z"
   },
   {
    "duration": 25992,
    "start_time": "2022-01-23T12:57:13.204Z"
   },
   {
    "duration": 105,
    "start_time": "2022-01-23T12:57:39.199Z"
   },
   {
    "duration": 7,
    "start_time": "2022-01-23T12:57:39.307Z"
   },
   {
    "duration": 89,
    "start_time": "2022-01-23T12:57:39.317Z"
   },
   {
    "duration": 14,
    "start_time": "2022-01-23T12:57:39.410Z"
   },
   {
    "duration": 90,
    "start_time": "2022-01-23T12:57:39.427Z"
   },
   {
    "duration": 55,
    "start_time": "2022-01-23T12:57:39.519Z"
   },
   {
    "duration": 2565,
    "start_time": "2022-01-23T16:38:23.590Z"
   },
   {
    "duration": 42,
    "start_time": "2022-01-23T16:38:26.158Z"
   },
   {
    "duration": 24,
    "start_time": "2022-01-23T16:38:26.204Z"
   },
   {
    "duration": 38,
    "start_time": "2022-01-23T16:38:26.231Z"
   },
   {
    "duration": 793,
    "start_time": "2022-01-23T16:38:26.272Z"
   },
   {
    "duration": 62,
    "start_time": "2022-01-23T16:38:27.068Z"
   },
   {
    "duration": 8,
    "start_time": "2022-01-23T16:38:27.133Z"
   },
   {
    "duration": 48,
    "start_time": "2022-01-23T16:38:27.145Z"
   },
   {
    "duration": 9,
    "start_time": "2022-01-23T16:38:27.196Z"
   },
   {
    "duration": 72,
    "start_time": "2022-01-23T16:38:27.207Z"
   },
   {
    "duration": 5,
    "start_time": "2022-01-23T16:38:27.282Z"
   },
   {
    "duration": 102,
    "start_time": "2022-01-23T16:38:27.290Z"
   },
   {
    "duration": 14,
    "start_time": "2022-01-23T16:38:27.394Z"
   },
   {
    "duration": 29,
    "start_time": "2022-01-23T16:38:27.411Z"
   },
   {
    "duration": 26,
    "start_time": "2022-01-23T16:38:27.466Z"
   },
   {
    "duration": 31,
    "start_time": "2022-01-23T16:38:27.494Z"
   },
   {
    "duration": 62,
    "start_time": "2022-01-23T16:38:27.528Z"
   },
   {
    "duration": 16,
    "start_time": "2022-01-23T16:38:27.593Z"
   },
   {
    "duration": 20,
    "start_time": "2022-01-23T16:38:27.612Z"
   },
   {
    "duration": 75,
    "start_time": "2022-01-23T16:38:27.635Z"
   },
   {
    "duration": 26,
    "start_time": "2022-01-23T16:38:27.713Z"
   },
   {
    "duration": 50,
    "start_time": "2022-01-23T16:38:27.741Z"
   },
   {
    "duration": 5,
    "start_time": "2022-01-23T16:38:27.797Z"
   },
   {
    "duration": 128,
    "start_time": "2022-01-23T16:38:27.806Z"
   },
   {
    "duration": 100,
    "start_time": "2022-01-23T16:38:27.937Z"
   },
   {
    "duration": 736,
    "start_time": "2022-01-23T16:38:28.040Z"
   },
   {
    "duration": 68,
    "start_time": "2022-01-23T16:38:28.778Z"
   },
   {
    "duration": 147,
    "start_time": "2022-01-23T16:38:28.865Z"
   },
   {
    "duration": 115,
    "start_time": "2022-01-23T16:38:29.015Z"
   },
   {
    "duration": 1077,
    "start_time": "2022-01-23T16:38:29.132Z"
   },
   {
    "duration": 6,
    "start_time": "2022-01-23T16:38:30.212Z"
   },
   {
    "duration": 17,
    "start_time": "2022-01-23T16:38:30.222Z"
   },
   {
    "duration": 123,
    "start_time": "2022-01-23T16:38:30.241Z"
   },
   {
    "duration": 51,
    "start_time": "2022-01-23T16:38:30.367Z"
   },
   {
    "duration": 762,
    "start_time": "2022-01-23T16:38:30.420Z"
   },
   {
    "duration": 492,
    "start_time": "2022-01-23T16:38:31.186Z"
   },
   {
    "duration": 46,
    "start_time": "2022-01-23T16:38:31.681Z"
   },
   {
    "duration": 21114,
    "start_time": "2022-01-23T16:38:31.731Z"
   },
   {
    "duration": 68,
    "start_time": "2022-01-23T16:38:52.847Z"
   },
   {
    "duration": 5,
    "start_time": "2022-01-23T16:38:52.918Z"
   },
   {
    "duration": 67,
    "start_time": "2022-01-23T16:38:52.925Z"
   },
   {
    "duration": 12,
    "start_time": "2022-01-23T16:38:52.995Z"
   },
   {
    "duration": 61,
    "start_time": "2022-01-23T16:38:53.009Z"
   },
   {
    "duration": 46,
    "start_time": "2022-01-23T16:38:53.073Z"
   },
   {
    "duration": 563,
    "start_time": "2022-01-23T18:11:46.969Z"
   },
   {
    "duration": 1994,
    "start_time": "2022-01-23T18:11:53.907Z"
   },
   {
    "duration": 40,
    "start_time": "2022-01-23T18:11:55.903Z"
   },
   {
    "duration": 34,
    "start_time": "2022-01-23T18:11:55.947Z"
   },
   {
    "duration": 10,
    "start_time": "2022-01-23T18:11:55.984Z"
   },
   {
    "duration": 328,
    "start_time": "2022-01-23T18:11:55.997Z"
   },
   {
    "duration": 60,
    "start_time": "2022-01-23T18:11:56.328Z"
   },
   {
    "duration": 7,
    "start_time": "2022-01-23T18:11:56.391Z"
   },
   {
    "duration": 37,
    "start_time": "2022-01-23T18:11:56.401Z"
   },
   {
    "duration": 13,
    "start_time": "2022-01-23T18:11:56.468Z"
   },
   {
    "duration": 54,
    "start_time": "2022-01-23T18:11:56.485Z"
   },
   {
    "duration": 26,
    "start_time": "2022-01-23T18:11:56.541Z"
   },
   {
    "duration": 107,
    "start_time": "2022-01-23T18:11:56.572Z"
   },
   {
    "duration": 14,
    "start_time": "2022-01-23T18:11:56.682Z"
   },
   {
    "duration": 28,
    "start_time": "2022-01-23T18:11:56.698Z"
   },
   {
    "duration": 54,
    "start_time": "2022-01-23T18:11:56.729Z"
   },
   {
    "duration": 31,
    "start_time": "2022-01-23T18:11:56.787Z"
   },
   {
    "duration": 73,
    "start_time": "2022-01-23T18:11:56.820Z"
   },
   {
    "duration": 20,
    "start_time": "2022-01-23T18:11:56.895Z"
   },
   {
    "duration": 20,
    "start_time": "2022-01-23T18:11:56.917Z"
   },
   {
    "duration": 74,
    "start_time": "2022-01-23T18:11:56.939Z"
   },
   {
    "duration": 22,
    "start_time": "2022-01-23T18:11:57.016Z"
   },
   {
    "duration": 32,
    "start_time": "2022-01-23T18:11:57.065Z"
   },
   {
    "duration": 5,
    "start_time": "2022-01-23T18:11:57.099Z"
   },
   {
    "duration": 129,
    "start_time": "2022-01-23T18:11:57.107Z"
   },
   {
    "duration": 99,
    "start_time": "2022-01-23T18:11:57.238Z"
   },
   {
    "duration": 767,
    "start_time": "2022-01-23T18:11:57.340Z"
   },
   {
    "duration": 84,
    "start_time": "2022-01-23T18:11:58.113Z"
   },
   {
    "duration": 156,
    "start_time": "2022-01-23T18:11:58.200Z"
   },
   {
    "duration": 132,
    "start_time": "2022-01-23T18:11:58.360Z"
   },
   {
    "duration": 1104,
    "start_time": "2022-01-23T18:11:58.496Z"
   },
   {
    "duration": 6,
    "start_time": "2022-01-23T18:11:59.603Z"
   },
   {
    "duration": 7,
    "start_time": "2022-01-23T18:11:59.613Z"
   },
   {
    "duration": 133,
    "start_time": "2022-01-23T18:11:59.622Z"
   },
   {
    "duration": 53,
    "start_time": "2022-01-23T18:11:59.759Z"
   },
   {
    "duration": 730,
    "start_time": "2022-01-23T18:11:59.815Z"
   },
   {
    "duration": 813,
    "start_time": "2022-01-23T18:12:00.564Z"
   },
   {
    "duration": -231,
    "start_time": "2022-01-23T18:12:01.611Z"
   },
   {
    "duration": -255,
    "start_time": "2022-01-23T18:12:01.636Z"
   },
   {
    "duration": -260,
    "start_time": "2022-01-23T18:12:01.643Z"
   },
   {
    "duration": -275,
    "start_time": "2022-01-23T18:12:01.660Z"
   },
   {
    "duration": -281,
    "start_time": "2022-01-23T18:12:01.667Z"
   },
   {
    "duration": -287,
    "start_time": "2022-01-23T18:12:01.675Z"
   },
   {
    "duration": -292,
    "start_time": "2022-01-23T18:12:01.682Z"
   },
   {
    "duration": -298,
    "start_time": "2022-01-23T18:12:01.690Z"
   },
   {
    "duration": 1843,
    "start_time": "2022-01-23T18:14:46.312Z"
   },
   {
    "duration": 39,
    "start_time": "2022-01-23T18:14:48.158Z"
   },
   {
    "duration": 21,
    "start_time": "2022-01-23T18:14:48.200Z"
   },
   {
    "duration": 8,
    "start_time": "2022-01-23T18:14:48.223Z"
   },
   {
    "duration": 304,
    "start_time": "2022-01-23T18:14:48.233Z"
   },
   {
    "duration": 54,
    "start_time": "2022-01-23T18:14:48.540Z"
   },
   {
    "duration": 9,
    "start_time": "2022-01-23T18:14:48.597Z"
   },
   {
    "duration": 67,
    "start_time": "2022-01-23T18:14:48.608Z"
   },
   {
    "duration": 9,
    "start_time": "2022-01-23T18:14:48.681Z"
   },
   {
    "duration": 75,
    "start_time": "2022-01-23T18:14:48.693Z"
   },
   {
    "duration": 5,
    "start_time": "2022-01-23T18:14:48.770Z"
   },
   {
    "duration": 95,
    "start_time": "2022-01-23T18:14:48.778Z"
   },
   {
    "duration": 14,
    "start_time": "2022-01-23T18:14:48.875Z"
   },
   {
    "duration": 24,
    "start_time": "2022-01-23T18:14:48.891Z"
   },
   {
    "duration": 15,
    "start_time": "2022-01-23T18:14:48.918Z"
   },
   {
    "duration": 30,
    "start_time": "2022-01-23T18:14:48.963Z"
   },
   {
    "duration": 34,
    "start_time": "2022-01-23T18:14:48.996Z"
   },
   {
    "duration": 38,
    "start_time": "2022-01-23T18:14:49.033Z"
   },
   {
    "duration": 19,
    "start_time": "2022-01-23T18:14:49.073Z"
   },
   {
    "duration": 71,
    "start_time": "2022-01-23T18:14:49.095Z"
   },
   {
    "duration": 23,
    "start_time": "2022-01-23T18:14:49.168Z"
   },
   {
    "duration": 25,
    "start_time": "2022-01-23T18:14:49.193Z"
   },
   {
    "duration": 6,
    "start_time": "2022-01-23T18:14:49.221Z"
   },
   {
    "duration": 121,
    "start_time": "2022-01-23T18:14:49.229Z"
   },
   {
    "duration": 90,
    "start_time": "2022-01-23T18:14:49.352Z"
   },
   {
    "duration": 725,
    "start_time": "2022-01-23T18:14:49.445Z"
   },
   {
    "duration": 64,
    "start_time": "2022-01-23T18:14:50.175Z"
   },
   {
    "duration": 159,
    "start_time": "2022-01-23T18:14:50.243Z"
   },
   {
    "duration": 115,
    "start_time": "2022-01-23T18:14:50.405Z"
   },
   {
    "duration": 1027,
    "start_time": "2022-01-23T18:14:50.523Z"
   },
   {
    "duration": 15,
    "start_time": "2022-01-23T18:14:51.553Z"
   },
   {
    "duration": 20,
    "start_time": "2022-01-23T18:14:51.570Z"
   },
   {
    "duration": 106,
    "start_time": "2022-01-23T18:14:51.593Z"
   },
   {
    "duration": 63,
    "start_time": "2022-01-23T18:14:51.701Z"
   },
   {
    "duration": 558,
    "start_time": "2022-01-23T18:14:51.767Z"
   },
   {
    "duration": 583,
    "start_time": "2022-01-23T18:14:52.328Z"
   },
   {
    "duration": -181,
    "start_time": "2022-01-23T18:14:53.095Z"
   },
   {
    "duration": -206,
    "start_time": "2022-01-23T18:14:53.122Z"
   },
   {
    "duration": -219,
    "start_time": "2022-01-23T18:14:53.136Z"
   },
   {
    "duration": -230,
    "start_time": "2022-01-23T18:14:53.149Z"
   },
   {
    "duration": -242,
    "start_time": "2022-01-23T18:14:53.162Z"
   },
   {
    "duration": -250,
    "start_time": "2022-01-23T18:14:53.172Z"
   },
   {
    "duration": -261,
    "start_time": "2022-01-23T18:14:53.184Z"
   },
   {
    "duration": -272,
    "start_time": "2022-01-23T18:14:53.197Z"
   },
   {
    "duration": 51,
    "start_time": "2022-01-23T18:15:42.608Z"
   },
   {
    "duration": 54,
    "start_time": "2022-01-23T18:16:04.676Z"
   },
   {
    "duration": 50,
    "start_time": "2022-01-23T18:16:42.504Z"
   },
   {
    "duration": 1930,
    "start_time": "2022-01-23T18:17:13.292Z"
   },
   {
    "duration": 41,
    "start_time": "2022-01-23T18:17:15.225Z"
   },
   {
    "duration": 31,
    "start_time": "2022-01-23T18:17:15.270Z"
   },
   {
    "duration": 13,
    "start_time": "2022-01-23T18:17:15.304Z"
   },
   {
    "duration": 320,
    "start_time": "2022-01-23T18:17:15.319Z"
   },
   {
    "duration": 46,
    "start_time": "2022-01-23T18:17:15.641Z"
   },
   {
    "duration": 7,
    "start_time": "2022-01-23T18:17:15.689Z"
   },
   {
    "duration": 38,
    "start_time": "2022-01-23T18:17:15.698Z"
   },
   {
    "duration": 8,
    "start_time": "2022-01-23T18:17:15.766Z"
   },
   {
    "duration": 52,
    "start_time": "2022-01-23T18:17:15.777Z"
   },
   {
    "duration": 5,
    "start_time": "2022-01-23T18:17:15.831Z"
   },
   {
    "duration": 102,
    "start_time": "2022-01-23T18:17:15.839Z"
   },
   {
    "duration": 28,
    "start_time": "2022-01-23T18:17:15.943Z"
   },
   {
    "duration": 28,
    "start_time": "2022-01-23T18:17:15.973Z"
   },
   {
    "duration": 21,
    "start_time": "2022-01-23T18:17:16.004Z"
   },
   {
    "duration": 67,
    "start_time": "2022-01-23T18:17:16.027Z"
   },
   {
    "duration": 37,
    "start_time": "2022-01-23T18:17:16.097Z"
   },
   {
    "duration": 15,
    "start_time": "2022-01-23T18:17:16.166Z"
   },
   {
    "duration": 20,
    "start_time": "2022-01-23T18:17:16.184Z"
   },
   {
    "duration": 76,
    "start_time": "2022-01-23T18:17:16.206Z"
   },
   {
    "duration": 24,
    "start_time": "2022-01-23T18:17:16.284Z"
   },
   {
    "duration": 25,
    "start_time": "2022-01-23T18:17:16.311Z"
   },
   {
    "duration": 7,
    "start_time": "2022-01-23T18:17:16.365Z"
   },
   {
    "duration": 110,
    "start_time": "2022-01-23T18:17:16.374Z"
   },
   {
    "duration": 91,
    "start_time": "2022-01-23T18:17:16.486Z"
   },
   {
    "duration": 697,
    "start_time": "2022-01-23T18:17:16.579Z"
   },
   {
    "duration": 61,
    "start_time": "2022-01-23T18:17:17.282Z"
   },
   {
    "duration": 157,
    "start_time": "2022-01-23T18:17:17.346Z"
   },
   {
    "duration": 113,
    "start_time": "2022-01-23T18:17:17.506Z"
   },
   {
    "duration": 1012,
    "start_time": "2022-01-23T18:17:17.621Z"
   },
   {
    "duration": 6,
    "start_time": "2022-01-23T18:17:18.636Z"
   },
   {
    "duration": 22,
    "start_time": "2022-01-23T18:17:18.644Z"
   },
   {
    "duration": 104,
    "start_time": "2022-01-23T18:17:18.668Z"
   },
   {
    "duration": 45,
    "start_time": "2022-01-23T18:17:18.774Z"
   },
   {
    "duration": 592,
    "start_time": "2022-01-23T18:17:18.822Z"
   },
   {
    "duration": 638,
    "start_time": "2022-01-23T18:17:19.416Z"
   },
   {
    "duration": -59,
    "start_time": "2022-01-23T18:17:20.116Z"
   },
   {
    "duration": -67,
    "start_time": "2022-01-23T18:17:20.126Z"
   },
   {
    "duration": -71,
    "start_time": "2022-01-23T18:17:20.131Z"
   },
   {
    "duration": -79,
    "start_time": "2022-01-23T18:17:20.141Z"
   },
   {
    "duration": -86,
    "start_time": "2022-01-23T18:17:20.150Z"
   },
   {
    "duration": -94,
    "start_time": "2022-01-23T18:17:20.159Z"
   },
   {
    "duration": -101,
    "start_time": "2022-01-23T18:17:20.168Z"
   },
   {
    "duration": -109,
    "start_time": "2022-01-23T18:17:20.177Z"
   },
   {
    "duration": -122,
    "start_time": "2022-01-23T18:17:20.192Z"
   },
   {
    "duration": 55,
    "start_time": "2022-01-23T18:17:44.084Z"
   },
   {
    "duration": 57,
    "start_time": "2022-01-23T18:22:59.956Z"
   },
   {
    "duration": 58,
    "start_time": "2022-01-23T18:23:00.321Z"
   },
   {
    "duration": 55,
    "start_time": "2022-01-23T18:23:12.951Z"
   },
   {
    "duration": 54,
    "start_time": "2022-01-23T18:23:21.332Z"
   },
   {
    "duration": 56,
    "start_time": "2022-01-23T18:23:33.241Z"
   },
   {
    "duration": 54,
    "start_time": "2022-01-23T18:23:43.640Z"
   },
   {
    "duration": 54,
    "start_time": "2022-01-23T18:23:56.371Z"
   },
   {
    "duration": 335,
    "start_time": "2022-01-23T18:27:20.418Z"
   },
   {
    "duration": 531,
    "start_time": "2022-01-23T18:27:21.428Z"
   },
   {
    "duration": 370,
    "start_time": "2022-01-23T18:27:22.538Z"
   },
   {
    "duration": 2110,
    "start_time": "2022-01-23T18:28:28.305Z"
   },
   {
    "duration": 45,
    "start_time": "2022-01-23T18:28:30.419Z"
   },
   {
    "duration": 31,
    "start_time": "2022-01-23T18:28:30.468Z"
   },
   {
    "duration": 19,
    "start_time": "2022-01-23T18:28:30.501Z"
   },
   {
    "duration": 342,
    "start_time": "2022-01-23T18:28:30.523Z"
   },
   {
    "duration": 50,
    "start_time": "2022-01-23T18:28:30.868Z"
   },
   {
    "duration": 8,
    "start_time": "2022-01-23T18:28:30.921Z"
   },
   {
    "duration": 55,
    "start_time": "2022-01-23T18:28:30.932Z"
   },
   {
    "duration": 9,
    "start_time": "2022-01-23T18:28:30.990Z"
   },
   {
    "duration": 73,
    "start_time": "2022-01-23T18:28:31.002Z"
   },
   {
    "duration": 6,
    "start_time": "2022-01-23T18:28:31.078Z"
   },
   {
    "duration": 91,
    "start_time": "2022-01-23T18:28:31.086Z"
   },
   {
    "duration": 13,
    "start_time": "2022-01-23T18:28:31.180Z"
   },
   {
    "duration": 29,
    "start_time": "2022-01-23T18:28:31.196Z"
   },
   {
    "duration": 41,
    "start_time": "2022-01-23T18:28:31.228Z"
   },
   {
    "duration": 30,
    "start_time": "2022-01-23T18:28:31.272Z"
   },
   {
    "duration": 37,
    "start_time": "2022-01-23T18:28:31.304Z"
   },
   {
    "duration": 36,
    "start_time": "2022-01-23T18:28:31.343Z"
   },
   {
    "duration": 19,
    "start_time": "2022-01-23T18:28:31.382Z"
   },
   {
    "duration": 85,
    "start_time": "2022-01-23T18:28:31.404Z"
   },
   {
    "duration": 26,
    "start_time": "2022-01-23T18:28:31.492Z"
   },
   {
    "duration": 56,
    "start_time": "2022-01-23T18:28:31.521Z"
   },
   {
    "duration": 5,
    "start_time": "2022-01-23T18:28:31.585Z"
   },
   {
    "duration": 108,
    "start_time": "2022-01-23T18:28:31.594Z"
   },
   {
    "duration": 96,
    "start_time": "2022-01-23T18:28:31.705Z"
   },
   {
    "duration": 695,
    "start_time": "2022-01-23T18:28:31.804Z"
   },
   {
    "duration": 88,
    "start_time": "2022-01-23T18:28:32.502Z"
   },
   {
    "duration": 137,
    "start_time": "2022-01-23T18:28:32.592Z"
   },
   {
    "duration": 107,
    "start_time": "2022-01-23T18:28:32.732Z"
   },
   {
    "duration": 1048,
    "start_time": "2022-01-23T18:28:32.842Z"
   },
   {
    "duration": 6,
    "start_time": "2022-01-23T18:28:33.892Z"
   },
   {
    "duration": 18,
    "start_time": "2022-01-23T18:28:33.901Z"
   },
   {
    "duration": 109,
    "start_time": "2022-01-23T18:28:33.921Z"
   },
   {
    "duration": 56,
    "start_time": "2022-01-23T18:28:34.033Z"
   },
   {
    "duration": 612,
    "start_time": "2022-01-23T18:28:34.093Z"
   },
   {
    "duration": 506,
    "start_time": "2022-01-23T18:28:34.707Z"
   },
   {
    "duration": -268,
    "start_time": "2022-01-23T18:28:35.484Z"
   },
   {
    "duration": -280,
    "start_time": "2022-01-23T18:28:35.498Z"
   },
   {
    "duration": -285,
    "start_time": "2022-01-23T18:28:35.505Z"
   },
   {
    "duration": -293,
    "start_time": "2022-01-23T18:28:35.514Z"
   },
   {
    "duration": -298,
    "start_time": "2022-01-23T18:28:35.521Z"
   },
   {
    "duration": -305,
    "start_time": "2022-01-23T18:28:35.530Z"
   },
   {
    "duration": -311,
    "start_time": "2022-01-23T18:28:35.538Z"
   },
   {
    "duration": -318,
    "start_time": "2022-01-23T18:28:35.546Z"
   },
   {
    "duration": -328,
    "start_time": "2022-01-23T18:28:35.558Z"
   },
   {
    "duration": 66,
    "start_time": "2022-01-23T18:29:12.376Z"
   },
   {
    "duration": 1236,
    "start_time": "2022-01-23T18:49:30.098Z"
   },
   {
    "duration": 1223,
    "start_time": "2022-01-23T18:50:08.432Z"
   },
   {
    "duration": 68,
    "start_time": "2022-01-23T18:50:53.611Z"
   },
   {
    "duration": 74,
    "start_time": "2022-01-23T18:51:00.427Z"
   },
   {
    "duration": 64,
    "start_time": "2022-01-23T18:51:11.677Z"
   },
   {
    "duration": 66,
    "start_time": "2022-01-23T18:51:16.172Z"
   },
   {
    "duration": 69,
    "start_time": "2022-01-23T18:51:20.073Z"
   },
   {
    "duration": 67,
    "start_time": "2022-01-23T18:51:23.398Z"
   },
   {
    "duration": 79,
    "start_time": "2022-01-23T18:51:25.195Z"
   },
   {
    "duration": 103,
    "start_time": "2022-01-23T18:51:30.944Z"
   },
   {
    "duration": 65,
    "start_time": "2022-01-23T18:51:33.804Z"
   },
   {
    "duration": 17,
    "start_time": "2022-01-23T18:52:31.258Z"
   },
   {
    "duration": 506,
    "start_time": "2022-01-23T18:52:38.070Z"
   },
   {
    "duration": 17,
    "start_time": "2022-01-23T18:52:41.771Z"
   },
   {
    "duration": 153,
    "start_time": "2022-01-23T18:52:44.883Z"
   },
   {
    "duration": 1171,
    "start_time": "2022-01-23T18:52:56.843Z"
   },
   {
    "duration": 1302,
    "start_time": "2022-01-23T18:53:43.568Z"
   },
   {
    "duration": 142,
    "start_time": "2022-01-23T18:54:58.375Z"
   },
   {
    "duration": 21642,
    "start_time": "2022-01-23T18:58:21.471Z"
   },
   {
    "duration": 1916,
    "start_time": "2022-01-24T08:25:56.512Z"
   },
   {
    "duration": 40,
    "start_time": "2022-01-24T08:25:58.431Z"
   },
   {
    "duration": 21,
    "start_time": "2022-01-24T08:25:58.474Z"
   },
   {
    "duration": 10,
    "start_time": "2022-01-24T08:25:58.497Z"
   },
   {
    "duration": 317,
    "start_time": "2022-01-24T08:25:58.509Z"
   },
   {
    "duration": 46,
    "start_time": "2022-01-24T08:25:58.828Z"
   },
   {
    "duration": 7,
    "start_time": "2022-01-24T08:25:58.877Z"
   },
   {
    "duration": 43,
    "start_time": "2022-01-24T08:25:58.888Z"
   },
   {
    "duration": 33,
    "start_time": "2022-01-24T08:25:58.935Z"
   },
   {
    "duration": 50,
    "start_time": "2022-01-24T08:25:58.971Z"
   },
   {
    "duration": 5,
    "start_time": "2022-01-24T08:25:59.024Z"
   },
   {
    "duration": 101,
    "start_time": "2022-01-24T08:25:59.031Z"
   },
   {
    "duration": 13,
    "start_time": "2022-01-24T08:25:59.135Z"
   },
   {
    "duration": 26,
    "start_time": "2022-01-24T08:25:59.164Z"
   },
   {
    "duration": 17,
    "start_time": "2022-01-24T08:25:59.192Z"
   },
   {
    "duration": 53,
    "start_time": "2022-01-24T08:25:59.211Z"
   },
   {
    "duration": 35,
    "start_time": "2022-01-24T08:25:59.267Z"
   },
   {
    "duration": 13,
    "start_time": "2022-01-24T08:25:59.304Z"
   },
   {
    "duration": 45,
    "start_time": "2022-01-24T08:25:59.320Z"
   },
   {
    "duration": 43,
    "start_time": "2022-01-24T08:25:59.367Z"
   },
   {
    "duration": 55,
    "start_time": "2022-01-24T08:25:59.413Z"
   },
   {
    "duration": 25,
    "start_time": "2022-01-24T08:25:59.470Z"
   },
   {
    "duration": 9,
    "start_time": "2022-01-24T08:25:59.499Z"
   },
   {
    "duration": 117,
    "start_time": "2022-01-24T08:25:59.511Z"
   },
   {
    "duration": 92,
    "start_time": "2022-01-24T08:25:59.631Z"
   },
   {
    "duration": 749,
    "start_time": "2022-01-24T08:25:59.725Z"
   },
   {
    "duration": 91,
    "start_time": "2022-01-24T08:26:00.476Z"
   },
   {
    "duration": 171,
    "start_time": "2022-01-24T08:26:00.570Z"
   },
   {
    "duration": 130,
    "start_time": "2022-01-24T08:26:00.744Z"
   },
   {
    "duration": 1120,
    "start_time": "2022-01-24T08:26:00.877Z"
   },
   {
    "duration": 7,
    "start_time": "2022-01-24T08:26:01.999Z"
   },
   {
    "duration": 11,
    "start_time": "2022-01-24T08:26:02.008Z"
   },
   {
    "duration": 122,
    "start_time": "2022-01-24T08:26:02.022Z"
   },
   {
    "duration": 54,
    "start_time": "2022-01-24T08:26:02.146Z"
   },
   {
    "duration": 596,
    "start_time": "2022-01-24T08:26:02.203Z"
   },
   {
    "duration": 99,
    "start_time": "2022-01-24T08:26:02.802Z"
   },
   {
    "duration": 181,
    "start_time": "2022-01-24T08:26:02.724Z"
   },
   {
    "duration": 162,
    "start_time": "2022-01-24T08:26:02.745Z"
   },
   {
    "duration": 159,
    "start_time": "2022-01-24T08:26:02.750Z"
   },
   {
    "duration": 153,
    "start_time": "2022-01-24T08:26:02.758Z"
   },
   {
    "duration": 152,
    "start_time": "2022-01-24T08:26:02.760Z"
   },
   {
    "duration": 152,
    "start_time": "2022-01-24T08:26:02.762Z"
   },
   {
    "duration": 151,
    "start_time": "2022-01-24T08:26:02.765Z"
   },
   {
    "duration": 147,
    "start_time": "2022-01-24T08:26:02.771Z"
   },
   {
    "duration": 145,
    "start_time": "2022-01-24T08:26:02.774Z"
   },
   {
    "duration": 1931,
    "start_time": "2022-01-24T08:34:10.511Z"
   },
   {
    "duration": 40,
    "start_time": "2022-01-24T08:34:12.444Z"
   },
   {
    "duration": 21,
    "start_time": "2022-01-24T08:34:12.487Z"
   },
   {
    "duration": 9,
    "start_time": "2022-01-24T08:34:12.511Z"
   },
   {
    "duration": 325,
    "start_time": "2022-01-24T08:34:12.522Z"
   },
   {
    "duration": 50,
    "start_time": "2022-01-24T08:34:12.849Z"
   },
   {
    "duration": 6,
    "start_time": "2022-01-24T08:34:12.901Z"
   },
   {
    "duration": 65,
    "start_time": "2022-01-24T08:34:12.910Z"
   },
   {
    "duration": 8,
    "start_time": "2022-01-24T08:34:12.979Z"
   },
   {
    "duration": 52,
    "start_time": "2022-01-24T08:34:12.990Z"
   },
   {
    "duration": 6,
    "start_time": "2022-01-24T08:34:13.064Z"
   },
   {
    "duration": 106,
    "start_time": "2022-01-24T08:34:13.073Z"
   },
   {
    "duration": 12,
    "start_time": "2022-01-24T08:34:13.182Z"
   },
   {
    "duration": 27,
    "start_time": "2022-01-24T08:34:13.197Z"
   },
   {
    "duration": 50,
    "start_time": "2022-01-24T08:34:13.227Z"
   },
   {
    "duration": 32,
    "start_time": "2022-01-24T08:34:13.280Z"
   },
   {
    "duration": 70,
    "start_time": "2022-01-24T08:34:13.314Z"
   },
   {
    "duration": 16,
    "start_time": "2022-01-24T08:34:13.386Z"
   },
   {
    "duration": 19,
    "start_time": "2022-01-24T08:34:13.405Z"
   },
   {
    "duration": 84,
    "start_time": "2022-01-24T08:34:13.426Z"
   },
   {
    "duration": 25,
    "start_time": "2022-01-24T08:34:13.512Z"
   },
   {
    "duration": 46,
    "start_time": "2022-01-24T08:34:13.540Z"
   },
   {
    "duration": 6,
    "start_time": "2022-01-24T08:34:13.588Z"
   },
   {
    "duration": 118,
    "start_time": "2022-01-24T08:34:13.597Z"
   },
   {
    "duration": 94,
    "start_time": "2022-01-24T08:34:13.718Z"
   },
   {
    "duration": 743,
    "start_time": "2022-01-24T08:34:13.815Z"
   },
   {
    "duration": 65,
    "start_time": "2022-01-24T08:34:14.563Z"
   },
   {
    "duration": 166,
    "start_time": "2022-01-24T08:34:14.631Z"
   },
   {
    "duration": 109,
    "start_time": "2022-01-24T08:34:14.799Z"
   },
   {
    "duration": 1029,
    "start_time": "2022-01-24T08:34:14.910Z"
   },
   {
    "duration": 6,
    "start_time": "2022-01-24T08:34:15.942Z"
   },
   {
    "duration": 4,
    "start_time": "2022-01-24T08:34:15.965Z"
   },
   {
    "duration": 108,
    "start_time": "2022-01-24T08:34:15.971Z"
   },
   {
    "duration": 48,
    "start_time": "2022-01-24T08:34:16.081Z"
   },
   {
    "duration": 580,
    "start_time": "2022-01-24T08:34:16.132Z"
   },
   {
    "duration": 1247,
    "start_time": "2022-01-24T08:34:16.714Z"
   },
   {
    "duration": 44,
    "start_time": "2022-01-24T08:34:17.965Z"
   },
   {
    "duration": 22180,
    "start_time": "2022-01-24T08:34:18.011Z"
   },
   {
    "duration": 83,
    "start_time": "2022-01-24T08:34:40.193Z"
   },
   {
    "duration": 8,
    "start_time": "2022-01-24T08:34:40.279Z"
   },
   {
    "duration": 101,
    "start_time": "2022-01-24T08:34:40.289Z"
   },
   {
    "duration": 13,
    "start_time": "2022-01-24T08:34:40.393Z"
   },
   {
    "duration": 92,
    "start_time": "2022-01-24T08:34:40.410Z"
   },
   {
    "duration": 79,
    "start_time": "2022-01-24T08:34:40.506Z"
   }
  ],
  "kernelspec": {
   "display_name": "Python 3 (ipykernel)",
   "language": "python",
   "name": "python3"
  },
  "language_info": {
   "codemirror_mode": {
    "name": "ipython",
    "version": 3
   },
   "file_extension": ".py",
   "mimetype": "text/x-python",
   "name": "python",
   "nbconvert_exporter": "python",
   "pygments_lexer": "ipython3",
   "version": "3.9.5"
  },
  "toc": {
   "base_numbering": 1,
   "nav_menu": {},
   "number_sections": true,
   "sideBar": true,
   "skip_h1_title": false,
   "title_cell": "Содержание",
   "title_sidebar": "Contents",
   "toc_cell": true,
   "toc_position": {},
   "toc_section_display": true,
   "toc_window_display": false
  }
 },
 "nbformat": 4,
 "nbformat_minor": 5
}
